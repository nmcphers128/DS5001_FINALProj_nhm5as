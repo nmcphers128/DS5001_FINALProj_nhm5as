{
  "cells": [
    {
      "cell_type": "markdown",
      "metadata": {
        "id": "view-in-github",
        "colab_type": "text"
      },
      "source": [
        "<a href=\"https://colab.research.google.com/github/nmcphers128/DS5001_FINALProj_nhm5as/blob/main/FinalProj_M09_03_word2vec.ipynb\" target=\"_parent\"><img src=\"https://colab.research.google.com/assets/colab-badge.svg\" alt=\"Open In Colab\"/></a>"
      ]
    },
    {
      "cell_type": "markdown",
      "metadata": {
        "id": "WOF7fEf2Q3LN"
      },
      "source": [
        "# Module 9: Word2Vec -- Neil McPherson Final Proj work on Word Embeddings in Sci Fi Novels as a corpus\n",
        "\n",
        "* DS 5001\n",
        "* from the orig by Raf Alvarado and modified for finalProj by Neil McPherson\n",
        "\n",
        "We create word embeddings with novel data using word2vec and visualize results with tSNE."
      ]
    },
    {
      "cell_type": "markdown",
      "metadata": {
        "id": "0sF5hGZiQ3LO"
      },
      "source": [
        "# Set Up"
      ]
    },
    {
      "cell_type": "markdown",
      "metadata": {
        "id": "oLXlUYU8Q3LP"
      },
      "source": [
        "## Configuration"
      ]
    },
    {
      "cell_type": "code",
      "execution_count": null,
      "metadata": {
        "id": "LMwtxSruQ3LP"
      },
      "outputs": [],
      "source": [
        "OHCO = ['book_id', 'chap_num', 'para_num', 'sent_num', 'token_num']\n",
        "BAG = OHCO[:2] # Paragraphs\n",
        "# BAG = OHCO[:5] # Sentences\n",
        "window = 5\n",
        "input_dir = \"/content/drive/MyDrive/DS5001_finalProj/outputFiles/\""
      ]
    },
    {
      "cell_type": "code",
      "source": [
        "# prompt: connect google drive\n",
        "\n",
        "from google.colab import drive\n",
        "#drive.mount('/content/drive')\n"
      ],
      "metadata": {
        "id": "VfVCPz9bQ5OA"
      },
      "execution_count": null,
      "outputs": []
    },
    {
      "cell_type": "markdown",
      "metadata": {
        "id": "1-z9Sgv2Q3LP"
      },
      "source": [
        "## Imports"
      ]
    },
    {
      "cell_type": "code",
      "execution_count": null,
      "metadata": {
        "id": "9DRYwX_MQ3LP"
      },
      "outputs": [],
      "source": [
        "import pandas as pd\n",
        "import numpy as np\n",
        "from gensim.models import word2vec\n",
        "from sklearn.manifold import TSNE\n",
        "#!pip install plotly_express\n",
        "import plotly_express as px"
      ]
    },
    {
      "cell_type": "code",
      "execution_count": null,
      "metadata": {
        "id": "rjkGsvs3Q3LP"
      },
      "outputs": [],
      "source": [
        "%matplotlib inline"
      ]
    },
    {
      "cell_type": "markdown",
      "metadata": {
        "id": "UIbQR1N5Q3LP"
      },
      "source": [
        "# Process"
      ]
    },
    {
      "cell_type": "markdown",
      "metadata": {
        "id": "wXsPci3oQ3LQ"
      },
      "source": [
        "## Import TOKENS and convert to a corpus for Gensim\n",
        "\n",
        "We import data from the TOKEN table of the novels corpus, excluding proper nouns."
      ]
    },
    {
      "cell_type": "code",
      "execution_count": null,
      "metadata": {
        "id": "ye6oufZiQ3LQ"
      },
      "outputs": [],
      "source": [
        "TOKENS = pd.read_csv(input_dir + 'TOKEN2.csv').set_index(OHCO)"
      ]
    },
    {
      "cell_type": "code",
      "execution_count": null,
      "metadata": {
        "colab": {
          "base_uri": "https://localhost:8080/",
          "height": 237
        },
        "id": "guXbEq35Q3LQ",
        "outputId": "f48b0ed4-0316-4478-b4c1-38fb0181c14d"
      },
      "outputs": [
        {
          "output_type": "execute_result",
          "data": {
            "text/plain": [
              "                                                         pos_tuple   pos  \\\n",
              "book_id chap_num para_num sent_num token_num                               \n",
              "201     1        1        0        0                  ('I', 'PRP')   PRP   \n",
              "                                   1               ('call', 'VBP')   VBP   \n",
              "                                   2               ('our', 'PRP$')  PRP$   \n",
              "                                   3               ('world', 'NN')    NN   \n",
              "                                   4          ('Flatland,', 'NNP')   NNP   \n",
              "\n",
              "                                              token_str  term_str  term_id  \n",
              "book_id chap_num para_num sent_num token_num                                \n",
              "201     1        1        0        0                  I         i    13814  \n",
              "                                   1               call      call     4124  \n",
              "                                   2                our       our    19395  \n",
              "                                   3              world     world    31242  \n",
              "                                   4          Flatland,  flatland    10824  "
            ],
            "text/html": [
              "\n",
              "  <div id=\"df-3e5d02d9-d1da-41b4-9feb-39fe687573c7\" class=\"colab-df-container\">\n",
              "    <div>\n",
              "<style scoped>\n",
              "    .dataframe tbody tr th:only-of-type {\n",
              "        vertical-align: middle;\n",
              "    }\n",
              "\n",
              "    .dataframe tbody tr th {\n",
              "        vertical-align: top;\n",
              "    }\n",
              "\n",
              "    .dataframe thead th {\n",
              "        text-align: right;\n",
              "    }\n",
              "</style>\n",
              "<table border=\"1\" class=\"dataframe\">\n",
              "  <thead>\n",
              "    <tr style=\"text-align: right;\">\n",
              "      <th></th>\n",
              "      <th></th>\n",
              "      <th></th>\n",
              "      <th></th>\n",
              "      <th></th>\n",
              "      <th>pos_tuple</th>\n",
              "      <th>pos</th>\n",
              "      <th>token_str</th>\n",
              "      <th>term_str</th>\n",
              "      <th>term_id</th>\n",
              "    </tr>\n",
              "    <tr>\n",
              "      <th>book_id</th>\n",
              "      <th>chap_num</th>\n",
              "      <th>para_num</th>\n",
              "      <th>sent_num</th>\n",
              "      <th>token_num</th>\n",
              "      <th></th>\n",
              "      <th></th>\n",
              "      <th></th>\n",
              "      <th></th>\n",
              "      <th></th>\n",
              "    </tr>\n",
              "  </thead>\n",
              "  <tbody>\n",
              "    <tr>\n",
              "      <th rowspan=\"5\" valign=\"top\">201</th>\n",
              "      <th rowspan=\"5\" valign=\"top\">1</th>\n",
              "      <th rowspan=\"5\" valign=\"top\">1</th>\n",
              "      <th rowspan=\"5\" valign=\"top\">0</th>\n",
              "      <th>0</th>\n",
              "      <td>('I', 'PRP')</td>\n",
              "      <td>PRP</td>\n",
              "      <td>I</td>\n",
              "      <td>i</td>\n",
              "      <td>13814</td>\n",
              "    </tr>\n",
              "    <tr>\n",
              "      <th>1</th>\n",
              "      <td>('call', 'VBP')</td>\n",
              "      <td>VBP</td>\n",
              "      <td>call</td>\n",
              "      <td>call</td>\n",
              "      <td>4124</td>\n",
              "    </tr>\n",
              "    <tr>\n",
              "      <th>2</th>\n",
              "      <td>('our', 'PRP$')</td>\n",
              "      <td>PRP$</td>\n",
              "      <td>our</td>\n",
              "      <td>our</td>\n",
              "      <td>19395</td>\n",
              "    </tr>\n",
              "    <tr>\n",
              "      <th>3</th>\n",
              "      <td>('world', 'NN')</td>\n",
              "      <td>NN</td>\n",
              "      <td>world</td>\n",
              "      <td>world</td>\n",
              "      <td>31242</td>\n",
              "    </tr>\n",
              "    <tr>\n",
              "      <th>4</th>\n",
              "      <td>('Flatland,', 'NNP')</td>\n",
              "      <td>NNP</td>\n",
              "      <td>Flatland,</td>\n",
              "      <td>flatland</td>\n",
              "      <td>10824</td>\n",
              "    </tr>\n",
              "  </tbody>\n",
              "</table>\n",
              "</div>\n",
              "    <div class=\"colab-df-buttons\">\n",
              "\n",
              "  <div class=\"colab-df-container\">\n",
              "    <button class=\"colab-df-convert\" onclick=\"convertToInteractive('df-3e5d02d9-d1da-41b4-9feb-39fe687573c7')\"\n",
              "            title=\"Convert this dataframe to an interactive table.\"\n",
              "            style=\"display:none;\">\n",
              "\n",
              "  <svg xmlns=\"http://www.w3.org/2000/svg\" height=\"24px\" viewBox=\"0 -960 960 960\">\n",
              "    <path d=\"M120-120v-720h720v720H120Zm60-500h600v-160H180v160Zm220 220h160v-160H400v160Zm0 220h160v-160H400v160ZM180-400h160v-160H180v160Zm440 0h160v-160H620v160ZM180-180h160v-160H180v160Zm440 0h160v-160H620v160Z\"/>\n",
              "  </svg>\n",
              "    </button>\n",
              "\n",
              "  <style>\n",
              "    .colab-df-container {\n",
              "      display:flex;\n",
              "      gap: 12px;\n",
              "    }\n",
              "\n",
              "    .colab-df-convert {\n",
              "      background-color: #E8F0FE;\n",
              "      border: none;\n",
              "      border-radius: 50%;\n",
              "      cursor: pointer;\n",
              "      display: none;\n",
              "      fill: #1967D2;\n",
              "      height: 32px;\n",
              "      padding: 0 0 0 0;\n",
              "      width: 32px;\n",
              "    }\n",
              "\n",
              "    .colab-df-convert:hover {\n",
              "      background-color: #E2EBFA;\n",
              "      box-shadow: 0px 1px 2px rgba(60, 64, 67, 0.3), 0px 1px 3px 1px rgba(60, 64, 67, 0.15);\n",
              "      fill: #174EA6;\n",
              "    }\n",
              "\n",
              "    .colab-df-buttons div {\n",
              "      margin-bottom: 4px;\n",
              "    }\n",
              "\n",
              "    [theme=dark] .colab-df-convert {\n",
              "      background-color: #3B4455;\n",
              "      fill: #D2E3FC;\n",
              "    }\n",
              "\n",
              "    [theme=dark] .colab-df-convert:hover {\n",
              "      background-color: #434B5C;\n",
              "      box-shadow: 0px 1px 3px 1px rgba(0, 0, 0, 0.15);\n",
              "      filter: drop-shadow(0px 1px 2px rgba(0, 0, 0, 0.3));\n",
              "      fill: #FFFFFF;\n",
              "    }\n",
              "  </style>\n",
              "\n",
              "    <script>\n",
              "      const buttonEl =\n",
              "        document.querySelector('#df-3e5d02d9-d1da-41b4-9feb-39fe687573c7 button.colab-df-convert');\n",
              "      buttonEl.style.display =\n",
              "        google.colab.kernel.accessAllowed ? 'block' : 'none';\n",
              "\n",
              "      async function convertToInteractive(key) {\n",
              "        const element = document.querySelector('#df-3e5d02d9-d1da-41b4-9feb-39fe687573c7');\n",
              "        const dataTable =\n",
              "          await google.colab.kernel.invokeFunction('convertToInteractive',\n",
              "                                                    [key], {});\n",
              "        if (!dataTable) return;\n",
              "\n",
              "        const docLinkHtml = 'Like what you see? Visit the ' +\n",
              "          '<a target=\"_blank\" href=https://colab.research.google.com/notebooks/data_table.ipynb>data table notebook</a>'\n",
              "          + ' to learn more about interactive tables.';\n",
              "        element.innerHTML = '';\n",
              "        dataTable['output_type'] = 'display_data';\n",
              "        await google.colab.output.renderOutput(dataTable, element);\n",
              "        const docLink = document.createElement('div');\n",
              "        docLink.innerHTML = docLinkHtml;\n",
              "        element.appendChild(docLink);\n",
              "      }\n",
              "    </script>\n",
              "  </div>\n",
              "\n",
              "\n",
              "<div id=\"df-3bc202a5-a689-4a29-89d1-1f118aa4815b\">\n",
              "  <button class=\"colab-df-quickchart\" onclick=\"quickchart('df-3bc202a5-a689-4a29-89d1-1f118aa4815b')\"\n",
              "            title=\"Suggest charts\"\n",
              "            style=\"display:none;\">\n",
              "\n",
              "<svg xmlns=\"http://www.w3.org/2000/svg\" height=\"24px\"viewBox=\"0 0 24 24\"\n",
              "     width=\"24px\">\n",
              "    <g>\n",
              "        <path d=\"M19 3H5c-1.1 0-2 .9-2 2v14c0 1.1.9 2 2 2h14c1.1 0 2-.9 2-2V5c0-1.1-.9-2-2-2zM9 17H7v-7h2v7zm4 0h-2V7h2v10zm4 0h-2v-4h2v4z\"/>\n",
              "    </g>\n",
              "</svg>\n",
              "  </button>\n",
              "\n",
              "<style>\n",
              "  .colab-df-quickchart {\n",
              "      --bg-color: #E8F0FE;\n",
              "      --fill-color: #1967D2;\n",
              "      --hover-bg-color: #E2EBFA;\n",
              "      --hover-fill-color: #174EA6;\n",
              "      --disabled-fill-color: #AAA;\n",
              "      --disabled-bg-color: #DDD;\n",
              "  }\n",
              "\n",
              "  [theme=dark] .colab-df-quickchart {\n",
              "      --bg-color: #3B4455;\n",
              "      --fill-color: #D2E3FC;\n",
              "      --hover-bg-color: #434B5C;\n",
              "      --hover-fill-color: #FFFFFF;\n",
              "      --disabled-bg-color: #3B4455;\n",
              "      --disabled-fill-color: #666;\n",
              "  }\n",
              "\n",
              "  .colab-df-quickchart {\n",
              "    background-color: var(--bg-color);\n",
              "    border: none;\n",
              "    border-radius: 50%;\n",
              "    cursor: pointer;\n",
              "    display: none;\n",
              "    fill: var(--fill-color);\n",
              "    height: 32px;\n",
              "    padding: 0;\n",
              "    width: 32px;\n",
              "  }\n",
              "\n",
              "  .colab-df-quickchart:hover {\n",
              "    background-color: var(--hover-bg-color);\n",
              "    box-shadow: 0 1px 2px rgba(60, 64, 67, 0.3), 0 1px 3px 1px rgba(60, 64, 67, 0.15);\n",
              "    fill: var(--button-hover-fill-color);\n",
              "  }\n",
              "\n",
              "  .colab-df-quickchart-complete:disabled,\n",
              "  .colab-df-quickchart-complete:disabled:hover {\n",
              "    background-color: var(--disabled-bg-color);\n",
              "    fill: var(--disabled-fill-color);\n",
              "    box-shadow: none;\n",
              "  }\n",
              "\n",
              "  .colab-df-spinner {\n",
              "    border: 2px solid var(--fill-color);\n",
              "    border-color: transparent;\n",
              "    border-bottom-color: var(--fill-color);\n",
              "    animation:\n",
              "      spin 1s steps(1) infinite;\n",
              "  }\n",
              "\n",
              "  @keyframes spin {\n",
              "    0% {\n",
              "      border-color: transparent;\n",
              "      border-bottom-color: var(--fill-color);\n",
              "      border-left-color: var(--fill-color);\n",
              "    }\n",
              "    20% {\n",
              "      border-color: transparent;\n",
              "      border-left-color: var(--fill-color);\n",
              "      border-top-color: var(--fill-color);\n",
              "    }\n",
              "    30% {\n",
              "      border-color: transparent;\n",
              "      border-left-color: var(--fill-color);\n",
              "      border-top-color: var(--fill-color);\n",
              "      border-right-color: var(--fill-color);\n",
              "    }\n",
              "    40% {\n",
              "      border-color: transparent;\n",
              "      border-right-color: var(--fill-color);\n",
              "      border-top-color: var(--fill-color);\n",
              "    }\n",
              "    60% {\n",
              "      border-color: transparent;\n",
              "      border-right-color: var(--fill-color);\n",
              "    }\n",
              "    80% {\n",
              "      border-color: transparent;\n",
              "      border-right-color: var(--fill-color);\n",
              "      border-bottom-color: var(--fill-color);\n",
              "    }\n",
              "    90% {\n",
              "      border-color: transparent;\n",
              "      border-bottom-color: var(--fill-color);\n",
              "    }\n",
              "  }\n",
              "</style>\n",
              "\n",
              "  <script>\n",
              "    async function quickchart(key) {\n",
              "      const quickchartButtonEl =\n",
              "        document.querySelector('#' + key + ' button');\n",
              "      quickchartButtonEl.disabled = true;  // To prevent multiple clicks.\n",
              "      quickchartButtonEl.classList.add('colab-df-spinner');\n",
              "      try {\n",
              "        const charts = await google.colab.kernel.invokeFunction(\n",
              "            'suggestCharts', [key], {});\n",
              "      } catch (error) {\n",
              "        console.error('Error during call to suggestCharts:', error);\n",
              "      }\n",
              "      quickchartButtonEl.classList.remove('colab-df-spinner');\n",
              "      quickchartButtonEl.classList.add('colab-df-quickchart-complete');\n",
              "    }\n",
              "    (() => {\n",
              "      let quickchartButtonEl =\n",
              "        document.querySelector('#df-3bc202a5-a689-4a29-89d1-1f118aa4815b button');\n",
              "      quickchartButtonEl.style.display =\n",
              "        google.colab.kernel.accessAllowed ? 'block' : 'none';\n",
              "    })();\n",
              "  </script>\n",
              "</div>\n",
              "\n",
              "    </div>\n",
              "  </div>\n"
            ],
            "application/vnd.google.colaboratory.intrinsic+json": {
              "type": "dataframe",
              "variable_name": "TOKENS"
            }
          },
          "metadata": {},
          "execution_count": 12
        }
      ],
      "source": [
        "TOKENS.head()"
      ]
    },
    {
      "cell_type": "code",
      "execution_count": null,
      "metadata": {
        "id": "e9BIuXsqQ3LQ"
      },
      "outputs": [],
      "source": [
        "corpus = TOKENS[~TOKENS.pos.str.match('NNPS?')]\\\n",
        "    .groupby(BAG)\\\n",
        "    .term_str.apply(lambda  x:  x.tolist())\\\n",
        "    .reset_index()['term_str'].tolist()"
      ]
    },
    {
      "cell_type": "code",
      "execution_count": null,
      "metadata": {
        "id": "PzbDqJ-nQ3LQ"
      },
      "outputs": [],
      "source": [
        "#corpus"
      ]
    },
    {
      "cell_type": "markdown",
      "metadata": {
        "id": "-J8AN3R8Q3LQ"
      },
      "source": [
        "## Generate word embeddings with Gensim's library"
      ]
    },
    {
      "cell_type": "code",
      "execution_count": null,
      "metadata": {
        "id": "hGKjdQ3GQ3LQ"
      },
      "outputs": [],
      "source": [
        "model = word2vec.Word2Vec(corpus, vector_size=246, window=window, min_count=200, workers=4)"
      ]
    },
    {
      "cell_type": "markdown",
      "metadata": {
        "id": "sgg8fF_KQ3LQ"
      },
      "source": [
        "## Visualize with tSNE"
      ]
    },
    {
      "cell_type": "markdown",
      "metadata": {
        "id": "_V-05oOfQ3LQ"
      },
      "source": [
        "### Generate coordinates to plot"
      ]
    },
    {
      "cell_type": "code",
      "execution_count": null,
      "metadata": {
        "id": "HjjH5ArgQ3LQ"
      },
      "outputs": [],
      "source": [
        "words = list(model.wv.index_to_key)   ### Neils hack to get the words out as they eliminated the attribute for\n",
        "coords = pd.DataFrame(index=range(len(words)))\n"
      ]
    },
    {
      "cell_type": "code",
      "execution_count": null,
      "metadata": {
        "id": "Xp2X8N8BQ3LQ"
      },
      "outputs": [],
      "source": [
        "coords['label'] = [w for w in words]\n",
        "coords['vector'] = coords['label'].apply(lambda x: model.wv.get_vector(x))"
      ]
    },
    {
      "cell_type": "code",
      "execution_count": null,
      "metadata": {
        "colab": {
          "base_uri": "https://localhost:8080/",
          "height": 206
        },
        "id": "a-ZdECzFQ3LQ",
        "outputId": "9054a402-922d-4201-b5db-9272f56d31f0"
      },
      "outputs": [
        {
          "output_type": "execute_result",
          "data": {
            "text/plain": [
              "  label                                             vector\n",
              "0   the  [0.09223459, 0.23895992, 0.43558276, -0.125412...\n",
              "1   and  [-0.19047944, 0.16385114, 0.013735715, -0.0535...\n",
              "2    of  [-0.19079347, 0.29703873, 0.16622424, -0.12320...\n",
              "3    to  [-0.72444695, -0.40828565, 0.2088216, -0.00032...\n",
              "4     a  [-0.1588598, -0.33320782, -0.6935593, -0.27226..."
            ],
            "text/html": [
              "\n",
              "  <div id=\"df-61be9212-03ea-473e-81f2-157bebc44098\" class=\"colab-df-container\">\n",
              "    <div>\n",
              "<style scoped>\n",
              "    .dataframe tbody tr th:only-of-type {\n",
              "        vertical-align: middle;\n",
              "    }\n",
              "\n",
              "    .dataframe tbody tr th {\n",
              "        vertical-align: top;\n",
              "    }\n",
              "\n",
              "    .dataframe thead th {\n",
              "        text-align: right;\n",
              "    }\n",
              "</style>\n",
              "<table border=\"1\" class=\"dataframe\">\n",
              "  <thead>\n",
              "    <tr style=\"text-align: right;\">\n",
              "      <th></th>\n",
              "      <th>label</th>\n",
              "      <th>vector</th>\n",
              "    </tr>\n",
              "  </thead>\n",
              "  <tbody>\n",
              "    <tr>\n",
              "      <th>0</th>\n",
              "      <td>the</td>\n",
              "      <td>[0.09223459, 0.23895992, 0.43558276, -0.125412...</td>\n",
              "    </tr>\n",
              "    <tr>\n",
              "      <th>1</th>\n",
              "      <td>and</td>\n",
              "      <td>[-0.19047944, 0.16385114, 0.013735715, -0.0535...</td>\n",
              "    </tr>\n",
              "    <tr>\n",
              "      <th>2</th>\n",
              "      <td>of</td>\n",
              "      <td>[-0.19079347, 0.29703873, 0.16622424, -0.12320...</td>\n",
              "    </tr>\n",
              "    <tr>\n",
              "      <th>3</th>\n",
              "      <td>to</td>\n",
              "      <td>[-0.72444695, -0.40828565, 0.2088216, -0.00032...</td>\n",
              "    </tr>\n",
              "    <tr>\n",
              "      <th>4</th>\n",
              "      <td>a</td>\n",
              "      <td>[-0.1588598, -0.33320782, -0.6935593, -0.27226...</td>\n",
              "    </tr>\n",
              "  </tbody>\n",
              "</table>\n",
              "</div>\n",
              "    <div class=\"colab-df-buttons\">\n",
              "\n",
              "  <div class=\"colab-df-container\">\n",
              "    <button class=\"colab-df-convert\" onclick=\"convertToInteractive('df-61be9212-03ea-473e-81f2-157bebc44098')\"\n",
              "            title=\"Convert this dataframe to an interactive table.\"\n",
              "            style=\"display:none;\">\n",
              "\n",
              "  <svg xmlns=\"http://www.w3.org/2000/svg\" height=\"24px\" viewBox=\"0 -960 960 960\">\n",
              "    <path d=\"M120-120v-720h720v720H120Zm60-500h600v-160H180v160Zm220 220h160v-160H400v160Zm0 220h160v-160H400v160ZM180-400h160v-160H180v160Zm440 0h160v-160H620v160ZM180-180h160v-160H180v160Zm440 0h160v-160H620v160Z\"/>\n",
              "  </svg>\n",
              "    </button>\n",
              "\n",
              "  <style>\n",
              "    .colab-df-container {\n",
              "      display:flex;\n",
              "      gap: 12px;\n",
              "    }\n",
              "\n",
              "    .colab-df-convert {\n",
              "      background-color: #E8F0FE;\n",
              "      border: none;\n",
              "      border-radius: 50%;\n",
              "      cursor: pointer;\n",
              "      display: none;\n",
              "      fill: #1967D2;\n",
              "      height: 32px;\n",
              "      padding: 0 0 0 0;\n",
              "      width: 32px;\n",
              "    }\n",
              "\n",
              "    .colab-df-convert:hover {\n",
              "      background-color: #E2EBFA;\n",
              "      box-shadow: 0px 1px 2px rgba(60, 64, 67, 0.3), 0px 1px 3px 1px rgba(60, 64, 67, 0.15);\n",
              "      fill: #174EA6;\n",
              "    }\n",
              "\n",
              "    .colab-df-buttons div {\n",
              "      margin-bottom: 4px;\n",
              "    }\n",
              "\n",
              "    [theme=dark] .colab-df-convert {\n",
              "      background-color: #3B4455;\n",
              "      fill: #D2E3FC;\n",
              "    }\n",
              "\n",
              "    [theme=dark] .colab-df-convert:hover {\n",
              "      background-color: #434B5C;\n",
              "      box-shadow: 0px 1px 3px 1px rgba(0, 0, 0, 0.15);\n",
              "      filter: drop-shadow(0px 1px 2px rgba(0, 0, 0, 0.3));\n",
              "      fill: #FFFFFF;\n",
              "    }\n",
              "  </style>\n",
              "\n",
              "    <script>\n",
              "      const buttonEl =\n",
              "        document.querySelector('#df-61be9212-03ea-473e-81f2-157bebc44098 button.colab-df-convert');\n",
              "      buttonEl.style.display =\n",
              "        google.colab.kernel.accessAllowed ? 'block' : 'none';\n",
              "\n",
              "      async function convertToInteractive(key) {\n",
              "        const element = document.querySelector('#df-61be9212-03ea-473e-81f2-157bebc44098');\n",
              "        const dataTable =\n",
              "          await google.colab.kernel.invokeFunction('convertToInteractive',\n",
              "                                                    [key], {});\n",
              "        if (!dataTable) return;\n",
              "\n",
              "        const docLinkHtml = 'Like what you see? Visit the ' +\n",
              "          '<a target=\"_blank\" href=https://colab.research.google.com/notebooks/data_table.ipynb>data table notebook</a>'\n",
              "          + ' to learn more about interactive tables.';\n",
              "        element.innerHTML = '';\n",
              "        dataTable['output_type'] = 'display_data';\n",
              "        await google.colab.output.renderOutput(dataTable, element);\n",
              "        const docLink = document.createElement('div');\n",
              "        docLink.innerHTML = docLinkHtml;\n",
              "        element.appendChild(docLink);\n",
              "      }\n",
              "    </script>\n",
              "  </div>\n",
              "\n",
              "\n",
              "<div id=\"df-8acea51b-22b8-4306-9693-b49b3cdf70ee\">\n",
              "  <button class=\"colab-df-quickchart\" onclick=\"quickchart('df-8acea51b-22b8-4306-9693-b49b3cdf70ee')\"\n",
              "            title=\"Suggest charts\"\n",
              "            style=\"display:none;\">\n",
              "\n",
              "<svg xmlns=\"http://www.w3.org/2000/svg\" height=\"24px\"viewBox=\"0 0 24 24\"\n",
              "     width=\"24px\">\n",
              "    <g>\n",
              "        <path d=\"M19 3H5c-1.1 0-2 .9-2 2v14c0 1.1.9 2 2 2h14c1.1 0 2-.9 2-2V5c0-1.1-.9-2-2-2zM9 17H7v-7h2v7zm4 0h-2V7h2v10zm4 0h-2v-4h2v4z\"/>\n",
              "    </g>\n",
              "</svg>\n",
              "  </button>\n",
              "\n",
              "<style>\n",
              "  .colab-df-quickchart {\n",
              "      --bg-color: #E8F0FE;\n",
              "      --fill-color: #1967D2;\n",
              "      --hover-bg-color: #E2EBFA;\n",
              "      --hover-fill-color: #174EA6;\n",
              "      --disabled-fill-color: #AAA;\n",
              "      --disabled-bg-color: #DDD;\n",
              "  }\n",
              "\n",
              "  [theme=dark] .colab-df-quickchart {\n",
              "      --bg-color: #3B4455;\n",
              "      --fill-color: #D2E3FC;\n",
              "      --hover-bg-color: #434B5C;\n",
              "      --hover-fill-color: #FFFFFF;\n",
              "      --disabled-bg-color: #3B4455;\n",
              "      --disabled-fill-color: #666;\n",
              "  }\n",
              "\n",
              "  .colab-df-quickchart {\n",
              "    background-color: var(--bg-color);\n",
              "    border: none;\n",
              "    border-radius: 50%;\n",
              "    cursor: pointer;\n",
              "    display: none;\n",
              "    fill: var(--fill-color);\n",
              "    height: 32px;\n",
              "    padding: 0;\n",
              "    width: 32px;\n",
              "  }\n",
              "\n",
              "  .colab-df-quickchart:hover {\n",
              "    background-color: var(--hover-bg-color);\n",
              "    box-shadow: 0 1px 2px rgba(60, 64, 67, 0.3), 0 1px 3px 1px rgba(60, 64, 67, 0.15);\n",
              "    fill: var(--button-hover-fill-color);\n",
              "  }\n",
              "\n",
              "  .colab-df-quickchart-complete:disabled,\n",
              "  .colab-df-quickchart-complete:disabled:hover {\n",
              "    background-color: var(--disabled-bg-color);\n",
              "    fill: var(--disabled-fill-color);\n",
              "    box-shadow: none;\n",
              "  }\n",
              "\n",
              "  .colab-df-spinner {\n",
              "    border: 2px solid var(--fill-color);\n",
              "    border-color: transparent;\n",
              "    border-bottom-color: var(--fill-color);\n",
              "    animation:\n",
              "      spin 1s steps(1) infinite;\n",
              "  }\n",
              "\n",
              "  @keyframes spin {\n",
              "    0% {\n",
              "      border-color: transparent;\n",
              "      border-bottom-color: var(--fill-color);\n",
              "      border-left-color: var(--fill-color);\n",
              "    }\n",
              "    20% {\n",
              "      border-color: transparent;\n",
              "      border-left-color: var(--fill-color);\n",
              "      border-top-color: var(--fill-color);\n",
              "    }\n",
              "    30% {\n",
              "      border-color: transparent;\n",
              "      border-left-color: var(--fill-color);\n",
              "      border-top-color: var(--fill-color);\n",
              "      border-right-color: var(--fill-color);\n",
              "    }\n",
              "    40% {\n",
              "      border-color: transparent;\n",
              "      border-right-color: var(--fill-color);\n",
              "      border-top-color: var(--fill-color);\n",
              "    }\n",
              "    60% {\n",
              "      border-color: transparent;\n",
              "      border-right-color: var(--fill-color);\n",
              "    }\n",
              "    80% {\n",
              "      border-color: transparent;\n",
              "      border-right-color: var(--fill-color);\n",
              "      border-bottom-color: var(--fill-color);\n",
              "    }\n",
              "    90% {\n",
              "      border-color: transparent;\n",
              "      border-bottom-color: var(--fill-color);\n",
              "    }\n",
              "  }\n",
              "</style>\n",
              "\n",
              "  <script>\n",
              "    async function quickchart(key) {\n",
              "      const quickchartButtonEl =\n",
              "        document.querySelector('#' + key + ' button');\n",
              "      quickchartButtonEl.disabled = true;  // To prevent multiple clicks.\n",
              "      quickchartButtonEl.classList.add('colab-df-spinner');\n",
              "      try {\n",
              "        const charts = await google.colab.kernel.invokeFunction(\n",
              "            'suggestCharts', [key], {});\n",
              "      } catch (error) {\n",
              "        console.error('Error during call to suggestCharts:', error);\n",
              "      }\n",
              "      quickchartButtonEl.classList.remove('colab-df-spinner');\n",
              "      quickchartButtonEl.classList.add('colab-df-quickchart-complete');\n",
              "    }\n",
              "    (() => {\n",
              "      let quickchartButtonEl =\n",
              "        document.querySelector('#df-8acea51b-22b8-4306-9693-b49b3cdf70ee button');\n",
              "      quickchartButtonEl.style.display =\n",
              "        google.colab.kernel.accessAllowed ? 'block' : 'none';\n",
              "    })();\n",
              "  </script>\n",
              "</div>\n",
              "\n",
              "    </div>\n",
              "  </div>\n"
            ],
            "application/vnd.google.colaboratory.intrinsic+json": {
              "type": "dataframe",
              "variable_name": "coords",
              "summary": "{\n  \"name\": \"coords\",\n  \"rows\": 693,\n  \"fields\": [\n    {\n      \"column\": \"label\",\n      \"properties\": {\n        \"dtype\": \"string\",\n        \"num_unique_values\": 693,\n        \"samples\": [\n          \"known\",\n          \"wait\",\n          \"hour\"\n        ],\n        \"semantic_type\": \"\",\n        \"description\": \"\"\n      }\n    },\n    {\n      \"column\": \"vector\",\n      \"properties\": {\n        \"dtype\": \"object\",\n        \"semantic_type\": \"\",\n        \"description\": \"\"\n      }\n    }\n  ]\n}"
            }
          },
          "metadata": {},
          "execution_count": 18
        }
      ],
      "source": [
        "coords.head()"
      ]
    },
    {
      "cell_type": "code",
      "execution_count": null,
      "metadata": {
        "id": "aRChKZtiQ3LR"
      },
      "outputs": [],
      "source": [
        "X = coords['vector'].tolist()"
      ]
    },
    {
      "cell_type": "code",
      "execution_count": null,
      "metadata": {
        "id": "F41JNXqEQ3LR"
      },
      "outputs": [],
      "source": [
        "import numpy as np\n",
        "X = np.array(X)"
      ]
    },
    {
      "cell_type": "markdown",
      "metadata": {
        "id": "Nyn_oYOPQ3LR"
      },
      "source": [
        "### Use ScikitLearn's TSNE library"
      ]
    },
    {
      "cell_type": "code",
      "execution_count": null,
      "metadata": {
        "id": "Njvit8J2Q3LR"
      },
      "outputs": [],
      "source": [
        "tsne_model = TSNE(perplexity=40, n_components=2, init='pca', n_iter=2500, random_state=23)\n"
      ]
    },
    {
      "cell_type": "code",
      "execution_count": null,
      "metadata": {
        "id": "d85fYNs2Q3LR"
      },
      "outputs": [],
      "source": [
        "tsne_values = tsne_model.fit_transform(X)"
      ]
    },
    {
      "cell_type": "code",
      "execution_count": null,
      "metadata": {
        "id": "UN3LUMMmQ3LR"
      },
      "outputs": [],
      "source": [
        "coords['x'] = tsne_values[:,0]\n",
        "coords['y'] = tsne_values[:,1]"
      ]
    },
    {
      "cell_type": "code",
      "execution_count": null,
      "metadata": {
        "colab": {
          "base_uri": "https://localhost:8080/",
          "height": 206
        },
        "id": "Ip7PzHwmQ3LR",
        "outputId": "19eb9a76-a02b-4716-cc85-6ae5a6bb2b22"
      },
      "outputs": [
        {
          "output_type": "execute_result",
          "data": {
            "text/plain": [
              "  label                                             vector         x  \\\n",
              "0   the  [0.09223459, 0.23895992, 0.43558276, -0.125412... -9.934068   \n",
              "1   and  [-0.19047944, 0.16385114, 0.013735715, -0.0535...  4.000057   \n",
              "2    of  [-0.19079347, 0.29703873, 0.16622424, -0.12320... -9.777105   \n",
              "3    to  [-0.72444695, -0.40828565, 0.2088216, -0.00032... -5.506907   \n",
              "4     a  [-0.1588598, -0.33320782, -0.6935593, -0.27226... -5.289559   \n",
              "\n",
              "           y  \n",
              "0  -6.384760  \n",
              "1   6.383457  \n",
              "2  -0.038440  \n",
              "3  11.255379  \n",
              "4  -1.910845  "
            ],
            "text/html": [
              "\n",
              "  <div id=\"df-8d64a106-3d57-4581-85e4-bcf4d99de3c0\" class=\"colab-df-container\">\n",
              "    <div>\n",
              "<style scoped>\n",
              "    .dataframe tbody tr th:only-of-type {\n",
              "        vertical-align: middle;\n",
              "    }\n",
              "\n",
              "    .dataframe tbody tr th {\n",
              "        vertical-align: top;\n",
              "    }\n",
              "\n",
              "    .dataframe thead th {\n",
              "        text-align: right;\n",
              "    }\n",
              "</style>\n",
              "<table border=\"1\" class=\"dataframe\">\n",
              "  <thead>\n",
              "    <tr style=\"text-align: right;\">\n",
              "      <th></th>\n",
              "      <th>label</th>\n",
              "      <th>vector</th>\n",
              "      <th>x</th>\n",
              "      <th>y</th>\n",
              "    </tr>\n",
              "  </thead>\n",
              "  <tbody>\n",
              "    <tr>\n",
              "      <th>0</th>\n",
              "      <td>the</td>\n",
              "      <td>[0.09223459, 0.23895992, 0.43558276, -0.125412...</td>\n",
              "      <td>-9.934068</td>\n",
              "      <td>-6.384760</td>\n",
              "    </tr>\n",
              "    <tr>\n",
              "      <th>1</th>\n",
              "      <td>and</td>\n",
              "      <td>[-0.19047944, 0.16385114, 0.013735715, -0.0535...</td>\n",
              "      <td>4.000057</td>\n",
              "      <td>6.383457</td>\n",
              "    </tr>\n",
              "    <tr>\n",
              "      <th>2</th>\n",
              "      <td>of</td>\n",
              "      <td>[-0.19079347, 0.29703873, 0.16622424, -0.12320...</td>\n",
              "      <td>-9.777105</td>\n",
              "      <td>-0.038440</td>\n",
              "    </tr>\n",
              "    <tr>\n",
              "      <th>3</th>\n",
              "      <td>to</td>\n",
              "      <td>[-0.72444695, -0.40828565, 0.2088216, -0.00032...</td>\n",
              "      <td>-5.506907</td>\n",
              "      <td>11.255379</td>\n",
              "    </tr>\n",
              "    <tr>\n",
              "      <th>4</th>\n",
              "      <td>a</td>\n",
              "      <td>[-0.1588598, -0.33320782, -0.6935593, -0.27226...</td>\n",
              "      <td>-5.289559</td>\n",
              "      <td>-1.910845</td>\n",
              "    </tr>\n",
              "  </tbody>\n",
              "</table>\n",
              "</div>\n",
              "    <div class=\"colab-df-buttons\">\n",
              "\n",
              "  <div class=\"colab-df-container\">\n",
              "    <button class=\"colab-df-convert\" onclick=\"convertToInteractive('df-8d64a106-3d57-4581-85e4-bcf4d99de3c0')\"\n",
              "            title=\"Convert this dataframe to an interactive table.\"\n",
              "            style=\"display:none;\">\n",
              "\n",
              "  <svg xmlns=\"http://www.w3.org/2000/svg\" height=\"24px\" viewBox=\"0 -960 960 960\">\n",
              "    <path d=\"M120-120v-720h720v720H120Zm60-500h600v-160H180v160Zm220 220h160v-160H400v160Zm0 220h160v-160H400v160ZM180-400h160v-160H180v160Zm440 0h160v-160H620v160ZM180-180h160v-160H180v160Zm440 0h160v-160H620v160Z\"/>\n",
              "  </svg>\n",
              "    </button>\n",
              "\n",
              "  <style>\n",
              "    .colab-df-container {\n",
              "      display:flex;\n",
              "      gap: 12px;\n",
              "    }\n",
              "\n",
              "    .colab-df-convert {\n",
              "      background-color: #E8F0FE;\n",
              "      border: none;\n",
              "      border-radius: 50%;\n",
              "      cursor: pointer;\n",
              "      display: none;\n",
              "      fill: #1967D2;\n",
              "      height: 32px;\n",
              "      padding: 0 0 0 0;\n",
              "      width: 32px;\n",
              "    }\n",
              "\n",
              "    .colab-df-convert:hover {\n",
              "      background-color: #E2EBFA;\n",
              "      box-shadow: 0px 1px 2px rgba(60, 64, 67, 0.3), 0px 1px 3px 1px rgba(60, 64, 67, 0.15);\n",
              "      fill: #174EA6;\n",
              "    }\n",
              "\n",
              "    .colab-df-buttons div {\n",
              "      margin-bottom: 4px;\n",
              "    }\n",
              "\n",
              "    [theme=dark] .colab-df-convert {\n",
              "      background-color: #3B4455;\n",
              "      fill: #D2E3FC;\n",
              "    }\n",
              "\n",
              "    [theme=dark] .colab-df-convert:hover {\n",
              "      background-color: #434B5C;\n",
              "      box-shadow: 0px 1px 3px 1px rgba(0, 0, 0, 0.15);\n",
              "      filter: drop-shadow(0px 1px 2px rgba(0, 0, 0, 0.3));\n",
              "      fill: #FFFFFF;\n",
              "    }\n",
              "  </style>\n",
              "\n",
              "    <script>\n",
              "      const buttonEl =\n",
              "        document.querySelector('#df-8d64a106-3d57-4581-85e4-bcf4d99de3c0 button.colab-df-convert');\n",
              "      buttonEl.style.display =\n",
              "        google.colab.kernel.accessAllowed ? 'block' : 'none';\n",
              "\n",
              "      async function convertToInteractive(key) {\n",
              "        const element = document.querySelector('#df-8d64a106-3d57-4581-85e4-bcf4d99de3c0');\n",
              "        const dataTable =\n",
              "          await google.colab.kernel.invokeFunction('convertToInteractive',\n",
              "                                                    [key], {});\n",
              "        if (!dataTable) return;\n",
              "\n",
              "        const docLinkHtml = 'Like what you see? Visit the ' +\n",
              "          '<a target=\"_blank\" href=https://colab.research.google.com/notebooks/data_table.ipynb>data table notebook</a>'\n",
              "          + ' to learn more about interactive tables.';\n",
              "        element.innerHTML = '';\n",
              "        dataTable['output_type'] = 'display_data';\n",
              "        await google.colab.output.renderOutput(dataTable, element);\n",
              "        const docLink = document.createElement('div');\n",
              "        docLink.innerHTML = docLinkHtml;\n",
              "        element.appendChild(docLink);\n",
              "      }\n",
              "    </script>\n",
              "  </div>\n",
              "\n",
              "\n",
              "<div id=\"df-7bde3cab-f393-44bb-9fbc-33709e7eafca\">\n",
              "  <button class=\"colab-df-quickchart\" onclick=\"quickchart('df-7bde3cab-f393-44bb-9fbc-33709e7eafca')\"\n",
              "            title=\"Suggest charts\"\n",
              "            style=\"display:none;\">\n",
              "\n",
              "<svg xmlns=\"http://www.w3.org/2000/svg\" height=\"24px\"viewBox=\"0 0 24 24\"\n",
              "     width=\"24px\">\n",
              "    <g>\n",
              "        <path d=\"M19 3H5c-1.1 0-2 .9-2 2v14c0 1.1.9 2 2 2h14c1.1 0 2-.9 2-2V5c0-1.1-.9-2-2-2zM9 17H7v-7h2v7zm4 0h-2V7h2v10zm4 0h-2v-4h2v4z\"/>\n",
              "    </g>\n",
              "</svg>\n",
              "  </button>\n",
              "\n",
              "<style>\n",
              "  .colab-df-quickchart {\n",
              "      --bg-color: #E8F0FE;\n",
              "      --fill-color: #1967D2;\n",
              "      --hover-bg-color: #E2EBFA;\n",
              "      --hover-fill-color: #174EA6;\n",
              "      --disabled-fill-color: #AAA;\n",
              "      --disabled-bg-color: #DDD;\n",
              "  }\n",
              "\n",
              "  [theme=dark] .colab-df-quickchart {\n",
              "      --bg-color: #3B4455;\n",
              "      --fill-color: #D2E3FC;\n",
              "      --hover-bg-color: #434B5C;\n",
              "      --hover-fill-color: #FFFFFF;\n",
              "      --disabled-bg-color: #3B4455;\n",
              "      --disabled-fill-color: #666;\n",
              "  }\n",
              "\n",
              "  .colab-df-quickchart {\n",
              "    background-color: var(--bg-color);\n",
              "    border: none;\n",
              "    border-radius: 50%;\n",
              "    cursor: pointer;\n",
              "    display: none;\n",
              "    fill: var(--fill-color);\n",
              "    height: 32px;\n",
              "    padding: 0;\n",
              "    width: 32px;\n",
              "  }\n",
              "\n",
              "  .colab-df-quickchart:hover {\n",
              "    background-color: var(--hover-bg-color);\n",
              "    box-shadow: 0 1px 2px rgba(60, 64, 67, 0.3), 0 1px 3px 1px rgba(60, 64, 67, 0.15);\n",
              "    fill: var(--button-hover-fill-color);\n",
              "  }\n",
              "\n",
              "  .colab-df-quickchart-complete:disabled,\n",
              "  .colab-df-quickchart-complete:disabled:hover {\n",
              "    background-color: var(--disabled-bg-color);\n",
              "    fill: var(--disabled-fill-color);\n",
              "    box-shadow: none;\n",
              "  }\n",
              "\n",
              "  .colab-df-spinner {\n",
              "    border: 2px solid var(--fill-color);\n",
              "    border-color: transparent;\n",
              "    border-bottom-color: var(--fill-color);\n",
              "    animation:\n",
              "      spin 1s steps(1) infinite;\n",
              "  }\n",
              "\n",
              "  @keyframes spin {\n",
              "    0% {\n",
              "      border-color: transparent;\n",
              "      border-bottom-color: var(--fill-color);\n",
              "      border-left-color: var(--fill-color);\n",
              "    }\n",
              "    20% {\n",
              "      border-color: transparent;\n",
              "      border-left-color: var(--fill-color);\n",
              "      border-top-color: var(--fill-color);\n",
              "    }\n",
              "    30% {\n",
              "      border-color: transparent;\n",
              "      border-left-color: var(--fill-color);\n",
              "      border-top-color: var(--fill-color);\n",
              "      border-right-color: var(--fill-color);\n",
              "    }\n",
              "    40% {\n",
              "      border-color: transparent;\n",
              "      border-right-color: var(--fill-color);\n",
              "      border-top-color: var(--fill-color);\n",
              "    }\n",
              "    60% {\n",
              "      border-color: transparent;\n",
              "      border-right-color: var(--fill-color);\n",
              "    }\n",
              "    80% {\n",
              "      border-color: transparent;\n",
              "      border-right-color: var(--fill-color);\n",
              "      border-bottom-color: var(--fill-color);\n",
              "    }\n",
              "    90% {\n",
              "      border-color: transparent;\n",
              "      border-bottom-color: var(--fill-color);\n",
              "    }\n",
              "  }\n",
              "</style>\n",
              "\n",
              "  <script>\n",
              "    async function quickchart(key) {\n",
              "      const quickchartButtonEl =\n",
              "        document.querySelector('#' + key + ' button');\n",
              "      quickchartButtonEl.disabled = true;  // To prevent multiple clicks.\n",
              "      quickchartButtonEl.classList.add('colab-df-spinner');\n",
              "      try {\n",
              "        const charts = await google.colab.kernel.invokeFunction(\n",
              "            'suggestCharts', [key], {});\n",
              "      } catch (error) {\n",
              "        console.error('Error during call to suggestCharts:', error);\n",
              "      }\n",
              "      quickchartButtonEl.classList.remove('colab-df-spinner');\n",
              "      quickchartButtonEl.classList.add('colab-df-quickchart-complete');\n",
              "    }\n",
              "    (() => {\n",
              "      let quickchartButtonEl =\n",
              "        document.querySelector('#df-7bde3cab-f393-44bb-9fbc-33709e7eafca button');\n",
              "      quickchartButtonEl.style.display =\n",
              "        google.colab.kernel.accessAllowed ? 'block' : 'none';\n",
              "    })();\n",
              "  </script>\n",
              "</div>\n",
              "\n",
              "    </div>\n",
              "  </div>\n"
            ],
            "application/vnd.google.colaboratory.intrinsic+json": {
              "type": "dataframe",
              "variable_name": "coords",
              "summary": "{\n  \"name\": \"coords\",\n  \"rows\": 693,\n  \"fields\": [\n    {\n      \"column\": \"label\",\n      \"properties\": {\n        \"dtype\": \"string\",\n        \"num_unique_values\": 693,\n        \"samples\": [\n          \"known\",\n          \"wait\",\n          \"hour\"\n        ],\n        \"semantic_type\": \"\",\n        \"description\": \"\"\n      }\n    },\n    {\n      \"column\": \"vector\",\n      \"properties\": {\n        \"dtype\": \"object\",\n        \"semantic_type\": \"\",\n        \"description\": \"\"\n      }\n    },\n    {\n      \"column\": \"x\",\n      \"properties\": {\n        \"dtype\": \"float32\",\n        \"num_unique_values\": 693,\n        \"samples\": [\n          -8.912873268127441,\n          11.608757019042969,\n          -2.158207416534424\n        ],\n        \"semantic_type\": \"\",\n        \"description\": \"\"\n      }\n    },\n    {\n      \"column\": \"y\",\n      \"properties\": {\n        \"dtype\": \"float32\",\n        \"num_unique_values\": 693,\n        \"samples\": [\n          8.85595703125,\n          11.728219985961914,\n          -6.555466651916504\n        ],\n        \"semantic_type\": \"\",\n        \"description\": \"\"\n      }\n    }\n  ]\n}"
            }
          },
          "metadata": {},
          "execution_count": 24
        }
      ],
      "source": [
        "coords.head()"
      ]
    },
    {
      "cell_type": "markdown",
      "metadata": {
        "id": "YRjZZSkdQ3LR"
      },
      "source": [
        "### Plot the coordinates"
      ]
    },
    {
      "cell_type": "code",
      "execution_count": null,
      "metadata": {
        "colab": {
          "base_uri": "https://localhost:8080/",
          "height": 1000
        },
        "id": "OHUjLzMEQ3LR",
        "outputId": "7c24b48b-5aca-4f73-9186-cb6ac6a4e308"
      },
      "outputs": [
        {
          "output_type": "display_data",
          "data": {
            "text/html": [
              "<html>\n",
              "<head><meta charset=\"utf-8\" /></head>\n",
              "<body>\n",
              "    <div>            <script src=\"https://cdnjs.cloudflare.com/ajax/libs/mathjax/2.7.5/MathJax.js?config=TeX-AMS-MML_SVG\"></script><script type=\"text/javascript\">if (window.MathJax && window.MathJax.Hub && window.MathJax.Hub.Config) {window.MathJax.Hub.Config({SVG: {font: \"STIX-Web\"}});}</script>                <script type=\"text/javascript\">window.PlotlyConfig = {MathJaxConfig: 'local'};</script>\n",
              "        <script charset=\"utf-8\" src=\"https://cdn.plot.ly/plotly-2.24.1.min.js\"></script>                <div id=\"01b6fab6-0370-4c76-8297-85fdeb4ec5ff\" class=\"plotly-graph-div\" style=\"height:1000px; width:100%;\"></div>            <script type=\"text/javascript\">                                    window.PLOTLYENV=window.PLOTLYENV || {};                                    if (document.getElementById(\"01b6fab6-0370-4c76-8297-85fdeb4ec5ff\")) {                    Plotly.newPlot(                        \"01b6fab6-0370-4c76-8297-85fdeb4ec5ff\",                        [{\"hovertemplate\":\"x=%{x}\\u003cbr\\u003ey=%{y}\\u003cbr\\u003elabel=%{text}\\u003cextra\\u003e\\u003c\\u002fextra\\u003e\",\"legendgroup\":\"\",\"marker\":{\"color\":\"#636efa\",\"symbol\":\"circle\"},\"mode\":\"text\",\"name\":\"\",\"orientation\":\"v\",\"showlegend\":false,\"text\":[\"the\",\"and\",\"of\",\"to\",\"a\",\"i\",\"in\",\"that\",\"was\",\"it\",\"he\",\"had\",\"as\",\"with\",\"his\",\"my\",\"for\",\"but\",\"be\",\"at\",\"not\",\"we\",\"you\",\"this\",\"which\",\"me\",\"on\",\"is\",\"from\",\"did\",\"they\",\"were\",\"by\",\"have\",\"all\",\"there\",\"so\",\"no\",\"said\",\"one\",\"him\",\"her\",\"an\",\"their\",\"upon\",\"then\",\"she\",\"would\",\"them\",\"our\",\"could\",\"into\",\"what\",\"been\",\"or\",\"out\",\"are\",\"some\",\"its\",\"if\",\"up\",\"very\",\"us\",\"more\",\"when\",\"about\",\"now\",\"will\",\"great\",\"like\",\"time\",\"do\",\"man\",\"these\",\"little\",\"who\",\"came\",\"only\",\"before\",\"down\",\"two\",\"come\",\"through\",\"over\",\"made\",\"see\",\"than\",\"after\",\"way\",\"again\",\"yet\",\"your\",\"know\",\"must\",\"other\",\"should\",\"back\",\"any\",\"first\",\"even\",\"men\",\"went\",\"well\",\"long\",\"saw\",\"how\",\"where\",\"go\",\"still\",\"day\",\"might\",\"eyes\",\"has\",\"without\",\"shall\",\"feet\",\"water\",\"here\",\"nothing\",\"night\",\"last\",\"can\",\"moment\",\"make\",\"such\",\"place\",\"thing\",\"hand\",\"light\",\"those\",\"thought\",\"seemed\",\"three\",\"never\",\"think\",\"under\",\"may\",\"replied\",\"sea\",\"far\",\"face\",\"found\",\"away\",\"while\",\"off\",\"much\",\"life\",\"say\",\"head\",\"side\",\"once\",\"looked\",\"world\",\"left\",\"unto\",\"being\",\"most\",\"black\",\"half\",\"against\",\"something\",\"another\",\"every\",\"too\",\"strange\",\"good\",\"heard\",\"part\",\"stood\",\"just\",\"ever\",\"turned\",\"fire\",\"same\",\"seen\",\"himself\",\"things\",\"air\",\"am\",\"took\",\"earth\",\"take\",\"asked\",\"myself\",\"among\",\"above\",\"right\",\"set\",\"knew\",\"towards\",\"many\",\"own\",\"though\",\"began\",\"between\",\"few\",\"hundred\",\"each\",\"heart\",\"put\",\"cried\",\"body\",\"until\",\"days\",\"mind\",\"mine\",\"people\",\"soon\",\"because\",\"end\",\"hands\",\"look\",\"new\",\"passed\",\"suddenly\",\"indeed\",\"let\",\"behind\",\"island\",\"felt\",\"presently\",\"going\",\"white\",\"surely\",\"find\",\"hours\",\"door\",\"why\",\"lay\",\"nor\",\"dark\",\"miles\",\"trees\",\"perhaps\",\"within\",\"point\",\"also\",\"get\",\"five\",\"toward\",\"yes\",\"work\",\"voice\",\"near\",\"old\",\"appeared\",\"round\",\"tell\",\"across\",\"truly\",\"dead\",\"four\",\"room\",\"gone\",\"quite\",\"moon\",\"along\",\"hour\",\"almost\",\"whole\",\"matter\",\"having\",\"ground\",\"red\",\"since\",\"give\",\"gave\",\"green\",\"fell\",\"engineer\",\"arms\",\"open\",\"years\",\"told\",\"enough\",\"already\",\"full\",\"sight\",\"dont\",\"seem\",\"sound\",\"darkness\",\"done\",\"during\",\"distance\",\"small\",\"name\",\"words\",\"however\",\"sun\",\"thousand\",\"high\",\"always\",\"death\",\"rock\",\"answered\",\"became\",\"human\",\"lost\",\"thus\",\"beyond\",\"course\",\"together\",\"rose\",\"got\",\"less\",\"brought\",\"themselves\",\"both\",\"forward\",\"word\",\"second\",\"large\",\"fear\",\"certain\",\"companions\",\"rather\",\"others\",\"alone\",\"love\",\"twenty\",\"uncle\",\"several\",\"surface\",\"looking\",\"followed\",\"better\",\"sleep\",\"power\",\"sky\",\"land\",\"times\",\"possible\",\"utter\",\"close\",\"clear\",\"called\",\"six\",\"around\",\"doubt\",\"low\",\"projectile\",\"neither\",\"deep\",\"morning\",\"fact\",\"next\",\"mouth\",\"ran\",\"past\",\"return\",\"held\",\"nautilus\",\"itself\",\"least\",\"returned\",\"save\",\"question\",\"means\",\"arm\",\"ten\",\"reached\",\"below\",\"taken\",\"whose\",\"silence\",\"understand\",\"able\",\"either\",\"space\",\"kind\",\"sailor\",\"minutes\",\"boat\",\"longer\",\"cannot\",\"rocks\",\"slowly\",\"sat\",\"believe\",\"mighty\",\"known\",\"remained\",\"young\",\"feel\",\"captain\",\"continued\",\"upward\",\"grew\",\"therefore\",\"speak\",\"direction\",\"vessel\",\"sudden\",\"wall\",\"blood\",\"hear\",\"dear\",\"hope\",\"mean\",\"ready\",\"road\",\"opened\",\"coming\",\"sir\",\"sort\",\"whether\",\"struck\",\"country\",\"leave\",\"shore\",\"anything\",\"strong\",\"keep\",\"eye\",\"use\",\"short\",\"cold\",\"journey\",\"stopped\",\"turn\",\"creatures\",\"escape\",\"wind\",\"moved\",\"nature\",\"need\",\"reason\",\"house\",\"terrible\",\"foot\",\"reporter\",\"top\",\"does\",\"instant\",\"boy\",\"reach\",\"different\",\"immediately\",\"hard\",\"live\",\"rest\",\"eat\",\"bottom\",\"kept\",\"call\",\"river\",\"quiet\",\"cut\",\"beside\",\"carried\",\"line\",\"beneath\",\"spirit\",\"want\",\"huge\",\"speed\",\"silent\",\"heavy\",\"nearly\",\"coast\",\"order\",\"given\",\"creature\",\"necessary\",\"answer\",\"caught\",\"friends\",\"walked\",\"glass\",\"iron\",\"yards\",\"further\",\"certainly\",\"exclaimed\",\"chance\",\"woman\",\"none\",\"wild\",\"later\",\"making\",\"forest\",\"vast\",\"edge\",\"strength\",\"everything\",\"afterward\",\"living\",\"best\",\"spoke\",\"fall\",\"scarcely\",\"tried\",\"length\",\"animal\",\"sides\",\"number\",\"really\",\"hold\",\"wish\",\"broken\",\"position\",\"height\",\"natural\",\"idea\",\"entered\",\"blue\",\"tree\",\"evening\",\"impossible\",\"help\",\"knowledge\",\"case\",\"friend\",\"covered\",\"waters\",\"truth\",\"plain\",\"south\",\"become\",\"showed\",\"oclock\",\"follow\",\"beautiful\",\"quickly\",\"animals\",\"sure\",\"floor\",\"thick\",\"ship\",\"run\",\"wood\",\"show\",\"perceived\",\"whom\",\"formed\",\"placed\",\"true\",\"enormous\",\"standing\",\"lips\",\"pass\",\"stone\",\"colonists\",\"straight\",\"smoke\",\"danger\",\"shot\",\"food\",\"bring\",\"running\",\"discovered\",\"free\",\"watched\",\"closed\",\"lower\",\"greater\",\"heat\",\"happened\",\"rising\",\"noise\",\"form\",\"else\",\"drew\",\"raised\",\"evidently\",\"front\",\"north\",\"eight\",\"hair\",\"care\",\"monstrous\",\"somewhat\",\"ask\",\"waves\",\"met\",\"big\",\"seven\",\"started\",\"led\",\"force\",\"hot\",\"window\",\"present\",\"figure\",\"table\",\"wonder\",\"ocean\",\"sand\",\"state\",\"remember\",\"bushes\",\"common\",\"poor\",\"women\",\"pain\",\"horizon\",\"turning\",\"shoulder\",\"atmosphere\",\"forth\",\"sword\",\"mountain\",\"mass\",\"moving\",\"single\",\"stared\",\"bed\",\"minute\",\"taking\",\"sweet\",\"stand\",\"attention\",\"master\",\"passage\",\"valley\",\"feeling\",\"suppose\",\"metal\",\"trouble\",\"city\",\"hole\",\"die\",\"thoughts\",\"doth\",\"opening\",\"story\",\"sense\",\"thirty\",\"easy\",\"nearer\",\"cast\",\"weight\",\"move\",\"fifty\",\"used\",\"disappeared\",\"grey\",\"filled\",\"real\",\"following\",\"manner\",\"stream\",\"settlers\",\"downward\",\"lake\",\"walls\",\"sometimes\",\"pointed\",\"unknown\",\"cry\",\"beach\",\"year\",\"third\",\"ears\",\"interior\",\"brain\",\"thats\",\"view\",\"learned\",\"watch\",\"existence\",\"soul\",\"alway\",\"faint\",\"wait\",\"rays\",\"shape\",\"difficult\",\"home\",\"walk\",\"narrow\",\"shadows\",\"mountains\",\"bright\",\"added\",\"plateau\",\"broke\",\"read\",\"hills\",\"corral\",\"board\",\"memory\",\"fellow\",\"drawn\",\"verity\",\"perfect\",\"curious\",\"cant\",\"distant\",\"watching\",\"often\",\"pretty\"],\"x\":[-9.934067726135254,4.000057220458984,-9.777105331420898,-5.506906986236572,-5.2895588874816895,5.693445682525635,-6.186215400695801,-1.351152777671814,4.413113117218018,-7.401246547698975,18.228654861450195,1.3237638473510742,-11.172396659851074,12.013614654541016,18.22310447692871,7.015720844268799,-1.9290097951889038,-3.4513933658599854,15.421196937561035,1.712180256843567,-3.6515443325042725,9.265000343322754,7.155523777008057,-10.725973129272461,-10.972969055175781,5.63733434677124,8.378140449523926,3.364248037338257,-6.0772013664245605,1.2324390411376953,3.5103085041046143,5.219731330871582,-9.096521377563477,15.063443183898926,-4.5250678062438965,-6.065193176269531,-10.244847297668457,-6.775475025177002,8.988614082336426,-13.630736351013184,18.08895492553711,8.06943416595459,-9.57711124420166,4.325141906738281,13.642755508422852,10.319584846496582,8.110297203063965,1.628869891166687,5.182811260223389,8.531232833862305,0.7363152503967285,6.142073154449463,7.94770622253418,-12.045038223266602,-14.575393676757812,13.098892211914062,4.466665744781494,-11.516122817993164,-9.502805709838867,-1.3424720764160156,12.65518569946289,-9.40652084350586,10.16364860534668,-16.65651512145996,12.736454963684082,0.47462552785873413,7.506039619445801,4.512058258056641,-4.927305221557617,-7.1177897453308105,5.276792049407959,10.868719100952148,-0.5787668824195862,-14.554271697998047,2.529857873916626,-2.6692469120025635,13.459874153137207,-5.129167079925537,-1.5086009502410889,12.951898574829102,-15.478740692138672,16.87811279296875,5.9642558097839355,7.931429386138916,-0.2989712953567505,13.335492134094238,-16.26793098449707,-0.8585613369941711,12.851970672607422,10.81948471069336,-0.9391239881515503,6.273399829864502,12.032636642456055,3.0388667583465576,-13.323719024658203,1.9296393394470215,13.449366569519043,-6.58801794052124,5.212122440338135,-7.705507278442383,-14.493191719055176,12.972285270690918,2.78458833694458,-3.460315465927124,9.991923332214355,8.328712463378906,13.446393013000488,15.843913078308105,-3.017247438430786,-0.4822021424770355,1.6361035108566284,17.653892517089844,1.134748101234436,2.13334584236145,4.629158020019531,-12.39475154876709,-8.8617525100708,4.5851006507873535,-6.457804203033447,-1.6439228057861328,5.598506450653076,4.75801420211792,-13.945459365844727,14.905893325805664,-9.45942497253418,-15.029993057250977,-2.922975540161133,16.785642623901367,-2.997683525085449,-13.999134063720703,0.03655865788459778,3.923832893371582,-15.423319816589355,-3.859950065612793,12.101938247680664,-7.4082489013671875,3.4105658531188965,8.254416465759277,-9.919116973876953,-5.485896110534668,17.062604904174805,-0.9655593037605286,15.191837310791016,8.295291900634766,15.161611557006836,-8.443246841430664,-6.822824954986572,12.698951721191406,16.75132179260254,3.412747859954834,7.700743198394775,10.387011528015137,-11.375170707702637,7.8491034507751465,0.9273921847343445,-8.991190910339355,-8.57338809967041,-0.776898205280304,-2.8370838165283203,8.642343521118164,4.109106063842773,-13.163641929626465,-11.2800931930542,-9.566617965698242,-16.04886817932129,2.6508803367614746,9.853935241699219,-14.123924255371094,12.232017517089844,-4.434722900390625,-3.7959625720977783,11.508223533630371,-2.5981366634368896,4.392727851867676,-10.367640495300293,18.106260299682617,-15.00198745727539,-8.147722244262695,6.684774398803711,11.48768424987793,-11.431979179382324,14.429628372192383,9.001336097717285,5.682875156402588,-15.244908332824707,2.8135945796966553,6.8449249267578125,15.440289497375488,-0.8382350206375122,8.861627578735352,-12.732175827026367,3.7229323387145996,1.0656057596206665,10.893916130065918,-7.490469932556152,-13.532503128051758,-14.999589920043945,-11.822760581970215,2.585885524749756,15.325119972229004,8.845407485961914,15.259166717529297,12.348136901855469,-18.444852828979492,2.762838125228882,7.312747478485107,-14.470049858093262,9.349016189575195,-2.1144752502441406,-12.389079093933105,18.077648162841797,11.23037338256836,-6.110384941101074,7.193814277648926,6.2290143966674805,-2.2602570056915283,6.806349277496338,9.69649887084961,-13.652482986450195,0.3685058653354645,10.443530082702637,10.530719757080078,-0.5012775659561157,-0.4169367253780365,14.394561767578125,-18.270349502563477,6.1998138427734375,8.584223747253418,12.45787525177002,-9.1481294631958,-0.9089449644088745,-14.183456420898438,-5.953675270080566,-5.699634075164795,-4.142558574676514,-12.659102439880371,-6.401116371154785,15.500784873962402,-15.421090126037598,9.34034538269043,6.701222896575928,5.019998073577881,5.674776077270508,5.912155628204346,-1.3438278436660767,4.216697692871094,7.82578706741333,12.696531295776367,7.176331996917725,-1.22951078414917,-3.4896318912506104,-15.454788208007812,5.749147891998291,17.526803970336914,-5.431739807128906,-11.640718460083008,8.167171478271484,-2.158207416534424,-5.640317916870117,-9.686784744262695,-3.312915086746216,1.5401644706726074,1.8704248666763306,-0.9326951503753662,-12.409232139587402,15.349886894226074,11.491145133972168,-1.5358465909957886,10.90602970123291,4.899746417999268,17.987775802612305,5.854128837585449,-17.891799926757812,-3.0678818225860596,-8.865120887756348,-11.937816619873047,-8.141164779663086,-3.173253059387207,6.2563042640686035,14.423845291137695,-1.8378140926361084,-2.6609458923339844,-3.0514094829559326,-1.4172372817993164,-10.537399291992188,-3.71223783493042,-0.13805077970027924,-2.072695016860962,-6.692652702331543,-8.650294303894043,-15.565173149108887,-8.116761207580566,-4.507683277130127,0.854851484298706,-2.45953369140625,7.847640514373779,1.0881606340408325,-9.305105209350586,-11.08183765411377,1.801149845123291,1.9653736352920532,-4.7360148429870605,7.792775630950928,1.284775972366333,15.079394340515137,-16.387880325317383,3.0738179683685303,4.491903781890869,7.714900493621826,13.39000415802002,0.3556410074234009,-0.5739637613296509,-4.645224571228027,-0.9345715641975403,-8.205414772033691,3.6488542556762695,-15.616782188415527,-13.210577964782715,5.187506198883057,2.293351650238037,-15.072195053100586,5.0218658447265625,-14.231794357299805,-9.683759689331055,9.442895889282227,8.164323806762695,-15.721197128295898,9.42294692993164,-7.759335041046143,-2.0809271335601807,-7.5410332679748535,-17.41810417175293,-6.6458330154418945,0.011215340346097946,6.373903274536133,-5.645453929901123,-1.5679378509521484,-15.33768081665039,8.828340530395508,-5.994232177734375,-0.8938251733779907,-11.437503814697266,-9.133477210998535,-0.5753902792930603,-1.1153364181518555,-7.214266300201416,0.3485577702522278,2.663353681564331,11.342864036560059,0.04237975552678108,13.357340812683105,9.786848068237305,-10.871002197265625,-9.077408790588379,6.267995834350586,7.43395471572876,-1.016269564628601,-0.9078347682952881,-9.892281532287598,16.51735496520996,-15.681981086730957,7.611393928527832,2.2876944541931152,-11.800226211547852,-10.103476524353027,5.443451881408691,11.70087718963623,-9.15097713470459,-13.603144645690918,-7.103339195251465,-8.020851135253906,5.066205978393555,-17.53034210205078,-4.324661731719971,-6.018514156341553,4.841620445251465,-5.882148742675781,8.448204040527344,12.144673347473145,11.805866241455078,-5.697155475616455,-8.912873268127441,4.723304748535156,-1.2444401979446411,12.730768203735352,5.365032196044922,6.338869571685791,0.11007262021303177,0.997196614742279,-6.777282238006592,11.945674896240234,-5.794552326202393,-10.882463455200195,7.413163185119629,0.9872719645500183,15.389751434326172,12.950887680053711,3.911083459854126,-1.8431442975997925,10.225290298461914,6.392153263092041,-6.026554107666016,8.0596923828125,11.248409271240234,6.790326118469238,-8.075499534606934,-5.391952991485596,8.910459518432617,-10.40307331085205,12.878755569458008,-7.417133808135986,-5.344168663024902,2.1189322471618652,13.75111198425293,14.934160232543945,-2.727452278137207,-3.2432899475097656,-5.777613162994385,7.736893177032471,10.268095970153809,12.145744323730469,-12.981435775756836,-3.0551624298095703,-4.639958381652832,9.586997032165527,-7.8209733963012695,-0.575892984867096,-2.904717445373535,4.347794532775879,-6.592495918273926,2.76731276512146,4.979088306427002,3.4497737884521484,3.35146164894104,-13.52203369140625,4.507595062255859,14.469870567321777,-10.644617080688477,5.3445587158203125,2.299070358276367,11.11959171295166,5.993958473205566,9.291570663452148,-8.75515365600586,5.697957515716553,10.72710132598877,-6.45048713684082,2.88370418548584,2.734325647354126,9.547720909118652,2.7808520793914795,-4.351912975311279,2.273859739303589,2.344839334487915,10.047664642333984,-2.0598387718200684,-11.334691047668457,6.2486891746521,0.9332126379013062,-12.062841415405273,-8.726149559020996,-4.737918376922607,-11.645759582519531,-7.502070426940918,-8.227947235107422,0.6162453889846802,9.480534553527832,4.279594898223877,11.41275405883789,1.3271732330322266,-0.7786344289779663,-13.914710998535156,8.374173164367676,-5.230222225189209,7.814446926116943,-2.3242735862731934,-0.7842885255813599,-6.001283168792725,-6.236927509307861,-0.4191688001155853,2.152597188949585,-4.133354663848877,-4.383221626281738,-3.1577651500701904,2.9804983139038086,-4.985954284667969,10.115117073059082,-8.952557563781738,-4.4932146072387695,0.6731691956520081,13.357826232910156,-3.3556437492370605,10.689743041992188,-10.045226097106934,-7.710418224334717,-7.55546236038208,-5.508676528930664,-4.502657413482666,12.254281044006348,10.440169334411621,0.567699134349823,-4.594498157501221,-9.644906044006348,-7.585073947906494,-1.1928811073303223,7.81919527053833,-1.4516279697418213,-0.9350804090499878,-0.9212040305137634,-7.5757904052734375,12.370254516601562,-7.723710060119629,-7.347940921783447,4.377349853515625,-1.7559863328933716,-7.497397422790527,-3.4924826622009277,-4.963680744171143,-8.14197826385498,-10.428919792175293,4.818603038787842,-16.389907836914062,13.35505199432373,-8.105748176574707,9.524673461914062,-12.569713592529297,-3.5568833351135254,2.0557422637939453,-2.1130940914154053,-3.7064766883850098,11.729874610900879,-2.1657345294952393,12.566082000732422,-0.6531297564506531,-2.732494831085205,-5.790735244750977,3.368218183517456,-4.532011985778809,-3.982271194458008,6.977180004119873,16.316503524780273,14.40014362335205,-0.3485388159751892,2.5473859310150146,4.439692497253418,-1.4754167795181274,-2.8102142810821533,1.7633812427520752,5.602371692657471,14.187935829162598,4.2550201416015625,-1.117406964302063,4.92102575302124,8.102485656738281,7.592872142791748,-5.424704551696777,-16.06435775756836,-9.049251556396484,-2.551614761352539,-4.932743549346924,-1.8700331449508667,-7.361649990081787,-4.618167400360107,9.755423545837402,8.769665718078613,-4.830870151519775,5.830982208251953,-8.000877380371094,-14.87591552734375,14.83906364440918,-0.49649113416671753,-4.710781574249268,0.43694546818733215,10.453112602233887,-4.999271869659424,-2.1908907890319824,-5.940052032470703,-14.780817031860352,10.604767799377441,3.432115077972412,-4.980738162994385,-0.8478102087974548,4.787150859832764,-5.15647029876709,0.1191282570362091,7.0896100997924805,-0.2413928508758545,-7.987441062927246,-2.791433095932007,-6.957510948181152,9.817498207092285,-3.2714192867279053,-8.58825397491455,-0.46841955184936523,-13.635477066040039,3.408818244934082,-5.888996601104736,8.179789543151855,16.04865074157715,-9.061704635620117,4.588220596313477,15.18217945098877,-5.4574456214904785,-4.047090530395508,1.7947248220443726,-6.412479877471924,9.815808296203613,4.510326385498047,-2.9635379314422607,1.0611867904663086,2.051659107208252,11.714483261108398,3.319413185119629,4.557943344116211,-5.048908710479736,-5.327365398406982,0.30094650387763977,9.72630786895752,-0.821520984172821,-0.3603467345237732,-7.06154203414917,-2.2815518379211426,11.454275131225586,2.890777111053467,2.826082944869995,-2.3848564624786377,-1.1467431783676147,1.0554620027542114,-14.463240623474121,-7.542475700378418,-3.8368544578552246,2.075016975402832,-5.193460941314697,11.407425880432129,-14.191740036010742,-4.877552509307861,3.2331013679504395,-0.5216288566589355,-6.702165603637695,-7.366792678833008,0.31400254368782043,0.14899952709674835,-3.2539308071136475,2.5251920223236084,0.21054594218730927,-6.852295875549316,-4.666689872741699,-5.5682549476623535,8.699291229248047,-9.321576118469238,5.648987770080566,-2.57600736618042,-1.4668254852294922,-0.36922842264175415,15.811034202575684,-9.093827247619629,2.7502758502960205,5.598749160766602,-7.677285194396973,-2.5529274940490723,6.321065902709961,-8.181939125061035,2.306030511856079,3.695150852203369,-1.6029057502746582,11.608757019042969,-7.470149517059326,-6.824224472045898,-7.812646389007568,6.174925804138184,11.755328178405762,-3.729534864425659,-2.234745502471924,-6.494245529174805,-1.1002777814865112,-1.5761730670928955,-5.953186988830566,7.419382095336914,-1.2884758710861206,-5.750936508178711,2.551569938659668,2.097856283187866,1.8382501602172852,-0.6911488175392151,3.1170647144317627,0.6209120154380798,-6.898058891296387,-7.447994709014893,5.674190998077393,-4.0376973152160645,6.968419551849365,-5.7305684089660645,2.7384135723114014],\"xaxis\":\"x\",\"y\":[-6.38476037979126,6.383457183837891,-0.038440167903900146,11.255378723144531,-1.9108446836471558,12.511598587036133,1.8923823833465576,18.453907012939453,-5.363453388214111,15.570033073425293,-1.0645380020141602,-0.15223006904125214,17.696449279785156,-6.288067817687988,-2.374755620956421,11.084697723388672,15.40377140045166,16.791616439819336,15.222238540649414,-6.498251438140869,19.083629608154297,5.449542999267578,19.222652435302734,14.173099517822266,1.0854955911636353,11.310938835144043,-22.54448699951172,22.485862731933594,-6.749889850616455,24.778879165649414,-1.5460668802261353,-3.2712326049804688,-1.108591914176941,17.677318572998047,10.438397407531738,23.973207473754883,17.566871643066406,20.06658172607422,21.9510498046875,-3.044658660888672,-1.55152428150177,12.350276947021484,-4.014797210693359,-2.059225559234619,-3.177586793899536,0.39359697699546814,12.46113109588623,26.578319549560547,-1.525383710861206,4.969392776489258,26.86749267578125,-20.605972290039062,17.29290199279785,11.505021095275879,8.04390811920166,-20.8013973236084,22.30939292907715,6.1660308837890625,-8.750497817993164,20.79534149169922,-20.23630142211914,17.61892318725586,11.291925430297852,15.54322338104248,0.4581581652164459,-1.8762977123260498,15.25817584991455,26.032257080078125,-8.357284545898438,-1.495330810546875,2.638662338256836,20.152645111083984,5.268896579742432,4.886852264404297,5.1344804763793945,6.246686935424805,-13.17895221710205,12.940535545349121,-1.1044156551361084,-20.298765182495117,-24.448974609375,9.791655540466309,-20.630477905273438,-19.87480354309082,1.469146728515625,16.535221099853516,9.304302215576172,-2.784184694290161,4.859609603881836,2.0409536361694336,16.64602279663086,19.590909957885742,19.27202796936035,26.1169376373291,1.0730456113815308,26.213254928588867,-19.838396072387695,17.883914947509766,0.6959768533706665,10.877939224243164,3.357032060623169,-12.814712524414062,18.88578224182129,-2.5476624965667725,-8.102441787719727,16.841156005859375,1.0878195762634277,11.160171508789062,1.6461948156356812,-7.012258529663086,26.398921966552734,-7.912160396575928,20.99631118774414,2.1181511878967285,25.953454971313477,-20.425048828125,-12.674643516540527,19.810588836669922,19.784231185913086,-8.428126335144043,0.7964091300964355,25.43252944946289,-7.180386066436768,13.604472160339355,7.873783588409424,-10.248908996582031,15.149779319763184,-10.552145957946777,-10.62281322479248,4.532532691955566,3.5356457233428955,-6.8555779457092285,-24.01361846923828,20.93143081665039,18.362092971801758,-6.85828161239624,25.918825149536133,21.92218780517578,-14.506296157836914,-10.314291954040527,-8.191506385803223,1.2909612655639648,-18.82876205444336,-2.9519407749176025,-18.846681594848633,11.244590759277344,9.523317337036133,18.43300437927246,-9.370871543884277,-17.950946807861328,1.080283761024475,-15.354144096374512,-1.4300371408462524,-5.658746719360352,17.252628326416016,5.820723056793213,6.957334041595459,-21.91888999938965,-4.2728705406188965,-18.7209415435791,11.204071998596191,-3.462261199951172,-4.718290328979492,17.169694900512695,-1.3579872846603394,18.87346839904785,-6.520007610321045,-10.873462677001953,-14.372589111328125,6.522826671600342,20.91885757446289,-11.813993453979492,-12.739933967590332,0.5830885767936707,9.83764362335205,-1.6605994701385498,3.805751323699951,-11.071313858032227,21.68254852294922,-9.189095497131348,-13.512211799621582,12.447826385498047,21.02553939819336,11.79515552520752,1.4075007438659668,-22.30783462524414,7.69158935546875,5.624658107757568,3.2497663497924805,-21.114059448242188,4.6898193359375,9.54555606842041,15.42989444732666,-4.14360237121582,-7.04783821105957,-23.71708106994629,-20.582504272460938,-4.751410961151123,11.720487594604492,5.786352634429932,21.599489212036133,-7.366487503051758,0.05713113397359848,-22.044694900512695,12.022355079650879,11.155010223388672,3.740595817565918,-0.9046023488044739,17.506839752197266,-8.741917610168457,-9.276037216186523,8.955822944641113,5.028212547302246,-7.284324645996094,-12.993218421936035,16.73472023010254,24.254093170166016,-19.849323272705078,-11.206560134887695,2.83571720123291,2.1924242973327637,5.829944133758545,-21.64425277709961,17.43772315979004,13.393985748291016,-21.263965606689453,-16.433902740478516,17.826828002929688,-15.314655303955078,21.599336624145508,-12.265854835510254,-20.308137893676758,-19.217348098754883,13.703740119934082,0.39088037610054016,-11.826925277709961,8.164834022521973,11.418590545654297,-22.121477127075195,-20.467069625854492,20.26552963256836,4.164212703704834,9.712038040161133,-10.593417167663574,6.133873462677002,-7.0687174797058105,-20.260421752929688,17.651302337646484,-20.382396697998047,17.443620681762695,5.145170211791992,-23.404930114746094,-16.007644653320312,8.5223388671875,15.483088493347168,-12.974722862243652,-21.643701553344727,-6.555466651916504,-3.9763565063476562,-5.821922779083252,14.632640838623047,-0.011116571724414825,-17.654756546020508,-21.52785301208496,9.340298652648926,13.250164031982422,-9.171756744384766,-21.34549903869629,-13.658601760864258,17.118261337280273,-9.340720176696777,-17.920185089111328,-22.55613136291504,8.861312866210938,16.278146743774414,8.820354461669922,-5.114402770996094,-9.31883716583252,22.986726760864258,15.377528190612793,-10.783456802368164,-10.16263198852539,10.120884895324707,-3.634495973587036,-17.32527732849121,-21.89578628540039,9.250560760498047,7.317303657531738,12.579676628112793,-17.32646942138672,-21.21445083618164,-20.43393325805664,11.884243965148926,11.764192581176758,-13.623504638671875,20.819826126098633,-8.880035400390625,4.677036285400391,8.333033561706543,0.8572040796279907,-23.215606689453125,4.151291370391846,3.1313602924346924,-19.991731643676758,3.564816474914551,15.184488296508789,-9.409043312072754,-2.0245306491851807,3.1647493839263916,-19.027259826660156,13.124649047851562,-4.952991008758545,-22.27945899963379,14.48912239074707,5.005945682525635,2.9449422359466553,15.390218734741211,1.9594610929489136,7.755518913269043,13.940485954284668,-21.543378829956055,14.330753326416016,-23.781339645385742,-15.397895812988281,-15.242243766784668,-8.209324836730957,15.377961158752441,8.363563537597656,8.694415092468262,-23.30274772644043,-12.61925983428955,-22.70563316345215,14.727876663208008,18.230119705200195,-10.58806037902832,-5.30396842956543,8.306381225585938,-22.393953323364258,-19.374740600585938,23.207414627075195,-13.04493522644043,-11.613898277282715,21.58102035522461,-14.003625869750977,-6.634654998779297,5.82105016708374,-5.778409004211426,-15.33332633972168,-13.230793952941895,-2.7376046180725098,10.526270866394043,-10.087480545043945,-12.02500057220459,-9.036380767822266,0.8615807890892029,-4.826600074768066,14.737919807434082,12.974139213562012,6.357754230499268,-9.928168296813965,-22.40503692626953,-7.153005123138428,-22.476394653320312,10.609973907470703,1.5638556480407715,-8.983546257019043,17.855186462402344,13.595056533813477,-0.3954448401927948,-10.906993865966797,2.0750503540039062,17.236902236938477,-21.028345108032227,-12.231993675231934,23.288347244262695,23.804290771484375,-18.83934211730957,-13.707463264465332,-13.758078575134277,17.242597579956055,-8.984806060791016,8.85595703125,-5.3466973304748535,6.046337127685547,15.088216781616211,17.7631778717041,3.9881269931793213,-10.657325744628906,-8.970921516418457,12.612733840942383,15.554791450500488,-12.004302978515625,-10.165791511535645,-1.0208725929260254,-16.976774215698242,-7.091104030609131,15.539457321166992,14.806581497192383,13.706804275512695,18.98802947998047,6.950444221496582,-13.823653221130371,-11.955047607421875,5.186878681182861,20.17324447631836,1.681167721748352,16.90350914001465,-11.01730728149414,-1.9152195453643799,12.078606605529785,-14.258803367614746,17.994688034057617,6.946470260620117,11.928010940551758,-6.155716896057129,11.865428924560547,-2.471309185028076,-4.685284614562988,4.936705112457275,-11.626214027404785,7.887558937072754,3.2674057483673096,12.197343826293945,-14.910416603088379,-12.75588321685791,7.452423095703125,15.398762702941895,13.450661659240723,-10.520371437072754,3.7926175594329834,-15.105189323425293,17.179542541503906,-15.624140739440918,23.017948150634766,-7.501250267028809,14.882710456848145,8.679277420043945,3.2310307025909424,-11.528865814208984,6.434689521789551,13.382874488830566,5.073225498199463,8.815428733825684,-16.267471313476562,-5.9710164070129395,15.841694831848145,-14.658276557922363,7.300783157348633,-11.485535621643066,-18.681608200073242,-10.322193145751953,-15.473245620727539,-22.07263946533203,11.209004402160645,18.547693252563477,-19.414539337158203,-10.657896041870117,-9.561701774597168,-13.919079780578613,-22.076274871826172,-14.185270309448242,8.485169410705566,10.51429557800293,0.4897407591342926,13.618722915649414,13.346176147460938,-10.733019828796387,13.635037422180176,-12.715229988098145,-15.528816223144531,-16.019489288330078,-20.971792221069336,7.038430690765381,13.549436569213867,20.798866271972656,12.64216423034668,5.7411112785339355,19.245330810546875,-0.16798821091651917,-3.001314401626587,3.6721134185791016,-17.148073196411133,-19.48605728149414,-17.015771865844727,8.964717864990234,6.3937554359436035,2.647942066192627,3.1619677543640137,11.3937349319458,5.540619373321533,7.046124458312988,-0.6712043285369873,-3.6200907230377197,-19.876523971557617,0.18482111394405365,-18.73971939086914,-22.49582862854004,15.384272575378418,8.898296356201172,17.687349319458008,-13.260246276855469,3.1112732887268066,-19.857072830200195,5.1030659675598145,12.33174991607666,-7.3311686515808105,-22.518625259399414,-17.336448669433594,-6.367988586425781,14.650296211242676,11.239285469055176,9.363143920898438,6.703003406524658,14.493547439575195,-20.429710388183594,-16.276208877563477,13.586616516113281,-9.654241561889648,-14.811518669128418,11.695699691772461,-6.955820560455322,-20.035186767578125,12.422622680664062,-2.2505874633789062,0.5396875739097595,2.996220350265503,15.984127044677734,-17.057016372680664,-19.546419143676758,-5.918553829193115,6.653470993041992,-15.768693923950195,14.41533088684082,2.573115110397339,6.51060676574707,-20.604339599609375,-13.569252014160156,14.88952350616455,-20.314037322998047,-14.503732681274414,-8.740500450134277,8.319920539855957,-17.42595863342285,-2.8652634620666504,-15.298699378967285,-17.9491024017334,12.443129539489746,-11.903149604797363,4.853151798248291,12.153892517089844,-14.778200149536133,2.258334159851074,7.157699108123779,-9.526029586791992,-12.173192024230957,-15.010767936706543,15.047125816345215,-10.505067825317383,9.56754207611084,-16.10299301147461,-11.309688568115234,-3.18163800239563,17.07472801208496,-12.067631721496582,-10.207635879516602,1.150347352027893,-14.559489250183105,-14.80014419555664,-22.347402572631836,-8.157580375671387,11.918868064880371,-9.339564323425293,10.211445808410645,17.8720760345459,-18.001720428466797,3.8845176696777344,-1.4915355443954468,-22.577123641967773,-11.968976020812988,-9.525237083435059,2.6337993144989014,-14.529531478881836,-16.03360366821289,9.306924819946289,-18.740558624267578,-14.993782997131348,10.62273120880127,-15.927395820617676,-16.32725715637207,4.415071964263916,16.464845657348633,-18.225215911865234,3.4112679958343506,8.015528678894043,3.0066895484924316,10.617371559143066,-16.379411697387695,-14.526927947998047,-9.671588897705078,-10.30044174194336,-11.493403434753418,-9.442377090454102,-15.487262725830078,-19.736352920532227,-13.822834968566895,0.6528369188308716,-15.080496788024902,-11.771258354187012,-5.066967010498047,-4.471424102783203,8.20522403717041,9.908125877380371,3.5754055976867676,9.71541690826416,-12.81751537322998,-16.55506706237793,8.017339706420898,16.484127044677734,-16.371122360229492,11.321358680725098,-12.49987506866455,-13.657630920410156,12.273109436035156,9.536615371704102,24.018205642700195,-15.319368362426758,9.67156982421875,9.25488567352295,-21.56913948059082,13.727865219116211,-13.972993850708008,-11.773369789123535,3.076658010482788,9.96937084197998,-21.848432540893555,8.00710678100586,-12.659656524658203,-19.602569580078125,-4.261244297027588,4.047415733337402,-4.915041923522949,7.076440334320068,-15.514141082763672,-3.0537121295928955,-10.629171371459961,-15.575786590576172,-17.917335510253906,-0.2980213463306427,-12.963103294372559,-0.34032735228538513,-13.418473243713379,-16.532913208007812,-4.865708827972412,-4.9380269050598145,-6.680124759674072,-11.574204444885254,9.88352108001709,21.272483825683594,-9.616268157958984,3.865225315093994,4.994968414306641,5.740883827209473,9.901571273803711,7.571490287780762,-11.610349655151367,11.728219985961914,-17.007829666137695,-3.1963977813720703,14.010210990905762,6.168664932250977,6.817825794219971,-16.283458709716797,-18.07301139831543,-17.314067840576172,-19.775758743286133,11.03363037109375,-12.73244571685791,-13.362249374389648,9.436038970947266,-17.348506927490234,-3.9736835956573486,-5.090930461883545,10.329697608947754,7.1408467292785645,-12.230215072631836,10.721807479858398,3.0695955753326416,2.8468167781829834,23.571691513061523,-14.367490768432617,-10.467970848083496,6.971417427062988,6.423252105712891],\"yaxis\":\"y\",\"type\":\"scatter\"}],                        {\"template\":{\"data\":{\"histogram2dcontour\":[{\"type\":\"histogram2dcontour\",\"colorbar\":{\"outlinewidth\":0,\"ticks\":\"\"},\"colorscale\":[[0.0,\"#0d0887\"],[0.1111111111111111,\"#46039f\"],[0.2222222222222222,\"#7201a8\"],[0.3333333333333333,\"#9c179e\"],[0.4444444444444444,\"#bd3786\"],[0.5555555555555556,\"#d8576b\"],[0.6666666666666666,\"#ed7953\"],[0.7777777777777778,\"#fb9f3a\"],[0.8888888888888888,\"#fdca26\"],[1.0,\"#f0f921\"]]}],\"choropleth\":[{\"type\":\"choropleth\",\"colorbar\":{\"outlinewidth\":0,\"ticks\":\"\"}}],\"histogram2d\":[{\"type\":\"histogram2d\",\"colorbar\":{\"outlinewidth\":0,\"ticks\":\"\"},\"colorscale\":[[0.0,\"#0d0887\"],[0.1111111111111111,\"#46039f\"],[0.2222222222222222,\"#7201a8\"],[0.3333333333333333,\"#9c179e\"],[0.4444444444444444,\"#bd3786\"],[0.5555555555555556,\"#d8576b\"],[0.6666666666666666,\"#ed7953\"],[0.7777777777777778,\"#fb9f3a\"],[0.8888888888888888,\"#fdca26\"],[1.0,\"#f0f921\"]]}],\"heatmap\":[{\"type\":\"heatmap\",\"colorbar\":{\"outlinewidth\":0,\"ticks\":\"\"},\"colorscale\":[[0.0,\"#0d0887\"],[0.1111111111111111,\"#46039f\"],[0.2222222222222222,\"#7201a8\"],[0.3333333333333333,\"#9c179e\"],[0.4444444444444444,\"#bd3786\"],[0.5555555555555556,\"#d8576b\"],[0.6666666666666666,\"#ed7953\"],[0.7777777777777778,\"#fb9f3a\"],[0.8888888888888888,\"#fdca26\"],[1.0,\"#f0f921\"]]}],\"heatmapgl\":[{\"type\":\"heatmapgl\",\"colorbar\":{\"outlinewidth\":0,\"ticks\":\"\"},\"colorscale\":[[0.0,\"#0d0887\"],[0.1111111111111111,\"#46039f\"],[0.2222222222222222,\"#7201a8\"],[0.3333333333333333,\"#9c179e\"],[0.4444444444444444,\"#bd3786\"],[0.5555555555555556,\"#d8576b\"],[0.6666666666666666,\"#ed7953\"],[0.7777777777777778,\"#fb9f3a\"],[0.8888888888888888,\"#fdca26\"],[1.0,\"#f0f921\"]]}],\"contourcarpet\":[{\"type\":\"contourcarpet\",\"colorbar\":{\"outlinewidth\":0,\"ticks\":\"\"}}],\"contour\":[{\"type\":\"contour\",\"colorbar\":{\"outlinewidth\":0,\"ticks\":\"\"},\"colorscale\":[[0.0,\"#0d0887\"],[0.1111111111111111,\"#46039f\"],[0.2222222222222222,\"#7201a8\"],[0.3333333333333333,\"#9c179e\"],[0.4444444444444444,\"#bd3786\"],[0.5555555555555556,\"#d8576b\"],[0.6666666666666666,\"#ed7953\"],[0.7777777777777778,\"#fb9f3a\"],[0.8888888888888888,\"#fdca26\"],[1.0,\"#f0f921\"]]}],\"surface\":[{\"type\":\"surface\",\"colorbar\":{\"outlinewidth\":0,\"ticks\":\"\"},\"colorscale\":[[0.0,\"#0d0887\"],[0.1111111111111111,\"#46039f\"],[0.2222222222222222,\"#7201a8\"],[0.3333333333333333,\"#9c179e\"],[0.4444444444444444,\"#bd3786\"],[0.5555555555555556,\"#d8576b\"],[0.6666666666666666,\"#ed7953\"],[0.7777777777777778,\"#fb9f3a\"],[0.8888888888888888,\"#fdca26\"],[1.0,\"#f0f921\"]]}],\"mesh3d\":[{\"type\":\"mesh3d\",\"colorbar\":{\"outlinewidth\":0,\"ticks\":\"\"}}],\"scatter\":[{\"fillpattern\":{\"fillmode\":\"overlay\",\"size\":10,\"solidity\":0.2},\"type\":\"scatter\"}],\"parcoords\":[{\"type\":\"parcoords\",\"line\":{\"colorbar\":{\"outlinewidth\":0,\"ticks\":\"\"}}}],\"scatterpolargl\":[{\"type\":\"scatterpolargl\",\"marker\":{\"colorbar\":{\"outlinewidth\":0,\"ticks\":\"\"}}}],\"bar\":[{\"error_x\":{\"color\":\"#2a3f5f\"},\"error_y\":{\"color\":\"#2a3f5f\"},\"marker\":{\"line\":{\"color\":\"#E5ECF6\",\"width\":0.5},\"pattern\":{\"fillmode\":\"overlay\",\"size\":10,\"solidity\":0.2}},\"type\":\"bar\"}],\"scattergeo\":[{\"type\":\"scattergeo\",\"marker\":{\"colorbar\":{\"outlinewidth\":0,\"ticks\":\"\"}}}],\"scatterpolar\":[{\"type\":\"scatterpolar\",\"marker\":{\"colorbar\":{\"outlinewidth\":0,\"ticks\":\"\"}}}],\"histogram\":[{\"marker\":{\"pattern\":{\"fillmode\":\"overlay\",\"size\":10,\"solidity\":0.2}},\"type\":\"histogram\"}],\"scattergl\":[{\"type\":\"scattergl\",\"marker\":{\"colorbar\":{\"outlinewidth\":0,\"ticks\":\"\"}}}],\"scatter3d\":[{\"type\":\"scatter3d\",\"line\":{\"colorbar\":{\"outlinewidth\":0,\"ticks\":\"\"}},\"marker\":{\"colorbar\":{\"outlinewidth\":0,\"ticks\":\"\"}}}],\"scattermapbox\":[{\"type\":\"scattermapbox\",\"marker\":{\"colorbar\":{\"outlinewidth\":0,\"ticks\":\"\"}}}],\"scatterternary\":[{\"type\":\"scatterternary\",\"marker\":{\"colorbar\":{\"outlinewidth\":0,\"ticks\":\"\"}}}],\"scattercarpet\":[{\"type\":\"scattercarpet\",\"marker\":{\"colorbar\":{\"outlinewidth\":0,\"ticks\":\"\"}}}],\"carpet\":[{\"aaxis\":{\"endlinecolor\":\"#2a3f5f\",\"gridcolor\":\"white\",\"linecolor\":\"white\",\"minorgridcolor\":\"white\",\"startlinecolor\":\"#2a3f5f\"},\"baxis\":{\"endlinecolor\":\"#2a3f5f\",\"gridcolor\":\"white\",\"linecolor\":\"white\",\"minorgridcolor\":\"white\",\"startlinecolor\":\"#2a3f5f\"},\"type\":\"carpet\"}],\"table\":[{\"cells\":{\"fill\":{\"color\":\"#EBF0F8\"},\"line\":{\"color\":\"white\"}},\"header\":{\"fill\":{\"color\":\"#C8D4E3\"},\"line\":{\"color\":\"white\"}},\"type\":\"table\"}],\"barpolar\":[{\"marker\":{\"line\":{\"color\":\"#E5ECF6\",\"width\":0.5},\"pattern\":{\"fillmode\":\"overlay\",\"size\":10,\"solidity\":0.2}},\"type\":\"barpolar\"}],\"pie\":[{\"automargin\":true,\"type\":\"pie\"}]},\"layout\":{\"autotypenumbers\":\"strict\",\"colorway\":[\"#636efa\",\"#EF553B\",\"#00cc96\",\"#ab63fa\",\"#FFA15A\",\"#19d3f3\",\"#FF6692\",\"#B6E880\",\"#FF97FF\",\"#FECB52\"],\"font\":{\"color\":\"#2a3f5f\"},\"hovermode\":\"closest\",\"hoverlabel\":{\"align\":\"left\"},\"paper_bgcolor\":\"white\",\"plot_bgcolor\":\"#E5ECF6\",\"polar\":{\"bgcolor\":\"#E5ECF6\",\"angularaxis\":{\"gridcolor\":\"white\",\"linecolor\":\"white\",\"ticks\":\"\"},\"radialaxis\":{\"gridcolor\":\"white\",\"linecolor\":\"white\",\"ticks\":\"\"}},\"ternary\":{\"bgcolor\":\"#E5ECF6\",\"aaxis\":{\"gridcolor\":\"white\",\"linecolor\":\"white\",\"ticks\":\"\"},\"baxis\":{\"gridcolor\":\"white\",\"linecolor\":\"white\",\"ticks\":\"\"},\"caxis\":{\"gridcolor\":\"white\",\"linecolor\":\"white\",\"ticks\":\"\"}},\"coloraxis\":{\"colorbar\":{\"outlinewidth\":0,\"ticks\":\"\"}},\"colorscale\":{\"sequential\":[[0.0,\"#0d0887\"],[0.1111111111111111,\"#46039f\"],[0.2222222222222222,\"#7201a8\"],[0.3333333333333333,\"#9c179e\"],[0.4444444444444444,\"#bd3786\"],[0.5555555555555556,\"#d8576b\"],[0.6666666666666666,\"#ed7953\"],[0.7777777777777778,\"#fb9f3a\"],[0.8888888888888888,\"#fdca26\"],[1.0,\"#f0f921\"]],\"sequentialminus\":[[0.0,\"#0d0887\"],[0.1111111111111111,\"#46039f\"],[0.2222222222222222,\"#7201a8\"],[0.3333333333333333,\"#9c179e\"],[0.4444444444444444,\"#bd3786\"],[0.5555555555555556,\"#d8576b\"],[0.6666666666666666,\"#ed7953\"],[0.7777777777777778,\"#fb9f3a\"],[0.8888888888888888,\"#fdca26\"],[1.0,\"#f0f921\"]],\"diverging\":[[0,\"#8e0152\"],[0.1,\"#c51b7d\"],[0.2,\"#de77ae\"],[0.3,\"#f1b6da\"],[0.4,\"#fde0ef\"],[0.5,\"#f7f7f7\"],[0.6,\"#e6f5d0\"],[0.7,\"#b8e186\"],[0.8,\"#7fbc41\"],[0.9,\"#4d9221\"],[1,\"#276419\"]]},\"xaxis\":{\"gridcolor\":\"white\",\"linecolor\":\"white\",\"ticks\":\"\",\"title\":{\"standoff\":15},\"zerolinecolor\":\"white\",\"automargin\":true,\"zerolinewidth\":2},\"yaxis\":{\"gridcolor\":\"white\",\"linecolor\":\"white\",\"ticks\":\"\",\"title\":{\"standoff\":15},\"zerolinecolor\":\"white\",\"automargin\":true,\"zerolinewidth\":2},\"scene\":{\"xaxis\":{\"backgroundcolor\":\"#E5ECF6\",\"gridcolor\":\"white\",\"linecolor\":\"white\",\"showbackground\":true,\"ticks\":\"\",\"zerolinecolor\":\"white\",\"gridwidth\":2},\"yaxis\":{\"backgroundcolor\":\"#E5ECF6\",\"gridcolor\":\"white\",\"linecolor\":\"white\",\"showbackground\":true,\"ticks\":\"\",\"zerolinecolor\":\"white\",\"gridwidth\":2},\"zaxis\":{\"backgroundcolor\":\"#E5ECF6\",\"gridcolor\":\"white\",\"linecolor\":\"white\",\"showbackground\":true,\"ticks\":\"\",\"zerolinecolor\":\"white\",\"gridwidth\":2}},\"shapedefaults\":{\"line\":{\"color\":\"#2a3f5f\"}},\"annotationdefaults\":{\"arrowcolor\":\"#2a3f5f\",\"arrowhead\":0,\"arrowwidth\":1},\"geo\":{\"bgcolor\":\"white\",\"landcolor\":\"#E5ECF6\",\"subunitcolor\":\"white\",\"showland\":true,\"showlakes\":true,\"lakecolor\":\"white\"},\"title\":{\"x\":0.05},\"mapbox\":{\"style\":\"light\"}}},\"xaxis\":{\"anchor\":\"y\",\"domain\":[0.0,1.0],\"title\":{\"text\":\"x\"}},\"yaxis\":{\"anchor\":\"x\",\"domain\":[0.0,1.0],\"title\":{\"text\":\"y\"}},\"legend\":{\"tracegroupgap\":0},\"margin\":{\"t\":60},\"height\":1000},                        {\"responsive\": true}                    ).then(function(){\n",
              "                            \n",
              "var gd = document.getElementById('01b6fab6-0370-4c76-8297-85fdeb4ec5ff');\n",
              "var x = new MutationObserver(function (mutations, observer) {{\n",
              "        var display = window.getComputedStyle(gd).display;\n",
              "        if (!display || display === 'none') {{\n",
              "            console.log([gd, 'removed!']);\n",
              "            Plotly.purge(gd);\n",
              "            observer.disconnect();\n",
              "        }}\n",
              "}});\n",
              "\n",
              "// Listen for the removal of the full notebook cells\n",
              "var notebookContainer = gd.closest('#notebook-container');\n",
              "if (notebookContainer) {{\n",
              "    x.observe(notebookContainer, {childList: true});\n",
              "}}\n",
              "\n",
              "// Listen for the clearing of the current output cell\n",
              "var outputEl = gd.closest('.output');\n",
              "if (outputEl) {{\n",
              "    x.observe(outputEl, {childList: true});\n",
              "}}\n",
              "\n",
              "                        })                };                            </script>        </div>\n",
              "</body>\n",
              "</html>"
            ]
          },
          "metadata": {}
        }
      ],
      "source": [
        "px.scatter(coords, 'x', 'y', text='label', height=1000).update_traces(mode='text')"
      ]
    },
    {
      "cell_type": "markdown",
      "metadata": {
        "id": "S8IeGXh-Q3LR"
      },
      "source": [
        "# Semantic Algebra"
      ]
    },
    {
      "cell_type": "markdown",
      "metadata": {
        "id": "2T296ZUhQ3LR"
      },
      "source": [
        "## Analogy\n",
        "\n",
        "$A : B :: C : D? \\rightarrow B - A + C = D$\n"
      ]
    },
    {
      "cell_type": "code",
      "execution_count": null,
      "metadata": {
        "id": "oWpJjIs6Q3LR"
      },
      "outputs": [],
      "source": [
        "\n",
        "def complete_analogy(A, B, C, n=2):\n",
        "    try:\n",
        "        return model.wv.most_similar(positive=[B, C], negative=[A])[0:n]\n",
        "    except KeyError as e:\n",
        "        print('Error:', e)\n",
        "        return None"
      ]
    },
    {
      "cell_type": "code",
      "execution_count": null,
      "metadata": {
        "colab": {
          "base_uri": "https://localhost:8080/"
        },
        "id": "8jGdMzpBQ3LR",
        "outputId": "5e0da12c-9e7e-4c97-b9e2-6fa5aca98852"
      },
      "outputs": [
        {
          "output_type": "execute_result",
          "data": {
            "text/plain": [
              "[('dear', 0.8591245412826538), ('friend', 0.7405809760093689)]"
            ]
          },
          "metadata": {},
          "execution_count": 27
        }
      ],
      "source": [
        "complete_analogy('man', 'boy', 'woman')"
      ]
    },
    {
      "cell_type": "code",
      "execution_count": null,
      "metadata": {
        "colab": {
          "base_uri": "https://localhost:8080/"
        },
        "id": "yEDSDu2TQ3LR",
        "outputId": "d29deac1-b404-4a83-fc64-07089021298a"
      },
      "outputs": [
        {
          "output_type": "stream",
          "name": "stdout",
          "text": [
            "Error: \"Key 'daughter' not present in vocabulary\"\n"
          ]
        }
      ],
      "source": [
        "complete_analogy('woman', 'daughter', 'man')"
      ]
    },
    {
      "cell_type": "code",
      "execution_count": null,
      "metadata": {
        "colab": {
          "base_uri": "https://localhost:8080/"
        },
        "id": "Gwo0WyXQQ3LS",
        "outputId": "6f2b386f-e9d2-4e74-88ed-8eb09932f0b2"
      },
      "outputs": [
        {
          "output_type": "execute_result",
          "data": {
            "text/plain": [
              "[('vessel', 0.5515872836112976), ('boat', 0.5395776033401489)]"
            ]
          },
          "metadata": {},
          "execution_count": 29
        }
      ],
      "source": [
        "complete_analogy('man', 'ship', 'woman')"
      ]
    },
    {
      "cell_type": "code",
      "execution_count": null,
      "metadata": {
        "colab": {
          "base_uri": "https://localhost:8080/"
        },
        "id": "fEbB_wqYQ3LS",
        "outputId": "5f0464c5-aac7-43ef-a5d7-13939340bf41"
      },
      "outputs": [
        {
          "output_type": "execute_result",
          "data": {
            "text/plain": [
              "[('terrible', 0.5774155855178833), ('fellow', 0.5292904376983643)]"
            ]
          },
          "metadata": {},
          "execution_count": 30
        }
      ],
      "source": [
        "complete_analogy('ship', 'vessel', 'man')"
      ]
    },
    {
      "cell_type": "code",
      "execution_count": null,
      "metadata": {
        "colab": {
          "base_uri": "https://localhost:8080/"
        },
        "id": "higTHKPiQ3LS",
        "outputId": "89cb1595-4a0d-43fc-ce9a-3cffebe994dc"
      },
      "outputs": [
        {
          "output_type": "execute_result",
          "data": {
            "text/plain": [
              "[('existence', 0.697110652923584),\n",
              " ('nature', 0.6315579414367676),\n",
              " ('means', 0.6276397109031677),\n",
              " ('fact', 0.5904484987258911),\n",
              " ('weight', 0.590161144733429),\n",
              " ('state', 0.5879693627357483),\n",
              " ('natural', 0.5725457668304443),\n",
              " ('known', 0.5660088658332825),\n",
              " ('perfect', 0.55817711353302),\n",
              " ('human', 0.5453854203224182)]"
            ]
          },
          "metadata": {},
          "execution_count": 31
        }
      ],
      "source": [
        "model.wv.most_similar('being')"
      ]
    },
    {
      "cell_type": "code",
      "execution_count": null,
      "metadata": {
        "colab": {
          "base_uri": "https://localhost:8080/"
        },
        "id": "iHlYC118Q3LS",
        "outputId": "866abb3e-99cf-4616-cd47-3b77c8a97beb"
      },
      "outputs": [
        {
          "output_type": "execute_result",
          "data": {
            "text/plain": [
              "[('woman', 0.7789977192878723),\n",
              " ('fellow', 0.6721122860908508),\n",
              " ('young', 0.6714513301849365),\n",
              " ('creature', 0.6433677673339844),\n",
              " ('poor', 0.5994147658348083),\n",
              " ('voice', 0.5865850448608398),\n",
              " ('who', 0.5801407098770142),\n",
              " ('old', 0.5549318790435791),\n",
              " ('word', 0.5499228835105896),\n",
              " ('he', 0.5436770915985107)]"
            ]
          },
          "metadata": {},
          "execution_count": 32
        }
      ],
      "source": [
        "model.wv.most_similar('man')"
      ]
    },
    {
      "cell_type": "code",
      "execution_count": null,
      "metadata": {
        "colab": {
          "base_uri": "https://localhost:8080/"
        },
        "id": "98DlNb62Q3LS",
        "outputId": "ee496795-e171-4cc6-9381-e8cb67849171"
      },
      "outputs": [
        {
          "output_type": "execute_result",
          "data": {
            "text/plain": [
              "[('wall', 0.6624631285667419),\n",
              " ('across', 0.6570006608963013),\n",
              " ('opening', 0.6556872725486755),\n",
              " ('shadows', 0.630023181438446),\n",
              " ('edge', 0.6174498796463013),\n",
              " ('sand', 0.6002607941627502),\n",
              " ('forest', 0.6001043319702148),\n",
              " ('bed', 0.5979138612747192),\n",
              " ('hole', 0.5973831415176392),\n",
              " ('glass', 0.596697986125946)]"
            ]
          },
          "metadata": {},
          "execution_count": 35
        }
      ],
      "source": [
        "model.wv.most_similar(['closed','open'], ['stopped'])"
      ]
    },
    {
      "cell_type": "code",
      "execution_count": null,
      "metadata": {
        "id": "YnQ4Wku4Q3LY",
        "colab": {
          "base_uri": "https://localhost:8080/"
        },
        "outputId": "bd98ac36-49d1-4144-da99-1505b5bf1b3d"
      },
      "outputs": [
        {
          "output_type": "execute_result",
          "data": {
            "text/plain": [
              "[('himself', 0.41914764046669006),\n",
              " ('he', 0.37353360652923584),\n",
              " ('his', 0.28568923473358154),\n",
              " ('him', 0.28325802087783813),\n",
              " ('day', 0.2784633934497833),\n",
              " ('even', 0.2715204060077667),\n",
              " ('colonists', 0.2471391260623932),\n",
              " ('time', 0.2441082000732422),\n",
              " ('nothing', 0.24226224422454834),\n",
              " ('still', 0.24155829846858978)]"
            ]
          },
          "metadata": {},
          "execution_count": 38
        }
      ],
      "source": [
        "model.wv.most_similar(positive=['man'], negative=['woman'])"
      ]
    },
    {
      "cell_type": "code",
      "execution_count": null,
      "metadata": {
        "id": "Le9EpRjnQ3LY",
        "colab": {
          "base_uri": "https://localhost:8080/"
        },
        "outputId": "120a4dca-b61c-427e-8909-7a39e013db30"
      },
      "outputs": [
        {
          "output_type": "execute_result",
          "data": {
            "text/plain": [
              "[('next', 0.5530993342399597),\n",
              " ('engineer', 0.5208451747894287),\n",
              " ('wait', 0.5076542496681213),\n",
              " ('replied', 0.49187171459198),\n",
              " ('continued', 0.4848463535308838),\n",
              " ('reporter', 0.45916566252708435),\n",
              " ('going', 0.4522090554237366),\n",
              " ('shall', 0.44410011172294617),\n",
              " ('yes', 0.4331345558166504),\n",
              " ('will', 0.4325847327709198)]"
            ]
          },
          "metadata": {},
          "execution_count": 41
        }
      ],
      "source": [
        "model.wv.most_similar(positive=['captain'], negative=['woman'])"
      ]
    },
    {
      "cell_type": "code",
      "execution_count": null,
      "metadata": {
        "id": "hwHWtljNQ3LY",
        "colab": {
          "base_uri": "https://localhost:8080/"
        },
        "outputId": "14c4966b-114d-4c01-9197-4d90961eeea5"
      },
      "outputs": [
        {
          "output_type": "execute_result",
          "data": {
            "text/plain": [
              "[('waters', 0.9212956428527832),\n",
              " ('mountain', 0.8980160355567932),\n",
              " ('ocean', 0.8507169485092163),\n",
              " ('valley', 0.8431262969970703),\n",
              " ('narrow', 0.841944694519043),\n",
              " ('stream', 0.8364641666412354),\n",
              " ('shore', 0.8356046080589294),\n",
              " ('rays', 0.832175612449646),\n",
              " ('river', 0.8310551047325134),\n",
              " ('north', 0.8119277954101562)]"
            ]
          },
          "metadata": {},
          "execution_count": 45
        }
      ],
      "source": [
        "model.wv.most_similar('lake')"
      ]
    },
    {
      "cell_type": "code",
      "execution_count": null,
      "metadata": {
        "id": "dACu5KFnQ3LY",
        "colab": {
          "base_uri": "https://localhost:8080/"
        },
        "outputId": "a37e8d5e-e4e1-46e0-cc13-14d7e3ee36cf"
      },
      "outputs": [
        {
          "output_type": "execute_result",
          "data": {
            "text/plain": [
              "[('coast', 0.8662401437759399),\n",
              " ('projectile', 0.8630532026290894),\n",
              " ('point', 0.8504204750061035),\n",
              " ('island', 0.8387320637702942),\n",
              " ('nautilus', 0.8379210829734802),\n",
              " ('moon', 0.8253390192985535),\n",
              " ('ship', 0.814764678478241),\n",
              " ('distance', 0.80967777967453),\n",
              " ('shore', 0.8041897416114807),\n",
              " ('city', 0.8021414875984192)]"
            ]
          },
          "metadata": {},
          "execution_count": 43
        }
      ],
      "source": [
        "model.wv.most_similar_cosmul('vessel')"
      ]
    },
    {
      "cell_type": "code",
      "execution_count": null,
      "metadata": {
        "id": "YKYiG-2DQ3LY",
        "colab": {
          "base_uri": "https://localhost:8080/"
        },
        "outputId": "abcf1a98-b3f8-48fc-a04c-069639e6c8e2"
      },
      "outputs": [
        {
          "output_type": "execute_result",
          "data": {
            "text/plain": [
              "[('men', 0.7213428020477295),\n",
              " ('people', 0.7139459252357483),\n",
              " ('women', 0.672744870185852),\n",
              " ('creatures', 0.6370847225189209),\n",
              " ('those', 0.6352526545524597),\n",
              " ('others', 0.6081732511520386),\n",
              " ('animals', 0.605560302734375),\n",
              " ('whom', 0.5824300050735474),\n",
              " ('things', 0.5411033034324646),\n",
              " ('who', 0.5398451685905457)]"
            ]
          },
          "metadata": {},
          "execution_count": 46
        }
      ],
      "source": [
        "model.wv.most_similar(['green'],['blue'])"
      ]
    },
    {
      "cell_type": "code",
      "execution_count": null,
      "metadata": {
        "id": "PrtLffxpQ3LY",
        "colab": {
          "base_uri": "https://localhost:8080/"
        },
        "outputId": "cb033d98-2467-463f-f806-2a8357648862"
      },
      "outputs": [
        {
          "output_type": "execute_result",
          "data": {
            "text/plain": [
              "[('surely', 0.6285554766654968),\n",
              " ('unto', 0.6269900798797607),\n",
              " ('alway', 0.5990321636199951),\n",
              " ('truly', 0.5822149515151978),\n",
              " ('somewhat', 0.5769465565681458),\n",
              " ('yet', 0.5734373331069946),\n",
              " ('knowledge', 0.5638192892074585),\n",
              " ('because', 0.510525107383728),\n",
              " ('ever', 0.5064544081687927),\n",
              " ('utter', 0.503858745098114)]"
            ]
          },
          "metadata": {},
          "execution_count": 48
        }
      ],
      "source": [
        "model.wv.most_similar(['hours'],['minutes'])"
      ]
    },
    {
      "cell_type": "code",
      "execution_count": null,
      "metadata": {
        "id": "KphL0jNBQ3LY"
      },
      "outputs": [],
      "source": [
        "model.wv.most_similar(['man'],['gentleman'])"
      ]
    },
    {
      "cell_type": "code",
      "execution_count": null,
      "metadata": {
        "id": "g9Nvj02pQ3LY"
      },
      "outputs": [],
      "source": []
    }
  ],
  "metadata": {
    "hide_input": false,
    "kernelspec": {
      "display_name": "Python 3 (ipykernel)",
      "language": "python",
      "name": "python3"
    },
    "language_info": {
      "codemirror_mode": {
        "name": "ipython",
        "version": 3
      },
      "file_extension": ".py",
      "mimetype": "text/x-python",
      "name": "python",
      "nbconvert_exporter": "python",
      "pygments_lexer": "ipython3",
      "version": "3.9.7"
    },
    "latex_envs": {
      "LaTeX_envs_menu_present": true,
      "autoclose": true,
      "autocomplete": true,
      "bibliofile": "biblio.bib",
      "cite_by": "apalike",
      "current_citInitial": 1,
      "eqLabelWithNumbers": true,
      "eqNumInitial": 1,
      "hotkeys": {
        "equation": "Ctrl-E",
        "itemize": "Ctrl-I"
      },
      "labels_anchors": false,
      "latex_user_defs": false,
      "report_style_numbering": false,
      "user_envs_cfg": false
    },
    "toc": {
      "base_numbering": 1,
      "nav_menu": {},
      "number_sections": true,
      "sideBar": true,
      "skip_h1_title": false,
      "title_cell": "Table of Contents",
      "title_sidebar": "Contents",
      "toc_cell": false,
      "toc_position": {},
      "toc_section_display": true,
      "toc_window_display": false
    },
    "varInspector": {
      "cols": {
        "lenName": 16,
        "lenType": 16,
        "lenVar": 40
      },
      "kernels_config": {
        "python": {
          "delete_cmd_postfix": "",
          "delete_cmd_prefix": "del ",
          "library": "var_list.py",
          "varRefreshCmd": "print(var_dic_list())"
        },
        "r": {
          "delete_cmd_postfix": ") ",
          "delete_cmd_prefix": "rm(",
          "library": "var_list.r",
          "varRefreshCmd": "cat(var_dic_list()) "
        }
      },
      "types_to_exclude": [
        "module",
        "function",
        "builtin_function_or_method",
        "instance",
        "_Feature"
      ],
      "window_display": false
    },
    "colab": {
      "provenance": [],
      "include_colab_link": true
    }
  },
  "nbformat": 4,
  "nbformat_minor": 0
}