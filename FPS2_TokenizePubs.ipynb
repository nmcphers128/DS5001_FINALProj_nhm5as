{
 "cells": [
  {
   "cell_type": "markdown",
   "metadata": {},
   "source": [
    "# Final Proj Step 2 : NLP and the Pipeline - Tokenize and create a VOCAB and LIB files \n",
    "\n",
    "* DS5001 - from the orig by Raf Alvarado and now edited by Neil McPherson - 2024 02/18, then again in April for Final proj work on sci fi novels \n"
   ]
  },
  {
   "cell_type": "markdown",
   "metadata": {
    "colab_type": "text",
    "id": "Ai-gvPnADykO",
    "toc-hr-collapsed": true
   },
   "source": [
    "# Overview\n",
    "\n",
    "We import a collection of texts and convert to F2. Then we annotate the collection to create an F3-level model."
   ]
  },
  {
   "cell_type": "markdown",
   "metadata": {
    "toc-hr-collapsed": true
   },
   "source": [
    "# Set Up"
   ]
  },
  {
   "cell_type": "markdown",
   "metadata": {},
   "source": [
    "## Configs"
   ]
  },
  {
   "cell_type": "code",
   "execution_count": 1,
   "metadata": {
    "colab": {},
    "colab_type": "code",
    "id": "MwrVU8kZDykb"
   },
   "outputs": [],
   "source": [
    "OHCO = ['book_id', 'chap_num', 'para_num', 'sent_num', 'token_num']\n",
    "epub_dir = './allBooks'  \n",
    "outputDir = './outputFiles/'"
   ]
  },
  {
   "cell_type": "code",
   "execution_count": 2,
   "metadata": {},
   "outputs": [
    {
     "data": {
      "text/plain": [
       "'Sat Apr 13 13:08:20 2024'"
      ]
     },
     "execution_count": 2,
     "metadata": {},
     "output_type": "execute_result"
    }
   ],
   "source": [
    "import time\n",
    "time.ctime() # 'Mon Oct 18 13:35:29 2010'"
   ]
  },
  {
   "cell_type": "markdown",
   "metadata": {},
   "source": [
    "##  below you can run the nltk download() installer and see where you installed the corpora etc from nltk"
   ]
  },
  {
   "cell_type": "code",
   "execution_count": 3,
   "metadata": {},
   "outputs": [],
   "source": [
    "#import nltk\n",
    "#nltk.download()"
   ]
  },
  {
   "cell_type": "code",
   "execution_count": 4,
   "metadata": {},
   "outputs": [
    {
     "name": "stdout",
     "output_type": "stream",
     "text": [
      "c:/OneDrive/DS5001_Spring2024/nltk_data\n"
     ]
    }
   ],
   "source": [
    "import os\n",
    "os.environ[\"NLTK_DATA\"] = \"c:/OneDrive/DS5001_Spring2024/nltk_data\"\n",
    "print(os.environ[\"NLTK_DATA\"])"
   ]
  },
  {
   "cell_type": "markdown",
   "metadata": {
    "colab": {},
    "colab_type": "code",
    "id": "MwrVU8kZDykb"
   },
   "source": [
    "## Imports"
   ]
  },
  {
   "cell_type": "code",
   "execution_count": 5,
   "metadata": {
    "colab": {},
    "colab_type": "code",
    "id": "MwrVU8kZDykb"
   },
   "outputs": [],
   "source": [
    "import pandas as pd\n",
    "import numpy as np\n",
    "from glob import glob\n",
    "import re\n",
    "import nltk"
   ]
  },
  {
   "cell_type": "code",
   "execution_count": 6,
   "metadata": {
    "colab": {},
    "colab_type": "code",
    "id": "MwrVU8kZDykb"
   },
   "outputs": [],
   "source": [
    "%matplotlib inline"
   ]
  },
  {
   "cell_type": "markdown",
   "metadata": {
    "colab_type": "text",
    "id": "CAzRbscg1ziu"
   },
   "source": [
    "## Import NLTK and download resources\n",
    "\n",
    "If you need to install NLTK, see the [instructions here](https://www.nltk.org/install.html). You can also install this with Anaconda, like so:\n",
    "\n",
    "`conda install nltk`\n",
    "\n",
    "Once you have installed NLTK, you will need to download resources, which will happen when you run the following cell. If the interactive window opens, you may need to set your NLTK Data Directory, as described in the [instructions here](https://www.nltk.org/data.html). To set the directory, click on the File menu and select Change Download Directory. For central installation, set this to `C:\\nltk_data` (Windows),`/usr/local/share/nltk_data` (Mac), or `/usr/share/nltk_data` (Unix). \n",
    "\n",
    "> If you did not install the data to one of the above central locations, you will need to set the NLTK_DATA environment variable to specify the location of the data. (On a Windows machine, right click on “My Computer” then select Properties > Advanced > Environment Variables > User Variables > New...)"
   ]
  },
  {
   "cell_type": "code",
   "execution_count": 7,
   "metadata": {
    "colab": {
     "base_uri": "https://localhost:8080/",
     "height": 217
    },
    "colab_type": "code",
    "id": "Q4Id4bNP5t4p",
    "outputId": "1be778b1-a6a6-45e5-8773-010e83904be3"
   },
   "outputs": [
    {
     "name": "stderr",
     "output_type": "stream",
     "text": [
      "[nltk_data] Downloading package punkt to\n",
      "[nltk_data]     C:\\Users\\nmcph\\AppData\\Roaming\\nltk_data...\n",
      "[nltk_data]   Package punkt is already up-to-date!\n",
      "[nltk_data] Downloading package averaged_perceptron_tagger to\n",
      "[nltk_data]     C:\\Users\\nmcph\\AppData\\Roaming\\nltk_data...\n",
      "[nltk_data]   Package averaged_perceptron_tagger is already up-to-\n",
      "[nltk_data]       date!\n",
      "[nltk_data] Downloading package stopwords to\n",
      "[nltk_data]     C:\\Users\\nmcph\\AppData\\Roaming\\nltk_data...\n",
      "[nltk_data]   Package stopwords is already up-to-date!\n",
      "[nltk_data] Downloading package tagsets to\n",
      "[nltk_data]     C:\\Users\\nmcph\\AppData\\Roaming\\nltk_data...\n",
      "[nltk_data]   Package tagsets is already up-to-date!\n"
     ]
    },
    {
     "data": {
      "text/plain": [
       "True"
      ]
     },
     "execution_count": 7,
     "metadata": {},
     "output_type": "execute_result"
    }
   ],
   "source": [
    "nltk.download('punkt')\n",
    "nltk.download('averaged_perceptron_tagger')\n",
    "nltk.download('stopwords')\n",
    "nltk.download('tagsets')"
   ]
  },
  {
   "cell_type": "markdown",
   "metadata": {},
   "source": [
    "# Acquire\n",
    "\n",
    "We download the novels of Jane Austen and Herman Melville from Project Gutenberg. I actually used a utility I created called PGTK:\n",
    "\n",
    "* https://github.com/ontoligent-design/pgtk"
   ]
  },
  {
   "cell_type": "markdown",
   "metadata": {},
   "source": [
    "# Inspect\n",
    "\n",
    "Since Project Gutenberg texts vary widely in their markup, we define our chunking patterns by hand."
   ]
  },
  {
   "cell_type": "code",
   "execution_count": 8,
   "metadata": {},
   "outputs": [],
   "source": [
    "roman = '[IVXLCM.]+'\n",
    "caps = \"[A-Z';, -]+\"\n",
    "chap_pats = {\n",
    "    ## this is Flatland by Edwin Abbott Abbott\n",
    "    201: {  \n",
    "        'start_line': 274,\n",
    "        'end_line': 3849,\n",
    "        'chapter': re.compile(\"^Section\\s+\\d+\\..*$\")\n",
    "    },\n",
    "    ## A Princess of Mars by Edgar Rice Burroughs\n",
    "    62: {\n",
    "        'start_line': 213,\n",
    "        'end_line': 7130,\n",
    "        'chapter': re.compile(\"^CHAPTER\\s+{}\\s*$\".format(roman))\n",
    "    },\n",
    "    ## The Gods of Mars by Edgar Rice Burroughs\n",
    "    64: {\n",
    "        'start_line': 186,\n",
    "        'end_line': 9319,\n",
    "        'chapter': re.compile(\"^CHAPTER\\s+{}\\s*$\".format(roman))\n",
    "    },\n",
    "    ## Beyond Lies the Wub by Philip K. Dick -- NOTE there are no real chapters but separations with asterisks - I \n",
    "    ## am going to take some license here and cut this story into chapters at the breaks- it is really a short story! \n",
    "    28554: {\n",
    "        'start_line': 43,\n",
    "        'end_line': 496,\n",
    "        'chapter': re.compile(\"^CHAPTER \\d\\s+\\*\\s+\\*\\s+\\*\\s+\\*.+$\")\n",
    "    },\n",
    "    ## Second Variety by Philip K. Dick -- NOTE there are no real chapters but separations with asterisks - I \n",
    "    ## am going to take some license here and cut this story into chapters at the breaks - I introduced CHAPTER numbers into \n",
    "    ## the file here to be clear and to the one above \n",
    "    32032: {\n",
    "        'start_line': 54,\n",
    "        'end_line': 2611,\n",
    "        'chapter': re.compile(\"^CHAPTER \\d+\\s+\\*\\s+\\*\\s+\\*\\s+\\*.+$\")\n",
    "    },\n",
    "    ## The Eyes have It  by Philip K. Dick -- NOTE there are no real chapters but separations with asterisks - I \n",
    "    ## am going to take some license here and cut this story into chapters at the breaks - I introduced CHAPTER numbers into \n",
    "    ## the file here to be clear and to the one above \n",
    "    31516: {\n",
    "        'start_line': 55,\n",
    "        'end_line': 203,\n",
    "        'chapter': re.compile(\"^CHAPTER \\d+\\s+\\*\\s+\\*\\s+\\*\\s+\\*.+$\")\n",
    "    },\n",
    "    ## The Hanging Stranger  by Philip K. Dick -- NOTE there are no real chapters but separations with asterisks - I \n",
    "    ## am going to take some license here and cut this story into chapters at the breaks - I introduced CHAPTER numbers into \n",
    "    ## the file here to be clear and to the one above \n",
    "    41562: {\n",
    "        'start_line': 57,\n",
    "        'end_line': 789,\n",
    "        'chapter': re.compile(\"^CHAPTER \\d+\\s+\\*\\s+\\*\\s+\\*\\s+\\*.+$\")\n",
    "    },\n",
    "    ## # 139 - the Lost World - Arthur C Doyle \n",
    "    139: {\n",
    "        'start_line': 104,\n",
    "        'end_line': 8016,\n",
    "        'chapter': re.compile(\"^\\s*CHAPTER\\s+{}\\s*$\".format(roman))\n",
    "    },\n",
    "    ## # 42243 - The Hour of the Dragon  \n",
    "    42243: {\n",
    "        'start_line': 50,\n",
    "        'end_line': 8268,\n",
    "        'chapter': re.compile(\"^\\d+\\s*\\s*$\")\n",
    "    },\n",
    "    ## # 51233 - The Marching Morons  - again here I added CHAPTERs and I arbitrarily split it into 5 chaps \n",
    "    51233: {\n",
    "        'start_line': 54,\n",
    "        'end_line': 1565,\n",
    "        'chapter': re.compile(\"^CHAPTER \\d+\\s+\\*\\s+\\*\\s+\\*\\s+\\*.+$\")\n",
    "    },\n",
    "    ## # 1329 - The Voyage to Arcturus\n",
    "    1329: {\n",
    "        'start_line': 84,\n",
    "        'end_line': 12259,\n",
    "        'chapter': re.compile(\"^Chapter\\s\\d+\\.\\s+.+$\")          \n",
    "    },\n",
    "    ## # 29614 - THE_GAME_OF_RAT_AND_DRAGON\n",
    "    29614: {\n",
    "        'start_line': 73,\n",
    "        'end_line': 824,\n",
    "        'chapter': re.compile(\"^CHAPTER \\d+\\s+\\*\\s+\\*\\s+\\*\\s+\\*.+$\")\n",
    "    },\n",
    "    \n",
    "    ## # 1250 - The Anthem\n",
    "    1250: {\n",
    "        'start_line': 59,\n",
    "        'end_line': 2170,\n",
    "        'chapter': re.compile(\"^PART\\s+\\w+$\")          \n",
    "    },\n",
    "    ## # 18857 - A Journey to the Center of the Earth \n",
    "    18857: {\n",
    "        'start_line': 148,\n",
    "        'end_line': 10956,\n",
    "        'chapter': re.compile(\"^CHAPTER\\s+\\d+$\")          \n",
    "    },\n",
    "    ## VERNE_JULES_FROM_THE_EARTH_TO_THE_MOON_AND_ROUND_THE_MOON-pg83.txt'\n",
    "    83: {\n",
    "        'start_line': 102,\n",
    "        'end_line': 11451,\n",
    "        'chapter': re.compile(\"^CHAPTER\\s+{}$\".format(roman))      \n",
    "    },\n",
    "    ### VERNE_JULES_THE_MYSTERIOUS_ISLAND-pg1268.txt'\n",
    "    1268: {\n",
    "        'start_line': 39,\n",
    "        'end_line': 23135,\n",
    "        'chapter': re.compile(\"^Chapter\\s+\\d+$\")      \n",
    "    },\n",
    "    ### VERNE_JULES_TWENTY_THOUSAND_LEAGUES_UNDER_THE_SEA-pg164.txt'\n",
    "    164: {\n",
    "        'start_line': 112,\n",
    "        'end_line': 12454,\n",
    "        'chapter': re.compile(\"^CHAPTER\\s+{}$\".format(roman))      \n",
    "    },\n",
    "    ### VONNEGUT_KURT_2_B_R_0_2_B-pg21279.txt\n",
    "    21279: {\n",
    "        'start_line': 68,\n",
    "        'end_line': 454,\n",
    "        'chapter': re.compile(\"^CHAPTER \\d+\\s+\\*\\s+\\*\\s+\\*\\s+\\*.+$\")      \n",
    "    },\n",
    "    ### VONNEGUT_KURT_THE_BIG_TRIP_UP_YONDER-pg30240.txt\n",
    "    30240: {\n",
    "        'start_line': 53,\n",
    "        'end_line': 515,\n",
    "        'chapter': re.compile(\"^CHAPTER \\d+\\s+\\*\\s+\\*\\s+\\*\\s+\\*.+$\")      \n",
    "    },\n",
    "    #### WEINBAUM_STANLEY_G_STANLEY_GRAUMAN_A_MARTIAN_ODYSSEY-pg23731.txt\n",
    "    23731: {\n",
    "        'start_line': 47,\n",
    "        'end_line': 1188,\n",
    "        'chapter': re.compile(\"^CHAPTER \\d+$\")      \n",
    "    },\n",
    "    ### WELLS_H_G_HERBERT_GEORGE_THE_COUNTRY_OF_THE_BLIND_AND_OTHER_STORIES-pg11870\n",
    "    11870: {\n",
    "        'start_line': 292,\n",
    "        'end_line': 16755,\n",
    "        'chapter': re.compile(\"^[IVXLCM.]+$\".format(roman))      \n",
    "    },\n",
    "    ### WELLS_H_G_HERBERT_GEORGE_THE_ISLAND_OF_DOCTOR_MOREAU-pg159.txt\n",
    "    159: {\n",
    "        'start_line': 115,\n",
    "        'end_line': 4730,\n",
    "        'chapter': re.compile(\"^[IVXLCM.]+$\".format(roman))      \n",
    "    },\n",
    "    ###  WELLS_H_G_HERBERT_GEORGE_THE_TIME_MACHINE-pg35.txt\n",
    "    35: {\n",
    "        'start_line': 56,\n",
    "        'end_line': 3202,\n",
    "        'chapter': re.compile(\"^[IVXLCM.]+$\".format(roman))      \n",
    "    },\n",
    "    ### WELLS_H_G_HERBERT_GEORGE_THE_WAR_OF_THE_WORLDS-pg36.txt\n",
    "    36: {\n",
    "        'start_line': 88,\n",
    "        'end_line': 6400,\n",
    "        'chapter': re.compile(\"^[IVXLCM.]+$\".format(roman))      \n",
    "    },\n",
    "    ### Hodgson - Hope the night land \n",
    "    10662: {\n",
    "        'start_line': 64,\n",
    "        'end_line': 17440,\n",
    "        'chapter': re.compile(\"^[IVXLCM.]+$\".format(roman))      \n",
    "    }\n",
    "}"
   ]
  },
  {
   "cell_type": "markdown",
   "metadata": {},
   "source": [
    "# Register and Chunk"
   ]
  },
  {
   "cell_type": "code",
   "execution_count": 9,
   "metadata": {},
   "outputs": [],
   "source": [
    "def acquire_epubs(epub_list, chap_pats, OHCO=OHCO):\n",
    "    \n",
    "    my_lib = []\n",
    "    my_doc = []\n",
    "\n",
    "    for epub_file in epub_list:\n",
    "        \n",
    "        # Get Book ID and author from filename\n",
    "        book_id = int(epub_file.split('-')[-1].split('.')[0].replace('pg',''))\n",
    "        print(\"BOOK ID\", book_id)\n",
    "        \n",
    "        author = epub_file.split('_')[0]\n",
    "        author = author.split('\\\\')[1]\n",
    "        #print(\"author is \", author)\n",
    "    \n",
    "        # Import file as lines\n",
    "        lines = open(epub_file, 'r', encoding='utf-8-sig').readlines()\n",
    "        df = pd.DataFrame(lines, columns=['line_str'])\n",
    "        #print(\"just did the pd.dataframe\")\n",
    "        #print(df)\n",
    "        df.index.name = 'line_num'\n",
    "        df.line_str = df.line_str.str.strip()\n",
    "        df['book_id'] = book_id\n",
    "        \n",
    "        # FIX CHARACTERS TO IMPROVE TOKENIZATION\n",
    "        df.line_str = df.line_str.str.replace('—', ' — ', regex=True)\n",
    "        df.line_str = df.line_str.str.replace('-', ' - ', regex=True)\n",
    "        \n",
    "        # Get book title and put into LIB table -- note problems, though\n",
    "        book_title = re.sub(r\"The Project Gutenberg eBook( of|,) \", \"\", df.loc[0].line_str, flags=re.IGNORECASE)\n",
    "        book_title = re.sub(r\"Project Gutenberg's \", \"\", book_title, flags=re.IGNORECASE)\n",
    "        \n",
    "        # Remove cruft\n",
    "        a = chap_pats[book_id]['start_line'] - 1\n",
    "        b = chap_pats[book_id]['end_line'] + 1\n",
    "        df = df.iloc[a:b]\n",
    "        \n",
    "        #print(\"just did the cruft remove \")\n",
    "        #print(df)\n",
    "        #df.to_csv(\"MyDF\", sep = \"|\")\n",
    "        \n",
    "        # Chunk by chapter\n",
    "        chap_lines = df.line_str.str.match(chap_pats[book_id]['chapter'])\n",
    "        chap_nums = [i+1 for i in range(df.loc[chap_lines].shape[0])]\n",
    "        #print(\"chap_nums is \", chap_nums)\n",
    "        df.loc[chap_lines, 'chap_num'] = chap_nums\n",
    "        df.chap_num = df.chap_num.ffill()\n",
    "\n",
    "        # Clean up\n",
    "        df = df[~df.chap_num.isna()] # Remove chapter heading lines\n",
    "        df = df.loc[~chap_lines] # Remove everything before Chapter 1\n",
    "        df['chap_num'] = df['chap_num'].astype('int')\n",
    "        \n",
    "        # Group -- Note that we exclude the book level in the OHCO at this point\n",
    "        df = df.groupby(OHCO[1:2]).line_str.apply(lambda x: '\\n'.join(x)).to_frame() # Make big string\n",
    "        \n",
    "        # Split into paragrpahs\n",
    "        df = df['line_str'].str.split(r'\\n\\n+', expand=True).stack().to_frame().rename(columns={0:'para_str'})\n",
    "        df.index.names = OHCO[1:3] # MAY NOT BE NECESSARY UNTIL THE END\n",
    "        #print(df)\n",
    "        df['para_str'] = df['para_str'].str.replace(r'\\n', ' ', regex=True).str.strip()\n",
    "        df = df[~df['para_str'].str.match(r'^\\s*$')] # Remove empty paragraphs\n",
    "       \n",
    "        # Set index\n",
    "        df['book_id'] = book_id\n",
    "        df = df.reset_index().set_index(OHCO[:3])\n",
    "\n",
    "        # Register\n",
    "        my_lib.append((book_id, book_title, author, epub_file))\n",
    "        my_doc.append(df)\n",
    "\n",
    "    docs = pd.concat(my_doc)\n",
    "    library = pd.DataFrame(my_lib, columns=['book_id', 'book_title', 'author', 'book_file']).set_index('book_id')\n",
    "    return library, docs"
   ]
  },
  {
   "cell_type": "code",
   "execution_count": 10,
   "metadata": {},
   "outputs": [
    {
     "data": {
      "text/plain": [
       "['./allBooks\\\\ABBOTT_EDWIN_ABBOTT_FLATLAND_A_ROMANCE_OF_MANY_DIMENSIONS-pg201.txt',\n",
       " './allBooks\\\\BURROUGHS_EDGAR_RICE_A_PRINCESS_OF_MARS-pg62.txt',\n",
       " './allBooks\\\\BURROUGHS_EDGAR_RICE_THE_GODS_OF_MARS-pg64.txt',\n",
       " './allBooks\\\\DICK_PHILIP_K_BEYOND_LIES_THE_WUB-pg28554.txt',\n",
       " './allBooks\\\\DICK_PHILIP_K_SECOND_VARIETY-pg32032.txt',\n",
       " './allBooks\\\\DICK_PHILIP_K_THE_EYES_HAVE_IT-pg31516.txt',\n",
       " './allBooks\\\\DICK_PHILIP_K_THE_HANGING_STRANGER-pg41562.txt',\n",
       " './allBooks\\\\DOYLE_ARTHUR_CONAN_THE_LOST_WORLD-pg139.txt',\n",
       " './allBooks\\\\HODGSON_WILLIAM_HOPE_THE_NIGHT_LAND-pg10662.txt',\n",
       " './allBooks\\\\HOWARD_ROBERT_E_ROBERT_ERVIN_THE_HOUR_OF_THE_DRAGON-pg42243.txt',\n",
       " './allBooks\\\\KORNBLUTH_C_M_CYRIL_M_THE_MARCHING_MORONS-pg51233.txt',\n",
       " './allBooks\\\\LINDSAY_DAVID_A_VOYAGE_TO_ARCTURUS-pg1329.txt',\n",
       " './allBooks\\\\LINEBARGER_PAUL_MYRON_ANTHONY_THE_GAME_OF_RAT_AND_DRAGON-pg29614.txt',\n",
       " './allBooks\\\\RAND_AYN_ANTHEM-pg1250.txt',\n",
       " './allBooks\\\\VERNE_JULES_A_JOURNEY_TO_THE_CENTRE_OF_THE_EARTH-pg18857.txt',\n",
       " './allBooks\\\\VERNE_JULES_FROM_THE_EARTH_TO_THE_MOON_AND_ROUND_THE_MOON-pg83.txt',\n",
       " './allBooks\\\\VERNE_JULES_THE_MYSTERIOUS_ISLAND-pg1268.txt',\n",
       " './allBooks\\\\VERNE_JULES_TWENTY_THOUSAND_LEAGUES_UNDER_THE_SEA-pg164.txt',\n",
       " './allBooks\\\\VONNEGUT_KURT_2_B_R_0_2_B-pg21279.txt',\n",
       " './allBooks\\\\VONNEGUT_KURT_THE_BIG_TRIP_UP_YONDER-pg30240.txt',\n",
       " './allBooks\\\\WEINBAUM_STANLEY_G_STANLEY_GRAUMAN_A_MARTIAN_ODYSSEY-pg23731.txt',\n",
       " './allBooks\\\\WELLS_H_G_HERBERT_GEORGE_THE_COUNTRY_OF_THE_BLIND_AND_OTHER_STORIES-pg11870.txt',\n",
       " './allBooks\\\\WELLS_H_G_HERBERT_GEORGE_THE_ISLAND_OF_DOCTOR_MOREAU-pg159.txt',\n",
       " './allBooks\\\\WELLS_H_G_HERBERT_GEORGE_THE_TIME_MACHINE-pg35.txt',\n",
       " './allBooks\\\\WELLS_H_G_HERBERT_GEORGE_THE_WAR_OF_THE_WORLDS-pg36.txt']"
      ]
     },
     "execution_count": 10,
     "metadata": {},
     "output_type": "execute_result"
    }
   ],
   "source": [
    "glob(epub_dir+'/*.txt')"
   ]
  },
  {
   "cell_type": "code",
   "execution_count": 11,
   "metadata": {},
   "outputs": [
    {
     "data": {
      "text/plain": [
       "'./allBooks'"
      ]
     },
     "execution_count": 11,
     "metadata": {},
     "output_type": "execute_result"
    }
   ],
   "source": [
    "epub_dir"
   ]
  },
  {
   "cell_type": "code",
   "execution_count": 12,
   "metadata": {},
   "outputs": [],
   "source": [
    "#glob('../pgtk_util/pgtk/mybooks/*62.txt')"
   ]
  },
  {
   "cell_type": "code",
   "execution_count": 13,
   "metadata": {},
   "outputs": [],
   "source": [
    "epubs = [epub for epub in sorted(glob(epub_dir+'/*pg*.txt'))]"
   ]
  },
  {
   "cell_type": "code",
   "execution_count": 14,
   "metadata": {},
   "outputs": [
    {
     "name": "stdout",
     "output_type": "stream",
     "text": [
      "BOOK ID 201\n",
      "BOOK ID 62\n",
      "BOOK ID 64\n",
      "BOOK ID 28554\n",
      "BOOK ID 32032\n",
      "BOOK ID 31516\n",
      "BOOK ID 41562\n",
      "BOOK ID 139\n",
      "BOOK ID 10662\n",
      "BOOK ID 42243\n",
      "BOOK ID 51233\n",
      "BOOK ID 1329\n",
      "BOOK ID 29614\n",
      "BOOK ID 1250\n",
      "BOOK ID 18857\n",
      "BOOK ID 83\n",
      "BOOK ID 1268\n",
      "BOOK ID 164\n",
      "BOOK ID 21279\n",
      "BOOK ID 30240\n",
      "BOOK ID 23731\n",
      "BOOK ID 11870\n",
      "BOOK ID 159\n",
      "BOOK ID 35\n",
      "BOOK ID 36\n"
     ]
    }
   ],
   "source": [
    "LIB, DOC = acquire_epubs(epubs, chap_pats)"
   ]
  },
  {
   "cell_type": "code",
   "execution_count": null,
   "metadata": {},
   "outputs": [],
   "source": []
  },
  {
   "cell_type": "code",
   "execution_count": 15,
   "metadata": {},
   "outputs": [
    {
     "data": {
      "text/plain": [
       "['./allBooks\\\\ABBOTT_EDWIN_ABBOTT_FLATLAND_A_ROMANCE_OF_MANY_DIMENSIONS-pg201.txt',\n",
       " './allBooks\\\\BURROUGHS_EDGAR_RICE_A_PRINCESS_OF_MARS-pg62.txt',\n",
       " './allBooks\\\\BURROUGHS_EDGAR_RICE_THE_GODS_OF_MARS-pg64.txt',\n",
       " './allBooks\\\\DICK_PHILIP_K_BEYOND_LIES_THE_WUB-pg28554.txt',\n",
       " './allBooks\\\\DICK_PHILIP_K_SECOND_VARIETY-pg32032.txt',\n",
       " './allBooks\\\\DICK_PHILIP_K_THE_EYES_HAVE_IT-pg31516.txt',\n",
       " './allBooks\\\\DICK_PHILIP_K_THE_HANGING_STRANGER-pg41562.txt',\n",
       " './allBooks\\\\DOYLE_ARTHUR_CONAN_THE_LOST_WORLD-pg139.txt',\n",
       " './allBooks\\\\HODGSON_WILLIAM_HOPE_THE_NIGHT_LAND-pg10662.txt',\n",
       " './allBooks\\\\HOWARD_ROBERT_E_ROBERT_ERVIN_THE_HOUR_OF_THE_DRAGON-pg42243.txt',\n",
       " './allBooks\\\\KORNBLUTH_C_M_CYRIL_M_THE_MARCHING_MORONS-pg51233.txt',\n",
       " './allBooks\\\\LINDSAY_DAVID_A_VOYAGE_TO_ARCTURUS-pg1329.txt',\n",
       " './allBooks\\\\LINEBARGER_PAUL_MYRON_ANTHONY_THE_GAME_OF_RAT_AND_DRAGON-pg29614.txt',\n",
       " './allBooks\\\\RAND_AYN_ANTHEM-pg1250.txt',\n",
       " './allBooks\\\\VERNE_JULES_A_JOURNEY_TO_THE_CENTRE_OF_THE_EARTH-pg18857.txt',\n",
       " './allBooks\\\\VERNE_JULES_FROM_THE_EARTH_TO_THE_MOON_AND_ROUND_THE_MOON-pg83.txt',\n",
       " './allBooks\\\\VERNE_JULES_THE_MYSTERIOUS_ISLAND-pg1268.txt',\n",
       " './allBooks\\\\VERNE_JULES_TWENTY_THOUSAND_LEAGUES_UNDER_THE_SEA-pg164.txt',\n",
       " './allBooks\\\\VONNEGUT_KURT_2_B_R_0_2_B-pg21279.txt',\n",
       " './allBooks\\\\VONNEGUT_KURT_THE_BIG_TRIP_UP_YONDER-pg30240.txt',\n",
       " './allBooks\\\\WEINBAUM_STANLEY_G_STANLEY_GRAUMAN_A_MARTIAN_ODYSSEY-pg23731.txt',\n",
       " './allBooks\\\\WELLS_H_G_HERBERT_GEORGE_THE_COUNTRY_OF_THE_BLIND_AND_OTHER_STORIES-pg11870.txt',\n",
       " './allBooks\\\\WELLS_H_G_HERBERT_GEORGE_THE_ISLAND_OF_DOCTOR_MOREAU-pg159.txt',\n",
       " './allBooks\\\\WELLS_H_G_HERBERT_GEORGE_THE_TIME_MACHINE-pg35.txt',\n",
       " './allBooks\\\\WELLS_H_G_HERBERT_GEORGE_THE_WAR_OF_THE_WORLDS-pg36.txt']"
      ]
     },
     "execution_count": 15,
     "metadata": {},
     "output_type": "execute_result"
    }
   ],
   "source": [
    "epubs"
   ]
  },
  {
   "cell_type": "code",
   "execution_count": 16,
   "metadata": {},
   "outputs": [
    {
     "data": {
      "text/html": [
       "<div>\n",
       "<style scoped>\n",
       "    .dataframe tbody tr th:only-of-type {\n",
       "        vertical-align: middle;\n",
       "    }\n",
       "\n",
       "    .dataframe tbody tr th {\n",
       "        vertical-align: top;\n",
       "    }\n",
       "\n",
       "    .dataframe thead th {\n",
       "        text-align: right;\n",
       "    }\n",
       "</style>\n",
       "<table border=\"1\" class=\"dataframe\">\n",
       "  <thead>\n",
       "    <tr style=\"text-align: right;\">\n",
       "      <th></th>\n",
       "      <th></th>\n",
       "      <th></th>\n",
       "      <th>para_str</th>\n",
       "    </tr>\n",
       "    <tr>\n",
       "      <th>book_id</th>\n",
       "      <th>chap_num</th>\n",
       "      <th>para_num</th>\n",
       "      <th></th>\n",
       "    </tr>\n",
       "  </thead>\n",
       "  <tbody>\n",
       "    <tr>\n",
       "      <th>1268</th>\n",
       "      <th>29</th>\n",
       "      <th>33</th>\n",
       "      <td>The field was prepared, then surrounded with a...</td>\n",
       "    </tr>\n",
       "    <tr>\n",
       "      <th>18857</th>\n",
       "      <th>36</th>\n",
       "      <th>32</th>\n",
       "      <td>A quarter of an hour later we were far away fr...</td>\n",
       "    </tr>\n",
       "    <tr>\n",
       "      <th rowspan=\"2\" valign=\"top\">1329</th>\n",
       "      <th>12</th>\n",
       "      <th>176</th>\n",
       "      <td>“You will get nearer to him tomorrow; but not ...</td>\n",
       "    </tr>\n",
       "    <tr>\n",
       "      <th>14</th>\n",
       "      <th>126</th>\n",
       "      <td>Maskull kept his eyes fixed on him, but made n...</td>\n",
       "    </tr>\n",
       "    <tr>\n",
       "      <th>11870</th>\n",
       "      <th>49</th>\n",
       "      <th>13</th>\n",
       "      <td>But Holroyd was thinking that these little cre...</td>\n",
       "    </tr>\n",
       "    <tr>\n",
       "      <th>1268</th>\n",
       "      <th>42</th>\n",
       "      <th>89</th>\n",
       "      <td>“A vessel!”</td>\n",
       "    </tr>\n",
       "    <tr>\n",
       "      <th rowspan=\"2\" valign=\"top\">42243</th>\n",
       "      <th>22</th>\n",
       "      <th>53</th>\n",
       "      <td>'He was not a living man,' she said. 'The Hear...</td>\n",
       "    </tr>\n",
       "    <tr>\n",
       "      <th>21</th>\n",
       "      <th>26</th>\n",
       "      <td>'But while we wait,' protested Amalric, 'Conan...</td>\n",
       "    </tr>\n",
       "    <tr>\n",
       "      <th>18857</th>\n",
       "      <th>22</th>\n",
       "      <th>53</th>\n",
       "      <td>\"Perfectly,\" said I, for I had quite made up m...</td>\n",
       "    </tr>\n",
       "    <tr>\n",
       "      <th>164</th>\n",
       "      <th>17</th>\n",
       "      <th>18</th>\n",
       "      <td>Nearly every day, for some time, the panels of...</td>\n",
       "    </tr>\n",
       "  </tbody>\n",
       "</table>\n",
       "</div>"
      ],
      "text/plain": [
       "                                                                    para_str\n",
       "book_id chap_num para_num                                                   \n",
       "1268    29       33        The field was prepared, then surrounded with a...\n",
       "18857   36       32        A quarter of an hour later we were far away fr...\n",
       "1329    12       176       “You will get nearer to him tomorrow; but not ...\n",
       "        14       126       Maskull kept his eyes fixed on him, but made n...\n",
       "11870   49       13        But Holroyd was thinking that these little cre...\n",
       "1268    42       89                                              “A vessel!”\n",
       "42243   22       53        'He was not a living man,' she said. 'The Hear...\n",
       "        21       26        'But while we wait,' protested Amalric, 'Conan...\n",
       "18857   22       53        \"Perfectly,\" said I, for I had quite made up m...\n",
       "164     17       18        Nearly every day, for some time, the panels of..."
      ]
     },
     "execution_count": 16,
     "metadata": {},
     "output_type": "execute_result"
    }
   ],
   "source": [
    "DOC.sample(10)"
   ]
  },
  {
   "cell_type": "markdown",
   "metadata": {},
   "source": [
    "# Tokenize and Annotate\n",
    "\n",
    "We use NLTK this time. Note that this process takes some time, mainly because the NLTK functions are not optimized for dataframes."
   ]
  },
  {
   "cell_type": "code",
   "execution_count": 17,
   "metadata": {},
   "outputs": [],
   "source": [
    "def tokenize(doc_df, OHCO=OHCO, remove_pos_tuple=False, ws=False):\n",
    "    \n",
    "    # Paragraphs to Sentences\n",
    "    df = doc_df.para_str\\\n",
    "        .apply(lambda x: pd.Series(nltk.sent_tokenize(x)))\\\n",
    "        .stack()\\\n",
    "        .to_frame()\\\n",
    "        .rename(columns={0:'sent_str'})\n",
    "    \n",
    "    # Sentences to Tokens\n",
    "    # Local function to pick tokenizer\n",
    "    def word_tokenize(x):\n",
    "        if ws:\n",
    "            s = pd.Series(nltk.pos_tag(nltk.WhitespaceTokenizer().tokenize(x)))\n",
    "        else:\n",
    "            s = pd.Series(nltk.pos_tag(nltk.word_tokenize(x)))\n",
    "        return s\n",
    "            \n",
    "    df = df.sent_str\\\n",
    "        .apply(word_tokenize)\\\n",
    "        .stack()\\\n",
    "        .to_frame()\\\n",
    "        .rename(columns={0:'pos_tuple'})\n",
    "    \n",
    "    # Grab info from tuple\n",
    "    df['pos'] = df.pos_tuple.apply(lambda x: x[1])\n",
    "    df['token_str'] = df.pos_tuple.apply(lambda x: x[0])\n",
    "    if remove_pos_tuple:\n",
    "        df = df.drop('pos_tuple', 1)\n",
    "    \n",
    "    # Add index\n",
    "    df.index.names = OHCO\n",
    "    \n",
    "    return df"
   ]
  },
  {
   "cell_type": "code",
   "execution_count": 18,
   "metadata": {},
   "outputs": [
    {
     "name": "stdout",
     "output_type": "stream",
     "text": [
      "Wall time: 2min 47s\n"
     ]
    }
   ],
   "source": [
    "%time TOKEN = tokenize(DOC, ws=True)"
   ]
  },
  {
   "cell_type": "code",
   "execution_count": 19,
   "metadata": {},
   "outputs": [
    {
     "data": {
      "text/html": [
       "<div>\n",
       "<style scoped>\n",
       "    .dataframe tbody tr th:only-of-type {\n",
       "        vertical-align: middle;\n",
       "    }\n",
       "\n",
       "    .dataframe tbody tr th {\n",
       "        vertical-align: top;\n",
       "    }\n",
       "\n",
       "    .dataframe thead th {\n",
       "        text-align: right;\n",
       "    }\n",
       "</style>\n",
       "<table border=\"1\" class=\"dataframe\">\n",
       "  <thead>\n",
       "    <tr style=\"text-align: right;\">\n",
       "      <th></th>\n",
       "      <th></th>\n",
       "      <th></th>\n",
       "      <th></th>\n",
       "      <th></th>\n",
       "      <th>pos_tuple</th>\n",
       "      <th>pos</th>\n",
       "      <th>token_str</th>\n",
       "    </tr>\n",
       "    <tr>\n",
       "      <th>book_id</th>\n",
       "      <th>chap_num</th>\n",
       "      <th>para_num</th>\n",
       "      <th>sent_num</th>\n",
       "      <th>token_num</th>\n",
       "      <th></th>\n",
       "      <th></th>\n",
       "      <th></th>\n",
       "    </tr>\n",
       "  </thead>\n",
       "  <tbody>\n",
       "    <tr>\n",
       "      <th rowspan=\"5\" valign=\"top\">201</th>\n",
       "      <th rowspan=\"5\" valign=\"top\">1</th>\n",
       "      <th rowspan=\"5\" valign=\"top\">1</th>\n",
       "      <th rowspan=\"5\" valign=\"top\">0</th>\n",
       "      <th>0</th>\n",
       "      <td>(I, PRP)</td>\n",
       "      <td>PRP</td>\n",
       "      <td>I</td>\n",
       "    </tr>\n",
       "    <tr>\n",
       "      <th>1</th>\n",
       "      <td>(call, VBP)</td>\n",
       "      <td>VBP</td>\n",
       "      <td>call</td>\n",
       "    </tr>\n",
       "    <tr>\n",
       "      <th>2</th>\n",
       "      <td>(our, PRP$)</td>\n",
       "      <td>PRP$</td>\n",
       "      <td>our</td>\n",
       "    </tr>\n",
       "    <tr>\n",
       "      <th>3</th>\n",
       "      <td>(world, NN)</td>\n",
       "      <td>NN</td>\n",
       "      <td>world</td>\n",
       "    </tr>\n",
       "    <tr>\n",
       "      <th>4</th>\n",
       "      <td>(Flatland,, NNP)</td>\n",
       "      <td>NNP</td>\n",
       "      <td>Flatland,</td>\n",
       "    </tr>\n",
       "  </tbody>\n",
       "</table>\n",
       "</div>"
      ],
      "text/plain": [
       "                                                     pos_tuple   pos  \\\n",
       "book_id chap_num para_num sent_num token_num                           \n",
       "201     1        1        0        0                  (I, PRP)   PRP   \n",
       "                                   1               (call, VBP)   VBP   \n",
       "                                   2               (our, PRP$)  PRP$   \n",
       "                                   3               (world, NN)    NN   \n",
       "                                   4          (Flatland,, NNP)   NNP   \n",
       "\n",
       "                                              token_str  \n",
       "book_id chap_num para_num sent_num token_num             \n",
       "201     1        1        0        0                  I  \n",
       "                                   1               call  \n",
       "                                   2                our  \n",
       "                                   3              world  \n",
       "                                   4          Flatland,  "
      ]
     },
     "execution_count": 19,
     "metadata": {},
     "output_type": "execute_result"
    }
   ],
   "source": [
    "TOKEN.head()"
   ]
  },
  {
   "cell_type": "code",
   "execution_count": 20,
   "metadata": {},
   "outputs": [
    {
     "data": {
      "text/html": [
       "<div>\n",
       "<style scoped>\n",
       "    .dataframe tbody tr th:only-of-type {\n",
       "        vertical-align: middle;\n",
       "    }\n",
       "\n",
       "    .dataframe tbody tr th {\n",
       "        vertical-align: top;\n",
       "    }\n",
       "\n",
       "    .dataframe thead th {\n",
       "        text-align: right;\n",
       "    }\n",
       "</style>\n",
       "<table border=\"1\" class=\"dataframe\">\n",
       "  <thead>\n",
       "    <tr style=\"text-align: right;\">\n",
       "      <th></th>\n",
       "      <th></th>\n",
       "      <th></th>\n",
       "      <th></th>\n",
       "      <th></th>\n",
       "      <th>pos_tuple</th>\n",
       "      <th>pos</th>\n",
       "      <th>token_str</th>\n",
       "    </tr>\n",
       "    <tr>\n",
       "      <th>book_id</th>\n",
       "      <th>chap_num</th>\n",
       "      <th>para_num</th>\n",
       "      <th>sent_num</th>\n",
       "      <th>token_num</th>\n",
       "      <th></th>\n",
       "      <th></th>\n",
       "      <th></th>\n",
       "    </tr>\n",
       "  </thead>\n",
       "  <tbody>\n",
       "    <tr>\n",
       "      <th rowspan=\"5\" valign=\"top\">201</th>\n",
       "      <th rowspan=\"5\" valign=\"top\">1</th>\n",
       "      <th>1</th>\n",
       "      <th>0</th>\n",
       "      <th>20</th>\n",
       "      <td>(happy, JJ)</td>\n",
       "      <td>JJ</td>\n",
       "      <td>happy</td>\n",
       "    </tr>\n",
       "    <tr>\n",
       "      <th rowspan=\"4\" valign=\"top\">2</th>\n",
       "      <th rowspan=\"4\" valign=\"top\">0</th>\n",
       "      <th>2</th>\n",
       "      <td>(vast, JJ)</td>\n",
       "      <td>JJ</td>\n",
       "      <td>vast</td>\n",
       "    </tr>\n",
       "    <tr>\n",
       "      <th>15</th>\n",
       "      <td>(other, JJ)</td>\n",
       "      <td>JJ</td>\n",
       "      <td>other</td>\n",
       "    </tr>\n",
       "    <tr>\n",
       "      <th>16</th>\n",
       "      <td>(figures,, JJ)</td>\n",
       "      <td>JJ</td>\n",
       "      <td>figures,</td>\n",
       "    </tr>\n",
       "    <tr>\n",
       "      <th>42</th>\n",
       "      <td>(it,, JJ)</td>\n",
       "      <td>JJ</td>\n",
       "      <td>it,</td>\n",
       "    </tr>\n",
       "    <tr>\n",
       "      <th>...</th>\n",
       "      <th>...</th>\n",
       "      <th>...</th>\n",
       "      <th>...</th>\n",
       "      <th>...</th>\n",
       "      <td>...</td>\n",
       "      <td>...</td>\n",
       "      <td>...</td>\n",
       "    </tr>\n",
       "    <tr>\n",
       "      <th rowspan=\"5\" valign=\"top\">36</th>\n",
       "      <th rowspan=\"5\" valign=\"top\">27</th>\n",
       "      <th rowspan=\"3\" valign=\"top\">12</th>\n",
       "      <th rowspan=\"3\" valign=\"top\">1</th>\n",
       "      <th>100</th>\n",
       "      <td>(silent,, JJ)</td>\n",
       "      <td>JJ</td>\n",
       "      <td>silent,</td>\n",
       "    </tr>\n",
       "    <tr>\n",
       "      <th>106</th>\n",
       "      <td>(last, JJ)</td>\n",
       "      <td>JJ</td>\n",
       "      <td>last</td>\n",
       "    </tr>\n",
       "    <tr>\n",
       "      <th>107</th>\n",
       "      <td>(great, JJ)</td>\n",
       "      <td>JJ</td>\n",
       "      <td>great</td>\n",
       "    </tr>\n",
       "    <tr>\n",
       "      <th rowspan=\"2\" valign=\"top\">13</th>\n",
       "      <th rowspan=\"2\" valign=\"top\">0</th>\n",
       "      <th>1</th>\n",
       "      <td>(strangest, JJS)</td>\n",
       "      <td>JJS</td>\n",
       "      <td>strangest</td>\n",
       "    </tr>\n",
       "    <tr>\n",
       "      <th>9</th>\n",
       "      <td>(wife’s, JJ)</td>\n",
       "      <td>JJ</td>\n",
       "      <td>wife’s</td>\n",
       "    </tr>\n",
       "  </tbody>\n",
       "</table>\n",
       "<p>105749 rows × 3 columns</p>\n",
       "</div>"
      ],
      "text/plain": [
       "                                                     pos_tuple  pos  token_str\n",
       "book_id chap_num para_num sent_num token_num                                  \n",
       "201     1        1        0        20              (happy, JJ)   JJ      happy\n",
       "                 2        0        2                (vast, JJ)   JJ       vast\n",
       "                                   15              (other, JJ)   JJ      other\n",
       "                                   16           (figures,, JJ)   JJ   figures,\n",
       "                                   42                (it,, JJ)   JJ        it,\n",
       "...                                                        ...  ...        ...\n",
       "36      27       12       1        100           (silent,, JJ)   JJ    silent,\n",
       "                                   106              (last, JJ)   JJ       last\n",
       "                                   107             (great, JJ)   JJ      great\n",
       "                 13       0        1          (strangest, JJS)  JJS  strangest\n",
       "                                   9              (wife’s, JJ)   JJ     wife’s\n",
       "\n",
       "[105749 rows x 3 columns]"
      ]
     },
     "execution_count": 20,
     "metadata": {},
     "output_type": "execute_result"
    }
   ],
   "source": [
    "TOKEN[TOKEN.pos.str.match('^JJ')]"
   ]
  },
  {
   "cell_type": "markdown",
   "metadata": {
    "toc-hr-collapsed": true
   },
   "source": [
    "# Reduce\n",
    "\n",
    "Extract a vocabulary from the TOKEN table"
   ]
  },
  {
   "cell_type": "code",
   "execution_count": 21,
   "metadata": {},
   "outputs": [],
   "source": [
    "TOKEN['term_str'] = TOKEN['token_str'].str.lower().str.replace('[\\W_]', '', regex=True)"
   ]
  },
  {
   "cell_type": "code",
   "execution_count": 22,
   "metadata": {},
   "outputs": [],
   "source": [
    "VOCAB = TOKEN.term_str.value_counts().to_frame().rename(columns={'index':'term_str', 'term_str':'n'})\\\n",
    "    .sort_index().reset_index().rename(columns={'index':'term_str'})\n",
    "VOCAB.index.name = 'term_id'"
   ]
  },
  {
   "cell_type": "code",
   "execution_count": 23,
   "metadata": {
    "colab": {
     "base_uri": "https://localhost:8080/",
     "height": 226
    },
    "colab_type": "code",
    "id": "3iYsuby6FYYR",
    "outputId": "b29dd1cd-a82a-44be-e21c-aa9b7e1e4933"
   },
   "outputs": [],
   "source": [
    "VOCAB['num'] = VOCAB.term_str.str.match(\"\\d+\").astype('int')"
   ]
  },
  {
   "cell_type": "code",
   "execution_count": 24,
   "metadata": {
    "colab": {
     "base_uri": "https://localhost:8080/",
     "height": 226
    },
    "colab_type": "code",
    "id": "3iYsuby6FYYR",
    "outputId": "b29dd1cd-a82a-44be-e21c-aa9b7e1e4933"
   },
   "outputs": [
    {
     "data": {
      "text/html": [
       "<div>\n",
       "<style scoped>\n",
       "    .dataframe tbody tr th:only-of-type {\n",
       "        vertical-align: middle;\n",
       "    }\n",
       "\n",
       "    .dataframe tbody tr th {\n",
       "        vertical-align: top;\n",
       "    }\n",
       "\n",
       "    .dataframe thead th {\n",
       "        text-align: right;\n",
       "    }\n",
       "</style>\n",
       "<table border=\"1\" class=\"dataframe\">\n",
       "  <thead>\n",
       "    <tr style=\"text-align: right;\">\n",
       "      <th></th>\n",
       "      <th>term_str</th>\n",
       "      <th>n</th>\n",
       "      <th>num</th>\n",
       "    </tr>\n",
       "    <tr>\n",
       "      <th>term_id</th>\n",
       "      <th></th>\n",
       "      <th></th>\n",
       "      <th></th>\n",
       "    </tr>\n",
       "  </thead>\n",
       "  <tbody>\n",
       "    <tr>\n",
       "      <th>0</th>\n",
       "      <td></td>\n",
       "      <td>19360</td>\n",
       "      <td>0</td>\n",
       "    </tr>\n",
       "    <tr>\n",
       "      <th>1</th>\n",
       "      <td>0</td>\n",
       "      <td>18</td>\n",
       "      <td>1</td>\n",
       "    </tr>\n",
       "    <tr>\n",
       "      <th>2</th>\n",
       "      <td>000436</td>\n",
       "      <td>1</td>\n",
       "      <td>1</td>\n",
       "    </tr>\n",
       "    <tr>\n",
       "      <th>3</th>\n",
       "      <td>0009</td>\n",
       "      <td>9</td>\n",
       "      <td>1</td>\n",
       "    </tr>\n",
       "    <tr>\n",
       "      <th>4</th>\n",
       "      <td>03</td>\n",
       "      <td>1</td>\n",
       "      <td>1</td>\n",
       "    </tr>\n",
       "    <tr>\n",
       "      <th>...</th>\n",
       "      <td>...</td>\n",
       "      <td>...</td>\n",
       "      <td>...</td>\n",
       "    </tr>\n",
       "    <tr>\n",
       "      <th>31565</th>\n",
       "      <td>zostera</td>\n",
       "      <td>2</td>\n",
       "      <td>0</td>\n",
       "    </tr>\n",
       "    <tr>\n",
       "      <th>31566</th>\n",
       "      <td>zouaves</td>\n",
       "      <td>1</td>\n",
       "      <td>0</td>\n",
       "    </tr>\n",
       "    <tr>\n",
       "      <th>31567</th>\n",
       "      <td>à</td>\n",
       "      <td>5</td>\n",
       "      <td>0</td>\n",
       "    </tr>\n",
       "    <tr>\n",
       "      <th>31568</th>\n",
       "      <td>ægri</td>\n",
       "      <td>1</td>\n",
       "      <td>0</td>\n",
       "    </tr>\n",
       "    <tr>\n",
       "      <th>31569</th>\n",
       "      <td>œdipus</td>\n",
       "      <td>1</td>\n",
       "      <td>0</td>\n",
       "    </tr>\n",
       "  </tbody>\n",
       "</table>\n",
       "<p>31570 rows × 3 columns</p>\n",
       "</div>"
      ],
      "text/plain": [
       "        term_str      n  num\n",
       "term_id                     \n",
       "0                 19360    0\n",
       "1              0     18    1\n",
       "2         000436      1    1\n",
       "3           0009      9    1\n",
       "4             03      1    1\n",
       "...          ...    ...  ...\n",
       "31565    zostera      2    0\n",
       "31566    zouaves      1    0\n",
       "31567          à      5    0\n",
       "31568       ægri      1    0\n",
       "31569     œdipus      1    0\n",
       "\n",
       "[31570 rows x 3 columns]"
      ]
     },
     "execution_count": 24,
     "metadata": {},
     "output_type": "execute_result"
    }
   ],
   "source": [
    "VOCAB"
   ]
  },
  {
   "cell_type": "markdown",
   "metadata": {
    "colab_type": "text",
    "id": "bDSH9L2TXGzH",
    "toc-hr-collapsed": true
   },
   "source": [
    "# Annotate (VOCAB)"
   ]
  },
  {
   "cell_type": "markdown",
   "metadata": {
    "colab_type": "text",
    "id": "US7EfWK_06FS"
   },
   "source": [
    "## Add Stopwords"
   ]
  },
  {
   "cell_type": "markdown",
   "metadata": {
    "colab_type": "text",
    "id": "BDCfFuN80_rX"
   },
   "source": [
    "We use NLTK's built in stopword list for English. Note that we can add and subtract from this list, or just create our own list and keep it in our data model."
   ]
  },
  {
   "cell_type": "code",
   "execution_count": 25,
   "metadata": {
    "colab": {},
    "colab_type": "code",
    "id": "RG-5qYDR1YC2"
   },
   "outputs": [],
   "source": [
    "sw = pd.DataFrame(nltk.corpus.stopwords.words('english'), columns=['term_str'])\n",
    "sw = sw.reset_index().set_index('term_str')\n",
    "sw.columns = ['dummy']\n",
    "sw.dummy = 1"
   ]
  },
  {
   "cell_type": "code",
   "execution_count": 26,
   "metadata": {
    "colab": {
     "base_uri": "https://localhost:8080/",
     "height": 1925
    },
    "colab_type": "code",
    "id": "8vtGY9V82scz",
    "outputId": "e7ef30c7-3a05-4acf-e2cc-9154f589bd91"
   },
   "outputs": [
    {
     "data": {
      "text/html": [
       "<div>\n",
       "<style scoped>\n",
       "    .dataframe tbody tr th:only-of-type {\n",
       "        vertical-align: middle;\n",
       "    }\n",
       "\n",
       "    .dataframe tbody tr th {\n",
       "        vertical-align: top;\n",
       "    }\n",
       "\n",
       "    .dataframe thead th {\n",
       "        text-align: right;\n",
       "    }\n",
       "</style>\n",
       "<table border=\"1\" class=\"dataframe\">\n",
       "  <thead>\n",
       "    <tr style=\"text-align: right;\">\n",
       "      <th></th>\n",
       "      <th>dummy</th>\n",
       "    </tr>\n",
       "    <tr>\n",
       "      <th>term_str</th>\n",
       "      <th></th>\n",
       "    </tr>\n",
       "  </thead>\n",
       "  <tbody>\n",
       "    <tr>\n",
       "      <th>such</th>\n",
       "      <td>1</td>\n",
       "    </tr>\n",
       "    <tr>\n",
       "      <th>your</th>\n",
       "      <td>1</td>\n",
       "    </tr>\n",
       "    <tr>\n",
       "      <th>by</th>\n",
       "      <td>1</td>\n",
       "    </tr>\n",
       "    <tr>\n",
       "      <th>than</th>\n",
       "      <td>1</td>\n",
       "    </tr>\n",
       "    <tr>\n",
       "      <th>few</th>\n",
       "      <td>1</td>\n",
       "    </tr>\n",
       "    <tr>\n",
       "      <th>s</th>\n",
       "      <td>1</td>\n",
       "    </tr>\n",
       "    <tr>\n",
       "      <th>herself</th>\n",
       "      <td>1</td>\n",
       "    </tr>\n",
       "    <tr>\n",
       "      <th>am</th>\n",
       "      <td>1</td>\n",
       "    </tr>\n",
       "    <tr>\n",
       "      <th>myself</th>\n",
       "      <td>1</td>\n",
       "    </tr>\n",
       "    <tr>\n",
       "      <th>will</th>\n",
       "      <td>1</td>\n",
       "    </tr>\n",
       "  </tbody>\n",
       "</table>\n",
       "</div>"
      ],
      "text/plain": [
       "          dummy\n",
       "term_str       \n",
       "such          1\n",
       "your          1\n",
       "by            1\n",
       "than          1\n",
       "few           1\n",
       "s             1\n",
       "herself       1\n",
       "am            1\n",
       "myself        1\n",
       "will          1"
      ]
     },
     "execution_count": 26,
     "metadata": {},
     "output_type": "execute_result"
    }
   ],
   "source": [
    "sw.sample(10)"
   ]
  },
  {
   "cell_type": "code",
   "execution_count": 27,
   "metadata": {
    "colab": {},
    "colab_type": "code",
    "id": "cVJUOP9l2AS7"
   },
   "outputs": [],
   "source": [
    "VOCAB['stop'] = VOCAB.term_str.map(sw.dummy)\n",
    "VOCAB['stop'] = VOCAB['stop'].fillna(0).astype('int')"
   ]
  },
  {
   "cell_type": "code",
   "execution_count": 28,
   "metadata": {
    "colab": {
     "base_uri": "https://localhost:8080/",
     "height": 375
    },
    "colab_type": "code",
    "id": "QXcA9xyY4JF_",
    "outputId": "340d1dab-1901-4eeb-b9d8-a269eba90dea"
   },
   "outputs": [
    {
     "data": {
      "text/html": [
       "<div>\n",
       "<style scoped>\n",
       "    .dataframe tbody tr th:only-of-type {\n",
       "        vertical-align: middle;\n",
       "    }\n",
       "\n",
       "    .dataframe tbody tr th {\n",
       "        vertical-align: top;\n",
       "    }\n",
       "\n",
       "    .dataframe thead th {\n",
       "        text-align: right;\n",
       "    }\n",
       "</style>\n",
       "<table border=\"1\" class=\"dataframe\">\n",
       "  <thead>\n",
       "    <tr style=\"text-align: right;\">\n",
       "      <th></th>\n",
       "      <th>term_str</th>\n",
       "      <th>n</th>\n",
       "      <th>num</th>\n",
       "      <th>stop</th>\n",
       "    </tr>\n",
       "    <tr>\n",
       "      <th>term_id</th>\n",
       "      <th></th>\n",
       "      <th></th>\n",
       "      <th></th>\n",
       "      <th></th>\n",
       "    </tr>\n",
       "  </thead>\n",
       "  <tbody>\n",
       "    <tr>\n",
       "      <th>27925</th>\n",
       "      <td>theirs</td>\n",
       "      <td>32</td>\n",
       "      <td>0</td>\n",
       "      <td>1</td>\n",
       "    </tr>\n",
       "    <tr>\n",
       "      <th>14911</th>\n",
       "      <td>into</td>\n",
       "      <td>3536</td>\n",
       "      <td>0</td>\n",
       "      <td>1</td>\n",
       "    </tr>\n",
       "    <tr>\n",
       "      <th>19265</th>\n",
       "      <td>or</td>\n",
       "      <td>3340</td>\n",
       "      <td>0</td>\n",
       "      <td>1</td>\n",
       "    </tr>\n",
       "    <tr>\n",
       "      <th>27927</th>\n",
       "      <td>them</td>\n",
       "      <td>3714</td>\n",
       "      <td>0</td>\n",
       "      <td>1</td>\n",
       "    </tr>\n",
       "    <tr>\n",
       "      <th>995</th>\n",
       "      <td>again</td>\n",
       "      <td>1835</td>\n",
       "      <td>0</td>\n",
       "      <td>1</td>\n",
       "    </tr>\n",
       "    <tr>\n",
       "      <th>19402</th>\n",
       "      <td>out</td>\n",
       "      <td>3277</td>\n",
       "      <td>0</td>\n",
       "      <td>1</td>\n",
       "    </tr>\n",
       "    <tr>\n",
       "      <th>24814</th>\n",
       "      <td>she</td>\n",
       "      <td>3899</td>\n",
       "      <td>0</td>\n",
       "      <td>1</td>\n",
       "    </tr>\n",
       "    <tr>\n",
       "      <th>8390</th>\n",
       "      <td>do</td>\n",
       "      <td>2446</td>\n",
       "      <td>0</td>\n",
       "      <td>1</td>\n",
       "    </tr>\n",
       "    <tr>\n",
       "      <th>22384</th>\n",
       "      <td>re</td>\n",
       "      <td>58</td>\n",
       "      <td>0</td>\n",
       "      <td>1</td>\n",
       "    </tr>\n",
       "    <tr>\n",
       "      <th>4013</th>\n",
       "      <td>but</td>\n",
       "      <td>9907</td>\n",
       "      <td>0</td>\n",
       "      <td>1</td>\n",
       "    </tr>\n",
       "  </tbody>\n",
       "</table>\n",
       "</div>"
      ],
      "text/plain": [
       "        term_str     n  num  stop\n",
       "term_id                          \n",
       "27925     theirs    32    0     1\n",
       "14911       into  3536    0     1\n",
       "19265         or  3340    0     1\n",
       "27927       them  3714    0     1\n",
       "995        again  1835    0     1\n",
       "19402        out  3277    0     1\n",
       "24814        she  3899    0     1\n",
       "8390          do  2446    0     1\n",
       "22384         re    58    0     1\n",
       "4013         but  9907    0     1"
      ]
     },
     "execution_count": 28,
     "metadata": {},
     "output_type": "execute_result"
    }
   ],
   "source": [
    "VOCAB[VOCAB.stop == 1].sample(10)"
   ]
  },
  {
   "cell_type": "markdown",
   "metadata": {
    "colab_type": "text",
    "id": "bDSH9L2TXGzH"
   },
   "source": [
    "## Add Stems"
   ]
  },
  {
   "cell_type": "code",
   "execution_count": 29,
   "metadata": {
    "colab": {},
    "colab_type": "code",
    "id": "mE_YGklKXSYn"
   },
   "outputs": [],
   "source": [
    "from nltk.stem.porter import PorterStemmer\n",
    "\n",
    "stemmer = PorterStemmer()\n",
    "VOCAB['p_stem'] = VOCAB.term_str.apply(stemmer.stem)"
   ]
  },
  {
   "cell_type": "code",
   "execution_count": 30,
   "metadata": {
    "colab": {
     "base_uri": "https://localhost:8080/",
     "height": 375
    },
    "colab_type": "code",
    "id": "dY__Bq0yXqbj",
    "outputId": "eddcdafe-e378-4f7b-ac6b-1fc41ef64fbb"
   },
   "outputs": [
    {
     "data": {
      "text/html": [
       "<div>\n",
       "<style scoped>\n",
       "    .dataframe tbody tr th:only-of-type {\n",
       "        vertical-align: middle;\n",
       "    }\n",
       "\n",
       "    .dataframe tbody tr th {\n",
       "        vertical-align: top;\n",
       "    }\n",
       "\n",
       "    .dataframe thead th {\n",
       "        text-align: right;\n",
       "    }\n",
       "</style>\n",
       "<table border=\"1\" class=\"dataframe\">\n",
       "  <thead>\n",
       "    <tr style=\"text-align: right;\">\n",
       "      <th></th>\n",
       "      <th>term_str</th>\n",
       "      <th>n</th>\n",
       "      <th>num</th>\n",
       "      <th>stop</th>\n",
       "      <th>p_stem</th>\n",
       "    </tr>\n",
       "    <tr>\n",
       "      <th>term_id</th>\n",
       "      <th></th>\n",
       "      <th></th>\n",
       "      <th></th>\n",
       "      <th></th>\n",
       "      <th></th>\n",
       "    </tr>\n",
       "  </thead>\n",
       "  <tbody>\n",
       "    <tr>\n",
       "      <th>3323</th>\n",
       "      <td>bluntly</td>\n",
       "      <td>2</td>\n",
       "      <td>0</td>\n",
       "      <td>0</td>\n",
       "      <td>bluntli</td>\n",
       "    </tr>\n",
       "    <tr>\n",
       "      <th>6528</th>\n",
       "      <td>cragsman</td>\n",
       "      <td>1</td>\n",
       "      <td>0</td>\n",
       "      <td>0</td>\n",
       "      <td>cragsman</td>\n",
       "    </tr>\n",
       "    <tr>\n",
       "      <th>24393</th>\n",
       "      <td>seals</td>\n",
       "      <td>26</td>\n",
       "      <td>0</td>\n",
       "      <td>0</td>\n",
       "      <td>seal</td>\n",
       "    </tr>\n",
       "    <tr>\n",
       "      <th>17775</th>\n",
       "      <td>mistakes</td>\n",
       "      <td>3</td>\n",
       "      <td>0</td>\n",
       "      <td>0</td>\n",
       "      <td>mistak</td>\n",
       "    </tr>\n",
       "    <tr>\n",
       "      <th>30316</th>\n",
       "      <td>vitiated</td>\n",
       "      <td>5</td>\n",
       "      <td>0</td>\n",
       "      <td>0</td>\n",
       "      <td>vitiat</td>\n",
       "    </tr>\n",
       "    <tr>\n",
       "      <th>21406</th>\n",
       "      <td>previously</td>\n",
       "      <td>36</td>\n",
       "      <td>0</td>\n",
       "      <td>0</td>\n",
       "      <td>previous</td>\n",
       "    </tr>\n",
       "    <tr>\n",
       "      <th>4536</th>\n",
       "      <td>ccdrmi</td>\n",
       "      <td>1</td>\n",
       "      <td>0</td>\n",
       "      <td>0</td>\n",
       "      <td>ccdrmi</td>\n",
       "    </tr>\n",
       "    <tr>\n",
       "      <th>11645</th>\n",
       "      <td>gamblers</td>\n",
       "      <td>1</td>\n",
       "      <td>0</td>\n",
       "      <td>0</td>\n",
       "      <td>gambler</td>\n",
       "    </tr>\n",
       "    <tr>\n",
       "      <th>10562</th>\n",
       "      <td>fetter</td>\n",
       "      <td>2</td>\n",
       "      <td>0</td>\n",
       "      <td>0</td>\n",
       "      <td>fetter</td>\n",
       "    </tr>\n",
       "    <tr>\n",
       "      <th>7496</th>\n",
       "      <td>densest</td>\n",
       "      <td>2</td>\n",
       "      <td>0</td>\n",
       "      <td>0</td>\n",
       "      <td>densest</td>\n",
       "    </tr>\n",
       "  </tbody>\n",
       "</table>\n",
       "</div>"
      ],
      "text/plain": [
       "           term_str   n  num  stop    p_stem\n",
       "term_id                                     \n",
       "3323        bluntly   2    0     0   bluntli\n",
       "6528       cragsman   1    0     0  cragsman\n",
       "24393         seals  26    0     0      seal\n",
       "17775      mistakes   3    0     0    mistak\n",
       "30316      vitiated   5    0     0    vitiat\n",
       "21406    previously  36    0     0  previous\n",
       "4536         ccdrmi   1    0     0    ccdrmi\n",
       "11645      gamblers   1    0     0   gambler\n",
       "10562        fetter   2    0     0    fetter\n",
       "7496        densest   2    0     0   densest"
      ]
     },
     "execution_count": 30,
     "metadata": {},
     "output_type": "execute_result"
    }
   ],
   "source": [
    "VOCAB.sample(10)"
   ]
  },
  {
   "cell_type": "markdown",
   "metadata": {},
   "source": [
    "## Add pos_max"
   ]
  },
  {
   "cell_type": "code",
   "execution_count": 31,
   "metadata": {},
   "outputs": [
    {
     "data": {
      "text/html": [
       "<div>\n",
       "<style scoped>\n",
       "    .dataframe tbody tr th:only-of-type {\n",
       "        vertical-align: middle;\n",
       "    }\n",
       "\n",
       "    .dataframe tbody tr th {\n",
       "        vertical-align: top;\n",
       "    }\n",
       "\n",
       "    .dataframe thead th {\n",
       "        text-align: right;\n",
       "    }\n",
       "</style>\n",
       "<table border=\"1\" class=\"dataframe\">\n",
       "  <thead>\n",
       "    <tr style=\"text-align: right;\">\n",
       "      <th></th>\n",
       "      <th>book_title</th>\n",
       "      <th>author</th>\n",
       "      <th>book_file</th>\n",
       "    </tr>\n",
       "    <tr>\n",
       "      <th>book_id</th>\n",
       "      <th></th>\n",
       "      <th></th>\n",
       "      <th></th>\n",
       "    </tr>\n",
       "  </thead>\n",
       "  <tbody>\n",
       "    <tr>\n",
       "      <th>201</th>\n",
       "      <td>Flatland: A Romance of Many Dimensions</td>\n",
       "      <td>ABBOTT</td>\n",
       "      <td>./allBooks\\ABBOTT_EDWIN_ABBOTT_FLATLAND_A_ROMA...</td>\n",
       "    </tr>\n",
       "    <tr>\n",
       "      <th>62</th>\n",
       "      <td>A Princess of Mars</td>\n",
       "      <td>BURROUGHS</td>\n",
       "      <td>./allBooks\\BURROUGHS_EDGAR_RICE_A_PRINCESS_OF_...</td>\n",
       "    </tr>\n",
       "    <tr>\n",
       "      <th>64</th>\n",
       "      <td>The Gods of Mars</td>\n",
       "      <td>BURROUGHS</td>\n",
       "      <td>./allBooks\\BURROUGHS_EDGAR_RICE_THE_GODS_OF_MA...</td>\n",
       "    </tr>\n",
       "    <tr>\n",
       "      <th>28554</th>\n",
       "      <td>Beyond Lies the Wub</td>\n",
       "      <td>DICK</td>\n",
       "      <td>./allBooks\\DICK_PHILIP_K_BEYOND_LIES_THE_WUB-p...</td>\n",
       "    </tr>\n",
       "    <tr>\n",
       "      <th>32032</th>\n",
       "      <td>Second Variety</td>\n",
       "      <td>DICK</td>\n",
       "      <td>./allBooks\\DICK_PHILIP_K_SECOND_VARIETY-pg3203...</td>\n",
       "    </tr>\n",
       "    <tr>\n",
       "      <th>31516</th>\n",
       "      <td>The Eyes Have It</td>\n",
       "      <td>DICK</td>\n",
       "      <td>./allBooks\\DICK_PHILIP_K_THE_EYES_HAVE_IT-pg31...</td>\n",
       "    </tr>\n",
       "    <tr>\n",
       "      <th>41562</th>\n",
       "      <td>The Hanging Stranger</td>\n",
       "      <td>DICK</td>\n",
       "      <td>./allBooks\\DICK_PHILIP_K_THE_HANGING_STRANGER-...</td>\n",
       "    </tr>\n",
       "    <tr>\n",
       "      <th>139</th>\n",
       "      <td>The Lost World</td>\n",
       "      <td>DOYLE</td>\n",
       "      <td>./allBooks\\DOYLE_ARTHUR_CONAN_THE_LOST_WORLD-p...</td>\n",
       "    </tr>\n",
       "    <tr>\n",
       "      <th>10662</th>\n",
       "      <td>The Night Land</td>\n",
       "      <td>HODGSON</td>\n",
       "      <td>./allBooks\\HODGSON_WILLIAM_HOPE_THE_NIGHT_LAND...</td>\n",
       "    </tr>\n",
       "    <tr>\n",
       "      <th>42243</th>\n",
       "      <td>The Hour of the Dragon</td>\n",
       "      <td>HOWARD</td>\n",
       "      <td>./allBooks\\HOWARD_ROBERT_E_ROBERT_ERVIN_THE_HO...</td>\n",
       "    </tr>\n",
       "    <tr>\n",
       "      <th>51233</th>\n",
       "      <td>The Marching Morons</td>\n",
       "      <td>KORNBLUTH</td>\n",
       "      <td>./allBooks\\KORNBLUTH_C_M_CYRIL_M_THE_MARCHING_...</td>\n",
       "    </tr>\n",
       "    <tr>\n",
       "      <th>1329</th>\n",
       "      <td>A Voyage to Arcturus</td>\n",
       "      <td>LINDSAY</td>\n",
       "      <td>./allBooks\\LINDSAY_DAVID_A_VOYAGE_TO_ARCTURUS-...</td>\n",
       "    </tr>\n",
       "    <tr>\n",
       "      <th>29614</th>\n",
       "      <td>The Game of Rat and Dragon</td>\n",
       "      <td>LINEBARGER</td>\n",
       "      <td>./allBooks\\LINEBARGER_PAUL_MYRON_ANTHONY_THE_G...</td>\n",
       "    </tr>\n",
       "    <tr>\n",
       "      <th>1250</th>\n",
       "      <td>Anthem</td>\n",
       "      <td>RAND</td>\n",
       "      <td>./allBooks\\RAND_AYN_ANTHEM-pg1250.txt</td>\n",
       "    </tr>\n",
       "    <tr>\n",
       "      <th>18857</th>\n",
       "      <td>A Journey to the Centre of the Earth</td>\n",
       "      <td>VERNE</td>\n",
       "      <td>./allBooks\\VERNE_JULES_A_JOURNEY_TO_THE_CENTRE...</td>\n",
       "    </tr>\n",
       "    <tr>\n",
       "      <th>83</th>\n",
       "      <td>From the Earth to the Moon; and, Round the Moon</td>\n",
       "      <td>VERNE</td>\n",
       "      <td>./allBooks\\VERNE_JULES_FROM_THE_EARTH_TO_THE_M...</td>\n",
       "    </tr>\n",
       "    <tr>\n",
       "      <th>1268</th>\n",
       "      <td>The Mysterious Island</td>\n",
       "      <td>VERNE</td>\n",
       "      <td>./allBooks\\VERNE_JULES_THE_MYSTERIOUS_ISLAND-p...</td>\n",
       "    </tr>\n",
       "    <tr>\n",
       "      <th>164</th>\n",
       "      <td>Twenty Thousand Leagues under the Sea</td>\n",
       "      <td>VERNE</td>\n",
       "      <td>./allBooks\\VERNE_JULES_TWENTY_THOUSAND_LEAGUES...</td>\n",
       "    </tr>\n",
       "    <tr>\n",
       "      <th>21279</th>\n",
       "      <td>2 B R 0 2 B</td>\n",
       "      <td>VONNEGUT</td>\n",
       "      <td>./allBooks\\VONNEGUT_KURT_2_B_R_0_2_B-pg21279.txt</td>\n",
       "    </tr>\n",
       "    <tr>\n",
       "      <th>30240</th>\n",
       "      <td>The Big Trip Up Yonder</td>\n",
       "      <td>VONNEGUT</td>\n",
       "      <td>./allBooks\\VONNEGUT_KURT_THE_BIG_TRIP_UP_YONDE...</td>\n",
       "    </tr>\n",
       "    <tr>\n",
       "      <th>23731</th>\n",
       "      <td>A Martian Odyssey</td>\n",
       "      <td>WEINBAUM</td>\n",
       "      <td>./allBooks\\WEINBAUM_STANLEY_G_STANLEY_GRAUMAN_...</td>\n",
       "    </tr>\n",
       "    <tr>\n",
       "      <th>11870</th>\n",
       "      <td>The Country of the Blind, and Other Stories</td>\n",
       "      <td>WELLS</td>\n",
       "      <td>./allBooks\\WELLS_H_G_HERBERT_GEORGE_THE_COUNTR...</td>\n",
       "    </tr>\n",
       "    <tr>\n",
       "      <th>159</th>\n",
       "      <td>The island of Doctor Moreau</td>\n",
       "      <td>WELLS</td>\n",
       "      <td>./allBooks\\WELLS_H_G_HERBERT_GEORGE_THE_ISLAND...</td>\n",
       "    </tr>\n",
       "    <tr>\n",
       "      <th>35</th>\n",
       "      <td>The Time Machine</td>\n",
       "      <td>WELLS</td>\n",
       "      <td>./allBooks\\WELLS_H_G_HERBERT_GEORGE_THE_TIME_M...</td>\n",
       "    </tr>\n",
       "    <tr>\n",
       "      <th>36</th>\n",
       "      <td>The War of the Worlds</td>\n",
       "      <td>WELLS</td>\n",
       "      <td>./allBooks\\WELLS_H_G_HERBERT_GEORGE_THE_WAR_OF...</td>\n",
       "    </tr>\n",
       "  </tbody>\n",
       "</table>\n",
       "</div>"
      ],
      "text/plain": [
       "                                              book_title      author  \\\n",
       "book_id                                                                \n",
       "201               Flatland: A Romance of Many Dimensions      ABBOTT   \n",
       "62                                    A Princess of Mars   BURROUGHS   \n",
       "64                                      The Gods of Mars   BURROUGHS   \n",
       "28554                                Beyond Lies the Wub        DICK   \n",
       "32032                                     Second Variety        DICK   \n",
       "31516                                   The Eyes Have It        DICK   \n",
       "41562                               The Hanging Stranger        DICK   \n",
       "139                                       The Lost World       DOYLE   \n",
       "10662                                     The Night Land     HODGSON   \n",
       "42243                             The Hour of the Dragon      HOWARD   \n",
       "51233                                The Marching Morons   KORNBLUTH   \n",
       "1329                                A Voyage to Arcturus     LINDSAY   \n",
       "29614                         The Game of Rat and Dragon  LINEBARGER   \n",
       "1250                                              Anthem        RAND   \n",
       "18857               A Journey to the Centre of the Earth       VERNE   \n",
       "83       From the Earth to the Moon; and, Round the Moon       VERNE   \n",
       "1268                               The Mysterious Island       VERNE   \n",
       "164                Twenty Thousand Leagues under the Sea       VERNE   \n",
       "21279                                        2 B R 0 2 B    VONNEGUT   \n",
       "30240                             The Big Trip Up Yonder    VONNEGUT   \n",
       "23731                                  A Martian Odyssey    WEINBAUM   \n",
       "11870        The Country of the Blind, and Other Stories       WELLS   \n",
       "159                          The island of Doctor Moreau       WELLS   \n",
       "35                                      The Time Machine       WELLS   \n",
       "36                                 The War of the Worlds       WELLS   \n",
       "\n",
       "                                                 book_file  \n",
       "book_id                                                     \n",
       "201      ./allBooks\\ABBOTT_EDWIN_ABBOTT_FLATLAND_A_ROMA...  \n",
       "62       ./allBooks\\BURROUGHS_EDGAR_RICE_A_PRINCESS_OF_...  \n",
       "64       ./allBooks\\BURROUGHS_EDGAR_RICE_THE_GODS_OF_MA...  \n",
       "28554    ./allBooks\\DICK_PHILIP_K_BEYOND_LIES_THE_WUB-p...  \n",
       "32032    ./allBooks\\DICK_PHILIP_K_SECOND_VARIETY-pg3203...  \n",
       "31516    ./allBooks\\DICK_PHILIP_K_THE_EYES_HAVE_IT-pg31...  \n",
       "41562    ./allBooks\\DICK_PHILIP_K_THE_HANGING_STRANGER-...  \n",
       "139      ./allBooks\\DOYLE_ARTHUR_CONAN_THE_LOST_WORLD-p...  \n",
       "10662    ./allBooks\\HODGSON_WILLIAM_HOPE_THE_NIGHT_LAND...  \n",
       "42243    ./allBooks\\HOWARD_ROBERT_E_ROBERT_ERVIN_THE_HO...  \n",
       "51233    ./allBooks\\KORNBLUTH_C_M_CYRIL_M_THE_MARCHING_...  \n",
       "1329     ./allBooks\\LINDSAY_DAVID_A_VOYAGE_TO_ARCTURUS-...  \n",
       "29614    ./allBooks\\LINEBARGER_PAUL_MYRON_ANTHONY_THE_G...  \n",
       "1250                 ./allBooks\\RAND_AYN_ANTHEM-pg1250.txt  \n",
       "18857    ./allBooks\\VERNE_JULES_A_JOURNEY_TO_THE_CENTRE...  \n",
       "83       ./allBooks\\VERNE_JULES_FROM_THE_EARTH_TO_THE_M...  \n",
       "1268     ./allBooks\\VERNE_JULES_THE_MYSTERIOUS_ISLAND-p...  \n",
       "164      ./allBooks\\VERNE_JULES_TWENTY_THOUSAND_LEAGUES...  \n",
       "21279     ./allBooks\\VONNEGUT_KURT_2_B_R_0_2_B-pg21279.txt  \n",
       "30240    ./allBooks\\VONNEGUT_KURT_THE_BIG_TRIP_UP_YONDE...  \n",
       "23731    ./allBooks\\WEINBAUM_STANLEY_G_STANLEY_GRAUMAN_...  \n",
       "11870    ./allBooks\\WELLS_H_G_HERBERT_GEORGE_THE_COUNTR...  \n",
       "159      ./allBooks\\WELLS_H_G_HERBERT_GEORGE_THE_ISLAND...  \n",
       "35       ./allBooks\\WELLS_H_G_HERBERT_GEORGE_THE_TIME_M...  \n",
       "36       ./allBooks\\WELLS_H_G_HERBERT_GEORGE_THE_WAR_OF...  "
      ]
     },
     "execution_count": 31,
     "metadata": {},
     "output_type": "execute_result"
    }
   ],
   "source": [
    "LIB"
   ]
  },
  {
   "cell_type": "code",
   "execution_count": 32,
   "metadata": {},
   "outputs": [
    {
     "data": {
      "text/plain": [
       "'Sat Apr 13 13:11:15 2024'"
      ]
     },
     "execution_count": 32,
     "metadata": {},
     "output_type": "execute_result"
    }
   ],
   "source": [
    "time.ctime() # 'Mon Oct 18 13:35:29 2010'"
   ]
  },
  {
   "cell_type": "markdown",
   "metadata": {},
   "source": [
    "# Save"
   ]
  },
  {
   "cell_type": "code",
   "execution_count": 33,
   "metadata": {},
   "outputs": [],
   "source": [
    "DOC.to_csv(outputDir+'DOC.csv')\n",
    "LIB.to_csv(outputDir+'LIB2.csv')\n",
    "VOCAB.to_csv(outputDir+'VOCAB.csv')\n",
    "TOKEN.to_csv(outputDir+'TOKEN.csv')"
   ]
  },
  {
   "cell_type": "code",
   "execution_count": 34,
   "metadata": {},
   "outputs": [
    {
     "name": "stdout",
     "output_type": "stream",
     "text": [
      "All done writing files\n"
     ]
    }
   ],
   "source": [
    "print(\"All done writing files\")"
   ]
  },
  {
   "cell_type": "code",
   "execution_count": 35,
   "metadata": {},
   "outputs": [
    {
     "data": {
      "text/plain": [
       "'Sat Apr 13 13:11:22 2024'"
      ]
     },
     "execution_count": 35,
     "metadata": {},
     "output_type": "execute_result"
    }
   ],
   "source": [
    "time.ctime() # 'Mon Oct 18 13:35:29 2010'"
   ]
  },
  {
   "cell_type": "markdown",
   "metadata": {},
   "source": [
    "# Save to SQLite"
   ]
  },
  {
   "cell_type": "code",
   "execution_count": 36,
   "metadata": {},
   "outputs": [],
   "source": [
    "#import sqlite3\n",
    "\n",
    "#TOKEN = TOKEN.drop('pos_tuple', 1)\n",
    "\n",
    "#with sqlite3.connect('mod4-corpus.db') as db:\n",
    "#    DOC.to_sql('doc', db, index=True, if_exists='replace')\n",
    "#    LIB.to_sql('lib', db, index=True, if_exists='replace')\n",
    "#    VOCAB.to_sql('vocab', db, index=True, if_exists='replace')\n",
    "#    TOKEN.to_sql('token', db, index=True, if_exists='replace')"
   ]
  },
  {
   "cell_type": "markdown",
   "metadata": {},
   "source": [
    "# Appendix: Explore NER tagging"
   ]
  },
  {
   "cell_type": "code",
   "execution_count": 37,
   "metadata": {},
   "outputs": [
    {
     "name": "stdout",
     "output_type": "stream",
     "text": [
      "Wall time: 6min 55s\n"
     ]
    }
   ],
   "source": [
    "%time NER = TOKEN.groupby(OHCO[:4]).pos_tuple.apply(lambda x: nltk.ne_chunk(x.tolist())).to_frame().rename(columns={'pos_tuple':'nltk_sentence'})"
   ]
  },
  {
   "cell_type": "code",
   "execution_count": 38,
   "metadata": {},
   "outputs": [
    {
     "data": {
      "image/png": "[encoded data removed]",
      "text/plain": [
       "Tree('S', [('The', 'DT'), ('geometry,', 'NN'), ('for', 'IN'), ('instance,', 'NN'), ('they', 'PRP'), ('taught', 'VBD'), ('you', 'PRP'), ('at', 'IN'), ('school', 'NN'), ('is', 'VBZ'), ('founded', 'VBN'), ('on', 'IN'), ('a', 'DT'), ('misconception.”', 'NN')])"
      ]
     },
     "execution_count": 38,
     "metadata": {},
     "output_type": "execute_result"
    }
   ],
   "source": [
    "NER.iloc[8].values[0]"
   ]
  },
  {
   "cell_type": "code",
   "execution_count": 39,
   "metadata": {},
   "outputs": [
    {
     "data": {
      "image/png": "[encoded data removed]",
      "text/plain": [
       "Tree('S', [Tree('PERSON', [('Filby', 'NNP')]), ('became', 'VBD'), ('pensive.', 'JJ')])"
      ]
     },
     "execution_count": 39,
     "metadata": {},
     "output_type": "execute_result"
    }
   ],
   "source": [
    "NER.iloc[26].values[0]"
   ]
  },
  {
   "cell_type": "markdown",
   "metadata": {
    "colab_type": "text",
    "id": "NfMtOiCYDylX",
    "toc-hr-collapsed": false
   },
   "source": [
    "# POS Tagset\n",
    "\n",
    "This a token-level feature -- not a vocab feature"
   ]
  },
  {
   "cell_type": "code",
   "execution_count": 40,
   "metadata": {
    "colab": {},
    "colab_type": "code",
    "id": "FFoFrPTSN4s_"
   },
   "outputs": [
    {
     "name": "stdout",
     "output_type": "stream",
     "text": [
      "$: dollar\n",
      "    $ -$ --$ A$ C$ HK$ M$ NZ$ S$ U.S.$ US$\n",
      "'': closing quotation mark\n",
      "    ' ''\n",
      "(: opening parenthesis\n",
      "    ( [ {\n",
      "): closing parenthesis\n",
      "    ) ] }\n",
      ",: comma\n",
      "    ,\n",
      "--: dash\n",
      "    --\n",
      ".: sentence terminator\n",
      "    . ! ?\n",
      ":: colon or ellipsis\n",
      "    : ; ...\n",
      "CC: conjunction, coordinating\n",
      "    & 'n and both but either et for less minus neither nor or plus so\n",
      "    therefore times v. versus vs. whether yet\n",
      "CD: numeral, cardinal\n",
      "    mid-1890 nine-thirty forty-two one-tenth ten million 0.5 one forty-\n",
      "    seven 1987 twenty '79 zero two 78-degrees eighty-four IX '60s .025\n",
      "    fifteen 271,124 dozen quintillion DM2,000 ...\n",
      "DT: determiner\n",
      "    all an another any both del each either every half la many much nary\n",
      "    neither no some such that the them these this those\n",
      "EX: existential there\n",
      "    there\n",
      "FW: foreign word\n",
      "    gemeinschaft hund ich jeux habeas Haementeria Herr K'ang-si vous\n",
      "    lutihaw alai je jour objets salutaris fille quibusdam pas trop Monte\n",
      "    terram fiche oui corporis ...\n",
      "IN: preposition or conjunction, subordinating\n",
      "    astride among uppon whether out inside pro despite on by throughout\n",
      "    below within for towards near behind atop around if like until below\n",
      "    next into if beside ...\n",
      "JJ: adjective or numeral, ordinal\n",
      "    third ill-mannered pre-war regrettable oiled calamitous first separable\n",
      "    ectoplasmic battery-powered participatory fourth still-to-be-named\n",
      "    multilingual multi-disciplinary ...\n",
      "JJR: adjective, comparative\n",
      "    bleaker braver breezier briefer brighter brisker broader bumper busier\n",
      "    calmer cheaper choosier cleaner clearer closer colder commoner costlier\n",
      "    cozier creamier crunchier cuter ...\n",
      "JJS: adjective, superlative\n",
      "    calmest cheapest choicest classiest cleanest clearest closest commonest\n",
      "    corniest costliest crassest creepiest crudest cutest darkest deadliest\n",
      "    dearest deepest densest dinkiest ...\n",
      "LS: list item marker\n",
      "    A A. B B. C C. D E F First G H I J K One SP-44001 SP-44002 SP-44005\n",
      "    SP-44007 Second Third Three Two * a b c d first five four one six three\n",
      "    two\n",
      "MD: modal auxiliary\n",
      "    can cannot could couldn't dare may might must need ought shall should\n",
      "    shouldn't will would\n",
      "NN: noun, common, singular or mass\n",
      "    common-carrier cabbage knuckle-duster Casino afghan shed thermostat\n",
      "    investment slide humour falloff slick wind hyena override subhumanity\n",
      "    machinist ...\n",
      "NNP: noun, proper, singular\n",
      "    Motown Venneboerger Czestochwa Ranzer Conchita Trumplane Christos\n",
      "    Oceanside Escobar Kreisler Sawyer Cougar Yvette Ervin ODI Darryl CTCA\n",
      "    Shannon A.K.C. Meltex Liverpool ...\n",
      "NNPS: noun, proper, plural\n",
      "    Americans Americas Amharas Amityvilles Amusements Anarcho-Syndicalists\n",
      "    Andalusians Andes Andruses Angels Animals Anthony Antilles Antiques\n",
      "    Apache Apaches Apocrypha ...\n",
      "NNS: noun, common, plural\n",
      "    undergraduates scotches bric-a-brac products bodyguards facets coasts\n",
      "    divestitures storehouses designs clubs fragrances averages\n",
      "    subjectivists apprehensions muses factory-jobs ...\n",
      "PDT: pre-determiner\n",
      "    all both half many quite such sure this\n",
      "POS: genitive marker\n",
      "    ' 's\n",
      "PRP: pronoun, personal\n",
      "    hers herself him himself hisself it itself me myself one oneself ours\n",
      "    ourselves ownself self she thee theirs them themselves they thou thy us\n",
      "PRP$: pronoun, possessive\n",
      "    her his mine my our ours their thy your\n",
      "RB: adverb\n",
      "    occasionally unabatingly maddeningly adventurously professedly\n",
      "    stirringly prominently technologically magisterially predominately\n",
      "    swiftly fiscally pitilessly ...\n",
      "RBR: adverb, comparative\n",
      "    further gloomier grander graver greater grimmer harder harsher\n",
      "    healthier heavier higher however larger later leaner lengthier less-\n",
      "    perfectly lesser lonelier longer louder lower more ...\n",
      "RBS: adverb, superlative\n",
      "    best biggest bluntest earliest farthest first furthest hardest\n",
      "    heartiest highest largest least less most nearest second tightest worst\n",
      "RP: particle\n",
      "    aboard about across along apart around aside at away back before behind\n",
      "    by crop down ever fast for forth from go high i.e. in into just later\n",
      "    low more off on open out over per pie raising start teeth that through\n",
      "    under unto up up-pp upon whole with you\n",
      "SYM: symbol\n",
      "    % & ' '' ''. ) ). * + ,. < = > @ A[fj] U.S U.S.S.R * ** ***\n",
      "TO: \"to\" as preposition or infinitive marker\n",
      "    to\n",
      "UH: interjection\n",
      "    Goodbye Goody Gosh Wow Jeepers Jee-sus Hubba Hey Kee-reist Oops amen\n",
      "    huh howdy uh dammit whammo shucks heck anyways whodunnit honey golly\n",
      "    man baby diddle hush sonuvabitch ...\n",
      "VB: verb, base form\n",
      "    ask assemble assess assign assume atone attention avoid bake balkanize\n",
      "    bank begin behold believe bend benefit bevel beware bless boil bomb\n",
      "    boost brace break bring broil brush build ...\n",
      "VBD: verb, past tense\n",
      "    dipped pleaded swiped regummed soaked tidied convened halted registered\n",
      "    cushioned exacted snubbed strode aimed adopted belied figgered\n",
      "    speculated wore appreciated contemplated ...\n",
      "VBG: verb, present participle or gerund\n",
      "    telegraphing stirring focusing angering judging stalling lactating\n",
      "    hankerin' alleging veering capping approaching traveling besieging\n",
      "    encrypting interrupting erasing wincing ...\n",
      "VBN: verb, past participle\n",
      "    multihulled dilapidated aerosolized chaired languished panelized used\n",
      "    experimented flourished imitated reunifed factored condensed sheared\n",
      "    unsettled primed dubbed desired ...\n",
      "VBP: verb, present tense, not 3rd person singular\n",
      "    predominate wrap resort sue twist spill cure lengthen brush terminate\n",
      "    appear tend stray glisten obtain comprise detest tease attract\n",
      "    emphasize mold postpone sever return wag ...\n",
      "VBZ: verb, present tense, 3rd person singular\n",
      "    bases reconstructs marks mixes displeases seals carps weaves snatches\n",
      "    slumps stretches authorizes smolders pictures emerges stockpiles\n",
      "    seduces fizzes uses bolsters slaps speaks pleads ...\n",
      "WDT: WH-determiner\n",
      "    that what whatever which whichever\n",
      "WP: WH-pronoun\n",
      "    that what whatever whatsoever which who whom whosoever\n",
      "WP$: WH-pronoun, possessive\n",
      "    whose\n",
      "WRB: Wh-adverb\n",
      "    how however whence whenever where whereby whereever wherein whereof why\n",
      "``: opening quotation mark\n",
      "    ` ``\n"
     ]
    }
   ],
   "source": [
    "nltk.help.upenn_tagset()"
   ]
  },
  {
   "cell_type": "code",
   "execution_count": 41,
   "metadata": {},
   "outputs": [
    {
     "data": {
      "text/plain": [
       "'1.4.4'"
      ]
     },
     "execution_count": 41,
     "metadata": {},
     "output_type": "execute_result"
    }
   ],
   "source": [
    "pd.__version__"
   ]
  },
  {
   "cell_type": "code",
   "execution_count": null,
   "metadata": {},
   "outputs": [],
   "source": []
  },
  {
   "cell_type": "code",
   "execution_count": null,
   "metadata": {},
   "outputs": [],
   "source": []
  }
 ],
 "metadata": {
  "colab": {
   "collapsed_sections": [],
   "name": "DS5559_Annotations.ipynb",
   "provenance": [],
   "toc_visible": true,
   "version": "0.3.2"
  },
  "kernelspec": {
   "display_name": "Python 3 (ipykernel)",
   "language": "python",
   "name": "python3"
  },
  "language_info": {
   "codemirror_mode": {
    "name": "ipython",
    "version": 3
   },
   "file_extension": ".py",
   "mimetype": "text/x-python",
   "name": "python",
   "nbconvert_exporter": "python",
   "pygments_lexer": "ipython3",
   "version": "3.9.7"
  },
  "widgets": {
   "application/vnd.jupyter.widget-state+json": {
    "state": {},
    "version_major": 2,
    "version_minor": 0
   }
  }
 },
 "nbformat": 4,
 "nbformat_minor": 4
}
