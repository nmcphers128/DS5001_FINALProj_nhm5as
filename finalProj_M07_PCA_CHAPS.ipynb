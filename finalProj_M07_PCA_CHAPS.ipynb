{
  "cells": [
    {
      "cell_type": "markdown",
      "metadata": {
        "id": "view-in-github",
        "colab_type": "text"
      },
      "source": [
        "<a href=\"https://colab.research.google.com/github/nmcphers128/DS5001_FINALProj_nhm5as/blob/main/finalProj_M07_PCA_CHAPS.ipynb\" target=\"_parent\"><img src=\"https://colab.research.google.com/assets/colab-badge.svg\" alt=\"Open In Colab\"/></a>"
      ]
    },
    {
      "cell_type": "markdown",
      "metadata": {
        "toc-hr-collapsed": false,
        "id": "9pIAkhj2n7J4"
      },
      "source": [
        "# FINAL PROJ Module 7: PCA  -- THIS IS AT THE BOOKID+CHAP LEVEL --\n",
        "\n",
        "* DS 5001\n",
        "* from the orig by Raf Alvarado and modified by Neil McPherson -- March 12, 2024\n",
        "\n"
      ]
    },
    {
      "cell_type": "markdown",
      "metadata": {
        "id": "KrQhG5K6n7J5"
      },
      "source": [
        "# Overview\n",
        "\n",
        "* Implement PCA from scratch\n",
        "* Work with word vectors"
      ]
    },
    {
      "cell_type": "markdown",
      "metadata": {
        "toc-hr-collapsed": true,
        "id": "2RUG5iCtn7J5"
      },
      "source": [
        "# Set Up"
      ]
    },
    {
      "cell_type": "markdown",
      "metadata": {
        "toc-hr-collapsed": false,
        "id": "WYsJxyBtn7J5"
      },
      "source": [
        "## Config\n",
        "\n",
        "We define two OHCO lists, one to match the reduced TFIDF table we are importing, and the other to define the table after we compress this table to make clustering easier."
      ]
    },
    {
      "cell_type": "code",
      "execution_count": null,
      "metadata": {
        "id": "sUBnvx-rn7J5"
      },
      "outputs": [],
      "source": [
        "OHCO_c = ['book_id', 'chap_num']\n",
        "OHCO_b = ['book_id']\n",
        "input_dir = \"/content/drive/MyDrive/DS5001_finalProj/outputFiles/\""
      ]
    },
    {
      "cell_type": "code",
      "source": [
        "#!pip install plotly_express"
      ],
      "metadata": {
        "id": "VvkUR_-Qorqg",
        "colab": {
          "base_uri": "https://localhost:8080/"
        },
        "outputId": "9a3cde5c-9046-4b1c-dd76-68b05fa9f71d"
      },
      "execution_count": null,
      "outputs": [
        {
          "output_type": "stream",
          "name": "stdout",
          "text": [
            "Collecting plotly_express\n",
            "  Downloading plotly_express-0.4.1-py2.py3-none-any.whl (2.9 kB)\n",
            "Requirement already satisfied: pandas>=0.20.0 in /usr/local/lib/python3.10/dist-packages (from plotly_express) (2.0.3)\n",
            "Requirement already satisfied: plotly>=4.1.0 in /usr/local/lib/python3.10/dist-packages (from plotly_express) (5.15.0)\n",
            "Requirement already satisfied: statsmodels>=0.9.0 in /usr/local/lib/python3.10/dist-packages (from plotly_express) (0.14.1)\n",
            "Requirement already satisfied: scipy>=0.18 in /usr/local/lib/python3.10/dist-packages (from plotly_express) (1.11.4)\n",
            "Requirement already satisfied: patsy>=0.5 in /usr/local/lib/python3.10/dist-packages (from plotly_express) (0.5.6)\n",
            "Requirement already satisfied: numpy>=1.11 in /usr/local/lib/python3.10/dist-packages (from plotly_express) (1.25.2)\n",
            "Requirement already satisfied: python-dateutil>=2.8.2 in /usr/local/lib/python3.10/dist-packages (from pandas>=0.20.0->plotly_express) (2.8.2)\n",
            "Requirement already satisfied: pytz>=2020.1 in /usr/local/lib/python3.10/dist-packages (from pandas>=0.20.0->plotly_express) (2023.4)\n",
            "Requirement already satisfied: tzdata>=2022.1 in /usr/local/lib/python3.10/dist-packages (from pandas>=0.20.0->plotly_express) (2024.1)\n",
            "Requirement already satisfied: six in /usr/local/lib/python3.10/dist-packages (from patsy>=0.5->plotly_express) (1.16.0)\n",
            "Requirement already satisfied: tenacity>=6.2.0 in /usr/local/lib/python3.10/dist-packages (from plotly>=4.1.0->plotly_express) (8.2.3)\n",
            "Requirement already satisfied: packaging in /usr/local/lib/python3.10/dist-packages (from plotly>=4.1.0->plotly_express) (24.0)\n",
            "Installing collected packages: plotly_express\n",
            "Successfully installed plotly_express-0.4.1\n"
          ]
        }
      ]
    },
    {
      "cell_type": "code",
      "source": [
        "# prompt: connext to google drive\n",
        "\n",
        "from google.colab import drive\n",
        "#drive.mount('/content/drive/')\n"
      ],
      "metadata": {
        "id": "6bAU_-SXoBXY",
        "colab": {
          "base_uri": "https://localhost:8080/"
        },
        "outputId": "985ad2ad-1eac-4adb-ecc1-bf50cb9c1695"
      },
      "execution_count": null,
      "outputs": [
        {
          "output_type": "stream",
          "name": "stdout",
          "text": [
            "Mounted at /content/drive/\n"
          ]
        }
      ]
    },
    {
      "cell_type": "code",
      "execution_count": null,
      "metadata": {
        "colab": {
          "base_uri": "https://localhost:8080/"
        },
        "id": "WVTtlvEIn7J5",
        "outputId": "a71d7249-3c44-4f12-a98c-cd4a37b2ea89"
      },
      "outputs": [
        {
          "output_type": "stream",
          "name": "stdout",
          "text": [
            "Current Time is: 20:00:25\n",
            "Current Date and Time is: 2024-04-14 20:00:25.233192\n"
          ]
        }
      ],
      "source": [
        "# Python program to illustrate Python get current time\n",
        "# Importing datetime module\n",
        "from datetime import datetime\n",
        "\n",
        "# storing the current time in the variable\n",
        "c = datetime.now()\n",
        "\n",
        "# Displays Time\n",
        "current_time = c.strftime('%H:%M:%S')\n",
        "print('Current Time is:', current_time)\n",
        "# OR\n",
        "# Displays Date along with Time\n",
        "print('Current Date and Time is:', c)"
      ]
    },
    {
      "cell_type": "markdown",
      "metadata": {
        "id": "8mXz2QDun7J6"
      },
      "source": [
        "## Import"
      ]
    },
    {
      "cell_type": "code",
      "execution_count": null,
      "metadata": {
        "id": "xpkxCaYXn7J6"
      },
      "outputs": [],
      "source": [
        "import pandas as pd\n",
        "import numpy as np\n",
        "from sklearn.decomposition import PCA\n",
        "from scipy.linalg import norm"
      ]
    },
    {
      "cell_type": "code",
      "execution_count": null,
      "metadata": {
        "id": "jol3dK8bn7J6"
      },
      "outputs": [],
      "source": [
        "import plotly_express as px\n",
        "import seaborn as sns"
      ]
    },
    {
      "cell_type": "code",
      "execution_count": null,
      "metadata": {
        "id": "wGNBwFknn7J6"
      },
      "outputs": [],
      "source": [
        "sns.set(style='ticks')\n",
        "%matplotlib inline"
      ]
    },
    {
      "cell_type": "markdown",
      "metadata": {
        "toc-hr-collapsed": false,
        "id": "4IzORovdn7J6"
      },
      "source": [
        "# Prepare the Data"
      ]
    },
    {
      "cell_type": "markdown",
      "metadata": {
        "id": "SJC1DymSn7J7"
      },
      "source": [
        "## Import tables\n",
        "\n",
        "We import the big and the small `TFIDF` tables we created in previous modules. \\\n",
        "We import the `LIB` table because we want our visualizations to be readable. \\\n",
        "We import the `VOCAB` table to see which words get associated with each component."
      ]
    },
    {
      "cell_type": "code",
      "execution_count": null,
      "metadata": {
        "id": "U_UVJGHDn7J7"
      },
      "outputs": [],
      "source": [
        "TFIDF_c = pd.read_csv(input_dir + 'TFIDF.csv').set_index(OHCO_c)\n",
        "\n",
        "LIB = pd.read_csv(input_dir + 'LIB2.csv').set_index('book_id')\n",
        "VOCAB = pd.read_csv(input_dir + 'VOCAB2.csv').set_index('term_id')"
      ]
    },
    {
      "cell_type": "code",
      "execution_count": null,
      "metadata": {
        "colab": {
          "base_uri": "https://localhost:8080/"
        },
        "id": "xGt1gDpSn7J7",
        "outputId": "3b0f0c25-44cc-49bf-f0a2-e33435f132e7"
      },
      "outputs": [
        {
          "output_type": "execute_result",
          "data": {
            "text/plain": [
              "Index(['1', '2', '3', '4', '5', '6', '7', '8', '9', '10',\n",
              "       ...\n",
              "       '31560', '31561', '31562', '31563', '31564', '31565', '31566', '31567',\n",
              "       '31568', '31569'],\n",
              "      dtype='object', length=31569)"
            ]
          },
          "metadata": {},
          "execution_count": 9
        }
      ],
      "source": [
        "cols = TFIDF_c.columns\n",
        "cols"
      ]
    },
    {
      "cell_type": "code",
      "execution_count": null,
      "metadata": {
        "id": "v8HX4PEjn7J7"
      },
      "outputs": [],
      "source": [
        "TFIDF_b = TFIDF_c.groupby(OHCO_b)[cols].sum()"
      ]
    },
    {
      "cell_type": "code",
      "execution_count": null,
      "metadata": {
        "colab": {
          "base_uri": "https://localhost:8080/",
          "height": 287
        },
        "id": "z4rUGfWln7J7",
        "outputId": "c3bd3643-116e-454f-8dc1-221da91d1c9a"
      },
      "outputs": [
        {
          "output_type": "execute_result",
          "data": {
            "text/plain": [
              "                1    2    3    4    5        6         7         8         9  \\\n",
              "book_id                                                                        \n",
              "35       0.000000  0.0  0.0  0.0  0.0  0.00000  0.000000  0.000000  0.000000   \n",
              "36       0.000000  0.0  0.0  0.0  0.0  0.00000  0.000000  0.000000  0.000000   \n",
              "62       0.000000  0.0  0.0  0.0  0.0  0.00000  0.000608  0.000000  0.000000   \n",
              "64       0.000000  0.0  0.0  0.0  0.0  0.00000  0.001603  0.000498  0.000000   \n",
              "83       0.004512  0.0  0.0  0.0  0.0  0.00386  0.004889  0.001124  0.004677   \n",
              "\n",
              "               10  ...  31560  31561  31562  31563  31564  31565  31566  \\\n",
              "book_id            ...                                                    \n",
              "35       0.000000  ...    0.0    0.0    0.0    0.0    0.0    0.0    0.0   \n",
              "36       0.000000  ...    0.0    0.0    0.0    0.0    0.0    0.0    0.0   \n",
              "62       0.000000  ...    0.0    0.0    0.0    0.0    0.0    0.0    0.0   \n",
              "64       0.000000  ...    0.0    0.0    0.0    0.0    0.0    0.0    0.0   \n",
              "83       0.004325  ...    0.0    0.0    0.0    0.0    0.0    0.0    0.0   \n",
              "\n",
              "         31567  31568  31569  \n",
              "book_id                       \n",
              "35         0.0    0.0    0.0  \n",
              "36         0.0    0.0    0.0  \n",
              "62         0.0    0.0    0.0  \n",
              "64         0.0    0.0    0.0  \n",
              "83         0.0    0.0    0.0  \n",
              "\n",
              "[5 rows x 31569 columns]"
            ],
            "text/html": [
              "\n",
              "  <div id=\"df-57bf4135-a9ac-42a0-a668-efc9185b247a\" class=\"colab-df-container\">\n",
              "    <div>\n",
              "<style scoped>\n",
              "    .dataframe tbody tr th:only-of-type {\n",
              "        vertical-align: middle;\n",
              "    }\n",
              "\n",
              "    .dataframe tbody tr th {\n",
              "        vertical-align: top;\n",
              "    }\n",
              "\n",
              "    .dataframe thead th {\n",
              "        text-align: right;\n",
              "    }\n",
              "</style>\n",
              "<table border=\"1\" class=\"dataframe\">\n",
              "  <thead>\n",
              "    <tr style=\"text-align: right;\">\n",
              "      <th></th>\n",
              "      <th>1</th>\n",
              "      <th>2</th>\n",
              "      <th>3</th>\n",
              "      <th>4</th>\n",
              "      <th>5</th>\n",
              "      <th>6</th>\n",
              "      <th>7</th>\n",
              "      <th>8</th>\n",
              "      <th>9</th>\n",
              "      <th>10</th>\n",
              "      <th>...</th>\n",
              "      <th>31560</th>\n",
              "      <th>31561</th>\n",
              "      <th>31562</th>\n",
              "      <th>31563</th>\n",
              "      <th>31564</th>\n",
              "      <th>31565</th>\n",
              "      <th>31566</th>\n",
              "      <th>31567</th>\n",
              "      <th>31568</th>\n",
              "      <th>31569</th>\n",
              "    </tr>\n",
              "    <tr>\n",
              "      <th>book_id</th>\n",
              "      <th></th>\n",
              "      <th></th>\n",
              "      <th></th>\n",
              "      <th></th>\n",
              "      <th></th>\n",
              "      <th></th>\n",
              "      <th></th>\n",
              "      <th></th>\n",
              "      <th></th>\n",
              "      <th></th>\n",
              "      <th></th>\n",
              "      <th></th>\n",
              "      <th></th>\n",
              "      <th></th>\n",
              "      <th></th>\n",
              "      <th></th>\n",
              "      <th></th>\n",
              "      <th></th>\n",
              "      <th></th>\n",
              "      <th></th>\n",
              "      <th></th>\n",
              "    </tr>\n",
              "  </thead>\n",
              "  <tbody>\n",
              "    <tr>\n",
              "      <th>35</th>\n",
              "      <td>0.000000</td>\n",
              "      <td>0.0</td>\n",
              "      <td>0.0</td>\n",
              "      <td>0.0</td>\n",
              "      <td>0.0</td>\n",
              "      <td>0.00000</td>\n",
              "      <td>0.000000</td>\n",
              "      <td>0.000000</td>\n",
              "      <td>0.000000</td>\n",
              "      <td>0.000000</td>\n",
              "      <td>...</td>\n",
              "      <td>0.0</td>\n",
              "      <td>0.0</td>\n",
              "      <td>0.0</td>\n",
              "      <td>0.0</td>\n",
              "      <td>0.0</td>\n",
              "      <td>0.0</td>\n",
              "      <td>0.0</td>\n",
              "      <td>0.0</td>\n",
              "      <td>0.0</td>\n",
              "      <td>0.0</td>\n",
              "    </tr>\n",
              "    <tr>\n",
              "      <th>36</th>\n",
              "      <td>0.000000</td>\n",
              "      <td>0.0</td>\n",
              "      <td>0.0</td>\n",
              "      <td>0.0</td>\n",
              "      <td>0.0</td>\n",
              "      <td>0.00000</td>\n",
              "      <td>0.000000</td>\n",
              "      <td>0.000000</td>\n",
              "      <td>0.000000</td>\n",
              "      <td>0.000000</td>\n",
              "      <td>...</td>\n",
              "      <td>0.0</td>\n",
              "      <td>0.0</td>\n",
              "      <td>0.0</td>\n",
              "      <td>0.0</td>\n",
              "      <td>0.0</td>\n",
              "      <td>0.0</td>\n",
              "      <td>0.0</td>\n",
              "      <td>0.0</td>\n",
              "      <td>0.0</td>\n",
              "      <td>0.0</td>\n",
              "    </tr>\n",
              "    <tr>\n",
              "      <th>62</th>\n",
              "      <td>0.000000</td>\n",
              "      <td>0.0</td>\n",
              "      <td>0.0</td>\n",
              "      <td>0.0</td>\n",
              "      <td>0.0</td>\n",
              "      <td>0.00000</td>\n",
              "      <td>0.000608</td>\n",
              "      <td>0.000000</td>\n",
              "      <td>0.000000</td>\n",
              "      <td>0.000000</td>\n",
              "      <td>...</td>\n",
              "      <td>0.0</td>\n",
              "      <td>0.0</td>\n",
              "      <td>0.0</td>\n",
              "      <td>0.0</td>\n",
              "      <td>0.0</td>\n",
              "      <td>0.0</td>\n",
              "      <td>0.0</td>\n",
              "      <td>0.0</td>\n",
              "      <td>0.0</td>\n",
              "      <td>0.0</td>\n",
              "    </tr>\n",
              "    <tr>\n",
              "      <th>64</th>\n",
              "      <td>0.000000</td>\n",
              "      <td>0.0</td>\n",
              "      <td>0.0</td>\n",
              "      <td>0.0</td>\n",
              "      <td>0.0</td>\n",
              "      <td>0.00000</td>\n",
              "      <td>0.001603</td>\n",
              "      <td>0.000498</td>\n",
              "      <td>0.000000</td>\n",
              "      <td>0.000000</td>\n",
              "      <td>...</td>\n",
              "      <td>0.0</td>\n",
              "      <td>0.0</td>\n",
              "      <td>0.0</td>\n",
              "      <td>0.0</td>\n",
              "      <td>0.0</td>\n",
              "      <td>0.0</td>\n",
              "      <td>0.0</td>\n",
              "      <td>0.0</td>\n",
              "      <td>0.0</td>\n",
              "      <td>0.0</td>\n",
              "    </tr>\n",
              "    <tr>\n",
              "      <th>83</th>\n",
              "      <td>0.004512</td>\n",
              "      <td>0.0</td>\n",
              "      <td>0.0</td>\n",
              "      <td>0.0</td>\n",
              "      <td>0.0</td>\n",
              "      <td>0.00386</td>\n",
              "      <td>0.004889</td>\n",
              "      <td>0.001124</td>\n",
              "      <td>0.004677</td>\n",
              "      <td>0.004325</td>\n",
              "      <td>...</td>\n",
              "      <td>0.0</td>\n",
              "      <td>0.0</td>\n",
              "      <td>0.0</td>\n",
              "      <td>0.0</td>\n",
              "      <td>0.0</td>\n",
              "      <td>0.0</td>\n",
              "      <td>0.0</td>\n",
              "      <td>0.0</td>\n",
              "      <td>0.0</td>\n",
              "      <td>0.0</td>\n",
              "    </tr>\n",
              "  </tbody>\n",
              "</table>\n",
              "<p>5 rows × 31569 columns</p>\n",
              "</div>\n",
              "    <div class=\"colab-df-buttons\">\n",
              "\n",
              "  <div class=\"colab-df-container\">\n",
              "    <button class=\"colab-df-convert\" onclick=\"convertToInteractive('df-57bf4135-a9ac-42a0-a668-efc9185b247a')\"\n",
              "            title=\"Convert this dataframe to an interactive table.\"\n",
              "            style=\"display:none;\">\n",
              "\n",
              "  <svg xmlns=\"http://www.w3.org/2000/svg\" height=\"24px\" viewBox=\"0 -960 960 960\">\n",
              "    <path d=\"M120-120v-720h720v720H120Zm60-500h600v-160H180v160Zm220 220h160v-160H400v160Zm0 220h160v-160H400v160ZM180-400h160v-160H180v160Zm440 0h160v-160H620v160ZM180-180h160v-160H180v160Zm440 0h160v-160H620v160Z\"/>\n",
              "  </svg>\n",
              "    </button>\n",
              "\n",
              "  <style>\n",
              "    .colab-df-container {\n",
              "      display:flex;\n",
              "      gap: 12px;\n",
              "    }\n",
              "\n",
              "    .colab-df-convert {\n",
              "      background-color: #E8F0FE;\n",
              "      border: none;\n",
              "      border-radius: 50%;\n",
              "      cursor: pointer;\n",
              "      display: none;\n",
              "      fill: #1967D2;\n",
              "      height: 32px;\n",
              "      padding: 0 0 0 0;\n",
              "      width: 32px;\n",
              "    }\n",
              "\n",
              "    .colab-df-convert:hover {\n",
              "      background-color: #E2EBFA;\n",
              "      box-shadow: 0px 1px 2px rgba(60, 64, 67, 0.3), 0px 1px 3px 1px rgba(60, 64, 67, 0.15);\n",
              "      fill: #174EA6;\n",
              "    }\n",
              "\n",
              "    .colab-df-buttons div {\n",
              "      margin-bottom: 4px;\n",
              "    }\n",
              "\n",
              "    [theme=dark] .colab-df-convert {\n",
              "      background-color: #3B4455;\n",
              "      fill: #D2E3FC;\n",
              "    }\n",
              "\n",
              "    [theme=dark] .colab-df-convert:hover {\n",
              "      background-color: #434B5C;\n",
              "      box-shadow: 0px 1px 3px 1px rgba(0, 0, 0, 0.15);\n",
              "      filter: drop-shadow(0px 1px 2px rgba(0, 0, 0, 0.3));\n",
              "      fill: #FFFFFF;\n",
              "    }\n",
              "  </style>\n",
              "\n",
              "    <script>\n",
              "      const buttonEl =\n",
              "        document.querySelector('#df-57bf4135-a9ac-42a0-a668-efc9185b247a button.colab-df-convert');\n",
              "      buttonEl.style.display =\n",
              "        google.colab.kernel.accessAllowed ? 'block' : 'none';\n",
              "\n",
              "      async function convertToInteractive(key) {\n",
              "        const element = document.querySelector('#df-57bf4135-a9ac-42a0-a668-efc9185b247a');\n",
              "        const dataTable =\n",
              "          await google.colab.kernel.invokeFunction('convertToInteractive',\n",
              "                                                    [key], {});\n",
              "        if (!dataTable) return;\n",
              "\n",
              "        const docLinkHtml = 'Like what you see? Visit the ' +\n",
              "          '<a target=\"_blank\" href=https://colab.research.google.com/notebooks/data_table.ipynb>data table notebook</a>'\n",
              "          + ' to learn more about interactive tables.';\n",
              "        element.innerHTML = '';\n",
              "        dataTable['output_type'] = 'display_data';\n",
              "        await google.colab.output.renderOutput(dataTable, element);\n",
              "        const docLink = document.createElement('div');\n",
              "        docLink.innerHTML = docLinkHtml;\n",
              "        element.appendChild(docLink);\n",
              "      }\n",
              "    </script>\n",
              "  </div>\n",
              "\n",
              "\n",
              "<div id=\"df-efc6f212-3ab1-4f62-8836-472ca3dd4daf\">\n",
              "  <button class=\"colab-df-quickchart\" onclick=\"quickchart('df-efc6f212-3ab1-4f62-8836-472ca3dd4daf')\"\n",
              "            title=\"Suggest charts\"\n",
              "            style=\"display:none;\">\n",
              "\n",
              "<svg xmlns=\"http://www.w3.org/2000/svg\" height=\"24px\"viewBox=\"0 0 24 24\"\n",
              "     width=\"24px\">\n",
              "    <g>\n",
              "        <path d=\"M19 3H5c-1.1 0-2 .9-2 2v14c0 1.1.9 2 2 2h14c1.1 0 2-.9 2-2V5c0-1.1-.9-2-2-2zM9 17H7v-7h2v7zm4 0h-2V7h2v10zm4 0h-2v-4h2v4z\"/>\n",
              "    </g>\n",
              "</svg>\n",
              "  </button>\n",
              "\n",
              "<style>\n",
              "  .colab-df-quickchart {\n",
              "      --bg-color: #E8F0FE;\n",
              "      --fill-color: #1967D2;\n",
              "      --hover-bg-color: #E2EBFA;\n",
              "      --hover-fill-color: #174EA6;\n",
              "      --disabled-fill-color: #AAA;\n",
              "      --disabled-bg-color: #DDD;\n",
              "  }\n",
              "\n",
              "  [theme=dark] .colab-df-quickchart {\n",
              "      --bg-color: #3B4455;\n",
              "      --fill-color: #D2E3FC;\n",
              "      --hover-bg-color: #434B5C;\n",
              "      --hover-fill-color: #FFFFFF;\n",
              "      --disabled-bg-color: #3B4455;\n",
              "      --disabled-fill-color: #666;\n",
              "  }\n",
              "\n",
              "  .colab-df-quickchart {\n",
              "    background-color: var(--bg-color);\n",
              "    border: none;\n",
              "    border-radius: 50%;\n",
              "    cursor: pointer;\n",
              "    display: none;\n",
              "    fill: var(--fill-color);\n",
              "    height: 32px;\n",
              "    padding: 0;\n",
              "    width: 32px;\n",
              "  }\n",
              "\n",
              "  .colab-df-quickchart:hover {\n",
              "    background-color: var(--hover-bg-color);\n",
              "    box-shadow: 0 1px 2px rgba(60, 64, 67, 0.3), 0 1px 3px 1px rgba(60, 64, 67, 0.15);\n",
              "    fill: var(--button-hover-fill-color);\n",
              "  }\n",
              "\n",
              "  .colab-df-quickchart-complete:disabled,\n",
              "  .colab-df-quickchart-complete:disabled:hover {\n",
              "    background-color: var(--disabled-bg-color);\n",
              "    fill: var(--disabled-fill-color);\n",
              "    box-shadow: none;\n",
              "  }\n",
              "\n",
              "  .colab-df-spinner {\n",
              "    border: 2px solid var(--fill-color);\n",
              "    border-color: transparent;\n",
              "    border-bottom-color: var(--fill-color);\n",
              "    animation:\n",
              "      spin 1s steps(1) infinite;\n",
              "  }\n",
              "\n",
              "  @keyframes spin {\n",
              "    0% {\n",
              "      border-color: transparent;\n",
              "      border-bottom-color: var(--fill-color);\n",
              "      border-left-color: var(--fill-color);\n",
              "    }\n",
              "    20% {\n",
              "      border-color: transparent;\n",
              "      border-left-color: var(--fill-color);\n",
              "      border-top-color: var(--fill-color);\n",
              "    }\n",
              "    30% {\n",
              "      border-color: transparent;\n",
              "      border-left-color: var(--fill-color);\n",
              "      border-top-color: var(--fill-color);\n",
              "      border-right-color: var(--fill-color);\n",
              "    }\n",
              "    40% {\n",
              "      border-color: transparent;\n",
              "      border-right-color: var(--fill-color);\n",
              "      border-top-color: var(--fill-color);\n",
              "    }\n",
              "    60% {\n",
              "      border-color: transparent;\n",
              "      border-right-color: var(--fill-color);\n",
              "    }\n",
              "    80% {\n",
              "      border-color: transparent;\n",
              "      border-right-color: var(--fill-color);\n",
              "      border-bottom-color: var(--fill-color);\n",
              "    }\n",
              "    90% {\n",
              "      border-color: transparent;\n",
              "      border-bottom-color: var(--fill-color);\n",
              "    }\n",
              "  }\n",
              "</style>\n",
              "\n",
              "  <script>\n",
              "    async function quickchart(key) {\n",
              "      const quickchartButtonEl =\n",
              "        document.querySelector('#' + key + ' button');\n",
              "      quickchartButtonEl.disabled = true;  // To prevent multiple clicks.\n",
              "      quickchartButtonEl.classList.add('colab-df-spinner');\n",
              "      try {\n",
              "        const charts = await google.colab.kernel.invokeFunction(\n",
              "            'suggestCharts', [key], {});\n",
              "      } catch (error) {\n",
              "        console.error('Error during call to suggestCharts:', error);\n",
              "      }\n",
              "      quickchartButtonEl.classList.remove('colab-df-spinner');\n",
              "      quickchartButtonEl.classList.add('colab-df-quickchart-complete');\n",
              "    }\n",
              "    (() => {\n",
              "      let quickchartButtonEl =\n",
              "        document.querySelector('#df-efc6f212-3ab1-4f62-8836-472ca3dd4daf button');\n",
              "      quickchartButtonEl.style.display =\n",
              "        google.colab.kernel.accessAllowed ? 'block' : 'none';\n",
              "    })();\n",
              "  </script>\n",
              "</div>\n",
              "\n",
              "    </div>\n",
              "  </div>\n"
            ],
            "application/vnd.google.colaboratory.intrinsic+json": {
              "type": "dataframe",
              "variable_name": "TFIDF_b"
            }
          },
          "metadata": {},
          "execution_count": 11
        }
      ],
      "source": [
        "TFIDF_b.head()"
      ]
    },
    {
      "cell_type": "code",
      "execution_count": null,
      "metadata": {
        "colab": {
          "base_uri": "https://localhost:8080/",
          "height": 287
        },
        "id": "tTLRFydqn7J7",
        "outputId": "00e6fc16-3d9c-4a9f-df42-94e4988cafd9"
      },
      "outputs": [
        {
          "output_type": "execute_result",
          "data": {
            "text/plain": [
              "                    1    2    3    4    5    6    7    8    9   10  ...  \\\n",
              "book_id chap_num                                                    ...   \n",
              "35      1         0.0  0.0  0.0  0.0  0.0  0.0  0.0  0.0  0.0  0.0  ...   \n",
              "        2         0.0  0.0  0.0  0.0  0.0  0.0  0.0  0.0  0.0  0.0  ...   \n",
              "        3         0.0  0.0  0.0  0.0  0.0  0.0  0.0  0.0  0.0  0.0  ...   \n",
              "        4         0.0  0.0  0.0  0.0  0.0  0.0  0.0  0.0  0.0  0.0  ...   \n",
              "        5         0.0  0.0  0.0  0.0  0.0  0.0  0.0  0.0  0.0  0.0  ...   \n",
              "\n",
              "                  31560  31561  31562  31563  31564  31565  31566  31567  \\\n",
              "book_id chap_num                                                           \n",
              "35      1           0.0    0.0    0.0    0.0    0.0    0.0    0.0    0.0   \n",
              "        2           0.0    0.0    0.0    0.0    0.0    0.0    0.0    0.0   \n",
              "        3           0.0    0.0    0.0    0.0    0.0    0.0    0.0    0.0   \n",
              "        4           0.0    0.0    0.0    0.0    0.0    0.0    0.0    0.0   \n",
              "        5           0.0    0.0    0.0    0.0    0.0    0.0    0.0    0.0   \n",
              "\n",
              "                  31568  31569  \n",
              "book_id chap_num                \n",
              "35      1           0.0    0.0  \n",
              "        2           0.0    0.0  \n",
              "        3           0.0    0.0  \n",
              "        4           0.0    0.0  \n",
              "        5           0.0    0.0  \n",
              "\n",
              "[5 rows x 31569 columns]"
            ],
            "text/html": [
              "\n",
              "  <div id=\"df-66a20498-50d5-4a8b-8f4c-a7bb23287295\" class=\"colab-df-container\">\n",
              "    <div>\n",
              "<style scoped>\n",
              "    .dataframe tbody tr th:only-of-type {\n",
              "        vertical-align: middle;\n",
              "    }\n",
              "\n",
              "    .dataframe tbody tr th {\n",
              "        vertical-align: top;\n",
              "    }\n",
              "\n",
              "    .dataframe thead th {\n",
              "        text-align: right;\n",
              "    }\n",
              "</style>\n",
              "<table border=\"1\" class=\"dataframe\">\n",
              "  <thead>\n",
              "    <tr style=\"text-align: right;\">\n",
              "      <th></th>\n",
              "      <th></th>\n",
              "      <th>1</th>\n",
              "      <th>2</th>\n",
              "      <th>3</th>\n",
              "      <th>4</th>\n",
              "      <th>5</th>\n",
              "      <th>6</th>\n",
              "      <th>7</th>\n",
              "      <th>8</th>\n",
              "      <th>9</th>\n",
              "      <th>10</th>\n",
              "      <th>...</th>\n",
              "      <th>31560</th>\n",
              "      <th>31561</th>\n",
              "      <th>31562</th>\n",
              "      <th>31563</th>\n",
              "      <th>31564</th>\n",
              "      <th>31565</th>\n",
              "      <th>31566</th>\n",
              "      <th>31567</th>\n",
              "      <th>31568</th>\n",
              "      <th>31569</th>\n",
              "    </tr>\n",
              "    <tr>\n",
              "      <th>book_id</th>\n",
              "      <th>chap_num</th>\n",
              "      <th></th>\n",
              "      <th></th>\n",
              "      <th></th>\n",
              "      <th></th>\n",
              "      <th></th>\n",
              "      <th></th>\n",
              "      <th></th>\n",
              "      <th></th>\n",
              "      <th></th>\n",
              "      <th></th>\n",
              "      <th></th>\n",
              "      <th></th>\n",
              "      <th></th>\n",
              "      <th></th>\n",
              "      <th></th>\n",
              "      <th></th>\n",
              "      <th></th>\n",
              "      <th></th>\n",
              "      <th></th>\n",
              "      <th></th>\n",
              "      <th></th>\n",
              "    </tr>\n",
              "  </thead>\n",
              "  <tbody>\n",
              "    <tr>\n",
              "      <th rowspan=\"5\" valign=\"top\">35</th>\n",
              "      <th>1</th>\n",
              "      <td>0.0</td>\n",
              "      <td>0.0</td>\n",
              "      <td>0.0</td>\n",
              "      <td>0.0</td>\n",
              "      <td>0.0</td>\n",
              "      <td>0.0</td>\n",
              "      <td>0.0</td>\n",
              "      <td>0.0</td>\n",
              "      <td>0.0</td>\n",
              "      <td>0.0</td>\n",
              "      <td>...</td>\n",
              "      <td>0.0</td>\n",
              "      <td>0.0</td>\n",
              "      <td>0.0</td>\n",
              "      <td>0.0</td>\n",
              "      <td>0.0</td>\n",
              "      <td>0.0</td>\n",
              "      <td>0.0</td>\n",
              "      <td>0.0</td>\n",
              "      <td>0.0</td>\n",
              "      <td>0.0</td>\n",
              "    </tr>\n",
              "    <tr>\n",
              "      <th>2</th>\n",
              "      <td>0.0</td>\n",
              "      <td>0.0</td>\n",
              "      <td>0.0</td>\n",
              "      <td>0.0</td>\n",
              "      <td>0.0</td>\n",
              "      <td>0.0</td>\n",
              "      <td>0.0</td>\n",
              "      <td>0.0</td>\n",
              "      <td>0.0</td>\n",
              "      <td>0.0</td>\n",
              "      <td>...</td>\n",
              "      <td>0.0</td>\n",
              "      <td>0.0</td>\n",
              "      <td>0.0</td>\n",
              "      <td>0.0</td>\n",
              "      <td>0.0</td>\n",
              "      <td>0.0</td>\n",
              "      <td>0.0</td>\n",
              "      <td>0.0</td>\n",
              "      <td>0.0</td>\n",
              "      <td>0.0</td>\n",
              "    </tr>\n",
              "    <tr>\n",
              "      <th>3</th>\n",
              "      <td>0.0</td>\n",
              "      <td>0.0</td>\n",
              "      <td>0.0</td>\n",
              "      <td>0.0</td>\n",
              "      <td>0.0</td>\n",
              "      <td>0.0</td>\n",
              "      <td>0.0</td>\n",
              "      <td>0.0</td>\n",
              "      <td>0.0</td>\n",
              "      <td>0.0</td>\n",
              "      <td>...</td>\n",
              "      <td>0.0</td>\n",
              "      <td>0.0</td>\n",
              "      <td>0.0</td>\n",
              "      <td>0.0</td>\n",
              "      <td>0.0</td>\n",
              "      <td>0.0</td>\n",
              "      <td>0.0</td>\n",
              "      <td>0.0</td>\n",
              "      <td>0.0</td>\n",
              "      <td>0.0</td>\n",
              "    </tr>\n",
              "    <tr>\n",
              "      <th>4</th>\n",
              "      <td>0.0</td>\n",
              "      <td>0.0</td>\n",
              "      <td>0.0</td>\n",
              "      <td>0.0</td>\n",
              "      <td>0.0</td>\n",
              "      <td>0.0</td>\n",
              "      <td>0.0</td>\n",
              "      <td>0.0</td>\n",
              "      <td>0.0</td>\n",
              "      <td>0.0</td>\n",
              "      <td>...</td>\n",
              "      <td>0.0</td>\n",
              "      <td>0.0</td>\n",
              "      <td>0.0</td>\n",
              "      <td>0.0</td>\n",
              "      <td>0.0</td>\n",
              "      <td>0.0</td>\n",
              "      <td>0.0</td>\n",
              "      <td>0.0</td>\n",
              "      <td>0.0</td>\n",
              "      <td>0.0</td>\n",
              "    </tr>\n",
              "    <tr>\n",
              "      <th>5</th>\n",
              "      <td>0.0</td>\n",
              "      <td>0.0</td>\n",
              "      <td>0.0</td>\n",
              "      <td>0.0</td>\n",
              "      <td>0.0</td>\n",
              "      <td>0.0</td>\n",
              "      <td>0.0</td>\n",
              "      <td>0.0</td>\n",
              "      <td>0.0</td>\n",
              "      <td>0.0</td>\n",
              "      <td>...</td>\n",
              "      <td>0.0</td>\n",
              "      <td>0.0</td>\n",
              "      <td>0.0</td>\n",
              "      <td>0.0</td>\n",
              "      <td>0.0</td>\n",
              "      <td>0.0</td>\n",
              "      <td>0.0</td>\n",
              "      <td>0.0</td>\n",
              "      <td>0.0</td>\n",
              "      <td>0.0</td>\n",
              "    </tr>\n",
              "  </tbody>\n",
              "</table>\n",
              "<p>5 rows × 31569 columns</p>\n",
              "</div>\n",
              "    <div class=\"colab-df-buttons\">\n",
              "\n",
              "  <div class=\"colab-df-container\">\n",
              "    <button class=\"colab-df-convert\" onclick=\"convertToInteractive('df-66a20498-50d5-4a8b-8f4c-a7bb23287295')\"\n",
              "            title=\"Convert this dataframe to an interactive table.\"\n",
              "            style=\"display:none;\">\n",
              "\n",
              "  <svg xmlns=\"http://www.w3.org/2000/svg\" height=\"24px\" viewBox=\"0 -960 960 960\">\n",
              "    <path d=\"M120-120v-720h720v720H120Zm60-500h600v-160H180v160Zm220 220h160v-160H400v160Zm0 220h160v-160H400v160ZM180-400h160v-160H180v160Zm440 0h160v-160H620v160ZM180-180h160v-160H180v160Zm440 0h160v-160H620v160Z\"/>\n",
              "  </svg>\n",
              "    </button>\n",
              "\n",
              "  <style>\n",
              "    .colab-df-container {\n",
              "      display:flex;\n",
              "      gap: 12px;\n",
              "    }\n",
              "\n",
              "    .colab-df-convert {\n",
              "      background-color: #E8F0FE;\n",
              "      border: none;\n",
              "      border-radius: 50%;\n",
              "      cursor: pointer;\n",
              "      display: none;\n",
              "      fill: #1967D2;\n",
              "      height: 32px;\n",
              "      padding: 0 0 0 0;\n",
              "      width: 32px;\n",
              "    }\n",
              "\n",
              "    .colab-df-convert:hover {\n",
              "      background-color: #E2EBFA;\n",
              "      box-shadow: 0px 1px 2px rgba(60, 64, 67, 0.3), 0px 1px 3px 1px rgba(60, 64, 67, 0.15);\n",
              "      fill: #174EA6;\n",
              "    }\n",
              "\n",
              "    .colab-df-buttons div {\n",
              "      margin-bottom: 4px;\n",
              "    }\n",
              "\n",
              "    [theme=dark] .colab-df-convert {\n",
              "      background-color: #3B4455;\n",
              "      fill: #D2E3FC;\n",
              "    }\n",
              "\n",
              "    [theme=dark] .colab-df-convert:hover {\n",
              "      background-color: #434B5C;\n",
              "      box-shadow: 0px 1px 3px 1px rgba(0, 0, 0, 0.15);\n",
              "      filter: drop-shadow(0px 1px 2px rgba(0, 0, 0, 0.3));\n",
              "      fill: #FFFFFF;\n",
              "    }\n",
              "  </style>\n",
              "\n",
              "    <script>\n",
              "      const buttonEl =\n",
              "        document.querySelector('#df-66a20498-50d5-4a8b-8f4c-a7bb23287295 button.colab-df-convert');\n",
              "      buttonEl.style.display =\n",
              "        google.colab.kernel.accessAllowed ? 'block' : 'none';\n",
              "\n",
              "      async function convertToInteractive(key) {\n",
              "        const element = document.querySelector('#df-66a20498-50d5-4a8b-8f4c-a7bb23287295');\n",
              "        const dataTable =\n",
              "          await google.colab.kernel.invokeFunction('convertToInteractive',\n",
              "                                                    [key], {});\n",
              "        if (!dataTable) return;\n",
              "\n",
              "        const docLinkHtml = 'Like what you see? Visit the ' +\n",
              "          '<a target=\"_blank\" href=https://colab.research.google.com/notebooks/data_table.ipynb>data table notebook</a>'\n",
              "          + ' to learn more about interactive tables.';\n",
              "        element.innerHTML = '';\n",
              "        dataTable['output_type'] = 'display_data';\n",
              "        await google.colab.output.renderOutput(dataTable, element);\n",
              "        const docLink = document.createElement('div');\n",
              "        docLink.innerHTML = docLinkHtml;\n",
              "        element.appendChild(docLink);\n",
              "      }\n",
              "    </script>\n",
              "  </div>\n",
              "\n",
              "\n",
              "<div id=\"df-a0d3625b-7c6a-494d-bc7d-99a698846aa1\">\n",
              "  <button class=\"colab-df-quickchart\" onclick=\"quickchart('df-a0d3625b-7c6a-494d-bc7d-99a698846aa1')\"\n",
              "            title=\"Suggest charts\"\n",
              "            style=\"display:none;\">\n",
              "\n",
              "<svg xmlns=\"http://www.w3.org/2000/svg\" height=\"24px\"viewBox=\"0 0 24 24\"\n",
              "     width=\"24px\">\n",
              "    <g>\n",
              "        <path d=\"M19 3H5c-1.1 0-2 .9-2 2v14c0 1.1.9 2 2 2h14c1.1 0 2-.9 2-2V5c0-1.1-.9-2-2-2zM9 17H7v-7h2v7zm4 0h-2V7h2v10zm4 0h-2v-4h2v4z\"/>\n",
              "    </g>\n",
              "</svg>\n",
              "  </button>\n",
              "\n",
              "<style>\n",
              "  .colab-df-quickchart {\n",
              "      --bg-color: #E8F0FE;\n",
              "      --fill-color: #1967D2;\n",
              "      --hover-bg-color: #E2EBFA;\n",
              "      --hover-fill-color: #174EA6;\n",
              "      --disabled-fill-color: #AAA;\n",
              "      --disabled-bg-color: #DDD;\n",
              "  }\n",
              "\n",
              "  [theme=dark] .colab-df-quickchart {\n",
              "      --bg-color: #3B4455;\n",
              "      --fill-color: #D2E3FC;\n",
              "      --hover-bg-color: #434B5C;\n",
              "      --hover-fill-color: #FFFFFF;\n",
              "      --disabled-bg-color: #3B4455;\n",
              "      --disabled-fill-color: #666;\n",
              "  }\n",
              "\n",
              "  .colab-df-quickchart {\n",
              "    background-color: var(--bg-color);\n",
              "    border: none;\n",
              "    border-radius: 50%;\n",
              "    cursor: pointer;\n",
              "    display: none;\n",
              "    fill: var(--fill-color);\n",
              "    height: 32px;\n",
              "    padding: 0;\n",
              "    width: 32px;\n",
              "  }\n",
              "\n",
              "  .colab-df-quickchart:hover {\n",
              "    background-color: var(--hover-bg-color);\n",
              "    box-shadow: 0 1px 2px rgba(60, 64, 67, 0.3), 0 1px 3px 1px rgba(60, 64, 67, 0.15);\n",
              "    fill: var(--button-hover-fill-color);\n",
              "  }\n",
              "\n",
              "  .colab-df-quickchart-complete:disabled,\n",
              "  .colab-df-quickchart-complete:disabled:hover {\n",
              "    background-color: var(--disabled-bg-color);\n",
              "    fill: var(--disabled-fill-color);\n",
              "    box-shadow: none;\n",
              "  }\n",
              "\n",
              "  .colab-df-spinner {\n",
              "    border: 2px solid var(--fill-color);\n",
              "    border-color: transparent;\n",
              "    border-bottom-color: var(--fill-color);\n",
              "    animation:\n",
              "      spin 1s steps(1) infinite;\n",
              "  }\n",
              "\n",
              "  @keyframes spin {\n",
              "    0% {\n",
              "      border-color: transparent;\n",
              "      border-bottom-color: var(--fill-color);\n",
              "      border-left-color: var(--fill-color);\n",
              "    }\n",
              "    20% {\n",
              "      border-color: transparent;\n",
              "      border-left-color: var(--fill-color);\n",
              "      border-top-color: var(--fill-color);\n",
              "    }\n",
              "    30% {\n",
              "      border-color: transparent;\n",
              "      border-left-color: var(--fill-color);\n",
              "      border-top-color: var(--fill-color);\n",
              "      border-right-color: var(--fill-color);\n",
              "    }\n",
              "    40% {\n",
              "      border-color: transparent;\n",
              "      border-right-color: var(--fill-color);\n",
              "      border-top-color: var(--fill-color);\n",
              "    }\n",
              "    60% {\n",
              "      border-color: transparent;\n",
              "      border-right-color: var(--fill-color);\n",
              "    }\n",
              "    80% {\n",
              "      border-color: transparent;\n",
              "      border-right-color: var(--fill-color);\n",
              "      border-bottom-color: var(--fill-color);\n",
              "    }\n",
              "    90% {\n",
              "      border-color: transparent;\n",
              "      border-bottom-color: var(--fill-color);\n",
              "    }\n",
              "  }\n",
              "</style>\n",
              "\n",
              "  <script>\n",
              "    async function quickchart(key) {\n",
              "      const quickchartButtonEl =\n",
              "        document.querySelector('#' + key + ' button');\n",
              "      quickchartButtonEl.disabled = true;  // To prevent multiple clicks.\n",
              "      quickchartButtonEl.classList.add('colab-df-spinner');\n",
              "      try {\n",
              "        const charts = await google.colab.kernel.invokeFunction(\n",
              "            'suggestCharts', [key], {});\n",
              "      } catch (error) {\n",
              "        console.error('Error during call to suggestCharts:', error);\n",
              "      }\n",
              "      quickchartButtonEl.classList.remove('colab-df-spinner');\n",
              "      quickchartButtonEl.classList.add('colab-df-quickchart-complete');\n",
              "    }\n",
              "    (() => {\n",
              "      let quickchartButtonEl =\n",
              "        document.querySelector('#df-a0d3625b-7c6a-494d-bc7d-99a698846aa1 button');\n",
              "      quickchartButtonEl.style.display =\n",
              "        google.colab.kernel.accessAllowed ? 'block' : 'none';\n",
              "    })();\n",
              "  </script>\n",
              "</div>\n",
              "\n",
              "    </div>\n",
              "  </div>\n"
            ],
            "application/vnd.google.colaboratory.intrinsic+json": {
              "type": "dataframe",
              "variable_name": "TFIDF_c"
            }
          },
          "metadata": {},
          "execution_count": 12
        }
      ],
      "source": [
        "TFIDF_c.head()"
      ]
    },
    {
      "cell_type": "markdown",
      "metadata": {
        "toc-hr-collapsed": false,
        "id": "0ztcEaLrn7J8"
      },
      "source": [
        "# Preprocess the TFIDF Matrices"
      ]
    },
    {
      "cell_type": "markdown",
      "metadata": {
        "id": "rSFarbaan7J8"
      },
      "source": [
        "## Normalize doc vector lengths"
      ]
    },
    {
      "cell_type": "code",
      "execution_count": null,
      "metadata": {
        "id": "9sS1A6I6n7J8"
      },
      "outputs": [],
      "source": [
        "TFIDF_b = TFIDF_b.apply(lambda x: x / norm(x), 1)\n",
        "TFIDF_c = TFIDF_c.apply(lambda x: x / norm(x), 1)"
      ]
    },
    {
      "cell_type": "markdown",
      "metadata": {
        "id": "ySA4pFxVn7J8"
      },
      "source": [
        "## Normalize term vector variance\n",
        "\n",
        "We do **not** normalize variance, which we would normally do, such as with data containing divergent units of measure. \\\n",
        "This is because to do so would exaggerate the importance of rare words (see Ng, 2008: 6m40s &mdash; 8m00s)."
      ]
    },
    {
      "cell_type": "markdown",
      "metadata": {
        "id": "B2oGJEBLn7J8"
      },
      "source": [
        "## Center the word vectors\n",
        "\n",
        "Note that we are taking the column-wise means -- the means for the term vectors. \\\n",
        "We don't really need to do this. But it is typical for PCA. \\\n",
        "**NOTE:** SOme argue that centering alters the cosine angles."
      ]
    },
    {
      "cell_type": "code",
      "execution_count": null,
      "metadata": {
        "id": "M2LZZDe4n7J8"
      },
      "outputs": [],
      "source": [
        "TFIDF_c = TFIDF_c - TFIDF_c.mean()\n",
        "TFIDF_b = TFIDF_b - TFIDF_b.mean()"
      ]
    },
    {
      "cell_type": "markdown",
      "metadata": {
        "toc-hr-collapsed": true,
        "id": "61JzdYFJn7J8"
      },
      "source": [
        "# Compute Covariance Matrix\n",
        "\n",
        "We could compute this directly, but we use the built in Pandas method here."
      ]
    },
    {
      "cell_type": "code",
      "execution_count": null,
      "metadata": {
        "id": "qiwEnp9gn7J8"
      },
      "outputs": [],
      "source": [
        "#COV_c = TFIDF_c.T.dot(TFIDF_c) / (TFIDF_c.shape[0] - 1)\n",
        "#COV_b = TFIDF_b.T.dot(TFIDF_b) / (TFIDF_c.shape[0] - 1)"
      ]
    },
    {
      "cell_type": "code",
      "execution_count": null,
      "metadata": {
        "id": "xbc4EK1Mn7J9"
      },
      "outputs": [],
      "source": [
        "COV_c = TFIDF_c.cov()\n",
        "COV_b = TFIDF_b.cov()"
      ]
    },
    {
      "cell_type": "code",
      "execution_count": null,
      "metadata": {
        "colab": {
          "base_uri": "https://localhost:8080/",
          "height": 342
        },
        "id": "yR-Jgaa4n7J9",
        "outputId": "ddf31e96-0822-480b-f6e4-cdb00bc23afd"
      },
      "outputs": [
        {
          "output_type": "execute_result",
          "data": {
            "text/plain": [
              "              1             2             3             4             5  \\\n",
              "1  1.988656e-04 -1.106432e-07  2.157583e-04 -7.568172e-08  2.397314e-05   \n",
              "2 -1.106432e-07  4.527179e-06 -6.707459e-08 -5.442291e-09 -7.452732e-09   \n",
              "3  2.157583e-04 -6.707459e-08  3.217458e-04 -4.588010e-08  3.574953e-05   \n",
              "4 -7.568172e-08 -5.442291e-09 -4.588010e-08  2.118167e-06 -5.097788e-09   \n",
              "5  2.397314e-05 -7.452732e-09  3.574953e-05 -5.097788e-09  3.972170e-06   \n",
              "\n",
              "              6             7             8             9            10  ...  \\\n",
              "1 -2.422990e-07  1.618086e-05  3.468154e-06 -8.388314e-07  1.787523e-06  ...   \n",
              "2 -1.742378e-08 -1.670684e-07 -4.303237e-08  5.582468e-06  5.578662e-06  ...   \n",
              "3 -1.468875e-07  1.695926e-05 -3.627754e-07 -5.085199e-07 -5.406032e-07  ...   \n",
              "4 -1.191814e-08 -1.142775e-07 -2.943483e-08  1.278808e-06 -4.386341e-08  ...   \n",
              "5 -1.632084e-08  1.884362e-06 -4.030838e-08 -5.650221e-08 -6.006703e-08  ...   \n",
              "\n",
              "          31560         31561         31562         31563         31564  \\\n",
              "1 -2.665012e-07 -1.282656e-07 -1.188126e-06 -6.669278e-07 -2.380297e-07   \n",
              "2 -1.916416e-08 -9.223606e-09 -8.543841e-08 -4.795893e-08 -1.711677e-08   \n",
              "3 -1.615595e-07 -7.775769e-08 -7.202707e-07 -4.043078e-07 -1.442994e-07   \n",
              "4 -1.310859e-08 -6.309095e-09 -5.844125e-08 -3.280468e-08 -1.170815e-08   \n",
              "5 -1.795105e-08 -8.639743e-09 -8.003008e-08 -4.492309e-08 -1.603327e-08   \n",
              "\n",
              "          31565         31566         31567         31568         31569  \n",
              "1 -2.136782e-07 -8.704540e-08 -2.193084e-07 -1.196530e-07 -7.058082e-08  \n",
              "2 -1.536565e-08 -6.259455e-09 -1.577052e-08 -8.604279e-09 -5.075483e-09  \n",
              "3 -1.295369e-07 -5.276903e-08 -1.329500e-07 -7.253658e-08 -4.278780e-08  \n",
              "4 -1.051035e-08 -4.281568e-09 -1.078729e-08 -5.885465e-09 -3.471712e-09  \n",
              "5 -1.439299e-08 -5.863226e-09 -1.477223e-08 -8.059620e-09 -4.754200e-09  \n",
              "\n",
              "[5 rows x 31569 columns]"
            ],
            "text/html": [
              "\n",
              "  <div id=\"df-c9cc8f86-6424-4de2-b005-39328a5a18f2\" class=\"colab-df-container\">\n",
              "    <div>\n",
              "<style scoped>\n",
              "    .dataframe tbody tr th:only-of-type {\n",
              "        vertical-align: middle;\n",
              "    }\n",
              "\n",
              "    .dataframe tbody tr th {\n",
              "        vertical-align: top;\n",
              "    }\n",
              "\n",
              "    .dataframe thead th {\n",
              "        text-align: right;\n",
              "    }\n",
              "</style>\n",
              "<table border=\"1\" class=\"dataframe\">\n",
              "  <thead>\n",
              "    <tr style=\"text-align: right;\">\n",
              "      <th></th>\n",
              "      <th>1</th>\n",
              "      <th>2</th>\n",
              "      <th>3</th>\n",
              "      <th>4</th>\n",
              "      <th>5</th>\n",
              "      <th>6</th>\n",
              "      <th>7</th>\n",
              "      <th>8</th>\n",
              "      <th>9</th>\n",
              "      <th>10</th>\n",
              "      <th>...</th>\n",
              "      <th>31560</th>\n",
              "      <th>31561</th>\n",
              "      <th>31562</th>\n",
              "      <th>31563</th>\n",
              "      <th>31564</th>\n",
              "      <th>31565</th>\n",
              "      <th>31566</th>\n",
              "      <th>31567</th>\n",
              "      <th>31568</th>\n",
              "      <th>31569</th>\n",
              "    </tr>\n",
              "  </thead>\n",
              "  <tbody>\n",
              "    <tr>\n",
              "      <th>1</th>\n",
              "      <td>1.988656e-04</td>\n",
              "      <td>-1.106432e-07</td>\n",
              "      <td>2.157583e-04</td>\n",
              "      <td>-7.568172e-08</td>\n",
              "      <td>2.397314e-05</td>\n",
              "      <td>-2.422990e-07</td>\n",
              "      <td>1.618086e-05</td>\n",
              "      <td>3.468154e-06</td>\n",
              "      <td>-8.388314e-07</td>\n",
              "      <td>1.787523e-06</td>\n",
              "      <td>...</td>\n",
              "      <td>-2.665012e-07</td>\n",
              "      <td>-1.282656e-07</td>\n",
              "      <td>-1.188126e-06</td>\n",
              "      <td>-6.669278e-07</td>\n",
              "      <td>-2.380297e-07</td>\n",
              "      <td>-2.136782e-07</td>\n",
              "      <td>-8.704540e-08</td>\n",
              "      <td>-2.193084e-07</td>\n",
              "      <td>-1.196530e-07</td>\n",
              "      <td>-7.058082e-08</td>\n",
              "    </tr>\n",
              "    <tr>\n",
              "      <th>2</th>\n",
              "      <td>-1.106432e-07</td>\n",
              "      <td>4.527179e-06</td>\n",
              "      <td>-6.707459e-08</td>\n",
              "      <td>-5.442291e-09</td>\n",
              "      <td>-7.452732e-09</td>\n",
              "      <td>-1.742378e-08</td>\n",
              "      <td>-1.670684e-07</td>\n",
              "      <td>-4.303237e-08</td>\n",
              "      <td>5.582468e-06</td>\n",
              "      <td>5.578662e-06</td>\n",
              "      <td>...</td>\n",
              "      <td>-1.916416e-08</td>\n",
              "      <td>-9.223606e-09</td>\n",
              "      <td>-8.543841e-08</td>\n",
              "      <td>-4.795893e-08</td>\n",
              "      <td>-1.711677e-08</td>\n",
              "      <td>-1.536565e-08</td>\n",
              "      <td>-6.259455e-09</td>\n",
              "      <td>-1.577052e-08</td>\n",
              "      <td>-8.604279e-09</td>\n",
              "      <td>-5.075483e-09</td>\n",
              "    </tr>\n",
              "    <tr>\n",
              "      <th>3</th>\n",
              "      <td>2.157583e-04</td>\n",
              "      <td>-6.707459e-08</td>\n",
              "      <td>3.217458e-04</td>\n",
              "      <td>-4.588010e-08</td>\n",
              "      <td>3.574953e-05</td>\n",
              "      <td>-1.468875e-07</td>\n",
              "      <td>1.695926e-05</td>\n",
              "      <td>-3.627754e-07</td>\n",
              "      <td>-5.085199e-07</td>\n",
              "      <td>-5.406032e-07</td>\n",
              "      <td>...</td>\n",
              "      <td>-1.615595e-07</td>\n",
              "      <td>-7.775769e-08</td>\n",
              "      <td>-7.202707e-07</td>\n",
              "      <td>-4.043078e-07</td>\n",
              "      <td>-1.442994e-07</td>\n",
              "      <td>-1.295369e-07</td>\n",
              "      <td>-5.276903e-08</td>\n",
              "      <td>-1.329500e-07</td>\n",
              "      <td>-7.253658e-08</td>\n",
              "      <td>-4.278780e-08</td>\n",
              "    </tr>\n",
              "    <tr>\n",
              "      <th>4</th>\n",
              "      <td>-7.568172e-08</td>\n",
              "      <td>-5.442291e-09</td>\n",
              "      <td>-4.588010e-08</td>\n",
              "      <td>2.118167e-06</td>\n",
              "      <td>-5.097788e-09</td>\n",
              "      <td>-1.191814e-08</td>\n",
              "      <td>-1.142775e-07</td>\n",
              "      <td>-2.943483e-08</td>\n",
              "      <td>1.278808e-06</td>\n",
              "      <td>-4.386341e-08</td>\n",
              "      <td>...</td>\n",
              "      <td>-1.310859e-08</td>\n",
              "      <td>-6.309095e-09</td>\n",
              "      <td>-5.844125e-08</td>\n",
              "      <td>-3.280468e-08</td>\n",
              "      <td>-1.170815e-08</td>\n",
              "      <td>-1.051035e-08</td>\n",
              "      <td>-4.281568e-09</td>\n",
              "      <td>-1.078729e-08</td>\n",
              "      <td>-5.885465e-09</td>\n",
              "      <td>-3.471712e-09</td>\n",
              "    </tr>\n",
              "    <tr>\n",
              "      <th>5</th>\n",
              "      <td>2.397314e-05</td>\n",
              "      <td>-7.452732e-09</td>\n",
              "      <td>3.574953e-05</td>\n",
              "      <td>-5.097788e-09</td>\n",
              "      <td>3.972170e-06</td>\n",
              "      <td>-1.632084e-08</td>\n",
              "      <td>1.884362e-06</td>\n",
              "      <td>-4.030838e-08</td>\n",
              "      <td>-5.650221e-08</td>\n",
              "      <td>-6.006703e-08</td>\n",
              "      <td>...</td>\n",
              "      <td>-1.795105e-08</td>\n",
              "      <td>-8.639743e-09</td>\n",
              "      <td>-8.003008e-08</td>\n",
              "      <td>-4.492309e-08</td>\n",
              "      <td>-1.603327e-08</td>\n",
              "      <td>-1.439299e-08</td>\n",
              "      <td>-5.863226e-09</td>\n",
              "      <td>-1.477223e-08</td>\n",
              "      <td>-8.059620e-09</td>\n",
              "      <td>-4.754200e-09</td>\n",
              "    </tr>\n",
              "  </tbody>\n",
              "</table>\n",
              "<p>5 rows × 31569 columns</p>\n",
              "</div>\n",
              "    <div class=\"colab-df-buttons\">\n",
              "\n",
              "  <div class=\"colab-df-container\">\n",
              "    <button class=\"colab-df-convert\" onclick=\"convertToInteractive('df-c9cc8f86-6424-4de2-b005-39328a5a18f2')\"\n",
              "            title=\"Convert this dataframe to an interactive table.\"\n",
              "            style=\"display:none;\">\n",
              "\n",
              "  <svg xmlns=\"http://www.w3.org/2000/svg\" height=\"24px\" viewBox=\"0 -960 960 960\">\n",
              "    <path d=\"M120-120v-720h720v720H120Zm60-500h600v-160H180v160Zm220 220h160v-160H400v160Zm0 220h160v-160H400v160ZM180-400h160v-160H180v160Zm440 0h160v-160H620v160ZM180-180h160v-160H180v160Zm440 0h160v-160H620v160Z\"/>\n",
              "  </svg>\n",
              "    </button>\n",
              "\n",
              "  <style>\n",
              "    .colab-df-container {\n",
              "      display:flex;\n",
              "      gap: 12px;\n",
              "    }\n",
              "\n",
              "    .colab-df-convert {\n",
              "      background-color: #E8F0FE;\n",
              "      border: none;\n",
              "      border-radius: 50%;\n",
              "      cursor: pointer;\n",
              "      display: none;\n",
              "      fill: #1967D2;\n",
              "      height: 32px;\n",
              "      padding: 0 0 0 0;\n",
              "      width: 32px;\n",
              "    }\n",
              "\n",
              "    .colab-df-convert:hover {\n",
              "      background-color: #E2EBFA;\n",
              "      box-shadow: 0px 1px 2px rgba(60, 64, 67, 0.3), 0px 1px 3px 1px rgba(60, 64, 67, 0.15);\n",
              "      fill: #174EA6;\n",
              "    }\n",
              "\n",
              "    .colab-df-buttons div {\n",
              "      margin-bottom: 4px;\n",
              "    }\n",
              "\n",
              "    [theme=dark] .colab-df-convert {\n",
              "      background-color: #3B4455;\n",
              "      fill: #D2E3FC;\n",
              "    }\n",
              "\n",
              "    [theme=dark] .colab-df-convert:hover {\n",
              "      background-color: #434B5C;\n",
              "      box-shadow: 0px 1px 3px 1px rgba(0, 0, 0, 0.15);\n",
              "      filter: drop-shadow(0px 1px 2px rgba(0, 0, 0, 0.3));\n",
              "      fill: #FFFFFF;\n",
              "    }\n",
              "  </style>\n",
              "\n",
              "    <script>\n",
              "      const buttonEl =\n",
              "        document.querySelector('#df-c9cc8f86-6424-4de2-b005-39328a5a18f2 button.colab-df-convert');\n",
              "      buttonEl.style.display =\n",
              "        google.colab.kernel.accessAllowed ? 'block' : 'none';\n",
              "\n",
              "      async function convertToInteractive(key) {\n",
              "        const element = document.querySelector('#df-c9cc8f86-6424-4de2-b005-39328a5a18f2');\n",
              "        const dataTable =\n",
              "          await google.colab.kernel.invokeFunction('convertToInteractive',\n",
              "                                                    [key], {});\n",
              "        if (!dataTable) return;\n",
              "\n",
              "        const docLinkHtml = 'Like what you see? Visit the ' +\n",
              "          '<a target=\"_blank\" href=https://colab.research.google.com/notebooks/data_table.ipynb>data table notebook</a>'\n",
              "          + ' to learn more about interactive tables.';\n",
              "        element.innerHTML = '';\n",
              "        dataTable['output_type'] = 'display_data';\n",
              "        await google.colab.output.renderOutput(dataTable, element);\n",
              "        const docLink = document.createElement('div');\n",
              "        docLink.innerHTML = docLinkHtml;\n",
              "        element.appendChild(docLink);\n",
              "      }\n",
              "    </script>\n",
              "  </div>\n",
              "\n",
              "\n",
              "<div id=\"df-751098df-67fe-43af-9dff-a9e22161d9ee\">\n",
              "  <button class=\"colab-df-quickchart\" onclick=\"quickchart('df-751098df-67fe-43af-9dff-a9e22161d9ee')\"\n",
              "            title=\"Suggest charts\"\n",
              "            style=\"display:none;\">\n",
              "\n",
              "<svg xmlns=\"http://www.w3.org/2000/svg\" height=\"24px\"viewBox=\"0 0 24 24\"\n",
              "     width=\"24px\">\n",
              "    <g>\n",
              "        <path d=\"M19 3H5c-1.1 0-2 .9-2 2v14c0 1.1.9 2 2 2h14c1.1 0 2-.9 2-2V5c0-1.1-.9-2-2-2zM9 17H7v-7h2v7zm4 0h-2V7h2v10zm4 0h-2v-4h2v4z\"/>\n",
              "    </g>\n",
              "</svg>\n",
              "  </button>\n",
              "\n",
              "<style>\n",
              "  .colab-df-quickchart {\n",
              "      --bg-color: #E8F0FE;\n",
              "      --fill-color: #1967D2;\n",
              "      --hover-bg-color: #E2EBFA;\n",
              "      --hover-fill-color: #174EA6;\n",
              "      --disabled-fill-color: #AAA;\n",
              "      --disabled-bg-color: #DDD;\n",
              "  }\n",
              "\n",
              "  [theme=dark] .colab-df-quickchart {\n",
              "      --bg-color: #3B4455;\n",
              "      --fill-color: #D2E3FC;\n",
              "      --hover-bg-color: #434B5C;\n",
              "      --hover-fill-color: #FFFFFF;\n",
              "      --disabled-bg-color: #3B4455;\n",
              "      --disabled-fill-color: #666;\n",
              "  }\n",
              "\n",
              "  .colab-df-quickchart {\n",
              "    background-color: var(--bg-color);\n",
              "    border: none;\n",
              "    border-radius: 50%;\n",
              "    cursor: pointer;\n",
              "    display: none;\n",
              "    fill: var(--fill-color);\n",
              "    height: 32px;\n",
              "    padding: 0;\n",
              "    width: 32px;\n",
              "  }\n",
              "\n",
              "  .colab-df-quickchart:hover {\n",
              "    background-color: var(--hover-bg-color);\n",
              "    box-shadow: 0 1px 2px rgba(60, 64, 67, 0.3), 0 1px 3px 1px rgba(60, 64, 67, 0.15);\n",
              "    fill: var(--button-hover-fill-color);\n",
              "  }\n",
              "\n",
              "  .colab-df-quickchart-complete:disabled,\n",
              "  .colab-df-quickchart-complete:disabled:hover {\n",
              "    background-color: var(--disabled-bg-color);\n",
              "    fill: var(--disabled-fill-color);\n",
              "    box-shadow: none;\n",
              "  }\n",
              "\n",
              "  .colab-df-spinner {\n",
              "    border: 2px solid var(--fill-color);\n",
              "    border-color: transparent;\n",
              "    border-bottom-color: var(--fill-color);\n",
              "    animation:\n",
              "      spin 1s steps(1) infinite;\n",
              "  }\n",
              "\n",
              "  @keyframes spin {\n",
              "    0% {\n",
              "      border-color: transparent;\n",
              "      border-bottom-color: var(--fill-color);\n",
              "      border-left-color: var(--fill-color);\n",
              "    }\n",
              "    20% {\n",
              "      border-color: transparent;\n",
              "      border-left-color: var(--fill-color);\n",
              "      border-top-color: var(--fill-color);\n",
              "    }\n",
              "    30% {\n",
              "      border-color: transparent;\n",
              "      border-left-color: var(--fill-color);\n",
              "      border-top-color: var(--fill-color);\n",
              "      border-right-color: var(--fill-color);\n",
              "    }\n",
              "    40% {\n",
              "      border-color: transparent;\n",
              "      border-right-color: var(--fill-color);\n",
              "      border-top-color: var(--fill-color);\n",
              "    }\n",
              "    60% {\n",
              "      border-color: transparent;\n",
              "      border-right-color: var(--fill-color);\n",
              "    }\n",
              "    80% {\n",
              "      border-color: transparent;\n",
              "      border-right-color: var(--fill-color);\n",
              "      border-bottom-color: var(--fill-color);\n",
              "    }\n",
              "    90% {\n",
              "      border-color: transparent;\n",
              "      border-bottom-color: var(--fill-color);\n",
              "    }\n",
              "  }\n",
              "</style>\n",
              "\n",
              "  <script>\n",
              "    async function quickchart(key) {\n",
              "      const quickchartButtonEl =\n",
              "        document.querySelector('#' + key + ' button');\n",
              "      quickchartButtonEl.disabled = true;  // To prevent multiple clicks.\n",
              "      quickchartButtonEl.classList.add('colab-df-spinner');\n",
              "      try {\n",
              "        const charts = await google.colab.kernel.invokeFunction(\n",
              "            'suggestCharts', [key], {});\n",
              "      } catch (error) {\n",
              "        console.error('Error during call to suggestCharts:', error);\n",
              "      }\n",
              "      quickchartButtonEl.classList.remove('colab-df-spinner');\n",
              "      quickchartButtonEl.classList.add('colab-df-quickchart-complete');\n",
              "    }\n",
              "    (() => {\n",
              "      let quickchartButtonEl =\n",
              "        document.querySelector('#df-751098df-67fe-43af-9dff-a9e22161d9ee button');\n",
              "      quickchartButtonEl.style.display =\n",
              "        google.colab.kernel.accessAllowed ? 'block' : 'none';\n",
              "    })();\n",
              "  </script>\n",
              "</div>\n",
              "\n",
              "    </div>\n",
              "  </div>\n"
            ],
            "application/vnd.google.colaboratory.intrinsic+json": {
              "type": "dataframe",
              "variable_name": "COV_c"
            }
          },
          "metadata": {},
          "execution_count": 17
        }
      ],
      "source": [
        "COV_c.head()"
      ]
    },
    {
      "cell_type": "code",
      "execution_count": null,
      "metadata": {
        "colab": {
          "base_uri": "https://localhost:8080/",
          "height": 226
        },
        "id": "V7Rl4ebln7J9",
        "outputId": "13437314-5138-4a05-dc62-d620569815d8"
      },
      "outputs": [
        {
          "output_type": "execute_result",
          "data": {
            "text/plain": [
              "<pandas.io.formats.style.Styler at 0x7d4f788497e0>"
            ],
            "text/html": [
              "<style type=\"text/css\">\n",
              "#T_1b731_row0_col0 {\n",
              "  background-color: #034d79;\n",
              "  color: #f1f1f1;\n",
              "}\n",
              "#T_1b731_row0_col1, #T_1b731_row0_col3, #T_1b731_row0_col5, #T_1b731_row0_col8, #T_1b731_row1_col0, #T_1b731_row1_col2, #T_1b731_row1_col4, #T_1b731_row1_col6, #T_1b731_row2_col7, #T_1b731_row2_col9, #T_1b731_row3_col0, #T_1b731_row3_col2, #T_1b731_row3_col4, #T_1b731_row3_col6 {\n",
              "  background-color: #fff7fb;\n",
              "  color: #000000;\n",
              "}\n",
              "#T_1b731_row0_col2, #T_1b731_row0_col4 {\n",
              "  background-color: #2484ba;\n",
              "  color: #f1f1f1;\n",
              "}\n",
              "#T_1b731_row0_col6 {\n",
              "  background-color: #03446a;\n",
              "  color: #f1f1f1;\n",
              "}\n",
              "#T_1b731_row0_col7, #T_1b731_row1_col1, #T_1b731_row1_col8, #T_1b731_row1_col9, #T_1b731_row2_col0, #T_1b731_row2_col2, #T_1b731_row2_col4, #T_1b731_row2_col6, #T_1b731_row3_col3, #T_1b731_row3_col5 {\n",
              "  background-color: #023858;\n",
              "  color: #f1f1f1;\n",
              "}\n",
              "#T_1b731_row0_col9 {\n",
              "  background-color: #a4bcda;\n",
              "  color: #000000;\n",
              "}\n",
              "#T_1b731_row1_col3, #T_1b731_row4_col3 {\n",
              "  background-color: #faf3f9;\n",
              "  color: #000000;\n",
              "}\n",
              "#T_1b731_row1_col5 {\n",
              "  background-color: #023e62;\n",
              "  color: #f1f1f1;\n",
              "}\n",
              "#T_1b731_row1_col7, #T_1b731_row3_col7, #T_1b731_row4_col7 {\n",
              "  background-color: #f2ecf5;\n",
              "  color: #000000;\n",
              "}\n",
              "#T_1b731_row2_col1 {\n",
              "  background-color: #fef6fa;\n",
              "  color: #000000;\n",
              "}\n",
              "#T_1b731_row2_col3 {\n",
              "  background-color: #fdf5fa;\n",
              "  color: #000000;\n",
              "}\n",
              "#T_1b731_row2_col5 {\n",
              "  background-color: #96b6d7;\n",
              "  color: #000000;\n",
              "}\n",
              "#T_1b731_row2_col8 {\n",
              "  background-color: #f7f0f7;\n",
              "  color: #000000;\n",
              "}\n",
              "#T_1b731_row3_col1, #T_1b731_row4_col1 {\n",
              "  background-color: #fcf4fa;\n",
              "  color: #000000;\n",
              "}\n",
              "#T_1b731_row3_col8 {\n",
              "  background-color: #b5c4df;\n",
              "  color: #000000;\n",
              "}\n",
              "#T_1b731_row3_col9, #T_1b731_row4_col9 {\n",
              "  background-color: #f3edf5;\n",
              "  color: #000000;\n",
              "}\n",
              "#T_1b731_row4_col0, #T_1b731_row4_col2, #T_1b731_row4_col4 {\n",
              "  background-color: #eee9f3;\n",
              "  color: #000000;\n",
              "}\n",
              "#T_1b731_row4_col5 {\n",
              "  background-color: #023c5f;\n",
              "  color: #f1f1f1;\n",
              "}\n",
              "#T_1b731_row4_col6 {\n",
              "  background-color: #ede8f3;\n",
              "  color: #000000;\n",
              "}\n",
              "#T_1b731_row4_col8 {\n",
              "  background-color: #ede7f2;\n",
              "  color: #000000;\n",
              "}\n",
              "</style>\n",
              "<table id=\"T_1b731\" class=\"dataframe\">\n",
              "  <thead>\n",
              "    <tr>\n",
              "      <th class=\"blank level0\" >&nbsp;</th>\n",
              "      <th id=\"T_1b731_level0_col0\" class=\"col_heading level0 col0\" >1</th>\n",
              "      <th id=\"T_1b731_level0_col1\" class=\"col_heading level0 col1\" >2</th>\n",
              "      <th id=\"T_1b731_level0_col2\" class=\"col_heading level0 col2\" >3</th>\n",
              "      <th id=\"T_1b731_level0_col3\" class=\"col_heading level0 col3\" >4</th>\n",
              "      <th id=\"T_1b731_level0_col4\" class=\"col_heading level0 col4\" >5</th>\n",
              "      <th id=\"T_1b731_level0_col5\" class=\"col_heading level0 col5\" >6</th>\n",
              "      <th id=\"T_1b731_level0_col6\" class=\"col_heading level0 col6\" >7</th>\n",
              "      <th id=\"T_1b731_level0_col7\" class=\"col_heading level0 col7\" >8</th>\n",
              "      <th id=\"T_1b731_level0_col8\" class=\"col_heading level0 col8\" >9</th>\n",
              "      <th id=\"T_1b731_level0_col9\" class=\"col_heading level0 col9\" >10</th>\n",
              "    </tr>\n",
              "  </thead>\n",
              "  <tbody>\n",
              "    <tr>\n",
              "      <th id=\"T_1b731_level0_row0\" class=\"row_heading level0 row0\" >1</th>\n",
              "      <td id=\"T_1b731_row0_col0\" class=\"data row0 col0\" >0.000199</td>\n",
              "      <td id=\"T_1b731_row0_col1\" class=\"data row0 col1\" >-0.000000</td>\n",
              "      <td id=\"T_1b731_row0_col2\" class=\"data row0 col2\" >0.000216</td>\n",
              "      <td id=\"T_1b731_row0_col3\" class=\"data row0 col3\" >-0.000000</td>\n",
              "      <td id=\"T_1b731_row0_col4\" class=\"data row0 col4\" >0.000024</td>\n",
              "      <td id=\"T_1b731_row0_col5\" class=\"data row0 col5\" >-0.000000</td>\n",
              "      <td id=\"T_1b731_row0_col6\" class=\"data row0 col6\" >0.000016</td>\n",
              "      <td id=\"T_1b731_row0_col7\" class=\"data row0 col7\" >0.000003</td>\n",
              "      <td id=\"T_1b731_row0_col8\" class=\"data row0 col8\" >-0.000001</td>\n",
              "      <td id=\"T_1b731_row0_col9\" class=\"data row0 col9\" >0.000002</td>\n",
              "    </tr>\n",
              "    <tr>\n",
              "      <th id=\"T_1b731_level0_row1\" class=\"row_heading level0 row1\" >2</th>\n",
              "      <td id=\"T_1b731_row1_col0\" class=\"data row1 col0\" >-0.000000</td>\n",
              "      <td id=\"T_1b731_row1_col1\" class=\"data row1 col1\" >0.000005</td>\n",
              "      <td id=\"T_1b731_row1_col2\" class=\"data row1 col2\" >-0.000000</td>\n",
              "      <td id=\"T_1b731_row1_col3\" class=\"data row1 col3\" >-0.000000</td>\n",
              "      <td id=\"T_1b731_row1_col4\" class=\"data row1 col4\" >-0.000000</td>\n",
              "      <td id=\"T_1b731_row1_col5\" class=\"data row1 col5\" >-0.000000</td>\n",
              "      <td id=\"T_1b731_row1_col6\" class=\"data row1 col6\" >-0.000000</td>\n",
              "      <td id=\"T_1b731_row1_col7\" class=\"data row1 col7\" >-0.000000</td>\n",
              "      <td id=\"T_1b731_row1_col8\" class=\"data row1 col8\" >0.000006</td>\n",
              "      <td id=\"T_1b731_row1_col9\" class=\"data row1 col9\" >0.000006</td>\n",
              "    </tr>\n",
              "    <tr>\n",
              "      <th id=\"T_1b731_level0_row2\" class=\"row_heading level0 row2\" >3</th>\n",
              "      <td id=\"T_1b731_row2_col0\" class=\"data row2 col0\" >0.000216</td>\n",
              "      <td id=\"T_1b731_row2_col1\" class=\"data row2 col1\" >-0.000000</td>\n",
              "      <td id=\"T_1b731_row2_col2\" class=\"data row2 col2\" >0.000322</td>\n",
              "      <td id=\"T_1b731_row2_col3\" class=\"data row2 col3\" >-0.000000</td>\n",
              "      <td id=\"T_1b731_row2_col4\" class=\"data row2 col4\" >0.000036</td>\n",
              "      <td id=\"T_1b731_row2_col5\" class=\"data row2 col5\" >-0.000000</td>\n",
              "      <td id=\"T_1b731_row2_col6\" class=\"data row2 col6\" >0.000017</td>\n",
              "      <td id=\"T_1b731_row2_col7\" class=\"data row2 col7\" >-0.000000</td>\n",
              "      <td id=\"T_1b731_row2_col8\" class=\"data row2 col8\" >-0.000001</td>\n",
              "      <td id=\"T_1b731_row2_col9\" class=\"data row2 col9\" >-0.000001</td>\n",
              "    </tr>\n",
              "    <tr>\n",
              "      <th id=\"T_1b731_level0_row3\" class=\"row_heading level0 row3\" >4</th>\n",
              "      <td id=\"T_1b731_row3_col0\" class=\"data row3 col0\" >-0.000000</td>\n",
              "      <td id=\"T_1b731_row3_col1\" class=\"data row3 col1\" >-0.000000</td>\n",
              "      <td id=\"T_1b731_row3_col2\" class=\"data row3 col2\" >-0.000000</td>\n",
              "      <td id=\"T_1b731_row3_col3\" class=\"data row3 col3\" >0.000002</td>\n",
              "      <td id=\"T_1b731_row3_col4\" class=\"data row3 col4\" >-0.000000</td>\n",
              "      <td id=\"T_1b731_row3_col5\" class=\"data row3 col5\" >-0.000000</td>\n",
              "      <td id=\"T_1b731_row3_col6\" class=\"data row3 col6\" >-0.000000</td>\n",
              "      <td id=\"T_1b731_row3_col7\" class=\"data row3 col7\" >-0.000000</td>\n",
              "      <td id=\"T_1b731_row3_col8\" class=\"data row3 col8\" >0.000001</td>\n",
              "      <td id=\"T_1b731_row3_col9\" class=\"data row3 col9\" >-0.000000</td>\n",
              "    </tr>\n",
              "    <tr>\n",
              "      <th id=\"T_1b731_level0_row4\" class=\"row_heading level0 row4\" >5</th>\n",
              "      <td id=\"T_1b731_row4_col0\" class=\"data row4 col0\" >0.000024</td>\n",
              "      <td id=\"T_1b731_row4_col1\" class=\"data row4 col1\" >-0.000000</td>\n",
              "      <td id=\"T_1b731_row4_col2\" class=\"data row4 col2\" >0.000036</td>\n",
              "      <td id=\"T_1b731_row4_col3\" class=\"data row4 col3\" >-0.000000</td>\n",
              "      <td id=\"T_1b731_row4_col4\" class=\"data row4 col4\" >0.000004</td>\n",
              "      <td id=\"T_1b731_row4_col5\" class=\"data row4 col5\" >-0.000000</td>\n",
              "      <td id=\"T_1b731_row4_col6\" class=\"data row4 col6\" >0.000002</td>\n",
              "      <td id=\"T_1b731_row4_col7\" class=\"data row4 col7\" >-0.000000</td>\n",
              "      <td id=\"T_1b731_row4_col8\" class=\"data row4 col8\" >-0.000000</td>\n",
              "      <td id=\"T_1b731_row4_col9\" class=\"data row4 col9\" >-0.000000</td>\n",
              "    </tr>\n",
              "  </tbody>\n",
              "</table>\n"
            ]
          },
          "metadata": {},
          "execution_count": 18
        }
      ],
      "source": [
        "COV_c.iloc[:5,:10].style.background_gradient()"
      ]
    },
    {
      "cell_type": "code",
      "execution_count": null,
      "metadata": {
        "colab": {
          "base_uri": "https://localhost:8080/",
          "height": 226
        },
        "id": "rGZT9kQOn7J9",
        "outputId": "18bcc7d9-0038-4c5d-c5c8-dfea4a5553ec"
      },
      "outputs": [
        {
          "output_type": "execute_result",
          "data": {
            "text/plain": [
              "<pandas.io.formats.style.Styler at 0x7d4f7309e170>"
            ],
            "text/html": [
              "<style type=\"text/css\">\n",
              "#T_203db_row0_col0, #T_203db_row0_col5, #T_203db_row0_col6, #T_203db_row1_col1, #T_203db_row1_col7, #T_203db_row1_col9, #T_203db_row2_col2, #T_203db_row2_col4, #T_203db_row3_col3, #T_203db_row3_col8 {\n",
              "  background-color: #023858;\n",
              "  color: #f1f1f1;\n",
              "}\n",
              "#T_203db_row0_col1, #T_203db_row0_col3, #T_203db_row0_col8, #T_203db_row1_col2, #T_203db_row1_col4, #T_203db_row2_col5, #T_203db_row2_col7, #T_203db_row2_col9, #T_203db_row3_col0, #T_203db_row3_col2, #T_203db_row3_col4, #T_203db_row3_col6 {\n",
              "  background-color: #fff7fb;\n",
              "  color: #000000;\n",
              "}\n",
              "#T_203db_row0_col2, #T_203db_row0_col4 {\n",
              "  background-color: #308cbe;\n",
              "  color: #f1f1f1;\n",
              "}\n",
              "#T_203db_row0_col7 {\n",
              "  background-color: #3f93c2;\n",
              "  color: #f1f1f1;\n",
              "}\n",
              "#T_203db_row0_col9 {\n",
              "  background-color: #99b8d8;\n",
              "  color: #000000;\n",
              "}\n",
              "#T_203db_row1_col0 {\n",
              "  background-color: #fef6fb;\n",
              "  color: #000000;\n",
              "}\n",
              "#T_203db_row1_col3 {\n",
              "  background-color: #b3c3de;\n",
              "  color: #000000;\n",
              "}\n",
              "#T_203db_row1_col5 {\n",
              "  background-color: #1b7eb7;\n",
              "  color: #f1f1f1;\n",
              "}\n",
              "#T_203db_row1_col6, #T_203db_row4_col2, #T_203db_row4_col4 {\n",
              "  background-color: #eee8f3;\n",
              "  color: #000000;\n",
              "}\n",
              "#T_203db_row1_col8 {\n",
              "  background-color: #4a98c5;\n",
              "  color: #f1f1f1;\n",
              "}\n",
              "#T_203db_row2_col0 {\n",
              "  background-color: #0a73b2;\n",
              "  color: #f1f1f1;\n",
              "}\n",
              "#T_203db_row2_col1 {\n",
              "  background-color: #d4d4e8;\n",
              "  color: #000000;\n",
              "}\n",
              "#T_203db_row2_col3 {\n",
              "  background-color: #ede8f3;\n",
              "  color: #000000;\n",
              "}\n",
              "#T_203db_row2_col6 {\n",
              "  background-color: #529bc7;\n",
              "  color: #f1f1f1;\n",
              "}\n",
              "#T_203db_row2_col8 {\n",
              "  background-color: #faf2f8;\n",
              "  color: #000000;\n",
              "}\n",
              "#T_203db_row3_col1 {\n",
              "  background-color: #3d93c2;\n",
              "  color: #f1f1f1;\n",
              "}\n",
              "#T_203db_row3_col5 {\n",
              "  background-color: #348ebf;\n",
              "  color: #f1f1f1;\n",
              "}\n",
              "#T_203db_row3_col7 {\n",
              "  background-color: #056faf;\n",
              "  color: #f1f1f1;\n",
              "}\n",
              "#T_203db_row3_col9 {\n",
              "  background-color: #2f8bbe;\n",
              "  color: #f1f1f1;\n",
              "}\n",
              "#T_203db_row4_col0 {\n",
              "  background-color: #f2ecf5;\n",
              "  color: #000000;\n",
              "}\n",
              "#T_203db_row4_col1 {\n",
              "  background-color: #3b92c1;\n",
              "  color: #f1f1f1;\n",
              "}\n",
              "#T_203db_row4_col3 {\n",
              "  background-color: #b8c6e0;\n",
              "  color: #000000;\n",
              "}\n",
              "#T_203db_row4_col5 {\n",
              "  background-color: #328dbf;\n",
              "  color: #f1f1f1;\n",
              "}\n",
              "#T_203db_row4_col6 {\n",
              "  background-color: #e4e1ef;\n",
              "  color: #000000;\n",
              "}\n",
              "#T_203db_row4_col7 {\n",
              "  background-color: #056ead;\n",
              "  color: #f1f1f1;\n",
              "}\n",
              "#T_203db_row4_col8 {\n",
              "  background-color: #91b5d6;\n",
              "  color: #000000;\n",
              "}\n",
              "#T_203db_row4_col9 {\n",
              "  background-color: #2d8abd;\n",
              "  color: #f1f1f1;\n",
              "}\n",
              "</style>\n",
              "<table id=\"T_203db\" class=\"dataframe\">\n",
              "  <thead>\n",
              "    <tr>\n",
              "      <th class=\"blank level0\" >&nbsp;</th>\n",
              "      <th id=\"T_203db_level0_col0\" class=\"col_heading level0 col0\" >1</th>\n",
              "      <th id=\"T_203db_level0_col1\" class=\"col_heading level0 col1\" >2</th>\n",
              "      <th id=\"T_203db_level0_col2\" class=\"col_heading level0 col2\" >3</th>\n",
              "      <th id=\"T_203db_level0_col3\" class=\"col_heading level0 col3\" >4</th>\n",
              "      <th id=\"T_203db_level0_col4\" class=\"col_heading level0 col4\" >5</th>\n",
              "      <th id=\"T_203db_level0_col5\" class=\"col_heading level0 col5\" >6</th>\n",
              "      <th id=\"T_203db_level0_col6\" class=\"col_heading level0 col6\" >7</th>\n",
              "      <th id=\"T_203db_level0_col7\" class=\"col_heading level0 col7\" >8</th>\n",
              "      <th id=\"T_203db_level0_col8\" class=\"col_heading level0 col8\" >9</th>\n",
              "      <th id=\"T_203db_level0_col9\" class=\"col_heading level0 col9\" >10</th>\n",
              "    </tr>\n",
              "  </thead>\n",
              "  <tbody>\n",
              "    <tr>\n",
              "      <th id=\"T_203db_level0_row0\" class=\"row_heading level0 row0\" >1</th>\n",
              "      <td id=\"T_203db_row0_col0\" class=\"data row0 col0\" >0.000236</td>\n",
              "      <td id=\"T_203db_row0_col1\" class=\"data row0 col1\" >-0.000001</td>\n",
              "      <td id=\"T_203db_row0_col2\" class=\"data row0 col2\" >0.000173</td>\n",
              "      <td id=\"T_203db_row0_col3\" class=\"data row0 col3\" >-0.000002</td>\n",
              "      <td id=\"T_203db_row0_col4\" class=\"data row0 col4\" >0.000019</td>\n",
              "      <td id=\"T_203db_row0_col5\" class=\"data row0 col5\" >0.000000</td>\n",
              "      <td id=\"T_203db_row0_col6\" class=\"data row0 col6\" >0.000010</td>\n",
              "      <td id=\"T_203db_row0_col7\" class=\"data row0 col7\" >-0.000001</td>\n",
              "      <td id=\"T_203db_row0_col8\" class=\"data row0 col8\" >-0.000004</td>\n",
              "      <td id=\"T_203db_row0_col9\" class=\"data row0 col9\" >-0.000001</td>\n",
              "    </tr>\n",
              "    <tr>\n",
              "      <th id=\"T_203db_level0_row1\" class=\"row_heading level0 row1\" >2</th>\n",
              "      <td id=\"T_203db_row1_col0\" class=\"data row1 col0\" >-0.000001</td>\n",
              "      <td id=\"T_203db_row1_col1\" class=\"data row1 col1\" >0.000000</td>\n",
              "      <td id=\"T_203db_row1_col2\" class=\"data row1 col2\" >-0.000000</td>\n",
              "      <td id=\"T_203db_row1_col3\" class=\"data row1 col3\" >-0.000000</td>\n",
              "      <td id=\"T_203db_row1_col4\" class=\"data row1 col4\" >-0.000000</td>\n",
              "      <td id=\"T_203db_row1_col5\" class=\"data row1 col5\" >-0.000000</td>\n",
              "      <td id=\"T_203db_row1_col6\" class=\"data row1 col6\" >0.000000</td>\n",
              "      <td id=\"T_203db_row1_col7\" class=\"data row1 col7\" >0.000000</td>\n",
              "      <td id=\"T_203db_row1_col8\" class=\"data row1 col8\" >0.000001</td>\n",
              "      <td id=\"T_203db_row1_col9\" class=\"data row1 col9\" >0.000001</td>\n",
              "    </tr>\n",
              "    <tr>\n",
              "      <th id=\"T_203db_level0_row2\" class=\"row_heading level0 row2\" >3</th>\n",
              "      <td id=\"T_203db_row2_col0\" class=\"data row2 col0\" >0.000173</td>\n",
              "      <td id=\"T_203db_row2_col1\" class=\"data row2 col1\" >-0.000000</td>\n",
              "      <td id=\"T_203db_row2_col2\" class=\"data row2 col2\" >0.000272</td>\n",
              "      <td id=\"T_203db_row2_col3\" class=\"data row2 col3\" >-0.000001</td>\n",
              "      <td id=\"T_203db_row2_col4\" class=\"data row2 col4\" >0.000030</td>\n",
              "      <td id=\"T_203db_row2_col5\" class=\"data row2 col5\" >-0.000001</td>\n",
              "      <td id=\"T_203db_row2_col6\" class=\"data row2 col6\" >0.000005</td>\n",
              "      <td id=\"T_203db_row2_col7\" class=\"data row2 col7\" >-0.000002</td>\n",
              "      <td id=\"T_203db_row2_col8\" class=\"data row2 col8\" >-0.000004</td>\n",
              "      <td id=\"T_203db_row2_col9\" class=\"data row2 col9\" >-0.000003</td>\n",
              "    </tr>\n",
              "    <tr>\n",
              "      <th id=\"T_203db_level0_row3\" class=\"row_heading level0 row3\" >4</th>\n",
              "      <td id=\"T_203db_row3_col0\" class=\"data row3 col0\" >-0.000002</td>\n",
              "      <td id=\"T_203db_row3_col1\" class=\"data row3 col1\" >-0.000000</td>\n",
              "      <td id=\"T_203db_row3_col2\" class=\"data row3 col2\" >-0.000001</td>\n",
              "      <td id=\"T_203db_row3_col3\" class=\"data row3 col3\" >0.000004</td>\n",
              "      <td id=\"T_203db_row3_col4\" class=\"data row3 col4\" >-0.000000</td>\n",
              "      <td id=\"T_203db_row3_col5\" class=\"data row3 col5\" >-0.000000</td>\n",
              "      <td id=\"T_203db_row3_col6\" class=\"data row3 col6\" >-0.000001</td>\n",
              "      <td id=\"T_203db_row3_col7\" class=\"data row3 col7\" >-0.000000</td>\n",
              "      <td id=\"T_203db_row3_col8\" class=\"data row3 col8\" >0.000005</td>\n",
              "      <td id=\"T_203db_row3_col9\" class=\"data row3 col9\" >-0.000000</td>\n",
              "    </tr>\n",
              "    <tr>\n",
              "      <th id=\"T_203db_level0_row4\" class=\"row_heading level0 row4\" >5</th>\n",
              "      <td id=\"T_203db_row4_col0\" class=\"data row4 col0\" >0.000019</td>\n",
              "      <td id=\"T_203db_row4_col1\" class=\"data row4 col1\" >-0.000000</td>\n",
              "      <td id=\"T_203db_row4_col2\" class=\"data row4 col2\" >0.000030</td>\n",
              "      <td id=\"T_203db_row4_col3\" class=\"data row4 col3\" >-0.000000</td>\n",
              "      <td id=\"T_203db_row4_col4\" class=\"data row4 col4\" >0.000003</td>\n",
              "      <td id=\"T_203db_row4_col5\" class=\"data row4 col5\" >-0.000000</td>\n",
              "      <td id=\"T_203db_row4_col6\" class=\"data row4 col6\" >0.000001</td>\n",
              "      <td id=\"T_203db_row4_col7\" class=\"data row4 col7\" >-0.000000</td>\n",
              "      <td id=\"T_203db_row4_col8\" class=\"data row4 col8\" >-0.000000</td>\n",
              "      <td id=\"T_203db_row4_col9\" class=\"data row4 col9\" >-0.000000</td>\n",
              "    </tr>\n",
              "  </tbody>\n",
              "</table>\n"
            ]
          },
          "metadata": {},
          "execution_count": 19
        }
      ],
      "source": [
        "COV_b.iloc[:5,:10].style.background_gradient()"
      ]
    },
    {
      "cell_type": "markdown",
      "metadata": {
        "toc-hr-collapsed": false,
        "id": "-RpCVq2Jn7J9"
      },
      "source": [
        "# Decompose the Matrix\n",
        "\n",
        "There a at least three options to choose from. We go with SciPy's Hermitian Eigendecomposition \\\n",
        "method `eigh()`, since our covarience matrix is symmetric."
      ]
    },
    {
      "cell_type": "code",
      "execution_count": null,
      "metadata": {
        "id": "zC8efPiOn7J9"
      },
      "outputs": [],
      "source": [
        "# from numpy.linalg import eig\n",
        "# from scipy.linalg import eig\n",
        "from scipy.linalg import eigh as eig"
      ]
    },
    {
      "cell_type": "code",
      "execution_count": null,
      "metadata": {
        "colab": {
          "base_uri": "https://localhost:8080/"
        },
        "id": "BKyHQQvgn7J-",
        "outputId": "dd82ee67-751f-479d-b80d-26ea6b02fd48"
      },
      "outputs": [
        {
          "output_type": "stream",
          "name": "stdout",
          "text": [
            "Current Time is: 20:00:56\n"
          ]
        }
      ],
      "source": [
        "# storing the current time in the variable\n",
        "c = datetime.now()\n",
        "\n",
        "# Displays Time\n",
        "current_time = c.strftime('%H:%M:%S')\n",
        "print('Current Time is:', current_time)"
      ]
    },
    {
      "cell_type": "code",
      "execution_count": null,
      "metadata": {
        "id": "BPpYX3MNn7J-"
      },
      "outputs": [],
      "source": [
        "#%time eig_vals_c, eig_vecs_c = eig(COV_c)\n",
        "#np.save(input_dir+'eig_vals_c.npy', eig_vals_c) # save\n",
        "#np.save(input_dir+'eig_vecs_c.npy', eig_vecs_c) # save\n"
      ]
    },
    {
      "cell_type": "code",
      "execution_count": null,
      "metadata": {
        "id": "9fg8YeNJn7J-"
      },
      "outputs": [],
      "source": [
        "#%time eig_vals_b, eig_vecs_b = eig(COV_b)\n",
        "#np.save(input_dir+'eig_vals_b.npy', eig_vals_b) # save\n",
        "#np.save(input_dir+'eig_vecs_b.npy', eig_vecs_b) # save"
      ]
    },
    {
      "cell_type": "code",
      "source": [
        "%time eig_vals_c = np.load(input_dir+'eig_vals_c.npy') # load\n",
        "%time eig_vecs_c = np.load(input_dir+'eig_vecs_c.npy') # load\n",
        "#%time eig_vals_b = np.load(input_dir+'eig_vals_b.npy') # load\n",
        "#%time eig_vecs_b = np.load(input_dir+'eig_vecs_b.npy') # load"
      ],
      "metadata": {
        "colab": {
          "base_uri": "https://localhost:8080/"
        },
        "id": "3PLCp7m1-1dQ",
        "outputId": "3fb5192d-2161-4cdb-e5ad-54e29957c8cf"
      },
      "execution_count": null,
      "outputs": [
        {
          "output_type": "stream",
          "name": "stdout",
          "text": [
            "CPU times: user 5.37 ms, sys: 253 µs, total: 5.62 ms\n",
            "Wall time: 907 ms\n",
            "CPU times: user 626 ms, sys: 4.33 s, total: 4.96 s\n",
            "Wall time: 3min 2s\n"
          ]
        }
      ]
    },
    {
      "cell_type": "code",
      "execution_count": null,
      "metadata": {
        "id": "aYaE-_Tpn7J-"
      },
      "outputs": [],
      "source": [
        "#eig_vals_c"
      ]
    },
    {
      "cell_type": "code",
      "execution_count": null,
      "metadata": {
        "colab": {
          "base_uri": "https://localhost:8080/"
        },
        "id": "cM13RiCEn7J_",
        "outputId": "72c28ebb-005e-4963-b600-3126ad78e2b3"
      },
      "outputs": [
        {
          "output_type": "stream",
          "name": "stdout",
          "text": [
            "Current Time is: 20:03:59\n",
            "Current Date and Time is: 2024-04-14 20:03:59.496284\n"
          ]
        }
      ],
      "source": [
        "# storing the current time in the variable\n",
        "c = datetime.now()\n",
        "\n",
        "# Displays Time\n",
        "current_time = c.strftime('%H:%M:%S')\n",
        "print('Current Time is:', current_time)\n",
        "# OR\n",
        "# Displays Date along with Time\n",
        "print('Current Date and Time is:', c)"
      ]
    },
    {
      "cell_type": "markdown",
      "metadata": {
        "id": "vp7ua55Fn7J_"
      },
      "source": [
        "## Convert eigen data to dataframes"
      ]
    },
    {
      "cell_type": "code",
      "execution_count": null,
      "metadata": {
        "id": "0hc2-OTcn7J_"
      },
      "outputs": [],
      "source": [
        "TERM_IDX = COV_c.index # We could use other tables as well, e.g. TFIDF_b, TFIDF_c, or COV_c"
      ]
    },
    {
      "cell_type": "code",
      "execution_count": null,
      "metadata": {
        "id": "gO_C4CpPn7KA"
      },
      "outputs": [],
      "source": [
        "# TERM_IDX"
      ]
    },
    {
      "cell_type": "code",
      "execution_count": null,
      "metadata": {
        "id": "5XxB_lrVn7KA"
      },
      "outputs": [],
      "source": [
        "EIG_VEC_c = pd.DataFrame(eig_vecs_c, index=TERM_IDX, columns=TERM_IDX)\n",
        "#EIG_VEC_b = pd.DataFrame(eig_vecs_b, index=TERM_IDX, columns=TERM_IDX)"
      ]
    },
    {
      "cell_type": "code",
      "execution_count": null,
      "metadata": {
        "id": "GJg-f00Bn7KA"
      },
      "outputs": [],
      "source": [
        "EIG_VAL_c = pd.DataFrame(eig_vals_c, index=TERM_IDX, columns=['eig_val'])\n",
        "EIG_VAL_c.index.name = 'term_id'\n",
        "\n",
        "#EIG_VAL_b = pd.DataFrame(eig_vals_b, index=TERM_IDX, columns=['eig_val'])\n",
        "#EIG_VAL_b.index.name = 'term_id'"
      ]
    },
    {
      "cell_type": "code",
      "execution_count": null,
      "metadata": {
        "id": "X3I0BKhGn7KA"
      },
      "outputs": [],
      "source": [
        "#EIG_VEC_b.iloc[:5, :10].style.background_gradient()"
      ]
    },
    {
      "cell_type": "code",
      "execution_count": null,
      "metadata": {
        "id": "zkJWbBCon7KB"
      },
      "outputs": [],
      "source": [
        "#EIG_VAL_b.iloc[:6]"
      ]
    },
    {
      "cell_type": "code",
      "execution_count": null,
      "metadata": {
        "id": "hK7SIsIDn7KB"
      },
      "outputs": [],
      "source": []
    },
    {
      "cell_type": "markdown",
      "metadata": {
        "toc-hr-collapsed": false,
        "id": "Vn7ZZe80n7KB"
      },
      "source": [
        "# Select Principal Components\n",
        "\n",
        "Next, we associate each eigenvalue with its corresponding *column* in the eigenvalue matrix. \\\n",
        "This is why we transpose the `EIG_VEC` dataframe."
      ]
    },
    {
      "cell_type": "markdown",
      "metadata": {
        "id": "Chnt6EwIn7KB"
      },
      "source": [
        "## Combine eigenvalues and eignvectors"
      ]
    },
    {
      "cell_type": "code",
      "execution_count": null,
      "metadata": {
        "id": "WeoLID8Dn7KB"
      },
      "outputs": [],
      "source": [
        "EIG_PAIRS_c = EIG_VAL_c.join(EIG_VEC_c.T)\n",
        "#EIG_PAIRS_b = EIG_VAL_b.join(EIG_VEC_b.T)"
      ]
    },
    {
      "cell_type": "code",
      "execution_count": null,
      "metadata": {
        "colab": {
          "base_uri": "https://localhost:8080/",
          "height": 373
        },
        "id": "elW7jC65n7KB",
        "outputId": "9824c57f-cbda-4560-9835-f331854a0fcd"
      },
      "outputs": [
        {
          "output_type": "execute_result",
          "data": {
            "text/plain": [
              "              eig_val         1         2         3         4         5  \\\n",
              "term_id                                                                   \n",
              "1       -3.929844e-17 -0.039270  0.041530  0.110386 -0.078265  0.017040   \n",
              "2       -3.761480e-17 -0.122543  0.122992  0.323007 -0.363520 -0.055001   \n",
              "3       -2.419211e-17  0.036675 -0.044692 -0.045886  0.252313  0.046462   \n",
              "4       -2.397262e-17  0.014655  0.003706  0.033599  0.243888  0.037658   \n",
              "5       -2.165319e-17 -0.006943  0.002827  0.007842 -0.013238  0.009961   \n",
              "\n",
              "                6         7         8         9  ...     31560     31561  \\\n",
              "term_id                                          ...                       \n",
              "1       -0.182940  0.045678  0.007509 -0.001016  ...  0.000174  0.000167   \n",
              "2        0.037401  0.027035 -0.022455  0.038170  ...  0.000112  0.001099   \n",
              "3       -0.055664  0.014306 -0.002233 -0.024167  ...  0.001186  0.000828   \n",
              "4       -0.037641 -0.007429  0.001840 -0.010389  ...  0.000432  0.000548   \n",
              "5       -0.046726 -0.026665  0.022162 -0.005172  ... -0.000144  0.000197   \n",
              "\n",
              "            31562     31563     31564     31565     31566     31567     31568  \\\n",
              "term_id                                                                         \n",
              "1       -0.000387  0.000234  0.000048  0.000226  0.000295  0.001103  0.000287   \n",
              "2       -0.000773  0.000444 -0.000066  0.000168  0.000099 -0.000185 -0.000010   \n",
              "3       -0.000667  0.002120  0.000705  0.000366  0.000047  0.000490  0.000784   \n",
              "4        0.000542  0.001324  0.000964  0.000847  0.000004  0.000222 -0.000569   \n",
              "5       -0.000412 -0.001232  0.000343 -0.000442 -0.000339  0.000357 -0.000487   \n",
              "\n",
              "            31569  \n",
              "term_id            \n",
              "1        0.000528  \n",
              "2       -0.000105  \n",
              "3        0.000160  \n",
              "4        0.000385  \n",
              "5       -0.000532  \n",
              "\n",
              "[5 rows x 31570 columns]"
            ],
            "text/html": [
              "\n",
              "  <div id=\"df-5ea775ab-7ab5-4327-beb0-7c9a7626e2c0\" class=\"colab-df-container\">\n",
              "    <div>\n",
              "<style scoped>\n",
              "    .dataframe tbody tr th:only-of-type {\n",
              "        vertical-align: middle;\n",
              "    }\n",
              "\n",
              "    .dataframe tbody tr th {\n",
              "        vertical-align: top;\n",
              "    }\n",
              "\n",
              "    .dataframe thead th {\n",
              "        text-align: right;\n",
              "    }\n",
              "</style>\n",
              "<table border=\"1\" class=\"dataframe\">\n",
              "  <thead>\n",
              "    <tr style=\"text-align: right;\">\n",
              "      <th></th>\n",
              "      <th>eig_val</th>\n",
              "      <th>1</th>\n",
              "      <th>2</th>\n",
              "      <th>3</th>\n",
              "      <th>4</th>\n",
              "      <th>5</th>\n",
              "      <th>6</th>\n",
              "      <th>7</th>\n",
              "      <th>8</th>\n",
              "      <th>9</th>\n",
              "      <th>...</th>\n",
              "      <th>31560</th>\n",
              "      <th>31561</th>\n",
              "      <th>31562</th>\n",
              "      <th>31563</th>\n",
              "      <th>31564</th>\n",
              "      <th>31565</th>\n",
              "      <th>31566</th>\n",
              "      <th>31567</th>\n",
              "      <th>31568</th>\n",
              "      <th>31569</th>\n",
              "    </tr>\n",
              "    <tr>\n",
              "      <th>term_id</th>\n",
              "      <th></th>\n",
              "      <th></th>\n",
              "      <th></th>\n",
              "      <th></th>\n",
              "      <th></th>\n",
              "      <th></th>\n",
              "      <th></th>\n",
              "      <th></th>\n",
              "      <th></th>\n",
              "      <th></th>\n",
              "      <th></th>\n",
              "      <th></th>\n",
              "      <th></th>\n",
              "      <th></th>\n",
              "      <th></th>\n",
              "      <th></th>\n",
              "      <th></th>\n",
              "      <th></th>\n",
              "      <th></th>\n",
              "      <th></th>\n",
              "      <th></th>\n",
              "    </tr>\n",
              "  </thead>\n",
              "  <tbody>\n",
              "    <tr>\n",
              "      <th>1</th>\n",
              "      <td>-3.929844e-17</td>\n",
              "      <td>-0.039270</td>\n",
              "      <td>0.041530</td>\n",
              "      <td>0.110386</td>\n",
              "      <td>-0.078265</td>\n",
              "      <td>0.017040</td>\n",
              "      <td>-0.182940</td>\n",
              "      <td>0.045678</td>\n",
              "      <td>0.007509</td>\n",
              "      <td>-0.001016</td>\n",
              "      <td>...</td>\n",
              "      <td>0.000174</td>\n",
              "      <td>0.000167</td>\n",
              "      <td>-0.000387</td>\n",
              "      <td>0.000234</td>\n",
              "      <td>0.000048</td>\n",
              "      <td>0.000226</td>\n",
              "      <td>0.000295</td>\n",
              "      <td>0.001103</td>\n",
              "      <td>0.000287</td>\n",
              "      <td>0.000528</td>\n",
              "    </tr>\n",
              "    <tr>\n",
              "      <th>2</th>\n",
              "      <td>-3.761480e-17</td>\n",
              "      <td>-0.122543</td>\n",
              "      <td>0.122992</td>\n",
              "      <td>0.323007</td>\n",
              "      <td>-0.363520</td>\n",
              "      <td>-0.055001</td>\n",
              "      <td>0.037401</td>\n",
              "      <td>0.027035</td>\n",
              "      <td>-0.022455</td>\n",
              "      <td>0.038170</td>\n",
              "      <td>...</td>\n",
              "      <td>0.000112</td>\n",
              "      <td>0.001099</td>\n",
              "      <td>-0.000773</td>\n",
              "      <td>0.000444</td>\n",
              "      <td>-0.000066</td>\n",
              "      <td>0.000168</td>\n",
              "      <td>0.000099</td>\n",
              "      <td>-0.000185</td>\n",
              "      <td>-0.000010</td>\n",
              "      <td>-0.000105</td>\n",
              "    </tr>\n",
              "    <tr>\n",
              "      <th>3</th>\n",
              "      <td>-2.419211e-17</td>\n",
              "      <td>0.036675</td>\n",
              "      <td>-0.044692</td>\n",
              "      <td>-0.045886</td>\n",
              "      <td>0.252313</td>\n",
              "      <td>0.046462</td>\n",
              "      <td>-0.055664</td>\n",
              "      <td>0.014306</td>\n",
              "      <td>-0.002233</td>\n",
              "      <td>-0.024167</td>\n",
              "      <td>...</td>\n",
              "      <td>0.001186</td>\n",
              "      <td>0.000828</td>\n",
              "      <td>-0.000667</td>\n",
              "      <td>0.002120</td>\n",
              "      <td>0.000705</td>\n",
              "      <td>0.000366</td>\n",
              "      <td>0.000047</td>\n",
              "      <td>0.000490</td>\n",
              "      <td>0.000784</td>\n",
              "      <td>0.000160</td>\n",
              "    </tr>\n",
              "    <tr>\n",
              "      <th>4</th>\n",
              "      <td>-2.397262e-17</td>\n",
              "      <td>0.014655</td>\n",
              "      <td>0.003706</td>\n",
              "      <td>0.033599</td>\n",
              "      <td>0.243888</td>\n",
              "      <td>0.037658</td>\n",
              "      <td>-0.037641</td>\n",
              "      <td>-0.007429</td>\n",
              "      <td>0.001840</td>\n",
              "      <td>-0.010389</td>\n",
              "      <td>...</td>\n",
              "      <td>0.000432</td>\n",
              "      <td>0.000548</td>\n",
              "      <td>0.000542</td>\n",
              "      <td>0.001324</td>\n",
              "      <td>0.000964</td>\n",
              "      <td>0.000847</td>\n",
              "      <td>0.000004</td>\n",
              "      <td>0.000222</td>\n",
              "      <td>-0.000569</td>\n",
              "      <td>0.000385</td>\n",
              "    </tr>\n",
              "    <tr>\n",
              "      <th>5</th>\n",
              "      <td>-2.165319e-17</td>\n",
              "      <td>-0.006943</td>\n",
              "      <td>0.002827</td>\n",
              "      <td>0.007842</td>\n",
              "      <td>-0.013238</td>\n",
              "      <td>0.009961</td>\n",
              "      <td>-0.046726</td>\n",
              "      <td>-0.026665</td>\n",
              "      <td>0.022162</td>\n",
              "      <td>-0.005172</td>\n",
              "      <td>...</td>\n",
              "      <td>-0.000144</td>\n",
              "      <td>0.000197</td>\n",
              "      <td>-0.000412</td>\n",
              "      <td>-0.001232</td>\n",
              "      <td>0.000343</td>\n",
              "      <td>-0.000442</td>\n",
              "      <td>-0.000339</td>\n",
              "      <td>0.000357</td>\n",
              "      <td>-0.000487</td>\n",
              "      <td>-0.000532</td>\n",
              "    </tr>\n",
              "  </tbody>\n",
              "</table>\n",
              "<p>5 rows × 31570 columns</p>\n",
              "</div>\n",
              "    <div class=\"colab-df-buttons\">\n",
              "\n",
              "  <div class=\"colab-df-container\">\n",
              "    <button class=\"colab-df-convert\" onclick=\"convertToInteractive('df-5ea775ab-7ab5-4327-beb0-7c9a7626e2c0')\"\n",
              "            title=\"Convert this dataframe to an interactive table.\"\n",
              "            style=\"display:none;\">\n",
              "\n",
              "  <svg xmlns=\"http://www.w3.org/2000/svg\" height=\"24px\" viewBox=\"0 -960 960 960\">\n",
              "    <path d=\"M120-120v-720h720v720H120Zm60-500h600v-160H180v160Zm220 220h160v-160H400v160Zm0 220h160v-160H400v160ZM180-400h160v-160H180v160Zm440 0h160v-160H620v160ZM180-180h160v-160H180v160Zm440 0h160v-160H620v160Z\"/>\n",
              "  </svg>\n",
              "    </button>\n",
              "\n",
              "  <style>\n",
              "    .colab-df-container {\n",
              "      display:flex;\n",
              "      gap: 12px;\n",
              "    }\n",
              "\n",
              "    .colab-df-convert {\n",
              "      background-color: #E8F0FE;\n",
              "      border: none;\n",
              "      border-radius: 50%;\n",
              "      cursor: pointer;\n",
              "      display: none;\n",
              "      fill: #1967D2;\n",
              "      height: 32px;\n",
              "      padding: 0 0 0 0;\n",
              "      width: 32px;\n",
              "    }\n",
              "\n",
              "    .colab-df-convert:hover {\n",
              "      background-color: #E2EBFA;\n",
              "      box-shadow: 0px 1px 2px rgba(60, 64, 67, 0.3), 0px 1px 3px 1px rgba(60, 64, 67, 0.15);\n",
              "      fill: #174EA6;\n",
              "    }\n",
              "\n",
              "    .colab-df-buttons div {\n",
              "      margin-bottom: 4px;\n",
              "    }\n",
              "\n",
              "    [theme=dark] .colab-df-convert {\n",
              "      background-color: #3B4455;\n",
              "      fill: #D2E3FC;\n",
              "    }\n",
              "\n",
              "    [theme=dark] .colab-df-convert:hover {\n",
              "      background-color: #434B5C;\n",
              "      box-shadow: 0px 1px 3px 1px rgba(0, 0, 0, 0.15);\n",
              "      filter: drop-shadow(0px 1px 2px rgba(0, 0, 0, 0.3));\n",
              "      fill: #FFFFFF;\n",
              "    }\n",
              "  </style>\n",
              "\n",
              "    <script>\n",
              "      const buttonEl =\n",
              "        document.querySelector('#df-5ea775ab-7ab5-4327-beb0-7c9a7626e2c0 button.colab-df-convert');\n",
              "      buttonEl.style.display =\n",
              "        google.colab.kernel.accessAllowed ? 'block' : 'none';\n",
              "\n",
              "      async function convertToInteractive(key) {\n",
              "        const element = document.querySelector('#df-5ea775ab-7ab5-4327-beb0-7c9a7626e2c0');\n",
              "        const dataTable =\n",
              "          await google.colab.kernel.invokeFunction('convertToInteractive',\n",
              "                                                    [key], {});\n",
              "        if (!dataTable) return;\n",
              "\n",
              "        const docLinkHtml = 'Like what you see? Visit the ' +\n",
              "          '<a target=\"_blank\" href=https://colab.research.google.com/notebooks/data_table.ipynb>data table notebook</a>'\n",
              "          + ' to learn more about interactive tables.';\n",
              "        element.innerHTML = '';\n",
              "        dataTable['output_type'] = 'display_data';\n",
              "        await google.colab.output.renderOutput(dataTable, element);\n",
              "        const docLink = document.createElement('div');\n",
              "        docLink.innerHTML = docLinkHtml;\n",
              "        element.appendChild(docLink);\n",
              "      }\n",
              "    </script>\n",
              "  </div>\n",
              "\n",
              "\n",
              "<div id=\"df-416d8321-58db-409a-8958-f79a170c9663\">\n",
              "  <button class=\"colab-df-quickchart\" onclick=\"quickchart('df-416d8321-58db-409a-8958-f79a170c9663')\"\n",
              "            title=\"Suggest charts\"\n",
              "            style=\"display:none;\">\n",
              "\n",
              "<svg xmlns=\"http://www.w3.org/2000/svg\" height=\"24px\"viewBox=\"0 0 24 24\"\n",
              "     width=\"24px\">\n",
              "    <g>\n",
              "        <path d=\"M19 3H5c-1.1 0-2 .9-2 2v14c0 1.1.9 2 2 2h14c1.1 0 2-.9 2-2V5c0-1.1-.9-2-2-2zM9 17H7v-7h2v7zm4 0h-2V7h2v10zm4 0h-2v-4h2v4z\"/>\n",
              "    </g>\n",
              "</svg>\n",
              "  </button>\n",
              "\n",
              "<style>\n",
              "  .colab-df-quickchart {\n",
              "      --bg-color: #E8F0FE;\n",
              "      --fill-color: #1967D2;\n",
              "      --hover-bg-color: #E2EBFA;\n",
              "      --hover-fill-color: #174EA6;\n",
              "      --disabled-fill-color: #AAA;\n",
              "      --disabled-bg-color: #DDD;\n",
              "  }\n",
              "\n",
              "  [theme=dark] .colab-df-quickchart {\n",
              "      --bg-color: #3B4455;\n",
              "      --fill-color: #D2E3FC;\n",
              "      --hover-bg-color: #434B5C;\n",
              "      --hover-fill-color: #FFFFFF;\n",
              "      --disabled-bg-color: #3B4455;\n",
              "      --disabled-fill-color: #666;\n",
              "  }\n",
              "\n",
              "  .colab-df-quickchart {\n",
              "    background-color: var(--bg-color);\n",
              "    border: none;\n",
              "    border-radius: 50%;\n",
              "    cursor: pointer;\n",
              "    display: none;\n",
              "    fill: var(--fill-color);\n",
              "    height: 32px;\n",
              "    padding: 0;\n",
              "    width: 32px;\n",
              "  }\n",
              "\n",
              "  .colab-df-quickchart:hover {\n",
              "    background-color: var(--hover-bg-color);\n",
              "    box-shadow: 0 1px 2px rgba(60, 64, 67, 0.3), 0 1px 3px 1px rgba(60, 64, 67, 0.15);\n",
              "    fill: var(--button-hover-fill-color);\n",
              "  }\n",
              "\n",
              "  .colab-df-quickchart-complete:disabled,\n",
              "  .colab-df-quickchart-complete:disabled:hover {\n",
              "    background-color: var(--disabled-bg-color);\n",
              "    fill: var(--disabled-fill-color);\n",
              "    box-shadow: none;\n",
              "  }\n",
              "\n",
              "  .colab-df-spinner {\n",
              "    border: 2px solid var(--fill-color);\n",
              "    border-color: transparent;\n",
              "    border-bottom-color: var(--fill-color);\n",
              "    animation:\n",
              "      spin 1s steps(1) infinite;\n",
              "  }\n",
              "\n",
              "  @keyframes spin {\n",
              "    0% {\n",
              "      border-color: transparent;\n",
              "      border-bottom-color: var(--fill-color);\n",
              "      border-left-color: var(--fill-color);\n",
              "    }\n",
              "    20% {\n",
              "      border-color: transparent;\n",
              "      border-left-color: var(--fill-color);\n",
              "      border-top-color: var(--fill-color);\n",
              "    }\n",
              "    30% {\n",
              "      border-color: transparent;\n",
              "      border-left-color: var(--fill-color);\n",
              "      border-top-color: var(--fill-color);\n",
              "      border-right-color: var(--fill-color);\n",
              "    }\n",
              "    40% {\n",
              "      border-color: transparent;\n",
              "      border-right-color: var(--fill-color);\n",
              "      border-top-color: var(--fill-color);\n",
              "    }\n",
              "    60% {\n",
              "      border-color: transparent;\n",
              "      border-right-color: var(--fill-color);\n",
              "    }\n",
              "    80% {\n",
              "      border-color: transparent;\n",
              "      border-right-color: var(--fill-color);\n",
              "      border-bottom-color: var(--fill-color);\n",
              "    }\n",
              "    90% {\n",
              "      border-color: transparent;\n",
              "      border-bottom-color: var(--fill-color);\n",
              "    }\n",
              "  }\n",
              "</style>\n",
              "\n",
              "  <script>\n",
              "    async function quickchart(key) {\n",
              "      const quickchartButtonEl =\n",
              "        document.querySelector('#' + key + ' button');\n",
              "      quickchartButtonEl.disabled = true;  // To prevent multiple clicks.\n",
              "      quickchartButtonEl.classList.add('colab-df-spinner');\n",
              "      try {\n",
              "        const charts = await google.colab.kernel.invokeFunction(\n",
              "            'suggestCharts', [key], {});\n",
              "      } catch (error) {\n",
              "        console.error('Error during call to suggestCharts:', error);\n",
              "      }\n",
              "      quickchartButtonEl.classList.remove('colab-df-spinner');\n",
              "      quickchartButtonEl.classList.add('colab-df-quickchart-complete');\n",
              "    }\n",
              "    (() => {\n",
              "      let quickchartButtonEl =\n",
              "        document.querySelector('#df-416d8321-58db-409a-8958-f79a170c9663 button');\n",
              "      quickchartButtonEl.style.display =\n",
              "        google.colab.kernel.accessAllowed ? 'block' : 'none';\n",
              "    })();\n",
              "  </script>\n",
              "</div>\n",
              "\n",
              "    </div>\n",
              "  </div>\n"
            ],
            "application/vnd.google.colaboratory.intrinsic+json": {
              "type": "dataframe",
              "variable_name": "EIG_PAIRS_c"
            }
          },
          "metadata": {},
          "execution_count": 34
        }
      ],
      "source": [
        "EIG_PAIRS_c.head()"
      ]
    },
    {
      "cell_type": "markdown",
      "metadata": {
        "id": "CpIGIBBin7KB"
      },
      "source": [
        "Next, we sort in descending order and pick the top K (=10)."
      ]
    },
    {
      "cell_type": "markdown",
      "metadata": {
        "id": "s6VlqLz_n7KC"
      },
      "source": [
        "## Compute and Show Explained Variance\n",
        "\n",
        "We might have usd this value to sort our components."
      ]
    },
    {
      "cell_type": "code",
      "execution_count": null,
      "metadata": {
        "id": "QwVISALBn7KC"
      },
      "outputs": [],
      "source": [
        "#EIG_PAIRS_b['exp_var'] = np.round((EIG_PAIRS_b.eig_val / EIG_PAIRS_b.eig_val.sum()) * 100, 2)\n",
        "EIG_PAIRS_c['exp_var'] = np.round((EIG_PAIRS_c.eig_val / EIG_PAIRS_c.eig_val.sum()) * 100, 2)"
      ]
    },
    {
      "cell_type": "code",
      "execution_count": null,
      "metadata": {
        "id": "tEbAcqVFn7KC"
      },
      "outputs": [],
      "source": [
        "#EIG_PAIRS_b.exp_var.sort_values(ascending=False).head().plot.bar(rot=45)"
      ]
    },
    {
      "cell_type": "code",
      "execution_count": null,
      "metadata": {
        "id": "5NVu87Q8n7KC",
        "colab": {
          "base_uri": "https://localhost:8080/",
          "height": 505
        },
        "outputId": "4925a5d3-81a1-4511-ce9d-2e557f1b3050"
      },
      "outputs": [
        {
          "output_type": "execute_result",
          "data": {
            "text/plain": [
              "<Axes: xlabel='term_id'>"
            ]
          },
          "metadata": {},
          "execution_count": 37
        },
        {
          "output_type": "display_data",
          "data": {
            "text/plain": [
              "<Figure size 640x480 with 1 Axes>"
            ],
            "image/png": "[encoded data removed]"
          },
          "metadata": {}
        }
      ],
      "source": [
        "EIG_PAIRS_c.exp_var.sort_values(ascending=False).head().plot.bar(rot=45)"
      ]
    },
    {
      "cell_type": "markdown",
      "metadata": {
        "id": "B_-DBI-3n7KC"
      },
      "source": [
        "## Pick Top K (10) Components\n",
        "\n",
        "We pick these based on explained variance."
      ]
    },
    {
      "cell_type": "code",
      "execution_count": null,
      "metadata": {
        "id": "_MdsxHyRn7KD"
      },
      "outputs": [],
      "source": [
        "#TOPS_b = EIG_PAIRS_b.sort_values('exp_var', ascending=False).head(10).reset_index(drop=True)\n",
        "#TOPS_b.index.name = 'comp_id'\n",
        "#TOPS_b.index = [\"PC{}\".format(i) for i in TOPS_b.index.tolist()]"
      ]
    },
    {
      "cell_type": "code",
      "execution_count": null,
      "metadata": {
        "id": "m7VzBV8rn7KD"
      },
      "outputs": [],
      "source": [
        "TOPS_c = EIG_PAIRS_c.sort_values('exp_var', ascending=False).head(10).reset_index(drop=True)\n",
        "TOPS_c.index.name = 'comp_id'\n",
        "TOPS_c.index = [\"PC{}\".format(i) for i in TOPS_c.index.tolist()]"
      ]
    },
    {
      "cell_type": "markdown",
      "metadata": {
        "id": "pCJFI9rmn7KD"
      },
      "source": [
        "## Show Loadings\n",
        "\n",
        "Loadings sow the contribution of each term to the component. \\\n",
        "We'll just look at the topi 10 words for the first two components in the Book version."
      ]
    },
    {
      "cell_type": "code",
      "execution_count": null,
      "metadata": {
        "id": "7ieztLlvn7KD"
      },
      "outputs": [],
      "source": [
        "#LOADINGS_b = TOPS_b[TERM_IDX].T\n",
        "#LOADINGS_b.index.name = 'term_id'"
      ]
    },
    {
      "cell_type": "code",
      "execution_count": null,
      "metadata": {
        "id": "1sxAfQ1Dn7KD"
      },
      "outputs": [],
      "source": [
        "#LOADINGS_b.head().style.background_gradient()"
      ]
    },
    {
      "cell_type": "code",
      "execution_count": null,
      "metadata": {
        "id": "kY1acvyUn7KD"
      },
      "outputs": [],
      "source": [
        "#LOADINGS_b['term_str'] = LOADINGS_b.apply(lambda x: VOCAB.loc[int(x.name)].term_str, 1)"
      ]
    },
    {
      "cell_type": "code",
      "execution_count": null,
      "metadata": {
        "id": "7bdfv0ein7KE"
      },
      "outputs": [],
      "source": [
        "#lb0_pos = LOADINGS_b.sort_values('PC0', ascending=True).head(10).term_str.str.cat(sep=' ')\n",
        "#lb0_neg = LOADINGS_b.sort_values('PC0', ascending=False).head(10).term_str.str.cat(sep=' ')\n",
        "#lb1_pos = LOADINGS_b.sort_values('PC1', ascending=True).head(10).term_str.str.cat(sep=' ')\n",
        "#lb1_neg = LOADINGS_b.sort_values('PC1', ascending=False).head(10).term_str.str.cat(sep=' ')"
      ]
    },
    {
      "cell_type": "code",
      "execution_count": null,
      "metadata": {
        "id": "TuWkXsnAn7KE"
      },
      "outputs": [],
      "source": [
        "#print('Books PC0+', lb0_pos)\n",
        "#print('Books PC0-', lb0_neg)\n",
        "#print('Books PC1+', lb1_pos)\n",
        "#print('Books PC1-', lb1_neg)"
      ]
    },
    {
      "cell_type": "markdown",
      "metadata": {
        "id": "sqy1bqn-n7KE"
      },
      "source": [
        "# Project Docs onto New Subspace\n",
        "\n",
        "We get the dot product of the DTM matrix and the new component matrix, which we will call DCM -- for document-component matrix. \\\n",
        "This has the effect of replacing the features of the DTM with the features of the transposed component matrix."
      ]
    },
    {
      "cell_type": "code",
      "execution_count": null,
      "metadata": {
        "id": "Xt0DYNvhn7KE"
      },
      "outputs": [],
      "source": [
        "DCM_c = TFIDF_c.dot(TOPS_c[TERM_IDX].T)\n",
        "#DCM_b = TFIDF_b.dot(TOPS_b[TERM_IDX].T)"
      ]
    },
    {
      "cell_type": "markdown",
      "metadata": {
        "id": "cLUYeNJgn7KE"
      },
      "source": [
        "We add metadata to our new, reduced matrices for display purposes."
      ]
    },
    {
      "cell_type": "code",
      "execution_count": null,
      "metadata": {
        "id": "j02nJcWhn7KE"
      },
      "outputs": [],
      "source": [
        "#DCM_b['label'] = LIB.author\n",
        "#DCM_b['title'] = LIB.book_title"
      ]
    },
    {
      "cell_type": "code",
      "execution_count": null,
      "metadata": {
        "id": "1xJJSRnAn7KF"
      },
      "outputs": [],
      "source": [
        "DCM_c['label'] = DCM_c.apply(lambda x: LIB.author[x.name[0]], 1)\n",
        "DCM_c['title'] = DCM_c.apply(lambda x: LIB.book_title[x.name[0]], 1)"
      ]
    },
    {
      "cell_type": "code",
      "execution_count": null,
      "metadata": {
        "id": "bZh0DxV0n7KF",
        "colab": {
          "base_uri": "https://localhost:8080/",
          "height": 431
        },
        "outputId": "836bde0b-9394-4599-c787-a134bf43aaf7"
      },
      "outputs": [
        {
          "output_type": "execute_result",
          "data": {
            "text/plain": [
              "<pandas.io.formats.style.Styler at 0x7d4f78847880>"
            ],
            "text/html": [
              "<style type=\"text/css\">\n",
              "#T_0d809_row0_col0, #T_0d809_row0_col1, #T_0d809_row0_col3, #T_0d809_row0_col8, #T_0d809_row2_col4, #T_0d809_row2_col7, #T_0d809_row3_col9, #T_0d809_row4_col2, #T_0d809_row4_col5, #T_0d809_row4_col6 {\n",
              "  background-color: #fff7fb;\n",
              "  color: #000000;\n",
              "}\n",
              "#T_0d809_row0_col2 {\n",
              "  background-color: #034267;\n",
              "  color: #f1f1f1;\n",
              "}\n",
              "#T_0d809_row0_col4 {\n",
              "  background-color: #f4eef6;\n",
              "  color: #000000;\n",
              "}\n",
              "#T_0d809_row0_col5 {\n",
              "  background-color: #d3d4e7;\n",
              "  color: #000000;\n",
              "}\n",
              "#T_0d809_row0_col6 {\n",
              "  background-color: #67a4cc;\n",
              "  color: #f1f1f1;\n",
              "}\n",
              "#T_0d809_row0_col7, #T_0d809_row0_col9, #T_0d809_row1_col2, #T_0d809_row1_col5, #T_0d809_row2_col1, #T_0d809_row2_col6, #T_0d809_row3_col0, #T_0d809_row3_col3, #T_0d809_row3_col8, #T_0d809_row4_col4 {\n",
              "  background-color: #023858;\n",
              "  color: #f1f1f1;\n",
              "}\n",
              "#T_0d809_row1_col0 {\n",
              "  background-color: #c2cbe2;\n",
              "  color: #000000;\n",
              "}\n",
              "#T_0d809_row1_col1 {\n",
              "  background-color: #0568a3;\n",
              "  color: #f1f1f1;\n",
              "}\n",
              "#T_0d809_row1_col3 {\n",
              "  background-color: #f5eef6;\n",
              "  color: #000000;\n",
              "}\n",
              "#T_0d809_row1_col4 {\n",
              "  background-color: #f1ebf4;\n",
              "  color: #000000;\n",
              "}\n",
              "#T_0d809_row1_col6, #T_0d809_row2_col8 {\n",
              "  background-color: #4897c4;\n",
              "  color: #f1f1f1;\n",
              "}\n",
              "#T_0d809_row1_col7 {\n",
              "  background-color: #c5cce3;\n",
              "  color: #000000;\n",
              "}\n",
              "#T_0d809_row1_col8 {\n",
              "  background-color: #97b7d7;\n",
              "  color: #000000;\n",
              "}\n",
              "#T_0d809_row1_col9 {\n",
              "  background-color: #056aa6;\n",
              "  color: #f1f1f1;\n",
              "}\n",
              "#T_0d809_row2_col0 {\n",
              "  background-color: #96b6d7;\n",
              "  color: #000000;\n",
              "}\n",
              "#T_0d809_row2_col2 {\n",
              "  background-color: #045a8d;\n",
              "  color: #f1f1f1;\n",
              "}\n",
              "#T_0d809_row2_col3 {\n",
              "  background-color: #ede8f3;\n",
              "  color: #000000;\n",
              "}\n",
              "#T_0d809_row2_col5 {\n",
              "  background-color: #0569a5;\n",
              "  color: #f1f1f1;\n",
              "}\n",
              "#T_0d809_row2_col9 {\n",
              "  background-color: #1077b4;\n",
              "  color: #f1f1f1;\n",
              "}\n",
              "#T_0d809_row3_col1 {\n",
              "  background-color: #045483;\n",
              "  color: #f1f1f1;\n",
              "}\n",
              "#T_0d809_row3_col2 {\n",
              "  background-color: #f1ebf5;\n",
              "  color: #000000;\n",
              "}\n",
              "#T_0d809_row3_col4 {\n",
              "  background-color: #1c7fb8;\n",
              "  color: #f1f1f1;\n",
              "}\n",
              "#T_0d809_row3_col5 {\n",
              "  background-color: #91b5d6;\n",
              "  color: #000000;\n",
              "}\n",
              "#T_0d809_row3_col6 {\n",
              "  background-color: #3991c1;\n",
              "  color: #f1f1f1;\n",
              "}\n",
              "#T_0d809_row3_col7 {\n",
              "  background-color: #b7c5df;\n",
              "  color: #000000;\n",
              "}\n",
              "#T_0d809_row4_col0 {\n",
              "  background-color: #a8bedc;\n",
              "  color: #000000;\n",
              "}\n",
              "#T_0d809_row4_col1 {\n",
              "  background-color: #0570b0;\n",
              "  color: #f1f1f1;\n",
              "}\n",
              "#T_0d809_row4_col3 {\n",
              "  background-color: #056ba9;\n",
              "  color: #f1f1f1;\n",
              "}\n",
              "#T_0d809_row4_col7 {\n",
              "  background-color: #034871;\n",
              "  color: #f1f1f1;\n",
              "}\n",
              "#T_0d809_row4_col8 {\n",
              "  background-color: #2c89bd;\n",
              "  color: #f1f1f1;\n",
              "}\n",
              "#T_0d809_row4_col9 {\n",
              "  background-color: #ced0e6;\n",
              "  color: #000000;\n",
              "}\n",
              "</style>\n",
              "<table id=\"T_0d809\" class=\"dataframe\">\n",
              "  <thead>\n",
              "    <tr>\n",
              "      <th class=\"blank\" >&nbsp;</th>\n",
              "      <th class=\"blank level0\" >&nbsp;</th>\n",
              "      <th id=\"T_0d809_level0_col0\" class=\"col_heading level0 col0\" >PC0</th>\n",
              "      <th id=\"T_0d809_level0_col1\" class=\"col_heading level0 col1\" >PC1</th>\n",
              "      <th id=\"T_0d809_level0_col2\" class=\"col_heading level0 col2\" >PC2</th>\n",
              "      <th id=\"T_0d809_level0_col3\" class=\"col_heading level0 col3\" >PC3</th>\n",
              "      <th id=\"T_0d809_level0_col4\" class=\"col_heading level0 col4\" >PC4</th>\n",
              "      <th id=\"T_0d809_level0_col5\" class=\"col_heading level0 col5\" >PC5</th>\n",
              "      <th id=\"T_0d809_level0_col6\" class=\"col_heading level0 col6\" >PC6</th>\n",
              "      <th id=\"T_0d809_level0_col7\" class=\"col_heading level0 col7\" >PC7</th>\n",
              "      <th id=\"T_0d809_level0_col8\" class=\"col_heading level0 col8\" >PC8</th>\n",
              "      <th id=\"T_0d809_level0_col9\" class=\"col_heading level0 col9\" >PC9</th>\n",
              "      <th id=\"T_0d809_level0_col10\" class=\"col_heading level0 col10\" >label</th>\n",
              "      <th id=\"T_0d809_level0_col11\" class=\"col_heading level0 col11\" >title</th>\n",
              "    </tr>\n",
              "    <tr>\n",
              "      <th class=\"index_name level0\" >book_id</th>\n",
              "      <th class=\"index_name level1\" >chap_num</th>\n",
              "      <th class=\"blank col0\" >&nbsp;</th>\n",
              "      <th class=\"blank col1\" >&nbsp;</th>\n",
              "      <th class=\"blank col2\" >&nbsp;</th>\n",
              "      <th class=\"blank col3\" >&nbsp;</th>\n",
              "      <th class=\"blank col4\" >&nbsp;</th>\n",
              "      <th class=\"blank col5\" >&nbsp;</th>\n",
              "      <th class=\"blank col6\" >&nbsp;</th>\n",
              "      <th class=\"blank col7\" >&nbsp;</th>\n",
              "      <th class=\"blank col8\" >&nbsp;</th>\n",
              "      <th class=\"blank col9\" >&nbsp;</th>\n",
              "      <th class=\"blank col10\" >&nbsp;</th>\n",
              "      <th class=\"blank col11\" >&nbsp;</th>\n",
              "    </tr>\n",
              "  </thead>\n",
              "  <tbody>\n",
              "    <tr>\n",
              "      <th id=\"T_0d809_level0_row0\" class=\"row_heading level0 row0\" rowspan=\"5\">35</th>\n",
              "      <th id=\"T_0d809_level1_row0\" class=\"row_heading level1 row0\" >1</th>\n",
              "      <td id=\"T_0d809_row0_col0\" class=\"data row0 col0\" >0.054159</td>\n",
              "      <td id=\"T_0d809_row0_col1\" class=\"data row0 col1\" >-0.001387</td>\n",
              "      <td id=\"T_0d809_row0_col2\" class=\"data row0 col2\" >-0.004007</td>\n",
              "      <td id=\"T_0d809_row0_col3\" class=\"data row0 col3\" >0.005857</td>\n",
              "      <td id=\"T_0d809_row0_col4\" class=\"data row0 col4\" >-0.043339</td>\n",
              "      <td id=\"T_0d809_row0_col5\" class=\"data row0 col5\" >0.002836</td>\n",
              "      <td id=\"T_0d809_row0_col6\" class=\"data row0 col6\" >-0.000227</td>\n",
              "      <td id=\"T_0d809_row0_col7\" class=\"data row0 col7\" >-0.062379</td>\n",
              "      <td id=\"T_0d809_row0_col8\" class=\"data row0 col8\" >0.059036</td>\n",
              "      <td id=\"T_0d809_row0_col9\" class=\"data row0 col9\" >0.104073</td>\n",
              "      <td id=\"T_0d809_row0_col10\" class=\"data row0 col10\" >WELLS</td>\n",
              "      <td id=\"T_0d809_row0_col11\" class=\"data row0 col11\" >The Time Machine</td>\n",
              "    </tr>\n",
              "    <tr>\n",
              "      <th id=\"T_0d809_level1_row1\" class=\"row_heading level1 row1\" >2</th>\n",
              "      <td id=\"T_0d809_row1_col0\" class=\"data row1 col0\" >0.059454</td>\n",
              "      <td id=\"T_0d809_row1_col1\" class=\"data row1 col1\" >0.025861</td>\n",
              "      <td id=\"T_0d809_row1_col2\" class=\"data row1 col2\" >-0.001790</td>\n",
              "      <td id=\"T_0d809_row1_col3\" class=\"data row1 col3\" >0.007792</td>\n",
              "      <td id=\"T_0d809_row1_col4\" class=\"data row1 col4\" >-0.042884</td>\n",
              "      <td id=\"T_0d809_row1_col5\" class=\"data row1 col5\" >0.022300</td>\n",
              "      <td id=\"T_0d809_row1_col6\" class=\"data row1 col6\" >0.000833</td>\n",
              "      <td id=\"T_0d809_row1_col7\" class=\"data row1 col7\" >-0.085612</td>\n",
              "      <td id=\"T_0d809_row1_col8\" class=\"data row1 col8\" >0.070645</td>\n",
              "      <td id=\"T_0d809_row1_col9\" class=\"data row1 col9\" >0.068746</td>\n",
              "      <td id=\"T_0d809_row1_col10\" class=\"data row1 col10\" >WELLS</td>\n",
              "      <td id=\"T_0d809_row1_col11\" class=\"data row1 col11\" >The Time Machine</td>\n",
              "    </tr>\n",
              "    <tr>\n",
              "      <th id=\"T_0d809_level1_row2\" class=\"row_heading level1 row2\" >3</th>\n",
              "      <td id=\"T_0d809_row2_col0\" class=\"data row2 col0\" >0.061758</td>\n",
              "      <td id=\"T_0d809_row2_col1\" class=\"data row2 col1\" >0.032956</td>\n",
              "      <td id=\"T_0d809_row2_col2\" class=\"data row2 col2\" >-0.009455</td>\n",
              "      <td id=\"T_0d809_row2_col3\" class=\"data row2 col3\" >0.009266</td>\n",
              "      <td id=\"T_0d809_row2_col4\" class=\"data row2 col4\" >-0.044921</td>\n",
              "      <td id=\"T_0d809_row2_col5\" class=\"data row2 col5\" >0.016901</td>\n",
              "      <td id=\"T_0d809_row2_col6\" class=\"data row2 col6\" >0.007507</td>\n",
              "      <td id=\"T_0d809_row2_col7\" class=\"data row2 col7\" >-0.094842</td>\n",
              "      <td id=\"T_0d809_row2_col8\" class=\"data row2 col8\" >0.075670</td>\n",
              "      <td id=\"T_0d809_row2_col9\" class=\"data row2 col9\" >0.058830</td>\n",
              "      <td id=\"T_0d809_row2_col10\" class=\"data row2 col10\" >WELLS</td>\n",
              "      <td id=\"T_0d809_row2_col11\" class=\"data row2 col11\" >The Time Machine</td>\n",
              "    </tr>\n",
              "    <tr>\n",
              "      <th id=\"T_0d809_level1_row3\" class=\"row_heading level1 row3\" >4</th>\n",
              "      <td id=\"T_0d809_row3_col0\" class=\"data row3 col0\" >0.072402</td>\n",
              "      <td id=\"T_0d809_row3_col1\" class=\"data row3 col1\" >0.029357</td>\n",
              "      <td id=\"T_0d809_row3_col2\" class=\"data row3 col2\" >-0.056487</td>\n",
              "      <td id=\"T_0d809_row3_col3\" class=\"data row3 col3\" >0.034167</td>\n",
              "      <td id=\"T_0d809_row3_col4\" class=\"data row3 col4\" >-0.030009</td>\n",
              "      <td id=\"T_0d809_row3_col5\" class=\"data row3 col5\" >0.007702</td>\n",
              "      <td id=\"T_0d809_row3_col6\" class=\"data row3 col6\" >0.001321</td>\n",
              "      <td id=\"T_0d809_row3_col7\" class=\"data row3 col7\" >-0.084298</td>\n",
              "      <td id=\"T_0d809_row3_col8\" class=\"data row3 col8\" >0.087243</td>\n",
              "      <td id=\"T_0d809_row3_col9\" class=\"data row3 col9\" >-0.057763</td>\n",
              "      <td id=\"T_0d809_row3_col10\" class=\"data row3 col10\" >WELLS</td>\n",
              "      <td id=\"T_0d809_row3_col11\" class=\"data row3 col11\" >The Time Machine</td>\n",
              "    </tr>\n",
              "    <tr>\n",
              "      <th id=\"T_0d809_level1_row4\" class=\"row_heading level1 row4\" >5</th>\n",
              "      <td id=\"T_0d809_row4_col0\" class=\"data row4 col0\" >0.060867</td>\n",
              "      <td id=\"T_0d809_row4_col1\" class=\"data row4 col1\" >0.024327</td>\n",
              "      <td id=\"T_0d809_row4_col2\" class=\"data row4 col2\" >-0.061940</td>\n",
              "      <td id=\"T_0d809_row4_col3\" class=\"data row4 col3\" >0.027776</td>\n",
              "      <td id=\"T_0d809_row4_col4\" class=\"data row4 col4\" >-0.023351</td>\n",
              "      <td id=\"T_0d809_row4_col5\" class=\"data row4 col5\" >-0.003162</td>\n",
              "      <td id=\"T_0d809_row4_col6\" class=\"data row4 col6\" >-0.008756</td>\n",
              "      <td id=\"T_0d809_row4_col7\" class=\"data row4 col7\" >-0.064364</td>\n",
              "      <td id=\"T_0d809_row4_col8\" class=\"data row4 col8\" >0.077335</td>\n",
              "      <td id=\"T_0d809_row4_col9\" class=\"data row4 col9\" >-0.016256</td>\n",
              "      <td id=\"T_0d809_row4_col10\" class=\"data row4 col10\" >WELLS</td>\n",
              "      <td id=\"T_0d809_row4_col11\" class=\"data row4 col11\" >The Time Machine</td>\n",
              "    </tr>\n",
              "  </tbody>\n",
              "</table>\n"
            ]
          },
          "metadata": {},
          "execution_count": 49
        }
      ],
      "source": [
        "DCM_c.head().style.background_gradient()"
      ]
    },
    {
      "cell_type": "code",
      "execution_count": null,
      "metadata": {
        "id": "y_xTCE2Nn7KF"
      },
      "outputs": [],
      "source": [
        "#DCM_b.head().style.background_gradient()"
      ]
    },
    {
      "cell_type": "markdown",
      "metadata": {
        "toc-hr-collapsed": false,
        "id": "dBZE78hVn7KF"
      },
      "source": [
        "# Visualize"
      ]
    },
    {
      "cell_type": "code",
      "execution_count": null,
      "metadata": {
        "id": "OypF2xATn7KF"
      },
      "outputs": [],
      "source": [
        "def vis_pcs(M, a, b, prefix='PC'):\n",
        "    fig = px.scatter(M, prefix + str(a), prefix + str(b),\n",
        "                        color='label',\n",
        "                        hover_name='title', marginal_x='box')\n",
        "    fig.show()"
      ]
    },
    {
      "cell_type": "markdown",
      "metadata": {
        "id": "u6hifbCMn7KG"
      },
      "source": [
        "## Chaps, PC 0 and 1"
      ]
    },
    {
      "cell_type": "code",
      "execution_count": null,
      "metadata": {
        "id": "Cnklji4Wn7KG",
        "colab": {
          "base_uri": "https://localhost:8080/",
          "height": 562
        },
        "outputId": "d099a803-16b8-4b2b-9cd5-79d309a92330"
      },
      "outputs": [
        {
          "output_type": "display_data",
          "data": {
            "text/html": [
              "<html>\n",
              "<head><meta charset=\"utf-8\" /></head>\n",
              "<body>\n",
              "    <div>            <script src=\"https://cdnjs.cloudflare.com/ajax/libs/mathjax/2.7.5/MathJax.js?config=TeX-AMS-MML_SVG\"></script><script type=\"text/javascript\">if (window.MathJax && window.MathJax.Hub && window.MathJax.Hub.Config) {window.MathJax.Hub.Config({SVG: {font: \"STIX-Web\"}});}</script>                <script type=\"text/javascript\">window.PlotlyConfig = {MathJaxConfig: 'local'};</script>\n",
              "        <script charset=\"utf-8\" src=\"https://cdn.plot.ly/plotly-2.24.1.min.js\"></script>                <div id=\"7c53f9b0-b5c4-4bbc-b002-75b72a966d6e\" class=\"plotly-graph-div\" style=\"height:525px; width:100%;\"></div>            <script type=\"text/javascript\">                                    window.PLOTLYENV=window.PLOTLYENV || {};                                    if (document.getElementById(\"7c53f9b0-b5c4-4bbc-b002-75b72a966d6e\")) {                    Plotly.newPlot(                        \"7c53f9b0-b5c4-4bbc-b002-75b72a966d6e\",                        [{\"hovertemplate\":\"\\u003cb\\u003e%{hovertext}\\u003c\\u002fb\\u003e\\u003cbr\\u003e\\u003cbr\\u003elabel=WELLS\\u003cbr\\u003ePC0=%{x}\\u003cbr\\u003ePC1=%{y}\\u003cextra\\u003e\\u003c\\u002fextra\\u003e\",\"hovertext\":[\"The Time Machine\",\"The Time Machine\",\"The Time Machine\",\"The Time Machine\",\"The Time Machine\",\"The Time Machine\",\"The Time Machine\",\"The Time Machine\",\"The Time Machine\",\"The Time Machine\",\"The Time Machine\",\"The Time Machine\",\"The Time Machine\",\"The Time Machine\",\"The Time Machine\",\"The Time Machine\",\"The War of the Worlds\",\"The War of the Worlds\",\"The War of the Worlds\",\"The War of the Worlds\",\"The War of the Worlds\",\"The War of the Worlds\",\"The War of the Worlds\",\"The War of the Worlds\",\"The War of the Worlds\",\"The War of the Worlds\",\"The War of the Worlds\",\"The War of the Worlds\",\"The War of the Worlds\",\"The War of the Worlds\",\"The War of the Worlds\",\"The War of the Worlds\",\"The War of the Worlds\",\"The War of the Worlds\",\"The War of the Worlds\",\"The War of the Worlds\",\"The War of the Worlds\",\"The War of the Worlds\",\"The War of the Worlds\",\"The War of the Worlds\",\"The War of the Worlds\",\"The War of the Worlds\",\"The War of the Worlds\",\"The island of Doctor Moreau\",\"The island of Doctor Moreau\",\"The island of Doctor Moreau\",\"The island of Doctor Moreau\",\"The island of Doctor Moreau\",\"The island of Doctor Moreau\",\"The island of Doctor Moreau\",\"The island of Doctor Moreau\",\"The island of Doctor Moreau\",\"The island of Doctor Moreau\",\"The island of Doctor Moreau\",\"The island of Doctor Moreau\",\"The island of Doctor Moreau\",\"The island of Doctor Moreau\",\"The island of Doctor Moreau\",\"The island of Doctor Moreau\",\"The island of Doctor Moreau\",\"The island of Doctor Moreau\",\"The island of Doctor Moreau\",\"The island of Doctor Moreau\",\"The island of Doctor Moreau\",\"The island of Doctor Moreau\",\"The Country of the Blind, and Other Stories\",\"The Country of the Blind, and Other Stories\",\"The Country of the Blind, and Other Stories\",\"The Country of the Blind, and Other Stories\",\"The Country of the Blind, and Other Stories\",\"The Country of the Blind, and Other Stories\",\"The Country of the Blind, and Other Stories\",\"The Country of the Blind, and Other Stories\",\"The Country of the Blind, and Other Stories\",\"The Country of the Blind, and Other Stories\",\"The Country of the Blind, and Other Stories\",\"The Country of the Blind, and Other Stories\",\"The Country of the Blind, and Other Stories\",\"The Country of the Blind, and Other Stories\",\"The Country of the Blind, and Other Stories\",\"The Country of the Blind, and Other Stories\",\"The Country of the Blind, and Other Stories\",\"The Country of the Blind, and Other Stories\",\"The Country of the Blind, and Other Stories\",\"The Country of the Blind, and Other Stories\",\"The Country of the Blind, and Other Stories\",\"The Country of the Blind, and Other Stories\",\"The Country of the Blind, and Other Stories\",\"The Country of the Blind, and Other Stories\",\"The Country of the Blind, and Other Stories\",\"The Country of the Blind, and Other Stories\",\"The Country of the Blind, and Other Stories\",\"The Country of the Blind, and Other Stories\",\"The Country of the Blind, and Other Stories\",\"The Country of the Blind, and Other Stories\",\"The Country of the Blind, and Other Stories\",\"The Country of the Blind, and Other Stories\",\"The Country of the Blind, and Other Stories\",\"The Country of the Blind, and Other Stories\",\"The Country of the Blind, and Other Stories\",\"The Country of the Blind, and Other Stories\",\"The Country of the Blind, and Other Stories\",\"The Country of the Blind, and Other Stories\",\"The Country of the Blind, and Other Stories\",\"The Country of the Blind, and Other Stories\",\"The Country of the Blind, and Other Stories\",\"The Country of the Blind, and Other Stories\",\"The Country of the Blind, and Other Stories\",\"The Country of the Blind, and Other Stories\",\"The Country of the Blind, and Other Stories\",\"The Country of the Blind, and Other Stories\",\"The Country of the Blind, and Other Stories\",\"The Country of the Blind, and Other Stories\",\"The Country of the Blind, and Other Stories\",\"The Country of the Blind, and Other Stories\",\"The Country of the Blind, and Other Stories\",\"The Country of the Blind, and Other Stories\",\"The Country of the Blind, and Other Stories\",\"The Country of the Blind, and Other Stories\",\"The Country of the Blind, and Other Stories\",\"The Country of the Blind, and Other Stories\",\"The Country of the Blind, and Other Stories\"],\"legendgroup\":\"WELLS\",\"marker\":{\"color\":\"#636efa\",\"symbol\":\"circle\"},\"mode\":\"markers\",\"name\":\"WELLS\",\"orientation\":\"v\",\"showlegend\":true,\"x\":[0.05415918982334271,0.05945448274062637,0.06175830783160965,0.07240244016683905,0.06086697481456114,0.048502384725663136,0.06963823611382242,0.06806508888327108,0.06719823963408629,0.06844879406223413,0.05584168721068491,0.06091546724597749,0.05655125028322429,0.05556773457990386,0.06940966520675886,0.07288537172693701,0.05560444802621651,0.05003303203746823,0.05314533006725797,0.06449642240667261,0.06300910752553086,0.05429381181098956,0.07166560344416718,0.060740505453546374,0.05291978748879809,0.05591820888701084,0.0671235981916105,0.05100396815273208,0.05487362668725216,0.05896479949013327,0.04988398284923882,0.0653897283460316,0.045035061265363954,0.0498372637365482,0.05538976401901846,0.06499429412872197,0.06797477201494088,0.05614856751239287,0.04560086954303269,0.06924920302825482,0.06176313778082364,0.057309180947380314,0.059837909225666716,0.025484372248452146,0.05669030227792954,0.04871202426518131,0.06300500011551739,0.047000427705266204,0.04744184637037682,0.06271740207132402,0.07146349580622934,0.04938653854214016,0.06901625041019806,0.047715125004521367,0.06785058944215852,0.06141535106797066,0.056654733882759135,0.05561446496432327,0.06635718294314932,0.07269883376241912,0.0733515937759398,0.06454612127738722,0.04792018466399095,0.019865842958282316,0.05218994954937797,0.06031335300692311,0.05637611150554345,0.059458173211220766,0.05932984846820502,0.05481466974657481,0.02992999759164314,0.05373647961502751,0.06456702308758626,0.057122157048792005,0.04527223906170883,0.04419364023086878,0.04205744951748949,0.05811219025576565,0.05313051682542831,0.04531183428687362,0.06748210814469964,0.06984754670101812,0.04850216520821914,0.027964038069971685,0.032134038023805975,0.023525401105571372,0.07278525701454479,0.0498230773035384,0.06732954566310756,0.05660619125459371,0.06237110926400142,0.03949236858225336,0.0493612090373368,0.04516940624733361,0.054856550410328435,0.0532865881380526,0.05976057835299135,0.06095905285812414,0.05671860741578811,0.06781803784356576,0.05762333066998714,0.06401587620042598,0.0628233654326065,0.06542137112478912,0.05030597453304441,0.062416115051117105,0.08494299803088402,0.06178570507809081,0.0506314165320532,0.055538327379982655,0.05682180148447885,0.043008006633564126,0.05077482698117947,0.04487916424408584,0.042297146753077865,0.06138299930488655,0.07732629390003495,0.06352542844454691,0.06294740321692,0.059022294874125136,0.055308477672130735,0.059483777412415555],\"xaxis\":\"x\",\"y\":[-0.001387278814979942,0.02586146924428915,0.03295643101734198,0.029356530436933877,0.024327204753276415,0.01585711494598918,0.02744145107486708,0.03540318565845593,0.034029589606245844,0.02712779644639392,0.023741131308637285,0.0452345989173651,0.02692433539021891,0.006487201313644771,0.029306372812153324,0.04176795158932126,-0.018628158769544326,0.010317172408668205,0.019036334598383633,0.031605191579926785,0.03648344502086922,0.021696227194191408,0.028146003901978748,0.02195149499072013,0.04892789173145735,0.047332812383372905,0.05191936078975923,0.036126205838153465,0.03324973494474766,0.02693753783196526,0.010309582819915472,0.04344532878082082,0.023590110991987916,0.041771793714516184,0.005594086761156335,0.029028309619957886,0.04478118500042848,0.039079881113710004,0.02825264599362519,0.06005213499044375,0.03414633750308006,0.03652350107144539,0.007693880681730218,0.023961050648120073,0.034642123290944724,0.039124285520328816,0.03251771245700939,0.03586450145923563,0.043386428063939775,0.04540457470029653,0.045348337281930017,0.04802028010956941,0.05979735247465293,0.0584799212188597,0.04938825384580331,0.05885673070342821,0.03592857072279378,0.03827658157693312,0.056803583600126634,0.06644921576383724,0.060883806229153764,0.06631279591929629,0.05629744534273139,0.041560086930428015,0.031510648410007745,0.030494316005196042,0.026600271769254696,0.03181383591071628,0.040994253814513125,0.014063589925821754,0.04096602458549033,0.014939934133707613,0.04174636334836065,0.03148103618058274,0.02526701785196845,0.028322217399025563,0.020829310809276018,0.023837759852726993,0.019774614898990486,0.026698755120227832,0.03610274355599699,0.0013349325357100664,0.013089042322064485,0.017169864097526553,0.018480596661695086,0.006381155618217093,0.03376216872194268,0.017000725846820497,0.04310872008021,0.03350973377827514,0.0260942092645992,0.019312854422644514,-0.032256364840901636,0.019267274806469843,0.016936430927611833,0.017154124087021588,0.019519955893042066,0.029447099564797755,0.024380934026159477,0.03157119920097872,0.02932266115860636,0.027354060485025696,0.023164826880417964,0.0219433794026562,0.04547509377964409,0.0326961895728809,0.0644275245915002,0.04410453505476418,0.01718930770562823,0.022385637623816804,0.024719754570390575,0.023530507680891644,0.017886762329381287,0.015303023425074891,0.0031981371833108554,0.03310961861296528,0.04863513319145657,0.03437866908900581,0.0302336700402451,0.02358991768272137,0.041780635065669855,0.028507766119119943],\"yaxis\":\"y\",\"type\":\"scatter\"},{\"alignmentgroup\":\"True\",\"hovertemplate\":\"\\u003cb\\u003e%{hovertext}\\u003c\\u002fb\\u003e\\u003cbr\\u003e\\u003cbr\\u003elabel=WELLS\\u003cbr\\u003ePC0=%{x}\\u003cextra\\u003e\\u003c\\u002fextra\\u003e\",\"hovertext\":[\"The Time Machine\",\"The Time Machine\",\"The Time Machine\",\"The Time Machine\",\"The Time Machine\",\"The Time Machine\",\"The Time Machine\",\"The Time Machine\",\"The Time Machine\",\"The Time Machine\",\"The Time Machine\",\"The Time Machine\",\"The Time Machine\",\"The Time Machine\",\"The Time Machine\",\"The Time Machine\",\"The War of the Worlds\",\"The War of the Worlds\",\"The War of the Worlds\",\"The War of the Worlds\",\"The War of the Worlds\",\"The War of the Worlds\",\"The War of the Worlds\",\"The War of the Worlds\",\"The War of the Worlds\",\"The War of the Worlds\",\"The War of the Worlds\",\"The War of the Worlds\",\"The War of the Worlds\",\"The War of the Worlds\",\"The War of the Worlds\",\"The War of the Worlds\",\"The War of the Worlds\",\"The War of the Worlds\",\"The War of the Worlds\",\"The War of the Worlds\",\"The War of the Worlds\",\"The War of the Worlds\",\"The War of the Worlds\",\"The War of the Worlds\",\"The War of the Worlds\",\"The War of the Worlds\",\"The War of the Worlds\",\"The island of Doctor Moreau\",\"The island of Doctor Moreau\",\"The island of Doctor Moreau\",\"The island of Doctor Moreau\",\"The island of Doctor Moreau\",\"The island of Doctor Moreau\",\"The island of Doctor Moreau\",\"The island of Doctor Moreau\",\"The island of Doctor Moreau\",\"The island of Doctor Moreau\",\"The island of Doctor Moreau\",\"The island of Doctor Moreau\",\"The island of Doctor Moreau\",\"The island of Doctor Moreau\",\"The island of Doctor Moreau\",\"The island of Doctor Moreau\",\"The island of Doctor Moreau\",\"The island of Doctor Moreau\",\"The island of Doctor Moreau\",\"The island of Doctor Moreau\",\"The island of Doctor Moreau\",\"The island of Doctor Moreau\",\"The Country of the Blind, and Other Stories\",\"The Country of the Blind, and Other Stories\",\"The Country of the Blind, and Other Stories\",\"The Country of the Blind, and Other Stories\",\"The Country of the Blind, and Other Stories\",\"The Country of the Blind, and Other Stories\",\"The Country of the Blind, and Other Stories\",\"The Country of the Blind, and Other Stories\",\"The Country of the Blind, and Other Stories\",\"The Country of the Blind, and Other Stories\",\"The Country of the Blind, and Other Stories\",\"The Country of the Blind, and Other Stories\",\"The Country of the Blind, and Other Stories\",\"The Country of the Blind, and Other Stories\",\"The Country of the Blind, and Other Stories\",\"The Country of the Blind, and Other Stories\",\"The Country of the Blind, and Other Stories\",\"The Country of the Blind, and Other Stories\",\"The Country of the Blind, and Other Stories\",\"The Country of the Blind, and Other Stories\",\"The Country of the Blind, and Other Stories\",\"The Country of the Blind, and Other Stories\",\"The Country of the Blind, and Other Stories\",\"The Country of the Blind, and Other Stories\",\"The Country of the Blind, and Other Stories\",\"The Country of the Blind, and Other Stories\",\"The Country of the Blind, and Other Stories\",\"The Country of the Blind, and Other Stories\",\"The Country of the Blind, and Other Stories\",\"The Country of the Blind, and Other Stories\",\"The Country of the Blind, and Other Stories\",\"The Country of the Blind, and Other Stories\",\"The Country of the Blind, and Other Stories\",\"The Country of the Blind, and Other Stories\",\"The Country of the Blind, and Other Stories\",\"The Country of the Blind, and Other Stories\",\"The Country of the Blind, and Other Stories\",\"The Country of the Blind, and Other Stories\",\"The Country of the Blind, and Other Stories\",\"The Country of the Blind, and Other Stories\",\"The Country of the Blind, and Other Stories\",\"The Country of the Blind, and Other Stories\",\"The Country of the Blind, and Other Stories\",\"The Country of the Blind, and Other Stories\",\"The Country of the Blind, and Other Stories\",\"The Country of the Blind, and Other Stories\",\"The Country of the Blind, and Other Stories\",\"The Country of the Blind, and Other Stories\",\"The Country of the Blind, and Other Stories\",\"The Country of the Blind, and Other Stories\",\"The Country of the Blind, and Other Stories\",\"The Country of the Blind, and Other Stories\",\"The Country of the Blind, and Other Stories\",\"The Country of the Blind, and Other Stories\",\"The Country of the Blind, and Other Stories\",\"The Country of the Blind, and Other Stories\",\"The Country of the Blind, and Other Stories\"],\"legendgroup\":\"WELLS\",\"marker\":{\"color\":\"#636efa\",\"symbol\":\"circle\"},\"name\":\"WELLS\",\"notched\":true,\"offsetgroup\":\"WELLS\",\"showlegend\":false,\"x\":[0.05415918982334271,0.05945448274062637,0.06175830783160965,0.07240244016683905,0.06086697481456114,0.048502384725663136,0.06963823611382242,0.06806508888327108,0.06719823963408629,0.06844879406223413,0.05584168721068491,0.06091546724597749,0.05655125028322429,0.05556773457990386,0.06940966520675886,0.07288537172693701,0.05560444802621651,0.05003303203746823,0.05314533006725797,0.06449642240667261,0.06300910752553086,0.05429381181098956,0.07166560344416718,0.060740505453546374,0.05291978748879809,0.05591820888701084,0.0671235981916105,0.05100396815273208,0.05487362668725216,0.05896479949013327,0.04988398284923882,0.0653897283460316,0.045035061265363954,0.0498372637365482,0.05538976401901846,0.06499429412872197,0.06797477201494088,0.05614856751239287,0.04560086954303269,0.06924920302825482,0.06176313778082364,0.057309180947380314,0.059837909225666716,0.025484372248452146,0.05669030227792954,0.04871202426518131,0.06300500011551739,0.047000427705266204,0.04744184637037682,0.06271740207132402,0.07146349580622934,0.04938653854214016,0.06901625041019806,0.047715125004521367,0.06785058944215852,0.06141535106797066,0.056654733882759135,0.05561446496432327,0.06635718294314932,0.07269883376241912,0.0733515937759398,0.06454612127738722,0.04792018466399095,0.019865842958282316,0.05218994954937797,0.06031335300692311,0.05637611150554345,0.059458173211220766,0.05932984846820502,0.05481466974657481,0.02992999759164314,0.05373647961502751,0.06456702308758626,0.057122157048792005,0.04527223906170883,0.04419364023086878,0.04205744951748949,0.05811219025576565,0.05313051682542831,0.04531183428687362,0.06748210814469964,0.06984754670101812,0.04850216520821914,0.027964038069971685,0.032134038023805975,0.023525401105571372,0.07278525701454479,0.0498230773035384,0.06732954566310756,0.05660619125459371,0.06237110926400142,0.03949236858225336,0.0493612090373368,0.04516940624733361,0.054856550410328435,0.0532865881380526,0.05976057835299135,0.06095905285812414,0.05671860741578811,0.06781803784356576,0.05762333066998714,0.06401587620042598,0.0628233654326065,0.06542137112478912,0.05030597453304441,0.062416115051117105,0.08494299803088402,0.06178570507809081,0.0506314165320532,0.055538327379982655,0.05682180148447885,0.043008006633564126,0.05077482698117947,0.04487916424408584,0.042297146753077865,0.06138299930488655,0.07732629390003495,0.06352542844454691,0.06294740321692,0.059022294874125136,0.055308477672130735,0.059483777412415555],\"xaxis\":\"x2\",\"yaxis\":\"y2\",\"type\":\"box\"},{\"hovertemplate\":\"\\u003cb\\u003e%{hovertext}\\u003c\\u002fb\\u003e\\u003cbr\\u003e\\u003cbr\\u003elabel=BURROUGHS\\u003cbr\\u003ePC0=%{x}\\u003cbr\\u003ePC1=%{y}\\u003cextra\\u003e\\u003c\\u002fextra\\u003e\",\"hovertext\":[\"A Princess of Mars\",\"A Princess of Mars\",\"A Princess of Mars\",\"A Princess of Mars\",\"A Princess of Mars\",\"A Princess of Mars\",\"A Princess of Mars\",\"A Princess of Mars\",\"A Princess of Mars\",\"A Princess of Mars\",\"A Princess of Mars\",\"A Princess of Mars\",\"A Princess of Mars\",\"A Princess of Mars\",\"A Princess of Mars\",\"A Princess of Mars\",\"A Princess of Mars\",\"A Princess of Mars\",\"A Princess of Mars\",\"A Princess of Mars\",\"A Princess of Mars\",\"A Princess of Mars\",\"A Princess of Mars\",\"A Princess of Mars\",\"A Princess of Mars\",\"A Princess of Mars\",\"A Princess of Mars\",\"A Princess of Mars\",\"The Gods of Mars\",\"The Gods of Mars\",\"The Gods of Mars\",\"The Gods of Mars\",\"The Gods of Mars\",\"The Gods of Mars\",\"The Gods of Mars\",\"The Gods of Mars\",\"The Gods of Mars\",\"The Gods of Mars\",\"The Gods of Mars\",\"The Gods of Mars\",\"The Gods of Mars\",\"The Gods of Mars\",\"The Gods of Mars\",\"The Gods of Mars\",\"The Gods of Mars\",\"The Gods of Mars\",\"The Gods of Mars\",\"The Gods of Mars\",\"The Gods of Mars\",\"The Gods of Mars\"],\"legendgroup\":\"BURROUGHS\",\"marker\":{\"color\":\"#EF553B\",\"symbol\":\"circle\"},\"mode\":\"markers\",\"name\":\"BURROUGHS\",\"orientation\":\"v\",\"showlegend\":true,\"x\":[0.04080117157522738,0.06264401950369236,0.056514175576257424,0.07024285555485466,0.06453414198296442,0.07812678436975132,0.06304816826021346,0.07212497615825923,0.08273610465220238,0.10245965757275348,0.10830816208325204,0.08159681976127782,0.09813159202957894,0.10749570060853106,0.10701310501442161,0.09897640389695937,0.10811446542033525,0.06717598356817603,0.0779439776850734,0.06937227715175104,0.08489389983255506,0.10014089381596739,0.0774682900923532,0.09205170621182006,0.1062421910178739,0.09171104196385546,0.10245490521251582,0.08602290542862309,0.06175345693752374,0.06408604459833228,0.09550016646972909,0.08907614708370255,0.07152300237986191,0.07057670057088826,0.08027481445251512,0.06810378069783476,0.0960934050293332,0.07757308989324008,0.08204926820128877,0.05089517838178358,0.06608702293647152,0.09415815925309183,0.0861941772761166,0.09124463839936334,0.10219050552195875,0.1059647762606818,0.08802670406938427,0.0797790590997073,0.0706772953882103,0.11927676696556563],\"xaxis\":\"x\",\"y\":[0.011457980445226848,0.030707327716383,0.013416761315034545,0.04026787472159304,0.006945722253646862,0.04977716765818257,0.02849903465334614,0.05208479541609075,0.04741271713584404,0.06806876087355478,0.07168282301411702,0.050674492185118714,0.060960364204748346,0.07605021116294486,0.08184619249118905,0.07031818186813132,0.08077803336495223,0.035336293528158674,0.047179833026987326,0.032646711244824794,0.03607347668837835,0.06617798997456048,0.03539479453508107,0.06106287067234955,0.06905700766541183,0.05648901507105828,0.060170303298858675,0.05067306445748841,0.0330889986776522,0.04777895201796018,0.06103147434202187,0.058600521541795736,0.036703312583099085,0.043115444850609023,0.049578756732437945,0.0464679522619444,0.06594442338706599,0.04430752630526721,0.05221217316828288,0.027477467257283804,0.03670928853288812,0.06569145243566514,0.0565826109055395,0.05540751760640883,0.061732515232829445,0.07749523907114352,0.05398562525520771,0.04914057273157828,0.04013313566544226,0.08511254136796002],\"yaxis\":\"y\",\"type\":\"scatter\"},{\"alignmentgroup\":\"True\",\"hovertemplate\":\"\\u003cb\\u003e%{hovertext}\\u003c\\u002fb\\u003e\\u003cbr\\u003e\\u003cbr\\u003elabel=BURROUGHS\\u003cbr\\u003ePC0=%{x}\\u003cextra\\u003e\\u003c\\u002fextra\\u003e\",\"hovertext\":[\"A Princess of Mars\",\"A Princess of Mars\",\"A Princess of Mars\",\"A Princess of Mars\",\"A Princess of Mars\",\"A Princess of Mars\",\"A Princess of Mars\",\"A Princess of Mars\",\"A Princess of Mars\",\"A Princess of Mars\",\"A Princess of Mars\",\"A Princess of Mars\",\"A Princess of Mars\",\"A Princess of Mars\",\"A Princess of Mars\",\"A Princess of Mars\",\"A Princess of Mars\",\"A Princess of Mars\",\"A Princess of Mars\",\"A Princess of Mars\",\"A Princess of Mars\",\"A Princess of Mars\",\"A Princess of Mars\",\"A Princess of Mars\",\"A Princess of Mars\",\"A Princess of Mars\",\"A Princess of Mars\",\"A Princess of Mars\",\"The Gods of Mars\",\"The Gods of Mars\",\"The Gods of Mars\",\"The Gods of Mars\",\"The Gods of Mars\",\"The Gods of Mars\",\"The Gods of Mars\",\"The Gods of Mars\",\"The Gods of Mars\",\"The Gods of Mars\",\"The Gods of Mars\",\"The Gods of Mars\",\"The Gods of Mars\",\"The Gods of Mars\",\"The Gods of Mars\",\"The Gods of Mars\",\"The Gods of Mars\",\"The Gods of Mars\",\"The Gods of Mars\",\"The Gods of Mars\",\"The Gods of Mars\",\"The Gods of Mars\"],\"legendgroup\":\"BURROUGHS\",\"marker\":{\"color\":\"#EF553B\",\"symbol\":\"circle\"},\"name\":\"BURROUGHS\",\"notched\":true,\"offsetgroup\":\"BURROUGHS\",\"showlegend\":false,\"x\":[0.04080117157522738,0.06264401950369236,0.056514175576257424,0.07024285555485466,0.06453414198296442,0.07812678436975132,0.06304816826021346,0.07212497615825923,0.08273610465220238,0.10245965757275348,0.10830816208325204,0.08159681976127782,0.09813159202957894,0.10749570060853106,0.10701310501442161,0.09897640389695937,0.10811446542033525,0.06717598356817603,0.0779439776850734,0.06937227715175104,0.08489389983255506,0.10014089381596739,0.0774682900923532,0.09205170621182006,0.1062421910178739,0.09171104196385546,0.10245490521251582,0.08602290542862309,0.06175345693752374,0.06408604459833228,0.09550016646972909,0.08907614708370255,0.07152300237986191,0.07057670057088826,0.08027481445251512,0.06810378069783476,0.0960934050293332,0.07757308989324008,0.08204926820128877,0.05089517838178358,0.06608702293647152,0.09415815925309183,0.0861941772761166,0.09124463839936334,0.10219050552195875,0.1059647762606818,0.08802670406938427,0.0797790590997073,0.0706772953882103,0.11927676696556563],\"xaxis\":\"x2\",\"yaxis\":\"y2\",\"type\":\"box\"},{\"hovertemplate\":\"\\u003cb\\u003e%{hovertext}\\u003c\\u002fb\\u003e\\u003cbr\\u003e\\u003cbr\\u003elabel=VERNE\\u003cbr\\u003ePC0=%{x}\\u003cbr\\u003ePC1=%{y}\\u003cextra\\u003e\\u003c\\u002fextra\\u003e\",\"hovertext\":[\"From the Earth to the Moon; and, Round the Moon\",\"From the Earth to the Moon; and, Round the Moon\",\"From the Earth to the Moon; and, Round the Moon\",\"From the Earth to the Moon; and, Round the Moon\",\"From the Earth to the Moon; and, Round the Moon\",\"From the Earth to the Moon; and, Round the Moon\",\"From the Earth to the Moon; and, Round the Moon\",\"From the Earth to the Moon; and, Round the Moon\",\"From the Earth to the Moon; and, Round the Moon\",\"From the Earth to the Moon; and, Round the Moon\",\"From the Earth to the Moon; and, Round the Moon\",\"From the Earth to the Moon; and, Round the Moon\",\"From the Earth to the Moon; and, Round the Moon\",\"From the Earth to the Moon; and, Round the Moon\",\"From the Earth to the Moon; and, Round the Moon\",\"From the Earth to the Moon; and, Round the Moon\",\"From the Earth to the Moon; and, Round the Moon\",\"From the Earth to the Moon; and, Round the Moon\",\"From the Earth to the Moon; and, Round the Moon\",\"From the Earth to the Moon; and, Round the Moon\",\"From the Earth to the Moon; and, Round the Moon\",\"From the Earth to the Moon; and, Round the Moon\",\"From the Earth to the Moon; and, Round the Moon\",\"From the Earth to the Moon; and, Round the Moon\",\"From the Earth to the Moon; and, Round the Moon\",\"From the Earth to the Moon; and, Round the Moon\",\"From the Earth to the Moon; and, Round the Moon\",\"From the Earth to the Moon; and, Round the Moon\",\"From the Earth to the Moon; and, Round the Moon\",\"From the Earth to the Moon; and, Round the Moon\",\"From the Earth to the Moon; and, Round the Moon\",\"From the Earth to the Moon; and, Round the Moon\",\"From the Earth to the Moon; and, Round the Moon\",\"From the Earth to the Moon; and, Round the Moon\",\"From the Earth to the Moon; and, Round the Moon\",\"From the Earth to the Moon; and, Round the Moon\",\"From the Earth to the Moon; and, Round the Moon\",\"From the Earth to the Moon; and, Round the Moon\",\"From the Earth to the Moon; and, Round the Moon\",\"From the Earth to the Moon; and, Round the Moon\",\"From the Earth to the Moon; and, Round the Moon\",\"From the Earth to the Moon; and, Round the Moon\",\"From the Earth to the Moon; and, Round the Moon\",\"From the Earth to the Moon; and, Round the Moon\",\"From the Earth to the Moon; and, Round the Moon\",\"From the Earth to the Moon; and, Round the Moon\",\"From the Earth to the Moon; and, Round the Moon\",\"From the Earth to the Moon; and, Round the Moon\",\"From the Earth to the Moon; and, Round the Moon\",\"From the Earth to the Moon; and, Round the Moon\",\"From the Earth to the Moon; and, Round the Moon\",\"Twenty Thousand Leagues under the Sea\",\"Twenty Thousand Leagues under the Sea\",\"Twenty Thousand Leagues under the Sea\",\"Twenty Thousand Leagues under the Sea\",\"Twenty Thousand Leagues under the Sea\",\"Twenty Thousand Leagues under the Sea\",\"Twenty Thousand Leagues under the Sea\",\"Twenty Thousand Leagues under the Sea\",\"Twenty Thousand Leagues under the Sea\",\"Twenty Thousand Leagues under the Sea\",\"Twenty Thousand Leagues under the Sea\",\"Twenty Thousand Leagues under the Sea\",\"Twenty Thousand Leagues under the Sea\",\"Twenty Thousand Leagues under the Sea\",\"Twenty Thousand Leagues under the Sea\",\"Twenty Thousand Leagues under the Sea\",\"Twenty Thousand Leagues under the Sea\",\"Twenty Thousand Leagues under the Sea\",\"Twenty Thousand Leagues under the Sea\",\"Twenty Thousand Leagues under the Sea\",\"Twenty Thousand Leagues under the Sea\",\"Twenty Thousand Leagues under the Sea\",\"Twenty Thousand Leagues under the Sea\",\"Twenty Thousand Leagues under the Sea\",\"Twenty Thousand Leagues under the Sea\",\"Twenty Thousand Leagues under the Sea\",\"Twenty Thousand Leagues under the Sea\",\"Twenty Thousand Leagues under the Sea\",\"Twenty Thousand Leagues under the Sea\",\"Twenty Thousand Leagues under the Sea\",\"Twenty Thousand Leagues under the Sea\",\"Twenty Thousand Leagues under the Sea\",\"Twenty Thousand Leagues under the Sea\",\"Twenty Thousand Leagues under the Sea\",\"Twenty Thousand Leagues under the Sea\",\"Twenty Thousand Leagues under the Sea\",\"Twenty Thousand Leagues under the Sea\",\"Twenty Thousand Leagues under the Sea\",\"Twenty Thousand Leagues under the Sea\",\"Twenty Thousand Leagues under the Sea\",\"Twenty Thousand Leagues under the Sea\",\"Twenty Thousand Leagues under the Sea\",\"Twenty Thousand Leagues under the Sea\",\"Twenty Thousand Leagues under the Sea\",\"Twenty Thousand Leagues under the Sea\",\"Twenty Thousand Leagues under the Sea\",\"The Mysterious Island\",\"The Mysterious Island\",\"The Mysterious Island\",\"The Mysterious Island\",\"The Mysterious Island\",\"The Mysterious Island\",\"The Mysterious Island\",\"The Mysterious Island\",\"The Mysterious Island\",\"The Mysterious Island\",\"The Mysterious Island\",\"The Mysterious Island\",\"The Mysterious Island\",\"The Mysterious Island\",\"The Mysterious Island\",\"The Mysterious Island\",\"The Mysterious Island\",\"The Mysterious Island\",\"The Mysterious Island\",\"The Mysterious Island\",\"The Mysterious Island\",\"The Mysterious Island\",\"The Mysterious Island\",\"The Mysterious Island\",\"The Mysterious Island\",\"The Mysterious Island\",\"The Mysterious Island\",\"The Mysterious Island\",\"The Mysterious Island\",\"The Mysterious Island\",\"The Mysterious Island\",\"The Mysterious Island\",\"The Mysterious Island\",\"The Mysterious Island\",\"The Mysterious Island\",\"The Mysterious Island\",\"The Mysterious Island\",\"The Mysterious Island\",\"The Mysterious Island\",\"The Mysterious Island\",\"The Mysterious Island\",\"The Mysterious Island\",\"The Mysterious Island\",\"The Mysterious Island\",\"The Mysterious Island\",\"The Mysterious Island\",\"The Mysterious Island\",\"The Mysterious Island\",\"The Mysterious Island\",\"The Mysterious Island\",\"The Mysterious Island\",\"The Mysterious Island\",\"The Mysterious Island\",\"The Mysterious Island\",\"The Mysterious Island\",\"The Mysterious Island\",\"The Mysterious Island\",\"The Mysterious Island\",\"The Mysterious Island\",\"The Mysterious Island\",\"The Mysterious Island\",\"The Mysterious Island\",\"A Journey to the Centre of the Earth\",\"A Journey to the Centre of the Earth\",\"A Journey to the Centre of the Earth\",\"A Journey to the Centre of the Earth\",\"A Journey to the Centre of the Earth\",\"A Journey to the Centre of the Earth\",\"A Journey to the Centre of the Earth\",\"A Journey to the Centre of the Earth\",\"A Journey to the Centre of the Earth\",\"A Journey to the Centre of the Earth\",\"A Journey to the Centre of the Earth\",\"A Journey to the Centre of the Earth\",\"A Journey to the Centre of the Earth\",\"A Journey to the Centre of the Earth\",\"A Journey to the Centre of the Earth\",\"A Journey to the Centre of the Earth\",\"A Journey to the Centre of the Earth\",\"A Journey to the Centre of the Earth\",\"A Journey to the Centre of the Earth\",\"A Journey to the Centre of the Earth\",\"A Journey to the Centre of the Earth\",\"A Journey to the Centre of the Earth\",\"A Journey to the Centre of the Earth\",\"A Journey to the Centre of the Earth\",\"A Journey to the Centre of the Earth\",\"A Journey to the Centre of the Earth\",\"A Journey to the Centre of the Earth\",\"A Journey to the Centre of the Earth\",\"A Journey to the Centre of the Earth\",\"A Journey to the Centre of the Earth\",\"A Journey to the Centre of the Earth\",\"A Journey to the Centre of the Earth\",\"A Journey to the Centre of the Earth\",\"A Journey to the Centre of the Earth\",\"A Journey to the Centre of the Earth\",\"A Journey to the Centre of the Earth\",\"A Journey to the Centre of the Earth\",\"A Journey to the Centre of the Earth\",\"A Journey to the Centre of the Earth\",\"A Journey to the Centre of the Earth\",\"A Journey to the Centre of the Earth\",\"A Journey to the Centre of the Earth\",\"A Journey to the Centre of the Earth\",\"A Journey to the Centre of the Earth\"],\"legendgroup\":\"VERNE\",\"marker\":{\"color\":\"#00cc96\",\"symbol\":\"circle\"},\"mode\":\"markers\",\"name\":\"VERNE\",\"orientation\":\"v\",\"showlegend\":true,\"x\":[0.03354057337357073,0.04012656092232787,0.049437137944999286,0.04004873766460985,0.038631729175499015,0.0503823302241482,0.044196566147860515,0.03442491855274257,0.030200674007882657,0.04121454090535878,0.031320692127610746,0.044076529301718764,0.026190104872034464,0.009310732131148683,0.016018009361971883,0.029002799291063447,0.05584272004905959,0.051327705623323935,0.03562256320340605,0.038431075610634795,0.055102711506306155,0.04410945691550262,0.027258720957138476,0.025916307691135305,0.028982966827562653,0.04202034297197339,0.031040817639631516,0.049589432663979846,0.052710925434262014,0.05925948355417935,0.040394206374027776,0.06387104943637446,0.05525996746449833,0.057844663201775955,0.047823412177200625,0.047673222161959336,0.05491437363421253,0.05118934501929823,0.02489933562015842,0.033491804815605146,0.03756710606561274,0.049821590183216385,0.045147890183459445,0.04948768748749536,0.029877238645977737,0.04759862660136578,0.066123283589952,0.014399634601396049,0.03601271437103318,0.0160505604259154,0.04914013027879342,0.0082046310650052,0.007001477593868936,-0.010093182779507751,0.002515286301118345,-0.025767128177299984,-0.037253714673579054,-0.004746291143476863,0.011516156010794414,0.010522299119248478,-0.024939287854655563,-0.0264915562925381,-0.02239556387819377,-0.02829427171146764,-0.041424978948562334,-0.015554716095577648,-0.03555039780832212,-0.014607342879258052,-0.01748866181503361,-0.055306060653282085,-0.035506333754946585,-0.042401846930341734,-0.03949125314613843,-0.02105665503699647,-0.029046570190310178,-0.006057439355311888,-0.05043176053669687,-0.03864580723500123,-0.0244248660243717,-0.06613065660870242,-0.004393012228775195,-0.027202344822823053,-0.03989417132482846,-0.047981142742336114,-0.032126746343579864,-0.02457451308720996,-0.03774097022381467,-0.05465287093251002,-0.0218662917724951,-0.03322544370289795,-0.029198011211592465,-0.0103708136428847,-0.04935091015169377,-0.03405680168338016,-0.02836208203981823,-0.02988348672017737,-0.008334555688588347,-0.03342361523755483,-0.3360736712784302,-0.39521681794344726,-0.46939501866672934,-0.45560777423201054,-0.4073640647275634,-0.5309940690044059,-0.5527792175152526,-0.5816578444307595,-0.43146498703643993,-0.5241937631597434,-0.4719815267622482,-0.4274127415423478,-0.4867754027216741,-0.34112366894914053,-0.48193761296104026,-0.3548435095966848,-0.48943201811714265,-0.46209330610762034,-0.39697219832390124,-0.4108625736987449,-0.5058374823762165,-0.5694260897696662,-0.3897605000613521,-0.46737608495227845,-0.49152739135264867,-0.5628581793850711,-0.46286173736445907,-0.3311756985879725,-0.3542640727549084,-0.4582295372488246,-0.509934056219585,-0.4752042801732188,-0.5252559685818825,-0.5329023534653076,-0.5350465887840382,-0.595013294449185,-0.5265820454524464,-0.22673251466689323,-0.5265522561310507,-0.5601486440724391,-0.6583293888582716,-0.47878987349933505,-0.3270871563527219,-0.44025024551509656,-0.44934975934697846,-0.5511904407579206,-0.5944460889962846,-0.6037137616696807,-0.43083045522817887,-0.6183398072067284,-0.5041241517873861,-0.47410791633812727,-0.5268724124119276,-0.49580408079828003,-0.46529897418396116,-0.5120586135127888,-0.26175537395955867,-0.3617436768963927,-0.5386674720363739,-0.3926300516693411,-0.45475863647526604,0.046877901596110515,0.041116339733009544,0.04286293910595196,0.02510650467557294,0.03129313994487176,-0.0056969277628733574,0.03491733893634334,0.01703785531026868,0.005911631710183584,0.020293182620892976,0.016861722174921344,-0.003364792489829434,0.01122221880512903,0.02063836723946754,0.011801644301915947,0.01155147420264084,0.013606885050768694,0.03897759426067636,0.027374371916670467,0.016012870468922722,0.015513317174565668,0.024443212433427165,0.024573623783185252,0.025640932604165133,0.032803257831884376,0.03002239108435855,0.00033000847456573525,-0.0010639656139651654,-0.0010276871133435895,0.02015792198839631,-0.013779761331709332,0.007085279493216886,-0.016300014822712167,-0.001234443656682563,0.03538112270643069,0.020398560039398946,0.01449588535072752,-0.003225331249220961,0.017273339733337105,0.03358544422239748,0.030224430519199458,-0.0017193365610093762,0.002892564846975334,0.030030188780226282],\"xaxis\":\"x\",\"y\":[-0.10924127278625825,-0.19298765516502228,-0.102572539742564,-0.22210469340891897,-0.10501930387479969,-0.12728716659249015,-0.28820201895478154,-0.23701579018702273,-0.17108952150221332,-0.32572400864032397,-0.09475176314749024,-0.11136850414155425,-0.26286667290778337,-0.1414555511703374,-0.1131030691197409,-0.19897262886439643,-0.18346270364890951,-0.36809797885637124,-0.2654906622812934,-0.3692166042571997,-0.5037005009525111,-0.3619774728140292,-0.24710976839356646,-0.10369781398944589,-0.3986300875576516,-0.22321334329030756,-0.1656526652245263,-0.42399073837679846,-0.5846544202169607,-0.6248830531873555,-0.5597227888638202,-0.5617685014703766,-0.6071880265571823,-0.6006923436950905,-0.6091529030500078,-0.5113725888346347,-0.5838022530546865,-0.35004852058082736,-0.1715531431132297,-0.4870015924874908,-0.40307275212354077,-0.5577451939908149,-0.5561552393149716,-0.39391276775512346,-0.336252752783369,-0.5468816941098822,-0.6305021765831724,-0.1494735564330177,-0.23760770385948543,-0.3050580924663825,-0.3093631376886061,-0.047983269662895574,-0.05361213778152546,-0.06069688176869595,-0.09982693361740988,-0.07723787108279735,-0.06843324164956922,-0.0686369156480807,-0.06975748575589512,-0.06189249108709528,-0.11631967604433084,-0.13489449274933063,-0.1343063851918187,-0.1608029981996348,-0.15163558026822027,-0.11410217456850476,-0.10319050572309725,-0.12597429405673755,-0.054456250232556416,-0.15503322719539406,-0.08047851721501993,-0.14215032865950858,-0.16064637037101123,-0.09908844344072867,-0.1260845565515002,-0.08657764682923366,-0.13173094122619272,-0.12367957497780105,-0.11529237231525899,-0.16561491775411755,-0.10950664219957976,-0.13207677998193398,-0.12789350576175343,-0.12047237430118184,-0.13558522257434236,-0.14309092943385393,-0.17446028204585623,-0.14536879422621207,-0.16827364559622562,-0.16329488350938867,-0.12040937250572592,-0.11026638633886254,-0.15258877674948035,-0.11753518357813676,-0.16522926179768693,-0.1573361329503098,-0.08648507546176742,-0.038381625557980574,0.027550271759585285,0.03530977709033018,0.07072455687789649,0.08419515575212162,0.06275034432794586,0.08434287108512022,0.08416079950330088,0.06819115099120727,0.022329975158045613,0.025943238191488093,0.0511729219897133,0.027322248332224016,0.014876556689869612,0.034178613802784946,0.041656437567718224,0.028816077095571123,0.048454665648141694,0.056780726163137465,0.033516893865961836,-0.0048390608148193934,0.05750042877058767,0.07425970898770277,0.04420745873879101,0.05231400112466998,0.0671784399269885,0.07437005086700467,0.07912095665971604,0.030539559172124888,0.037761426667514385,0.04156123311300256,0.06685621047118254,0.03109266632765495,0.07477145827064012,0.0678706117373062,0.0893692427629354,0.0857128009910208,0.07160951233364451,0.024964986513428558,0.05082540328409297,0.05578037290056832,0.07529648374225996,0.06659826203223988,0.056021233939543,0.07449334061431571,0.06309077427215687,0.0480904696351332,0.09740603702894501,0.1110421354866878,0.06847583536671613,0.10307061241653018,0.0923162455065018,0.06255805771047149,0.09084357253923545,0.06354209842265988,0.027924993493315568,0.04509800786235338,-0.08999849028402075,-0.07400434288446545,0.03310820331074787,0.015110083931483616,0.04294139113593522,-0.04131069472469313,-0.020588545161125845,-0.02292369641482282,-0.04297814781235155,-0.029574567747061416,-0.03382413459618374,-0.04489225428098319,-0.05856347187571308,-0.03844730990099529,-0.027893148995283723,-0.04479706249853533,-0.06175512472170894,-0.05815975468519202,-0.05360109461073892,-0.07853204318452048,-0.055576486958600076,-0.05880534445773812,-0.042586938064770714,-0.02831416128661308,-0.04289207833549895,-0.06288764104144794,-0.09067533641466322,-0.027135327737715167,-0.007404731179095327,-0.02863078307029672,-0.04037998148517962,-0.05684813536748978,-0.08441518573689198,-0.06627118227372923,-0.045501365001749026,-0.06686969946091466,-0.04204355843358705,-0.062057851232617034,-0.05598277716536369,-0.04964813803423394,-0.029585149622066355,-0.03111068011790646,-0.0536080098634406,-0.04339432101825381,-0.019273138335689673,-0.0376422920282361,-0.07818918252947327,-0.05249824720212732,-0.05040719746512867],\"yaxis\":\"y\",\"type\":\"scatter\"},{\"alignmentgroup\":\"True\",\"hovertemplate\":\"\\u003cb\\u003e%{hovertext}\\u003c\\u002fb\\u003e\\u003cbr\\u003e\\u003cbr\\u003elabel=VERNE\\u003cbr\\u003ePC0=%{x}\\u003cextra\\u003e\\u003c\\u002fextra\\u003e\",\"hovertext\":[\"From the Earth to the Moon; and, Round the Moon\",\"From the Earth to the Moon; and, Round the Moon\",\"From the Earth to the Moon; and, Round the Moon\",\"From the Earth to the Moon; and, Round the Moon\",\"From the Earth to the Moon; and, Round the Moon\",\"From the Earth to the Moon; and, Round the Moon\",\"From the Earth to the Moon; and, Round the Moon\",\"From the Earth to the Moon; and, Round the Moon\",\"From the Earth to the Moon; and, Round the Moon\",\"From the Earth to the Moon; and, Round the Moon\",\"From the Earth to the Moon; and, Round the Moon\",\"From the Earth to the Moon; and, Round the Moon\",\"From the Earth to the Moon; and, Round the Moon\",\"From the Earth to the Moon; and, Round the Moon\",\"From the Earth to the Moon; and, Round the Moon\",\"From the Earth to the Moon; and, Round the Moon\",\"From the Earth to the Moon; and, Round the Moon\",\"From the Earth to the Moon; and, Round the Moon\",\"From the Earth to the Moon; and, Round the Moon\",\"From the Earth to the Moon; and, Round the Moon\",\"From the Earth to the Moon; and, Round the Moon\",\"From the Earth to the Moon; and, Round the Moon\",\"From the Earth to the Moon; and, Round the Moon\",\"From the Earth to the Moon; and, Round the Moon\",\"From the Earth to the Moon; and, Round the Moon\",\"From the Earth to the Moon; and, Round the Moon\",\"From the Earth to the Moon; and, Round the Moon\",\"From the Earth to the Moon; and, Round the Moon\",\"From the Earth to the Moon; and, Round the Moon\",\"From the Earth to the Moon; and, Round the Moon\",\"From the Earth to the Moon; and, Round the Moon\",\"From the Earth to the Moon; and, Round the Moon\",\"From the Earth to the Moon; and, Round the Moon\",\"From the Earth to the Moon; and, Round the Moon\",\"From the Earth to the Moon; and, Round the Moon\",\"From the Earth to the Moon; and, Round the Moon\",\"From the Earth to the Moon; and, Round the Moon\",\"From the Earth to the Moon; and, Round the Moon\",\"From the Earth to the Moon; and, Round the Moon\",\"From the Earth to the Moon; and, Round the Moon\",\"From the Earth to the Moon; and, Round the Moon\",\"From the Earth to the Moon; and, Round the Moon\",\"From the Earth to the Moon; and, Round the Moon\",\"From the Earth to the Moon; and, Round the Moon\",\"From the Earth to the Moon; and, Round the Moon\",\"From the Earth to the Moon; and, Round the Moon\",\"From the Earth to the Moon; and, Round the Moon\",\"From the Earth to the Moon; and, Round the Moon\",\"From the Earth to the Moon; and, Round the Moon\",\"From the Earth to the Moon; and, Round the Moon\",\"From the Earth to the Moon; and, Round the Moon\",\"Twenty Thousand Leagues under the Sea\",\"Twenty Thousand Leagues under the Sea\",\"Twenty Thousand Leagues under the Sea\",\"Twenty Thousand Leagues under the Sea\",\"Twenty Thousand Leagues under the Sea\",\"Twenty Thousand Leagues under the Sea\",\"Twenty Thousand Leagues under the Sea\",\"Twenty Thousand Leagues under the Sea\",\"Twenty Thousand Leagues under the Sea\",\"Twenty Thousand Leagues under the Sea\",\"Twenty Thousand Leagues under the Sea\",\"Twenty Thousand Leagues under the Sea\",\"Twenty Thousand Leagues under the Sea\",\"Twenty Thousand Leagues under the Sea\",\"Twenty Thousand Leagues under the Sea\",\"Twenty Thousand Leagues under the Sea\",\"Twenty Thousand Leagues under the Sea\",\"Twenty Thousand Leagues under the Sea\",\"Twenty Thousand Leagues under the Sea\",\"Twenty Thousand Leagues under the Sea\",\"Twenty Thousand Leagues under the Sea\",\"Twenty Thousand Leagues under the Sea\",\"Twenty Thousand Leagues under the Sea\",\"Twenty Thousand Leagues under the Sea\",\"Twenty Thousand Leagues under the Sea\",\"Twenty Thousand Leagues under the Sea\",\"Twenty Thousand Leagues under the Sea\",\"Twenty Thousand Leagues under the Sea\",\"Twenty Thousand Leagues under the Sea\",\"Twenty Thousand Leagues under the Sea\",\"Twenty Thousand Leagues under the Sea\",\"Twenty Thousand Leagues under the Sea\",\"Twenty Thousand Leagues under the Sea\",\"Twenty Thousand Leagues under the Sea\",\"Twenty Thousand Leagues under the Sea\",\"Twenty Thousand Leagues under the Sea\",\"Twenty Thousand Leagues under the Sea\",\"Twenty Thousand Leagues under the Sea\",\"Twenty Thousand Leagues under the Sea\",\"Twenty Thousand Leagues under the Sea\",\"Twenty Thousand Leagues under the Sea\",\"Twenty Thousand Leagues under the Sea\",\"Twenty Thousand Leagues under the Sea\",\"Twenty Thousand Leagues under the Sea\",\"Twenty Thousand Leagues under the Sea\",\"Twenty Thousand Leagues under the Sea\",\"The Mysterious Island\",\"The Mysterious Island\",\"The Mysterious Island\",\"The Mysterious Island\",\"The Mysterious Island\",\"The Mysterious Island\",\"The Mysterious Island\",\"The Mysterious Island\",\"The Mysterious Island\",\"The Mysterious Island\",\"The Mysterious Island\",\"The Mysterious Island\",\"The Mysterious Island\",\"The Mysterious Island\",\"The Mysterious Island\",\"The Mysterious Island\",\"The Mysterious Island\",\"The Mysterious Island\",\"The Mysterious Island\",\"The Mysterious Island\",\"The Mysterious Island\",\"The Mysterious Island\",\"The Mysterious Island\",\"The Mysterious Island\",\"The Mysterious Island\",\"The Mysterious Island\",\"The Mysterious Island\",\"The Mysterious Island\",\"The Mysterious Island\",\"The Mysterious Island\",\"The Mysterious Island\",\"The Mysterious Island\",\"The Mysterious Island\",\"The Mysterious Island\",\"The Mysterious Island\",\"The Mysterious Island\",\"The Mysterious Island\",\"The Mysterious Island\",\"The Mysterious Island\",\"The Mysterious Island\",\"The Mysterious Island\",\"The Mysterious Island\",\"The Mysterious Island\",\"The Mysterious Island\",\"The Mysterious Island\",\"The Mysterious Island\",\"The Mysterious Island\",\"The Mysterious Island\",\"The Mysterious Island\",\"The Mysterious Island\",\"The Mysterious Island\",\"The Mysterious Island\",\"The Mysterious Island\",\"The Mysterious Island\",\"The Mysterious Island\",\"The Mysterious Island\",\"The Mysterious Island\",\"The Mysterious Island\",\"The Mysterious Island\",\"The Mysterious Island\",\"The Mysterious Island\",\"The Mysterious Island\",\"A Journey to the Centre of the Earth\",\"A Journey to the Centre of the Earth\",\"A Journey to the Centre of the Earth\",\"A Journey to the Centre of the Earth\",\"A Journey to the Centre of the Earth\",\"A Journey to the Centre of the Earth\",\"A Journey to the Centre of the Earth\",\"A Journey to the Centre of the Earth\",\"A Journey to the Centre of the Earth\",\"A Journey to the Centre of the Earth\",\"A Journey to the Centre of the Earth\",\"A Journey to the Centre of the Earth\",\"A Journey to the Centre of the Earth\",\"A Journey to the Centre of the Earth\",\"A Journey to the Centre of the Earth\",\"A Journey to the Centre of the Earth\",\"A Journey to the Centre of the Earth\",\"A Journey to the Centre of the Earth\",\"A Journey to the Centre of the Earth\",\"A Journey to the Centre of the Earth\",\"A Journey to the Centre of the Earth\",\"A Journey to the Centre of the Earth\",\"A Journey to the Centre of the Earth\",\"A Journey to the Centre of the Earth\",\"A Journey to the Centre of the Earth\",\"A Journey to the Centre of the Earth\",\"A Journey to the Centre of the Earth\",\"A Journey to the Centre of the Earth\",\"A Journey to the Centre of the Earth\",\"A Journey to the Centre of the Earth\",\"A Journey to the Centre of the Earth\",\"A Journey to the Centre of the Earth\",\"A Journey to the Centre of the Earth\",\"A Journey to the Centre of the Earth\",\"A Journey to the Centre of the Earth\",\"A Journey to the Centre of the Earth\",\"A Journey to the Centre of the Earth\",\"A Journey to the Centre of the Earth\",\"A Journey to the Centre of the Earth\",\"A Journey to the Centre of the Earth\",\"A Journey to the Centre of the Earth\",\"A Journey to the Centre of the Earth\",\"A Journey to the Centre of the Earth\",\"A Journey to the Centre of the Earth\"],\"legendgroup\":\"VERNE\",\"marker\":{\"color\":\"#00cc96\",\"symbol\":\"circle\"},\"name\":\"VERNE\",\"notched\":true,\"offsetgroup\":\"VERNE\",\"showlegend\":false,\"x\":[0.03354057337357073,0.04012656092232787,0.049437137944999286,0.04004873766460985,0.038631729175499015,0.0503823302241482,0.044196566147860515,0.03442491855274257,0.030200674007882657,0.04121454090535878,0.031320692127610746,0.044076529301718764,0.026190104872034464,0.009310732131148683,0.016018009361971883,0.029002799291063447,0.05584272004905959,0.051327705623323935,0.03562256320340605,0.038431075610634795,0.055102711506306155,0.04410945691550262,0.027258720957138476,0.025916307691135305,0.028982966827562653,0.04202034297197339,0.031040817639631516,0.049589432663979846,0.052710925434262014,0.05925948355417935,0.040394206374027776,0.06387104943637446,0.05525996746449833,0.057844663201775955,0.047823412177200625,0.047673222161959336,0.05491437363421253,0.05118934501929823,0.02489933562015842,0.033491804815605146,0.03756710606561274,0.049821590183216385,0.045147890183459445,0.04948768748749536,0.029877238645977737,0.04759862660136578,0.066123283589952,0.014399634601396049,0.03601271437103318,0.0160505604259154,0.04914013027879342,0.0082046310650052,0.007001477593868936,-0.010093182779507751,0.002515286301118345,-0.025767128177299984,-0.037253714673579054,-0.004746291143476863,0.011516156010794414,0.010522299119248478,-0.024939287854655563,-0.0264915562925381,-0.02239556387819377,-0.02829427171146764,-0.041424978948562334,-0.015554716095577648,-0.03555039780832212,-0.014607342879258052,-0.01748866181503361,-0.055306060653282085,-0.035506333754946585,-0.042401846930341734,-0.03949125314613843,-0.02105665503699647,-0.029046570190310178,-0.006057439355311888,-0.05043176053669687,-0.03864580723500123,-0.0244248660243717,-0.06613065660870242,-0.004393012228775195,-0.027202344822823053,-0.03989417132482846,-0.047981142742336114,-0.032126746343579864,-0.02457451308720996,-0.03774097022381467,-0.05465287093251002,-0.0218662917724951,-0.03322544370289795,-0.029198011211592465,-0.0103708136428847,-0.04935091015169377,-0.03405680168338016,-0.02836208203981823,-0.02988348672017737,-0.008334555688588347,-0.03342361523755483,-0.3360736712784302,-0.39521681794344726,-0.46939501866672934,-0.45560777423201054,-0.4073640647275634,-0.5309940690044059,-0.5527792175152526,-0.5816578444307595,-0.43146498703643993,-0.5241937631597434,-0.4719815267622482,-0.4274127415423478,-0.4867754027216741,-0.34112366894914053,-0.48193761296104026,-0.3548435095966848,-0.48943201811714265,-0.46209330610762034,-0.39697219832390124,-0.4108625736987449,-0.5058374823762165,-0.5694260897696662,-0.3897605000613521,-0.46737608495227845,-0.49152739135264867,-0.5628581793850711,-0.46286173736445907,-0.3311756985879725,-0.3542640727549084,-0.4582295372488246,-0.509934056219585,-0.4752042801732188,-0.5252559685818825,-0.5329023534653076,-0.5350465887840382,-0.595013294449185,-0.5265820454524464,-0.22673251466689323,-0.5265522561310507,-0.5601486440724391,-0.6583293888582716,-0.47878987349933505,-0.3270871563527219,-0.44025024551509656,-0.44934975934697846,-0.5511904407579206,-0.5944460889962846,-0.6037137616696807,-0.43083045522817887,-0.6183398072067284,-0.5041241517873861,-0.47410791633812727,-0.5268724124119276,-0.49580408079828003,-0.46529897418396116,-0.5120586135127888,-0.26175537395955867,-0.3617436768963927,-0.5386674720363739,-0.3926300516693411,-0.45475863647526604,0.046877901596110515,0.041116339733009544,0.04286293910595196,0.02510650467557294,0.03129313994487176,-0.0056969277628733574,0.03491733893634334,0.01703785531026868,0.005911631710183584,0.020293182620892976,0.016861722174921344,-0.003364792489829434,0.01122221880512903,0.02063836723946754,0.011801644301915947,0.01155147420264084,0.013606885050768694,0.03897759426067636,0.027374371916670467,0.016012870468922722,0.015513317174565668,0.024443212433427165,0.024573623783185252,0.025640932604165133,0.032803257831884376,0.03002239108435855,0.00033000847456573525,-0.0010639656139651654,-0.0010276871133435895,0.02015792198839631,-0.013779761331709332,0.007085279493216886,-0.016300014822712167,-0.001234443656682563,0.03538112270643069,0.020398560039398946,0.01449588535072752,-0.003225331249220961,0.017273339733337105,0.03358544422239748,0.030224430519199458,-0.0017193365610093762,0.002892564846975334,0.030030188780226282],\"xaxis\":\"x2\",\"yaxis\":\"y2\",\"type\":\"box\"},{\"hovertemplate\":\"\\u003cb\\u003e%{hovertext}\\u003c\\u002fb\\u003e\\u003cbr\\u003e\\u003cbr\\u003elabel=DOYLE\\u003cbr\\u003ePC0=%{x}\\u003cbr\\u003ePC1=%{y}\\u003cextra\\u003e\\u003c\\u002fextra\\u003e\",\"hovertext\":[\"The Lost World\",\"The Lost World\",\"The Lost World\",\"The Lost World\",\"The Lost World\",\"The Lost World\",\"The Lost World\",\"The Lost World\",\"The Lost World\",\"The Lost World\",\"The Lost World\",\"The Lost World\",\"The Lost World\",\"The Lost World\",\"The Lost World\",\"The Lost World\"],\"legendgroup\":\"DOYLE\",\"marker\":{\"color\":\"#ab63fa\",\"symbol\":\"circle\"},\"mode\":\"markers\",\"name\":\"DOYLE\",\"orientation\":\"v\",\"showlegend\":true,\"x\":[0.07437183669131524,0.059983829184394426,0.0550655211891979,0.03586586020486549,0.049559244751384006,0.053188986455376584,0.029981721226800085,0.0347663948591294,0.011396790674553953,0.029956118664262586,0.02840403769004883,0.030494582416127857,0.05072639593797204,0.033261337141157934,0.017417580210097226,0.04406242742685587],\"xaxis\":\"x\",\"y\":[0.04472914299994355,0.007213076197940936,0.020283258997440885,0.008580168657511364,0.0020287258038811846,0.02535178802192878,-0.0029140993854148965,0.007612342048216144,0.010161426679815646,0.020123766079725904,0.015767580366648336,0.024907224940921076,0.04557997925356903,0.024680719996393853,0.011198689716871291,-0.005985526124296056],\"yaxis\":\"y\",\"type\":\"scatter\"},{\"alignmentgroup\":\"True\",\"hovertemplate\":\"\\u003cb\\u003e%{hovertext}\\u003c\\u002fb\\u003e\\u003cbr\\u003e\\u003cbr\\u003elabel=DOYLE\\u003cbr\\u003ePC0=%{x}\\u003cextra\\u003e\\u003c\\u002fextra\\u003e\",\"hovertext\":[\"The Lost World\",\"The Lost World\",\"The Lost World\",\"The Lost World\",\"The Lost World\",\"The Lost World\",\"The Lost World\",\"The Lost World\",\"The Lost World\",\"The Lost World\",\"The Lost World\",\"The Lost World\",\"The Lost World\",\"The Lost World\",\"The Lost World\",\"The Lost World\"],\"legendgroup\":\"DOYLE\",\"marker\":{\"color\":\"#ab63fa\",\"symbol\":\"circle\"},\"name\":\"DOYLE\",\"notched\":true,\"offsetgroup\":\"DOYLE\",\"showlegend\":false,\"x\":[0.07437183669131524,0.059983829184394426,0.0550655211891979,0.03586586020486549,0.049559244751384006,0.053188986455376584,0.029981721226800085,0.0347663948591294,0.011396790674553953,0.029956118664262586,0.02840403769004883,0.030494582416127857,0.05072639593797204,0.033261337141157934,0.017417580210097226,0.04406242742685587],\"xaxis\":\"x2\",\"yaxis\":\"y2\",\"type\":\"box\"},{\"hovertemplate\":\"\\u003cb\\u003e%{hovertext}\\u003c\\u002fb\\u003e\\u003cbr\\u003e\\u003cbr\\u003elabel=ABBOTT\\u003cbr\\u003ePC0=%{x}\\u003cbr\\u003ePC1=%{y}\\u003cextra\\u003e\\u003c\\u002fextra\\u003e\",\"hovertext\":[\"Flatland: A Romance of Many Dimensions\",\"Flatland: A Romance of Many Dimensions\",\"Flatland: A Romance of Many Dimensions\",\"Flatland: A Romance of Many Dimensions\",\"Flatland: A Romance of Many Dimensions\",\"Flatland: A Romance of Many Dimensions\",\"Flatland: A Romance of Many Dimensions\",\"Flatland: A Romance of Many Dimensions\",\"Flatland: A Romance of Many Dimensions\",\"Flatland: A Romance of Many Dimensions\",\"Flatland: A Romance of Many Dimensions\",\"Flatland: A Romance of Many Dimensions\",\"Flatland: A Romance of Many Dimensions\",\"Flatland: A Romance of Many Dimensions\",\"Flatland: A Romance of Many Dimensions\",\"Flatland: A Romance of Many Dimensions\",\"Flatland: A Romance of Many Dimensions\",\"Flatland: A Romance of Many Dimensions\",\"Flatland: A Romance of Many Dimensions\",\"Flatland: A Romance of Many Dimensions\",\"Flatland: A Romance of Many Dimensions\",\"Flatland: A Romance of Many Dimensions\"],\"legendgroup\":\"ABBOTT\",\"marker\":{\"color\":\"#FFA15A\",\"symbol\":\"circle\"},\"mode\":\"markers\",\"name\":\"ABBOTT\",\"orientation\":\"v\",\"showlegend\":true,\"x\":[0.043723965614836977,0.04016467349502535,0.045805797803089424,0.05393230576854981,0.04096227522596432,0.04674756997003059,0.039104185508875705,0.05112611582908593,0.05268211611543001,0.0356584247563942,0.042441442375496796,0.049790504816259226,0.0495923372181172,0.05741491981180731,0.05431857277973379,0.05330638763126479,0.052343988376181164,0.06073549228972904,0.05608937098589556,0.05746428129608299,0.062256959698705844,0.05697912693067907],\"xaxis\":\"x\",\"y\":[-0.003813761052342046,-0.009010842226481401,-0.005014204492666861,0.007358569895274885,-0.01432709087407565,-0.004995326060968205,-0.009053433382526201,0.004083219730582463,0.0009142644118078049,0.00021402615855839588,-0.007998728230187591,-0.0045076086680014985,0.0014115685605495054,0.00025004109211590854,0.006765135379419759,-0.010414098501281336,0.013195036909042593,0.0036459192044700304,-0.006313031447673936,0.006758678640599683,0.016755554587553848,-0.0117616168345801],\"yaxis\":\"y\",\"type\":\"scatter\"},{\"alignmentgroup\":\"True\",\"hovertemplate\":\"\\u003cb\\u003e%{hovertext}\\u003c\\u002fb\\u003e\\u003cbr\\u003e\\u003cbr\\u003elabel=ABBOTT\\u003cbr\\u003ePC0=%{x}\\u003cextra\\u003e\\u003c\\u002fextra\\u003e\",\"hovertext\":[\"Flatland: A Romance of Many Dimensions\",\"Flatland: A Romance of Many Dimensions\",\"Flatland: A Romance of Many Dimensions\",\"Flatland: A Romance of Many Dimensions\",\"Flatland: A Romance of Many Dimensions\",\"Flatland: A Romance of Many Dimensions\",\"Flatland: A Romance of Many Dimensions\",\"Flatland: A Romance of Many Dimensions\",\"Flatland: A Romance of Many Dimensions\",\"Flatland: A Romance of Many Dimensions\",\"Flatland: A Romance of Many Dimensions\",\"Flatland: A Romance of Many Dimensions\",\"Flatland: A Romance of Many Dimensions\",\"Flatland: A Romance of Many Dimensions\",\"Flatland: A Romance of Many Dimensions\",\"Flatland: A Romance of Many Dimensions\",\"Flatland: A Romance of Many Dimensions\",\"Flatland: A Romance of Many Dimensions\",\"Flatland: A Romance of Many Dimensions\",\"Flatland: A Romance of Many Dimensions\",\"Flatland: A Romance of Many Dimensions\",\"Flatland: A Romance of Many Dimensions\"],\"legendgroup\":\"ABBOTT\",\"marker\":{\"color\":\"#FFA15A\",\"symbol\":\"circle\"},\"name\":\"ABBOTT\",\"notched\":true,\"offsetgroup\":\"ABBOTT\",\"showlegend\":false,\"x\":[0.043723965614836977,0.04016467349502535,0.045805797803089424,0.05393230576854981,0.04096227522596432,0.04674756997003059,0.039104185508875705,0.05112611582908593,0.05268211611543001,0.0356584247563942,0.042441442375496796,0.049790504816259226,0.0495923372181172,0.05741491981180731,0.05431857277973379,0.05330638763126479,0.052343988376181164,0.06073549228972904,0.05608937098589556,0.05746428129608299,0.062256959698705844,0.05697912693067907],\"xaxis\":\"x2\",\"yaxis\":\"y2\",\"type\":\"box\"},{\"hovertemplate\":\"\\u003cb\\u003e%{hovertext}\\u003c\\u002fb\\u003e\\u003cbr\\u003e\\u003cbr\\u003elabel=RAND\\u003cbr\\u003ePC0=%{x}\\u003cbr\\u003ePC1=%{y}\\u003cextra\\u003e\\u003c\\u002fextra\\u003e\",\"hovertext\":[\"Anthem\",\"Anthem\",\"Anthem\",\"Anthem\",\"Anthem\",\"Anthem\",\"Anthem\",\"Anthem\",\"Anthem\",\"Anthem\",\"Anthem\",\"Anthem\"],\"legendgroup\":\"RAND\",\"marker\":{\"color\":\"#19d3f3\",\"symbol\":\"circle\"},\"mode\":\"markers\",\"name\":\"RAND\",\"orientation\":\"v\",\"showlegend\":true,\"x\":[0.057753612445192296,0.0610334414200889,0.0504728572504538,0.05530171211566482,0.052601920882824026,0.059045977068610186,0.05577115650362919,0.04183020980980621,0.043326019299468006,0.03540385283675932,0.05807414727007614,0.060597594722099433],\"xaxis\":\"x\",\"y\":[0.01503276103351095,0.02205603141293575,0.007373244763660401,0.02369238105047023,0.017609811442116655,0.02357205389047215,0.01942271633480376,0.027325583964145875,0.031885832474533686,0.02055053034349148,0.019295036011965284,0.020314025897315114],\"yaxis\":\"y\",\"type\":\"scatter\"},{\"alignmentgroup\":\"True\",\"hovertemplate\":\"\\u003cb\\u003e%{hovertext}\\u003c\\u002fb\\u003e\\u003cbr\\u003e\\u003cbr\\u003elabel=RAND\\u003cbr\\u003ePC0=%{x}\\u003cextra\\u003e\\u003c\\u002fextra\\u003e\",\"hovertext\":[\"Anthem\",\"Anthem\",\"Anthem\",\"Anthem\",\"Anthem\",\"Anthem\",\"Anthem\",\"Anthem\",\"Anthem\",\"Anthem\",\"Anthem\",\"Anthem\"],\"legendgroup\":\"RAND\",\"marker\":{\"color\":\"#19d3f3\",\"symbol\":\"circle\"},\"name\":\"RAND\",\"notched\":true,\"offsetgroup\":\"RAND\",\"showlegend\":false,\"x\":[0.057753612445192296,0.0610334414200889,0.0504728572504538,0.05530171211566482,0.052601920882824026,0.059045977068610186,0.05577115650362919,0.04183020980980621,0.043326019299468006,0.03540385283675932,0.05807414727007614,0.060597594722099433],\"xaxis\":\"x2\",\"yaxis\":\"y2\",\"type\":\"box\"},{\"hovertemplate\":\"\\u003cb\\u003e%{hovertext}\\u003c\\u002fb\\u003e\\u003cbr\\u003e\\u003cbr\\u003elabel=LINDSAY\\u003cbr\\u003ePC0=%{x}\\u003cbr\\u003ePC1=%{y}\\u003cextra\\u003e\\u003c\\u002fextra\\u003e\",\"hovertext\":[\"A Voyage to Arcturus\",\"A Voyage to Arcturus\",\"A Voyage to Arcturus\",\"A Voyage to Arcturus\",\"A Voyage to Arcturus\",\"A Voyage to Arcturus\",\"A Voyage to Arcturus\",\"A Voyage to Arcturus\",\"A Voyage to Arcturus\",\"A Voyage to Arcturus\",\"A Voyage to Arcturus\",\"A Voyage to Arcturus\",\"A Voyage to Arcturus\",\"A Voyage to Arcturus\",\"A Voyage to Arcturus\",\"A Voyage to Arcturus\",\"A Voyage to Arcturus\",\"A Voyage to Arcturus\",\"A Voyage to Arcturus\",\"A Voyage to Arcturus\",\"A Voyage to Arcturus\"],\"legendgroup\":\"LINDSAY\",\"marker\":{\"color\":\"#FF6692\",\"symbol\":\"circle\"},\"mode\":\"markers\",\"name\":\"LINDSAY\",\"orientation\":\"v\",\"showlegend\":true,\"x\":[0.06031832419755926,0.08761573698481354,0.06539716905082855,0.0748036964735194,0.08170527199521901,0.08777216678993717,0.07007180680546711,0.08660027956136013,0.08173552858056844,0.09446760548408652,0.08382718845863092,0.0799300104048471,0.07544358982381061,0.06333728767648389,0.06365307315937978,0.061522187630140744,0.08340941942598375,0.07573385896854151,0.08974922769271959,0.07624407739497308,0.05772255881127329],\"xaxis\":\"x\",\"y\":[0.030516458231612982,0.05531717864795953,0.05267879143615717,0.056329586327317514,0.05881183246452181,0.07066690149571066,0.05808167517875731,0.07326589259961677,0.07452334033734717,0.08557440237414361,0.07729578267000155,0.058837598891706346,0.06301748280696606,0.06250586691546273,0.06191025777639328,0.04992518906628597,0.060959635224293256,0.05651513675837627,0.07045256660163222,0.06093594641735479,0.025481174111832015],\"yaxis\":\"y\",\"type\":\"scatter\"},{\"alignmentgroup\":\"True\",\"hovertemplate\":\"\\u003cb\\u003e%{hovertext}\\u003c\\u002fb\\u003e\\u003cbr\\u003e\\u003cbr\\u003elabel=LINDSAY\\u003cbr\\u003ePC0=%{x}\\u003cextra\\u003e\\u003c\\u002fextra\\u003e\",\"hovertext\":[\"A Voyage to Arcturus\",\"A Voyage to Arcturus\",\"A Voyage to Arcturus\",\"A Voyage to Arcturus\",\"A Voyage to Arcturus\",\"A Voyage to Arcturus\",\"A Voyage to Arcturus\",\"A Voyage to Arcturus\",\"A Voyage to Arcturus\",\"A Voyage to Arcturus\",\"A Voyage to Arcturus\",\"A Voyage to Arcturus\",\"A Voyage to Arcturus\",\"A Voyage to Arcturus\",\"A Voyage to Arcturus\",\"A Voyage to Arcturus\",\"A Voyage to Arcturus\",\"A Voyage to Arcturus\",\"A Voyage to Arcturus\",\"A Voyage to Arcturus\",\"A Voyage to Arcturus\"],\"legendgroup\":\"LINDSAY\",\"marker\":{\"color\":\"#FF6692\",\"symbol\":\"circle\"},\"name\":\"LINDSAY\",\"notched\":true,\"offsetgroup\":\"LINDSAY\",\"showlegend\":false,\"x\":[0.06031832419755926,0.08761573698481354,0.06539716905082855,0.0748036964735194,0.08170527199521901,0.08777216678993717,0.07007180680546711,0.08660027956136013,0.08173552858056844,0.09446760548408652,0.08382718845863092,0.0799300104048471,0.07544358982381061,0.06333728767648389,0.06365307315937978,0.061522187630140744,0.08340941942598375,0.07573385896854151,0.08974922769271959,0.07624407739497308,0.05772255881127329],\"xaxis\":\"x2\",\"yaxis\":\"y2\",\"type\":\"box\"},{\"hovertemplate\":\"\\u003cb\\u003e%{hovertext}\\u003c\\u002fb\\u003e\\u003cbr\\u003e\\u003cbr\\u003elabel=HODGSON\\u003cbr\\u003ePC0=%{x}\\u003cbr\\u003ePC1=%{y}\\u003cextra\\u003e\\u003c\\u002fextra\\u003e\",\"hovertext\":[\"The Night Land\",\"The Night Land\",\"The Night Land\",\"The Night Land\",\"The Night Land\",\"The Night Land\",\"The Night Land\",\"The Night Land\",\"The Night Land\",\"The Night Land\",\"The Night Land\",\"The Night Land\",\"The Night Land\",\"The Night Land\",\"The Night Land\",\"The Night Land\",\"The Night Land\"],\"legendgroup\":\"HODGSON\",\"marker\":{\"color\":\"#B6E880\",\"symbol\":\"circle\"},\"mode\":\"markers\",\"name\":\"HODGSON\",\"orientation\":\"v\",\"showlegend\":true,\"x\":[0.1047653986143414,0.0750468889990655,0.07910910921986915,0.08271118133504331,0.0897060422828008,0.08987756057517016,0.10556842864990189,0.10844265641986954,0.09800411170881138,0.1388773362073431,0.12884872273783526,0.12606828171468565,0.13181406761651288,0.12994542081580698,0.11936139341296666,0.11782618554211853,0.1166268876657709],\"xaxis\":\"x\",\"y\":[0.09433485165753272,0.04479733346076336,0.05252692790604552,0.06209983879791979,0.07823465751039159,0.06248188524002206,0.10338698333316775,0.09344152120288121,0.10068920037770195,0.14160644837447944,0.13059770918549804,0.12685083336281366,0.13504958516075918,0.1329849779120475,0.11701863206145341,0.10920009387390191,0.1089564983952056],\"yaxis\":\"y\",\"type\":\"scatter\"},{\"alignmentgroup\":\"True\",\"hovertemplate\":\"\\u003cb\\u003e%{hovertext}\\u003c\\u002fb\\u003e\\u003cbr\\u003e\\u003cbr\\u003elabel=HODGSON\\u003cbr\\u003ePC0=%{x}\\u003cextra\\u003e\\u003c\\u002fextra\\u003e\",\"hovertext\":[\"The Night Land\",\"The Night Land\",\"The Night Land\",\"The Night Land\",\"The Night Land\",\"The Night Land\",\"The Night Land\",\"The Night Land\",\"The Night Land\",\"The Night Land\",\"The Night Land\",\"The Night Land\",\"The Night Land\",\"The Night Land\",\"The Night Land\",\"The Night Land\",\"The Night Land\"],\"legendgroup\":\"HODGSON\",\"marker\":{\"color\":\"#B6E880\",\"symbol\":\"circle\"},\"name\":\"HODGSON\",\"notched\":true,\"offsetgroup\":\"HODGSON\",\"showlegend\":false,\"x\":[0.1047653986143414,0.0750468889990655,0.07910910921986915,0.08271118133504331,0.0897060422828008,0.08987756057517016,0.10556842864990189,0.10844265641986954,0.09800411170881138,0.1388773362073431,0.12884872273783526,0.12606828171468565,0.13181406761651288,0.12994542081580698,0.11936139341296666,0.11782618554211853,0.1166268876657709],\"xaxis\":\"x2\",\"yaxis\":\"y2\",\"type\":\"box\"},{\"hovertemplate\":\"\\u003cb\\u003e%{hovertext}\\u003c\\u002fb\\u003e\\u003cbr\\u003e\\u003cbr\\u003elabel=VONNEGUT\\u003cbr\\u003ePC0=%{x}\\u003cbr\\u003ePC1=%{y}\\u003cextra\\u003e\\u003c\\u002fextra\\u003e\",\"hovertext\":[\"2 B R 0 2 B\",\"2 B R 0 2 B\",\"2 B R 0 2 B\",\"2 B R 0 2 B\",\"2 B R 0 2 B\",\"2 B R 0 2 B\",\"The Big Trip Up Yonder\",\"The Big Trip Up Yonder\",\"The Big Trip Up Yonder\",\"The Big Trip Up Yonder\",\"The Big Trip Up Yonder\",\"The Big Trip Up Yonder\",\"The Big Trip Up Yonder\",\"The Big Trip Up Yonder\",\"The Big Trip Up Yonder\"],\"legendgroup\":\"VONNEGUT\",\"marker\":{\"color\":\"#FF97FF\",\"symbol\":\"circle\"},\"mode\":\"markers\",\"name\":\"VONNEGUT\",\"orientation\":\"v\",\"showlegend\":true,\"x\":[0.06381176901836447,0.06169519123376215,0.0675451463136216,0.06045022484586362,0.05734839057141876,0.05861338474976524,0.06582184226997985,0.0626765304554627,0.06486148627759201,0.06640144118383638,0.07132220291050297,0.06626054063792977,0.06285531961552301,0.06171938256694825,0.05880290331516473],\"xaxis\":\"x\",\"y\":[0.025117575957815837,0.02382407152561655,0.047847081482987636,0.03896902675464358,0.02556578768878628,0.02324068580885464,0.026483247224877965,0.0256936021301475,0.0240002581328589,0.031953365160262946,0.041892459674467655,0.039637399832281095,0.025556147764284345,0.02908510499526484,0.022385277564325214],\"yaxis\":\"y\",\"type\":\"scatter\"},{\"alignmentgroup\":\"True\",\"hovertemplate\":\"\\u003cb\\u003e%{hovertext}\\u003c\\u002fb\\u003e\\u003cbr\\u003e\\u003cbr\\u003elabel=VONNEGUT\\u003cbr\\u003ePC0=%{x}\\u003cextra\\u003e\\u003c\\u002fextra\\u003e\",\"hovertext\":[\"2 B R 0 2 B\",\"2 B R 0 2 B\",\"2 B R 0 2 B\",\"2 B R 0 2 B\",\"2 B R 0 2 B\",\"2 B R 0 2 B\",\"The Big Trip Up Yonder\",\"The Big Trip Up Yonder\",\"The Big Trip Up Yonder\",\"The Big Trip Up Yonder\",\"The Big Trip Up Yonder\",\"The Big Trip Up Yonder\",\"The Big Trip Up Yonder\",\"The Big Trip Up Yonder\",\"The Big Trip Up Yonder\"],\"legendgroup\":\"VONNEGUT\",\"marker\":{\"color\":\"#FF97FF\",\"symbol\":\"circle\"},\"name\":\"VONNEGUT\",\"notched\":true,\"offsetgroup\":\"VONNEGUT\",\"showlegend\":false,\"x\":[0.06381176901836447,0.06169519123376215,0.0675451463136216,0.06045022484586362,0.05734839057141876,0.05861338474976524,0.06582184226997985,0.0626765304554627,0.06486148627759201,0.06640144118383638,0.07132220291050297,0.06626054063792977,0.06285531961552301,0.06171938256694825,0.05880290331516473],\"xaxis\":\"x2\",\"yaxis\":\"y2\",\"type\":\"box\"},{\"hovertemplate\":\"\\u003cb\\u003e%{hovertext}\\u003c\\u002fb\\u003e\\u003cbr\\u003e\\u003cbr\\u003elabel=WEINBAUM\\u003cbr\\u003ePC0=%{x}\\u003cbr\\u003ePC1=%{y}\\u003cextra\\u003e\\u003c\\u002fextra\\u003e\",\"hovertext\":[\"A Martian Odyssey\",\"A Martian Odyssey\"],\"legendgroup\":\"WEINBAUM\",\"marker\":{\"color\":\"#FECB52\",\"symbol\":\"circle\"},\"mode\":\"markers\",\"name\":\"WEINBAUM\",\"orientation\":\"v\",\"showlegend\":true,\"x\":[0.049089516799970305,0.05920955965518403],\"xaxis\":\"x\",\"y\":[0.01839301054702232,0.03846875851945886],\"yaxis\":\"y\",\"type\":\"scatter\"},{\"alignmentgroup\":\"True\",\"hovertemplate\":\"\\u003cb\\u003e%{hovertext}\\u003c\\u002fb\\u003e\\u003cbr\\u003e\\u003cbr\\u003elabel=WEINBAUM\\u003cbr\\u003ePC0=%{x}\\u003cextra\\u003e\\u003c\\u002fextra\\u003e\",\"hovertext\":[\"A Martian Odyssey\",\"A Martian Odyssey\"],\"legendgroup\":\"WEINBAUM\",\"marker\":{\"color\":\"#FECB52\",\"symbol\":\"circle\"},\"name\":\"WEINBAUM\",\"notched\":true,\"offsetgroup\":\"WEINBAUM\",\"showlegend\":false,\"x\":[0.049089516799970305,0.05920955965518403],\"xaxis\":\"x2\",\"yaxis\":\"y2\",\"type\":\"box\"},{\"hovertemplate\":\"\\u003cb\\u003e%{hovertext}\\u003c\\u002fb\\u003e\\u003cbr\\u003e\\u003cbr\\u003elabel=DICK\\u003cbr\\u003ePC0=%{x}\\u003cbr\\u003ePC1=%{y}\\u003cextra\\u003e\\u003c\\u002fextra\\u003e\",\"hovertext\":[\"Beyond Lies the Wub\",\"Beyond Lies the Wub\",\"Beyond Lies the Wub\",\"Beyond Lies the Wub\",\"Beyond Lies the Wub\",\"The Eyes Have It\",\"The Eyes Have It\",\"Second Variety\",\"Second Variety\",\"Second Variety\",\"Second Variety\",\"Second Variety\",\"Second Variety\",\"Second Variety\",\"Second Variety\",\"Second Variety\",\"Second Variety\",\"Second Variety\",\"Second Variety\",\"Second Variety\",\"Second Variety\",\"Second Variety\",\"Second Variety\",\"Second Variety\",\"Second Variety\",\"Second Variety\",\"Second Variety\",\"Second Variety\",\"Second Variety\",\"Second Variety\",\"Second Variety\",\"Second Variety\",\"Second Variety\",\"Second Variety\",\"Second Variety\",\"Second Variety\",\"Second Variety\",\"Second Variety\",\"Second Variety\",\"Second Variety\",\"Second Variety\",\"Second Variety\",\"Second Variety\",\"Second Variety\",\"Second Variety\",\"Second Variety\",\"Second Variety\",\"Second Variety\",\"Second Variety\",\"Second Variety\",\"Second Variety\",\"Second Variety\",\"The Hanging Stranger\",\"The Hanging Stranger\",\"The Hanging Stranger\",\"The Hanging Stranger\",\"The Hanging Stranger\",\"The Hanging Stranger\",\"The Hanging Stranger\",\"The Hanging Stranger\"],\"legendgroup\":\"DICK\",\"marker\":{\"color\":\"#636efa\",\"symbol\":\"circle\"},\"mode\":\"markers\",\"name\":\"DICK\",\"orientation\":\"v\",\"showlegend\":true,\"x\":[0.05748485645365897,0.05683389741768669,0.048987836799805194,0.06618840851422643,0.04664333855968285,0.05736970224858088,0.06322083878630298,0.07834250023567355,0.07891489250937028,0.13170555844221254,0.09431441591885145,0.058894223186129774,0.07453749977260803,0.13743565370723798,0.12312070139243461,0.13606748381639686,0.11299172140804385,0.12297167925062426,0.1365264005047475,0.11299478247388403,0.1250336971554273,0.11832384756424329,0.1466220126210458,0.12802974123547997,0.12029057819677617,0.152120253784913,0.14111578228787894,0.16148013552654028,0.1504266740715773,0.15238893972060227,0.14144917314867494,0.16264402130425343,0.14638610595212842,0.15565747624141615,0.16668184869227265,0.14314390388837583,0.1157007885384974,0.1660488914664465,0.1553063023053299,0.16946315441218912,0.161036214690113,0.14445002194207637,0.13854434392110934,0.11932207062840887,0.15337885477262067,0.1213831287358541,0.1316955190902759,0.12874081205004487,0.15311755380060024,0.10480646260884975,0.1324419758746018,0.11808685285026942,0.07103503887716774,0.07364865098225161,0.07299497331265764,0.07377433576476776,0.0754717216611659,0.07125905124520718,0.06695746377935015,0.061911765016175346],\"xaxis\":\"x\",\"y\":[0.02536997612601669,0.019083423794919334,0.01905429124330782,0.02664366431443997,0.00950909014217394,0.03211377839291321,0.036978129936208796,0.0841747496218953,0.07374067542506954,0.1959388023351942,0.12181125739640725,0.006644412918286678,0.06542177000450662,0.22032973762388855,0.19724202525899653,0.22331799755746773,0.18153267746065863,0.19746334180956285,0.22862487715423924,0.1746992323962899,0.19104644617200678,0.18983921405437043,0.23827067140345978,0.21845804394890905,0.17392816922938628,0.2219067050085749,0.2151839035104461,0.26643081930746026,0.25638151517914354,0.25836397690157953,0.22260895502720027,0.2940873356840258,0.24392090875004543,0.27279151361982024,0.3035661087457562,0.23467455822649552,0.17604030249553446,0.2830675930232206,0.272777742028819,0.2829701422433433,0.2846512682699793,0.23480771901690195,0.2208115780154537,0.1502419027277594,0.24884110685636066,0.2003001119918999,0.22590366803933787,0.18608677818706088,0.2300053440661706,0.12267261133168259,0.21010429278904225,0.16304177087869118,0.04393042115976174,0.04754165591007224,0.04551475415941085,0.04760496439404147,0.04946922494729788,0.04853923839620108,0.03676577726389777,0.028668577311015648],\"yaxis\":\"y\",\"type\":\"scatter\"},{\"alignmentgroup\":\"True\",\"hovertemplate\":\"\\u003cb\\u003e%{hovertext}\\u003c\\u002fb\\u003e\\u003cbr\\u003e\\u003cbr\\u003elabel=DICK\\u003cbr\\u003ePC0=%{x}\\u003cextra\\u003e\\u003c\\u002fextra\\u003e\",\"hovertext\":[\"Beyond Lies the Wub\",\"Beyond Lies the Wub\",\"Beyond Lies the Wub\",\"Beyond Lies the Wub\",\"Beyond Lies the Wub\",\"The Eyes Have It\",\"The Eyes Have It\",\"Second Variety\",\"Second Variety\",\"Second Variety\",\"Second Variety\",\"Second Variety\",\"Second Variety\",\"Second Variety\",\"Second Variety\",\"Second Variety\",\"Second Variety\",\"Second Variety\",\"Second Variety\",\"Second Variety\",\"Second Variety\",\"Second Variety\",\"Second Variety\",\"Second Variety\",\"Second Variety\",\"Second Variety\",\"Second Variety\",\"Second Variety\",\"Second Variety\",\"Second Variety\",\"Second Variety\",\"Second Variety\",\"Second Variety\",\"Second Variety\",\"Second Variety\",\"Second Variety\",\"Second Variety\",\"Second Variety\",\"Second Variety\",\"Second Variety\",\"Second Variety\",\"Second Variety\",\"Second Variety\",\"Second Variety\",\"Second Variety\",\"Second Variety\",\"Second Variety\",\"Second Variety\",\"Second Variety\",\"Second Variety\",\"Second Variety\",\"Second Variety\",\"The Hanging Stranger\",\"The Hanging Stranger\",\"The Hanging Stranger\",\"The Hanging Stranger\",\"The Hanging Stranger\",\"The Hanging Stranger\",\"The Hanging Stranger\",\"The Hanging Stranger\"],\"legendgroup\":\"DICK\",\"marker\":{\"color\":\"#636efa\",\"symbol\":\"circle\"},\"name\":\"DICK\",\"notched\":true,\"offsetgroup\":\"DICK\",\"showlegend\":false,\"x\":[0.05748485645365897,0.05683389741768669,0.048987836799805194,0.06618840851422643,0.04664333855968285,0.05736970224858088,0.06322083878630298,0.07834250023567355,0.07891489250937028,0.13170555844221254,0.09431441591885145,0.058894223186129774,0.07453749977260803,0.13743565370723798,0.12312070139243461,0.13606748381639686,0.11299172140804385,0.12297167925062426,0.1365264005047475,0.11299478247388403,0.1250336971554273,0.11832384756424329,0.1466220126210458,0.12802974123547997,0.12029057819677617,0.152120253784913,0.14111578228787894,0.16148013552654028,0.1504266740715773,0.15238893972060227,0.14144917314867494,0.16264402130425343,0.14638610595212842,0.15565747624141615,0.16668184869227265,0.14314390388837583,0.1157007885384974,0.1660488914664465,0.1553063023053299,0.16946315441218912,0.161036214690113,0.14445002194207637,0.13854434392110934,0.11932207062840887,0.15337885477262067,0.1213831287358541,0.1316955190902759,0.12874081205004487,0.15311755380060024,0.10480646260884975,0.1324419758746018,0.11808685285026942,0.07103503887716774,0.07364865098225161,0.07299497331265764,0.07377433576476776,0.0754717216611659,0.07125905124520718,0.06695746377935015,0.061911765016175346],\"xaxis\":\"x2\",\"yaxis\":\"y2\",\"type\":\"box\"},{\"hovertemplate\":\"\\u003cb\\u003e%{hovertext}\\u003c\\u002fb\\u003e\\u003cbr\\u003e\\u003cbr\\u003elabel=LINEBARGER\\u003cbr\\u003ePC0=%{x}\\u003cbr\\u003ePC1=%{y}\\u003cextra\\u003e\\u003c\\u002fextra\\u003e\",\"hovertext\":[\"The Game of Rat and Dragon\",\"The Game of Rat and Dragon\",\"The Game of Rat and Dragon\"],\"legendgroup\":\"LINEBARGER\",\"marker\":{\"color\":\"#EF553B\",\"symbol\":\"circle\"},\"mode\":\"markers\",\"name\":\"LINEBARGER\",\"orientation\":\"v\",\"showlegend\":true,\"x\":[0.05701012802663123,0.07187591945099801,0.07826034756875672],\"xaxis\":\"x\",\"y\":[0.01595348745123026,0.03125512024020509,0.03855300226882525],\"yaxis\":\"y\",\"type\":\"scatter\"},{\"alignmentgroup\":\"True\",\"hovertemplate\":\"\\u003cb\\u003e%{hovertext}\\u003c\\u002fb\\u003e\\u003cbr\\u003e\\u003cbr\\u003elabel=LINEBARGER\\u003cbr\\u003ePC0=%{x}\\u003cextra\\u003e\\u003c\\u002fextra\\u003e\",\"hovertext\":[\"The Game of Rat and Dragon\",\"The Game of Rat and Dragon\",\"The Game of Rat and Dragon\"],\"legendgroup\":\"LINEBARGER\",\"marker\":{\"color\":\"#EF553B\",\"symbol\":\"circle\"},\"name\":\"LINEBARGER\",\"notched\":true,\"offsetgroup\":\"LINEBARGER\",\"showlegend\":false,\"x\":[0.05701012802663123,0.07187591945099801,0.07826034756875672],\"xaxis\":\"x2\",\"yaxis\":\"y2\",\"type\":\"box\"},{\"hovertemplate\":\"\\u003cb\\u003e%{hovertext}\\u003c\\u002fb\\u003e\\u003cbr\\u003e\\u003cbr\\u003elabel=HOWARD\\u003cbr\\u003ePC0=%{x}\\u003cbr\\u003ePC1=%{y}\\u003cextra\\u003e\\u003c\\u002fextra\\u003e\",\"hovertext\":[\"The Hour of the Dragon\",\"The Hour of the Dragon\",\"The Hour of the Dragon\",\"The Hour of the Dragon\",\"The Hour of the Dragon\",\"The Hour of the Dragon\",\"The Hour of the Dragon\",\"The Hour of the Dragon\",\"The Hour of the Dragon\",\"The Hour of the Dragon\",\"The Hour of the Dragon\",\"The Hour of the Dragon\",\"The Hour of the Dragon\",\"The Hour of the Dragon\",\"The Hour of the Dragon\",\"The Hour of the Dragon\",\"The Hour of the Dragon\",\"The Hour of the Dragon\",\"The Hour of the Dragon\",\"The Hour of the Dragon\",\"The Hour of the Dragon\",\"The Hour of the Dragon\"],\"legendgroup\":\"HOWARD\",\"marker\":{\"color\":\"#00cc96\",\"symbol\":\"circle\"},\"mode\":\"markers\",\"name\":\"HOWARD\",\"orientation\":\"v\",\"showlegend\":true,\"x\":[0.07570137750167663,0.07847566693482892,0.07843414883957286,0.09641462417251685,0.09872868012435268,0.09648156194333063,0.08806419692319492,0.07862639385973541,0.09278259243827507,0.08897053982108176,0.07220260058185428,0.07897848279964705,0.07170120232125109,0.07404346218660063,0.060780024360750314,0.05630388118829636,0.08086461241922914,0.10370854517891732,0.08829050647901167,0.07597722625004072,0.07141495106294446,0.07425116255632525],\"xaxis\":\"x\",\"y\":[0.04521678591990297,0.05017840758006189,0.05426782490441906,0.06912531067234388,0.07291067668288564,0.08036635194076276,0.07708847100096701,0.052169174995356796,0.06838575049661196,0.06040107625651563,0.046575551467249586,0.05762503190519995,0.04933748052931598,0.054636329573121235,0.04570514198835327,0.044453367846655656,0.05961989255093632,0.08035444731457626,0.05821811085800813,0.04746473478861105,0.05155005372708921,0.05298554707035271],\"yaxis\":\"y\",\"type\":\"scatter\"},{\"alignmentgroup\":\"True\",\"hovertemplate\":\"\\u003cb\\u003e%{hovertext}\\u003c\\u002fb\\u003e\\u003cbr\\u003e\\u003cbr\\u003elabel=HOWARD\\u003cbr\\u003ePC0=%{x}\\u003cextra\\u003e\\u003c\\u002fextra\\u003e\",\"hovertext\":[\"The Hour of the Dragon\",\"The Hour of the Dragon\",\"The Hour of the Dragon\",\"The Hour of the Dragon\",\"The Hour of the Dragon\",\"The Hour of the Dragon\",\"The Hour of the Dragon\",\"The Hour of the Dragon\",\"The Hour of the Dragon\",\"The Hour of the Dragon\",\"The Hour of the Dragon\",\"The Hour of the Dragon\",\"The Hour of the Dragon\",\"The Hour of the Dragon\",\"The Hour of the Dragon\",\"The Hour of the Dragon\",\"The Hour of the Dragon\",\"The Hour of the Dragon\",\"The Hour of the Dragon\",\"The Hour of the Dragon\",\"The Hour of the Dragon\",\"The Hour of the Dragon\"],\"legendgroup\":\"HOWARD\",\"marker\":{\"color\":\"#00cc96\",\"symbol\":\"circle\"},\"name\":\"HOWARD\",\"notched\":true,\"offsetgroup\":\"HOWARD\",\"showlegend\":false,\"x\":[0.07570137750167663,0.07847566693482892,0.07843414883957286,0.09641462417251685,0.09872868012435268,0.09648156194333063,0.08806419692319492,0.07862639385973541,0.09278259243827507,0.08897053982108176,0.07220260058185428,0.07897848279964705,0.07170120232125109,0.07404346218660063,0.060780024360750314,0.05630388118829636,0.08086461241922914,0.10370854517891732,0.08829050647901167,0.07597722625004072,0.07141495106294446,0.07425116255632525],\"xaxis\":\"x2\",\"yaxis\":\"y2\",\"type\":\"box\"},{\"hovertemplate\":\"\\u003cb\\u003e%{hovertext}\\u003c\\u002fb\\u003e\\u003cbr\\u003e\\u003cbr\\u003elabel=KORNBLUTH\\u003cbr\\u003ePC0=%{x}\\u003cbr\\u003ePC1=%{y}\\u003cextra\\u003e\\u003c\\u002fextra\\u003e\",\"hovertext\":[\"The Marching Morons\",\"The Marching Morons\",\"The Marching Morons\",\"The Marching Morons\",\"The Marching Morons\"],\"legendgroup\":\"KORNBLUTH\",\"marker\":{\"color\":\"#ab63fa\",\"symbol\":\"circle\"},\"mode\":\"markers\",\"name\":\"KORNBLUTH\",\"orientation\":\"v\",\"showlegend\":true,\"x\":[0.05396101478729789,0.06242128358823512,0.0651691048155936,0.0656607313691786,0.04998208384831872],\"xaxis\":\"x\",\"y\":[0.02875342516177428,0.027941736739038273,0.03488751128608539,0.026780603204919623,0.008513264778874756],\"yaxis\":\"y\",\"type\":\"scatter\"},{\"alignmentgroup\":\"True\",\"hovertemplate\":\"\\u003cb\\u003e%{hovertext}\\u003c\\u002fb\\u003e\\u003cbr\\u003e\\u003cbr\\u003elabel=KORNBLUTH\\u003cbr\\u003ePC0=%{x}\\u003cextra\\u003e\\u003c\\u002fextra\\u003e\",\"hovertext\":[\"The Marching Morons\",\"The Marching Morons\",\"The Marching Morons\",\"The Marching Morons\",\"The Marching Morons\"],\"legendgroup\":\"KORNBLUTH\",\"marker\":{\"color\":\"#ab63fa\",\"symbol\":\"circle\"},\"name\":\"KORNBLUTH\",\"notched\":true,\"offsetgroup\":\"KORNBLUTH\",\"showlegend\":false,\"x\":[0.05396101478729789,0.06242128358823512,0.0651691048155936,0.0656607313691786,0.04998208384831872],\"xaxis\":\"x2\",\"yaxis\":\"y2\",\"type\":\"box\"}],                        {\"template\":{\"data\":{\"histogram2dcontour\":[{\"type\":\"histogram2dcontour\",\"colorbar\":{\"outlinewidth\":0,\"ticks\":\"\"},\"colorscale\":[[0.0,\"#0d0887\"],[0.1111111111111111,\"#46039f\"],[0.2222222222222222,\"#7201a8\"],[0.3333333333333333,\"#9c179e\"],[0.4444444444444444,\"#bd3786\"],[0.5555555555555556,\"#d8576b\"],[0.6666666666666666,\"#ed7953\"],[0.7777777777777778,\"#fb9f3a\"],[0.8888888888888888,\"#fdca26\"],[1.0,\"#f0f921\"]]}],\"choropleth\":[{\"type\":\"choropleth\",\"colorbar\":{\"outlinewidth\":0,\"ticks\":\"\"}}],\"histogram2d\":[{\"type\":\"histogram2d\",\"colorbar\":{\"outlinewidth\":0,\"ticks\":\"\"},\"colorscale\":[[0.0,\"#0d0887\"],[0.1111111111111111,\"#46039f\"],[0.2222222222222222,\"#7201a8\"],[0.3333333333333333,\"#9c179e\"],[0.4444444444444444,\"#bd3786\"],[0.5555555555555556,\"#d8576b\"],[0.6666666666666666,\"#ed7953\"],[0.7777777777777778,\"#fb9f3a\"],[0.8888888888888888,\"#fdca26\"],[1.0,\"#f0f921\"]]}],\"heatmap\":[{\"type\":\"heatmap\",\"colorbar\":{\"outlinewidth\":0,\"ticks\":\"\"},\"colorscale\":[[0.0,\"#0d0887\"],[0.1111111111111111,\"#46039f\"],[0.2222222222222222,\"#7201a8\"],[0.3333333333333333,\"#9c179e\"],[0.4444444444444444,\"#bd3786\"],[0.5555555555555556,\"#d8576b\"],[0.6666666666666666,\"#ed7953\"],[0.7777777777777778,\"#fb9f3a\"],[0.8888888888888888,\"#fdca26\"],[1.0,\"#f0f921\"]]}],\"heatmapgl\":[{\"type\":\"heatmapgl\",\"colorbar\":{\"outlinewidth\":0,\"ticks\":\"\"},\"colorscale\":[[0.0,\"#0d0887\"],[0.1111111111111111,\"#46039f\"],[0.2222222222222222,\"#7201a8\"],[0.3333333333333333,\"#9c179e\"],[0.4444444444444444,\"#bd3786\"],[0.5555555555555556,\"#d8576b\"],[0.6666666666666666,\"#ed7953\"],[0.7777777777777778,\"#fb9f3a\"],[0.8888888888888888,\"#fdca26\"],[1.0,\"#f0f921\"]]}],\"contourcarpet\":[{\"type\":\"contourcarpet\",\"colorbar\":{\"outlinewidth\":0,\"ticks\":\"\"}}],\"contour\":[{\"type\":\"contour\",\"colorbar\":{\"outlinewidth\":0,\"ticks\":\"\"},\"colorscale\":[[0.0,\"#0d0887\"],[0.1111111111111111,\"#46039f\"],[0.2222222222222222,\"#7201a8\"],[0.3333333333333333,\"#9c179e\"],[0.4444444444444444,\"#bd3786\"],[0.5555555555555556,\"#d8576b\"],[0.6666666666666666,\"#ed7953\"],[0.7777777777777778,\"#fb9f3a\"],[0.8888888888888888,\"#fdca26\"],[1.0,\"#f0f921\"]]}],\"surface\":[{\"type\":\"surface\",\"colorbar\":{\"outlinewidth\":0,\"ticks\":\"\"},\"colorscale\":[[0.0,\"#0d0887\"],[0.1111111111111111,\"#46039f\"],[0.2222222222222222,\"#7201a8\"],[0.3333333333333333,\"#9c179e\"],[0.4444444444444444,\"#bd3786\"],[0.5555555555555556,\"#d8576b\"],[0.6666666666666666,\"#ed7953\"],[0.7777777777777778,\"#fb9f3a\"],[0.8888888888888888,\"#fdca26\"],[1.0,\"#f0f921\"]]}],\"mesh3d\":[{\"type\":\"mesh3d\",\"colorbar\":{\"outlinewidth\":0,\"ticks\":\"\"}}],\"scatter\":[{\"fillpattern\":{\"fillmode\":\"overlay\",\"size\":10,\"solidity\":0.2},\"type\":\"scatter\"}],\"parcoords\":[{\"type\":\"parcoords\",\"line\":{\"colorbar\":{\"outlinewidth\":0,\"ticks\":\"\"}}}],\"scatterpolargl\":[{\"type\":\"scatterpolargl\",\"marker\":{\"colorbar\":{\"outlinewidth\":0,\"ticks\":\"\"}}}],\"bar\":[{\"error_x\":{\"color\":\"#2a3f5f\"},\"error_y\":{\"color\":\"#2a3f5f\"},\"marker\":{\"line\":{\"color\":\"#E5ECF6\",\"width\":0.5},\"pattern\":{\"fillmode\":\"overlay\",\"size\":10,\"solidity\":0.2}},\"type\":\"bar\"}],\"scattergeo\":[{\"type\":\"scattergeo\",\"marker\":{\"colorbar\":{\"outlinewidth\":0,\"ticks\":\"\"}}}],\"scatterpolar\":[{\"type\":\"scatterpolar\",\"marker\":{\"colorbar\":{\"outlinewidth\":0,\"ticks\":\"\"}}}],\"histogram\":[{\"marker\":{\"pattern\":{\"fillmode\":\"overlay\",\"size\":10,\"solidity\":0.2}},\"type\":\"histogram\"}],\"scattergl\":[{\"type\":\"scattergl\",\"marker\":{\"colorbar\":{\"outlinewidth\":0,\"ticks\":\"\"}}}],\"scatter3d\":[{\"type\":\"scatter3d\",\"line\":{\"colorbar\":{\"outlinewidth\":0,\"ticks\":\"\"}},\"marker\":{\"colorbar\":{\"outlinewidth\":0,\"ticks\":\"\"}}}],\"scattermapbox\":[{\"type\":\"scattermapbox\",\"marker\":{\"colorbar\":{\"outlinewidth\":0,\"ticks\":\"\"}}}],\"scatterternary\":[{\"type\":\"scatterternary\",\"marker\":{\"colorbar\":{\"outlinewidth\":0,\"ticks\":\"\"}}}],\"scattercarpet\":[{\"type\":\"scattercarpet\",\"marker\":{\"colorbar\":{\"outlinewidth\":0,\"ticks\":\"\"}}}],\"carpet\":[{\"aaxis\":{\"endlinecolor\":\"#2a3f5f\",\"gridcolor\":\"white\",\"linecolor\":\"white\",\"minorgridcolor\":\"white\",\"startlinecolor\":\"#2a3f5f\"},\"baxis\":{\"endlinecolor\":\"#2a3f5f\",\"gridcolor\":\"white\",\"linecolor\":\"white\",\"minorgridcolor\":\"white\",\"startlinecolor\":\"#2a3f5f\"},\"type\":\"carpet\"}],\"table\":[{\"cells\":{\"fill\":{\"color\":\"#EBF0F8\"},\"line\":{\"color\":\"white\"}},\"header\":{\"fill\":{\"color\":\"#C8D4E3\"},\"line\":{\"color\":\"white\"}},\"type\":\"table\"}],\"barpolar\":[{\"marker\":{\"line\":{\"color\":\"#E5ECF6\",\"width\":0.5},\"pattern\":{\"fillmode\":\"overlay\",\"size\":10,\"solidity\":0.2}},\"type\":\"barpolar\"}],\"pie\":[{\"automargin\":true,\"type\":\"pie\"}]},\"layout\":{\"autotypenumbers\":\"strict\",\"colorway\":[\"#636efa\",\"#EF553B\",\"#00cc96\",\"#ab63fa\",\"#FFA15A\",\"#19d3f3\",\"#FF6692\",\"#B6E880\",\"#FF97FF\",\"#FECB52\"],\"font\":{\"color\":\"#2a3f5f\"},\"hovermode\":\"closest\",\"hoverlabel\":{\"align\":\"left\"},\"paper_bgcolor\":\"white\",\"plot_bgcolor\":\"#E5ECF6\",\"polar\":{\"bgcolor\":\"#E5ECF6\",\"angularaxis\":{\"gridcolor\":\"white\",\"linecolor\":\"white\",\"ticks\":\"\"},\"radialaxis\":{\"gridcolor\":\"white\",\"linecolor\":\"white\",\"ticks\":\"\"}},\"ternary\":{\"bgcolor\":\"#E5ECF6\",\"aaxis\":{\"gridcolor\":\"white\",\"linecolor\":\"white\",\"ticks\":\"\"},\"baxis\":{\"gridcolor\":\"white\",\"linecolor\":\"white\",\"ticks\":\"\"},\"caxis\":{\"gridcolor\":\"white\",\"linecolor\":\"white\",\"ticks\":\"\"}},\"coloraxis\":{\"colorbar\":{\"outlinewidth\":0,\"ticks\":\"\"}},\"colorscale\":{\"sequential\":[[0.0,\"#0d0887\"],[0.1111111111111111,\"#46039f\"],[0.2222222222222222,\"#7201a8\"],[0.3333333333333333,\"#9c179e\"],[0.4444444444444444,\"#bd3786\"],[0.5555555555555556,\"#d8576b\"],[0.6666666666666666,\"#ed7953\"],[0.7777777777777778,\"#fb9f3a\"],[0.8888888888888888,\"#fdca26\"],[1.0,\"#f0f921\"]],\"sequentialminus\":[[0.0,\"#0d0887\"],[0.1111111111111111,\"#46039f\"],[0.2222222222222222,\"#7201a8\"],[0.3333333333333333,\"#9c179e\"],[0.4444444444444444,\"#bd3786\"],[0.5555555555555556,\"#d8576b\"],[0.6666666666666666,\"#ed7953\"],[0.7777777777777778,\"#fb9f3a\"],[0.8888888888888888,\"#fdca26\"],[1.0,\"#f0f921\"]],\"diverging\":[[0,\"#8e0152\"],[0.1,\"#c51b7d\"],[0.2,\"#de77ae\"],[0.3,\"#f1b6da\"],[0.4,\"#fde0ef\"],[0.5,\"#f7f7f7\"],[0.6,\"#e6f5d0\"],[0.7,\"#b8e186\"],[0.8,\"#7fbc41\"],[0.9,\"#4d9221\"],[1,\"#276419\"]]},\"xaxis\":{\"gridcolor\":\"white\",\"linecolor\":\"white\",\"ticks\":\"\",\"title\":{\"standoff\":15},\"zerolinecolor\":\"white\",\"automargin\":true,\"zerolinewidth\":2},\"yaxis\":{\"gridcolor\":\"white\",\"linecolor\":\"white\",\"ticks\":\"\",\"title\":{\"standoff\":15},\"zerolinecolor\":\"white\",\"automargin\":true,\"zerolinewidth\":2},\"scene\":{\"xaxis\":{\"backgroundcolor\":\"#E5ECF6\",\"gridcolor\":\"white\",\"linecolor\":\"white\",\"showbackground\":true,\"ticks\":\"\",\"zerolinecolor\":\"white\",\"gridwidth\":2},\"yaxis\":{\"backgroundcolor\":\"#E5ECF6\",\"gridcolor\":\"white\",\"linecolor\":\"white\",\"showbackground\":true,\"ticks\":\"\",\"zerolinecolor\":\"white\",\"gridwidth\":2},\"zaxis\":{\"backgroundcolor\":\"#E5ECF6\",\"gridcolor\":\"white\",\"linecolor\":\"white\",\"showbackground\":true,\"ticks\":\"\",\"zerolinecolor\":\"white\",\"gridwidth\":2}},\"shapedefaults\":{\"line\":{\"color\":\"#2a3f5f\"}},\"annotationdefaults\":{\"arrowcolor\":\"#2a3f5f\",\"arrowhead\":0,\"arrowwidth\":1},\"geo\":{\"bgcolor\":\"white\",\"landcolor\":\"#E5ECF6\",\"subunitcolor\":\"white\",\"showland\":true,\"showlakes\":true,\"lakecolor\":\"white\"},\"title\":{\"x\":0.05},\"mapbox\":{\"style\":\"light\"}}},\"xaxis\":{\"anchor\":\"y\",\"domain\":[0.0,1.0],\"title\":{\"text\":\"PC0\"}},\"yaxis\":{\"anchor\":\"x\",\"domain\":[0.0,0.7326],\"title\":{\"text\":\"PC1\"}},\"xaxis2\":{\"anchor\":\"y2\",\"domain\":[0.0,1.0],\"matches\":\"x\",\"showticklabels\":false,\"showgrid\":true},\"yaxis2\":{\"anchor\":\"x2\",\"domain\":[0.7426,1.0],\"matches\":\"y2\",\"showticklabels\":false,\"showline\":false,\"ticks\":\"\",\"showgrid\":false},\"legend\":{\"title\":{\"text\":\"label\"},\"tracegroupgap\":0},\"margin\":{\"t\":60}},                        {\"responsive\": true}                    ).then(function(){\n",
              "                            \n",
              "var gd = document.getElementById('7c53f9b0-b5c4-4bbc-b002-75b72a966d6e');\n",
              "var x = new MutationObserver(function (mutations, observer) {{\n",
              "        var display = window.getComputedStyle(gd).display;\n",
              "        if (!display || display === 'none') {{\n",
              "            console.log([gd, 'removed!']);\n",
              "            Plotly.purge(gd);\n",
              "            observer.disconnect();\n",
              "        }}\n",
              "}});\n",
              "\n",
              "// Listen for the removal of the full notebook cells\n",
              "var notebookContainer = gd.closest('#notebook-container');\n",
              "if (notebookContainer) {{\n",
              "    x.observe(notebookContainer, {childList: true});\n",
              "}}\n",
              "\n",
              "// Listen for the clearing of the current output cell\n",
              "var outputEl = gd.closest('.output');\n",
              "if (outputEl) {{\n",
              "    x.observe(outputEl, {childList: true});\n",
              "}}\n",
              "\n",
              "                        })                };                            </script>        </div>\n",
              "</body>\n",
              "</html>"
            ]
          },
          "metadata": {}
        }
      ],
      "source": [
        "vis_pcs(DCM_c, 0, 1)"
      ]
    },
    {
      "cell_type": "markdown",
      "metadata": {
        "id": "G0PS1CS-n7KG"
      },
      "source": [
        "## Chaps, PC 1 and 2"
      ]
    },
    {
      "cell_type": "code",
      "execution_count": null,
      "metadata": {
        "id": "SZlN7oH0n7KG",
        "colab": {
          "base_uri": "https://localhost:8080/",
          "height": 562
        },
        "outputId": "7bf2360c-06b6-4665-b016-d33274a0a39d"
      },
      "outputs": [
        {
          "output_type": "display_data",
          "data": {
            "text/html": [
              "<html>\n",
              "<head><meta charset=\"utf-8\" /></head>\n",
              "<body>\n",
              "    <div>            <script src=\"https://cdnjs.cloudflare.com/ajax/libs/mathjax/2.7.5/MathJax.js?config=TeX-AMS-MML_SVG\"></script><script type=\"text/javascript\">if (window.MathJax && window.MathJax.Hub && window.MathJax.Hub.Config) {window.MathJax.Hub.Config({SVG: {font: \"STIX-Web\"}});}</script>                <script type=\"text/javascript\">window.PlotlyConfig = {MathJaxConfig: 'local'};</script>\n",
              "        <script charset=\"utf-8\" src=\"https://cdn.plot.ly/plotly-2.24.1.min.js\"></script>                <div id=\"65d8b3db-0023-4c21-99ec-90ae3afa675d\" class=\"plotly-graph-div\" style=\"height:525px; width:100%;\"></div>            <script type=\"text/javascript\">                                    window.PLOTLYENV=window.PLOTLYENV || {};                                    if (document.getElementById(\"65d8b3db-0023-4c21-99ec-90ae3afa675d\")) {                    Plotly.newPlot(                        \"65d8b3db-0023-4c21-99ec-90ae3afa675d\",                        [{\"hovertemplate\":\"\\u003cb\\u003e%{hovertext}\\u003c\\u002fb\\u003e\\u003cbr\\u003e\\u003cbr\\u003elabel=WELLS\\u003cbr\\u003ePC1=%{x}\\u003cbr\\u003ePC2=%{y}\\u003cextra\\u003e\\u003c\\u002fextra\\u003e\",\"hovertext\":[\"The Time Machine\",\"The Time Machine\",\"The Time Machine\",\"The Time Machine\",\"The Time Machine\",\"The Time Machine\",\"The Time Machine\",\"The Time Machine\",\"The Time Machine\",\"The Time Machine\",\"The Time Machine\",\"The Time Machine\",\"The Time Machine\",\"The Time Machine\",\"The Time Machine\",\"The Time Machine\",\"The War of the Worlds\",\"The War of the Worlds\",\"The War of the Worlds\",\"The War of the Worlds\",\"The War of the Worlds\",\"The War of the Worlds\",\"The War of the Worlds\",\"The War of the Worlds\",\"The War of the Worlds\",\"The War of the Worlds\",\"The War of the Worlds\",\"The War of the Worlds\",\"The War of the Worlds\",\"The War of the Worlds\",\"The War of the Worlds\",\"The War of the Worlds\",\"The War of the Worlds\",\"The War of the Worlds\",\"The War of the Worlds\",\"The War of the Worlds\",\"The War of the Worlds\",\"The War of the Worlds\",\"The War of the Worlds\",\"The War of the Worlds\",\"The War of the Worlds\",\"The War of the Worlds\",\"The War of the Worlds\",\"The island of Doctor Moreau\",\"The island of Doctor Moreau\",\"The island of Doctor Moreau\",\"The island of Doctor Moreau\",\"The island of Doctor Moreau\",\"The island of Doctor Moreau\",\"The island of Doctor Moreau\",\"The island of Doctor Moreau\",\"The island of Doctor Moreau\",\"The island of Doctor Moreau\",\"The island of Doctor Moreau\",\"The island of Doctor Moreau\",\"The island of Doctor Moreau\",\"The island of Doctor Moreau\",\"The island of Doctor Moreau\",\"The island of Doctor Moreau\",\"The island of Doctor Moreau\",\"The island of Doctor Moreau\",\"The island of Doctor Moreau\",\"The island of Doctor Moreau\",\"The island of Doctor Moreau\",\"The island of Doctor Moreau\",\"The Country of the Blind, and Other Stories\",\"The Country of the Blind, and Other Stories\",\"The Country of the Blind, and Other Stories\",\"The Country of the Blind, and Other Stories\",\"The Country of the Blind, and Other Stories\",\"The Country of the Blind, and Other Stories\",\"The Country of the Blind, and Other Stories\",\"The Country of the Blind, and Other Stories\",\"The Country of the Blind, and Other Stories\",\"The Country of the Blind, and Other Stories\",\"The Country of the Blind, and Other Stories\",\"The Country of the Blind, and Other Stories\",\"The Country of the Blind, and Other Stories\",\"The Country of the Blind, and Other Stories\",\"The Country of the Blind, and Other Stories\",\"The Country of the Blind, and Other Stories\",\"The Country of the Blind, and Other Stories\",\"The Country of the Blind, and Other Stories\",\"The Country of the Blind, and Other Stories\",\"The Country of the Blind, and Other Stories\",\"The Country of the Blind, and Other Stories\",\"The Country of the Blind, and Other Stories\",\"The Country of the Blind, and Other Stories\",\"The Country of the Blind, and Other Stories\",\"The Country of the Blind, and Other Stories\",\"The Country of the Blind, and Other Stories\",\"The Country of the Blind, and Other Stories\",\"The Country of the Blind, and Other Stories\",\"The Country of the Blind, and Other Stories\",\"The Country of the Blind, and Other Stories\",\"The Country of the Blind, and Other Stories\",\"The Country of the Blind, and Other Stories\",\"The Country of the Blind, and Other Stories\",\"The Country of the Blind, and Other Stories\",\"The Country of the Blind, and Other Stories\",\"The Country of the Blind, and Other Stories\",\"The Country of the Blind, and Other Stories\",\"The Country of the Blind, and Other Stories\",\"The Country of the Blind, and Other Stories\",\"The Country of the Blind, and Other Stories\",\"The Country of the Blind, and Other Stories\",\"The Country of the Blind, and Other Stories\",\"The Country of the Blind, and Other Stories\",\"The Country of the Blind, and Other Stories\",\"The Country of the Blind, and Other Stories\",\"The Country of the Blind, and Other Stories\",\"The Country of the Blind, and Other Stories\",\"The Country of the Blind, and Other Stories\",\"The Country of the Blind, and Other Stories\",\"The Country of the Blind, and Other Stories\",\"The Country of the Blind, and Other Stories\",\"The Country of the Blind, and Other Stories\",\"The Country of the Blind, and Other Stories\",\"The Country of the Blind, and Other Stories\",\"The Country of the Blind, and Other Stories\",\"The Country of the Blind, and Other Stories\",\"The Country of the Blind, and Other Stories\"],\"legendgroup\":\"WELLS\",\"marker\":{\"color\":\"#636efa\",\"symbol\":\"circle\"},\"mode\":\"markers\",\"name\":\"WELLS\",\"orientation\":\"v\",\"showlegend\":true,\"x\":[-0.001387278814979942,0.02586146924428915,0.03295643101734198,0.029356530436933877,0.024327204753276415,0.01585711494598918,0.02744145107486708,0.03540318565845593,0.034029589606245844,0.02712779644639392,0.023741131308637285,0.0452345989173651,0.02692433539021891,0.006487201313644771,0.029306372812153324,0.04176795158932126,-0.018628158769544326,0.010317172408668205,0.019036334598383633,0.031605191579926785,0.03648344502086922,0.021696227194191408,0.028146003901978748,0.02195149499072013,0.04892789173145735,0.047332812383372905,0.05191936078975923,0.036126205838153465,0.03324973494474766,0.02693753783196526,0.010309582819915472,0.04344532878082082,0.023590110991987916,0.041771793714516184,0.005594086761156335,0.029028309619957886,0.04478118500042848,0.039079881113710004,0.02825264599362519,0.06005213499044375,0.03414633750308006,0.03652350107144539,0.007693880681730218,0.023961050648120073,0.034642123290944724,0.039124285520328816,0.03251771245700939,0.03586450145923563,0.043386428063939775,0.04540457470029653,0.045348337281930017,0.04802028010956941,0.05979735247465293,0.0584799212188597,0.04938825384580331,0.05885673070342821,0.03592857072279378,0.03827658157693312,0.056803583600126634,0.06644921576383724,0.060883806229153764,0.06631279591929629,0.05629744534273139,0.041560086930428015,0.031510648410007745,0.030494316005196042,0.026600271769254696,0.03181383591071628,0.040994253814513125,0.014063589925821754,0.04096602458549033,0.014939934133707613,0.04174636334836065,0.03148103618058274,0.02526701785196845,0.028322217399025563,0.020829310809276018,0.023837759852726993,0.019774614898990486,0.026698755120227832,0.03610274355599699,0.0013349325357100664,0.013089042322064485,0.017169864097526553,0.018480596661695086,0.006381155618217093,0.03376216872194268,0.017000725846820497,0.04310872008021,0.03350973377827514,0.0260942092645992,0.019312854422644514,-0.032256364840901636,0.019267274806469843,0.016936430927611833,0.017154124087021588,0.019519955893042066,0.029447099564797755,0.024380934026159477,0.03157119920097872,0.02932266115860636,0.027354060485025696,0.023164826880417964,0.0219433794026562,0.04547509377964409,0.0326961895728809,0.0644275245915002,0.04410453505476418,0.01718930770562823,0.022385637623816804,0.024719754570390575,0.023530507680891644,0.017886762329381287,0.015303023425074891,0.0031981371833108554,0.03310961861296528,0.04863513319145657,0.03437866908900581,0.0302336700402451,0.02358991768272137,0.041780635065669855,0.028507766119119943],\"xaxis\":\"x\",\"y\":[-0.004007273909697512,-0.0017902074262150839,-0.009455118905324219,-0.05648660446605718,-0.06193962791053032,-0.04857878461435145,-0.06272783149615745,-0.09982570641525605,-0.07067628540407539,-0.06108221241355673,-0.06831525142072081,-0.06186774600330503,-0.03180653594962233,-0.04712244552162024,-0.026466952089680962,-0.03987582725688102,-0.03689272021570573,-0.007624980366588264,-0.016682473123886914,-0.026718675526785363,-0.05007359004346236,-0.00765881015254281,-0.05502520715558146,-0.007420835714661859,-0.03891632289471714,-0.052793523098844816,-0.038136367381286014,-0.052507041904322434,-0.04460832445494971,-0.033985982248462866,-0.02802801269448774,-0.03507028300805612,-0.05310844810612222,-0.05345031653174125,-0.058007484429941025,-0.04919229758070489,-0.0453162420847156,-0.03515156663542077,-0.03214074707510256,-0.0504640371336833,-0.03251774612487775,-0.05925557686231426,-0.03591909974080466,-0.03006929307148308,-0.027617814560627063,-0.03706983130986533,-0.048362891694075184,-0.03472407286393621,-0.04366861234542416,-0.04314727931146002,-0.03290555648261254,-0.09477950180732735,-0.060481605416500585,-0.08506182029026542,-0.06888736977014165,-0.04027340388028672,-0.06213342776106283,-0.055298330955251,-0.05527604638655954,-0.049370106638927075,-0.042204357739246676,-0.0446515327468103,-0.06265939430141466,-0.09803237574951573,-0.05865861631825828,0.010055659787820435,0.00907693691051022,-0.007886402236196766,-0.018553161837691234,-0.001689611125906882,-0.04490529125892953,0.031888083192932334,0.007882057153666097,0.022410010202178626,-0.02486507355068461,0.0017628508076128597,0.010463708373050091,0.012715844681816937,0.010563430921832638,0.006934605620207632,-0.09324719596767572,-0.0817037314950754,0.029413667167966524,-0.02109689071969111,-0.011353235300251261,-0.011393209258953952,-0.04253803560246703,-0.0291790069786958,-0.06285624709835466,0.009871971119726054,-0.01982119529953028,-0.022503375462752696,-0.03098081932044437,0.014548387833802629,0.028903623128996695,0.032874497687165424,0.0053789008477505475,0.021741916376506274,0.013316181097037994,-0.0028136597775736266,0.017255417620266975,0.026128824188694326,0.00605198181478629,0.0056335589784433536,-0.03296514718567871,-0.0026795394169096733,-0.12261594791865756,-0.0450179915443798,-0.016306353132951666,-0.00743903827041041,0.007085037357198261,0.009121042400064968,0.0020183507903320866,0.0063117658592966065,0.01148540656231535,0.011136007026839532,-0.07394570320110248,-0.01684518148333604,-0.04482680781415422,-0.012304341903475556,-0.057676446277490204,-0.02037292117362248],\"yaxis\":\"y\",\"type\":\"scatter\"},{\"alignmentgroup\":\"True\",\"hovertemplate\":\"\\u003cb\\u003e%{hovertext}\\u003c\\u002fb\\u003e\\u003cbr\\u003e\\u003cbr\\u003elabel=WELLS\\u003cbr\\u003ePC1=%{x}\\u003cextra\\u003e\\u003c\\u002fextra\\u003e\",\"hovertext\":[\"The Time Machine\",\"The Time Machine\",\"The Time Machine\",\"The Time Machine\",\"The Time Machine\",\"The Time Machine\",\"The Time Machine\",\"The Time Machine\",\"The Time Machine\",\"The Time Machine\",\"The Time Machine\",\"The Time Machine\",\"The Time Machine\",\"The Time Machine\",\"The Time Machine\",\"The Time Machine\",\"The War of the Worlds\",\"The War of the Worlds\",\"The War of the Worlds\",\"The War of the Worlds\",\"The War of the Worlds\",\"The War of the Worlds\",\"The War of the Worlds\",\"The War of the Worlds\",\"The War of the Worlds\",\"The War of the Worlds\",\"The War of the Worlds\",\"The War of the Worlds\",\"The War of the Worlds\",\"The War of the Worlds\",\"The War of the Worlds\",\"The War of the Worlds\",\"The War of the Worlds\",\"The War of the Worlds\",\"The War of the Worlds\",\"The War of the Worlds\",\"The War of the Worlds\",\"The War of the Worlds\",\"The War of the Worlds\",\"The War of the Worlds\",\"The War of the Worlds\",\"The War of the Worlds\",\"The War of the Worlds\",\"The island of Doctor Moreau\",\"The island of Doctor Moreau\",\"The island of Doctor Moreau\",\"The island of Doctor Moreau\",\"The island of Doctor Moreau\",\"The island of Doctor Moreau\",\"The island of Doctor Moreau\",\"The island of Doctor Moreau\",\"The island of Doctor Moreau\",\"The island of Doctor Moreau\",\"The island of Doctor Moreau\",\"The island of Doctor Moreau\",\"The island of Doctor Moreau\",\"The island of Doctor Moreau\",\"The island of Doctor Moreau\",\"The island of Doctor Moreau\",\"The island of Doctor Moreau\",\"The island of Doctor Moreau\",\"The island of Doctor Moreau\",\"The island of Doctor Moreau\",\"The island of Doctor Moreau\",\"The island of Doctor Moreau\",\"The Country of the Blind, and Other Stories\",\"The Country of the Blind, and Other Stories\",\"The Country of the Blind, and Other Stories\",\"The Country of the Blind, and Other Stories\",\"The Country of the Blind, and Other Stories\",\"The Country of the Blind, and Other Stories\",\"The Country of the Blind, and Other Stories\",\"The Country of the Blind, and Other Stories\",\"The Country of the Blind, and Other Stories\",\"The Country of the Blind, and Other Stories\",\"The Country of the Blind, and Other Stories\",\"The Country of the Blind, and Other Stories\",\"The Country of the Blind, and Other Stories\",\"The Country of the Blind, and Other Stories\",\"The Country of the Blind, and Other Stories\",\"The Country of the Blind, and Other Stories\",\"The Country of the Blind, and Other Stories\",\"The Country of the Blind, and Other Stories\",\"The Country of the Blind, and Other Stories\",\"The Country of the Blind, and Other Stories\",\"The Country of the Blind, and Other Stories\",\"The Country of the Blind, and Other Stories\",\"The Country of the Blind, and Other Stories\",\"The Country of the Blind, and Other Stories\",\"The Country of the Blind, and Other Stories\",\"The Country of the Blind, and Other Stories\",\"The Country of the Blind, and Other Stories\",\"The Country of the Blind, and Other Stories\",\"The Country of the Blind, and Other Stories\",\"The Country of the Blind, and Other Stories\",\"The Country of the Blind, and Other Stories\",\"The Country of the Blind, and Other Stories\",\"The Country of the Blind, and Other Stories\",\"The Country of the Blind, and Other Stories\",\"The Country of the Blind, and Other Stories\",\"The Country of the Blind, and Other Stories\",\"The Country of the Blind, and Other Stories\",\"The Country of the Blind, and Other Stories\",\"The Country of the Blind, and Other Stories\",\"The Country of the Blind, and Other Stories\",\"The Country of the Blind, and Other Stories\",\"The Country of the Blind, and Other Stories\",\"The Country of the Blind, and Other Stories\",\"The Country of the Blind, and Other Stories\",\"The Country of the Blind, and Other Stories\",\"The Country of the Blind, and Other Stories\",\"The Country of the Blind, and Other Stories\",\"The Country of the Blind, and Other Stories\",\"The Country of the Blind, and Other Stories\",\"The Country of the Blind, and Other Stories\",\"The Country of the Blind, and Other Stories\",\"The Country of the Blind, and Other Stories\",\"The Country of the Blind, and Other Stories\",\"The Country of the Blind, and Other Stories\",\"The Country of the Blind, and Other Stories\",\"The Country of the Blind, and Other Stories\",\"The Country of the Blind, and Other Stories\"],\"legendgroup\":\"WELLS\",\"marker\":{\"color\":\"#636efa\",\"symbol\":\"circle\"},\"name\":\"WELLS\",\"notched\":true,\"offsetgroup\":\"WELLS\",\"showlegend\":false,\"x\":[-0.001387278814979942,0.02586146924428915,0.03295643101734198,0.029356530436933877,0.024327204753276415,0.01585711494598918,0.02744145107486708,0.03540318565845593,0.034029589606245844,0.02712779644639392,0.023741131308637285,0.0452345989173651,0.02692433539021891,0.006487201313644771,0.029306372812153324,0.04176795158932126,-0.018628158769544326,0.010317172408668205,0.019036334598383633,0.031605191579926785,0.03648344502086922,0.021696227194191408,0.028146003901978748,0.02195149499072013,0.04892789173145735,0.047332812383372905,0.05191936078975923,0.036126205838153465,0.03324973494474766,0.02693753783196526,0.010309582819915472,0.04344532878082082,0.023590110991987916,0.041771793714516184,0.005594086761156335,0.029028309619957886,0.04478118500042848,0.039079881113710004,0.02825264599362519,0.06005213499044375,0.03414633750308006,0.03652350107144539,0.007693880681730218,0.023961050648120073,0.034642123290944724,0.039124285520328816,0.03251771245700939,0.03586450145923563,0.043386428063939775,0.04540457470029653,0.045348337281930017,0.04802028010956941,0.05979735247465293,0.0584799212188597,0.04938825384580331,0.05885673070342821,0.03592857072279378,0.03827658157693312,0.056803583600126634,0.06644921576383724,0.060883806229153764,0.06631279591929629,0.05629744534273139,0.041560086930428015,0.031510648410007745,0.030494316005196042,0.026600271769254696,0.03181383591071628,0.040994253814513125,0.014063589925821754,0.04096602458549033,0.014939934133707613,0.04174636334836065,0.03148103618058274,0.02526701785196845,0.028322217399025563,0.020829310809276018,0.023837759852726993,0.019774614898990486,0.026698755120227832,0.03610274355599699,0.0013349325357100664,0.013089042322064485,0.017169864097526553,0.018480596661695086,0.006381155618217093,0.03376216872194268,0.017000725846820497,0.04310872008021,0.03350973377827514,0.0260942092645992,0.019312854422644514,-0.032256364840901636,0.019267274806469843,0.016936430927611833,0.017154124087021588,0.019519955893042066,0.029447099564797755,0.024380934026159477,0.03157119920097872,0.02932266115860636,0.027354060485025696,0.023164826880417964,0.0219433794026562,0.04547509377964409,0.0326961895728809,0.0644275245915002,0.04410453505476418,0.01718930770562823,0.022385637623816804,0.024719754570390575,0.023530507680891644,0.017886762329381287,0.015303023425074891,0.0031981371833108554,0.03310961861296528,0.04863513319145657,0.03437866908900581,0.0302336700402451,0.02358991768272137,0.041780635065669855,0.028507766119119943],\"xaxis\":\"x2\",\"yaxis\":\"y2\",\"type\":\"box\"},{\"hovertemplate\":\"\\u003cb\\u003e%{hovertext}\\u003c\\u002fb\\u003e\\u003cbr\\u003e\\u003cbr\\u003elabel=BURROUGHS\\u003cbr\\u003ePC1=%{x}\\u003cbr\\u003ePC2=%{y}\\u003cextra\\u003e\\u003c\\u002fextra\\u003e\",\"hovertext\":[\"A Princess of Mars\",\"A Princess of Mars\",\"A Princess of Mars\",\"A Princess of Mars\",\"A Princess of Mars\",\"A Princess of Mars\",\"A Princess of Mars\",\"A Princess of Mars\",\"A Princess of Mars\",\"A Princess of Mars\",\"A Princess of Mars\",\"A Princess of Mars\",\"A Princess of Mars\",\"A Princess of Mars\",\"A Princess of Mars\",\"A Princess of Mars\",\"A Princess of Mars\",\"A Princess of Mars\",\"A Princess of Mars\",\"A Princess of Mars\",\"A Princess of Mars\",\"A Princess of Mars\",\"A Princess of Mars\",\"A Princess of Mars\",\"A Princess of Mars\",\"A Princess of Mars\",\"A Princess of Mars\",\"A Princess of Mars\",\"The Gods of Mars\",\"The Gods of Mars\",\"The Gods of Mars\",\"The Gods of Mars\",\"The Gods of Mars\",\"The Gods of Mars\",\"The Gods of Mars\",\"The Gods of Mars\",\"The Gods of Mars\",\"The Gods of Mars\",\"The Gods of Mars\",\"The Gods of Mars\",\"The Gods of Mars\",\"The Gods of Mars\",\"The Gods of Mars\",\"The Gods of Mars\",\"The Gods of Mars\",\"The Gods of Mars\",\"The Gods of Mars\",\"The Gods of Mars\",\"The Gods of Mars\",\"The Gods of Mars\"],\"legendgroup\":\"BURROUGHS\",\"marker\":{\"color\":\"#EF553B\",\"symbol\":\"circle\"},\"mode\":\"markers\",\"name\":\"BURROUGHS\",\"orientation\":\"v\",\"showlegend\":true,\"x\":[0.011457980445226848,0.030707327716383,0.013416761315034545,0.04026787472159304,0.006945722253646862,0.04977716765818257,0.02849903465334614,0.05208479541609075,0.04741271713584404,0.06806876087355478,0.07168282301411702,0.050674492185118714,0.060960364204748346,0.07605021116294486,0.08184619249118905,0.07031818186813132,0.08077803336495223,0.035336293528158674,0.047179833026987326,0.032646711244824794,0.03607347668837835,0.06617798997456048,0.03539479453508107,0.06106287067234955,0.06905700766541183,0.05648901507105828,0.060170303298858675,0.05067306445748841,0.0330889986776522,0.04777895201796018,0.06103147434202187,0.058600521541795736,0.036703312583099085,0.043115444850609023,0.049578756732437945,0.0464679522619444,0.06594442338706599,0.04430752630526721,0.05221217316828288,0.027477467257283804,0.03670928853288812,0.06569145243566514,0.0565826109055395,0.05540751760640883,0.061732515232829445,0.07749523907114352,0.05398562525520771,0.04914057273157828,0.04013313566544226,0.08511254136796002],\"xaxis\":\"x\",\"y\":[-0.04392925549198344,-0.07385155739295775,-0.07440347610864034,-0.09247748394436817,-0.058004348699949825,-0.08814649813209943,-0.0699862272597551,-0.08127745755639788,-0.08325134760364904,-0.13968587303260543,-0.1433036306351152,-0.10642924194581913,-0.1355536995664116,-0.15841467096373996,-0.14578631375718007,-0.13875867373229353,-0.14315412750304604,-0.04196465869582209,-0.09130317371246882,-0.11848202974943632,-0.11248204355745145,-0.12149480142661027,-0.08447353066444775,-0.11069658117566952,-0.11649251771843842,-0.10914788906073947,-0.13340431606695305,-0.06729299673940833,-0.12772948449206198,-0.13280515014924607,-0.1671181778241566,-0.13740710746442375,-0.07480296345551307,-0.09213393542771137,-0.1250578022742262,-0.13475955824707814,-0.11088114899771087,-0.09634765728669038,-0.10841779344884438,-0.08053632626506746,-0.12718630611807355,-0.17739650618856373,-0.11406937148145022,-0.11585350954946191,-0.11257125026805395,-0.14355170097913947,-0.11647622634343256,-0.12022908804052618,-0.10700962116613863,-0.1589956348218499],\"yaxis\":\"y\",\"type\":\"scatter\"},{\"alignmentgroup\":\"True\",\"hovertemplate\":\"\\u003cb\\u003e%{hovertext}\\u003c\\u002fb\\u003e\\u003cbr\\u003e\\u003cbr\\u003elabel=BURROUGHS\\u003cbr\\u003ePC1=%{x}\\u003cextra\\u003e\\u003c\\u002fextra\\u003e\",\"hovertext\":[\"A Princess of Mars\",\"A Princess of Mars\",\"A Princess of Mars\",\"A Princess of Mars\",\"A Princess of Mars\",\"A Princess of Mars\",\"A Princess of Mars\",\"A Princess of Mars\",\"A Princess of Mars\",\"A Princess of Mars\",\"A Princess of Mars\",\"A Princess of Mars\",\"A Princess of Mars\",\"A Princess of Mars\",\"A Princess of Mars\",\"A Princess of Mars\",\"A Princess of Mars\",\"A Princess of Mars\",\"A Princess of Mars\",\"A Princess of Mars\",\"A Princess of Mars\",\"A Princess of Mars\",\"A Princess of Mars\",\"A Princess of Mars\",\"A Princess of Mars\",\"A Princess of Mars\",\"A Princess of Mars\",\"A Princess of Mars\",\"The Gods of Mars\",\"The Gods of Mars\",\"The Gods of Mars\",\"The Gods of Mars\",\"The Gods of Mars\",\"The Gods of Mars\",\"The Gods of Mars\",\"The Gods of Mars\",\"The Gods of Mars\",\"The Gods of Mars\",\"The Gods of Mars\",\"The Gods of Mars\",\"The Gods of Mars\",\"The Gods of Mars\",\"The Gods of Mars\",\"The Gods of Mars\",\"The Gods of Mars\",\"The Gods of Mars\",\"The Gods of Mars\",\"The Gods of Mars\",\"The Gods of Mars\",\"The Gods of Mars\"],\"legendgroup\":\"BURROUGHS\",\"marker\":{\"color\":\"#EF553B\",\"symbol\":\"circle\"},\"name\":\"BURROUGHS\",\"notched\":true,\"offsetgroup\":\"BURROUGHS\",\"showlegend\":false,\"x\":[0.011457980445226848,0.030707327716383,0.013416761315034545,0.04026787472159304,0.006945722253646862,0.04977716765818257,0.02849903465334614,0.05208479541609075,0.04741271713584404,0.06806876087355478,0.07168282301411702,0.050674492185118714,0.060960364204748346,0.07605021116294486,0.08184619249118905,0.07031818186813132,0.08077803336495223,0.035336293528158674,0.047179833026987326,0.032646711244824794,0.03607347668837835,0.06617798997456048,0.03539479453508107,0.06106287067234955,0.06905700766541183,0.05648901507105828,0.060170303298858675,0.05067306445748841,0.0330889986776522,0.04777895201796018,0.06103147434202187,0.058600521541795736,0.036703312583099085,0.043115444850609023,0.049578756732437945,0.0464679522619444,0.06594442338706599,0.04430752630526721,0.05221217316828288,0.027477467257283804,0.03670928853288812,0.06569145243566514,0.0565826109055395,0.05540751760640883,0.061732515232829445,0.07749523907114352,0.05398562525520771,0.04914057273157828,0.04013313566544226,0.08511254136796002],\"xaxis\":\"x2\",\"yaxis\":\"y2\",\"type\":\"box\"},{\"hovertemplate\":\"\\u003cb\\u003e%{hovertext}\\u003c\\u002fb\\u003e\\u003cbr\\u003e\\u003cbr\\u003elabel=VERNE\\u003cbr\\u003ePC1=%{x}\\u003cbr\\u003ePC2=%{y}\\u003cextra\\u003e\\u003c\\u002fextra\\u003e\",\"hovertext\":[\"From the Earth to the Moon; and, Round the Moon\",\"From the Earth to the Moon; and, Round the Moon\",\"From the Earth to the Moon; and, Round the Moon\",\"From the Earth to the Moon; and, Round the Moon\",\"From the Earth to the Moon; and, Round the Moon\",\"From the Earth to the Moon; and, Round the Moon\",\"From the Earth to the Moon; and, Round the Moon\",\"From the Earth to the Moon; and, Round the Moon\",\"From the Earth to the Moon; and, Round the Moon\",\"From the Earth to the Moon; and, Round the Moon\",\"From the Earth to the Moon; and, Round the Moon\",\"From the Earth to the Moon; and, Round the Moon\",\"From the Earth to the Moon; and, Round the Moon\",\"From the Earth to the Moon; and, Round the Moon\",\"From the Earth to the Moon; and, Round the Moon\",\"From the Earth to the Moon; and, Round the Moon\",\"From the Earth to the Moon; and, Round the Moon\",\"From the Earth to the Moon; and, Round the Moon\",\"From the Earth to the Moon; and, Round the Moon\",\"From the Earth to the Moon; and, Round the Moon\",\"From the Earth to the Moon; and, Round the Moon\",\"From the Earth to the Moon; and, Round the Moon\",\"From the Earth to the Moon; and, Round the Moon\",\"From the Earth to the Moon; and, Round the Moon\",\"From the Earth to the Moon; and, Round the Moon\",\"From the Earth to the Moon; and, Round the Moon\",\"From the Earth to the Moon; and, Round the Moon\",\"From the Earth to the Moon; and, Round the Moon\",\"From the Earth to the Moon; and, Round the Moon\",\"From the Earth to the Moon; and, Round the Moon\",\"From the Earth to the Moon; and, Round the Moon\",\"From the Earth to the Moon; and, Round the Moon\",\"From the Earth to the Moon; and, Round the Moon\",\"From the Earth to the Moon; and, Round the Moon\",\"From the Earth to the Moon; and, Round the Moon\",\"From the Earth to the Moon; and, Round the Moon\",\"From the Earth to the Moon; and, Round the Moon\",\"From the Earth to the Moon; and, Round the Moon\",\"From the Earth to the Moon; and, Round the Moon\",\"From the Earth to the Moon; and, Round the Moon\",\"From the Earth to the Moon; and, Round the Moon\",\"From the Earth to the Moon; and, Round the Moon\",\"From the Earth to the Moon; and, Round the Moon\",\"From the Earth to the Moon; and, Round the Moon\",\"From the Earth to the Moon; and, Round the Moon\",\"From the Earth to the Moon; and, Round the Moon\",\"From the Earth to the Moon; and, Round the Moon\",\"From the Earth to the Moon; and, Round the Moon\",\"From the Earth to the Moon; and, Round the Moon\",\"From the Earth to the Moon; and, Round the Moon\",\"From the Earth to the Moon; and, Round the Moon\",\"Twenty Thousand Leagues under the Sea\",\"Twenty Thousand Leagues under the Sea\",\"Twenty Thousand Leagues under the Sea\",\"Twenty Thousand Leagues under the Sea\",\"Twenty Thousand Leagues under the Sea\",\"Twenty Thousand Leagues under the Sea\",\"Twenty Thousand Leagues under the Sea\",\"Twenty Thousand Leagues under the Sea\",\"Twenty Thousand Leagues under the Sea\",\"Twenty Thousand Leagues under the Sea\",\"Twenty Thousand Leagues under the Sea\",\"Twenty Thousand Leagues under the Sea\",\"Twenty Thousand Leagues under the Sea\",\"Twenty Thousand Leagues under the Sea\",\"Twenty Thousand Leagues under the Sea\",\"Twenty Thousand Leagues under the Sea\",\"Twenty Thousand Leagues under the Sea\",\"Twenty Thousand Leagues under the Sea\",\"Twenty Thousand Leagues under the Sea\",\"Twenty Thousand Leagues under the Sea\",\"Twenty Thousand Leagues under the Sea\",\"Twenty Thousand Leagues under the Sea\",\"Twenty Thousand Leagues under the Sea\",\"Twenty Thousand Leagues under the Sea\",\"Twenty Thousand Leagues under the Sea\",\"Twenty Thousand Leagues under the Sea\",\"Twenty Thousand Leagues under the Sea\",\"Twenty Thousand Leagues under the Sea\",\"Twenty Thousand Leagues under the Sea\",\"Twenty Thousand Leagues under the Sea\",\"Twenty Thousand Leagues under the Sea\",\"Twenty Thousand Leagues under the Sea\",\"Twenty Thousand Leagues under the Sea\",\"Twenty Thousand Leagues under the Sea\",\"Twenty Thousand Leagues under the Sea\",\"Twenty Thousand Leagues under the Sea\",\"Twenty Thousand Leagues under the Sea\",\"Twenty Thousand Leagues under the Sea\",\"Twenty Thousand Leagues under the Sea\",\"Twenty Thousand Leagues under the Sea\",\"Twenty Thousand Leagues under the Sea\",\"Twenty Thousand Leagues under the Sea\",\"Twenty Thousand Leagues under the Sea\",\"Twenty Thousand Leagues under the Sea\",\"Twenty Thousand Leagues under the Sea\",\"Twenty Thousand Leagues under the Sea\",\"The Mysterious Island\",\"The Mysterious Island\",\"The Mysterious Island\",\"The Mysterious Island\",\"The Mysterious Island\",\"The Mysterious Island\",\"The Mysterious Island\",\"The Mysterious Island\",\"The Mysterious Island\",\"The Mysterious Island\",\"The Mysterious Island\",\"The Mysterious Island\",\"The Mysterious Island\",\"The Mysterious Island\",\"The Mysterious Island\",\"The Mysterious Island\",\"The Mysterious Island\",\"The Mysterious Island\",\"The Mysterious Island\",\"The Mysterious Island\",\"The Mysterious Island\",\"The Mysterious Island\",\"The Mysterious Island\",\"The Mysterious Island\",\"The Mysterious Island\",\"The Mysterious Island\",\"The Mysterious Island\",\"The Mysterious Island\",\"The Mysterious Island\",\"The Mysterious Island\",\"The Mysterious Island\",\"The Mysterious Island\",\"The Mysterious Island\",\"The Mysterious Island\",\"The Mysterious Island\",\"The Mysterious Island\",\"The Mysterious Island\",\"The Mysterious Island\",\"The Mysterious Island\",\"The Mysterious Island\",\"The Mysterious Island\",\"The Mysterious Island\",\"The Mysterious Island\",\"The Mysterious Island\",\"The Mysterious Island\",\"The Mysterious Island\",\"The Mysterious Island\",\"The Mysterious Island\",\"The Mysterious Island\",\"The Mysterious Island\",\"The Mysterious Island\",\"The Mysterious Island\",\"The Mysterious Island\",\"The Mysterious Island\",\"The Mysterious Island\",\"The Mysterious Island\",\"The Mysterious Island\",\"The Mysterious Island\",\"The Mysterious Island\",\"The Mysterious Island\",\"The Mysterious Island\",\"The Mysterious Island\",\"A Journey to the Centre of the Earth\",\"A Journey to the Centre of the Earth\",\"A Journey to the Centre of the Earth\",\"A Journey to the Centre of the Earth\",\"A Journey to the Centre of the Earth\",\"A Journey to the Centre of the Earth\",\"A Journey to the Centre of the Earth\",\"A Journey to the Centre of the Earth\",\"A Journey to the Centre of the Earth\",\"A Journey to the Centre of the Earth\",\"A Journey to the Centre of the Earth\",\"A Journey to the Centre of the Earth\",\"A Journey to the Centre of the Earth\",\"A Journey to the Centre of the Earth\",\"A Journey to the Centre of the Earth\",\"A Journey to the Centre of the Earth\",\"A Journey to the Centre of the Earth\",\"A Journey to the Centre of the Earth\",\"A Journey to the Centre of the Earth\",\"A Journey to the Centre of the Earth\",\"A Journey to the Centre of the Earth\",\"A Journey to the Centre of the Earth\",\"A Journey to the Centre of the Earth\",\"A Journey to the Centre of the Earth\",\"A Journey to the Centre of the Earth\",\"A Journey to the Centre of the Earth\",\"A Journey to the Centre of the Earth\",\"A Journey to the Centre of the Earth\",\"A Journey to the Centre of the Earth\",\"A Journey to the Centre of the Earth\",\"A Journey to the Centre of the Earth\",\"A Journey to the Centre of the Earth\",\"A Journey to the Centre of the Earth\",\"A Journey to the Centre of the Earth\",\"A Journey to the Centre of the Earth\",\"A Journey to the Centre of the Earth\",\"A Journey to the Centre of the Earth\",\"A Journey to the Centre of the Earth\",\"A Journey to the Centre of the Earth\",\"A Journey to the Centre of the Earth\",\"A Journey to the Centre of the Earth\",\"A Journey to the Centre of the Earth\",\"A Journey to the Centre of the Earth\",\"A Journey to the Centre of the Earth\"],\"legendgroup\":\"VERNE\",\"marker\":{\"color\":\"#00cc96\",\"symbol\":\"circle\"},\"mode\":\"markers\",\"name\":\"VERNE\",\"orientation\":\"v\",\"showlegend\":true,\"x\":[-0.10924127278625825,-0.19298765516502228,-0.102572539742564,-0.22210469340891897,-0.10501930387479969,-0.12728716659249015,-0.28820201895478154,-0.23701579018702273,-0.17108952150221332,-0.32572400864032397,-0.09475176314749024,-0.11136850414155425,-0.26286667290778337,-0.1414555511703374,-0.1131030691197409,-0.19897262886439643,-0.18346270364890951,-0.36809797885637124,-0.2654906622812934,-0.3692166042571997,-0.5037005009525111,-0.3619774728140292,-0.24710976839356646,-0.10369781398944589,-0.3986300875576516,-0.22321334329030756,-0.1656526652245263,-0.42399073837679846,-0.5846544202169607,-0.6248830531873555,-0.5597227888638202,-0.5617685014703766,-0.6071880265571823,-0.6006923436950905,-0.6091529030500078,-0.5113725888346347,-0.5838022530546865,-0.35004852058082736,-0.1715531431132297,-0.4870015924874908,-0.40307275212354077,-0.5577451939908149,-0.5561552393149716,-0.39391276775512346,-0.336252752783369,-0.5468816941098822,-0.6305021765831724,-0.1494735564330177,-0.23760770385948543,-0.3050580924663825,-0.3093631376886061,-0.047983269662895574,-0.05361213778152546,-0.06069688176869595,-0.09982693361740988,-0.07723787108279735,-0.06843324164956922,-0.0686369156480807,-0.06975748575589512,-0.06189249108709528,-0.11631967604433084,-0.13489449274933063,-0.1343063851918187,-0.1608029981996348,-0.15163558026822027,-0.11410217456850476,-0.10319050572309725,-0.12597429405673755,-0.054456250232556416,-0.15503322719539406,-0.08047851721501993,-0.14215032865950858,-0.16064637037101123,-0.09908844344072867,-0.1260845565515002,-0.08657764682923366,-0.13173094122619272,-0.12367957497780105,-0.11529237231525899,-0.16561491775411755,-0.10950664219957976,-0.13207677998193398,-0.12789350576175343,-0.12047237430118184,-0.13558522257434236,-0.14309092943385393,-0.17446028204585623,-0.14536879422621207,-0.16827364559622562,-0.16329488350938867,-0.12040937250572592,-0.11026638633886254,-0.15258877674948035,-0.11753518357813676,-0.16522926179768693,-0.1573361329503098,-0.08648507546176742,-0.038381625557980574,0.027550271759585285,0.03530977709033018,0.07072455687789649,0.08419515575212162,0.06275034432794586,0.08434287108512022,0.08416079950330088,0.06819115099120727,0.022329975158045613,0.025943238191488093,0.0511729219897133,0.027322248332224016,0.014876556689869612,0.034178613802784946,0.041656437567718224,0.028816077095571123,0.048454665648141694,0.056780726163137465,0.033516893865961836,-0.0048390608148193934,0.05750042877058767,0.07425970898770277,0.04420745873879101,0.05231400112466998,0.0671784399269885,0.07437005086700467,0.07912095665971604,0.030539559172124888,0.037761426667514385,0.04156123311300256,0.06685621047118254,0.03109266632765495,0.07477145827064012,0.0678706117373062,0.0893692427629354,0.0857128009910208,0.07160951233364451,0.024964986513428558,0.05082540328409297,0.05578037290056832,0.07529648374225996,0.06659826203223988,0.056021233939543,0.07449334061431571,0.06309077427215687,0.0480904696351332,0.09740603702894501,0.1110421354866878,0.06847583536671613,0.10307061241653018,0.0923162455065018,0.06255805771047149,0.09084357253923545,0.06354209842265988,0.027924993493315568,0.04509800786235338,-0.08999849028402075,-0.07400434288446545,0.03310820331074787,0.015110083931483616,0.04294139113593522,-0.04131069472469313,-0.020588545161125845,-0.02292369641482282,-0.04297814781235155,-0.029574567747061416,-0.03382413459618374,-0.04489225428098319,-0.05856347187571308,-0.03844730990099529,-0.027893148995283723,-0.04479706249853533,-0.06175512472170894,-0.05815975468519202,-0.05360109461073892,-0.07853204318452048,-0.055576486958600076,-0.05880534445773812,-0.042586938064770714,-0.02831416128661308,-0.04289207833549895,-0.06288764104144794,-0.09067533641466322,-0.027135327737715167,-0.007404731179095327,-0.02863078307029672,-0.04037998148517962,-0.05684813536748978,-0.08441518573689198,-0.06627118227372923,-0.045501365001749026,-0.06686969946091466,-0.04204355843358705,-0.062057851232617034,-0.05598277716536369,-0.04964813803423394,-0.029585149622066355,-0.03111068011790646,-0.0536080098634406,-0.04339432101825381,-0.019273138335689673,-0.0376422920282361,-0.07818918252947327,-0.05249824720212732,-0.05040719746512867],\"xaxis\":\"x\",\"y\":[0.0618344825555827,0.07515823732748406,0.058286281117072195,0.11856466685163432,0.04143944529236818,0.05298464968111916,0.18422128584604786,0.14705916981971917,0.11533670647803601,0.16366756787622136,0.05971026745800172,0.06557230188290329,0.1404751533539512,0.060451049788360314,0.0581687052819701,0.10403824216929144,0.12004749223269884,0.185588772199106,0.0932460125890875,0.14730213814325496,0.25514462191345416,0.17941354036100615,0.12794148879959819,0.0520548712898652,0.1983648889165398,0.10478745619189549,0.0783728378687216,0.21992294592412065,0.295523879814015,0.29912834770847946,0.2600831146251278,0.2895062775340739,0.2987170753673647,0.30014555696341255,0.2974995978369861,0.24175252553320134,0.28965013183442717,0.16451969000620978,0.061262273597591746,0.23331161647850268,0.18484251276965033,0.26703486321226744,0.2612389753426217,0.20712098732179257,0.15063928655906492,0.27065791498436215,0.3217796042350859,0.054299377157734426,0.12481477605664686,0.1388496520911336,0.15816120800042882,-0.02563865932206889,-0.027428325641941628,-0.05560229397313774,-0.07365425917475248,-0.06511927195427515,-0.07319137442310039,-0.10782841154732511,-0.10756539919063313,-0.07047960158018729,-0.14777159321871622,-0.11331627120075576,-0.10940383232175403,-0.1423390129132018,-0.14027998590545396,-0.12243277243717833,-0.12868526314944465,-0.13404481930521617,-0.04124929404211026,-0.1707629358345604,-0.10970895598155894,-0.1631302916643789,-0.1727723500834314,-0.13976831724688626,-0.1280833257300219,-0.0876739595296811,-0.15751547201521518,-0.13028819220918644,-0.13585145257767967,-0.17410734741770456,-0.08188893915027941,-0.1623064762018888,-0.1432343693379554,-0.13880317933094716,-0.12041251847484045,-0.15078554959285348,-0.15658522950002357,-0.11766063297091706,-0.17820492593332252,-0.15970776638854906,-0.1317836323217413,-0.12746049017513106,-0.17143001073229128,-0.10364900952016143,-0.19159300747869457,-0.19950584078217753,-0.10180795286854741,-0.015874918243119943,0.02831836782226663,0.014703617520951092,0.0396714782552301,0.04968348272201646,0.045604897272918214,0.05572119529732827,0.05009629856185618,0.06200620242636184,0.03841840362447351,0.029577909719157868,0.03518839583735454,0.05200187189310981,0.05061776835197369,0.0478191746826349,0.02931781872827131,0.046291284695676296,0.039817630074803885,0.04778325694668017,0.053241878333348557,0.028792753358783417,0.05076251711570394,0.06314657961491407,0.045257213491700025,0.03761154523949404,0.03868905273586865,0.048836953203886306,0.05360083304195965,0.023274918830500178,0.04388832215311482,0.051445768694422134,0.053747798037208146,0.031473457398776584,0.049063641731456914,0.053884979499715366,0.052350649617744355,0.05891513684752029,0.051177872993676814,0.02270493913236865,0.0633530444261482,0.04130348275972284,0.05714717489579236,0.045755271256870414,0.04736733655117236,0.04980787303579146,0.04326329838434984,0.06551801318581135,0.07502504252423593,0.08705778994244338,0.06119351901062818,0.08629751308945961,0.069307202172713,0.04939355364914229,0.07522081936571132,0.04516869040488717,0.035440920622087195,0.028394975121361087,-0.10680029391774822,-0.09766590754463358,0.036023525154605204,0.00023450680067900676,0.02945506440128593,-0.11009932744042779,-0.055126497330398594,-0.11921314411642447,-0.08249571169455093,-0.08518205329546738,-0.07792833055686045,-0.08440986665119955,-0.09117560495693607,-0.09204065882428264,-0.08339801728439032,-0.09300053166558678,-0.09376296685622591,-0.11579364226721482,-0.10596760933751685,-0.10769351523533029,-0.11345821125893309,-0.10026689322129115,-0.14268907281228557,-0.10089824951697124,-0.11800187268648982,-0.10205855613426942,-0.08945394924893484,-0.0895509021021311,-0.09844328112663718,-0.12291127045136722,-0.14076134372790342,-0.11445476535724543,-0.12447474504237523,-0.11754464336328022,-0.1280350107317437,-0.11149314977457077,-0.09127850733769037,-0.13219819386368642,-0.10288827793630559,-0.05009157628056291,-0.06554201538365578,-0.09819797395928839,-0.11495943970353514,-0.11989802692633637,-0.1314944497802811,-0.12109236335626168,-0.1132473838956382,-0.1023058539112869,-0.06927672254381868],\"yaxis\":\"y\",\"type\":\"scatter\"},{\"alignmentgroup\":\"True\",\"hovertemplate\":\"\\u003cb\\u003e%{hovertext}\\u003c\\u002fb\\u003e\\u003cbr\\u003e\\u003cbr\\u003elabel=VERNE\\u003cbr\\u003ePC1=%{x}\\u003cextra\\u003e\\u003c\\u002fextra\\u003e\",\"hovertext\":[\"From the Earth to the Moon; and, Round the Moon\",\"From the Earth to the Moon; and, Round the Moon\",\"From the Earth to the Moon; and, Round the Moon\",\"From the Earth to the Moon; and, Round the Moon\",\"From the Earth to the Moon; and, Round the Moon\",\"From the Earth to the Moon; and, Round the Moon\",\"From the Earth to the Moon; and, Round the Moon\",\"From the Earth to the Moon; and, Round the Moon\",\"From the Earth to the Moon; and, Round the Moon\",\"From the Earth to the Moon; and, Round the Moon\",\"From the Earth to the Moon; and, Round the Moon\",\"From the Earth to the Moon; and, Round the Moon\",\"From the Earth to the Moon; and, Round the Moon\",\"From the Earth to the Moon; and, Round the Moon\",\"From the Earth to the Moon; and, Round the Moon\",\"From the Earth to the Moon; and, Round the Moon\",\"From the Earth to the Moon; and, Round the Moon\",\"From the Earth to the Moon; and, Round the Moon\",\"From the Earth to the Moon; and, Round the Moon\",\"From the Earth to the Moon; and, Round the Moon\",\"From the Earth to the Moon; and, Round the Moon\",\"From the Earth to the Moon; and, Round the Moon\",\"From the Earth to the Moon; and, Round the Moon\",\"From the Earth to the Moon; and, Round the Moon\",\"From the Earth to the Moon; and, Round the Moon\",\"From the Earth to the Moon; and, Round the Moon\",\"From the Earth to the Moon; and, Round the Moon\",\"From the Earth to the Moon; and, Round the Moon\",\"From the Earth to the Moon; and, Round the Moon\",\"From the Earth to the Moon; and, Round the Moon\",\"From the Earth to the Moon; and, Round the Moon\",\"From the Earth to the Moon; and, Round the Moon\",\"From the Earth to the Moon; and, Round the Moon\",\"From the Earth to the Moon; and, Round the Moon\",\"From the Earth to the Moon; and, Round the Moon\",\"From the Earth to the Moon; and, Round the Moon\",\"From the Earth to the Moon; and, Round the Moon\",\"From the Earth to the Moon; and, Round the Moon\",\"From the Earth to the Moon; and, Round the Moon\",\"From the Earth to the Moon; and, Round the Moon\",\"From the Earth to the Moon; and, Round the Moon\",\"From the Earth to the Moon; and, Round the Moon\",\"From the Earth to the Moon; and, Round the Moon\",\"From the Earth to the Moon; and, Round the Moon\",\"From the Earth to the Moon; and, Round the Moon\",\"From the Earth to the Moon; and, Round the Moon\",\"From the Earth to the Moon; and, Round the Moon\",\"From the Earth to the Moon; and, Round the Moon\",\"From the Earth to the Moon; and, Round the Moon\",\"From the Earth to the Moon; and, Round the Moon\",\"From the Earth to the Moon; and, Round the Moon\",\"Twenty Thousand Leagues under the Sea\",\"Twenty Thousand Leagues under the Sea\",\"Twenty Thousand Leagues under the Sea\",\"Twenty Thousand Leagues under the Sea\",\"Twenty Thousand Leagues under the Sea\",\"Twenty Thousand Leagues under the Sea\",\"Twenty Thousand Leagues under the Sea\",\"Twenty Thousand Leagues under the Sea\",\"Twenty Thousand Leagues under the Sea\",\"Twenty Thousand Leagues under the Sea\",\"Twenty Thousand Leagues under the Sea\",\"Twenty Thousand Leagues under the Sea\",\"Twenty Thousand Leagues under the Sea\",\"Twenty Thousand Leagues under the Sea\",\"Twenty Thousand Leagues under the Sea\",\"Twenty Thousand Leagues under the Sea\",\"Twenty Thousand Leagues under the Sea\",\"Twenty Thousand Leagues under the Sea\",\"Twenty Thousand Leagues under the Sea\",\"Twenty Thousand Leagues under the Sea\",\"Twenty Thousand Leagues under the Sea\",\"Twenty Thousand Leagues under the Sea\",\"Twenty Thousand Leagues under the Sea\",\"Twenty Thousand Leagues under the Sea\",\"Twenty Thousand Leagues under the Sea\",\"Twenty Thousand Leagues under the Sea\",\"Twenty Thousand Leagues under the Sea\",\"Twenty Thousand Leagues under the Sea\",\"Twenty Thousand Leagues under the Sea\",\"Twenty Thousand Leagues under the Sea\",\"Twenty Thousand Leagues under the Sea\",\"Twenty Thousand Leagues under the Sea\",\"Twenty Thousand Leagues under the Sea\",\"Twenty Thousand Leagues under the Sea\",\"Twenty Thousand Leagues under the Sea\",\"Twenty Thousand Leagues under the Sea\",\"Twenty Thousand Leagues under the Sea\",\"Twenty Thousand Leagues under the Sea\",\"Twenty Thousand Leagues under the Sea\",\"Twenty Thousand Leagues under the Sea\",\"Twenty Thousand Leagues under the Sea\",\"Twenty Thousand Leagues under the Sea\",\"Twenty Thousand Leagues under the Sea\",\"Twenty Thousand Leagues under the Sea\",\"Twenty Thousand Leagues under the Sea\",\"Twenty Thousand Leagues under the Sea\",\"The Mysterious Island\",\"The Mysterious Island\",\"The Mysterious Island\",\"The Mysterious Island\",\"The Mysterious Island\",\"The Mysterious Island\",\"The Mysterious Island\",\"The Mysterious Island\",\"The Mysterious Island\",\"The Mysterious Island\",\"The Mysterious Island\",\"The Mysterious Island\",\"The Mysterious Island\",\"The Mysterious Island\",\"The Mysterious Island\",\"The Mysterious Island\",\"The Mysterious Island\",\"The Mysterious Island\",\"The Mysterious Island\",\"The Mysterious Island\",\"The Mysterious Island\",\"The Mysterious Island\",\"The Mysterious Island\",\"The Mysterious Island\",\"The Mysterious Island\",\"The Mysterious Island\",\"The Mysterious Island\",\"The Mysterious Island\",\"The Mysterious Island\",\"The Mysterious Island\",\"The Mysterious Island\",\"The Mysterious Island\",\"The Mysterious Island\",\"The Mysterious Island\",\"The Mysterious Island\",\"The Mysterious Island\",\"The Mysterious Island\",\"The Mysterious Island\",\"The Mysterious Island\",\"The Mysterious Island\",\"The Mysterious Island\",\"The Mysterious Island\",\"The Mysterious Island\",\"The Mysterious Island\",\"The Mysterious Island\",\"The Mysterious Island\",\"The Mysterious Island\",\"The Mysterious Island\",\"The Mysterious Island\",\"The Mysterious Island\",\"The Mysterious Island\",\"The Mysterious Island\",\"The Mysterious Island\",\"The Mysterious Island\",\"The Mysterious Island\",\"The Mysterious Island\",\"The Mysterious Island\",\"The Mysterious Island\",\"The Mysterious Island\",\"The Mysterious Island\",\"The Mysterious Island\",\"The Mysterious Island\",\"A Journey to the Centre of the Earth\",\"A Journey to the Centre of the Earth\",\"A Journey to the Centre of the Earth\",\"A Journey to the Centre of the Earth\",\"A Journey to the Centre of the Earth\",\"A Journey to the Centre of the Earth\",\"A Journey to the Centre of the Earth\",\"A Journey to the Centre of the Earth\",\"A Journey to the Centre of the Earth\",\"A Journey to the Centre of the Earth\",\"A Journey to the Centre of the Earth\",\"A Journey to the Centre of the Earth\",\"A Journey to the Centre of the Earth\",\"A Journey to the Centre of the Earth\",\"A Journey to the Centre of the Earth\",\"A Journey to the Centre of the Earth\",\"A Journey to the Centre of the Earth\",\"A Journey to the Centre of the Earth\",\"A Journey to the Centre of the Earth\",\"A Journey to the Centre of the Earth\",\"A Journey to the Centre of the Earth\",\"A Journey to the Centre of the Earth\",\"A Journey to the Centre of the Earth\",\"A Journey to the Centre of the Earth\",\"A Journey to the Centre of the Earth\",\"A Journey to the Centre of the Earth\",\"A Journey to the Centre of the Earth\",\"A Journey to the Centre of the Earth\",\"A Journey to the Centre of the Earth\",\"A Journey to the Centre of the Earth\",\"A Journey to the Centre of the Earth\",\"A Journey to the Centre of the Earth\",\"A Journey to the Centre of the Earth\",\"A Journey to the Centre of the Earth\",\"A Journey to the Centre of the Earth\",\"A Journey to the Centre of the Earth\",\"A Journey to the Centre of the Earth\",\"A Journey to the Centre of the Earth\",\"A Journey to the Centre of the Earth\",\"A Journey to the Centre of the Earth\",\"A Journey to the Centre of the Earth\",\"A Journey to the Centre of the Earth\",\"A Journey to the Centre of the Earth\",\"A Journey to the Centre of the Earth\"],\"legendgroup\":\"VERNE\",\"marker\":{\"color\":\"#00cc96\",\"symbol\":\"circle\"},\"name\":\"VERNE\",\"notched\":true,\"offsetgroup\":\"VERNE\",\"showlegend\":false,\"x\":[-0.10924127278625825,-0.19298765516502228,-0.102572539742564,-0.22210469340891897,-0.10501930387479969,-0.12728716659249015,-0.28820201895478154,-0.23701579018702273,-0.17108952150221332,-0.32572400864032397,-0.09475176314749024,-0.11136850414155425,-0.26286667290778337,-0.1414555511703374,-0.1131030691197409,-0.19897262886439643,-0.18346270364890951,-0.36809797885637124,-0.2654906622812934,-0.3692166042571997,-0.5037005009525111,-0.3619774728140292,-0.24710976839356646,-0.10369781398944589,-0.3986300875576516,-0.22321334329030756,-0.1656526652245263,-0.42399073837679846,-0.5846544202169607,-0.6248830531873555,-0.5597227888638202,-0.5617685014703766,-0.6071880265571823,-0.6006923436950905,-0.6091529030500078,-0.5113725888346347,-0.5838022530546865,-0.35004852058082736,-0.1715531431132297,-0.4870015924874908,-0.40307275212354077,-0.5577451939908149,-0.5561552393149716,-0.39391276775512346,-0.336252752783369,-0.5468816941098822,-0.6305021765831724,-0.1494735564330177,-0.23760770385948543,-0.3050580924663825,-0.3093631376886061,-0.047983269662895574,-0.05361213778152546,-0.06069688176869595,-0.09982693361740988,-0.07723787108279735,-0.06843324164956922,-0.0686369156480807,-0.06975748575589512,-0.06189249108709528,-0.11631967604433084,-0.13489449274933063,-0.1343063851918187,-0.1608029981996348,-0.15163558026822027,-0.11410217456850476,-0.10319050572309725,-0.12597429405673755,-0.054456250232556416,-0.15503322719539406,-0.08047851721501993,-0.14215032865950858,-0.16064637037101123,-0.09908844344072867,-0.1260845565515002,-0.08657764682923366,-0.13173094122619272,-0.12367957497780105,-0.11529237231525899,-0.16561491775411755,-0.10950664219957976,-0.13207677998193398,-0.12789350576175343,-0.12047237430118184,-0.13558522257434236,-0.14309092943385393,-0.17446028204585623,-0.14536879422621207,-0.16827364559622562,-0.16329488350938867,-0.12040937250572592,-0.11026638633886254,-0.15258877674948035,-0.11753518357813676,-0.16522926179768693,-0.1573361329503098,-0.08648507546176742,-0.038381625557980574,0.027550271759585285,0.03530977709033018,0.07072455687789649,0.08419515575212162,0.06275034432794586,0.08434287108512022,0.08416079950330088,0.06819115099120727,0.022329975158045613,0.025943238191488093,0.0511729219897133,0.027322248332224016,0.014876556689869612,0.034178613802784946,0.041656437567718224,0.028816077095571123,0.048454665648141694,0.056780726163137465,0.033516893865961836,-0.0048390608148193934,0.05750042877058767,0.07425970898770277,0.04420745873879101,0.05231400112466998,0.0671784399269885,0.07437005086700467,0.07912095665971604,0.030539559172124888,0.037761426667514385,0.04156123311300256,0.06685621047118254,0.03109266632765495,0.07477145827064012,0.0678706117373062,0.0893692427629354,0.0857128009910208,0.07160951233364451,0.024964986513428558,0.05082540328409297,0.05578037290056832,0.07529648374225996,0.06659826203223988,0.056021233939543,0.07449334061431571,0.06309077427215687,0.0480904696351332,0.09740603702894501,0.1110421354866878,0.06847583536671613,0.10307061241653018,0.0923162455065018,0.06255805771047149,0.09084357253923545,0.06354209842265988,0.027924993493315568,0.04509800786235338,-0.08999849028402075,-0.07400434288446545,0.03310820331074787,0.015110083931483616,0.04294139113593522,-0.04131069472469313,-0.020588545161125845,-0.02292369641482282,-0.04297814781235155,-0.029574567747061416,-0.03382413459618374,-0.04489225428098319,-0.05856347187571308,-0.03844730990099529,-0.027893148995283723,-0.04479706249853533,-0.06175512472170894,-0.05815975468519202,-0.05360109461073892,-0.07853204318452048,-0.055576486958600076,-0.05880534445773812,-0.042586938064770714,-0.02831416128661308,-0.04289207833549895,-0.06288764104144794,-0.09067533641466322,-0.027135327737715167,-0.007404731179095327,-0.02863078307029672,-0.04037998148517962,-0.05684813536748978,-0.08441518573689198,-0.06627118227372923,-0.045501365001749026,-0.06686969946091466,-0.04204355843358705,-0.062057851232617034,-0.05598277716536369,-0.04964813803423394,-0.029585149622066355,-0.03111068011790646,-0.0536080098634406,-0.04339432101825381,-0.019273138335689673,-0.0376422920282361,-0.07818918252947327,-0.05249824720212732,-0.05040719746512867],\"xaxis\":\"x2\",\"yaxis\":\"y2\",\"type\":\"box\"},{\"hovertemplate\":\"\\u003cb\\u003e%{hovertext}\\u003c\\u002fb\\u003e\\u003cbr\\u003e\\u003cbr\\u003elabel=DOYLE\\u003cbr\\u003ePC1=%{x}\\u003cbr\\u003ePC2=%{y}\\u003cextra\\u003e\\u003c\\u002fextra\\u003e\",\"hovertext\":[\"The Lost World\",\"The Lost World\",\"The Lost World\",\"The Lost World\",\"The Lost World\",\"The Lost World\",\"The Lost World\",\"The Lost World\",\"The Lost World\",\"The Lost World\",\"The Lost World\",\"The Lost World\",\"The Lost World\",\"The Lost World\",\"The Lost World\",\"The Lost World\"],\"legendgroup\":\"DOYLE\",\"marker\":{\"color\":\"#ab63fa\",\"symbol\":\"circle\"},\"mode\":\"markers\",\"name\":\"DOYLE\",\"orientation\":\"v\",\"showlegend\":true,\"x\":[0.04472914299994355,0.007213076197940936,0.020283258997440885,0.008580168657511364,0.0020287258038811846,0.02535178802192878,-0.0029140993854148965,0.007612342048216144,0.010161426679815646,0.020123766079725904,0.015767580366648336,0.024907224940921076,0.04557997925356903,0.024680719996393853,0.011198689716871291,-0.005985526124296056],\"xaxis\":\"x\",\"y\":[-0.0623046311444025,-0.031045506311190987,-0.053739915602047286,-0.08667621422811755,-0.06011867960505527,-0.060050355601404495,-0.08048260644342912,-0.08959242369950497,-0.12018464838268839,-0.09703895863312971,-0.10516620011115722,-0.12852957247981558,-0.08646538092675543,-0.11256418670650617,-0.10477639046410481,-0.0813535714118478],\"yaxis\":\"y\",\"type\":\"scatter\"},{\"alignmentgroup\":\"True\",\"hovertemplate\":\"\\u003cb\\u003e%{hovertext}\\u003c\\u002fb\\u003e\\u003cbr\\u003e\\u003cbr\\u003elabel=DOYLE\\u003cbr\\u003ePC1=%{x}\\u003cextra\\u003e\\u003c\\u002fextra\\u003e\",\"hovertext\":[\"The Lost World\",\"The Lost World\",\"The Lost World\",\"The Lost World\",\"The Lost World\",\"The Lost World\",\"The Lost World\",\"The Lost World\",\"The Lost World\",\"The Lost World\",\"The Lost World\",\"The Lost World\",\"The Lost World\",\"The Lost World\",\"The Lost World\",\"The Lost World\"],\"legendgroup\":\"DOYLE\",\"marker\":{\"color\":\"#ab63fa\",\"symbol\":\"circle\"},\"name\":\"DOYLE\",\"notched\":true,\"offsetgroup\":\"DOYLE\",\"showlegend\":false,\"x\":[0.04472914299994355,0.007213076197940936,0.020283258997440885,0.008580168657511364,0.0020287258038811846,0.02535178802192878,-0.0029140993854148965,0.007612342048216144,0.010161426679815646,0.020123766079725904,0.015767580366648336,0.024907224940921076,0.04557997925356903,0.024680719996393853,0.011198689716871291,-0.005985526124296056],\"xaxis\":\"x2\",\"yaxis\":\"y2\",\"type\":\"box\"},{\"hovertemplate\":\"\\u003cb\\u003e%{hovertext}\\u003c\\u002fb\\u003e\\u003cbr\\u003e\\u003cbr\\u003elabel=ABBOTT\\u003cbr\\u003ePC1=%{x}\\u003cbr\\u003ePC2=%{y}\\u003cextra\\u003e\\u003c\\u002fextra\\u003e\",\"hovertext\":[\"Flatland: A Romance of Many Dimensions\",\"Flatland: A Romance of Many Dimensions\",\"Flatland: A Romance of Many Dimensions\",\"Flatland: A Romance of Many Dimensions\",\"Flatland: A Romance of Many Dimensions\",\"Flatland: A Romance of Many Dimensions\",\"Flatland: A Romance of Many Dimensions\",\"Flatland: A Romance of Many Dimensions\",\"Flatland: A Romance of Many Dimensions\",\"Flatland: A Romance of Many Dimensions\",\"Flatland: A Romance of Many Dimensions\",\"Flatland: A Romance of Many Dimensions\",\"Flatland: A Romance of Many Dimensions\",\"Flatland: A Romance of Many Dimensions\",\"Flatland: A Romance of Many Dimensions\",\"Flatland: A Romance of Many Dimensions\",\"Flatland: A Romance of Many Dimensions\",\"Flatland: A Romance of Many Dimensions\",\"Flatland: A Romance of Many Dimensions\",\"Flatland: A Romance of Many Dimensions\",\"Flatland: A Romance of Many Dimensions\",\"Flatland: A Romance of Many Dimensions\"],\"legendgroup\":\"ABBOTT\",\"marker\":{\"color\":\"#FFA15A\",\"symbol\":\"circle\"},\"mode\":\"markers\",\"name\":\"ABBOTT\",\"orientation\":\"v\",\"showlegend\":true,\"x\":[-0.003813761052342046,-0.009010842226481401,-0.005014204492666861,0.007358569895274885,-0.01432709087407565,-0.004995326060968205,-0.009053433382526201,0.004083219730582463,0.0009142644118078049,0.00021402615855839588,-0.007998728230187591,-0.0045076086680014985,0.0014115685605495054,0.00025004109211590854,0.006765135379419759,-0.010414098501281336,0.013195036909042593,0.0036459192044700304,-0.006313031447673936,0.006758678640599683,0.016755554587553848,-0.0117616168345801],\"xaxis\":\"x\",\"y\":[-0.005472215418323622,-0.01592009256605371,0.002841795414514867,-0.020979184222626682,-0.014545818043255955,-0.012354266633124283,-0.004537894857581361,-0.0060354113864522,-0.006061881180237763,-0.0012008760829731748,-0.005000347967773594,-0.013320834409798515,-0.017227194840683118,-0.03461590689057236,-0.01616222828616237,-0.030973793954400298,-0.026881814974220864,-0.0342833868379989,-0.031621468085891107,-0.0232684352950686,-0.024300151077385514,-0.03437720004139363],\"yaxis\":\"y\",\"type\":\"scatter\"},{\"alignmentgroup\":\"True\",\"hovertemplate\":\"\\u003cb\\u003e%{hovertext}\\u003c\\u002fb\\u003e\\u003cbr\\u003e\\u003cbr\\u003elabel=ABBOTT\\u003cbr\\u003ePC1=%{x}\\u003cextra\\u003e\\u003c\\u002fextra\\u003e\",\"hovertext\":[\"Flatland: A Romance of Many Dimensions\",\"Flatland: A Romance of Many Dimensions\",\"Flatland: A Romance of Many Dimensions\",\"Flatland: A Romance of Many Dimensions\",\"Flatland: A Romance of Many Dimensions\",\"Flatland: A Romance of Many Dimensions\",\"Flatland: A Romance of Many Dimensions\",\"Flatland: A Romance of Many Dimensions\",\"Flatland: A Romance of Many Dimensions\",\"Flatland: A Romance of Many Dimensions\",\"Flatland: A Romance of Many Dimensions\",\"Flatland: A Romance of Many Dimensions\",\"Flatland: A Romance of Many Dimensions\",\"Flatland: A Romance of Many Dimensions\",\"Flatland: A Romance of Many Dimensions\",\"Flatland: A Romance of Many Dimensions\",\"Flatland: A Romance of Many Dimensions\",\"Flatland: A Romance of Many Dimensions\",\"Flatland: A Romance of Many Dimensions\",\"Flatland: A Romance of Many Dimensions\",\"Flatland: A Romance of Many Dimensions\",\"Flatland: A Romance of Many Dimensions\"],\"legendgroup\":\"ABBOTT\",\"marker\":{\"color\":\"#FFA15A\",\"symbol\":\"circle\"},\"name\":\"ABBOTT\",\"notched\":true,\"offsetgroup\":\"ABBOTT\",\"showlegend\":false,\"x\":[-0.003813761052342046,-0.009010842226481401,-0.005014204492666861,0.007358569895274885,-0.01432709087407565,-0.004995326060968205,-0.009053433382526201,0.004083219730582463,0.0009142644118078049,0.00021402615855839588,-0.007998728230187591,-0.0045076086680014985,0.0014115685605495054,0.00025004109211590854,0.006765135379419759,-0.010414098501281336,0.013195036909042593,0.0036459192044700304,-0.006313031447673936,0.006758678640599683,0.016755554587553848,-0.0117616168345801],\"xaxis\":\"x2\",\"yaxis\":\"y2\",\"type\":\"box\"},{\"hovertemplate\":\"\\u003cb\\u003e%{hovertext}\\u003c\\u002fb\\u003e\\u003cbr\\u003e\\u003cbr\\u003elabel=RAND\\u003cbr\\u003ePC1=%{x}\\u003cbr\\u003ePC2=%{y}\\u003cextra\\u003e\\u003c\\u002fextra\\u003e\",\"hovertext\":[\"Anthem\",\"Anthem\",\"Anthem\",\"Anthem\",\"Anthem\",\"Anthem\",\"Anthem\",\"Anthem\",\"Anthem\",\"Anthem\",\"Anthem\",\"Anthem\"],\"legendgroup\":\"RAND\",\"marker\":{\"color\":\"#19d3f3\",\"symbol\":\"circle\"},\"mode\":\"markers\",\"name\":\"RAND\",\"orientation\":\"v\",\"showlegend\":true,\"x\":[0.01503276103351095,0.02205603141293575,0.007373244763660401,0.02369238105047023,0.017609811442116655,0.02357205389047215,0.01942271633480376,0.027325583964145875,0.031885832474533686,0.02055053034349148,0.019295036011965284,0.020314025897315114],\"xaxis\":\"x\",\"y\":[-0.05136831948850717,-0.04858359465146874,-0.021246722365591088,-0.027564307406627523,-0.037925047365900626,-0.035387262431976145,-0.031009457430657243,-0.05399516808189682,-0.0506961295368999,-0.0550827548398574,-0.059236050571201966,-0.07161060219809055],\"yaxis\":\"y\",\"type\":\"scatter\"},{\"alignmentgroup\":\"True\",\"hovertemplate\":\"\\u003cb\\u003e%{hovertext}\\u003c\\u002fb\\u003e\\u003cbr\\u003e\\u003cbr\\u003elabel=RAND\\u003cbr\\u003ePC1=%{x}\\u003cextra\\u003e\\u003c\\u002fextra\\u003e\",\"hovertext\":[\"Anthem\",\"Anthem\",\"Anthem\",\"Anthem\",\"Anthem\",\"Anthem\",\"Anthem\",\"Anthem\",\"Anthem\",\"Anthem\",\"Anthem\",\"Anthem\"],\"legendgroup\":\"RAND\",\"marker\":{\"color\":\"#19d3f3\",\"symbol\":\"circle\"},\"name\":\"RAND\",\"notched\":true,\"offsetgroup\":\"RAND\",\"showlegend\":false,\"x\":[0.01503276103351095,0.02205603141293575,0.007373244763660401,0.02369238105047023,0.017609811442116655,0.02357205389047215,0.01942271633480376,0.027325583964145875,0.031885832474533686,0.02055053034349148,0.019295036011965284,0.020314025897315114],\"xaxis\":\"x2\",\"yaxis\":\"y2\",\"type\":\"box\"},{\"hovertemplate\":\"\\u003cb\\u003e%{hovertext}\\u003c\\u002fb\\u003e\\u003cbr\\u003e\\u003cbr\\u003elabel=LINDSAY\\u003cbr\\u003ePC1=%{x}\\u003cbr\\u003ePC2=%{y}\\u003cextra\\u003e\\u003c\\u002fextra\\u003e\",\"hovertext\":[\"A Voyage to Arcturus\",\"A Voyage to Arcturus\",\"A Voyage to Arcturus\",\"A Voyage to Arcturus\",\"A Voyage to Arcturus\",\"A Voyage to Arcturus\",\"A Voyage to Arcturus\",\"A Voyage to Arcturus\",\"A Voyage to Arcturus\",\"A Voyage to Arcturus\",\"A Voyage to Arcturus\",\"A Voyage to Arcturus\",\"A Voyage to Arcturus\",\"A Voyage to Arcturus\",\"A Voyage to Arcturus\",\"A Voyage to Arcturus\",\"A Voyage to Arcturus\",\"A Voyage to Arcturus\",\"A Voyage to Arcturus\",\"A Voyage to Arcturus\",\"A Voyage to Arcturus\"],\"legendgroup\":\"LINDSAY\",\"marker\":{\"color\":\"#FF6692\",\"symbol\":\"circle\"},\"mode\":\"markers\",\"name\":\"LINDSAY\",\"orientation\":\"v\",\"showlegend\":true,\"x\":[0.030516458231612982,0.05531717864795953,0.05267879143615717,0.056329586327317514,0.05881183246452181,0.07066690149571066,0.05808167517875731,0.07326589259961677,0.07452334033734717,0.08557440237414361,0.07729578267000155,0.058837598891706346,0.06301748280696606,0.06250586691546273,0.06191025777639328,0.04992518906628597,0.060959635224293256,0.05651513675837627,0.07045256660163222,0.06093594641735479,0.025481174111832015],\"xaxis\":\"x\",\"y\":[-0.016497259428435215,-0.020956560745876245,-0.0248294139482288,-0.03373467231587073,-0.02474548045845647,-0.06432528430278474,-0.07118331268042348,-0.0597725163165779,-0.05741093730149064,-0.0468601844220201,-0.0516149109555067,-0.038150232432468734,-0.042693897200138164,-0.04494261057804398,-0.05312715018202651,-0.06435433507067433,-0.04250062142525851,-0.03500507701396351,-0.04779222122834986,-0.026851326659230942,-0.031827889444864095],\"yaxis\":\"y\",\"type\":\"scatter\"},{\"alignmentgroup\":\"True\",\"hovertemplate\":\"\\u003cb\\u003e%{hovertext}\\u003c\\u002fb\\u003e\\u003cbr\\u003e\\u003cbr\\u003elabel=LINDSAY\\u003cbr\\u003ePC1=%{x}\\u003cextra\\u003e\\u003c\\u002fextra\\u003e\",\"hovertext\":[\"A Voyage to Arcturus\",\"A Voyage to Arcturus\",\"A Voyage to Arcturus\",\"A Voyage to Arcturus\",\"A Voyage to Arcturus\",\"A Voyage to Arcturus\",\"A Voyage to Arcturus\",\"A Voyage to Arcturus\",\"A Voyage to Arcturus\",\"A Voyage to Arcturus\",\"A Voyage to Arcturus\",\"A Voyage to Arcturus\",\"A Voyage to Arcturus\",\"A Voyage to Arcturus\",\"A Voyage to Arcturus\",\"A Voyage to Arcturus\",\"A Voyage to Arcturus\",\"A Voyage to Arcturus\",\"A Voyage to Arcturus\",\"A Voyage to Arcturus\",\"A Voyage to Arcturus\"],\"legendgroup\":\"LINDSAY\",\"marker\":{\"color\":\"#FF6692\",\"symbol\":\"circle\"},\"name\":\"LINDSAY\",\"notched\":true,\"offsetgroup\":\"LINDSAY\",\"showlegend\":false,\"x\":[0.030516458231612982,0.05531717864795953,0.05267879143615717,0.056329586327317514,0.05881183246452181,0.07066690149571066,0.05808167517875731,0.07326589259961677,0.07452334033734717,0.08557440237414361,0.07729578267000155,0.058837598891706346,0.06301748280696606,0.06250586691546273,0.06191025777639328,0.04992518906628597,0.060959635224293256,0.05651513675837627,0.07045256660163222,0.06093594641735479,0.025481174111832015],\"xaxis\":\"x2\",\"yaxis\":\"y2\",\"type\":\"box\"},{\"hovertemplate\":\"\\u003cb\\u003e%{hovertext}\\u003c\\u002fb\\u003e\\u003cbr\\u003e\\u003cbr\\u003elabel=HODGSON\\u003cbr\\u003ePC1=%{x}\\u003cbr\\u003ePC2=%{y}\\u003cextra\\u003e\\u003c\\u002fextra\\u003e\",\"hovertext\":[\"The Night Land\",\"The Night Land\",\"The Night Land\",\"The Night Land\",\"The Night Land\",\"The Night Land\",\"The Night Land\",\"The Night Land\",\"The Night Land\",\"The Night Land\",\"The Night Land\",\"The Night Land\",\"The Night Land\",\"The Night Land\",\"The Night Land\",\"The Night Land\",\"The Night Land\"],\"legendgroup\":\"HODGSON\",\"marker\":{\"color\":\"#B6E880\",\"symbol\":\"circle\"},\"mode\":\"markers\",\"name\":\"HODGSON\",\"orientation\":\"v\",\"showlegend\":true,\"x\":[0.09433485165753272,0.04479733346076336,0.05252692790604552,0.06209983879791979,0.07823465751039159,0.06248188524002206,0.10338698333316775,0.09344152120288121,0.10068920037770195,0.14160644837447944,0.13059770918549804,0.12685083336281366,0.13504958516075918,0.1329849779120475,0.11701863206145341,0.10920009387390191,0.1089564983952056],\"xaxis\":\"x\",\"y\":[-0.12468320391826354,-0.1399545220577668,-0.13931015805283964,-0.15986686037569742,-0.17430393483909024,-0.18133538686218828,-0.2344278369156081,-0.21033759625467408,-0.23153553232797297,-0.21865294520052217,-0.24041236649623815,-0.2178616099511304,-0.21352172169813732,-0.21831848437150594,-0.2406291265015155,-0.2164591301234709,-0.1822711294454528],\"yaxis\":\"y\",\"type\":\"scatter\"},{\"alignmentgroup\":\"True\",\"hovertemplate\":\"\\u003cb\\u003e%{hovertext}\\u003c\\u002fb\\u003e\\u003cbr\\u003e\\u003cbr\\u003elabel=HODGSON\\u003cbr\\u003ePC1=%{x}\\u003cextra\\u003e\\u003c\\u002fextra\\u003e\",\"hovertext\":[\"The Night Land\",\"The Night Land\",\"The Night Land\",\"The Night Land\",\"The Night Land\",\"The Night Land\",\"The Night Land\",\"The Night Land\",\"The Night Land\",\"The Night Land\",\"The Night Land\",\"The Night Land\",\"The Night Land\",\"The Night Land\",\"The Night Land\",\"The Night Land\",\"The Night Land\"],\"legendgroup\":\"HODGSON\",\"marker\":{\"color\":\"#B6E880\",\"symbol\":\"circle\"},\"name\":\"HODGSON\",\"notched\":true,\"offsetgroup\":\"HODGSON\",\"showlegend\":false,\"x\":[0.09433485165753272,0.04479733346076336,0.05252692790604552,0.06209983879791979,0.07823465751039159,0.06248188524002206,0.10338698333316775,0.09344152120288121,0.10068920037770195,0.14160644837447944,0.13059770918549804,0.12685083336281366,0.13504958516075918,0.1329849779120475,0.11701863206145341,0.10920009387390191,0.1089564983952056],\"xaxis\":\"x2\",\"yaxis\":\"y2\",\"type\":\"box\"},{\"hovertemplate\":\"\\u003cb\\u003e%{hovertext}\\u003c\\u002fb\\u003e\\u003cbr\\u003e\\u003cbr\\u003elabel=VONNEGUT\\u003cbr\\u003ePC1=%{x}\\u003cbr\\u003ePC2=%{y}\\u003cextra\\u003e\\u003c\\u002fextra\\u003e\",\"hovertext\":[\"2 B R 0 2 B\",\"2 B R 0 2 B\",\"2 B R 0 2 B\",\"2 B R 0 2 B\",\"2 B R 0 2 B\",\"2 B R 0 2 B\",\"The Big Trip Up Yonder\",\"The Big Trip Up Yonder\",\"The Big Trip Up Yonder\",\"The Big Trip Up Yonder\",\"The Big Trip Up Yonder\",\"The Big Trip Up Yonder\",\"The Big Trip Up Yonder\",\"The Big Trip Up Yonder\",\"The Big Trip Up Yonder\"],\"legendgroup\":\"VONNEGUT\",\"marker\":{\"color\":\"#FF97FF\",\"symbol\":\"circle\"},\"mode\":\"markers\",\"name\":\"VONNEGUT\",\"orientation\":\"v\",\"showlegend\":true,\"x\":[0.025117575957815837,0.02382407152561655,0.047847081482987636,0.03896902675464358,0.02556578768878628,0.02324068580885464,0.026483247224877965,0.0256936021301475,0.0240002581328589,0.031953365160262946,0.041892459674467655,0.039637399832281095,0.025556147764284345,0.02908510499526484,0.022385277564325214],\"xaxis\":\"x\",\"y\":[0.01636045219819471,0.03284005392157652,0.02114729624525258,0.030372650460563852,0.028468844417059342,0.01824700177634034,0.02458158905242323,0.03309499097876542,0.02789232055478318,0.02946773149086358,0.031890173736842164,0.028748238702780243,0.021255403700095002,0.028835771301542933,0.03193816538773324],\"yaxis\":\"y\",\"type\":\"scatter\"},{\"alignmentgroup\":\"True\",\"hovertemplate\":\"\\u003cb\\u003e%{hovertext}\\u003c\\u002fb\\u003e\\u003cbr\\u003e\\u003cbr\\u003elabel=VONNEGUT\\u003cbr\\u003ePC1=%{x}\\u003cextra\\u003e\\u003c\\u002fextra\\u003e\",\"hovertext\":[\"2 B R 0 2 B\",\"2 B R 0 2 B\",\"2 B R 0 2 B\",\"2 B R 0 2 B\",\"2 B R 0 2 B\",\"2 B R 0 2 B\",\"The Big Trip Up Yonder\",\"The Big Trip Up Yonder\",\"The Big Trip Up Yonder\",\"The Big Trip Up Yonder\",\"The Big Trip Up Yonder\",\"The Big Trip Up Yonder\",\"The Big Trip Up Yonder\",\"The Big Trip Up Yonder\",\"The Big Trip Up Yonder\"],\"legendgroup\":\"VONNEGUT\",\"marker\":{\"color\":\"#FF97FF\",\"symbol\":\"circle\"},\"name\":\"VONNEGUT\",\"notched\":true,\"offsetgroup\":\"VONNEGUT\",\"showlegend\":false,\"x\":[0.025117575957815837,0.02382407152561655,0.047847081482987636,0.03896902675464358,0.02556578768878628,0.02324068580885464,0.026483247224877965,0.0256936021301475,0.0240002581328589,0.031953365160262946,0.041892459674467655,0.039637399832281095,0.025556147764284345,0.02908510499526484,0.022385277564325214],\"xaxis\":\"x2\",\"yaxis\":\"y2\",\"type\":\"box\"},{\"hovertemplate\":\"\\u003cb\\u003e%{hovertext}\\u003c\\u002fb\\u003e\\u003cbr\\u003e\\u003cbr\\u003elabel=WEINBAUM\\u003cbr\\u003ePC1=%{x}\\u003cbr\\u003ePC2=%{y}\\u003cextra\\u003e\\u003c\\u002fextra\\u003e\",\"hovertext\":[\"A Martian Odyssey\",\"A Martian Odyssey\"],\"legendgroup\":\"WEINBAUM\",\"marker\":{\"color\":\"#FECB52\",\"symbol\":\"circle\"},\"mode\":\"markers\",\"name\":\"WEINBAUM\",\"orientation\":\"v\",\"showlegend\":true,\"x\":[0.01839301054702232,0.03846875851945886],\"xaxis\":\"x\",\"y\":[0.007641793891534304,-0.0007585075974629399],\"yaxis\":\"y\",\"type\":\"scatter\"},{\"alignmentgroup\":\"True\",\"hovertemplate\":\"\\u003cb\\u003e%{hovertext}\\u003c\\u002fb\\u003e\\u003cbr\\u003e\\u003cbr\\u003elabel=WEINBAUM\\u003cbr\\u003ePC1=%{x}\\u003cextra\\u003e\\u003c\\u002fextra\\u003e\",\"hovertext\":[\"A Martian Odyssey\",\"A Martian Odyssey\"],\"legendgroup\":\"WEINBAUM\",\"marker\":{\"color\":\"#FECB52\",\"symbol\":\"circle\"},\"name\":\"WEINBAUM\",\"notched\":true,\"offsetgroup\":\"WEINBAUM\",\"showlegend\":false,\"x\":[0.01839301054702232,0.03846875851945886],\"xaxis\":\"x2\",\"yaxis\":\"y2\",\"type\":\"box\"},{\"hovertemplate\":\"\\u003cb\\u003e%{hovertext}\\u003c\\u002fb\\u003e\\u003cbr\\u003e\\u003cbr\\u003elabel=DICK\\u003cbr\\u003ePC1=%{x}\\u003cbr\\u003ePC2=%{y}\\u003cextra\\u003e\\u003c\\u002fextra\\u003e\",\"hovertext\":[\"Beyond Lies the Wub\",\"Beyond Lies the Wub\",\"Beyond Lies the Wub\",\"Beyond Lies the Wub\",\"Beyond Lies the Wub\",\"The Eyes Have It\",\"The Eyes Have It\",\"Second Variety\",\"Second Variety\",\"Second Variety\",\"Second Variety\",\"Second Variety\",\"Second Variety\",\"Second Variety\",\"Second Variety\",\"Second Variety\",\"Second Variety\",\"Second Variety\",\"Second Variety\",\"Second Variety\",\"Second Variety\",\"Second Variety\",\"Second Variety\",\"Second Variety\",\"Second Variety\",\"Second Variety\",\"Second Variety\",\"Second Variety\",\"Second Variety\",\"Second Variety\",\"Second Variety\",\"Second Variety\",\"Second Variety\",\"Second Variety\",\"Second Variety\",\"Second Variety\",\"Second Variety\",\"Second Variety\",\"Second Variety\",\"Second Variety\",\"Second Variety\",\"Second Variety\",\"Second Variety\",\"Second Variety\",\"Second Variety\",\"Second Variety\",\"Second Variety\",\"Second Variety\",\"Second Variety\",\"Second Variety\",\"Second Variety\",\"Second Variety\",\"The Hanging Stranger\",\"The Hanging Stranger\",\"The Hanging Stranger\",\"The Hanging Stranger\",\"The Hanging Stranger\",\"The Hanging Stranger\",\"The Hanging Stranger\",\"The Hanging Stranger\"],\"legendgroup\":\"DICK\",\"marker\":{\"color\":\"#636efa\",\"symbol\":\"circle\"},\"mode\":\"markers\",\"name\":\"DICK\",\"orientation\":\"v\",\"showlegend\":true,\"x\":[0.02536997612601669,0.019083423794919334,0.01905429124330782,0.02664366431443997,0.00950909014217394,0.03211377839291321,0.036978129936208796,0.0841747496218953,0.07374067542506954,0.1959388023351942,0.12181125739640725,0.006644412918286678,0.06542177000450662,0.22032973762388855,0.19724202525899653,0.22331799755746773,0.18153267746065863,0.19746334180956285,0.22862487715423924,0.1746992323962899,0.19104644617200678,0.18983921405437043,0.23827067140345978,0.21845804394890905,0.17392816922938628,0.2219067050085749,0.2151839035104461,0.26643081930746026,0.25638151517914354,0.25836397690157953,0.22260895502720027,0.2940873356840258,0.24392090875004543,0.27279151361982024,0.3035661087457562,0.23467455822649552,0.17604030249553446,0.2830675930232206,0.272777742028819,0.2829701422433433,0.2846512682699793,0.23480771901690195,0.2208115780154537,0.1502419027277594,0.24884110685636066,0.2003001119918999,0.22590366803933787,0.18608677818706088,0.2300053440661706,0.12267261133168259,0.21010429278904225,0.16304177087869118,0.04393042115976174,0.04754165591007224,0.04551475415941085,0.04760496439404147,0.04946922494729788,0.04853923839620108,0.03676577726389777,0.028668577311015648],\"xaxis\":\"x\",\"y\":[0.03205266998373975,0.027736104693949146,0.010561064412467342,0.030587406837413247,0.010667630164880143,0.02574697417847959,0.008712080893004943,0.12273603090289797,0.10650232480930844,0.3445855387344865,0.2127333163651787,0.07197270012010554,0.11541484787458961,0.36383669721730755,0.2973944230289901,0.3552705184799427,0.2824950632864842,0.30614773424007385,0.35369610968613807,0.2682180521386783,0.3062393010426057,0.30758983739718004,0.4057554821319908,0.34574928874694555,0.2802608570309242,0.4342388631984358,0.31363309359270175,0.4445321507675115,0.39566648242667046,0.4027578914766967,0.38042745218763896,0.46311912050539517,0.4041634806434628,0.4401186283001691,0.5037538210641063,0.38948647387787055,0.2686311099793694,0.44730637395127093,0.43868630883942367,0.4343664239006507,0.45907065880102177,0.3610566685684465,0.32153278270205443,0.24944505347153717,0.3641241708567792,0.3194839734825396,0.36488967890221174,0.30440938492420444,0.4092484778997103,0.23061665321617406,0.344887170833125,0.2812948854482227,0.037115208206678074,0.03092658900745764,0.024893009581116666,0.028113877246968993,0.04128376702068377,0.03270553068360239,0.03969948220338599,0.022227151195706],\"yaxis\":\"y\",\"type\":\"scatter\"},{\"alignmentgroup\":\"True\",\"hovertemplate\":\"\\u003cb\\u003e%{hovertext}\\u003c\\u002fb\\u003e\\u003cbr\\u003e\\u003cbr\\u003elabel=DICK\\u003cbr\\u003ePC1=%{x}\\u003cextra\\u003e\\u003c\\u002fextra\\u003e\",\"hovertext\":[\"Beyond Lies the Wub\",\"Beyond Lies the Wub\",\"Beyond Lies the Wub\",\"Beyond Lies the Wub\",\"Beyond Lies the Wub\",\"The Eyes Have It\",\"The Eyes Have It\",\"Second Variety\",\"Second Variety\",\"Second Variety\",\"Second Variety\",\"Second Variety\",\"Second Variety\",\"Second Variety\",\"Second Variety\",\"Second Variety\",\"Second Variety\",\"Second Variety\",\"Second Variety\",\"Second Variety\",\"Second Variety\",\"Second Variety\",\"Second Variety\",\"Second Variety\",\"Second Variety\",\"Second Variety\",\"Second Variety\",\"Second Variety\",\"Second Variety\",\"Second Variety\",\"Second Variety\",\"Second Variety\",\"Second Variety\",\"Second Variety\",\"Second Variety\",\"Second Variety\",\"Second Variety\",\"Second Variety\",\"Second Variety\",\"Second Variety\",\"Second Variety\",\"Second Variety\",\"Second Variety\",\"Second Variety\",\"Second Variety\",\"Second Variety\",\"Second Variety\",\"Second Variety\",\"Second Variety\",\"Second Variety\",\"Second Variety\",\"Second Variety\",\"The Hanging Stranger\",\"The Hanging Stranger\",\"The Hanging Stranger\",\"The Hanging Stranger\",\"The Hanging Stranger\",\"The Hanging Stranger\",\"The Hanging Stranger\",\"The Hanging Stranger\"],\"legendgroup\":\"DICK\",\"marker\":{\"color\":\"#636efa\",\"symbol\":\"circle\"},\"name\":\"DICK\",\"notched\":true,\"offsetgroup\":\"DICK\",\"showlegend\":false,\"x\":[0.02536997612601669,0.019083423794919334,0.01905429124330782,0.02664366431443997,0.00950909014217394,0.03211377839291321,0.036978129936208796,0.0841747496218953,0.07374067542506954,0.1959388023351942,0.12181125739640725,0.006644412918286678,0.06542177000450662,0.22032973762388855,0.19724202525899653,0.22331799755746773,0.18153267746065863,0.19746334180956285,0.22862487715423924,0.1746992323962899,0.19104644617200678,0.18983921405437043,0.23827067140345978,0.21845804394890905,0.17392816922938628,0.2219067050085749,0.2151839035104461,0.26643081930746026,0.25638151517914354,0.25836397690157953,0.22260895502720027,0.2940873356840258,0.24392090875004543,0.27279151361982024,0.3035661087457562,0.23467455822649552,0.17604030249553446,0.2830675930232206,0.272777742028819,0.2829701422433433,0.2846512682699793,0.23480771901690195,0.2208115780154537,0.1502419027277594,0.24884110685636066,0.2003001119918999,0.22590366803933787,0.18608677818706088,0.2300053440661706,0.12267261133168259,0.21010429278904225,0.16304177087869118,0.04393042115976174,0.04754165591007224,0.04551475415941085,0.04760496439404147,0.04946922494729788,0.04853923839620108,0.03676577726389777,0.028668577311015648],\"xaxis\":\"x2\",\"yaxis\":\"y2\",\"type\":\"box\"},{\"hovertemplate\":\"\\u003cb\\u003e%{hovertext}\\u003c\\u002fb\\u003e\\u003cbr\\u003e\\u003cbr\\u003elabel=LINEBARGER\\u003cbr\\u003ePC1=%{x}\\u003cbr\\u003ePC2=%{y}\\u003cextra\\u003e\\u003c\\u002fextra\\u003e\",\"hovertext\":[\"The Game of Rat and Dragon\",\"The Game of Rat and Dragon\",\"The Game of Rat and Dragon\"],\"legendgroup\":\"LINEBARGER\",\"marker\":{\"color\":\"#EF553B\",\"symbol\":\"circle\"},\"mode\":\"markers\",\"name\":\"LINEBARGER\",\"orientation\":\"v\",\"showlegend\":true,\"x\":[0.01595348745123026,0.03125512024020509,0.03855300226882525],\"xaxis\":\"x\",\"y\":[0.006746965335183461,-0.01142844420074874,0.00038890053256190914],\"yaxis\":\"y\",\"type\":\"scatter\"},{\"alignmentgroup\":\"True\",\"hovertemplate\":\"\\u003cb\\u003e%{hovertext}\\u003c\\u002fb\\u003e\\u003cbr\\u003e\\u003cbr\\u003elabel=LINEBARGER\\u003cbr\\u003ePC1=%{x}\\u003cextra\\u003e\\u003c\\u002fextra\\u003e\",\"hovertext\":[\"The Game of Rat and Dragon\",\"The Game of Rat and Dragon\",\"The Game of Rat and Dragon\"],\"legendgroup\":\"LINEBARGER\",\"marker\":{\"color\":\"#EF553B\",\"symbol\":\"circle\"},\"name\":\"LINEBARGER\",\"notched\":true,\"offsetgroup\":\"LINEBARGER\",\"showlegend\":false,\"x\":[0.01595348745123026,0.03125512024020509,0.03855300226882525],\"xaxis\":\"x2\",\"yaxis\":\"y2\",\"type\":\"box\"},{\"hovertemplate\":\"\\u003cb\\u003e%{hovertext}\\u003c\\u002fb\\u003e\\u003cbr\\u003e\\u003cbr\\u003elabel=HOWARD\\u003cbr\\u003ePC1=%{x}\\u003cbr\\u003ePC2=%{y}\\u003cextra\\u003e\\u003c\\u002fextra\\u003e\",\"hovertext\":[\"The Hour of the Dragon\",\"The Hour of the Dragon\",\"The Hour of the Dragon\",\"The Hour of the Dragon\",\"The Hour of the Dragon\",\"The Hour of the Dragon\",\"The Hour of the Dragon\",\"The Hour of the Dragon\",\"The Hour of the Dragon\",\"The Hour of the Dragon\",\"The Hour of the Dragon\",\"The Hour of the Dragon\",\"The Hour of the Dragon\",\"The Hour of the Dragon\",\"The Hour of the Dragon\",\"The Hour of the Dragon\",\"The Hour of the Dragon\",\"The Hour of the Dragon\",\"The Hour of the Dragon\",\"The Hour of the Dragon\",\"The Hour of the Dragon\",\"The Hour of the Dragon\"],\"legendgroup\":\"HOWARD\",\"marker\":{\"color\":\"#00cc96\",\"symbol\":\"circle\"},\"mode\":\"markers\",\"name\":\"HOWARD\",\"orientation\":\"v\",\"showlegend\":true,\"x\":[0.04521678591990297,0.05017840758006189,0.05426782490441906,0.06912531067234388,0.07291067668288564,0.08036635194076276,0.07708847100096701,0.052169174995356796,0.06838575049661196,0.06040107625651563,0.046575551467249586,0.05762503190519995,0.04933748052931598,0.054636329573121235,0.04570514198835327,0.044453367846655656,0.05961989255093632,0.08035444731457626,0.05821811085800813,0.04746473478861105,0.05155005372708921,0.05298554707035271],\"xaxis\":\"x\",\"y\":[-0.03719407694696792,-0.03538223716337208,-0.03772915869905119,-0.056066338231487725,-0.0687696125866791,-0.07462850457236343,-0.06696209915393232,-0.030153525256215858,-0.06053332686150127,-0.05575132714019092,-0.04440809091141869,-0.03470175601745856,-0.03358178914213693,-0.03539664412361091,-0.03348768307703106,-0.03989694697793187,-0.05962430133184239,-0.0741170148465161,-0.05542580697892755,-0.04512019747110098,-0.03925989339398873,-0.04132838450734669],\"yaxis\":\"y\",\"type\":\"scatter\"},{\"alignmentgroup\":\"True\",\"hovertemplate\":\"\\u003cb\\u003e%{hovertext}\\u003c\\u002fb\\u003e\\u003cbr\\u003e\\u003cbr\\u003elabel=HOWARD\\u003cbr\\u003ePC1=%{x}\\u003cextra\\u003e\\u003c\\u002fextra\\u003e\",\"hovertext\":[\"The Hour of the Dragon\",\"The Hour of the Dragon\",\"The Hour of the Dragon\",\"The Hour of the Dragon\",\"The Hour of the Dragon\",\"The Hour of the Dragon\",\"The Hour of the Dragon\",\"The Hour of the Dragon\",\"The Hour of the Dragon\",\"The Hour of the Dragon\",\"The Hour of the Dragon\",\"The Hour of the Dragon\",\"The Hour of the Dragon\",\"The Hour of the Dragon\",\"The Hour of the Dragon\",\"The Hour of the Dragon\",\"The Hour of the Dragon\",\"The Hour of the Dragon\",\"The Hour of the Dragon\",\"The Hour of the Dragon\",\"The Hour of the Dragon\",\"The Hour of the Dragon\"],\"legendgroup\":\"HOWARD\",\"marker\":{\"color\":\"#00cc96\",\"symbol\":\"circle\"},\"name\":\"HOWARD\",\"notched\":true,\"offsetgroup\":\"HOWARD\",\"showlegend\":false,\"x\":[0.04521678591990297,0.05017840758006189,0.05426782490441906,0.06912531067234388,0.07291067668288564,0.08036635194076276,0.07708847100096701,0.052169174995356796,0.06838575049661196,0.06040107625651563,0.046575551467249586,0.05762503190519995,0.04933748052931598,0.054636329573121235,0.04570514198835327,0.044453367846655656,0.05961989255093632,0.08035444731457626,0.05821811085800813,0.04746473478861105,0.05155005372708921,0.05298554707035271],\"xaxis\":\"x2\",\"yaxis\":\"y2\",\"type\":\"box\"},{\"hovertemplate\":\"\\u003cb\\u003e%{hovertext}\\u003c\\u002fb\\u003e\\u003cbr\\u003e\\u003cbr\\u003elabel=KORNBLUTH\\u003cbr\\u003ePC1=%{x}\\u003cbr\\u003ePC2=%{y}\\u003cextra\\u003e\\u003c\\u002fextra\\u003e\",\"hovertext\":[\"The Marching Morons\",\"The Marching Morons\",\"The Marching Morons\",\"The Marching Morons\",\"The Marching Morons\"],\"legendgroup\":\"KORNBLUTH\",\"marker\":{\"color\":\"#ab63fa\",\"symbol\":\"circle\"},\"mode\":\"markers\",\"name\":\"KORNBLUTH\",\"orientation\":\"v\",\"showlegend\":true,\"x\":[0.02875342516177428,0.027941736739038273,0.03488751128608539,0.026780603204919623,0.008513264778874756],\"xaxis\":\"x\",\"y\":[0.021346766781927262,0.03043928216746421,0.01969573277829131,0.024223241223938437,0.017198910139404413],\"yaxis\":\"y\",\"type\":\"scatter\"},{\"alignmentgroup\":\"True\",\"hovertemplate\":\"\\u003cb\\u003e%{hovertext}\\u003c\\u002fb\\u003e\\u003cbr\\u003e\\u003cbr\\u003elabel=KORNBLUTH\\u003cbr\\u003ePC1=%{x}\\u003cextra\\u003e\\u003c\\u002fextra\\u003e\",\"hovertext\":[\"The Marching Morons\",\"The Marching Morons\",\"The Marching Morons\",\"The Marching Morons\",\"The Marching Morons\"],\"legendgroup\":\"KORNBLUTH\",\"marker\":{\"color\":\"#ab63fa\",\"symbol\":\"circle\"},\"name\":\"KORNBLUTH\",\"notched\":true,\"offsetgroup\":\"KORNBLUTH\",\"showlegend\":false,\"x\":[0.02875342516177428,0.027941736739038273,0.03488751128608539,0.026780603204919623,0.008513264778874756],\"xaxis\":\"x2\",\"yaxis\":\"y2\",\"type\":\"box\"}],                        {\"template\":{\"data\":{\"histogram2dcontour\":[{\"type\":\"histogram2dcontour\",\"colorbar\":{\"outlinewidth\":0,\"ticks\":\"\"},\"colorscale\":[[0.0,\"#0d0887\"],[0.1111111111111111,\"#46039f\"],[0.2222222222222222,\"#7201a8\"],[0.3333333333333333,\"#9c179e\"],[0.4444444444444444,\"#bd3786\"],[0.5555555555555556,\"#d8576b\"],[0.6666666666666666,\"#ed7953\"],[0.7777777777777778,\"#fb9f3a\"],[0.8888888888888888,\"#fdca26\"],[1.0,\"#f0f921\"]]}],\"choropleth\":[{\"type\":\"choropleth\",\"colorbar\":{\"outlinewidth\":0,\"ticks\":\"\"}}],\"histogram2d\":[{\"type\":\"histogram2d\",\"colorbar\":{\"outlinewidth\":0,\"ticks\":\"\"},\"colorscale\":[[0.0,\"#0d0887\"],[0.1111111111111111,\"#46039f\"],[0.2222222222222222,\"#7201a8\"],[0.3333333333333333,\"#9c179e\"],[0.4444444444444444,\"#bd3786\"],[0.5555555555555556,\"#d8576b\"],[0.6666666666666666,\"#ed7953\"],[0.7777777777777778,\"#fb9f3a\"],[0.8888888888888888,\"#fdca26\"],[1.0,\"#f0f921\"]]}],\"heatmap\":[{\"type\":\"heatmap\",\"colorbar\":{\"outlinewidth\":0,\"ticks\":\"\"},\"colorscale\":[[0.0,\"#0d0887\"],[0.1111111111111111,\"#46039f\"],[0.2222222222222222,\"#7201a8\"],[0.3333333333333333,\"#9c179e\"],[0.4444444444444444,\"#bd3786\"],[0.5555555555555556,\"#d8576b\"],[0.6666666666666666,\"#ed7953\"],[0.7777777777777778,\"#fb9f3a\"],[0.8888888888888888,\"#fdca26\"],[1.0,\"#f0f921\"]]}],\"heatmapgl\":[{\"type\":\"heatmapgl\",\"colorbar\":{\"outlinewidth\":0,\"ticks\":\"\"},\"colorscale\":[[0.0,\"#0d0887\"],[0.1111111111111111,\"#46039f\"],[0.2222222222222222,\"#7201a8\"],[0.3333333333333333,\"#9c179e\"],[0.4444444444444444,\"#bd3786\"],[0.5555555555555556,\"#d8576b\"],[0.6666666666666666,\"#ed7953\"],[0.7777777777777778,\"#fb9f3a\"],[0.8888888888888888,\"#fdca26\"],[1.0,\"#f0f921\"]]}],\"contourcarpet\":[{\"type\":\"contourcarpet\",\"colorbar\":{\"outlinewidth\":0,\"ticks\":\"\"}}],\"contour\":[{\"type\":\"contour\",\"colorbar\":{\"outlinewidth\":0,\"ticks\":\"\"},\"colorscale\":[[0.0,\"#0d0887\"],[0.1111111111111111,\"#46039f\"],[0.2222222222222222,\"#7201a8\"],[0.3333333333333333,\"#9c179e\"],[0.4444444444444444,\"#bd3786\"],[0.5555555555555556,\"#d8576b\"],[0.6666666666666666,\"#ed7953\"],[0.7777777777777778,\"#fb9f3a\"],[0.8888888888888888,\"#fdca26\"],[1.0,\"#f0f921\"]]}],\"surface\":[{\"type\":\"surface\",\"colorbar\":{\"outlinewidth\":0,\"ticks\":\"\"},\"colorscale\":[[0.0,\"#0d0887\"],[0.1111111111111111,\"#46039f\"],[0.2222222222222222,\"#7201a8\"],[0.3333333333333333,\"#9c179e\"],[0.4444444444444444,\"#bd3786\"],[0.5555555555555556,\"#d8576b\"],[0.6666666666666666,\"#ed7953\"],[0.7777777777777778,\"#fb9f3a\"],[0.8888888888888888,\"#fdca26\"],[1.0,\"#f0f921\"]]}],\"mesh3d\":[{\"type\":\"mesh3d\",\"colorbar\":{\"outlinewidth\":0,\"ticks\":\"\"}}],\"scatter\":[{\"fillpattern\":{\"fillmode\":\"overlay\",\"size\":10,\"solidity\":0.2},\"type\":\"scatter\"}],\"parcoords\":[{\"type\":\"parcoords\",\"line\":{\"colorbar\":{\"outlinewidth\":0,\"ticks\":\"\"}}}],\"scatterpolargl\":[{\"type\":\"scatterpolargl\",\"marker\":{\"colorbar\":{\"outlinewidth\":0,\"ticks\":\"\"}}}],\"bar\":[{\"error_x\":{\"color\":\"#2a3f5f\"},\"error_y\":{\"color\":\"#2a3f5f\"},\"marker\":{\"line\":{\"color\":\"#E5ECF6\",\"width\":0.5},\"pattern\":{\"fillmode\":\"overlay\",\"size\":10,\"solidity\":0.2}},\"type\":\"bar\"}],\"scattergeo\":[{\"type\":\"scattergeo\",\"marker\":{\"colorbar\":{\"outlinewidth\":0,\"ticks\":\"\"}}}],\"scatterpolar\":[{\"type\":\"scatterpolar\",\"marker\":{\"colorbar\":{\"outlinewidth\":0,\"ticks\":\"\"}}}],\"histogram\":[{\"marker\":{\"pattern\":{\"fillmode\":\"overlay\",\"size\":10,\"solidity\":0.2}},\"type\":\"histogram\"}],\"scattergl\":[{\"type\":\"scattergl\",\"marker\":{\"colorbar\":{\"outlinewidth\":0,\"ticks\":\"\"}}}],\"scatter3d\":[{\"type\":\"scatter3d\",\"line\":{\"colorbar\":{\"outlinewidth\":0,\"ticks\":\"\"}},\"marker\":{\"colorbar\":{\"outlinewidth\":0,\"ticks\":\"\"}}}],\"scattermapbox\":[{\"type\":\"scattermapbox\",\"marker\":{\"colorbar\":{\"outlinewidth\":0,\"ticks\":\"\"}}}],\"scatterternary\":[{\"type\":\"scatterternary\",\"marker\":{\"colorbar\":{\"outlinewidth\":0,\"ticks\":\"\"}}}],\"scattercarpet\":[{\"type\":\"scattercarpet\",\"marker\":{\"colorbar\":{\"outlinewidth\":0,\"ticks\":\"\"}}}],\"carpet\":[{\"aaxis\":{\"endlinecolor\":\"#2a3f5f\",\"gridcolor\":\"white\",\"linecolor\":\"white\",\"minorgridcolor\":\"white\",\"startlinecolor\":\"#2a3f5f\"},\"baxis\":{\"endlinecolor\":\"#2a3f5f\",\"gridcolor\":\"white\",\"linecolor\":\"white\",\"minorgridcolor\":\"white\",\"startlinecolor\":\"#2a3f5f\"},\"type\":\"carpet\"}],\"table\":[{\"cells\":{\"fill\":{\"color\":\"#EBF0F8\"},\"line\":{\"color\":\"white\"}},\"header\":{\"fill\":{\"color\":\"#C8D4E3\"},\"line\":{\"color\":\"white\"}},\"type\":\"table\"}],\"barpolar\":[{\"marker\":{\"line\":{\"color\":\"#E5ECF6\",\"width\":0.5},\"pattern\":{\"fillmode\":\"overlay\",\"size\":10,\"solidity\":0.2}},\"type\":\"barpolar\"}],\"pie\":[{\"automargin\":true,\"type\":\"pie\"}]},\"layout\":{\"autotypenumbers\":\"strict\",\"colorway\":[\"#636efa\",\"#EF553B\",\"#00cc96\",\"#ab63fa\",\"#FFA15A\",\"#19d3f3\",\"#FF6692\",\"#B6E880\",\"#FF97FF\",\"#FECB52\"],\"font\":{\"color\":\"#2a3f5f\"},\"hovermode\":\"closest\",\"hoverlabel\":{\"align\":\"left\"},\"paper_bgcolor\":\"white\",\"plot_bgcolor\":\"#E5ECF6\",\"polar\":{\"bgcolor\":\"#E5ECF6\",\"angularaxis\":{\"gridcolor\":\"white\",\"linecolor\":\"white\",\"ticks\":\"\"},\"radialaxis\":{\"gridcolor\":\"white\",\"linecolor\":\"white\",\"ticks\":\"\"}},\"ternary\":{\"bgcolor\":\"#E5ECF6\",\"aaxis\":{\"gridcolor\":\"white\",\"linecolor\":\"white\",\"ticks\":\"\"},\"baxis\":{\"gridcolor\":\"white\",\"linecolor\":\"white\",\"ticks\":\"\"},\"caxis\":{\"gridcolor\":\"white\",\"linecolor\":\"white\",\"ticks\":\"\"}},\"coloraxis\":{\"colorbar\":{\"outlinewidth\":0,\"ticks\":\"\"}},\"colorscale\":{\"sequential\":[[0.0,\"#0d0887\"],[0.1111111111111111,\"#46039f\"],[0.2222222222222222,\"#7201a8\"],[0.3333333333333333,\"#9c179e\"],[0.4444444444444444,\"#bd3786\"],[0.5555555555555556,\"#d8576b\"],[0.6666666666666666,\"#ed7953\"],[0.7777777777777778,\"#fb9f3a\"],[0.8888888888888888,\"#fdca26\"],[1.0,\"#f0f921\"]],\"sequentialminus\":[[0.0,\"#0d0887\"],[0.1111111111111111,\"#46039f\"],[0.2222222222222222,\"#7201a8\"],[0.3333333333333333,\"#9c179e\"],[0.4444444444444444,\"#bd3786\"],[0.5555555555555556,\"#d8576b\"],[0.6666666666666666,\"#ed7953\"],[0.7777777777777778,\"#fb9f3a\"],[0.8888888888888888,\"#fdca26\"],[1.0,\"#f0f921\"]],\"diverging\":[[0,\"#8e0152\"],[0.1,\"#c51b7d\"],[0.2,\"#de77ae\"],[0.3,\"#f1b6da\"],[0.4,\"#fde0ef\"],[0.5,\"#f7f7f7\"],[0.6,\"#e6f5d0\"],[0.7,\"#b8e186\"],[0.8,\"#7fbc41\"],[0.9,\"#4d9221\"],[1,\"#276419\"]]},\"xaxis\":{\"gridcolor\":\"white\",\"linecolor\":\"white\",\"ticks\":\"\",\"title\":{\"standoff\":15},\"zerolinecolor\":\"white\",\"automargin\":true,\"zerolinewidth\":2},\"yaxis\":{\"gridcolor\":\"white\",\"linecolor\":\"white\",\"ticks\":\"\",\"title\":{\"standoff\":15},\"zerolinecolor\":\"white\",\"automargin\":true,\"zerolinewidth\":2},\"scene\":{\"xaxis\":{\"backgroundcolor\":\"#E5ECF6\",\"gridcolor\":\"white\",\"linecolor\":\"white\",\"showbackground\":true,\"ticks\":\"\",\"zerolinecolor\":\"white\",\"gridwidth\":2},\"yaxis\":{\"backgroundcolor\":\"#E5ECF6\",\"gridcolor\":\"white\",\"linecolor\":\"white\",\"showbackground\":true,\"ticks\":\"\",\"zerolinecolor\":\"white\",\"gridwidth\":2},\"zaxis\":{\"backgroundcolor\":\"#E5ECF6\",\"gridcolor\":\"white\",\"linecolor\":\"white\",\"showbackground\":true,\"ticks\":\"\",\"zerolinecolor\":\"white\",\"gridwidth\":2}},\"shapedefaults\":{\"line\":{\"color\":\"#2a3f5f\"}},\"annotationdefaults\":{\"arrowcolor\":\"#2a3f5f\",\"arrowhead\":0,\"arrowwidth\":1},\"geo\":{\"bgcolor\":\"white\",\"landcolor\":\"#E5ECF6\",\"subunitcolor\":\"white\",\"showland\":true,\"showlakes\":true,\"lakecolor\":\"white\"},\"title\":{\"x\":0.05},\"mapbox\":{\"style\":\"light\"}}},\"xaxis\":{\"anchor\":\"y\",\"domain\":[0.0,1.0],\"title\":{\"text\":\"PC1\"}},\"yaxis\":{\"anchor\":\"x\",\"domain\":[0.0,0.7326],\"title\":{\"text\":\"PC2\"}},\"xaxis2\":{\"anchor\":\"y2\",\"domain\":[0.0,1.0],\"matches\":\"x\",\"showticklabels\":false,\"showgrid\":true},\"yaxis2\":{\"anchor\":\"x2\",\"domain\":[0.7426,1.0],\"matches\":\"y2\",\"showticklabels\":false,\"showline\":false,\"ticks\":\"\",\"showgrid\":false},\"legend\":{\"title\":{\"text\":\"label\"},\"tracegroupgap\":0},\"margin\":{\"t\":60}},                        {\"responsive\": true}                    ).then(function(){\n",
              "                            \n",
              "var gd = document.getElementById('65d8b3db-0023-4c21-99ec-90ae3afa675d');\n",
              "var x = new MutationObserver(function (mutations, observer) {{\n",
              "        var display = window.getComputedStyle(gd).display;\n",
              "        if (!display || display === 'none') {{\n",
              "            console.log([gd, 'removed!']);\n",
              "            Plotly.purge(gd);\n",
              "            observer.disconnect();\n",
              "        }}\n",
              "}});\n",
              "\n",
              "// Listen for the removal of the full notebook cells\n",
              "var notebookContainer = gd.closest('#notebook-container');\n",
              "if (notebookContainer) {{\n",
              "    x.observe(notebookContainer, {childList: true});\n",
              "}}\n",
              "\n",
              "// Listen for the clearing of the current output cell\n",
              "var outputEl = gd.closest('.output');\n",
              "if (outputEl) {{\n",
              "    x.observe(outputEl, {childList: true});\n",
              "}}\n",
              "\n",
              "                        })                };                            </script>        </div>\n",
              "</body>\n",
              "</html>"
            ]
          },
          "metadata": {}
        }
      ],
      "source": [
        "vis_pcs(DCM_c, 1, 2)"
      ]
    },
    {
      "cell_type": "markdown",
      "metadata": {
        "id": "ewS9Dehcn7KG"
      },
      "source": [
        "## Chaps, PC 2 and 3"
      ]
    },
    {
      "cell_type": "code",
      "execution_count": null,
      "metadata": {
        "id": "Ptsq_0e7n7KG",
        "colab": {
          "base_uri": "https://localhost:8080/",
          "height": 562
        },
        "outputId": "4c8efd92-384c-4f44-9827-908890cb1001"
      },
      "outputs": [
        {
          "output_type": "display_data",
          "data": {
            "text/html": [
              "<html>\n",
              "<head><meta charset=\"utf-8\" /></head>\n",
              "<body>\n",
              "    <div>            <script src=\"https://cdnjs.cloudflare.com/ajax/libs/mathjax/2.7.5/MathJax.js?config=TeX-AMS-MML_SVG\"></script><script type=\"text/javascript\">if (window.MathJax && window.MathJax.Hub && window.MathJax.Hub.Config) {window.MathJax.Hub.Config({SVG: {font: \"STIX-Web\"}});}</script>                <script type=\"text/javascript\">window.PlotlyConfig = {MathJaxConfig: 'local'};</script>\n",
              "        <script charset=\"utf-8\" src=\"https://cdn.plot.ly/plotly-2.24.1.min.js\"></script>                <div id=\"f62fd5fb-b9b8-446b-aa57-e52899d60104\" class=\"plotly-graph-div\" style=\"height:525px; width:100%;\"></div>            <script type=\"text/javascript\">                                    window.PLOTLYENV=window.PLOTLYENV || {};                                    if (document.getElementById(\"f62fd5fb-b9b8-446b-aa57-e52899d60104\")) {                    Plotly.newPlot(                        \"f62fd5fb-b9b8-446b-aa57-e52899d60104\",                        [{\"hovertemplate\":\"\\u003cb\\u003e%{hovertext}\\u003c\\u002fb\\u003e\\u003cbr\\u003e\\u003cbr\\u003elabel=WELLS\\u003cbr\\u003ePC2=%{x}\\u003cbr\\u003ePC3=%{y}\\u003cextra\\u003e\\u003c\\u002fextra\\u003e\",\"hovertext\":[\"The Time Machine\",\"The Time Machine\",\"The Time Machine\",\"The Time Machine\",\"The Time Machine\",\"The Time Machine\",\"The Time Machine\",\"The Time Machine\",\"The Time Machine\",\"The Time Machine\",\"The Time Machine\",\"The Time Machine\",\"The Time Machine\",\"The Time Machine\",\"The Time Machine\",\"The Time Machine\",\"The War of the Worlds\",\"The War of the Worlds\",\"The War of the Worlds\",\"The War of the Worlds\",\"The War of the Worlds\",\"The War of the Worlds\",\"The War of the Worlds\",\"The War of the Worlds\",\"The War of the Worlds\",\"The War of the Worlds\",\"The War of the Worlds\",\"The War of the Worlds\",\"The War of the Worlds\",\"The War of the Worlds\",\"The War of the Worlds\",\"The War of the Worlds\",\"The War of the Worlds\",\"The War of the Worlds\",\"The War of the Worlds\",\"The War of the Worlds\",\"The War of the Worlds\",\"The War of the Worlds\",\"The War of the Worlds\",\"The War of the Worlds\",\"The War of the Worlds\",\"The War of the Worlds\",\"The War of the Worlds\",\"The island of Doctor Moreau\",\"The island of Doctor Moreau\",\"The island of Doctor Moreau\",\"The island of Doctor Moreau\",\"The island of Doctor Moreau\",\"The island of Doctor Moreau\",\"The island of Doctor Moreau\",\"The island of Doctor Moreau\",\"The island of Doctor Moreau\",\"The island of Doctor Moreau\",\"The island of Doctor Moreau\",\"The island of Doctor Moreau\",\"The island of Doctor Moreau\",\"The island of Doctor Moreau\",\"The island of Doctor Moreau\",\"The island of Doctor Moreau\",\"The island of Doctor Moreau\",\"The island of Doctor Moreau\",\"The island of Doctor Moreau\",\"The island of Doctor Moreau\",\"The island of Doctor Moreau\",\"The island of Doctor Moreau\",\"The Country of the Blind, and Other Stories\",\"The Country of the Blind, and Other Stories\",\"The Country of the Blind, and Other Stories\",\"The Country of the Blind, and Other Stories\",\"The Country of the Blind, and Other Stories\",\"The Country of the Blind, and Other Stories\",\"The Country of the Blind, and Other Stories\",\"The Country of the Blind, and Other Stories\",\"The Country of the Blind, and Other Stories\",\"The Country of the Blind, and Other Stories\",\"The Country of the Blind, and Other Stories\",\"The Country of the Blind, and Other Stories\",\"The Country of the Blind, and Other Stories\",\"The Country of the Blind, and Other Stories\",\"The Country of the Blind, and Other Stories\",\"The Country of the Blind, and Other Stories\",\"The Country of the Blind, and Other Stories\",\"The Country of the Blind, and Other Stories\",\"The Country of the Blind, and Other Stories\",\"The Country of the Blind, and Other Stories\",\"The Country of the Blind, and Other Stories\",\"The Country of the Blind, and Other Stories\",\"The Country of the Blind, and Other Stories\",\"The Country of the Blind, and Other Stories\",\"The Country of the Blind, and Other Stories\",\"The Country of the Blind, and Other Stories\",\"The Country of the Blind, and Other Stories\",\"The Country of the Blind, and Other Stories\",\"The Country of the Blind, and Other Stories\",\"The Country of the Blind, and Other Stories\",\"The Country of the Blind, and Other Stories\",\"The Country of the Blind, and Other Stories\",\"The Country of the Blind, and Other Stories\",\"The Country of the Blind, and Other Stories\",\"The Country of the Blind, and Other Stories\",\"The Country of the Blind, and Other Stories\",\"The Country of the Blind, and Other Stories\",\"The Country of the Blind, and Other Stories\",\"The Country of the Blind, and Other Stories\",\"The Country of the Blind, and Other Stories\",\"The Country of the Blind, and Other Stories\",\"The Country of the Blind, and Other Stories\",\"The Country of the Blind, and Other Stories\",\"The Country of the Blind, and Other Stories\",\"The Country of the Blind, and Other Stories\",\"The Country of the Blind, and Other Stories\",\"The Country of the Blind, and Other Stories\",\"The Country of the Blind, and Other Stories\",\"The Country of the Blind, and Other Stories\",\"The Country of the Blind, and Other Stories\",\"The Country of the Blind, and Other Stories\",\"The Country of the Blind, and Other Stories\",\"The Country of the Blind, and Other Stories\",\"The Country of the Blind, and Other Stories\",\"The Country of the Blind, and Other Stories\",\"The Country of the Blind, and Other Stories\",\"The Country of the Blind, and Other Stories\"],\"legendgroup\":\"WELLS\",\"marker\":{\"color\":\"#636efa\",\"symbol\":\"circle\"},\"mode\":\"markers\",\"name\":\"WELLS\",\"orientation\":\"v\",\"showlegend\":true,\"x\":[-0.004007273909697512,-0.0017902074262150839,-0.009455118905324219,-0.05648660446605718,-0.06193962791053032,-0.04857878461435145,-0.06272783149615745,-0.09982570641525605,-0.07067628540407539,-0.06108221241355673,-0.06831525142072081,-0.06186774600330503,-0.03180653594962233,-0.04712244552162024,-0.026466952089680962,-0.03987582725688102,-0.03689272021570573,-0.007624980366588264,-0.016682473123886914,-0.026718675526785363,-0.05007359004346236,-0.00765881015254281,-0.05502520715558146,-0.007420835714661859,-0.03891632289471714,-0.052793523098844816,-0.038136367381286014,-0.052507041904322434,-0.04460832445494971,-0.033985982248462866,-0.02802801269448774,-0.03507028300805612,-0.05310844810612222,-0.05345031653174125,-0.058007484429941025,-0.04919229758070489,-0.0453162420847156,-0.03515156663542077,-0.03214074707510256,-0.0504640371336833,-0.03251774612487775,-0.05925557686231426,-0.03591909974080466,-0.03006929307148308,-0.027617814560627063,-0.03706983130986533,-0.048362891694075184,-0.03472407286393621,-0.04366861234542416,-0.04314727931146002,-0.03290555648261254,-0.09477950180732735,-0.060481605416500585,-0.08506182029026542,-0.06888736977014165,-0.04027340388028672,-0.06213342776106283,-0.055298330955251,-0.05527604638655954,-0.049370106638927075,-0.042204357739246676,-0.0446515327468103,-0.06265939430141466,-0.09803237574951573,-0.05865861631825828,0.010055659787820435,0.00907693691051022,-0.007886402236196766,-0.018553161837691234,-0.001689611125906882,-0.04490529125892953,0.031888083192932334,0.007882057153666097,0.022410010202178626,-0.02486507355068461,0.0017628508076128597,0.010463708373050091,0.012715844681816937,0.010563430921832638,0.006934605620207632,-0.09324719596767572,-0.0817037314950754,0.029413667167966524,-0.02109689071969111,-0.011353235300251261,-0.011393209258953952,-0.04253803560246703,-0.0291790069786958,-0.06285624709835466,0.009871971119726054,-0.01982119529953028,-0.022503375462752696,-0.03098081932044437,0.014548387833802629,0.028903623128996695,0.032874497687165424,0.0053789008477505475,0.021741916376506274,0.013316181097037994,-0.0028136597775736266,0.017255417620266975,0.026128824188694326,0.00605198181478629,0.0056335589784433536,-0.03296514718567871,-0.0026795394169096733,-0.12261594791865756,-0.0450179915443798,-0.016306353132951666,-0.00743903827041041,0.007085037357198261,0.009121042400064968,0.0020183507903320866,0.0063117658592966065,0.01148540656231535,0.011136007026839532,-0.07394570320110248,-0.01684518148333604,-0.04482680781415422,-0.012304341903475556,-0.057676446277490204,-0.02037292117362248],\"xaxis\":\"x\",\"y\":[0.005857437068903705,0.007791743645880629,0.009265970883270776,0.03416658089625876,0.027775738755465414,0.03600692945419177,0.03706151626774539,0.06184482985390435,0.04760433681334082,0.05323867032564381,0.030257314832599965,0.0457210865263083,0.021571040998906086,0.016097346480190802,0.01989627986052968,0.016989892917038157,0.03926469851054385,0.02278348376787439,0.02907717043569551,0.016937212074667078,0.04075810612913939,0.025415358528920948,0.04353155720171155,0.02902088179544171,0.046319288327283284,0.035733632066556435,0.03349230078973289,0.024334543180208525,0.03456728830051668,0.03265845592656854,0.04202411856092591,0.03687223958788233,0.016898691869616615,0.03807910615192864,0.03382172919069594,0.040157888820778885,0.028736323626471164,0.025557792403018875,0.013082922132483573,0.03774573661298957,0.028426859453240916,0.03939029838856394,0.0420997928865017,-0.003411806473993705,-0.013756246981999265,-0.0342695401284783,0.007670772069361881,-0.028193096630475402,0.014856686793628218,0.02641682249795945,0.008647883773874316,0.04057014005601862,0.02842040787369791,0.03898291339340482,0.0340569482409357,0.0227083392012439,0.036533177544082085,0.035303851662427624,0.0358370064343402,0.03428486790848734,0.029277502743076122,0.034376669977612136,0.02811256536818265,0.040134471287848715,0.02885927445445135,0.01642852784716793,0.01116687939990341,0.016608887538404914,0.0275352977712305,0.014041961018306256,-0.0025533935347729613,-0.004516211133142587,0.0032220777520568684,-0.008043944936413567,0.00767781207872878,-0.001217517142214556,-0.0006977515050132048,0.004315542148107406,0.005840452299967619,0.00011752947903521059,0.0414386781793543,0.05088552715238364,-0.014714211636250949,-0.0024268902094348897,-0.0167279583625621,-0.025123691394346465,0.03080572960239145,0.02766249585524705,0.0338084241066039,0.011348961215082325,0.023181294374992646,0.025625298595342093,0.03065601585760766,0.0048269199243864275,-0.004883864056685532,-0.0042619810823556255,0.004075883488832119,0.0009106226029841145,-0.001322949835042509,0.013302788781438236,0.0062021476629542955,0.006171412662277917,0.01006815916912758,0.010736666016891806,-0.004366053614087071,0.027869201957777385,0.07792938283662686,0.03418098426155058,0.013701773998739444,0.008673399143093737,0.001363666301262068,-0.016304560555751788,-0.03368053457162481,-0.032441705670529626,-0.00231604141354086,-0.0002777377555765551,0.04862149912718123,0.01847827439975013,0.02405102222045765,0.017893218352460175,0.048674917697992016,0.02406905632265266],\"yaxis\":\"y\",\"type\":\"scatter\"},{\"alignmentgroup\":\"True\",\"hovertemplate\":\"\\u003cb\\u003e%{hovertext}\\u003c\\u002fb\\u003e\\u003cbr\\u003e\\u003cbr\\u003elabel=WELLS\\u003cbr\\u003ePC2=%{x}\\u003cextra\\u003e\\u003c\\u002fextra\\u003e\",\"hovertext\":[\"The Time Machine\",\"The Time Machine\",\"The Time Machine\",\"The Time Machine\",\"The Time Machine\",\"The Time Machine\",\"The Time Machine\",\"The Time Machine\",\"The Time Machine\",\"The Time Machine\",\"The Time Machine\",\"The Time Machine\",\"The Time Machine\",\"The Time Machine\",\"The Time Machine\",\"The Time Machine\",\"The War of the Worlds\",\"The War of the Worlds\",\"The War of the Worlds\",\"The War of the Worlds\",\"The War of the Worlds\",\"The War of the Worlds\",\"The War of the Worlds\",\"The War of the Worlds\",\"The War of the Worlds\",\"The War of the Worlds\",\"The War of the Worlds\",\"The War of the Worlds\",\"The War of the Worlds\",\"The War of the Worlds\",\"The War of the Worlds\",\"The War of the Worlds\",\"The War of the Worlds\",\"The War of the Worlds\",\"The War of the Worlds\",\"The War of the Worlds\",\"The War of the Worlds\",\"The War of the Worlds\",\"The War of the Worlds\",\"The War of the Worlds\",\"The War of the Worlds\",\"The War of the Worlds\",\"The War of the Worlds\",\"The island of Doctor Moreau\",\"The island of Doctor Moreau\",\"The island of Doctor Moreau\",\"The island of Doctor Moreau\",\"The island of Doctor Moreau\",\"The island of Doctor Moreau\",\"The island of Doctor Moreau\",\"The island of Doctor Moreau\",\"The island of Doctor Moreau\",\"The island of Doctor Moreau\",\"The island of Doctor Moreau\",\"The island of Doctor Moreau\",\"The island of Doctor Moreau\",\"The island of Doctor Moreau\",\"The island of Doctor Moreau\",\"The island of Doctor Moreau\",\"The island of Doctor Moreau\",\"The island of Doctor Moreau\",\"The island of Doctor Moreau\",\"The island of Doctor Moreau\",\"The island of Doctor Moreau\",\"The island of Doctor Moreau\",\"The Country of the Blind, and Other Stories\",\"The Country of the Blind, and Other Stories\",\"The Country of the Blind, and Other Stories\",\"The Country of the Blind, and Other Stories\",\"The Country of the Blind, and Other Stories\",\"The Country of the Blind, and Other Stories\",\"The Country of the Blind, and Other Stories\",\"The Country of the Blind, and Other Stories\",\"The Country of the Blind, and Other Stories\",\"The Country of the Blind, and Other Stories\",\"The Country of the Blind, and Other Stories\",\"The Country of the Blind, and Other Stories\",\"The Country of the Blind, and Other Stories\",\"The Country of the Blind, and Other Stories\",\"The Country of the Blind, and Other Stories\",\"The Country of the Blind, and Other Stories\",\"The Country of the Blind, and Other Stories\",\"The Country of the Blind, and Other Stories\",\"The Country of the Blind, and Other Stories\",\"The Country of the Blind, and Other Stories\",\"The Country of the Blind, and Other Stories\",\"The Country of the Blind, and Other Stories\",\"The Country of the Blind, and Other Stories\",\"The Country of the Blind, and Other Stories\",\"The Country of the Blind, and Other Stories\",\"The Country of the Blind, and Other Stories\",\"The Country of the Blind, and Other Stories\",\"The Country of the Blind, and Other Stories\",\"The Country of the Blind, and Other Stories\",\"The Country of the Blind, and Other Stories\",\"The Country of the Blind, and Other Stories\",\"The Country of the Blind, and Other Stories\",\"The Country of the Blind, and Other Stories\",\"The Country of the Blind, and Other Stories\",\"The Country of the Blind, and Other Stories\",\"The Country of the Blind, and Other Stories\",\"The Country of the Blind, and Other Stories\",\"The Country of the Blind, and Other Stories\",\"The Country of the Blind, and Other Stories\",\"The Country of the Blind, and Other Stories\",\"The Country of the Blind, and Other Stories\",\"The Country of the Blind, and Other Stories\",\"The Country of the Blind, and Other Stories\",\"The Country of the Blind, and Other Stories\",\"The Country of the Blind, and Other Stories\",\"The Country of the Blind, and Other Stories\",\"The Country of the Blind, and Other Stories\",\"The Country of the Blind, and Other Stories\",\"The Country of the Blind, and Other Stories\",\"The Country of the Blind, and Other Stories\",\"The Country of the Blind, and Other Stories\",\"The Country of the Blind, and Other Stories\",\"The Country of the Blind, and Other Stories\",\"The Country of the Blind, and Other Stories\",\"The Country of the Blind, and Other Stories\",\"The Country of the Blind, and Other Stories\",\"The Country of the Blind, and Other Stories\"],\"legendgroup\":\"WELLS\",\"marker\":{\"color\":\"#636efa\",\"symbol\":\"circle\"},\"name\":\"WELLS\",\"notched\":true,\"offsetgroup\":\"WELLS\",\"showlegend\":false,\"x\":[-0.004007273909697512,-0.0017902074262150839,-0.009455118905324219,-0.05648660446605718,-0.06193962791053032,-0.04857878461435145,-0.06272783149615745,-0.09982570641525605,-0.07067628540407539,-0.06108221241355673,-0.06831525142072081,-0.06186774600330503,-0.03180653594962233,-0.04712244552162024,-0.026466952089680962,-0.03987582725688102,-0.03689272021570573,-0.007624980366588264,-0.016682473123886914,-0.026718675526785363,-0.05007359004346236,-0.00765881015254281,-0.05502520715558146,-0.007420835714661859,-0.03891632289471714,-0.052793523098844816,-0.038136367381286014,-0.052507041904322434,-0.04460832445494971,-0.033985982248462866,-0.02802801269448774,-0.03507028300805612,-0.05310844810612222,-0.05345031653174125,-0.058007484429941025,-0.04919229758070489,-0.0453162420847156,-0.03515156663542077,-0.03214074707510256,-0.0504640371336833,-0.03251774612487775,-0.05925557686231426,-0.03591909974080466,-0.03006929307148308,-0.027617814560627063,-0.03706983130986533,-0.048362891694075184,-0.03472407286393621,-0.04366861234542416,-0.04314727931146002,-0.03290555648261254,-0.09477950180732735,-0.060481605416500585,-0.08506182029026542,-0.06888736977014165,-0.04027340388028672,-0.06213342776106283,-0.055298330955251,-0.05527604638655954,-0.049370106638927075,-0.042204357739246676,-0.0446515327468103,-0.06265939430141466,-0.09803237574951573,-0.05865861631825828,0.010055659787820435,0.00907693691051022,-0.007886402236196766,-0.018553161837691234,-0.001689611125906882,-0.04490529125892953,0.031888083192932334,0.007882057153666097,0.022410010202178626,-0.02486507355068461,0.0017628508076128597,0.010463708373050091,0.012715844681816937,0.010563430921832638,0.006934605620207632,-0.09324719596767572,-0.0817037314950754,0.029413667167966524,-0.02109689071969111,-0.011353235300251261,-0.011393209258953952,-0.04253803560246703,-0.0291790069786958,-0.06285624709835466,0.009871971119726054,-0.01982119529953028,-0.022503375462752696,-0.03098081932044437,0.014548387833802629,0.028903623128996695,0.032874497687165424,0.0053789008477505475,0.021741916376506274,0.013316181097037994,-0.0028136597775736266,0.017255417620266975,0.026128824188694326,0.00605198181478629,0.0056335589784433536,-0.03296514718567871,-0.0026795394169096733,-0.12261594791865756,-0.0450179915443798,-0.016306353132951666,-0.00743903827041041,0.007085037357198261,0.009121042400064968,0.0020183507903320866,0.0063117658592966065,0.01148540656231535,0.011136007026839532,-0.07394570320110248,-0.01684518148333604,-0.04482680781415422,-0.012304341903475556,-0.057676446277490204,-0.02037292117362248],\"xaxis\":\"x2\",\"yaxis\":\"y2\",\"type\":\"box\"},{\"hovertemplate\":\"\\u003cb\\u003e%{hovertext}\\u003c\\u002fb\\u003e\\u003cbr\\u003e\\u003cbr\\u003elabel=BURROUGHS\\u003cbr\\u003ePC2=%{x}\\u003cbr\\u003ePC3=%{y}\\u003cextra\\u003e\\u003c\\u002fextra\\u003e\",\"hovertext\":[\"A Princess of Mars\",\"A Princess of Mars\",\"A Princess of Mars\",\"A Princess of Mars\",\"A Princess of Mars\",\"A Princess of Mars\",\"A Princess of Mars\",\"A Princess of Mars\",\"A Princess of Mars\",\"A Princess of Mars\",\"A Princess of Mars\",\"A Princess of Mars\",\"A Princess of Mars\",\"A Princess of Mars\",\"A Princess of Mars\",\"A Princess of Mars\",\"A Princess of Mars\",\"A Princess of Mars\",\"A Princess of Mars\",\"A Princess of Mars\",\"A Princess of Mars\",\"A Princess of Mars\",\"A Princess of Mars\",\"A Princess of Mars\",\"A Princess of Mars\",\"A Princess of Mars\",\"A Princess of Mars\",\"A Princess of Mars\",\"The Gods of Mars\",\"The Gods of Mars\",\"The Gods of Mars\",\"The Gods of Mars\",\"The Gods of Mars\",\"The Gods of Mars\",\"The Gods of Mars\",\"The Gods of Mars\",\"The Gods of Mars\",\"The Gods of Mars\",\"The Gods of Mars\",\"The Gods of Mars\",\"The Gods of Mars\",\"The Gods of Mars\",\"The Gods of Mars\",\"The Gods of Mars\",\"The Gods of Mars\",\"The Gods of Mars\",\"The Gods of Mars\",\"The Gods of Mars\",\"The Gods of Mars\",\"The Gods of Mars\"],\"legendgroup\":\"BURROUGHS\",\"marker\":{\"color\":\"#EF553B\",\"symbol\":\"circle\"},\"mode\":\"markers\",\"name\":\"BURROUGHS\",\"orientation\":\"v\",\"showlegend\":true,\"x\":[-0.04392925549198344,-0.07385155739295775,-0.07440347610864034,-0.09247748394436817,-0.058004348699949825,-0.08814649813209943,-0.0699862272597551,-0.08127745755639788,-0.08325134760364904,-0.13968587303260543,-0.1433036306351152,-0.10642924194581913,-0.1355536995664116,-0.15841467096373996,-0.14578631375718007,-0.13875867373229353,-0.14315412750304604,-0.04196465869582209,-0.09130317371246882,-0.11848202974943632,-0.11248204355745145,-0.12149480142661027,-0.08447353066444775,-0.11069658117566952,-0.11649251771843842,-0.10914788906073947,-0.13340431606695305,-0.06729299673940833,-0.12772948449206198,-0.13280515014924607,-0.1671181778241566,-0.13740710746442375,-0.07480296345551307,-0.09213393542771137,-0.1250578022742262,-0.13475955824707814,-0.11088114899771087,-0.09634765728669038,-0.10841779344884438,-0.08053632626506746,-0.12718630611807355,-0.17739650618856373,-0.11406937148145022,-0.11585350954946191,-0.11257125026805395,-0.14355170097913947,-0.11647622634343256,-0.12022908804052618,-0.10700962116613863,-0.1589956348218499],\"xaxis\":\"x\",\"y\":[0.03285969767120925,0.055056927023537705,0.06070808458281576,0.08289207738565241,0.0642705079533475,0.08081408317545284,0.07335294203251168,0.0856121410513291,0.09739743042969809,0.14466738295647608,0.15332053411311125,0.11303961473348004,0.14776716249471694,0.16070939390104858,0.14989904337061838,0.14837173571187623,0.14884136055459038,0.042515512004837865,0.09401751899102936,0.08519518519285928,0.11293333136871009,0.12914759283208974,0.09241277990208131,0.1185438121601853,0.1276877144528679,0.11693552975399682,0.13268469029282634,0.07575503085187782,0.08796009304398043,0.10550041290151117,0.13860733930167507,0.12414557036064408,0.07848101747393584,0.08393297013185735,0.10306635709345141,0.08721412758213956,0.10686775046167099,0.07611661139011672,0.08998710794759017,0.04015384239680301,0.08396670093499148,0.13939956065912132,0.10712462715731606,0.11971657519183902,0.11816033318696373,0.15238409674792075,0.10838973075098862,0.10267264022900285,0.057697821216052624,0.16172413697338586],\"yaxis\":\"y\",\"type\":\"scatter\"},{\"alignmentgroup\":\"True\",\"hovertemplate\":\"\\u003cb\\u003e%{hovertext}\\u003c\\u002fb\\u003e\\u003cbr\\u003e\\u003cbr\\u003elabel=BURROUGHS\\u003cbr\\u003ePC2=%{x}\\u003cextra\\u003e\\u003c\\u002fextra\\u003e\",\"hovertext\":[\"A Princess of Mars\",\"A Princess of Mars\",\"A Princess of Mars\",\"A Princess of Mars\",\"A Princess of Mars\",\"A Princess of Mars\",\"A Princess of Mars\",\"A Princess of Mars\",\"A Princess of Mars\",\"A Princess of Mars\",\"A Princess of Mars\",\"A Princess of Mars\",\"A Princess of Mars\",\"A Princess of Mars\",\"A Princess of Mars\",\"A Princess of Mars\",\"A Princess of Mars\",\"A Princess of Mars\",\"A Princess of Mars\",\"A Princess of Mars\",\"A Princess of Mars\",\"A Princess of Mars\",\"A Princess of Mars\",\"A Princess of Mars\",\"A Princess of Mars\",\"A Princess of Mars\",\"A Princess of Mars\",\"A Princess of Mars\",\"The Gods of Mars\",\"The Gods of Mars\",\"The Gods of Mars\",\"The Gods of Mars\",\"The Gods of Mars\",\"The Gods of Mars\",\"The Gods of Mars\",\"The Gods of Mars\",\"The Gods of Mars\",\"The Gods of Mars\",\"The Gods of Mars\",\"The Gods of Mars\",\"The Gods of Mars\",\"The Gods of Mars\",\"The Gods of Mars\",\"The Gods of Mars\",\"The Gods of Mars\",\"The Gods of Mars\",\"The Gods of Mars\",\"The Gods of Mars\",\"The Gods of Mars\",\"The Gods of Mars\"],\"legendgroup\":\"BURROUGHS\",\"marker\":{\"color\":\"#EF553B\",\"symbol\":\"circle\"},\"name\":\"BURROUGHS\",\"notched\":true,\"offsetgroup\":\"BURROUGHS\",\"showlegend\":false,\"x\":[-0.04392925549198344,-0.07385155739295775,-0.07440347610864034,-0.09247748394436817,-0.058004348699949825,-0.08814649813209943,-0.0699862272597551,-0.08127745755639788,-0.08325134760364904,-0.13968587303260543,-0.1433036306351152,-0.10642924194581913,-0.1355536995664116,-0.15841467096373996,-0.14578631375718007,-0.13875867373229353,-0.14315412750304604,-0.04196465869582209,-0.09130317371246882,-0.11848202974943632,-0.11248204355745145,-0.12149480142661027,-0.08447353066444775,-0.11069658117566952,-0.11649251771843842,-0.10914788906073947,-0.13340431606695305,-0.06729299673940833,-0.12772948449206198,-0.13280515014924607,-0.1671181778241566,-0.13740710746442375,-0.07480296345551307,-0.09213393542771137,-0.1250578022742262,-0.13475955824707814,-0.11088114899771087,-0.09634765728669038,-0.10841779344884438,-0.08053632626506746,-0.12718630611807355,-0.17739650618856373,-0.11406937148145022,-0.11585350954946191,-0.11257125026805395,-0.14355170097913947,-0.11647622634343256,-0.12022908804052618,-0.10700962116613863,-0.1589956348218499],\"xaxis\":\"x2\",\"yaxis\":\"y2\",\"type\":\"box\"},{\"hovertemplate\":\"\\u003cb\\u003e%{hovertext}\\u003c\\u002fb\\u003e\\u003cbr\\u003e\\u003cbr\\u003elabel=VERNE\\u003cbr\\u003ePC2=%{x}\\u003cbr\\u003ePC3=%{y}\\u003cextra\\u003e\\u003c\\u002fextra\\u003e\",\"hovertext\":[\"From the Earth to the Moon; and, Round the Moon\",\"From the Earth to the Moon; and, Round the Moon\",\"From the Earth to the Moon; and, Round the Moon\",\"From the Earth to the Moon; and, Round the Moon\",\"From the Earth to the Moon; and, Round the Moon\",\"From the Earth to the Moon; and, Round the Moon\",\"From the Earth to the Moon; and, Round the Moon\",\"From the Earth to the Moon; and, Round the Moon\",\"From the Earth to the Moon; and, Round the Moon\",\"From the Earth to the Moon; and, Round the Moon\",\"From the Earth to the Moon; and, Round the Moon\",\"From the Earth to the Moon; and, Round the Moon\",\"From the Earth to the Moon; and, Round the Moon\",\"From the Earth to the Moon; and, Round the Moon\",\"From the Earth to the Moon; and, Round the Moon\",\"From the Earth to the Moon; and, Round the Moon\",\"From the Earth to the Moon; and, Round the Moon\",\"From the Earth to the Moon; and, Round the Moon\",\"From the Earth to the Moon; and, Round the Moon\",\"From the Earth to the Moon; and, Round the Moon\",\"From the Earth to the Moon; and, Round the Moon\",\"From the Earth to the Moon; and, Round the Moon\",\"From the Earth to the Moon; and, Round the Moon\",\"From the Earth to the Moon; and, Round the Moon\",\"From the Earth to the Moon; and, Round the Moon\",\"From the Earth to the Moon; and, Round the Moon\",\"From the Earth to the Moon; and, Round the Moon\",\"From the Earth to the Moon; and, Round the Moon\",\"From the Earth to the Moon; and, Round the Moon\",\"From the Earth to the Moon; and, Round the Moon\",\"From the Earth to the Moon; and, Round the Moon\",\"From the Earth to the Moon; and, Round the Moon\",\"From the Earth to the Moon; and, Round the Moon\",\"From the Earth to the Moon; and, Round the Moon\",\"From the Earth to the Moon; and, Round the Moon\",\"From the Earth to the Moon; and, Round the Moon\",\"From the Earth to the Moon; and, Round the Moon\",\"From the Earth to the Moon; and, Round the Moon\",\"From the Earth to the Moon; and, Round the Moon\",\"From the Earth to the Moon; and, Round the Moon\",\"From the Earth to the Moon; and, Round the Moon\",\"From the Earth to the Moon; and, Round the Moon\",\"From the Earth to the Moon; and, Round the Moon\",\"From the Earth to the Moon; and, Round the Moon\",\"From the Earth to the Moon; and, Round the Moon\",\"From the Earth to the Moon; and, Round the Moon\",\"From the Earth to the Moon; and, Round the Moon\",\"From the Earth to the Moon; and, Round the Moon\",\"From the Earth to the Moon; and, Round the Moon\",\"From the Earth to the Moon; and, Round the Moon\",\"From the Earth to the Moon; and, Round the Moon\",\"Twenty Thousand Leagues under the Sea\",\"Twenty Thousand Leagues under the Sea\",\"Twenty Thousand Leagues under the Sea\",\"Twenty Thousand Leagues under the Sea\",\"Twenty Thousand Leagues under the Sea\",\"Twenty Thousand Leagues under the Sea\",\"Twenty Thousand Leagues under the Sea\",\"Twenty Thousand Leagues under the Sea\",\"Twenty Thousand Leagues under the Sea\",\"Twenty Thousand Leagues under the Sea\",\"Twenty Thousand Leagues under the Sea\",\"Twenty Thousand Leagues under the Sea\",\"Twenty Thousand Leagues under the Sea\",\"Twenty Thousand Leagues under the Sea\",\"Twenty Thousand Leagues under the Sea\",\"Twenty Thousand Leagues under the Sea\",\"Twenty Thousand Leagues under the Sea\",\"Twenty Thousand Leagues under the Sea\",\"Twenty Thousand Leagues under the Sea\",\"Twenty Thousand Leagues under the Sea\",\"Twenty Thousand Leagues under the Sea\",\"Twenty Thousand Leagues under the Sea\",\"Twenty Thousand Leagues under the Sea\",\"Twenty Thousand Leagues under the Sea\",\"Twenty Thousand Leagues under the Sea\",\"Twenty Thousand Leagues under the Sea\",\"Twenty Thousand Leagues under the Sea\",\"Twenty Thousand Leagues under the Sea\",\"Twenty Thousand Leagues under the Sea\",\"Twenty Thousand Leagues under the Sea\",\"Twenty Thousand Leagues under the Sea\",\"Twenty Thousand Leagues under the Sea\",\"Twenty Thousand Leagues under the Sea\",\"Twenty Thousand Leagues under the Sea\",\"Twenty Thousand Leagues under the Sea\",\"Twenty Thousand Leagues under the Sea\",\"Twenty Thousand Leagues under the Sea\",\"Twenty Thousand Leagues under the Sea\",\"Twenty Thousand Leagues under the Sea\",\"Twenty Thousand Leagues under the Sea\",\"Twenty Thousand Leagues under the Sea\",\"Twenty Thousand Leagues under the Sea\",\"Twenty Thousand Leagues under the Sea\",\"Twenty Thousand Leagues under the Sea\",\"Twenty Thousand Leagues under the Sea\",\"Twenty Thousand Leagues under the Sea\",\"The Mysterious Island\",\"The Mysterious Island\",\"The Mysterious Island\",\"The Mysterious Island\",\"The Mysterious Island\",\"The Mysterious Island\",\"The Mysterious Island\",\"The Mysterious Island\",\"The Mysterious Island\",\"The Mysterious Island\",\"The Mysterious Island\",\"The Mysterious Island\",\"The Mysterious Island\",\"The Mysterious Island\",\"The Mysterious Island\",\"The Mysterious Island\",\"The Mysterious Island\",\"The Mysterious Island\",\"The Mysterious Island\",\"The Mysterious Island\",\"The Mysterious Island\",\"The Mysterious Island\",\"The Mysterious Island\",\"The Mysterious Island\",\"The Mysterious Island\",\"The Mysterious Island\",\"The Mysterious Island\",\"The Mysterious Island\",\"The Mysterious Island\",\"The Mysterious Island\",\"The Mysterious Island\",\"The Mysterious Island\",\"The Mysterious Island\",\"The Mysterious Island\",\"The Mysterious Island\",\"The Mysterious Island\",\"The Mysterious Island\",\"The Mysterious Island\",\"The Mysterious Island\",\"The Mysterious Island\",\"The Mysterious Island\",\"The Mysterious Island\",\"The Mysterious Island\",\"The Mysterious Island\",\"The Mysterious Island\",\"The Mysterious Island\",\"The Mysterious Island\",\"The Mysterious Island\",\"The Mysterious Island\",\"The Mysterious Island\",\"The Mysterious Island\",\"The Mysterious Island\",\"The Mysterious Island\",\"The Mysterious Island\",\"The Mysterious Island\",\"The Mysterious Island\",\"The Mysterious Island\",\"The Mysterious Island\",\"The Mysterious Island\",\"The Mysterious Island\",\"The Mysterious Island\",\"The Mysterious Island\",\"A Journey to the Centre of the Earth\",\"A Journey to the Centre of the Earth\",\"A Journey to the Centre of the Earth\",\"A Journey to the Centre of the Earth\",\"A Journey to the Centre of the Earth\",\"A Journey to the Centre of the Earth\",\"A Journey to the Centre of the Earth\",\"A Journey to the Centre of the Earth\",\"A Journey to the Centre of the Earth\",\"A Journey to the Centre of the Earth\",\"A Journey to the Centre of the Earth\",\"A Journey to the Centre of the Earth\",\"A Journey to the Centre of the Earth\",\"A Journey to the Centre of the Earth\",\"A Journey to the Centre of the Earth\",\"A Journey to the Centre of the Earth\",\"A Journey to the Centre of the Earth\",\"A Journey to the Centre of the Earth\",\"A Journey to the Centre of the Earth\",\"A Journey to the Centre of the Earth\",\"A Journey to the Centre of the Earth\",\"A Journey to the Centre of the Earth\",\"A Journey to the Centre of the Earth\",\"A Journey to the Centre of the Earth\",\"A Journey to the Centre of the Earth\",\"A Journey to the Centre of the Earth\",\"A Journey to the Centre of the Earth\",\"A Journey to the Centre of the Earth\",\"A Journey to the Centre of the Earth\",\"A Journey to the Centre of the Earth\",\"A Journey to the Centre of the Earth\",\"A Journey to the Centre of the Earth\",\"A Journey to the Centre of the Earth\",\"A Journey to the Centre of the Earth\",\"A Journey to the Centre of the Earth\",\"A Journey to the Centre of the Earth\",\"A Journey to the Centre of the Earth\",\"A Journey to the Centre of the Earth\",\"A Journey to the Centre of the Earth\",\"A Journey to the Centre of the Earth\",\"A Journey to the Centre of the Earth\",\"A Journey to the Centre of the Earth\",\"A Journey to the Centre of the Earth\",\"A Journey to the Centre of the Earth\"],\"legendgroup\":\"VERNE\",\"marker\":{\"color\":\"#00cc96\",\"symbol\":\"circle\"},\"mode\":\"markers\",\"name\":\"VERNE\",\"orientation\":\"v\",\"showlegend\":true,\"x\":[0.0618344825555827,0.07515823732748406,0.058286281117072195,0.11856466685163432,0.04143944529236818,0.05298464968111916,0.18422128584604786,0.14705916981971917,0.11533670647803601,0.16366756787622136,0.05971026745800172,0.06557230188290329,0.1404751533539512,0.060451049788360314,0.0581687052819701,0.10403824216929144,0.12004749223269884,0.185588772199106,0.0932460125890875,0.14730213814325496,0.25514462191345416,0.17941354036100615,0.12794148879959819,0.0520548712898652,0.1983648889165398,0.10478745619189549,0.0783728378687216,0.21992294592412065,0.295523879814015,0.29912834770847946,0.2600831146251278,0.2895062775340739,0.2987170753673647,0.30014555696341255,0.2974995978369861,0.24175252553320134,0.28965013183442717,0.16451969000620978,0.061262273597591746,0.23331161647850268,0.18484251276965033,0.26703486321226744,0.2612389753426217,0.20712098732179257,0.15063928655906492,0.27065791498436215,0.3217796042350859,0.054299377157734426,0.12481477605664686,0.1388496520911336,0.15816120800042882,-0.02563865932206889,-0.027428325641941628,-0.05560229397313774,-0.07365425917475248,-0.06511927195427515,-0.07319137442310039,-0.10782841154732511,-0.10756539919063313,-0.07047960158018729,-0.14777159321871622,-0.11331627120075576,-0.10940383232175403,-0.1423390129132018,-0.14027998590545396,-0.12243277243717833,-0.12868526314944465,-0.13404481930521617,-0.04124929404211026,-0.1707629358345604,-0.10970895598155894,-0.1631302916643789,-0.1727723500834314,-0.13976831724688626,-0.1280833257300219,-0.0876739595296811,-0.15751547201521518,-0.13028819220918644,-0.13585145257767967,-0.17410734741770456,-0.08188893915027941,-0.1623064762018888,-0.1432343693379554,-0.13880317933094716,-0.12041251847484045,-0.15078554959285348,-0.15658522950002357,-0.11766063297091706,-0.17820492593332252,-0.15970776638854906,-0.1317836323217413,-0.12746049017513106,-0.17143001073229128,-0.10364900952016143,-0.19159300747869457,-0.19950584078217753,-0.10180795286854741,-0.015874918243119943,0.02831836782226663,0.014703617520951092,0.0396714782552301,0.04968348272201646,0.045604897272918214,0.05572119529732827,0.05009629856185618,0.06200620242636184,0.03841840362447351,0.029577909719157868,0.03518839583735454,0.05200187189310981,0.05061776835197369,0.0478191746826349,0.02931781872827131,0.046291284695676296,0.039817630074803885,0.04778325694668017,0.053241878333348557,0.028792753358783417,0.05076251711570394,0.06314657961491407,0.045257213491700025,0.03761154523949404,0.03868905273586865,0.048836953203886306,0.05360083304195965,0.023274918830500178,0.04388832215311482,0.051445768694422134,0.053747798037208146,0.031473457398776584,0.049063641731456914,0.053884979499715366,0.052350649617744355,0.05891513684752029,0.051177872993676814,0.02270493913236865,0.0633530444261482,0.04130348275972284,0.05714717489579236,0.045755271256870414,0.04736733655117236,0.04980787303579146,0.04326329838434984,0.06551801318581135,0.07502504252423593,0.08705778994244338,0.06119351901062818,0.08629751308945961,0.069307202172713,0.04939355364914229,0.07522081936571132,0.04516869040488717,0.035440920622087195,0.028394975121361087,-0.10680029391774822,-0.09766590754463358,0.036023525154605204,0.00023450680067900676,0.02945506440128593,-0.11009932744042779,-0.055126497330398594,-0.11921314411642447,-0.08249571169455093,-0.08518205329546738,-0.07792833055686045,-0.08440986665119955,-0.09117560495693607,-0.09204065882428264,-0.08339801728439032,-0.09300053166558678,-0.09376296685622591,-0.11579364226721482,-0.10596760933751685,-0.10769351523533029,-0.11345821125893309,-0.10026689322129115,-0.14268907281228557,-0.10089824951697124,-0.11800187268648982,-0.10205855613426942,-0.08945394924893484,-0.0895509021021311,-0.09844328112663718,-0.12291127045136722,-0.14076134372790342,-0.11445476535724543,-0.12447474504237523,-0.11754464336328022,-0.1280350107317437,-0.11149314977457077,-0.09127850733769037,-0.13219819386368642,-0.10288827793630559,-0.05009157628056291,-0.06554201538365578,-0.09819797395928839,-0.11495943970353514,-0.11989802692633637,-0.1314944497802811,-0.12109236335626168,-0.1132473838956382,-0.1023058539112869,-0.06927672254381868],\"xaxis\":\"x\",\"y\":[0.031800131658136485,0.056619223946765586,0.03381880941080766,0.06417988953911061,0.029651567871657136,0.06234779275928864,0.07389608059834796,0.05438996833525048,0.045459248583212965,0.07109211787034588,0.01762348849297804,0.03551386409124304,0.06434152853997087,0.018142436287628554,0.014923553102319078,0.04843064045569247,0.05125039558251448,0.11621509521886352,0.0785983717338925,0.09163365615677128,0.13883371070720033,0.10653403235570487,0.051707445444724366,0.013735947676424044,0.10829409863353397,0.07310908003007119,0.031269705854735846,0.11791097809459561,0.1691057896678518,0.18077775493751236,0.1609369035901127,0.17493671204642666,0.18373230533397078,0.18628119629466502,0.18152700892345727,0.15284888622840767,0.17209092952371596,0.09468000379154184,0.008671838425178517,0.1307999092785526,0.10827079982197017,0.17015269228046742,0.16305454811926964,0.12104527610635334,0.08186118516505324,0.16776756021010925,0.20087815616932245,-0.03207593777740872,0.04201232138632464,0.042142391746712235,0.08114981803128118,-0.057656610557268125,-0.06215081822566435,-0.1588569237257656,-0.23117337445260452,-0.19941233531144,-0.18145983422634798,-0.19825196134577064,-0.209061728629831,-0.18079518206620573,-0.30582281736132244,-0.3813003519973364,-0.36381541782000065,-0.41104993153263897,-0.41522720855167017,-0.32264395261765455,-0.30757637902230833,-0.3872279732623492,-0.1810255736134649,-0.510941339287017,-0.30718196449033874,-0.4657637142484835,-0.48564614499366354,-0.3429067194056142,-0.34124101637213383,-0.29916251822422024,-0.4120694573870331,-0.3811745780600241,-0.40865895300839794,-0.5229920912408909,-0.28794270397901156,-0.41860320703719966,-0.335802151691588,-0.33682858477007044,-0.377033066276151,-0.4574850557192585,-0.4927870566287808,-0.32850352834132046,-0.524671216013016,-0.4686765841181369,-0.373916942989533,-0.3716327036378675,-0.44659171061285585,-0.33527389513406364,-0.546797479971488,-0.5047553032275429,-0.2840934357776646,-0.02841420992440198,0.03380640297568993,0.028352342505869172,0.06386397062545754,0.07667042346117849,0.06246001589840769,0.07779639984257751,0.06086669188794436,0.06150220084708097,0.04348347729637707,0.021693000113372465,0.05115065696012058,0.03865409331008898,0.024563876629454768,0.0247868319808201,0.03514765129986124,0.030260863764911387,0.046847822813271454,0.055427938431430575,0.04337984624665874,0.006240149038336298,0.06262778960771911,0.06345737131948463,0.028385232619249117,0.054841227084126705,0.06160331677851547,0.04732738217441686,0.07987963329050182,0.04196551642914602,0.043949992604499624,0.03560427330498492,0.048974965381049604,0.02899813741446513,0.06210784697648484,0.04470824606470796,0.08097746131199991,0.07389277778876205,0.06863644553664534,-0.017537116031491013,0.06051737662891073,0.028858239271166517,0.061575419953560334,0.042685492811969275,0.026542980469841087,0.05200683568266179,0.035055384181923055,0.07000373989159317,0.09628597154152178,0.10445715411895944,0.06832659045317524,0.09652851675985062,0.08993080590426057,0.07141512969617175,0.08461017079512129,0.06622416423438728,0.03210318207056414,0.02844548223321533,-0.3280012342025157,-0.3708500976441728,-3.933480750079217e-05,-0.007929273067078118,-0.04918905873544005,-0.002259858461998258,-0.003708934128746598,0.013588762755054702,0.00834028346773942,-0.02424210032039867,-0.04058625961772486,-0.031776870348610105,-0.016191774576840935,-0.009806438522417651,9.203677944293021e-05,0.002398186437317385,-0.005638377662102656,-0.009559243239253445,-0.004557553726169947,-0.028906904105292407,-0.009183964742046535,8.774125026689717e-05,0.0012466459611733297,0.006011928754995948,0.0018797169449448767,-0.01315980645235914,-0.018996937066770966,0.00922147838541939,0.02166069022222416,0.020614379344265497,0.0035368490877663587,-0.009324269338816237,-0.02191387131109016,-0.03513300122304837,-0.022058303637339217,-0.027448977419746712,-0.015490972994869385,-0.015926276830139984,-0.016858160952863424,6.712361374383992e-05,-0.002981204514516433,-0.0014465559113169438,-0.0039795709303097155,0.0026547487010891253,0.014505324705920208,0.014047096068125698,0.0005470182182038723,-0.01984835456428994,0.005029195868502175],\"yaxis\":\"y\",\"type\":\"scatter\"},{\"alignmentgroup\":\"True\",\"hovertemplate\":\"\\u003cb\\u003e%{hovertext}\\u003c\\u002fb\\u003e\\u003cbr\\u003e\\u003cbr\\u003elabel=VERNE\\u003cbr\\u003ePC2=%{x}\\u003cextra\\u003e\\u003c\\u002fextra\\u003e\",\"hovertext\":[\"From the Earth to the Moon; and, Round the Moon\",\"From the Earth to the Moon; and, Round the Moon\",\"From the Earth to the Moon; and, Round the Moon\",\"From the Earth to the Moon; and, Round the Moon\",\"From the Earth to the Moon; and, Round the Moon\",\"From the Earth to the Moon; and, Round the Moon\",\"From the Earth to the Moon; and, Round the Moon\",\"From the Earth to the Moon; and, Round the Moon\",\"From the Earth to the Moon; and, Round the Moon\",\"From the Earth to the Moon; and, Round the Moon\",\"From the Earth to the Moon; and, Round the Moon\",\"From the Earth to the Moon; and, Round the Moon\",\"From the Earth to the Moon; and, Round the Moon\",\"From the Earth to the Moon; and, Round the Moon\",\"From the Earth to the Moon; and, Round the Moon\",\"From the Earth to the Moon; and, Round the Moon\",\"From the Earth to the Moon; and, Round the Moon\",\"From the Earth to the Moon; and, Round the Moon\",\"From the Earth to the Moon; and, Round the Moon\",\"From the Earth to the Moon; and, Round the Moon\",\"From the Earth to the Moon; and, Round the Moon\",\"From the Earth to the Moon; and, Round the Moon\",\"From the Earth to the Moon; and, Round the Moon\",\"From the Earth to the Moon; and, Round the Moon\",\"From the Earth to the Moon; and, Round the Moon\",\"From the Earth to the Moon; and, Round the Moon\",\"From the Earth to the Moon; and, Round the Moon\",\"From the Earth to the Moon; and, Round the Moon\",\"From the Earth to the Moon; and, Round the Moon\",\"From the Earth to the Moon; and, Round the Moon\",\"From the Earth to the Moon; and, Round the Moon\",\"From the Earth to the Moon; and, Round the Moon\",\"From the Earth to the Moon; and, Round the Moon\",\"From the Earth to the Moon; and, Round the Moon\",\"From the Earth to the Moon; and, Round the Moon\",\"From the Earth to the Moon; and, Round the Moon\",\"From the Earth to the Moon; and, Round the Moon\",\"From the Earth to the Moon; and, Round the Moon\",\"From the Earth to the Moon; and, Round the Moon\",\"From the Earth to the Moon; and, Round the Moon\",\"From the Earth to the Moon; and, Round the Moon\",\"From the Earth to the Moon; and, Round the Moon\",\"From the Earth to the Moon; and, Round the Moon\",\"From the Earth to the Moon; and, Round the Moon\",\"From the Earth to the Moon; and, Round the Moon\",\"From the Earth to the Moon; and, Round the Moon\",\"From the Earth to the Moon; and, Round the Moon\",\"From the Earth to the Moon; and, Round the Moon\",\"From the Earth to the Moon; and, Round the Moon\",\"From the Earth to the Moon; and, Round the Moon\",\"From the Earth to the Moon; and, Round the Moon\",\"Twenty Thousand Leagues under the Sea\",\"Twenty Thousand Leagues under the Sea\",\"Twenty Thousand Leagues under the Sea\",\"Twenty Thousand Leagues under the Sea\",\"Twenty Thousand Leagues under the Sea\",\"Twenty Thousand Leagues under the Sea\",\"Twenty Thousand Leagues under the Sea\",\"Twenty Thousand Leagues under the Sea\",\"Twenty Thousand Leagues under the Sea\",\"Twenty Thousand Leagues under the Sea\",\"Twenty Thousand Leagues under the Sea\",\"Twenty Thousand Leagues under the Sea\",\"Twenty Thousand Leagues under the Sea\",\"Twenty Thousand Leagues under the Sea\",\"Twenty Thousand Leagues under the Sea\",\"Twenty Thousand Leagues under the Sea\",\"Twenty Thousand Leagues under the Sea\",\"Twenty Thousand Leagues under the Sea\",\"Twenty Thousand Leagues under the Sea\",\"Twenty Thousand Leagues under the Sea\",\"Twenty Thousand Leagues under the Sea\",\"Twenty Thousand Leagues under the Sea\",\"Twenty Thousand Leagues under the Sea\",\"Twenty Thousand Leagues under the Sea\",\"Twenty Thousand Leagues under the Sea\",\"Twenty Thousand Leagues under the Sea\",\"Twenty Thousand Leagues under the Sea\",\"Twenty Thousand Leagues under the Sea\",\"Twenty Thousand Leagues under the Sea\",\"Twenty Thousand Leagues under the Sea\",\"Twenty Thousand Leagues under the Sea\",\"Twenty Thousand Leagues under the Sea\",\"Twenty Thousand Leagues under the Sea\",\"Twenty Thousand Leagues under the Sea\",\"Twenty Thousand Leagues under the Sea\",\"Twenty Thousand Leagues under the Sea\",\"Twenty Thousand Leagues under the Sea\",\"Twenty Thousand Leagues under the Sea\",\"Twenty Thousand Leagues under the Sea\",\"Twenty Thousand Leagues under the Sea\",\"Twenty Thousand Leagues under the Sea\",\"Twenty Thousand Leagues under the Sea\",\"Twenty Thousand Leagues under the Sea\",\"Twenty Thousand Leagues under the Sea\",\"Twenty Thousand Leagues under the Sea\",\"Twenty Thousand Leagues under the Sea\",\"The Mysterious Island\",\"The Mysterious Island\",\"The Mysterious Island\",\"The Mysterious Island\",\"The Mysterious Island\",\"The Mysterious Island\",\"The Mysterious Island\",\"The Mysterious Island\",\"The Mysterious Island\",\"The Mysterious Island\",\"The Mysterious Island\",\"The Mysterious Island\",\"The Mysterious Island\",\"The Mysterious Island\",\"The Mysterious Island\",\"The Mysterious Island\",\"The Mysterious Island\",\"The Mysterious Island\",\"The Mysterious Island\",\"The Mysterious Island\",\"The Mysterious Island\",\"The Mysterious Island\",\"The Mysterious Island\",\"The Mysterious Island\",\"The Mysterious Island\",\"The Mysterious Island\",\"The Mysterious Island\",\"The Mysterious Island\",\"The Mysterious Island\",\"The Mysterious Island\",\"The Mysterious Island\",\"The Mysterious Island\",\"The Mysterious Island\",\"The Mysterious Island\",\"The Mysterious Island\",\"The Mysterious Island\",\"The Mysterious Island\",\"The Mysterious Island\",\"The Mysterious Island\",\"The Mysterious Island\",\"The Mysterious Island\",\"The Mysterious Island\",\"The Mysterious Island\",\"The Mysterious Island\",\"The Mysterious Island\",\"The Mysterious Island\",\"The Mysterious Island\",\"The Mysterious Island\",\"The Mysterious Island\",\"The Mysterious Island\",\"The Mysterious Island\",\"The Mysterious Island\",\"The Mysterious Island\",\"The Mysterious Island\",\"The Mysterious Island\",\"The Mysterious Island\",\"The Mysterious Island\",\"The Mysterious Island\",\"The Mysterious Island\",\"The Mysterious Island\",\"The Mysterious Island\",\"The Mysterious Island\",\"A Journey to the Centre of the Earth\",\"A Journey to the Centre of the Earth\",\"A Journey to the Centre of the Earth\",\"A Journey to the Centre of the Earth\",\"A Journey to the Centre of the Earth\",\"A Journey to the Centre of the Earth\",\"A Journey to the Centre of the Earth\",\"A Journey to the Centre of the Earth\",\"A Journey to the Centre of the Earth\",\"A Journey to the Centre of the Earth\",\"A Journey to the Centre of the Earth\",\"A Journey to the Centre of the Earth\",\"A Journey to the Centre of the Earth\",\"A Journey to the Centre of the Earth\",\"A Journey to the Centre of the Earth\",\"A Journey to the Centre of the Earth\",\"A Journey to the Centre of the Earth\",\"A Journey to the Centre of the Earth\",\"A Journey to the Centre of the Earth\",\"A Journey to the Centre of the Earth\",\"A Journey to the Centre of the Earth\",\"A Journey to the Centre of the Earth\",\"A Journey to the Centre of the Earth\",\"A Journey to the Centre of the Earth\",\"A Journey to the Centre of the Earth\",\"A Journey to the Centre of the Earth\",\"A Journey to the Centre of the Earth\",\"A Journey to the Centre of the Earth\",\"A Journey to the Centre of the Earth\",\"A Journey to the Centre of the Earth\",\"A Journey to the Centre of the Earth\",\"A Journey to the Centre of the Earth\",\"A Journey to the Centre of the Earth\",\"A Journey to the Centre of the Earth\",\"A Journey to the Centre of the Earth\",\"A Journey to the Centre of the Earth\",\"A Journey to the Centre of the Earth\",\"A Journey to the Centre of the Earth\",\"A Journey to the Centre of the Earth\",\"A Journey to the Centre of the Earth\",\"A Journey to the Centre of the Earth\",\"A Journey to the Centre of the Earth\",\"A Journey to the Centre of the Earth\",\"A Journey to the Centre of the Earth\"],\"legendgroup\":\"VERNE\",\"marker\":{\"color\":\"#00cc96\",\"symbol\":\"circle\"},\"name\":\"VERNE\",\"notched\":true,\"offsetgroup\":\"VERNE\",\"showlegend\":false,\"x\":[0.0618344825555827,0.07515823732748406,0.058286281117072195,0.11856466685163432,0.04143944529236818,0.05298464968111916,0.18422128584604786,0.14705916981971917,0.11533670647803601,0.16366756787622136,0.05971026745800172,0.06557230188290329,0.1404751533539512,0.060451049788360314,0.0581687052819701,0.10403824216929144,0.12004749223269884,0.185588772199106,0.0932460125890875,0.14730213814325496,0.25514462191345416,0.17941354036100615,0.12794148879959819,0.0520548712898652,0.1983648889165398,0.10478745619189549,0.0783728378687216,0.21992294592412065,0.295523879814015,0.29912834770847946,0.2600831146251278,0.2895062775340739,0.2987170753673647,0.30014555696341255,0.2974995978369861,0.24175252553320134,0.28965013183442717,0.16451969000620978,0.061262273597591746,0.23331161647850268,0.18484251276965033,0.26703486321226744,0.2612389753426217,0.20712098732179257,0.15063928655906492,0.27065791498436215,0.3217796042350859,0.054299377157734426,0.12481477605664686,0.1388496520911336,0.15816120800042882,-0.02563865932206889,-0.027428325641941628,-0.05560229397313774,-0.07365425917475248,-0.06511927195427515,-0.07319137442310039,-0.10782841154732511,-0.10756539919063313,-0.07047960158018729,-0.14777159321871622,-0.11331627120075576,-0.10940383232175403,-0.1423390129132018,-0.14027998590545396,-0.12243277243717833,-0.12868526314944465,-0.13404481930521617,-0.04124929404211026,-0.1707629358345604,-0.10970895598155894,-0.1631302916643789,-0.1727723500834314,-0.13976831724688626,-0.1280833257300219,-0.0876739595296811,-0.15751547201521518,-0.13028819220918644,-0.13585145257767967,-0.17410734741770456,-0.08188893915027941,-0.1623064762018888,-0.1432343693379554,-0.13880317933094716,-0.12041251847484045,-0.15078554959285348,-0.15658522950002357,-0.11766063297091706,-0.17820492593332252,-0.15970776638854906,-0.1317836323217413,-0.12746049017513106,-0.17143001073229128,-0.10364900952016143,-0.19159300747869457,-0.19950584078217753,-0.10180795286854741,-0.015874918243119943,0.02831836782226663,0.014703617520951092,0.0396714782552301,0.04968348272201646,0.045604897272918214,0.05572119529732827,0.05009629856185618,0.06200620242636184,0.03841840362447351,0.029577909719157868,0.03518839583735454,0.05200187189310981,0.05061776835197369,0.0478191746826349,0.02931781872827131,0.046291284695676296,0.039817630074803885,0.04778325694668017,0.053241878333348557,0.028792753358783417,0.05076251711570394,0.06314657961491407,0.045257213491700025,0.03761154523949404,0.03868905273586865,0.048836953203886306,0.05360083304195965,0.023274918830500178,0.04388832215311482,0.051445768694422134,0.053747798037208146,0.031473457398776584,0.049063641731456914,0.053884979499715366,0.052350649617744355,0.05891513684752029,0.051177872993676814,0.02270493913236865,0.0633530444261482,0.04130348275972284,0.05714717489579236,0.045755271256870414,0.04736733655117236,0.04980787303579146,0.04326329838434984,0.06551801318581135,0.07502504252423593,0.08705778994244338,0.06119351901062818,0.08629751308945961,0.069307202172713,0.04939355364914229,0.07522081936571132,0.04516869040488717,0.035440920622087195,0.028394975121361087,-0.10680029391774822,-0.09766590754463358,0.036023525154605204,0.00023450680067900676,0.02945506440128593,-0.11009932744042779,-0.055126497330398594,-0.11921314411642447,-0.08249571169455093,-0.08518205329546738,-0.07792833055686045,-0.08440986665119955,-0.09117560495693607,-0.09204065882428264,-0.08339801728439032,-0.09300053166558678,-0.09376296685622591,-0.11579364226721482,-0.10596760933751685,-0.10769351523533029,-0.11345821125893309,-0.10026689322129115,-0.14268907281228557,-0.10089824951697124,-0.11800187268648982,-0.10205855613426942,-0.08945394924893484,-0.0895509021021311,-0.09844328112663718,-0.12291127045136722,-0.14076134372790342,-0.11445476535724543,-0.12447474504237523,-0.11754464336328022,-0.1280350107317437,-0.11149314977457077,-0.09127850733769037,-0.13219819386368642,-0.10288827793630559,-0.05009157628056291,-0.06554201538365578,-0.09819797395928839,-0.11495943970353514,-0.11989802692633637,-0.1314944497802811,-0.12109236335626168,-0.1132473838956382,-0.1023058539112869,-0.06927672254381868],\"xaxis\":\"x2\",\"yaxis\":\"y2\",\"type\":\"box\"},{\"hovertemplate\":\"\\u003cb\\u003e%{hovertext}\\u003c\\u002fb\\u003e\\u003cbr\\u003e\\u003cbr\\u003elabel=DOYLE\\u003cbr\\u003ePC2=%{x}\\u003cbr\\u003ePC3=%{y}\\u003cextra\\u003e\\u003c\\u002fextra\\u003e\",\"hovertext\":[\"The Lost World\",\"The Lost World\",\"The Lost World\",\"The Lost World\",\"The Lost World\",\"The Lost World\",\"The Lost World\",\"The Lost World\",\"The Lost World\",\"The Lost World\",\"The Lost World\",\"The Lost World\",\"The Lost World\",\"The Lost World\",\"The Lost World\",\"The Lost World\"],\"legendgroup\":\"DOYLE\",\"marker\":{\"color\":\"#ab63fa\",\"symbol\":\"circle\"},\"mode\":\"markers\",\"name\":\"DOYLE\",\"orientation\":\"v\",\"showlegend\":true,\"x\":[-0.0623046311444025,-0.031045506311190987,-0.053739915602047286,-0.08667621422811755,-0.06011867960505527,-0.060050355601404495,-0.08048260644342912,-0.08959242369950497,-0.12018464838268839,-0.09703895863312971,-0.10516620011115722,-0.12852957247981558,-0.08646538092675543,-0.11256418670650617,-0.10477639046410481,-0.0813535714118478],\"xaxis\":\"x\",\"y\":[0.036718225986070975,0.002473716045327324,0.006468084560291787,0.020459470130076242,0.01506753860215758,0.018267062242433945,0.018770182108858533,0.022238515080261194,0.04324520170949452,0.041909345730359815,0.041662185229315064,0.055131031963546635,0.04987705585750279,0.054199761619558195,0.04481169259049629,0.03972167199485367],\"yaxis\":\"y\",\"type\":\"scatter\"},{\"alignmentgroup\":\"True\",\"hovertemplate\":\"\\u003cb\\u003e%{hovertext}\\u003c\\u002fb\\u003e\\u003cbr\\u003e\\u003cbr\\u003elabel=DOYLE\\u003cbr\\u003ePC2=%{x}\\u003cextra\\u003e\\u003c\\u002fextra\\u003e\",\"hovertext\":[\"The Lost World\",\"The Lost World\",\"The Lost World\",\"The Lost World\",\"The Lost World\",\"The Lost World\",\"The Lost World\",\"The Lost World\",\"The Lost World\",\"The Lost World\",\"The Lost World\",\"The Lost World\",\"The Lost World\",\"The Lost World\",\"The Lost World\",\"The Lost World\"],\"legendgroup\":\"DOYLE\",\"marker\":{\"color\":\"#ab63fa\",\"symbol\":\"circle\"},\"name\":\"DOYLE\",\"notched\":true,\"offsetgroup\":\"DOYLE\",\"showlegend\":false,\"x\":[-0.0623046311444025,-0.031045506311190987,-0.053739915602047286,-0.08667621422811755,-0.06011867960505527,-0.060050355601404495,-0.08048260644342912,-0.08959242369950497,-0.12018464838268839,-0.09703895863312971,-0.10516620011115722,-0.12852957247981558,-0.08646538092675543,-0.11256418670650617,-0.10477639046410481,-0.0813535714118478],\"xaxis\":\"x2\",\"yaxis\":\"y2\",\"type\":\"box\"},{\"hovertemplate\":\"\\u003cb\\u003e%{hovertext}\\u003c\\u002fb\\u003e\\u003cbr\\u003e\\u003cbr\\u003elabel=ABBOTT\\u003cbr\\u003ePC2=%{x}\\u003cbr\\u003ePC3=%{y}\\u003cextra\\u003e\\u003c\\u002fextra\\u003e\",\"hovertext\":[\"Flatland: A Romance of Many Dimensions\",\"Flatland: A Romance of Many Dimensions\",\"Flatland: A Romance of Many Dimensions\",\"Flatland: A Romance of Many Dimensions\",\"Flatland: A Romance of Many Dimensions\",\"Flatland: A Romance of Many Dimensions\",\"Flatland: A Romance of Many Dimensions\",\"Flatland: A Romance of Many Dimensions\",\"Flatland: A Romance of Many Dimensions\",\"Flatland: A Romance of Many Dimensions\",\"Flatland: A Romance of Many Dimensions\",\"Flatland: A Romance of Many Dimensions\",\"Flatland: A Romance of Many Dimensions\",\"Flatland: A Romance of Many Dimensions\",\"Flatland: A Romance of Many Dimensions\",\"Flatland: A Romance of Many Dimensions\",\"Flatland: A Romance of Many Dimensions\",\"Flatland: A Romance of Many Dimensions\",\"Flatland: A Romance of Many Dimensions\",\"Flatland: A Romance of Many Dimensions\",\"Flatland: A Romance of Many Dimensions\",\"Flatland: A Romance of Many Dimensions\"],\"legendgroup\":\"ABBOTT\",\"marker\":{\"color\":\"#FFA15A\",\"symbol\":\"circle\"},\"mode\":\"markers\",\"name\":\"ABBOTT\",\"orientation\":\"v\",\"showlegend\":true,\"x\":[-0.005472215418323622,-0.01592009256605371,0.002841795414514867,-0.020979184222626682,-0.014545818043255955,-0.012354266633124283,-0.004537894857581361,-0.0060354113864522,-0.006061881180237763,-0.0012008760829731748,-0.005000347967773594,-0.013320834409798515,-0.017227194840683118,-0.03461590689057236,-0.01616222828616237,-0.030973793954400298,-0.026881814974220864,-0.0342833868379989,-0.031621468085891107,-0.0232684352950686,-0.024300151077385514,-0.03437720004139363],\"xaxis\":\"x\",\"y\":[0.004908607969319973,0.02085492287508746,0.006504805663831548,0.03732308012942117,0.0053055832490687795,0.013750932993145934,0.014527215375719512,0.012501594087294714,0.014337553549865672,0.013582751841479272,0.011159835001446398,0.0263864654027496,0.024754059140697993,0.024937457482705726,0.017523466644515734,0.025295363939878555,0.026754560110553098,0.031803448526214285,0.025353299707279755,0.02226107651676284,0.02934282712483351,0.03276899432478023],\"yaxis\":\"y\",\"type\":\"scatter\"},{\"alignmentgroup\":\"True\",\"hovertemplate\":\"\\u003cb\\u003e%{hovertext}\\u003c\\u002fb\\u003e\\u003cbr\\u003e\\u003cbr\\u003elabel=ABBOTT\\u003cbr\\u003ePC2=%{x}\\u003cextra\\u003e\\u003c\\u002fextra\\u003e\",\"hovertext\":[\"Flatland: A Romance of Many Dimensions\",\"Flatland: A Romance of Many Dimensions\",\"Flatland: A Romance of Many Dimensions\",\"Flatland: A Romance of Many Dimensions\",\"Flatland: A Romance of Many Dimensions\",\"Flatland: A Romance of Many Dimensions\",\"Flatland: A Romance of Many Dimensions\",\"Flatland: A Romance of Many Dimensions\",\"Flatland: A Romance of Many Dimensions\",\"Flatland: A Romance of Many Dimensions\",\"Flatland: A Romance of Many Dimensions\",\"Flatland: A Romance of Many Dimensions\",\"Flatland: A Romance of Many Dimensions\",\"Flatland: A Romance of Many Dimensions\",\"Flatland: A Romance of Many Dimensions\",\"Flatland: A Romance of Many Dimensions\",\"Flatland: A Romance of Many Dimensions\",\"Flatland: A Romance of Many Dimensions\",\"Flatland: A Romance of Many Dimensions\",\"Flatland: A Romance of Many Dimensions\",\"Flatland: A Romance of Many Dimensions\",\"Flatland: A Romance of Many Dimensions\"],\"legendgroup\":\"ABBOTT\",\"marker\":{\"color\":\"#FFA15A\",\"symbol\":\"circle\"},\"name\":\"ABBOTT\",\"notched\":true,\"offsetgroup\":\"ABBOTT\",\"showlegend\":false,\"x\":[-0.005472215418323622,-0.01592009256605371,0.002841795414514867,-0.020979184222626682,-0.014545818043255955,-0.012354266633124283,-0.004537894857581361,-0.0060354113864522,-0.006061881180237763,-0.0012008760829731748,-0.005000347967773594,-0.013320834409798515,-0.017227194840683118,-0.03461590689057236,-0.01616222828616237,-0.030973793954400298,-0.026881814974220864,-0.0342833868379989,-0.031621468085891107,-0.0232684352950686,-0.024300151077385514,-0.03437720004139363],\"xaxis\":\"x2\",\"yaxis\":\"y2\",\"type\":\"box\"},{\"hovertemplate\":\"\\u003cb\\u003e%{hovertext}\\u003c\\u002fb\\u003e\\u003cbr\\u003e\\u003cbr\\u003elabel=RAND\\u003cbr\\u003ePC2=%{x}\\u003cbr\\u003ePC3=%{y}\\u003cextra\\u003e\\u003c\\u002fextra\\u003e\",\"hovertext\":[\"Anthem\",\"Anthem\",\"Anthem\",\"Anthem\",\"Anthem\",\"Anthem\",\"Anthem\",\"Anthem\",\"Anthem\",\"Anthem\",\"Anthem\",\"Anthem\"],\"legendgroup\":\"RAND\",\"marker\":{\"color\":\"#19d3f3\",\"symbol\":\"circle\"},\"mode\":\"markers\",\"name\":\"RAND\",\"orientation\":\"v\",\"showlegend\":true,\"x\":[-0.05136831948850717,-0.04858359465146874,-0.021246722365591088,-0.027564307406627523,-0.037925047365900626,-0.035387262431976145,-0.031009457430657243,-0.05399516808189682,-0.0506961295368999,-0.0550827548398574,-0.059236050571201966,-0.07161060219809055],\"xaxis\":\"x\",\"y\":[0.03665154439230406,0.03200218961722376,0.011457122551441953,0.016074401061856827,0.030278215663967545,0.0201145237391296,0.02882727566518323,0.02158304401403602,0.034490193560398445,0.03452075333522874,0.04673062067330087,0.0488767250981062],\"yaxis\":\"y\",\"type\":\"scatter\"},{\"alignmentgroup\":\"True\",\"hovertemplate\":\"\\u003cb\\u003e%{hovertext}\\u003c\\u002fb\\u003e\\u003cbr\\u003e\\u003cbr\\u003elabel=RAND\\u003cbr\\u003ePC2=%{x}\\u003cextra\\u003e\\u003c\\u002fextra\\u003e\",\"hovertext\":[\"Anthem\",\"Anthem\",\"Anthem\",\"Anthem\",\"Anthem\",\"Anthem\",\"Anthem\",\"Anthem\",\"Anthem\",\"Anthem\",\"Anthem\",\"Anthem\"],\"legendgroup\":\"RAND\",\"marker\":{\"color\":\"#19d3f3\",\"symbol\":\"circle\"},\"name\":\"RAND\",\"notched\":true,\"offsetgroup\":\"RAND\",\"showlegend\":false,\"x\":[-0.05136831948850717,-0.04858359465146874,-0.021246722365591088,-0.027564307406627523,-0.037925047365900626,-0.035387262431976145,-0.031009457430657243,-0.05399516808189682,-0.0506961295368999,-0.0550827548398574,-0.059236050571201966,-0.07161060219809055],\"xaxis\":\"x2\",\"yaxis\":\"y2\",\"type\":\"box\"},{\"hovertemplate\":\"\\u003cb\\u003e%{hovertext}\\u003c\\u002fb\\u003e\\u003cbr\\u003e\\u003cbr\\u003elabel=LINDSAY\\u003cbr\\u003ePC2=%{x}\\u003cbr\\u003ePC3=%{y}\\u003cextra\\u003e\\u003c\\u002fextra\\u003e\",\"hovertext\":[\"A Voyage to Arcturus\",\"A Voyage to Arcturus\",\"A Voyage to Arcturus\",\"A Voyage to Arcturus\",\"A Voyage to Arcturus\",\"A Voyage to Arcturus\",\"A Voyage to Arcturus\",\"A Voyage to Arcturus\",\"A Voyage to Arcturus\",\"A Voyage to Arcturus\",\"A Voyage to Arcturus\",\"A Voyage to Arcturus\",\"A Voyage to Arcturus\",\"A Voyage to Arcturus\",\"A Voyage to Arcturus\",\"A Voyage to Arcturus\",\"A Voyage to Arcturus\",\"A Voyage to Arcturus\",\"A Voyage to Arcturus\",\"A Voyage to Arcturus\",\"A Voyage to Arcturus\"],\"legendgroup\":\"LINDSAY\",\"marker\":{\"color\":\"#FF6692\",\"symbol\":\"circle\"},\"mode\":\"markers\",\"name\":\"LINDSAY\",\"orientation\":\"v\",\"showlegend\":true,\"x\":[-0.016497259428435215,-0.020956560745876245,-0.0248294139482288,-0.03373467231587073,-0.02474548045845647,-0.06432528430278474,-0.07118331268042348,-0.0597725163165779,-0.05741093730149064,-0.0468601844220201,-0.0516149109555067,-0.038150232432468734,-0.042693897200138164,-0.04494261057804398,-0.05312715018202651,-0.06435433507067433,-0.04250062142525851,-0.03500507701396351,-0.04779222122834986,-0.026851326659230942,-0.031827889444864095],\"xaxis\":\"x\",\"y\":[0.02666335381453025,0.06245271136463228,0.05204265247920344,0.05824214067184125,0.05233041626925336,0.08415623601687257,0.07385340729742647,0.08631846002105631,0.07761698660549804,0.08103227945027772,0.07470074035940304,0.06164348992663092,0.06165976270752513,0.05082154239199128,0.06948421943210063,0.06306557695930368,0.06593790065947933,0.05486859203967471,0.0823513137399311,0.05355108072412639,0.031348590031003654],\"yaxis\":\"y\",\"type\":\"scatter\"},{\"alignmentgroup\":\"True\",\"hovertemplate\":\"\\u003cb\\u003e%{hovertext}\\u003c\\u002fb\\u003e\\u003cbr\\u003e\\u003cbr\\u003elabel=LINDSAY\\u003cbr\\u003ePC2=%{x}\\u003cextra\\u003e\\u003c\\u002fextra\\u003e\",\"hovertext\":[\"A Voyage to Arcturus\",\"A Voyage to Arcturus\",\"A Voyage to Arcturus\",\"A Voyage to Arcturus\",\"A Voyage to Arcturus\",\"A Voyage to Arcturus\",\"A Voyage to Arcturus\",\"A Voyage to Arcturus\",\"A Voyage to Arcturus\",\"A Voyage to Arcturus\",\"A Voyage to Arcturus\",\"A Voyage to Arcturus\",\"A Voyage to Arcturus\",\"A Voyage to Arcturus\",\"A Voyage to Arcturus\",\"A Voyage to Arcturus\",\"A Voyage to Arcturus\",\"A Voyage to Arcturus\",\"A Voyage to Arcturus\",\"A Voyage to Arcturus\",\"A Voyage to Arcturus\"],\"legendgroup\":\"LINDSAY\",\"marker\":{\"color\":\"#FF6692\",\"symbol\":\"circle\"},\"name\":\"LINDSAY\",\"notched\":true,\"offsetgroup\":\"LINDSAY\",\"showlegend\":false,\"x\":[-0.016497259428435215,-0.020956560745876245,-0.0248294139482288,-0.03373467231587073,-0.02474548045845647,-0.06432528430278474,-0.07118331268042348,-0.0597725163165779,-0.05741093730149064,-0.0468601844220201,-0.0516149109555067,-0.038150232432468734,-0.042693897200138164,-0.04494261057804398,-0.05312715018202651,-0.06435433507067433,-0.04250062142525851,-0.03500507701396351,-0.04779222122834986,-0.026851326659230942,-0.031827889444864095],\"xaxis\":\"x2\",\"yaxis\":\"y2\",\"type\":\"box\"},{\"hovertemplate\":\"\\u003cb\\u003e%{hovertext}\\u003c\\u002fb\\u003e\\u003cbr\\u003e\\u003cbr\\u003elabel=HODGSON\\u003cbr\\u003ePC2=%{x}\\u003cbr\\u003ePC3=%{y}\\u003cextra\\u003e\\u003c\\u002fextra\\u003e\",\"hovertext\":[\"The Night Land\",\"The Night Land\",\"The Night Land\",\"The Night Land\",\"The Night Land\",\"The Night Land\",\"The Night Land\",\"The Night Land\",\"The Night Land\",\"The Night Land\",\"The Night Land\",\"The Night Land\",\"The Night Land\",\"The Night Land\",\"The Night Land\",\"The Night Land\",\"The Night Land\"],\"legendgroup\":\"HODGSON\",\"marker\":{\"color\":\"#B6E880\",\"symbol\":\"circle\"},\"mode\":\"markers\",\"name\":\"HODGSON\",\"orientation\":\"v\",\"showlegend\":true,\"x\":[-0.12468320391826354,-0.1399545220577668,-0.13931015805283964,-0.15986686037569742,-0.17430393483909024,-0.18133538686218828,-0.2344278369156081,-0.21033759625467408,-0.23153553232797297,-0.21865294520052217,-0.24041236649623815,-0.2178616099511304,-0.21352172169813732,-0.21831848437150594,-0.2406291265015155,-0.2164591301234709,-0.1822711294454528],\"xaxis\":\"x\",\"y\":[0.13787447863414803,0.0955448130485975,0.11647513045052177,0.1326911721662169,0.14783898383362185,0.1520607886644612,0.19991728670767817,0.1885635655775615,0.1911328059130782,0.24098271182046088,0.2391440449112854,0.2294099350970079,0.23384465656586578,0.23786386051486036,0.23199925458638643,0.20809913457328505,0.18816011038793065],\"yaxis\":\"y\",\"type\":\"scatter\"},{\"alignmentgroup\":\"True\",\"hovertemplate\":\"\\u003cb\\u003e%{hovertext}\\u003c\\u002fb\\u003e\\u003cbr\\u003e\\u003cbr\\u003elabel=HODGSON\\u003cbr\\u003ePC2=%{x}\\u003cextra\\u003e\\u003c\\u002fextra\\u003e\",\"hovertext\":[\"The Night Land\",\"The Night Land\",\"The Night Land\",\"The Night Land\",\"The Night Land\",\"The Night Land\",\"The Night Land\",\"The Night Land\",\"The Night Land\",\"The Night Land\",\"The Night Land\",\"The Night Land\",\"The Night Land\",\"The Night Land\",\"The Night Land\",\"The Night Land\",\"The Night Land\"],\"legendgroup\":\"HODGSON\",\"marker\":{\"color\":\"#B6E880\",\"symbol\":\"circle\"},\"name\":\"HODGSON\",\"notched\":true,\"offsetgroup\":\"HODGSON\",\"showlegend\":false,\"x\":[-0.12468320391826354,-0.1399545220577668,-0.13931015805283964,-0.15986686037569742,-0.17430393483909024,-0.18133538686218828,-0.2344278369156081,-0.21033759625467408,-0.23153553232797297,-0.21865294520052217,-0.24041236649623815,-0.2178616099511304,-0.21352172169813732,-0.21831848437150594,-0.2406291265015155,-0.2164591301234709,-0.1822711294454528],\"xaxis\":\"x2\",\"yaxis\":\"y2\",\"type\":\"box\"},{\"hovertemplate\":\"\\u003cb\\u003e%{hovertext}\\u003c\\u002fb\\u003e\\u003cbr\\u003e\\u003cbr\\u003elabel=VONNEGUT\\u003cbr\\u003ePC2=%{x}\\u003cbr\\u003ePC3=%{y}\\u003cextra\\u003e\\u003c\\u002fextra\\u003e\",\"hovertext\":[\"2 B R 0 2 B\",\"2 B R 0 2 B\",\"2 B R 0 2 B\",\"2 B R 0 2 B\",\"2 B R 0 2 B\",\"2 B R 0 2 B\",\"The Big Trip Up Yonder\",\"The Big Trip Up Yonder\",\"The Big Trip Up Yonder\",\"The Big Trip Up Yonder\",\"The Big Trip Up Yonder\",\"The Big Trip Up Yonder\",\"The Big Trip Up Yonder\",\"The Big Trip Up Yonder\",\"The Big Trip Up Yonder\"],\"legendgroup\":\"VONNEGUT\",\"marker\":{\"color\":\"#FF97FF\",\"symbol\":\"circle\"},\"mode\":\"markers\",\"name\":\"VONNEGUT\",\"orientation\":\"v\",\"showlegend\":true,\"x\":[0.01636045219819471,0.03284005392157652,0.02114729624525258,0.030372650460563852,0.028468844417059342,0.01824700177634034,0.02458158905242323,0.03309499097876542,0.02789232055478318,0.02946773149086358,0.031890173736842164,0.028748238702780243,0.021255403700095002,0.028835771301542933,0.03193816538773324],\"xaxis\":\"x\",\"y\":[0.008295390764512007,0.0006199068170916738,0.02134180511020248,0.01045818689452818,0.002911154129118785,-0.0009320935929291825,0.006926225009290752,-0.0057607319711725615,-0.0033647703747715953,0.0015438535678744276,0.005222851647721026,0.0012143767881863516,0.004820890182703486,0.0004662204483456612,-0.0005291261640452652],\"yaxis\":\"y\",\"type\":\"scatter\"},{\"alignmentgroup\":\"True\",\"hovertemplate\":\"\\u003cb\\u003e%{hovertext}\\u003c\\u002fb\\u003e\\u003cbr\\u003e\\u003cbr\\u003elabel=VONNEGUT\\u003cbr\\u003ePC2=%{x}\\u003cextra\\u003e\\u003c\\u002fextra\\u003e\",\"hovertext\":[\"2 B R 0 2 B\",\"2 B R 0 2 B\",\"2 B R 0 2 B\",\"2 B R 0 2 B\",\"2 B R 0 2 B\",\"2 B R 0 2 B\",\"The Big Trip Up Yonder\",\"The Big Trip Up Yonder\",\"The Big Trip Up Yonder\",\"The Big Trip Up Yonder\",\"The Big Trip Up Yonder\",\"The Big Trip Up Yonder\",\"The Big Trip Up Yonder\",\"The Big Trip Up Yonder\",\"The Big Trip Up Yonder\"],\"legendgroup\":\"VONNEGUT\",\"marker\":{\"color\":\"#FF97FF\",\"symbol\":\"circle\"},\"name\":\"VONNEGUT\",\"notched\":true,\"offsetgroup\":\"VONNEGUT\",\"showlegend\":false,\"x\":[0.01636045219819471,0.03284005392157652,0.02114729624525258,0.030372650460563852,0.028468844417059342,0.01824700177634034,0.02458158905242323,0.03309499097876542,0.02789232055478318,0.02946773149086358,0.031890173736842164,0.028748238702780243,0.021255403700095002,0.028835771301542933,0.03193816538773324],\"xaxis\":\"x2\",\"yaxis\":\"y2\",\"type\":\"box\"},{\"hovertemplate\":\"\\u003cb\\u003e%{hovertext}\\u003c\\u002fb\\u003e\\u003cbr\\u003e\\u003cbr\\u003elabel=WEINBAUM\\u003cbr\\u003ePC2=%{x}\\u003cbr\\u003ePC3=%{y}\\u003cextra\\u003e\\u003c\\u002fextra\\u003e\",\"hovertext\":[\"A Martian Odyssey\",\"A Martian Odyssey\"],\"legendgroup\":\"WEINBAUM\",\"marker\":{\"color\":\"#FECB52\",\"symbol\":\"circle\"},\"mode\":\"markers\",\"name\":\"WEINBAUM\",\"orientation\":\"v\",\"showlegend\":true,\"x\":[0.007641793891534304,-0.0007585075974629399],\"xaxis\":\"x\",\"y\":[0.00042667373878020804,0.010169707083286683],\"yaxis\":\"y\",\"type\":\"scatter\"},{\"alignmentgroup\":\"True\",\"hovertemplate\":\"\\u003cb\\u003e%{hovertext}\\u003c\\u002fb\\u003e\\u003cbr\\u003e\\u003cbr\\u003elabel=WEINBAUM\\u003cbr\\u003ePC2=%{x}\\u003cextra\\u003e\\u003c\\u002fextra\\u003e\",\"hovertext\":[\"A Martian Odyssey\",\"A Martian Odyssey\"],\"legendgroup\":\"WEINBAUM\",\"marker\":{\"color\":\"#FECB52\",\"symbol\":\"circle\"},\"name\":\"WEINBAUM\",\"notched\":true,\"offsetgroup\":\"WEINBAUM\",\"showlegend\":false,\"x\":[0.007641793891534304,-0.0007585075974629399],\"xaxis\":\"x2\",\"yaxis\":\"y2\",\"type\":\"box\"},{\"hovertemplate\":\"\\u003cb\\u003e%{hovertext}\\u003c\\u002fb\\u003e\\u003cbr\\u003e\\u003cbr\\u003elabel=DICK\\u003cbr\\u003ePC2=%{x}\\u003cbr\\u003ePC3=%{y}\\u003cextra\\u003e\\u003c\\u002fextra\\u003e\",\"hovertext\":[\"Beyond Lies the Wub\",\"Beyond Lies the Wub\",\"Beyond Lies the Wub\",\"Beyond Lies the Wub\",\"Beyond Lies the Wub\",\"The Eyes Have It\",\"The Eyes Have It\",\"Second Variety\",\"Second Variety\",\"Second Variety\",\"Second Variety\",\"Second Variety\",\"Second Variety\",\"Second Variety\",\"Second Variety\",\"Second Variety\",\"Second Variety\",\"Second Variety\",\"Second Variety\",\"Second Variety\",\"Second Variety\",\"Second Variety\",\"Second Variety\",\"Second Variety\",\"Second Variety\",\"Second Variety\",\"Second Variety\",\"Second Variety\",\"Second Variety\",\"Second Variety\",\"Second Variety\",\"Second Variety\",\"Second Variety\",\"Second Variety\",\"Second Variety\",\"Second Variety\",\"Second Variety\",\"Second Variety\",\"Second Variety\",\"Second Variety\",\"Second Variety\",\"Second Variety\",\"Second Variety\",\"Second Variety\",\"Second Variety\",\"Second Variety\",\"Second Variety\",\"Second Variety\",\"Second Variety\",\"Second Variety\",\"Second Variety\",\"Second Variety\",\"The Hanging Stranger\",\"The Hanging Stranger\",\"The Hanging Stranger\",\"The Hanging Stranger\",\"The Hanging Stranger\",\"The Hanging Stranger\",\"The Hanging Stranger\",\"The Hanging Stranger\"],\"legendgroup\":\"DICK\",\"marker\":{\"color\":\"#636efa\",\"symbol\":\"circle\"},\"mode\":\"markers\",\"name\":\"DICK\",\"orientation\":\"v\",\"showlegend\":true,\"x\":[0.03205266998373975,0.027736104693949146,0.010561064412467342,0.030587406837413247,0.010667630164880143,0.02574697417847959,0.008712080893004943,0.12273603090289797,0.10650232480930844,0.3445855387344865,0.2127333163651787,0.07197270012010554,0.11541484787458961,0.36383669721730755,0.2973944230289901,0.3552705184799427,0.2824950632864842,0.30614773424007385,0.35369610968613807,0.2682180521386783,0.3062393010426057,0.30758983739718004,0.4057554821319908,0.34574928874694555,0.2802608570309242,0.4342388631984358,0.31363309359270175,0.4445321507675115,0.39566648242667046,0.4027578914766967,0.38042745218763896,0.46311912050539517,0.4041634806434628,0.4401186283001691,0.5037538210641063,0.38948647387787055,0.2686311099793694,0.44730637395127093,0.43868630883942367,0.4343664239006507,0.45907065880102177,0.3610566685684465,0.32153278270205443,0.24944505347153717,0.3641241708567792,0.3194839734825396,0.36488967890221174,0.30440938492420444,0.4092484778997103,0.23061665321617406,0.344887170833125,0.2812948854482227,0.037115208206678074,0.03092658900745764,0.024893009581116666,0.028113877246968993,0.04128376702068377,0.03270553068360239,0.03969948220338599,0.022227151195706],\"xaxis\":\"x\",\"y\":[-0.032399993144672914,-0.043657516784480245,-0.056436199876054784,-0.026855895366083363,-0.0640686014626673,0.0023569276378302265,0.019166953362329923,-0.035347880216094,-0.03769060138604137,-0.12272058615421941,-0.06819076591251182,-0.002766922858617193,-0.030786140079293204,-0.13062164090983816,-0.10331762353203056,-0.12723013551624454,-0.09854333347407637,-0.10421876267875492,-0.1221124219257864,-0.08748849304471062,-0.10830282305291486,-0.11408721342549066,-0.15104757243395012,-0.1273579425738927,-0.09296347794683082,-0.14207097501917554,-0.09495778659258924,-0.1503328663578082,-0.1335032405976184,-0.13817216184808612,-0.1376745950012419,-0.16168445818293647,-0.1455365937375183,-0.15702074624061818,-0.18565398631386548,-0.13632931083994454,-0.08974504293556791,-0.15477889327995445,-0.15668118885536125,-0.13404706789638743,-0.16247078511910423,-0.10928283242132367,-0.09988136828400185,-0.06215972099852535,-0.11157464360059485,-0.11458702048314867,-0.13679748365026628,-0.09521396279153697,-0.12029242821243928,-0.07218737826482736,-0.12351499235084916,-0.08926352887007949,0.0019533120122599166,0.004491532669229314,0.011642966273567394,0.0068624305810180445,0.004008974675083854,0.004942922588588183,-0.0029569209251291565,0.01012792939908066],\"yaxis\":\"y\",\"type\":\"scatter\"},{\"alignmentgroup\":\"True\",\"hovertemplate\":\"\\u003cb\\u003e%{hovertext}\\u003c\\u002fb\\u003e\\u003cbr\\u003e\\u003cbr\\u003elabel=DICK\\u003cbr\\u003ePC2=%{x}\\u003cextra\\u003e\\u003c\\u002fextra\\u003e\",\"hovertext\":[\"Beyond Lies the Wub\",\"Beyond Lies the Wub\",\"Beyond Lies the Wub\",\"Beyond Lies the Wub\",\"Beyond Lies the Wub\",\"The Eyes Have It\",\"The Eyes Have It\",\"Second Variety\",\"Second Variety\",\"Second Variety\",\"Second Variety\",\"Second Variety\",\"Second Variety\",\"Second Variety\",\"Second Variety\",\"Second Variety\",\"Second Variety\",\"Second Variety\",\"Second Variety\",\"Second Variety\",\"Second Variety\",\"Second Variety\",\"Second Variety\",\"Second Variety\",\"Second Variety\",\"Second Variety\",\"Second Variety\",\"Second Variety\",\"Second Variety\",\"Second Variety\",\"Second Variety\",\"Second Variety\",\"Second Variety\",\"Second Variety\",\"Second Variety\",\"Second Variety\",\"Second Variety\",\"Second Variety\",\"Second Variety\",\"Second Variety\",\"Second Variety\",\"Second Variety\",\"Second Variety\",\"Second Variety\",\"Second Variety\",\"Second Variety\",\"Second Variety\",\"Second Variety\",\"Second Variety\",\"Second Variety\",\"Second Variety\",\"Second Variety\",\"The Hanging Stranger\",\"The Hanging Stranger\",\"The Hanging Stranger\",\"The Hanging Stranger\",\"The Hanging Stranger\",\"The Hanging Stranger\",\"The Hanging Stranger\",\"The Hanging Stranger\"],\"legendgroup\":\"DICK\",\"marker\":{\"color\":\"#636efa\",\"symbol\":\"circle\"},\"name\":\"DICK\",\"notched\":true,\"offsetgroup\":\"DICK\",\"showlegend\":false,\"x\":[0.03205266998373975,0.027736104693949146,0.010561064412467342,0.030587406837413247,0.010667630164880143,0.02574697417847959,0.008712080893004943,0.12273603090289797,0.10650232480930844,0.3445855387344865,0.2127333163651787,0.07197270012010554,0.11541484787458961,0.36383669721730755,0.2973944230289901,0.3552705184799427,0.2824950632864842,0.30614773424007385,0.35369610968613807,0.2682180521386783,0.3062393010426057,0.30758983739718004,0.4057554821319908,0.34574928874694555,0.2802608570309242,0.4342388631984358,0.31363309359270175,0.4445321507675115,0.39566648242667046,0.4027578914766967,0.38042745218763896,0.46311912050539517,0.4041634806434628,0.4401186283001691,0.5037538210641063,0.38948647387787055,0.2686311099793694,0.44730637395127093,0.43868630883942367,0.4343664239006507,0.45907065880102177,0.3610566685684465,0.32153278270205443,0.24944505347153717,0.3641241708567792,0.3194839734825396,0.36488967890221174,0.30440938492420444,0.4092484778997103,0.23061665321617406,0.344887170833125,0.2812948854482227,0.037115208206678074,0.03092658900745764,0.024893009581116666,0.028113877246968993,0.04128376702068377,0.03270553068360239,0.03969948220338599,0.022227151195706],\"xaxis\":\"x2\",\"yaxis\":\"y2\",\"type\":\"box\"},{\"hovertemplate\":\"\\u003cb\\u003e%{hovertext}\\u003c\\u002fb\\u003e\\u003cbr\\u003e\\u003cbr\\u003elabel=LINEBARGER\\u003cbr\\u003ePC2=%{x}\\u003cbr\\u003ePC3=%{y}\\u003cextra\\u003e\\u003c\\u002fextra\\u003e\",\"hovertext\":[\"The Game of Rat and Dragon\",\"The Game of Rat and Dragon\",\"The Game of Rat and Dragon\"],\"legendgroup\":\"LINEBARGER\",\"marker\":{\"color\":\"#EF553B\",\"symbol\":\"circle\"},\"mode\":\"markers\",\"name\":\"LINEBARGER\",\"orientation\":\"v\",\"showlegend\":true,\"x\":[0.006746965335183461,-0.01142844420074874,0.00038890053256190914],\"xaxis\":\"x\",\"y\":[0.0034946519029568834,0.017303255080080272,0.035643693368987095],\"yaxis\":\"y\",\"type\":\"scatter\"},{\"alignmentgroup\":\"True\",\"hovertemplate\":\"\\u003cb\\u003e%{hovertext}\\u003c\\u002fb\\u003e\\u003cbr\\u003e\\u003cbr\\u003elabel=LINEBARGER\\u003cbr\\u003ePC2=%{x}\\u003cextra\\u003e\\u003c\\u002fextra\\u003e\",\"hovertext\":[\"The Game of Rat and Dragon\",\"The Game of Rat and Dragon\",\"The Game of Rat and Dragon\"],\"legendgroup\":\"LINEBARGER\",\"marker\":{\"color\":\"#EF553B\",\"symbol\":\"circle\"},\"name\":\"LINEBARGER\",\"notched\":true,\"offsetgroup\":\"LINEBARGER\",\"showlegend\":false,\"x\":[0.006746965335183461,-0.01142844420074874,0.00038890053256190914],\"xaxis\":\"x2\",\"yaxis\":\"y2\",\"type\":\"box\"},{\"hovertemplate\":\"\\u003cb\\u003e%{hovertext}\\u003c\\u002fb\\u003e\\u003cbr\\u003e\\u003cbr\\u003elabel=HOWARD\\u003cbr\\u003ePC2=%{x}\\u003cbr\\u003ePC3=%{y}\\u003cextra\\u003e\\u003c\\u002fextra\\u003e\",\"hovertext\":[\"The Hour of the Dragon\",\"The Hour of the Dragon\",\"The Hour of the Dragon\",\"The Hour of the Dragon\",\"The Hour of the Dragon\",\"The Hour of the Dragon\",\"The Hour of the Dragon\",\"The Hour of the Dragon\",\"The Hour of the Dragon\",\"The Hour of the Dragon\",\"The Hour of the Dragon\",\"The Hour of the Dragon\",\"The Hour of the Dragon\",\"The Hour of the Dragon\",\"The Hour of the Dragon\",\"The Hour of the Dragon\",\"The Hour of the Dragon\",\"The Hour of the Dragon\",\"The Hour of the Dragon\",\"The Hour of the Dragon\",\"The Hour of the Dragon\",\"The Hour of the Dragon\"],\"legendgroup\":\"HOWARD\",\"marker\":{\"color\":\"#00cc96\",\"symbol\":\"circle\"},\"mode\":\"markers\",\"name\":\"HOWARD\",\"orientation\":\"v\",\"showlegend\":true,\"x\":[-0.03719407694696792,-0.03538223716337208,-0.03772915869905119,-0.056066338231487725,-0.0687696125866791,-0.07462850457236343,-0.06696209915393232,-0.030153525256215858,-0.06053332686150127,-0.05575132714019092,-0.04440809091141869,-0.03470175601745856,-0.03358178914213693,-0.03539664412361091,-0.03348768307703106,-0.03989694697793187,-0.05962430133184239,-0.0741170148465161,-0.05542580697892755,-0.04512019747110098,-0.03925989339398873,-0.04132838450734669],\"xaxis\":\"x\",\"y\":[0.04317875589786765,0.039338498692740274,0.04903477494452335,0.06601208110847759,0.07435829848144633,0.08145054635303584,0.07362069903580466,0.043432716355829494,0.06792222982864875,0.057214743910924674,0.04009408512888566,0.03972638228598146,0.022227064585687184,0.039362902881868646,0.008284804205504469,0.026198263256740347,0.04998695783844536,0.08520351309197445,0.055778161440376464,0.05203520725072511,0.04852550586676082,0.052722064370807245],\"yaxis\":\"y\",\"type\":\"scatter\"},{\"alignmentgroup\":\"True\",\"hovertemplate\":\"\\u003cb\\u003e%{hovertext}\\u003c\\u002fb\\u003e\\u003cbr\\u003e\\u003cbr\\u003elabel=HOWARD\\u003cbr\\u003ePC2=%{x}\\u003cextra\\u003e\\u003c\\u002fextra\\u003e\",\"hovertext\":[\"The Hour of the Dragon\",\"The Hour of the Dragon\",\"The Hour of the Dragon\",\"The Hour of the Dragon\",\"The Hour of the Dragon\",\"The Hour of the Dragon\",\"The Hour of the Dragon\",\"The Hour of the Dragon\",\"The Hour of the Dragon\",\"The Hour of the Dragon\",\"The Hour of the Dragon\",\"The Hour of the Dragon\",\"The Hour of the Dragon\",\"The Hour of the Dragon\",\"The Hour of the Dragon\",\"The Hour of the Dragon\",\"The Hour of the Dragon\",\"The Hour of the Dragon\",\"The Hour of the Dragon\",\"The Hour of the Dragon\",\"The Hour of the Dragon\",\"The Hour of the Dragon\"],\"legendgroup\":\"HOWARD\",\"marker\":{\"color\":\"#00cc96\",\"symbol\":\"circle\"},\"name\":\"HOWARD\",\"notched\":true,\"offsetgroup\":\"HOWARD\",\"showlegend\":false,\"x\":[-0.03719407694696792,-0.03538223716337208,-0.03772915869905119,-0.056066338231487725,-0.0687696125866791,-0.07462850457236343,-0.06696209915393232,-0.030153525256215858,-0.06053332686150127,-0.05575132714019092,-0.04440809091141869,-0.03470175601745856,-0.03358178914213693,-0.03539664412361091,-0.03348768307703106,-0.03989694697793187,-0.05962430133184239,-0.0741170148465161,-0.05542580697892755,-0.04512019747110098,-0.03925989339398873,-0.04132838450734669],\"xaxis\":\"x2\",\"yaxis\":\"y2\",\"type\":\"box\"},{\"hovertemplate\":\"\\u003cb\\u003e%{hovertext}\\u003c\\u002fb\\u003e\\u003cbr\\u003e\\u003cbr\\u003elabel=KORNBLUTH\\u003cbr\\u003ePC2=%{x}\\u003cbr\\u003ePC3=%{y}\\u003cextra\\u003e\\u003c\\u002fextra\\u003e\",\"hovertext\":[\"The Marching Morons\",\"The Marching Morons\",\"The Marching Morons\",\"The Marching Morons\",\"The Marching Morons\"],\"legendgroup\":\"KORNBLUTH\",\"marker\":{\"color\":\"#ab63fa\",\"symbol\":\"circle\"},\"mode\":\"markers\",\"name\":\"KORNBLUTH\",\"orientation\":\"v\",\"showlegend\":true,\"x\":[0.021346766781927262,0.03043928216746421,0.01969573277829131,0.024223241223938437,0.017198910139404413],\"xaxis\":\"x\",\"y\":[0.0020976155931212337,-0.002587683597311806,0.007665487576235493,0.01273552313330027,0.009127721910171332],\"yaxis\":\"y\",\"type\":\"scatter\"},{\"alignmentgroup\":\"True\",\"hovertemplate\":\"\\u003cb\\u003e%{hovertext}\\u003c\\u002fb\\u003e\\u003cbr\\u003e\\u003cbr\\u003elabel=KORNBLUTH\\u003cbr\\u003ePC2=%{x}\\u003cextra\\u003e\\u003c\\u002fextra\\u003e\",\"hovertext\":[\"The Marching Morons\",\"The Marching Morons\",\"The Marching Morons\",\"The Marching Morons\",\"The Marching Morons\"],\"legendgroup\":\"KORNBLUTH\",\"marker\":{\"color\":\"#ab63fa\",\"symbol\":\"circle\"},\"name\":\"KORNBLUTH\",\"notched\":true,\"offsetgroup\":\"KORNBLUTH\",\"showlegend\":false,\"x\":[0.021346766781927262,0.03043928216746421,0.01969573277829131,0.024223241223938437,0.017198910139404413],\"xaxis\":\"x2\",\"yaxis\":\"y2\",\"type\":\"box\"}],                        {\"template\":{\"data\":{\"histogram2dcontour\":[{\"type\":\"histogram2dcontour\",\"colorbar\":{\"outlinewidth\":0,\"ticks\":\"\"},\"colorscale\":[[0.0,\"#0d0887\"],[0.1111111111111111,\"#46039f\"],[0.2222222222222222,\"#7201a8\"],[0.3333333333333333,\"#9c179e\"],[0.4444444444444444,\"#bd3786\"],[0.5555555555555556,\"#d8576b\"],[0.6666666666666666,\"#ed7953\"],[0.7777777777777778,\"#fb9f3a\"],[0.8888888888888888,\"#fdca26\"],[1.0,\"#f0f921\"]]}],\"choropleth\":[{\"type\":\"choropleth\",\"colorbar\":{\"outlinewidth\":0,\"ticks\":\"\"}}],\"histogram2d\":[{\"type\":\"histogram2d\",\"colorbar\":{\"outlinewidth\":0,\"ticks\":\"\"},\"colorscale\":[[0.0,\"#0d0887\"],[0.1111111111111111,\"#46039f\"],[0.2222222222222222,\"#7201a8\"],[0.3333333333333333,\"#9c179e\"],[0.4444444444444444,\"#bd3786\"],[0.5555555555555556,\"#d8576b\"],[0.6666666666666666,\"#ed7953\"],[0.7777777777777778,\"#fb9f3a\"],[0.8888888888888888,\"#fdca26\"],[1.0,\"#f0f921\"]]}],\"heatmap\":[{\"type\":\"heatmap\",\"colorbar\":{\"outlinewidth\":0,\"ticks\":\"\"},\"colorscale\":[[0.0,\"#0d0887\"],[0.1111111111111111,\"#46039f\"],[0.2222222222222222,\"#7201a8\"],[0.3333333333333333,\"#9c179e\"],[0.4444444444444444,\"#bd3786\"],[0.5555555555555556,\"#d8576b\"],[0.6666666666666666,\"#ed7953\"],[0.7777777777777778,\"#fb9f3a\"],[0.8888888888888888,\"#fdca26\"],[1.0,\"#f0f921\"]]}],\"heatmapgl\":[{\"type\":\"heatmapgl\",\"colorbar\":{\"outlinewidth\":0,\"ticks\":\"\"},\"colorscale\":[[0.0,\"#0d0887\"],[0.1111111111111111,\"#46039f\"],[0.2222222222222222,\"#7201a8\"],[0.3333333333333333,\"#9c179e\"],[0.4444444444444444,\"#bd3786\"],[0.5555555555555556,\"#d8576b\"],[0.6666666666666666,\"#ed7953\"],[0.7777777777777778,\"#fb9f3a\"],[0.8888888888888888,\"#fdca26\"],[1.0,\"#f0f921\"]]}],\"contourcarpet\":[{\"type\":\"contourcarpet\",\"colorbar\":{\"outlinewidth\":0,\"ticks\":\"\"}}],\"contour\":[{\"type\":\"contour\",\"colorbar\":{\"outlinewidth\":0,\"ticks\":\"\"},\"colorscale\":[[0.0,\"#0d0887\"],[0.1111111111111111,\"#46039f\"],[0.2222222222222222,\"#7201a8\"],[0.3333333333333333,\"#9c179e\"],[0.4444444444444444,\"#bd3786\"],[0.5555555555555556,\"#d8576b\"],[0.6666666666666666,\"#ed7953\"],[0.7777777777777778,\"#fb9f3a\"],[0.8888888888888888,\"#fdca26\"],[1.0,\"#f0f921\"]]}],\"surface\":[{\"type\":\"surface\",\"colorbar\":{\"outlinewidth\":0,\"ticks\":\"\"},\"colorscale\":[[0.0,\"#0d0887\"],[0.1111111111111111,\"#46039f\"],[0.2222222222222222,\"#7201a8\"],[0.3333333333333333,\"#9c179e\"],[0.4444444444444444,\"#bd3786\"],[0.5555555555555556,\"#d8576b\"],[0.6666666666666666,\"#ed7953\"],[0.7777777777777778,\"#fb9f3a\"],[0.8888888888888888,\"#fdca26\"],[1.0,\"#f0f921\"]]}],\"mesh3d\":[{\"type\":\"mesh3d\",\"colorbar\":{\"outlinewidth\":0,\"ticks\":\"\"}}],\"scatter\":[{\"fillpattern\":{\"fillmode\":\"overlay\",\"size\":10,\"solidity\":0.2},\"type\":\"scatter\"}],\"parcoords\":[{\"type\":\"parcoords\",\"line\":{\"colorbar\":{\"outlinewidth\":0,\"ticks\":\"\"}}}],\"scatterpolargl\":[{\"type\":\"scatterpolargl\",\"marker\":{\"colorbar\":{\"outlinewidth\":0,\"ticks\":\"\"}}}],\"bar\":[{\"error_x\":{\"color\":\"#2a3f5f\"},\"error_y\":{\"color\":\"#2a3f5f\"},\"marker\":{\"line\":{\"color\":\"#E5ECF6\",\"width\":0.5},\"pattern\":{\"fillmode\":\"overlay\",\"size\":10,\"solidity\":0.2}},\"type\":\"bar\"}],\"scattergeo\":[{\"type\":\"scattergeo\",\"marker\":{\"colorbar\":{\"outlinewidth\":0,\"ticks\":\"\"}}}],\"scatterpolar\":[{\"type\":\"scatterpolar\",\"marker\":{\"colorbar\":{\"outlinewidth\":0,\"ticks\":\"\"}}}],\"histogram\":[{\"marker\":{\"pattern\":{\"fillmode\":\"overlay\",\"size\":10,\"solidity\":0.2}},\"type\":\"histogram\"}],\"scattergl\":[{\"type\":\"scattergl\",\"marker\":{\"colorbar\":{\"outlinewidth\":0,\"ticks\":\"\"}}}],\"scatter3d\":[{\"type\":\"scatter3d\",\"line\":{\"colorbar\":{\"outlinewidth\":0,\"ticks\":\"\"}},\"marker\":{\"colorbar\":{\"outlinewidth\":0,\"ticks\":\"\"}}}],\"scattermapbox\":[{\"type\":\"scattermapbox\",\"marker\":{\"colorbar\":{\"outlinewidth\":0,\"ticks\":\"\"}}}],\"scatterternary\":[{\"type\":\"scatterternary\",\"marker\":{\"colorbar\":{\"outlinewidth\":0,\"ticks\":\"\"}}}],\"scattercarpet\":[{\"type\":\"scattercarpet\",\"marker\":{\"colorbar\":{\"outlinewidth\":0,\"ticks\":\"\"}}}],\"carpet\":[{\"aaxis\":{\"endlinecolor\":\"#2a3f5f\",\"gridcolor\":\"white\",\"linecolor\":\"white\",\"minorgridcolor\":\"white\",\"startlinecolor\":\"#2a3f5f\"},\"baxis\":{\"endlinecolor\":\"#2a3f5f\",\"gridcolor\":\"white\",\"linecolor\":\"white\",\"minorgridcolor\":\"white\",\"startlinecolor\":\"#2a3f5f\"},\"type\":\"carpet\"}],\"table\":[{\"cells\":{\"fill\":{\"color\":\"#EBF0F8\"},\"line\":{\"color\":\"white\"}},\"header\":{\"fill\":{\"color\":\"#C8D4E3\"},\"line\":{\"color\":\"white\"}},\"type\":\"table\"}],\"barpolar\":[{\"marker\":{\"line\":{\"color\":\"#E5ECF6\",\"width\":0.5},\"pattern\":{\"fillmode\":\"overlay\",\"size\":10,\"solidity\":0.2}},\"type\":\"barpolar\"}],\"pie\":[{\"automargin\":true,\"type\":\"pie\"}]},\"layout\":{\"autotypenumbers\":\"strict\",\"colorway\":[\"#636efa\",\"#EF553B\",\"#00cc96\",\"#ab63fa\",\"#FFA15A\",\"#19d3f3\",\"#FF6692\",\"#B6E880\",\"#FF97FF\",\"#FECB52\"],\"font\":{\"color\":\"#2a3f5f\"},\"hovermode\":\"closest\",\"hoverlabel\":{\"align\":\"left\"},\"paper_bgcolor\":\"white\",\"plot_bgcolor\":\"#E5ECF6\",\"polar\":{\"bgcolor\":\"#E5ECF6\",\"angularaxis\":{\"gridcolor\":\"white\",\"linecolor\":\"white\",\"ticks\":\"\"},\"radialaxis\":{\"gridcolor\":\"white\",\"linecolor\":\"white\",\"ticks\":\"\"}},\"ternary\":{\"bgcolor\":\"#E5ECF6\",\"aaxis\":{\"gridcolor\":\"white\",\"linecolor\":\"white\",\"ticks\":\"\"},\"baxis\":{\"gridcolor\":\"white\",\"linecolor\":\"white\",\"ticks\":\"\"},\"caxis\":{\"gridcolor\":\"white\",\"linecolor\":\"white\",\"ticks\":\"\"}},\"coloraxis\":{\"colorbar\":{\"outlinewidth\":0,\"ticks\":\"\"}},\"colorscale\":{\"sequential\":[[0.0,\"#0d0887\"],[0.1111111111111111,\"#46039f\"],[0.2222222222222222,\"#7201a8\"],[0.3333333333333333,\"#9c179e\"],[0.4444444444444444,\"#bd3786\"],[0.5555555555555556,\"#d8576b\"],[0.6666666666666666,\"#ed7953\"],[0.7777777777777778,\"#fb9f3a\"],[0.8888888888888888,\"#fdca26\"],[1.0,\"#f0f921\"]],\"sequentialminus\":[[0.0,\"#0d0887\"],[0.1111111111111111,\"#46039f\"],[0.2222222222222222,\"#7201a8\"],[0.3333333333333333,\"#9c179e\"],[0.4444444444444444,\"#bd3786\"],[0.5555555555555556,\"#d8576b\"],[0.6666666666666666,\"#ed7953\"],[0.7777777777777778,\"#fb9f3a\"],[0.8888888888888888,\"#fdca26\"],[1.0,\"#f0f921\"]],\"diverging\":[[0,\"#8e0152\"],[0.1,\"#c51b7d\"],[0.2,\"#de77ae\"],[0.3,\"#f1b6da\"],[0.4,\"#fde0ef\"],[0.5,\"#f7f7f7\"],[0.6,\"#e6f5d0\"],[0.7,\"#b8e186\"],[0.8,\"#7fbc41\"],[0.9,\"#4d9221\"],[1,\"#276419\"]]},\"xaxis\":{\"gridcolor\":\"white\",\"linecolor\":\"white\",\"ticks\":\"\",\"title\":{\"standoff\":15},\"zerolinecolor\":\"white\",\"automargin\":true,\"zerolinewidth\":2},\"yaxis\":{\"gridcolor\":\"white\",\"linecolor\":\"white\",\"ticks\":\"\",\"title\":{\"standoff\":15},\"zerolinecolor\":\"white\",\"automargin\":true,\"zerolinewidth\":2},\"scene\":{\"xaxis\":{\"backgroundcolor\":\"#E5ECF6\",\"gridcolor\":\"white\",\"linecolor\":\"white\",\"showbackground\":true,\"ticks\":\"\",\"zerolinecolor\":\"white\",\"gridwidth\":2},\"yaxis\":{\"backgroundcolor\":\"#E5ECF6\",\"gridcolor\":\"white\",\"linecolor\":\"white\",\"showbackground\":true,\"ticks\":\"\",\"zerolinecolor\":\"white\",\"gridwidth\":2},\"zaxis\":{\"backgroundcolor\":\"#E5ECF6\",\"gridcolor\":\"white\",\"linecolor\":\"white\",\"showbackground\":true,\"ticks\":\"\",\"zerolinecolor\":\"white\",\"gridwidth\":2}},\"shapedefaults\":{\"line\":{\"color\":\"#2a3f5f\"}},\"annotationdefaults\":{\"arrowcolor\":\"#2a3f5f\",\"arrowhead\":0,\"arrowwidth\":1},\"geo\":{\"bgcolor\":\"white\",\"landcolor\":\"#E5ECF6\",\"subunitcolor\":\"white\",\"showland\":true,\"showlakes\":true,\"lakecolor\":\"white\"},\"title\":{\"x\":0.05},\"mapbox\":{\"style\":\"light\"}}},\"xaxis\":{\"anchor\":\"y\",\"domain\":[0.0,1.0],\"title\":{\"text\":\"PC2\"}},\"yaxis\":{\"anchor\":\"x\",\"domain\":[0.0,0.7326],\"title\":{\"text\":\"PC3\"}},\"xaxis2\":{\"anchor\":\"y2\",\"domain\":[0.0,1.0],\"matches\":\"x\",\"showticklabels\":false,\"showgrid\":true},\"yaxis2\":{\"anchor\":\"x2\",\"domain\":[0.7426,1.0],\"matches\":\"y2\",\"showticklabels\":false,\"showline\":false,\"ticks\":\"\",\"showgrid\":false},\"legend\":{\"title\":{\"text\":\"label\"},\"tracegroupgap\":0},\"margin\":{\"t\":60}},                        {\"responsive\": true}                    ).then(function(){\n",
              "                            \n",
              "var gd = document.getElementById('f62fd5fb-b9b8-446b-aa57-e52899d60104');\n",
              "var x = new MutationObserver(function (mutations, observer) {{\n",
              "        var display = window.getComputedStyle(gd).display;\n",
              "        if (!display || display === 'none') {{\n",
              "            console.log([gd, 'removed!']);\n",
              "            Plotly.purge(gd);\n",
              "            observer.disconnect();\n",
              "        }}\n",
              "}});\n",
              "\n",
              "// Listen for the removal of the full notebook cells\n",
              "var notebookContainer = gd.closest('#notebook-container');\n",
              "if (notebookContainer) {{\n",
              "    x.observe(notebookContainer, {childList: true});\n",
              "}}\n",
              "\n",
              "// Listen for the clearing of the current output cell\n",
              "var outputEl = gd.closest('.output');\n",
              "if (outputEl) {{\n",
              "    x.observe(outputEl, {childList: true});\n",
              "}}\n",
              "\n",
              "                        })                };                            </script>        </div>\n",
              "</body>\n",
              "</html>"
            ]
          },
          "metadata": {}
        }
      ],
      "source": [
        "vis_pcs(DCM_c, 2, 3)"
      ]
    },
    {
      "cell_type": "markdown",
      "metadata": {
        "id": "hS9oBMRcn7KH"
      },
      "source": [
        "## Books, PC 0 and 1"
      ]
    },
    {
      "cell_type": "code",
      "execution_count": null,
      "metadata": {
        "id": "Q0MwC11_n7KH"
      },
      "outputs": [],
      "source": [
        "#vis_pcs(DCM_b, 0, 1)"
      ]
    },
    {
      "cell_type": "markdown",
      "metadata": {
        "id": "0cnQQjbvn7KH"
      },
      "source": [
        "## Books, PC 1 and 2"
      ]
    },
    {
      "cell_type": "code",
      "execution_count": null,
      "metadata": {
        "id": "MesbTdfpn7KH"
      },
      "outputs": [],
      "source": [
        "#vis_pcs(DCM_b, 1, 2)"
      ]
    },
    {
      "cell_type": "markdown",
      "metadata": {
        "id": "YpPulFPXn7KI"
      },
      "source": [
        "## Books, PC 2 and 3"
      ]
    },
    {
      "cell_type": "code",
      "execution_count": null,
      "metadata": {
        "id": "aM296slen7KI"
      },
      "outputs": [],
      "source": [
        "#vis_pcs(DCM_b, 2, 3)"
      ]
    },
    {
      "cell_type": "markdown",
      "metadata": {
        "toc-hr-collapsed": false,
        "id": "o2iOb8Qin7KK"
      },
      "source": [
        "# Compare to Scikit Learn"
      ]
    },
    {
      "cell_type": "code",
      "execution_count": null,
      "metadata": {
        "id": "AIAbCuWbn7KK"
      },
      "outputs": [],
      "source": [
        "pca_engine = PCA(n_components=10)"
      ]
    },
    {
      "cell_type": "code",
      "execution_count": null,
      "metadata": {
        "id": "hjrn6qQLn7KK"
      },
      "outputs": [],
      "source": [
        "#DCM_sk_b = pd.DataFrame(pca_engine.fit_transform(TFIDF_b), index=TFIDF_b.index)\n",
        "#DCM_sk_b.columns = ['PC{}'.format(i) for i in DCM_sk_b.columns]\n",
        "#DCM_sk_b['label'] = LIB.author\n",
        "#DCM_sk_b['title'] = LIB.book_title"
      ]
    },
    {
      "cell_type": "code",
      "execution_count": null,
      "metadata": {
        "id": "8Wp79EAdn7KL"
      },
      "outputs": [],
      "source": [
        "#DCM_sk_b.head().style.background_gradient()"
      ]
    },
    {
      "cell_type": "code",
      "execution_count": null,
      "metadata": {
        "id": "dp7VTe17n7KL"
      },
      "outputs": [],
      "source": [
        "DCM_sk_c = pd.DataFrame(pca_engine.fit_transform(TFIDF_c), index=TFIDF_c.index)\n",
        "DCM_sk_c.columns = ['PC{}'.format(i) for i in DCM_sk_c.columns]\n",
        "DCM_sk_c['label'] = DCM_sk_c.apply(lambda x: LIB.author[x.name[0]], 1)\n",
        "DCM_sk_c['title'] = DCM_sk_c.apply(lambda x: LIB.book_title[x.name[0]], 1)"
      ]
    },
    {
      "cell_type": "code",
      "execution_count": null,
      "metadata": {
        "id": "ntiMUsTvn7KL",
        "colab": {
          "base_uri": "https://localhost:8080/",
          "height": 431
        },
        "outputId": "bbc85e94-c18a-49a5-d7a6-1a378389ff7a"
      },
      "outputs": [
        {
          "output_type": "execute_result",
          "data": {
            "text/plain": [
              "<pandas.io.formats.style.Styler at 0x7d4f77a30850>"
            ],
            "text/html": [
              "<style type=\"text/css\">\n",
              "#T_eb912_row0_col0, #T_eb912_row0_col1, #T_eb912_row0_col3, #T_eb912_row0_col7, #T_eb912_row0_col8, #T_eb912_row1_col2, #T_eb912_row2_col6, #T_eb912_row3_col9, #T_eb912_row4_col4, #T_eb912_row4_col5 {\n",
              "  background-color: #023858;\n",
              "  color: #f1f1f1;\n",
              "}\n",
              "#T_eb912_row0_col2 {\n",
              "  background-color: #034267;\n",
              "  color: #f1f1f1;\n",
              "}\n",
              "#T_eb912_row0_col4 {\n",
              "  background-color: #f4eef6;\n",
              "  color: #000000;\n",
              "}\n",
              "#T_eb912_row0_col5 {\n",
              "  background-color: #056dac;\n",
              "  color: #f1f1f1;\n",
              "}\n",
              "#T_eb912_row0_col6 {\n",
              "  background-color: #67a4cc;\n",
              "  color: #f1f1f1;\n",
              "}\n",
              "#T_eb912_row0_col9, #T_eb912_row1_col5, #T_eb912_row2_col1, #T_eb912_row2_col4, #T_eb912_row2_col7, #T_eb912_row3_col0, #T_eb912_row3_col3, #T_eb912_row3_col8, #T_eb912_row4_col2, #T_eb912_row4_col6 {\n",
              "  background-color: #fff7fb;\n",
              "  color: #000000;\n",
              "}\n",
              "#T_eb912_row1_col0 {\n",
              "  background-color: #157ab5;\n",
              "  color: #f1f1f1;\n",
              "}\n",
              "#T_eb912_row1_col1 {\n",
              "  background-color: #dad9ea;\n",
              "  color: #000000;\n",
              "}\n",
              "#T_eb912_row1_col3 {\n",
              "  background-color: #034a74;\n",
              "  color: #f1f1f1;\n",
              "}\n",
              "#T_eb912_row1_col4 {\n",
              "  background-color: #f1ebf4;\n",
              "  color: #000000;\n",
              "}\n",
              "#T_eb912_row1_col6 {\n",
              "  background-color: #4897c4;\n",
              "  color: #f1f1f1;\n",
              "}\n",
              "#T_eb912_row1_col7 {\n",
              "  background-color: #c5cce3;\n",
              "  color: #000000;\n",
              "}\n",
              "#T_eb912_row1_col8 {\n",
              "  background-color: #4697c4;\n",
              "  color: #f1f1f1;\n",
              "}\n",
              "#T_eb912_row1_col9 {\n",
              "  background-color: #d8d7e9;\n",
              "  color: #000000;\n",
              "}\n",
              "#T_eb912_row2_col0 {\n",
              "  background-color: #4a98c5;\n",
              "  color: #f1f1f1;\n",
              "}\n",
              "#T_eb912_row2_col2 {\n",
              "  background-color: #045a8d;\n",
              "  color: #f1f1f1;\n",
              "}\n",
              "#T_eb912_row2_col3 {\n",
              "  background-color: #04588a;\n",
              "  color: #f1f1f1;\n",
              "}\n",
              "#T_eb912_row2_col5 {\n",
              "  background-color: #d9d8ea;\n",
              "  color: #000000;\n",
              "}\n",
              "#T_eb912_row2_col8 {\n",
              "  background-color: #96b6d7;\n",
              "  color: #000000;\n",
              "}\n",
              "#T_eb912_row2_col9 {\n",
              "  background-color: #c6cce3;\n",
              "  color: #000000;\n",
              "}\n",
              "#T_eb912_row3_col1 {\n",
              "  background-color: #f0eaf4;\n",
              "  color: #000000;\n",
              "}\n",
              "#T_eb912_row3_col2 {\n",
              "  background-color: #f1ebf5;\n",
              "  color: #000000;\n",
              "}\n",
              "#T_eb912_row3_col4 {\n",
              "  background-color: #1b7eb7;\n",
              "  color: #f1f1f1;\n",
              "}\n",
              "#T_eb912_row3_col5 {\n",
              "  background-color: #509ac6;\n",
              "  color: #f1f1f1;\n",
              "}\n",
              "#T_eb912_row3_col6 {\n",
              "  background-color: #3991c1;\n",
              "  color: #f1f1f1;\n",
              "}\n",
              "#T_eb912_row3_col7 {\n",
              "  background-color: #b9c6e0;\n",
              "  color: #000000;\n",
              "}\n",
              "#T_eb912_row4_col0 {\n",
              "  background-color: #348ebf;\n",
              "  color: #f1f1f1;\n",
              "}\n",
              "#T_eb912_row4_col1 {\n",
              "  background-color: #d0d1e6;\n",
              "  color: #000000;\n",
              "}\n",
              "#T_eb912_row4_col3 {\n",
              "  background-color: #d6d6e9;\n",
              "  color: #000000;\n",
              "}\n",
              "#T_eb912_row4_col7 {\n",
              "  background-color: #034973;\n",
              "  color: #f1f1f1;\n",
              "}\n",
              "#T_eb912_row4_col8 {\n",
              "  background-color: #afc1dd;\n",
              "  color: #000000;\n",
              "}\n",
              "#T_eb912_row4_col9 {\n",
              "  background-color: #0a73b2;\n",
              "  color: #f1f1f1;\n",
              "}\n",
              "</style>\n",
              "<table id=\"T_eb912\" class=\"dataframe\">\n",
              "  <thead>\n",
              "    <tr>\n",
              "      <th class=\"blank\" >&nbsp;</th>\n",
              "      <th class=\"blank level0\" >&nbsp;</th>\n",
              "      <th id=\"T_eb912_level0_col0\" class=\"col_heading level0 col0\" >PC0</th>\n",
              "      <th id=\"T_eb912_level0_col1\" class=\"col_heading level0 col1\" >PC1</th>\n",
              "      <th id=\"T_eb912_level0_col2\" class=\"col_heading level0 col2\" >PC2</th>\n",
              "      <th id=\"T_eb912_level0_col3\" class=\"col_heading level0 col3\" >PC3</th>\n",
              "      <th id=\"T_eb912_level0_col4\" class=\"col_heading level0 col4\" >PC4</th>\n",
              "      <th id=\"T_eb912_level0_col5\" class=\"col_heading level0 col5\" >PC5</th>\n",
              "      <th id=\"T_eb912_level0_col6\" class=\"col_heading level0 col6\" >PC6</th>\n",
              "      <th id=\"T_eb912_level0_col7\" class=\"col_heading level0 col7\" >PC7</th>\n",
              "      <th id=\"T_eb912_level0_col8\" class=\"col_heading level0 col8\" >PC8</th>\n",
              "      <th id=\"T_eb912_level0_col9\" class=\"col_heading level0 col9\" >PC9</th>\n",
              "      <th id=\"T_eb912_level0_col10\" class=\"col_heading level0 col10\" >label</th>\n",
              "      <th id=\"T_eb912_level0_col11\" class=\"col_heading level0 col11\" >title</th>\n",
              "    </tr>\n",
              "    <tr>\n",
              "      <th class=\"index_name level0\" >book_id</th>\n",
              "      <th class=\"index_name level1\" >chap_num</th>\n",
              "      <th class=\"blank col0\" >&nbsp;</th>\n",
              "      <th class=\"blank col1\" >&nbsp;</th>\n",
              "      <th class=\"blank col2\" >&nbsp;</th>\n",
              "      <th class=\"blank col3\" >&nbsp;</th>\n",
              "      <th class=\"blank col4\" >&nbsp;</th>\n",
              "      <th class=\"blank col5\" >&nbsp;</th>\n",
              "      <th class=\"blank col6\" >&nbsp;</th>\n",
              "      <th class=\"blank col7\" >&nbsp;</th>\n",
              "      <th class=\"blank col8\" >&nbsp;</th>\n",
              "      <th class=\"blank col9\" >&nbsp;</th>\n",
              "      <th class=\"blank col10\" >&nbsp;</th>\n",
              "      <th class=\"blank col11\" >&nbsp;</th>\n",
              "    </tr>\n",
              "  </thead>\n",
              "  <tbody>\n",
              "    <tr>\n",
              "      <th id=\"T_eb912_level0_row0\" class=\"row_heading level0 row0\" rowspan=\"5\">35</th>\n",
              "      <th id=\"T_eb912_level1_row0\" class=\"row_heading level1 row0\" >1</th>\n",
              "      <td id=\"T_eb912_row0_col0\" class=\"data row0 col0\" >-0.054159</td>\n",
              "      <td id=\"T_eb912_row0_col1\" class=\"data row0 col1\" >0.001388</td>\n",
              "      <td id=\"T_eb912_row0_col2\" class=\"data row0 col2\" >-0.004007</td>\n",
              "      <td id=\"T_eb912_row0_col3\" class=\"data row0 col3\" >-0.005859</td>\n",
              "      <td id=\"T_eb912_row0_col4\" class=\"data row0 col4\" >-0.043305</td>\n",
              "      <td id=\"T_eb912_row0_col5\" class=\"data row0 col5\" >-0.002817</td>\n",
              "      <td id=\"T_eb912_row0_col6\" class=\"data row0 col6\" >-0.000248</td>\n",
              "      <td id=\"T_eb912_row0_col7\" class=\"data row0 col7\" >-0.062406</td>\n",
              "      <td id=\"T_eb912_row0_col8\" class=\"data row0 col8\" >-0.058925</td>\n",
              "      <td id=\"T_eb912_row0_col9\" class=\"data row0 col9\" >-0.101453</td>\n",
              "      <td id=\"T_eb912_row0_col10\" class=\"data row0 col10\" >WELLS</td>\n",
              "      <td id=\"T_eb912_row0_col11\" class=\"data row0 col11\" >The Time Machine</td>\n",
              "    </tr>\n",
              "    <tr>\n",
              "      <th id=\"T_eb912_level1_row1\" class=\"row_heading level1 row1\" >2</th>\n",
              "      <td id=\"T_eb912_row1_col0\" class=\"data row1 col0\" >-0.059454</td>\n",
              "      <td id=\"T_eb912_row1_col1\" class=\"data row1 col1\" >-0.025860</td>\n",
              "      <td id=\"T_eb912_row1_col2\" class=\"data row1 col2\" >-0.001789</td>\n",
              "      <td id=\"T_eb912_row1_col3\" class=\"data row1 col3\" >-0.007798</td>\n",
              "      <td id=\"T_eb912_row1_col4\" class=\"data row1 col4\" >-0.042858</td>\n",
              "      <td id=\"T_eb912_row1_col5\" class=\"data row1 col5\" >-0.022268</td>\n",
              "      <td id=\"T_eb912_row1_col6\" class=\"data row1 col6\" >0.000796</td>\n",
              "      <td id=\"T_eb912_row1_col7\" class=\"data row1 col7\" >-0.085677</td>\n",
              "      <td id=\"T_eb912_row1_col8\" class=\"data row1 col8\" >-0.070469</td>\n",
              "      <td id=\"T_eb912_row1_col9\" class=\"data row1 col9\" >-0.066240</td>\n",
              "      <td id=\"T_eb912_row1_col10\" class=\"data row1 col10\" >WELLS</td>\n",
              "      <td id=\"T_eb912_row1_col11\" class=\"data row1 col11\" >The Time Machine</td>\n",
              "    </tr>\n",
              "    <tr>\n",
              "      <th id=\"T_eb912_level1_row2\" class=\"row_heading level1 row2\" >3</th>\n",
              "      <td id=\"T_eb912_row2_col0\" class=\"data row2 col0\" >-0.061758</td>\n",
              "      <td id=\"T_eb912_row2_col1\" class=\"data row2 col1\" >-0.032955</td>\n",
              "      <td id=\"T_eb912_row2_col2\" class=\"data row2 col2\" >-0.009454</td>\n",
              "      <td id=\"T_eb912_row2_col3\" class=\"data row2 col3\" >-0.009270</td>\n",
              "      <td id=\"T_eb912_row2_col4\" class=\"data row2 col4\" >-0.044896</td>\n",
              "      <td id=\"T_eb912_row2_col5\" class=\"data row2 col5\" >-0.016881</td>\n",
              "      <td id=\"T_eb912_row2_col6\" class=\"data row2 col6\" >0.007484</td>\n",
              "      <td id=\"T_eb912_row2_col7\" class=\"data row2 col7\" >-0.094889</td>\n",
              "      <td id=\"T_eb912_row2_col8\" class=\"data row2 col8\" >-0.075430</td>\n",
              "      <td id=\"T_eb912_row2_col9\" class=\"data row2 col9\" >-0.056691</td>\n",
              "      <td id=\"T_eb912_row2_col10\" class=\"data row2 col10\" >WELLS</td>\n",
              "      <td id=\"T_eb912_row2_col11\" class=\"data row2 col11\" >The Time Machine</td>\n",
              "    </tr>\n",
              "    <tr>\n",
              "      <th id=\"T_eb912_level1_row3\" class=\"row_heading level1 row3\" >4</th>\n",
              "      <td id=\"T_eb912_row3_col0\" class=\"data row3 col0\" >-0.072402</td>\n",
              "      <td id=\"T_eb912_row3_col1\" class=\"data row3 col1\" >-0.029355</td>\n",
              "      <td id=\"T_eb912_row3_col2\" class=\"data row3 col2\" >-0.056484</td>\n",
              "      <td id=\"T_eb912_row3_col3\" class=\"data row3 col3\" >-0.034168</td>\n",
              "      <td id=\"T_eb912_row3_col4\" class=\"data row3 col4\" >-0.029980</td>\n",
              "      <td id=\"T_eb912_row3_col5\" class=\"data row3 col5\" >-0.007656</td>\n",
              "      <td id=\"T_eb912_row3_col6\" class=\"data row3 col6\" >0.001299</td>\n",
              "      <td id=\"T_eb912_row3_col7\" class=\"data row3 col7\" >-0.084492</td>\n",
              "      <td id=\"T_eb912_row3_col8\" class=\"data row3 col8\" >-0.087175</td>\n",
              "      <td id=\"T_eb912_row3_col9\" class=\"data row3 col9\" >0.059543</td>\n",
              "      <td id=\"T_eb912_row3_col10\" class=\"data row3 col10\" >WELLS</td>\n",
              "      <td id=\"T_eb912_row3_col11\" class=\"data row3 col11\" >The Time Machine</td>\n",
              "    </tr>\n",
              "    <tr>\n",
              "      <th id=\"T_eb912_level1_row4\" class=\"row_heading level1 row4\" >5</th>\n",
              "      <td id=\"T_eb912_row4_col0\" class=\"data row4 col0\" >-0.060867</td>\n",
              "      <td id=\"T_eb912_row4_col1\" class=\"data row4 col1\" >-0.024327</td>\n",
              "      <td id=\"T_eb912_row4_col2\" class=\"data row4 col2\" >-0.061938</td>\n",
              "      <td id=\"T_eb912_row4_col3\" class=\"data row4 col3\" >-0.027777</td>\n",
              "      <td id=\"T_eb912_row4_col4\" class=\"data row4 col4\" >-0.023338</td>\n",
              "      <td id=\"T_eb912_row4_col5\" class=\"data row4 col5\" >0.003190</td>\n",
              "      <td id=\"T_eb912_row4_col6\" class=\"data row4 col6\" >-0.008771</td>\n",
              "      <td id=\"T_eb912_row4_col7\" class=\"data row4 col7\" >-0.064464</td>\n",
              "      <td id=\"T_eb912_row4_col8\" class=\"data row4 col8\" >-0.077339</td>\n",
              "      <td id=\"T_eb912_row4_col9\" class=\"data row4 col9\" >0.017128</td>\n",
              "      <td id=\"T_eb912_row4_col10\" class=\"data row4 col10\" >WELLS</td>\n",
              "      <td id=\"T_eb912_row4_col11\" class=\"data row4 col11\" >The Time Machine</td>\n",
              "    </tr>\n",
              "  </tbody>\n",
              "</table>\n"
            ]
          },
          "metadata": {},
          "execution_count": 61
        }
      ],
      "source": [
        "DCM_sk_c.head().style.background_gradient()"
      ]
    },
    {
      "cell_type": "markdown",
      "metadata": {
        "id": "xy5sT8g7n7KL"
      },
      "source": [
        "## Chaps, PC 0 and 1"
      ]
    },
    {
      "cell_type": "code",
      "execution_count": null,
      "metadata": {
        "id": "DTblaxSWn7KL",
        "colab": {
          "base_uri": "https://localhost:8080/",
          "height": 562
        },
        "outputId": "ff946119-d9fa-4977-9b19-f8a9bac8f15d"
      },
      "outputs": [
        {
          "output_type": "display_data",
          "data": {
            "text/html": [
              "<html>\n",
              "<head><meta charset=\"utf-8\" /></head>\n",
              "<body>\n",
              "    <div>            <script src=\"https://cdnjs.cloudflare.com/ajax/libs/mathjax/2.7.5/MathJax.js?config=TeX-AMS-MML_SVG\"></script><script type=\"text/javascript\">if (window.MathJax && window.MathJax.Hub && window.MathJax.Hub.Config) {window.MathJax.Hub.Config({SVG: {font: \"STIX-Web\"}});}</script>                <script type=\"text/javascript\">window.PlotlyConfig = {MathJaxConfig: 'local'};</script>\n",
              "        <script charset=\"utf-8\" src=\"https://cdn.plot.ly/plotly-2.24.1.min.js\"></script>                <div id=\"64c2838b-ef1b-4227-ab38-a41d42855616\" class=\"plotly-graph-div\" style=\"height:525px; width:100%;\"></div>            <script type=\"text/javascript\">                                    window.PLOTLYENV=window.PLOTLYENV || {};                                    if (document.getElementById(\"64c2838b-ef1b-4227-ab38-a41d42855616\")) {                    Plotly.newPlot(                        \"64c2838b-ef1b-4227-ab38-a41d42855616\",                        [{\"hovertemplate\":\"\\u003cb\\u003e%{hovertext}\\u003c\\u002fb\\u003e\\u003cbr\\u003e\\u003cbr\\u003elabel=WELLS\\u003cbr\\u003ePC0=%{x}\\u003cbr\\u003ePC1=%{y}\\u003cextra\\u003e\\u003c\\u002fextra\\u003e\",\"hovertext\":[\"The Time Machine\",\"The Time Machine\",\"The Time Machine\",\"The Time Machine\",\"The Time Machine\",\"The Time Machine\",\"The Time Machine\",\"The Time Machine\",\"The Time Machine\",\"The Time Machine\",\"The Time Machine\",\"The Time Machine\",\"The Time Machine\",\"The Time Machine\",\"The Time Machine\",\"The Time Machine\",\"The War of the Worlds\",\"The War of the Worlds\",\"The War of the Worlds\",\"The War of the Worlds\",\"The War of the Worlds\",\"The War of the Worlds\",\"The War of the Worlds\",\"The War of the Worlds\",\"The War of the Worlds\",\"The War of the Worlds\",\"The War of the Worlds\",\"The War of the Worlds\",\"The War of the Worlds\",\"The War of the Worlds\",\"The War of the Worlds\",\"The War of the Worlds\",\"The War of the Worlds\",\"The War of the Worlds\",\"The War of the Worlds\",\"The War of the Worlds\",\"The War of the Worlds\",\"The War of the Worlds\",\"The War of the Worlds\",\"The War of the Worlds\",\"The War of the Worlds\",\"The War of the Worlds\",\"The War of the Worlds\",\"The island of Doctor Moreau\",\"The island of Doctor Moreau\",\"The island of Doctor Moreau\",\"The island of Doctor Moreau\",\"The island of Doctor Moreau\",\"The island of Doctor Moreau\",\"The island of Doctor Moreau\",\"The island of Doctor Moreau\",\"The island of Doctor Moreau\",\"The island of Doctor Moreau\",\"The island of Doctor Moreau\",\"The island of Doctor Moreau\",\"The island of Doctor Moreau\",\"The island of Doctor Moreau\",\"The island of Doctor Moreau\",\"The island of Doctor Moreau\",\"The island of Doctor Moreau\",\"The island of Doctor Moreau\",\"The island of Doctor Moreau\",\"The island of Doctor Moreau\",\"The island of Doctor Moreau\",\"The island of Doctor Moreau\",\"The Country of the Blind, and Other Stories\",\"The Country of the Blind, and Other Stories\",\"The Country of the Blind, and Other Stories\",\"The Country of the Blind, and Other Stories\",\"The Country of the Blind, and Other Stories\",\"The Country of the Blind, and Other Stories\",\"The Country of the Blind, and Other Stories\",\"The Country of the Blind, and Other Stories\",\"The Country of the Blind, and Other Stories\",\"The Country of the Blind, and Other Stories\",\"The Country of the Blind, and Other Stories\",\"The Country of the Blind, and Other Stories\",\"The Country of the Blind, and Other Stories\",\"The Country of the Blind, and Other Stories\",\"The Country of the Blind, and Other Stories\",\"The Country of the Blind, and Other Stories\",\"The Country of the Blind, and Other Stories\",\"The Country of the Blind, and Other Stories\",\"The Country of the Blind, and Other Stories\",\"The Country of the Blind, and Other Stories\",\"The Country of the Blind, and Other Stories\",\"The Country of the Blind, and Other Stories\",\"The Country of the Blind, and Other Stories\",\"The Country of the Blind, and Other Stories\",\"The Country of the Blind, and Other Stories\",\"The Country of the Blind, and Other Stories\",\"The Country of the Blind, and Other Stories\",\"The Country of the Blind, and Other Stories\",\"The Country of the Blind, and Other Stories\",\"The Country of the Blind, and Other Stories\",\"The Country of the Blind, and Other Stories\",\"The Country of the Blind, and Other Stories\",\"The Country of the Blind, and Other Stories\",\"The Country of the Blind, and Other Stories\",\"The Country of the Blind, and Other Stories\",\"The Country of the Blind, and Other Stories\",\"The Country of the Blind, and Other Stories\",\"The Country of the Blind, and Other Stories\",\"The Country of the Blind, and Other Stories\",\"The Country of the Blind, and Other Stories\",\"The Country of the Blind, and Other Stories\",\"The Country of the Blind, and Other Stories\",\"The Country of the Blind, and Other Stories\",\"The Country of the Blind, and Other Stories\",\"The Country of the Blind, and Other Stories\",\"The Country of the Blind, and Other Stories\",\"The Country of the Blind, and Other Stories\",\"The Country of the Blind, and Other Stories\",\"The Country of the Blind, and Other Stories\",\"The Country of the Blind, and Other Stories\",\"The Country of the Blind, and Other Stories\",\"The Country of the Blind, and Other Stories\",\"The Country of the Blind, and Other Stories\",\"The Country of the Blind, and Other Stories\",\"The Country of the Blind, and Other Stories\",\"The Country of the Blind, and Other Stories\",\"The Country of the Blind, and Other Stories\"],\"legendgroup\":\"WELLS\",\"marker\":{\"color\":\"#636efa\",\"symbol\":\"circle\"},\"mode\":\"markers\",\"name\":\"WELLS\",\"orientation\":\"v\",\"showlegend\":true,\"x\":[-0.05415910629465621,-0.05945438145806431,-0.06175821582474945,-0.0724023218318199,-0.060866915785428,-0.04850235255004793,-0.06963806754522703,-0.06806496142381077,-0.06719806909694517,-0.06844859898840154,-0.05584153311365264,-0.06091526525165593,-0.056551099557074457,-0.05556765729143283,-0.06940956775004628,-0.07288523778195859,-0.05560446524131219,-0.05003302546683679,-0.05314534388445576,-0.06449641777229545,-0.0630090894589502,-0.054293834024999536,-0.07166558384883842,-0.06074050918463758,-0.052919761146435464,-0.055918171101037174,-0.06712356167455921,-0.051003972881163005,-0.05487361000214224,-0.05896478085147169,-0.04988400767161983,-0.06538971647409858,-0.04503507977723088,-0.049837274170858474,-0.05538983455248617,-0.06499428501448286,-0.06797477570903313,-0.05614858692225292,-0.04560085892528803,-0.0692491356505717,-0.06176311145956908,-0.057309135160065784,-0.05983792944464773,-0.025484322480245986,-0.05669026375987932,-0.04871206122825481,-0.06300499811221676,-0.04700043610190542,-0.04744189169123404,-0.06271745510457437,-0.07146354316211852,-0.049386482508839605,-0.06901625926545116,-0.04771510528496395,-0.06785060108643082,-0.061415437381168905,-0.05665474285940378,-0.05561454926773428,-0.06635727495674106,-0.07269890139737478,-0.07335168656286362,-0.06454616461094408,-0.04792020186377893,-0.019865815441520628,-0.052189892686868265,-0.060313371569141586,-0.056376123081279136,-0.05945815908501626,-0.059329861993897226,-0.05481465774411185,-0.029929905393813704,-0.05373646631650411,-0.064566882684391,-0.05712202855138448,-0.04527212921346681,-0.04419351648283826,-0.04205731959470381,-0.0581122714042835,-0.053130524839201,-0.04531183246853229,-0.06748198385362884,-0.06984745545583575,-0.04850219002095151,-0.02796404838865093,-0.03213403863633419,-0.023525406583342835,-0.07278519904275048,-0.04982305757678379,-0.06732948215494476,-0.05660619055433006,-0.06237109659869038,-0.039492380576514066,-0.04936116882347393,-0.0451693888700252,-0.054856557367097804,-0.05328660754493856,-0.059760549477934154,-0.06095901523652315,-0.05671856712355601,-0.06781796013285564,-0.057623279232996934,-0.06401586386427609,-0.06282332708308176,-0.06542136122484724,-0.050305889969290744,-0.06241614333876895,-0.08494290152417372,-0.06178569075141383,-0.05063137945683206,-0.05553828962639154,-0.05682179257197224,-0.04300817207344465,-0.05077501499361089,-0.044879341285939116,-0.0422972402499287,-0.0613830588433967,-0.07732620562448353,-0.06352537685159383,-0.0629473528506114,-0.05902229510049693,-0.05530845883055169,-0.05948376742176871],\"xaxis\":\"x\",\"y\":[0.0013882589341018565,-0.02586042950060866,-0.03295544400335031,-0.0293548294166902,-0.024326513297878626,-0.01585694075962452,-0.02743907317094659,-0.035402092006522036,-0.03402782890323356,-0.02712579937727397,-0.023739465712025575,-0.0452323659173357,-0.02692263340197153,-0.006485950805981711,-0.029305091720498236,-0.04176666707219922,0.01862752874240616,-0.01031601259451462,-0.0190353259079925,-0.03160382845425297,-0.03648200630417215,-0.021695352574326476,-0.028145382096289254,-0.021950320417722304,-0.04892646966159604,-0.047331721132456345,-0.05191784400530334,-0.036125326277765324,-0.03324891034159887,-0.026936500800978147,-0.010309873360886327,-0.043444874310348346,-0.023590200666386032,-0.04177177277716336,-0.0055953039726737396,-0.02902812552849998,-0.04478085711103737,-0.0390797913598945,-0.028251877122441253,-0.06004992687662207,-0.034145641315696085,-0.03652243587683018,-0.007694192459171659,-0.023959643399772176,-0.034640962731080145,-0.03912536253580618,-0.032517859486249204,-0.03586482050028627,-0.043387242863201454,-0.04540619698920705,-0.04534951113006984,-0.04801943169661731,-0.059798481721086934,-0.05848013088539,-0.049388798099044666,-0.058858764905346896,-0.03592935276759971,-0.038278545130443584,-0.05680581451403984,-0.06645111957133151,-0.06088591852885307,-0.06631418845349331,-0.05629812603647633,-0.041559993501746315,-0.03151007201734504,-0.030493870239552932,-0.02659994500226814,-0.03181324534113295,-0.040993962557889306,-0.014063694395620297,-0.040963620063793664,-0.014938516178007202,-0.04174249853588851,-0.031476945817746814,-0.025264122141986235,-0.02831828213900055,-0.02082514993836046,-0.023837018288644676,-0.019774222991289288,-0.026698059049180132,-0.036101136976238284,-0.0013336695022186902,-0.013088621327813275,-0.017168853581387696,-0.018479099136803907,-0.0063798769636618175,-0.033760988224644094,-0.0170001035070863,-0.0431085280832032,-0.033508609061735105,-0.026093618596992635,-0.019312071237917505,0.032256797190194274,-0.019265961524173925,-0.01693556385098977,-0.01715360603703738,-0.019518009524630422,-0.02944487025630601,-0.024377707417549774,-0.03156745330059403,-0.029319200424766306,-0.02735226042675472,-0.023162274528970933,-0.021941911478351003,-0.04547284300453489,-0.03269596747988758,-0.06442640381482471,-0.04410381630717882,-0.017188355255899287,-0.02238491050132421,-0.024718927434079368,-0.023529310455423287,-0.017885704630568072,-0.015302084624592736,-0.003197834728428592,-0.03311064303605499,-0.04863350390838972,-0.03437728942119015,-0.030232688289167815,-0.023589936019642318,-0.04178009349934687,-0.028507127793377322],\"yaxis\":\"y\",\"type\":\"scatter\"},{\"alignmentgroup\":\"True\",\"hovertemplate\":\"\\u003cb\\u003e%{hovertext}\\u003c\\u002fb\\u003e\\u003cbr\\u003e\\u003cbr\\u003elabel=WELLS\\u003cbr\\u003ePC0=%{x}\\u003cextra\\u003e\\u003c\\u002fextra\\u003e\",\"hovertext\":[\"The Time Machine\",\"The Time Machine\",\"The Time Machine\",\"The Time Machine\",\"The Time Machine\",\"The Time Machine\",\"The Time Machine\",\"The Time Machine\",\"The Time Machine\",\"The Time Machine\",\"The Time Machine\",\"The Time Machine\",\"The Time Machine\",\"The Time Machine\",\"The Time Machine\",\"The Time Machine\",\"The War of the Worlds\",\"The War of the Worlds\",\"The War of the Worlds\",\"The War of the Worlds\",\"The War of the Worlds\",\"The War of the Worlds\",\"The War of the Worlds\",\"The War of the Worlds\",\"The War of the Worlds\",\"The War of the Worlds\",\"The War of the Worlds\",\"The War of the Worlds\",\"The War of the Worlds\",\"The War of the Worlds\",\"The War of the Worlds\",\"The War of the Worlds\",\"The War of the Worlds\",\"The War of the Worlds\",\"The War of the Worlds\",\"The War of the Worlds\",\"The War of the Worlds\",\"The War of the Worlds\",\"The War of the Worlds\",\"The War of the Worlds\",\"The War of the Worlds\",\"The War of the Worlds\",\"The War of the Worlds\",\"The island of Doctor Moreau\",\"The island of Doctor Moreau\",\"The island of Doctor Moreau\",\"The island of Doctor Moreau\",\"The island of Doctor Moreau\",\"The island of Doctor Moreau\",\"The island of Doctor Moreau\",\"The island of Doctor Moreau\",\"The island of Doctor Moreau\",\"The island of Doctor Moreau\",\"The island of Doctor Moreau\",\"The island of Doctor Moreau\",\"The island of Doctor Moreau\",\"The island of Doctor Moreau\",\"The island of Doctor Moreau\",\"The island of Doctor Moreau\",\"The island of Doctor Moreau\",\"The island of Doctor Moreau\",\"The island of Doctor Moreau\",\"The island of Doctor Moreau\",\"The island of Doctor Moreau\",\"The island of Doctor Moreau\",\"The Country of the Blind, and Other Stories\",\"The Country of the Blind, and Other Stories\",\"The Country of the Blind, and Other Stories\",\"The Country of the Blind, and Other Stories\",\"The Country of the Blind, and Other Stories\",\"The Country of the Blind, and Other Stories\",\"The Country of the Blind, and Other Stories\",\"The Country of the Blind, and Other Stories\",\"The Country of the Blind, and Other Stories\",\"The Country of the Blind, and Other Stories\",\"The Country of the Blind, and Other Stories\",\"The Country of the Blind, and Other Stories\",\"The Country of the Blind, and Other Stories\",\"The Country of the Blind, and Other Stories\",\"The Country of the Blind, and Other Stories\",\"The Country of the Blind, and Other Stories\",\"The Country of the Blind, and Other Stories\",\"The Country of the Blind, and Other Stories\",\"The Country of the Blind, and Other Stories\",\"The Country of the Blind, and Other Stories\",\"The Country of the Blind, and Other Stories\",\"The Country of the Blind, and Other Stories\",\"The Country of the Blind, and Other Stories\",\"The Country of the Blind, and Other Stories\",\"The Country of the Blind, and Other Stories\",\"The Country of the Blind, and Other Stories\",\"The Country of the Blind, and Other Stories\",\"The Country of the Blind, and Other Stories\",\"The Country of the Blind, and Other Stories\",\"The Country of the Blind, and Other Stories\",\"The Country of the Blind, and Other Stories\",\"The Country of the Blind, and Other Stories\",\"The Country of the Blind, and Other Stories\",\"The Country of the Blind, and Other Stories\",\"The Country of the Blind, and Other Stories\",\"The Country of the Blind, and Other Stories\",\"The Country of the Blind, and Other Stories\",\"The Country of the Blind, and Other Stories\",\"The Country of the Blind, and Other Stories\",\"The Country of the Blind, and Other Stories\",\"The Country of the Blind, and Other Stories\",\"The Country of the Blind, and Other Stories\",\"The Country of the Blind, and Other Stories\",\"The Country of the Blind, and Other Stories\",\"The Country of the Blind, and Other Stories\",\"The Country of the Blind, and Other Stories\",\"The Country of the Blind, and Other Stories\",\"The Country of the Blind, and Other Stories\",\"The Country of the Blind, and Other Stories\",\"The Country of the Blind, and Other Stories\",\"The Country of the Blind, and Other Stories\",\"The Country of the Blind, and Other Stories\",\"The Country of the Blind, and Other Stories\",\"The Country of the Blind, and Other Stories\",\"The Country of the Blind, and Other Stories\",\"The Country of the Blind, and Other Stories\",\"The Country of the Blind, and Other Stories\"],\"legendgroup\":\"WELLS\",\"marker\":{\"color\":\"#636efa\",\"symbol\":\"circle\"},\"name\":\"WELLS\",\"notched\":true,\"offsetgroup\":\"WELLS\",\"showlegend\":false,\"x\":[-0.05415910629465621,-0.05945438145806431,-0.06175821582474945,-0.0724023218318199,-0.060866915785428,-0.04850235255004793,-0.06963806754522703,-0.06806496142381077,-0.06719806909694517,-0.06844859898840154,-0.05584153311365264,-0.06091526525165593,-0.056551099557074457,-0.05556765729143283,-0.06940956775004628,-0.07288523778195859,-0.05560446524131219,-0.05003302546683679,-0.05314534388445576,-0.06449641777229545,-0.0630090894589502,-0.054293834024999536,-0.07166558384883842,-0.06074050918463758,-0.052919761146435464,-0.055918171101037174,-0.06712356167455921,-0.051003972881163005,-0.05487361000214224,-0.05896478085147169,-0.04988400767161983,-0.06538971647409858,-0.04503507977723088,-0.049837274170858474,-0.05538983455248617,-0.06499428501448286,-0.06797477570903313,-0.05614858692225292,-0.04560085892528803,-0.0692491356505717,-0.06176311145956908,-0.057309135160065784,-0.05983792944464773,-0.025484322480245986,-0.05669026375987932,-0.04871206122825481,-0.06300499811221676,-0.04700043610190542,-0.04744189169123404,-0.06271745510457437,-0.07146354316211852,-0.049386482508839605,-0.06901625926545116,-0.04771510528496395,-0.06785060108643082,-0.061415437381168905,-0.05665474285940378,-0.05561454926773428,-0.06635727495674106,-0.07269890139737478,-0.07335168656286362,-0.06454616461094408,-0.04792020186377893,-0.019865815441520628,-0.052189892686868265,-0.060313371569141586,-0.056376123081279136,-0.05945815908501626,-0.059329861993897226,-0.05481465774411185,-0.029929905393813704,-0.05373646631650411,-0.064566882684391,-0.05712202855138448,-0.04527212921346681,-0.04419351648283826,-0.04205731959470381,-0.0581122714042835,-0.053130524839201,-0.04531183246853229,-0.06748198385362884,-0.06984745545583575,-0.04850219002095151,-0.02796404838865093,-0.03213403863633419,-0.023525406583342835,-0.07278519904275048,-0.04982305757678379,-0.06732948215494476,-0.05660619055433006,-0.06237109659869038,-0.039492380576514066,-0.04936116882347393,-0.0451693888700252,-0.054856557367097804,-0.05328660754493856,-0.059760549477934154,-0.06095901523652315,-0.05671856712355601,-0.06781796013285564,-0.057623279232996934,-0.06401586386427609,-0.06282332708308176,-0.06542136122484724,-0.050305889969290744,-0.06241614333876895,-0.08494290152417372,-0.06178569075141383,-0.05063137945683206,-0.05553828962639154,-0.05682179257197224,-0.04300817207344465,-0.05077501499361089,-0.044879341285939116,-0.0422972402499287,-0.0613830588433967,-0.07732620562448353,-0.06352537685159383,-0.0629473528506114,-0.05902229510049693,-0.05530845883055169,-0.05948376742176871],\"xaxis\":\"x2\",\"yaxis\":\"y2\",\"type\":\"box\"},{\"hovertemplate\":\"\\u003cb\\u003e%{hovertext}\\u003c\\u002fb\\u003e\\u003cbr\\u003e\\u003cbr\\u003elabel=BURROUGHS\\u003cbr\\u003ePC0=%{x}\\u003cbr\\u003ePC1=%{y}\\u003cextra\\u003e\\u003c\\u002fextra\\u003e\",\"hovertext\":[\"A Princess of Mars\",\"A Princess of Mars\",\"A Princess of Mars\",\"A Princess of Mars\",\"A Princess of Mars\",\"A Princess of Mars\",\"A Princess of Mars\",\"A Princess of Mars\",\"A Princess of Mars\",\"A Princess of Mars\",\"A Princess of Mars\",\"A Princess of Mars\",\"A Princess of Mars\",\"A Princess of Mars\",\"A Princess of Mars\",\"A Princess of Mars\",\"A Princess of Mars\",\"A Princess of Mars\",\"A Princess of Mars\",\"A Princess of Mars\",\"A Princess of Mars\",\"A Princess of Mars\",\"A Princess of Mars\",\"A Princess of Mars\",\"A Princess of Mars\",\"A Princess of Mars\",\"A Princess of Mars\",\"A Princess of Mars\",\"The Gods of Mars\",\"The Gods of Mars\",\"The Gods of Mars\",\"The Gods of Mars\",\"The Gods of Mars\",\"The Gods of Mars\",\"The Gods of Mars\",\"The Gods of Mars\",\"The Gods of Mars\",\"The Gods of Mars\",\"The Gods of Mars\",\"The Gods of Mars\",\"The Gods of Mars\",\"The Gods of Mars\",\"The Gods of Mars\",\"The Gods of Mars\",\"The Gods of Mars\",\"The Gods of Mars\",\"The Gods of Mars\",\"The Gods of Mars\",\"The Gods of Mars\",\"The Gods of Mars\"],\"legendgroup\":\"BURROUGHS\",\"marker\":{\"color\":\"#EF553B\",\"symbol\":\"circle\"},\"mode\":\"markers\",\"name\":\"BURROUGHS\",\"orientation\":\"v\",\"showlegend\":true,\"x\":[-0.04080118572398451,-0.06264403295402138,-0.05651429959966527,-0.07024303766545387,-0.06453424687437043,-0.07812692302818244,-0.0630483177775383,-0.07212510315963629,-0.08273623958075017,-0.1024597638931034,-0.10830816364812869,-0.08159694739707496,-0.09813164347389208,-0.10749569446457878,-0.10701318280601105,-0.09897637324949712,-0.10811443906203495,-0.06717601341996365,-0.07794383883545511,-0.0693722910226534,-0.08489375794635581,-0.10014071249975266,-0.07746808974274441,-0.09205179946069708,-0.1062420203847554,-0.091710929070701,-0.10245479486716401,-0.08602288337315855,-0.06175355606526326,-0.06408621255449998,-0.09550027081417024,-0.08907635878400401,-0.07152318979509115,-0.07057686921201055,-0.08027493840345236,-0.06810397599932361,-0.09609358460224621,-0.07757322639529111,-0.08204943138330742,-0.050895311908556444,-0.06608713354180652,-0.09415821458363674,-0.08619430763948517,-0.09124434901392107,-0.10219021092113344,-0.10596454336172491,-0.08802644349803007,-0.07977893641769376,-0.0706772902133981,-0.11927674000106338],\"xaxis\":\"x\",\"y\":[-0.011458176721365336,-0.030707657259671492,-0.01342014069911083,-0.040272630983351716,-0.0069488379616254314,-0.04978121999713959,-0.028503006374554992,-0.05208835091916765,-0.047416728616260166,-0.06807236518570196,-0.07168359207021888,-0.050678393673676186,-0.06096253689927078,-0.07605098065205763,-0.08184923051452456,-0.07031848837264656,-0.08077821358047826,-0.03533699414785872,-0.04717595897701658,-0.032647861395793475,-0.036069775216796725,-0.0661736982618832,-0.03538971868848801,-0.06106570671355296,-0.06905263288941448,-0.0564857414509608,-0.060167755677782715,-0.05067289428177775,-0.033091503922309536,-0.04778323770625529,-0.061034465521592224,-0.05860535287934688,-0.03670725006051188,-0.043118902544460075,-0.04958150987444017,-0.04647211016692272,-0.06594790116558556,-0.04431021931479955,-0.052215303756327366,-0.02748022874927186,-0.03671135784539416,-0.06569366224413282,-0.05658559492924652,-0.055398911573152264,-0.06172392482742111,-0.07748833778790437,-0.05397811949453808,-0.04913601655106678,-0.04013268983088167,-0.08511115950096476],\"yaxis\":\"y\",\"type\":\"scatter\"},{\"alignmentgroup\":\"True\",\"hovertemplate\":\"\\u003cb\\u003e%{hovertext}\\u003c\\u002fb\\u003e\\u003cbr\\u003e\\u003cbr\\u003elabel=BURROUGHS\\u003cbr\\u003ePC0=%{x}\\u003cextra\\u003e\\u003c\\u002fextra\\u003e\",\"hovertext\":[\"A Princess of Mars\",\"A Princess of Mars\",\"A Princess of Mars\",\"A Princess of Mars\",\"A Princess of Mars\",\"A Princess of Mars\",\"A Princess of Mars\",\"A Princess of Mars\",\"A Princess of Mars\",\"A Princess of Mars\",\"A Princess of Mars\",\"A Princess of Mars\",\"A Princess of Mars\",\"A Princess of Mars\",\"A Princess of Mars\",\"A Princess of Mars\",\"A Princess of Mars\",\"A Princess of Mars\",\"A Princess of Mars\",\"A Princess of Mars\",\"A Princess of Mars\",\"A Princess of Mars\",\"A Princess of Mars\",\"A Princess of Mars\",\"A Princess of Mars\",\"A Princess of Mars\",\"A Princess of Mars\",\"A Princess of Mars\",\"The Gods of Mars\",\"The Gods of Mars\",\"The Gods of Mars\",\"The Gods of Mars\",\"The Gods of Mars\",\"The Gods of Mars\",\"The Gods of Mars\",\"The Gods of Mars\",\"The Gods of Mars\",\"The Gods of Mars\",\"The Gods of Mars\",\"The Gods of Mars\",\"The Gods of Mars\",\"The Gods of Mars\",\"The Gods of Mars\",\"The Gods of Mars\",\"The Gods of Mars\",\"The Gods of Mars\",\"The Gods of Mars\",\"The Gods of Mars\",\"The Gods of Mars\",\"The Gods of Mars\"],\"legendgroup\":\"BURROUGHS\",\"marker\":{\"color\":\"#EF553B\",\"symbol\":\"circle\"},\"name\":\"BURROUGHS\",\"notched\":true,\"offsetgroup\":\"BURROUGHS\",\"showlegend\":false,\"x\":[-0.04080118572398451,-0.06264403295402138,-0.05651429959966527,-0.07024303766545387,-0.06453424687437043,-0.07812692302818244,-0.0630483177775383,-0.07212510315963629,-0.08273623958075017,-0.1024597638931034,-0.10830816364812869,-0.08159694739707496,-0.09813164347389208,-0.10749569446457878,-0.10701318280601105,-0.09897637324949712,-0.10811443906203495,-0.06717601341996365,-0.07794383883545511,-0.0693722910226534,-0.08489375794635581,-0.10014071249975266,-0.07746808974274441,-0.09205179946069708,-0.1062420203847554,-0.091710929070701,-0.10245479486716401,-0.08602288337315855,-0.06175355606526326,-0.06408621255449998,-0.09550027081417024,-0.08907635878400401,-0.07152318979509115,-0.07057686921201055,-0.08027493840345236,-0.06810397599932361,-0.09609358460224621,-0.07757322639529111,-0.08204943138330742,-0.050895311908556444,-0.06608713354180652,-0.09415821458363674,-0.08619430763948517,-0.09124434901392107,-0.10219021092113344,-0.10596454336172491,-0.08802644349803007,-0.07977893641769376,-0.0706772902133981,-0.11927674000106338],\"xaxis\":\"x2\",\"yaxis\":\"y2\",\"type\":\"box\"},{\"hovertemplate\":\"\\u003cb\\u003e%{hovertext}\\u003c\\u002fb\\u003e\\u003cbr\\u003e\\u003cbr\\u003elabel=VERNE\\u003cbr\\u003ePC0=%{x}\\u003cbr\\u003ePC1=%{y}\\u003cextra\\u003e\\u003c\\u002fextra\\u003e\",\"hovertext\":[\"From the Earth to the Moon; and, Round the Moon\",\"From the Earth to the Moon; and, Round the Moon\",\"From the Earth to the Moon; and, Round the Moon\",\"From the Earth to the Moon; and, Round the Moon\",\"From the Earth to the Moon; and, Round the Moon\",\"From the Earth to the Moon; and, Round the Moon\",\"From the Earth to the Moon; and, Round the Moon\",\"From the Earth to the Moon; and, Round the Moon\",\"From the Earth to the Moon; and, Round the Moon\",\"From the Earth to the Moon; and, Round the Moon\",\"From the Earth to the Moon; and, Round the Moon\",\"From the Earth to the Moon; and, Round the Moon\",\"From the Earth to the Moon; and, Round the Moon\",\"From the Earth to the Moon; and, Round the Moon\",\"From the Earth to the Moon; and, Round the Moon\",\"From the Earth to the Moon; and, Round the Moon\",\"From the Earth to the Moon; and, Round the Moon\",\"From the Earth to the Moon; and, Round the Moon\",\"From the Earth to the Moon; and, Round the Moon\",\"From the Earth to the Moon; and, Round the Moon\",\"From the Earth to the Moon; and, Round the Moon\",\"From the Earth to the Moon; and, Round the Moon\",\"From the Earth to the Moon; and, Round the Moon\",\"From the Earth to the Moon; and, Round the Moon\",\"From the Earth to the Moon; and, Round the Moon\",\"From the Earth to the Moon; and, Round the Moon\",\"From the Earth to the Moon; and, Round the Moon\",\"From the Earth to the Moon; and, Round the Moon\",\"From the Earth to the Moon; and, Round the Moon\",\"From the Earth to the Moon; and, Round the Moon\",\"From the Earth to the Moon; and, Round the Moon\",\"From the Earth to the Moon; and, Round the Moon\",\"From the Earth to the Moon; and, Round the Moon\",\"From the Earth to the Moon; and, Round the Moon\",\"From the Earth to the Moon; and, Round the Moon\",\"From the Earth to the Moon; and, Round the Moon\",\"From the Earth to the Moon; and, Round the Moon\",\"From the Earth to the Moon; and, Round the Moon\",\"From the Earth to the Moon; and, Round the Moon\",\"From the Earth to the Moon; and, Round the Moon\",\"From the Earth to the Moon; and, Round the Moon\",\"From the Earth to the Moon; and, Round the Moon\",\"From the Earth to the Moon; and, Round the Moon\",\"From the Earth to the Moon; and, Round the Moon\",\"From the Earth to the Moon; and, Round the Moon\",\"From the Earth to the Moon; and, Round the Moon\",\"From the Earth to the Moon; and, Round the Moon\",\"From the Earth to the Moon; and, Round the Moon\",\"From the Earth to the Moon; and, Round the Moon\",\"From the Earth to the Moon; and, Round the Moon\",\"From the Earth to the Moon; and, Round the Moon\",\"Twenty Thousand Leagues under the Sea\",\"Twenty Thousand Leagues under the Sea\",\"Twenty Thousand Leagues under the Sea\",\"Twenty Thousand Leagues under the Sea\",\"Twenty Thousand Leagues under the Sea\",\"Twenty Thousand Leagues under the Sea\",\"Twenty Thousand Leagues under the Sea\",\"Twenty Thousand Leagues under the Sea\",\"Twenty Thousand Leagues under the Sea\",\"Twenty Thousand Leagues under the Sea\",\"Twenty Thousand Leagues under the Sea\",\"Twenty Thousand Leagues under the Sea\",\"Twenty Thousand Leagues under the Sea\",\"Twenty Thousand Leagues under the Sea\",\"Twenty Thousand Leagues under the Sea\",\"Twenty Thousand Leagues under the Sea\",\"Twenty Thousand Leagues under the Sea\",\"Twenty Thousand Leagues under the Sea\",\"Twenty Thousand Leagues under the Sea\",\"Twenty Thousand Leagues under the Sea\",\"Twenty Thousand Leagues under the Sea\",\"Twenty Thousand Leagues under the Sea\",\"Twenty Thousand Leagues under the Sea\",\"Twenty Thousand Leagues under the Sea\",\"Twenty Thousand Leagues under the Sea\",\"Twenty Thousand Leagues under the Sea\",\"Twenty Thousand Leagues under the Sea\",\"Twenty Thousand Leagues under the Sea\",\"Twenty Thousand Leagues under the Sea\",\"Twenty Thousand Leagues under the Sea\",\"Twenty Thousand Leagues under the Sea\",\"Twenty Thousand Leagues under the Sea\",\"Twenty Thousand Leagues under the Sea\",\"Twenty Thousand Leagues under the Sea\",\"Twenty Thousand Leagues under the Sea\",\"Twenty Thousand Leagues under the Sea\",\"Twenty Thousand Leagues under the Sea\",\"Twenty Thousand Leagues under the Sea\",\"Twenty Thousand Leagues under the Sea\",\"Twenty Thousand Leagues under the Sea\",\"Twenty Thousand Leagues under the Sea\",\"Twenty Thousand Leagues under the Sea\",\"Twenty Thousand Leagues under the Sea\",\"Twenty Thousand Leagues under the Sea\",\"Twenty Thousand Leagues under the Sea\",\"Twenty Thousand Leagues under the Sea\",\"The Mysterious Island\",\"The Mysterious Island\",\"The Mysterious Island\",\"The Mysterious Island\",\"The Mysterious Island\",\"The Mysterious Island\",\"The Mysterious Island\",\"The Mysterious Island\",\"The Mysterious Island\",\"The Mysterious Island\",\"The Mysterious Island\",\"The Mysterious Island\",\"The Mysterious Island\",\"The Mysterious Island\",\"The Mysterious Island\",\"The Mysterious Island\",\"The Mysterious Island\",\"The Mysterious Island\",\"The Mysterious Island\",\"The Mysterious Island\",\"The Mysterious Island\",\"The Mysterious Island\",\"The Mysterious Island\",\"The Mysterious Island\",\"The Mysterious Island\",\"The Mysterious Island\",\"The Mysterious Island\",\"The Mysterious Island\",\"The Mysterious Island\",\"The Mysterious Island\",\"The Mysterious Island\",\"The Mysterious Island\",\"The Mysterious Island\",\"The Mysterious Island\",\"The Mysterious Island\",\"The Mysterious Island\",\"The Mysterious Island\",\"The Mysterious Island\",\"The Mysterious Island\",\"The Mysterious Island\",\"The Mysterious Island\",\"The Mysterious Island\",\"The Mysterious Island\",\"The Mysterious Island\",\"The Mysterious Island\",\"The Mysterious Island\",\"The Mysterious Island\",\"The Mysterious Island\",\"The Mysterious Island\",\"The Mysterious Island\",\"The Mysterious Island\",\"The Mysterious Island\",\"The Mysterious Island\",\"The Mysterious Island\",\"The Mysterious Island\",\"The Mysterious Island\",\"The Mysterious Island\",\"The Mysterious Island\",\"The Mysterious Island\",\"The Mysterious Island\",\"The Mysterious Island\",\"The Mysterious Island\",\"A Journey to the Centre of the Earth\",\"A Journey to the Centre of the Earth\",\"A Journey to the Centre of the Earth\",\"A Journey to the Centre of the Earth\",\"A Journey to the Centre of the Earth\",\"A Journey to the Centre of the Earth\",\"A Journey to the Centre of the Earth\",\"A Journey to the Centre of the Earth\",\"A Journey to the Centre of the Earth\",\"A Journey to the Centre of the Earth\",\"A Journey to the Centre of the Earth\",\"A Journey to the Centre of the Earth\",\"A Journey to the Centre of the Earth\",\"A Journey to the Centre of the Earth\",\"A Journey to the Centre of the Earth\",\"A Journey to the Centre of the Earth\",\"A Journey to the Centre of the Earth\",\"A Journey to the Centre of the Earth\",\"A Journey to the Centre of the Earth\",\"A Journey to the Centre of the Earth\",\"A Journey to the Centre of the Earth\",\"A Journey to the Centre of the Earth\",\"A Journey to the Centre of the Earth\",\"A Journey to the Centre of the Earth\",\"A Journey to the Centre of the Earth\",\"A Journey to the Centre of the Earth\",\"A Journey to the Centre of the Earth\",\"A Journey to the Centre of the Earth\",\"A Journey to the Centre of the Earth\",\"A Journey to the Centre of the Earth\",\"A Journey to the Centre of the Earth\",\"A Journey to the Centre of the Earth\",\"A Journey to the Centre of the Earth\",\"A Journey to the Centre of the Earth\",\"A Journey to the Centre of the Earth\",\"A Journey to the Centre of the Earth\",\"A Journey to the Centre of the Earth\",\"A Journey to the Centre of the Earth\",\"A Journey to the Centre of the Earth\",\"A Journey to the Centre of the Earth\",\"A Journey to the Centre of the Earth\",\"A Journey to the Centre of the Earth\",\"A Journey to the Centre of the Earth\",\"A Journey to the Centre of the Earth\"],\"legendgroup\":\"VERNE\",\"marker\":{\"color\":\"#00cc96\",\"symbol\":\"circle\"},\"mode\":\"markers\",\"name\":\"VERNE\",\"orientation\":\"v\",\"showlegend\":true,\"x\":[-0.033540567566373726,-0.04012656571983412,-0.04943716980853679,-0.040048759171056506,-0.038631786644674176,-0.05038237061887478,-0.04419656294325725,-0.034424923815204844,-0.03020068767304123,-0.041214529403305375,-0.03132071492061813,-0.04407656925569398,-0.026190121066515335,-0.009310798545033245,-0.01601808092439745,-0.029002820992764643,-0.05584272105181702,-0.05132769285422256,-0.03562254416978253,-0.038431069298266986,-0.05510266178274898,-0.04410942382676677,-0.02725878060909298,-0.025916350145530714,-0.02898297708803161,-0.042020361698009004,-0.03104082020738963,-0.04958942835982145,-0.0527109036840947,-0.05925944464634349,-0.040394197312090305,-0.06387100896517511,-0.055259946486430254,-0.057844645927535875,-0.04782338695733182,-0.047673219857430754,-0.05491436231540654,-0.05118936235367749,-0.024899350651246446,-0.03349182257206025,-0.03756713037359011,-0.049821578373687635,-0.04514788055018052,-0.049487689214093314,-0.029877272995579067,-0.04759862501417725,-0.06612326210433903,-0.014399653804282528,-0.03601272146633385,-0.01605056195028116,-0.04914012518534587,-0.00820469592295378,-0.0070016031683081854,0.010092931558794512,-0.002515495277808824,0.025766880887624063,0.037253483114376124,0.004746071279445532,-0.011516337210297534,-0.010522480165888184,0.02493930220504927,0.02649160965705705,0.022395611238866502,0.028294289114973684,0.041425008042309384,0.015554698052017328,0.03555041330829201,0.01460739741042478,0.017488689337288532,0.05530609613710084,0.03550616594399221,0.04240186640535427,0.03949129838596144,0.021056694770321,0.02904658293731244,0.006057352229298793,0.05043177045781802,0.03864588169294417,0.02442484326304067,0.06613069714162789,0.0043929803429312115,0.027202426500716952,0.03989418956874497,0.04798109077603933,0.03212680238385524,0.024574438951037086,0.0377410658257467,0.05465286755400228,0.021866322383362478,0.03322549847372377,0.029197999300866796,0.010370728201492851,0.049351003834442346,0.03405686025370443,0.028362142903112137,0.0298835680325994,0.00833462831352347,0.033423621980312325,0.33607369500504336,0.3952169282854489,0.4693951750093178,0.45560796515769997,0.4073641944972203,0.5309942274371712,0.5527792952410964,0.58165798793551,0.431464975114907,0.5241937537890576,0.47198153841116275,0.4274126877961738,0.48677540067749936,0.3411236226030324,0.4819375489031331,0.35484338125554715,0.4894319587124311,0.4620932661596855,0.39697214793429064,0.41086254812178236,0.5058374917305192,0.5694261679318633,0.3897605978905734,0.46737612376424587,0.4915274383348917,0.562858234115497,0.4628617661711256,0.33117558550905213,0.35426393958890284,0.45822947504578126,0.5099340990357885,0.4752042190386247,0.5252559989741885,0.5329024544792249,0.535046738922714,0.5950133174722955,0.5265820267319811,0.2267324756191477,0.52655216058519,0.560148691708441,0.658329409201974,0.47878986687377634,0.32708709744446085,0.44025024813995517,0.4493497878161348,0.5511904671529435,0.5944460624954229,0.603713760044821,0.43083040452813454,0.618339770464395,0.5041241133969139,0.47410784688967395,0.5268723480554414,0.49580398394267416,0.46529888544031395,0.5120585024111978,0.261755400916997,0.36174376077458315,0.5386673734075388,0.39262992219832404,0.454758597626286,-0.046877899885096885,-0.04111634009168563,-0.04286290459716041,-0.025106528658979974,-0.031293135358635635,0.005696900939668261,-0.0349173631991396,-0.017037879403976306,-0.00591165074098612,-0.020293220490713446,-0.016861773025676447,0.0033647358794881917,-0.01122223695698573,-0.020638371071946635,-0.01180167081620259,-0.011551497078956367,-0.01360691981620336,-0.03897757624404524,-0.02737434920670432,-0.016012872470432236,-0.015513320888575162,-0.02444322281195274,-0.02457358740505145,-0.025640878297770366,-0.03280318669778022,-0.030022350166150496,-0.0003300083845492163,0.0010639920199840074,0.0010277062561307262,-0.020157927588914135,0.013779749266881846,-0.007085242349743422,0.016300069536859717,0.0012344464214926317,-0.035381162359207644,-0.02039860245258853,-0.014495872761643486,0.003225339436689685,-0.017273298101682353,-0.03358544135300755,-0.03022439996786521,0.0017193323391322545,-0.0028925857269377422,-0.030030198333994253],\"xaxis\":\"x\",\"y\":[0.10923723108001815,0.19298512565215523,0.1025709697204376,0.22210193915083679,0.10501824451026714,0.1272855941101454,0.28819831270024243,0.23701223069837454,0.1710860392401694,0.325722384973236,0.09475004766854665,0.11136612908053346,0.26286392873804826,0.14145317947951191,0.11309957581486248,0.1989684514613503,0.18346161386466228,0.3680977337417882,0.2654899951385232,0.3692169018763092,0.5037013047408228,0.36197667549983287,0.24710798490275,0.10369521390810195,0.39862850473450145,0.2232117009717512,0.1656507857401749,0.4239876078668296,0.5846561055125328,0.6248847712380211,0.5597240611925905,0.5617708523889021,0.6071898787881059,0.6006947554972735,0.6091539451727677,0.5113742510907511,0.5838031377321945,0.3500482353558589,0.17155418514314996,0.48700258368044,0.40307367512959724,0.5577470635027111,0.5561569302688768,0.3939140995549992,0.33625358916926473,0.5468835909513112,0.6305036037158241,0.1494722451413822,0.23760323535223568,0.3050546845975605,0.30936216060576976,0.047982689673417095,0.05361095058336486,0.060696010111531695,0.09982663152241528,0.07723731338800527,0.06843238421615007,0.06863692931288212,0.06975756716268502,0.0618927000740964,0.116319461937123,0.13489431934348925,0.13430578230668547,0.16080344562258247,0.151635150032136,0.11410201930067854,0.10318948576047829,0.1259745385148582,0.054456266555283996,0.15503413051828294,0.08047922527856109,0.14215048634388783,0.16064680075637516,0.09908834427227767,0.1260849285654991,0.08657780856764073,0.13173098606867795,0.12368008360724793,0.11529295335973037,0.16561535022170396,0.10950710970292918,0.1320773985159562,0.1278933862325282,0.12047210904241526,0.1355850242663652,0.14309149168487825,0.17446040137068625,0.14536909872037243,0.1682744309040866,0.16329462640047473,0.12041005689638169,0.11026688934702149,0.15258931726844577,0.1175350847954823,0.1652293950738461,0.1573373495669376,0.0864853810289887,0.038381974860795046,-0.02755048402328055,-0.03530723292743715,-0.07072115978070714,-0.08419145287645403,-0.06274725610832034,-0.08433934137009769,-0.08415913069781641,-0.06818829246229466,-0.022329780705480626,-0.025943078359787416,-0.051172174589095946,-0.027323017214536498,-0.014876374674121185,-0.0341790576566266,-0.04165698731563949,-0.02881823015248431,-0.0484556777421717,-0.056781218616989225,-0.03351776400505541,0.004839071299594921,-0.057499926034322295,-0.07425778739975382,-0.044205397338286566,-0.052312616920131255,-0.06717694093538303,-0.07436855276871591,-0.07912022902452848,-0.030541255103499497,-0.03776370017936978,-0.04156266934670022,-0.06685461210819743,-0.03109374808259901,-0.07477086695858841,-0.06786823202391591,-0.089366252671494,-0.08571271528581191,-0.07161018856255685,-0.024966173449900816,-0.050827726171586936,-0.05577970235684257,-0.07529608900045492,-0.06659892396409757,-0.056022981816084776,-0.07449334708056574,-0.06309075782871444,-0.0480909931882224,-0.09740686271963847,-0.11104225573341275,-0.06847713614102544,-0.10307161145448858,-0.09231689958139225,-0.0625592810684193,-0.09084492496487151,-0.06354439166049822,-0.027927156605540925,-0.04510034159730069,0.08999686484498884,0.07400330757416734,-0.03311095709699401,-0.01511264190546275,-0.04294287914447197,0.041310845620076767,0.020588954083992295,0.022924227886113962,0.042977996692035114,0.029574997990071086,0.03382396755367043,0.044892041662772164,0.05856284101670042,0.03844749307479879,0.0278927312918915,0.04479644866221127,0.061754393976493266,0.05815949096195239,0.05360087454079629,0.07853152695435668,0.055576298078191755,0.05880500911923992,0.04258715121086462,0.0283143631006239,0.04289215639929437,0.06288756722940651,0.0906750106304025,0.02713565110534137,0.007405291531308397,0.02863168793242699,0.04038073268158888,0.0568480853295593,0.08441570729453234,0.06627182902142696,0.04550146785179545,0.06686975923945902,0.04204415247086065,0.06205854745238751,0.05598285434200319,0.04964749457770299,0.02958470347681614,0.031110957190375484,0.05360779825658217,0.043394692610300246,0.019272796989033416,0.03764241580682376,0.0781890793289302,0.05249820372279997,0.050406966168523165],\"yaxis\":\"y\",\"type\":\"scatter\"},{\"alignmentgroup\":\"True\",\"hovertemplate\":\"\\u003cb\\u003e%{hovertext}\\u003c\\u002fb\\u003e\\u003cbr\\u003e\\u003cbr\\u003elabel=VERNE\\u003cbr\\u003ePC0=%{x}\\u003cextra\\u003e\\u003c\\u002fextra\\u003e\",\"hovertext\":[\"From the Earth to the Moon; and, Round the Moon\",\"From the Earth to the Moon; and, Round the Moon\",\"From the Earth to the Moon; and, Round the Moon\",\"From the Earth to the Moon; and, Round the Moon\",\"From the Earth to the Moon; and, Round the Moon\",\"From the Earth to the Moon; and, Round the Moon\",\"From the Earth to the Moon; and, Round the Moon\",\"From the Earth to the Moon; and, Round the Moon\",\"From the Earth to the Moon; and, Round the Moon\",\"From the Earth to the Moon; and, Round the Moon\",\"From the Earth to the Moon; and, Round the Moon\",\"From the Earth to the Moon; and, Round the Moon\",\"From the Earth to the Moon; and, Round the Moon\",\"From the Earth to the Moon; and, Round the Moon\",\"From the Earth to the Moon; and, Round the Moon\",\"From the Earth to the Moon; and, Round the Moon\",\"From the Earth to the Moon; and, Round the Moon\",\"From the Earth to the Moon; and, Round the Moon\",\"From the Earth to the Moon; and, Round the Moon\",\"From the Earth to the Moon; and, Round the Moon\",\"From the Earth to the Moon; and, Round the Moon\",\"From the Earth to the Moon; and, Round the Moon\",\"From the Earth to the Moon; and, Round the Moon\",\"From the Earth to the Moon; and, Round the Moon\",\"From the Earth to the Moon; and, Round the Moon\",\"From the Earth to the Moon; and, Round the Moon\",\"From the Earth to the Moon; and, Round the Moon\",\"From the Earth to the Moon; and, Round the Moon\",\"From the Earth to the Moon; and, Round the Moon\",\"From the Earth to the Moon; and, Round the Moon\",\"From the Earth to the Moon; and, Round the Moon\",\"From the Earth to the Moon; and, Round the Moon\",\"From the Earth to the Moon; and, Round the Moon\",\"From the Earth to the Moon; and, Round the Moon\",\"From the Earth to the Moon; and, Round the Moon\",\"From the Earth to the Moon; and, Round the Moon\",\"From the Earth to the Moon; and, Round the Moon\",\"From the Earth to the Moon; and, Round the Moon\",\"From the Earth to the Moon; and, Round the Moon\",\"From the Earth to the Moon; and, Round the Moon\",\"From the Earth to the Moon; and, Round the Moon\",\"From the Earth to the Moon; and, Round the Moon\",\"From the Earth to the Moon; and, Round the Moon\",\"From the Earth to the Moon; and, Round the Moon\",\"From the Earth to the Moon; and, Round the Moon\",\"From the Earth to the Moon; and, Round the Moon\",\"From the Earth to the Moon; and, Round the Moon\",\"From the Earth to the Moon; and, Round the Moon\",\"From the Earth to the Moon; and, Round the Moon\",\"From the Earth to the Moon; and, Round the Moon\",\"From the Earth to the Moon; and, Round the Moon\",\"Twenty Thousand Leagues under the Sea\",\"Twenty Thousand Leagues under the Sea\",\"Twenty Thousand Leagues under the Sea\",\"Twenty Thousand Leagues under the Sea\",\"Twenty Thousand Leagues under the Sea\",\"Twenty Thousand Leagues under the Sea\",\"Twenty Thousand Leagues under the Sea\",\"Twenty Thousand Leagues under the Sea\",\"Twenty Thousand Leagues under the Sea\",\"Twenty Thousand Leagues under the Sea\",\"Twenty Thousand Leagues under the Sea\",\"Twenty Thousand Leagues under the Sea\",\"Twenty Thousand Leagues under the Sea\",\"Twenty Thousand Leagues under the Sea\",\"Twenty Thousand Leagues under the Sea\",\"Twenty Thousand Leagues under the Sea\",\"Twenty Thousand Leagues under the Sea\",\"Twenty Thousand Leagues under the Sea\",\"Twenty Thousand Leagues under the Sea\",\"Twenty Thousand Leagues under the Sea\",\"Twenty Thousand Leagues under the Sea\",\"Twenty Thousand Leagues under the Sea\",\"Twenty Thousand Leagues under the Sea\",\"Twenty Thousand Leagues under the Sea\",\"Twenty Thousand Leagues under the Sea\",\"Twenty Thousand Leagues under the Sea\",\"Twenty Thousand Leagues under the Sea\",\"Twenty Thousand Leagues under the Sea\",\"Twenty Thousand Leagues under the Sea\",\"Twenty Thousand Leagues under the Sea\",\"Twenty Thousand Leagues under the Sea\",\"Twenty Thousand Leagues under the Sea\",\"Twenty Thousand Leagues under the Sea\",\"Twenty Thousand Leagues under the Sea\",\"Twenty Thousand Leagues under the Sea\",\"Twenty Thousand Leagues under the Sea\",\"Twenty Thousand Leagues under the Sea\",\"Twenty Thousand Leagues under the Sea\",\"Twenty Thousand Leagues under the Sea\",\"Twenty Thousand Leagues under the Sea\",\"Twenty Thousand Leagues under the Sea\",\"Twenty Thousand Leagues under the Sea\",\"Twenty Thousand Leagues under the Sea\",\"Twenty Thousand Leagues under the Sea\",\"Twenty Thousand Leagues under the Sea\",\"Twenty Thousand Leagues under the Sea\",\"The Mysterious Island\",\"The Mysterious Island\",\"The Mysterious Island\",\"The Mysterious Island\",\"The Mysterious Island\",\"The Mysterious Island\",\"The Mysterious Island\",\"The Mysterious Island\",\"The Mysterious Island\",\"The Mysterious Island\",\"The Mysterious Island\",\"The Mysterious Island\",\"The Mysterious Island\",\"The Mysterious Island\",\"The Mysterious Island\",\"The Mysterious Island\",\"The Mysterious Island\",\"The Mysterious Island\",\"The Mysterious Island\",\"The Mysterious Island\",\"The Mysterious Island\",\"The Mysterious Island\",\"The Mysterious Island\",\"The Mysterious Island\",\"The Mysterious Island\",\"The Mysterious Island\",\"The Mysterious Island\",\"The Mysterious Island\",\"The Mysterious Island\",\"The Mysterious Island\",\"The Mysterious Island\",\"The Mysterious Island\",\"The Mysterious Island\",\"The Mysterious Island\",\"The Mysterious Island\",\"The Mysterious Island\",\"The Mysterious Island\",\"The Mysterious Island\",\"The Mysterious Island\",\"The Mysterious Island\",\"The Mysterious Island\",\"The Mysterious Island\",\"The Mysterious Island\",\"The Mysterious Island\",\"The Mysterious Island\",\"The Mysterious Island\",\"The Mysterious Island\",\"The Mysterious Island\",\"The Mysterious Island\",\"The Mysterious Island\",\"The Mysterious Island\",\"The Mysterious Island\",\"The Mysterious Island\",\"The Mysterious Island\",\"The Mysterious Island\",\"The Mysterious Island\",\"The Mysterious Island\",\"The Mysterious Island\",\"The Mysterious Island\",\"The Mysterious Island\",\"The Mysterious Island\",\"The Mysterious Island\",\"A Journey to the Centre of the Earth\",\"A Journey to the Centre of the Earth\",\"A Journey to the Centre of the Earth\",\"A Journey to the Centre of the Earth\",\"A Journey to the Centre of the Earth\",\"A Journey to the Centre of the Earth\",\"A Journey to the Centre of the Earth\",\"A Journey to the Centre of the Earth\",\"A Journey to the Centre of the Earth\",\"A Journey to the Centre of the Earth\",\"A Journey to the Centre of the Earth\",\"A Journey to the Centre of the Earth\",\"A Journey to the Centre of the Earth\",\"A Journey to the Centre of the Earth\",\"A Journey to the Centre of the Earth\",\"A Journey to the Centre of the Earth\",\"A Journey to the Centre of the Earth\",\"A Journey to the Centre of the Earth\",\"A Journey to the Centre of the Earth\",\"A Journey to the Centre of the Earth\",\"A Journey to the Centre of the Earth\",\"A Journey to the Centre of the Earth\",\"A Journey to the Centre of the Earth\",\"A Journey to the Centre of the Earth\",\"A Journey to the Centre of the Earth\",\"A Journey to the Centre of the Earth\",\"A Journey to the Centre of the Earth\",\"A Journey to the Centre of the Earth\",\"A Journey to the Centre of the Earth\",\"A Journey to the Centre of the Earth\",\"A Journey to the Centre of the Earth\",\"A Journey to the Centre of the Earth\",\"A Journey to the Centre of the Earth\",\"A Journey to the Centre of the Earth\",\"A Journey to the Centre of the Earth\",\"A Journey to the Centre of the Earth\",\"A Journey to the Centre of the Earth\",\"A Journey to the Centre of the Earth\",\"A Journey to the Centre of the Earth\",\"A Journey to the Centre of the Earth\",\"A Journey to the Centre of the Earth\",\"A Journey to the Centre of the Earth\",\"A Journey to the Centre of the Earth\",\"A Journey to the Centre of the Earth\"],\"legendgroup\":\"VERNE\",\"marker\":{\"color\":\"#00cc96\",\"symbol\":\"circle\"},\"name\":\"VERNE\",\"notched\":true,\"offsetgroup\":\"VERNE\",\"showlegend\":false,\"x\":[-0.033540567566373726,-0.04012656571983412,-0.04943716980853679,-0.040048759171056506,-0.038631786644674176,-0.05038237061887478,-0.04419656294325725,-0.034424923815204844,-0.03020068767304123,-0.041214529403305375,-0.03132071492061813,-0.04407656925569398,-0.026190121066515335,-0.009310798545033245,-0.01601808092439745,-0.029002820992764643,-0.05584272105181702,-0.05132769285422256,-0.03562254416978253,-0.038431069298266986,-0.05510266178274898,-0.04410942382676677,-0.02725878060909298,-0.025916350145530714,-0.02898297708803161,-0.042020361698009004,-0.03104082020738963,-0.04958942835982145,-0.0527109036840947,-0.05925944464634349,-0.040394197312090305,-0.06387100896517511,-0.055259946486430254,-0.057844645927535875,-0.04782338695733182,-0.047673219857430754,-0.05491436231540654,-0.05118936235367749,-0.024899350651246446,-0.03349182257206025,-0.03756713037359011,-0.049821578373687635,-0.04514788055018052,-0.049487689214093314,-0.029877272995579067,-0.04759862501417725,-0.06612326210433903,-0.014399653804282528,-0.03601272146633385,-0.01605056195028116,-0.04914012518534587,-0.00820469592295378,-0.0070016031683081854,0.010092931558794512,-0.002515495277808824,0.025766880887624063,0.037253483114376124,0.004746071279445532,-0.011516337210297534,-0.010522480165888184,0.02493930220504927,0.02649160965705705,0.022395611238866502,0.028294289114973684,0.041425008042309384,0.015554698052017328,0.03555041330829201,0.01460739741042478,0.017488689337288532,0.05530609613710084,0.03550616594399221,0.04240186640535427,0.03949129838596144,0.021056694770321,0.02904658293731244,0.006057352229298793,0.05043177045781802,0.03864588169294417,0.02442484326304067,0.06613069714162789,0.0043929803429312115,0.027202426500716952,0.03989418956874497,0.04798109077603933,0.03212680238385524,0.024574438951037086,0.0377410658257467,0.05465286755400228,0.021866322383362478,0.03322549847372377,0.029197999300866796,0.010370728201492851,0.049351003834442346,0.03405686025370443,0.028362142903112137,0.0298835680325994,0.00833462831352347,0.033423621980312325,0.33607369500504336,0.3952169282854489,0.4693951750093178,0.45560796515769997,0.4073641944972203,0.5309942274371712,0.5527792952410964,0.58165798793551,0.431464975114907,0.5241937537890576,0.47198153841116275,0.4274126877961738,0.48677540067749936,0.3411236226030324,0.4819375489031331,0.35484338125554715,0.4894319587124311,0.4620932661596855,0.39697214793429064,0.41086254812178236,0.5058374917305192,0.5694261679318633,0.3897605978905734,0.46737612376424587,0.4915274383348917,0.562858234115497,0.4628617661711256,0.33117558550905213,0.35426393958890284,0.45822947504578126,0.5099340990357885,0.4752042190386247,0.5252559989741885,0.5329024544792249,0.535046738922714,0.5950133174722955,0.5265820267319811,0.2267324756191477,0.52655216058519,0.560148691708441,0.658329409201974,0.47878986687377634,0.32708709744446085,0.44025024813995517,0.4493497878161348,0.5511904671529435,0.5944460624954229,0.603713760044821,0.43083040452813454,0.618339770464395,0.5041241133969139,0.47410784688967395,0.5268723480554414,0.49580398394267416,0.46529888544031395,0.5120585024111978,0.261755400916997,0.36174376077458315,0.5386673734075388,0.39262992219832404,0.454758597626286,-0.046877899885096885,-0.04111634009168563,-0.04286290459716041,-0.025106528658979974,-0.031293135358635635,0.005696900939668261,-0.0349173631991396,-0.017037879403976306,-0.00591165074098612,-0.020293220490713446,-0.016861773025676447,0.0033647358794881917,-0.01122223695698573,-0.020638371071946635,-0.01180167081620259,-0.011551497078956367,-0.01360691981620336,-0.03897757624404524,-0.02737434920670432,-0.016012872470432236,-0.015513320888575162,-0.02444322281195274,-0.02457358740505145,-0.025640878297770366,-0.03280318669778022,-0.030022350166150496,-0.0003300083845492163,0.0010639920199840074,0.0010277062561307262,-0.020157927588914135,0.013779749266881846,-0.007085242349743422,0.016300069536859717,0.0012344464214926317,-0.035381162359207644,-0.02039860245258853,-0.014495872761643486,0.003225339436689685,-0.017273298101682353,-0.03358544135300755,-0.03022439996786521,0.0017193323391322545,-0.0028925857269377422,-0.030030198333994253],\"xaxis\":\"x2\",\"yaxis\":\"y2\",\"type\":\"box\"},{\"hovertemplate\":\"\\u003cb\\u003e%{hovertext}\\u003c\\u002fb\\u003e\\u003cbr\\u003e\\u003cbr\\u003elabel=DOYLE\\u003cbr\\u003ePC0=%{x}\\u003cbr\\u003ePC1=%{y}\\u003cextra\\u003e\\u003c\\u002fextra\\u003e\",\"hovertext\":[\"The Lost World\",\"The Lost World\",\"The Lost World\",\"The Lost World\",\"The Lost World\",\"The Lost World\",\"The Lost World\",\"The Lost World\",\"The Lost World\",\"The Lost World\",\"The Lost World\",\"The Lost World\",\"The Lost World\",\"The Lost World\",\"The Lost World\",\"The Lost World\"],\"legendgroup\":\"DOYLE\",\"marker\":{\"color\":\"#ab63fa\",\"symbol\":\"circle\"},\"mode\":\"markers\",\"name\":\"DOYLE\",\"orientation\":\"v\",\"showlegend\":true,\"x\":[-0.07437182002771733,-0.05998378720866024,-0.05506549238144808,-0.035865829286708485,-0.04955922430989823,-0.05318891677111176,-0.02998172912378113,-0.03476642360202322,-0.011396810735649828,-0.02995612927613302,-0.028404042057430468,-0.030494552711397217,-0.050726398952125606,-0.03326138004459927,-0.01741762078152397,-0.04406242948685185],\"xaxis\":\"x\",\"y\":[-0.0447286136926639,-0.007212216136426814,-0.02028279464756381,-0.008579668573072708,-0.002028185179548071,-0.02535045799809786,0.002914249488057856,-0.007612976058458785,-0.010162046591413575,-0.02012418113664985,-0.0157677500399791,-0.024907379868964092,-0.04558017893975912,-0.024681960415813272,-0.011199696860554099,0.005985405560308572],\"yaxis\":\"y\",\"type\":\"scatter\"},{\"alignmentgroup\":\"True\",\"hovertemplate\":\"\\u003cb\\u003e%{hovertext}\\u003c\\u002fb\\u003e\\u003cbr\\u003e\\u003cbr\\u003elabel=DOYLE\\u003cbr\\u003ePC0=%{x}\\u003cextra\\u003e\\u003c\\u002fextra\\u003e\",\"hovertext\":[\"The Lost World\",\"The Lost World\",\"The Lost World\",\"The Lost World\",\"The Lost World\",\"The Lost World\",\"The Lost World\",\"The Lost World\",\"The Lost World\",\"The Lost World\",\"The Lost World\",\"The Lost World\",\"The Lost World\",\"The Lost World\",\"The Lost World\",\"The Lost World\"],\"legendgroup\":\"DOYLE\",\"marker\":{\"color\":\"#ab63fa\",\"symbol\":\"circle\"},\"name\":\"DOYLE\",\"notched\":true,\"offsetgroup\":\"DOYLE\",\"showlegend\":false,\"x\":[-0.07437182002771733,-0.05998378720866024,-0.05506549238144808,-0.035865829286708485,-0.04955922430989823,-0.05318891677111176,-0.02998172912378113,-0.03476642360202322,-0.011396810735649828,-0.02995612927613302,-0.028404042057430468,-0.030494552711397217,-0.050726398952125606,-0.03326138004459927,-0.01741762078152397,-0.04406242948685185],\"xaxis\":\"x2\",\"yaxis\":\"y2\",\"type\":\"box\"},{\"hovertemplate\":\"\\u003cb\\u003e%{hovertext}\\u003c\\u002fb\\u003e\\u003cbr\\u003e\\u003cbr\\u003elabel=ABBOTT\\u003cbr\\u003ePC0=%{x}\\u003cbr\\u003ePC1=%{y}\\u003cextra\\u003e\\u003c\\u002fextra\\u003e\",\"hovertext\":[\"Flatland: A Romance of Many Dimensions\",\"Flatland: A Romance of Many Dimensions\",\"Flatland: A Romance of Many Dimensions\",\"Flatland: A Romance of Many Dimensions\",\"Flatland: A Romance of Many Dimensions\",\"Flatland: A Romance of Many Dimensions\",\"Flatland: A Romance of Many Dimensions\",\"Flatland: A Romance of Many Dimensions\",\"Flatland: A Romance of Many Dimensions\",\"Flatland: A Romance of Many Dimensions\",\"Flatland: A Romance of Many Dimensions\",\"Flatland: A Romance of Many Dimensions\",\"Flatland: A Romance of Many Dimensions\",\"Flatland: A Romance of Many Dimensions\",\"Flatland: A Romance of Many Dimensions\",\"Flatland: A Romance of Many Dimensions\",\"Flatland: A Romance of Many Dimensions\",\"Flatland: A Romance of Many Dimensions\",\"Flatland: A Romance of Many Dimensions\",\"Flatland: A Romance of Many Dimensions\",\"Flatland: A Romance of Many Dimensions\",\"Flatland: A Romance of Many Dimensions\"],\"legendgroup\":\"ABBOTT\",\"marker\":{\"color\":\"#FFA15A\",\"symbol\":\"circle\"},\"mode\":\"markers\",\"name\":\"ABBOTT\",\"orientation\":\"v\",\"showlegend\":true,\"x\":[-0.0437239380022839,-0.04016469573505332,-0.04580588578340094,-0.053932375277319006,-0.040962335812218774,-0.04674759008734888,-0.03910424012892886,-0.051126162247126294,-0.052682193668864744,-0.03565850890365115,-0.04244150233692722,-0.049790556317556994,-0.04959227408035723,-0.05741481109415736,-0.0543185380004761,-0.05330627001794539,-0.05234390430564991,-0.060735424706818766,-0.05608924583766119,-0.05746420626553683,-0.06225688711467997,-0.05697902537879652],\"xaxis\":\"x\",\"y\":[0.00381536120365894,0.009010996594987717,0.005014113232051048,-0.007359023932865593,0.014327260903718667,0.0049960184734291644,0.009053142267642122,-0.0040829029066129455,-0.0009144024504873815,-0.00021412373263808798,0.007998650198698066,0.004507730988609604,-0.001409983678850608,-0.000247464222325556,-0.006763895868263662,0.010416987611111213,-0.013193396107020309,-0.003644274230015835,0.006315963983755894,-0.006756774466610409,-0.016753950636321912,0.011763448277038917],\"yaxis\":\"y\",\"type\":\"scatter\"},{\"alignmentgroup\":\"True\",\"hovertemplate\":\"\\u003cb\\u003e%{hovertext}\\u003c\\u002fb\\u003e\\u003cbr\\u003e\\u003cbr\\u003elabel=ABBOTT\\u003cbr\\u003ePC0=%{x}\\u003cextra\\u003e\\u003c\\u002fextra\\u003e\",\"hovertext\":[\"Flatland: A Romance of Many Dimensions\",\"Flatland: A Romance of Many Dimensions\",\"Flatland: A Romance of Many Dimensions\",\"Flatland: A Romance of Many Dimensions\",\"Flatland: A Romance of Many Dimensions\",\"Flatland: A Romance of Many Dimensions\",\"Flatland: A Romance of Many Dimensions\",\"Flatland: A Romance of Many Dimensions\",\"Flatland: A Romance of Many Dimensions\",\"Flatland: A Romance of Many Dimensions\",\"Flatland: A Romance of Many Dimensions\",\"Flatland: A Romance of Many Dimensions\",\"Flatland: A Romance of Many Dimensions\",\"Flatland: A Romance of Many Dimensions\",\"Flatland: A Romance of Many Dimensions\",\"Flatland: A Romance of Many Dimensions\",\"Flatland: A Romance of Many Dimensions\",\"Flatland: A Romance of Many Dimensions\",\"Flatland: A Romance of Many Dimensions\",\"Flatland: A Romance of Many Dimensions\",\"Flatland: A Romance of Many Dimensions\",\"Flatland: A Romance of Many Dimensions\"],\"legendgroup\":\"ABBOTT\",\"marker\":{\"color\":\"#FFA15A\",\"symbol\":\"circle\"},\"name\":\"ABBOTT\",\"notched\":true,\"offsetgroup\":\"ABBOTT\",\"showlegend\":false,\"x\":[-0.0437239380022839,-0.04016469573505332,-0.04580588578340094,-0.053932375277319006,-0.040962335812218774,-0.04674759008734888,-0.03910424012892886,-0.051126162247126294,-0.052682193668864744,-0.03565850890365115,-0.04244150233692722,-0.049790556317556994,-0.04959227408035723,-0.05741481109415736,-0.0543185380004761,-0.05330627001794539,-0.05234390430564991,-0.060735424706818766,-0.05608924583766119,-0.05746420626553683,-0.06225688711467997,-0.05697902537879652],\"xaxis\":\"x2\",\"yaxis\":\"y2\",\"type\":\"box\"},{\"hovertemplate\":\"\\u003cb\\u003e%{hovertext}\\u003c\\u002fb\\u003e\\u003cbr\\u003e\\u003cbr\\u003elabel=RAND\\u003cbr\\u003ePC0=%{x}\\u003cbr\\u003ePC1=%{y}\\u003cextra\\u003e\\u003c\\u002fextra\\u003e\",\"hovertext\":[\"Anthem\",\"Anthem\",\"Anthem\",\"Anthem\",\"Anthem\",\"Anthem\",\"Anthem\",\"Anthem\",\"Anthem\",\"Anthem\",\"Anthem\",\"Anthem\"],\"legendgroup\":\"RAND\",\"marker\":{\"color\":\"#19d3f3\",\"symbol\":\"circle\"},\"mode\":\"markers\",\"name\":\"RAND\",\"orientation\":\"v\",\"showlegend\":true,\"x\":[-0.05775371619957441,-0.06103353102300198,-0.050472956982909996,-0.05530179092607444,-0.05260204147461019,-0.059046047454094246,-0.0557712442836377,-0.04183028211671191,-0.0433261114805315,-0.03540392684731816,-0.0580741278506139,-0.0605975806264661],\"xaxis\":\"x\",\"y\":[-0.015036945722972832,-0.022059497001208052,-0.007376862988629951,-0.023695042311339693,-0.017614150248683066,-0.02357450096465319,-0.019426257340721977,-0.027327977170614588,-0.03188925965332407,-0.02055345530129192,-0.01929509450658719,-0.02031533473187208],\"yaxis\":\"y\",\"type\":\"scatter\"},{\"alignmentgroup\":\"True\",\"hovertemplate\":\"\\u003cb\\u003e%{hovertext}\\u003c\\u002fb\\u003e\\u003cbr\\u003e\\u003cbr\\u003elabel=RAND\\u003cbr\\u003ePC0=%{x}\\u003cextra\\u003e\\u003c\\u002fextra\\u003e\",\"hovertext\":[\"Anthem\",\"Anthem\",\"Anthem\",\"Anthem\",\"Anthem\",\"Anthem\",\"Anthem\",\"Anthem\",\"Anthem\",\"Anthem\",\"Anthem\",\"Anthem\"],\"legendgroup\":\"RAND\",\"marker\":{\"color\":\"#19d3f3\",\"symbol\":\"circle\"},\"name\":\"RAND\",\"notched\":true,\"offsetgroup\":\"RAND\",\"showlegend\":false,\"x\":[-0.05775371619957441,-0.06103353102300198,-0.050472956982909996,-0.05530179092607444,-0.05260204147461019,-0.059046047454094246,-0.0557712442836377,-0.04183028211671191,-0.0433261114805315,-0.03540392684731816,-0.0580741278506139,-0.0605975806264661],\"xaxis\":\"x2\",\"yaxis\":\"y2\",\"type\":\"box\"},{\"hovertemplate\":\"\\u003cb\\u003e%{hovertext}\\u003c\\u002fb\\u003e\\u003cbr\\u003e\\u003cbr\\u003elabel=LINDSAY\\u003cbr\\u003ePC0=%{x}\\u003cbr\\u003ePC1=%{y}\\u003cextra\\u003e\\u003c\\u002fextra\\u003e\",\"hovertext\":[\"A Voyage to Arcturus\",\"A Voyage to Arcturus\",\"A Voyage to Arcturus\",\"A Voyage to Arcturus\",\"A Voyage to Arcturus\",\"A Voyage to Arcturus\",\"A Voyage to Arcturus\",\"A Voyage to Arcturus\",\"A Voyage to Arcturus\",\"A Voyage to Arcturus\",\"A Voyage to Arcturus\",\"A Voyage to Arcturus\",\"A Voyage to Arcturus\",\"A Voyage to Arcturus\",\"A Voyage to Arcturus\",\"A Voyage to Arcturus\",\"A Voyage to Arcturus\",\"A Voyage to Arcturus\",\"A Voyage to Arcturus\",\"A Voyage to Arcturus\",\"A Voyage to Arcturus\"],\"legendgroup\":\"LINDSAY\",\"marker\":{\"color\":\"#FF6692\",\"symbol\":\"circle\"},\"mode\":\"markers\",\"name\":\"LINDSAY\",\"orientation\":\"v\",\"showlegend\":true,\"x\":[-0.06031831894416789,-0.08761571326214496,-0.0653971600749493,-0.07480367043318487,-0.08170525189657707,-0.08777217859733419,-0.07007181648934349,-0.08660028297086782,-0.08173554504034684,-0.09446760792474974,-0.08382720947518786,-0.07993002439175251,-0.07544359091714271,-0.06333726308640492,-0.06365306751530017,-0.06152219508016081,-0.08340941899893471,-0.07573387920298233,-0.08974924691991633,-0.0762440697366008,-0.05772252895568004],\"xaxis\":\"x\",\"y\":[-0.030516654707130043,-0.05531822053826546,-0.05268012145746797,-0.05633041999213287,-0.05881295501952379,-0.07066665642744956,-0.0580812144958095,-0.07326534363933482,-0.0745231765612665,-0.0855736650237781,-0.07729548439164292,-0.058837249365283326,-0.06301768246761388,-0.06250503217984288,-0.061909969558807613,-0.04992495713542313,-0.06095908007160225,-0.05651472844991373,-0.07045251148769517,-0.06093647403009242,-0.025482497163213554],\"yaxis\":\"y\",\"type\":\"scatter\"},{\"alignmentgroup\":\"True\",\"hovertemplate\":\"\\u003cb\\u003e%{hovertext}\\u003c\\u002fb\\u003e\\u003cbr\\u003e\\u003cbr\\u003elabel=LINDSAY\\u003cbr\\u003ePC0=%{x}\\u003cextra\\u003e\\u003c\\u002fextra\\u003e\",\"hovertext\":[\"A Voyage to Arcturus\",\"A Voyage to Arcturus\",\"A Voyage to Arcturus\",\"A Voyage to Arcturus\",\"A Voyage to Arcturus\",\"A Voyage to Arcturus\",\"A Voyage to Arcturus\",\"A Voyage to Arcturus\",\"A Voyage to Arcturus\",\"A Voyage to Arcturus\",\"A Voyage to Arcturus\",\"A Voyage to Arcturus\",\"A Voyage to Arcturus\",\"A Voyage to Arcturus\",\"A Voyage to Arcturus\",\"A Voyage to Arcturus\",\"A Voyage to Arcturus\",\"A Voyage to Arcturus\",\"A Voyage to Arcturus\",\"A Voyage to Arcturus\",\"A Voyage to Arcturus\"],\"legendgroup\":\"LINDSAY\",\"marker\":{\"color\":\"#FF6692\",\"symbol\":\"circle\"},\"name\":\"LINDSAY\",\"notched\":true,\"offsetgroup\":\"LINDSAY\",\"showlegend\":false,\"x\":[-0.06031831894416789,-0.08761571326214496,-0.0653971600749493,-0.07480367043318487,-0.08170525189657707,-0.08777217859733419,-0.07007181648934349,-0.08660028297086782,-0.08173554504034684,-0.09446760792474974,-0.08382720947518786,-0.07993002439175251,-0.07544359091714271,-0.06333726308640492,-0.06365306751530017,-0.06152219508016081,-0.08340941899893471,-0.07573387920298233,-0.08974924691991633,-0.0762440697366008,-0.05772252895568004],\"xaxis\":\"x2\",\"yaxis\":\"y2\",\"type\":\"box\"},{\"hovertemplate\":\"\\u003cb\\u003e%{hovertext}\\u003c\\u002fb\\u003e\\u003cbr\\u003e\\u003cbr\\u003elabel=HODGSON\\u003cbr\\u003ePC0=%{x}\\u003cbr\\u003ePC1=%{y}\\u003cextra\\u003e\\u003c\\u002fextra\\u003e\",\"hovertext\":[\"The Night Land\",\"The Night Land\",\"The Night Land\",\"The Night Land\",\"The Night Land\",\"The Night Land\",\"The Night Land\",\"The Night Land\",\"The Night Land\",\"The Night Land\",\"The Night Land\",\"The Night Land\",\"The Night Land\",\"The Night Land\",\"The Night Land\",\"The Night Land\",\"The Night Land\"],\"legendgroup\":\"HODGSON\",\"marker\":{\"color\":\"#B6E880\",\"symbol\":\"circle\"},\"mode\":\"markers\",\"name\":\"HODGSON\",\"orientation\":\"v\",\"showlegend\":true,\"x\":[-0.10476539252357128,-0.07504673110073075,-0.07910895410958528,-0.08271100435684005,-0.08970590751751975,-0.08987744885664505,-0.10556835592769385,-0.10844261341688907,-0.09800408948423225,-0.1388773985626139,-0.12884880001970853,-0.12606838058111786,-0.13181416800684828,-0.12994550512630035,-0.11936143746601491,-0.1178262091966454,-0.11662693983511625],\"xaxis\":\"x\",\"y\":[-0.09433527720205281,-0.04479647431875394,-0.05252609145020082,-0.062098801394916574,-0.07823347358168088,-0.06248101778580977,-0.10338598329425848,-0.09344062148552952,-0.10068844837713314,-0.14160706223590383,-0.13059836071549435,-0.12685156287852606,-0.13505060537473634,-0.13298574623407114,-0.11701879352443396,-0.10919989248584208,-0.10895687690251867],\"yaxis\":\"y\",\"type\":\"scatter\"},{\"alignmentgroup\":\"True\",\"hovertemplate\":\"\\u003cb\\u003e%{hovertext}\\u003c\\u002fb\\u003e\\u003cbr\\u003e\\u003cbr\\u003elabel=HODGSON\\u003cbr\\u003ePC0=%{x}\\u003cextra\\u003e\\u003c\\u002fextra\\u003e\",\"hovertext\":[\"The Night Land\",\"The Night Land\",\"The Night Land\",\"The Night Land\",\"The Night Land\",\"The Night Land\",\"The Night Land\",\"The Night Land\",\"The Night Land\",\"The Night Land\",\"The Night Land\",\"The Night Land\",\"The Night Land\",\"The Night Land\",\"The Night Land\",\"The Night Land\",\"The Night Land\"],\"legendgroup\":\"HODGSON\",\"marker\":{\"color\":\"#B6E880\",\"symbol\":\"circle\"},\"name\":\"HODGSON\",\"notched\":true,\"offsetgroup\":\"HODGSON\",\"showlegend\":false,\"x\":[-0.10476539252357128,-0.07504673110073075,-0.07910895410958528,-0.08271100435684005,-0.08970590751751975,-0.08987744885664505,-0.10556835592769385,-0.10844261341688907,-0.09800408948423225,-0.1388773985626139,-0.12884880001970853,-0.12606838058111786,-0.13181416800684828,-0.12994550512630035,-0.11936143746601491,-0.1178262091966454,-0.11662693983511625],\"xaxis\":\"x2\",\"yaxis\":\"y2\",\"type\":\"box\"},{\"hovertemplate\":\"\\u003cb\\u003e%{hovertext}\\u003c\\u002fb\\u003e\\u003cbr\\u003e\\u003cbr\\u003elabel=VONNEGUT\\u003cbr\\u003ePC0=%{x}\\u003cbr\\u003ePC1=%{y}\\u003cextra\\u003e\\u003c\\u002fextra\\u003e\",\"hovertext\":[\"2 B R 0 2 B\",\"2 B R 0 2 B\",\"2 B R 0 2 B\",\"2 B R 0 2 B\",\"2 B R 0 2 B\",\"2 B R 0 2 B\",\"The Big Trip Up Yonder\",\"The Big Trip Up Yonder\",\"The Big Trip Up Yonder\",\"The Big Trip Up Yonder\",\"The Big Trip Up Yonder\",\"The Big Trip Up Yonder\",\"The Big Trip Up Yonder\",\"The Big Trip Up Yonder\",\"The Big Trip Up Yonder\"],\"legendgroup\":\"VONNEGUT\",\"marker\":{\"color\":\"#FF97FF\",\"symbol\":\"circle\"},\"mode\":\"markers\",\"name\":\"VONNEGUT\",\"orientation\":\"v\",\"showlegend\":true,\"x\":[-0.06381177240997002,-0.061695212046339765,-0.06754516791200084,-0.06045023874566796,-0.057348400103943944,-0.05861340999301774,-0.06582185168798964,-0.06267653918779682,-0.0648614882425845,-0.06640145997821466,-0.07132220180519946,-0.06626053622521294,-0.06285532065417081,-0.06171940006752947,-0.05880290912231868],\"xaxis\":\"x\",\"y\":[-0.025115685154389857,-0.023822165949220445,-0.0478452392571817,-0.03896647430576804,-0.025563062282414385,-0.02323961035523056,-0.026483306137915216,-0.025693595630815372,-0.02400060301165026,-0.03195397551509687,-0.041892648791947165,-0.039637160555276524,-0.025556219545397302,-0.02908553993669884,-0.022385350895584025],\"yaxis\":\"y\",\"type\":\"scatter\"},{\"alignmentgroup\":\"True\",\"hovertemplate\":\"\\u003cb\\u003e%{hovertext}\\u003c\\u002fb\\u003e\\u003cbr\\u003e\\u003cbr\\u003elabel=VONNEGUT\\u003cbr\\u003ePC0=%{x}\\u003cextra\\u003e\\u003c\\u002fextra\\u003e\",\"hovertext\":[\"2 B R 0 2 B\",\"2 B R 0 2 B\",\"2 B R 0 2 B\",\"2 B R 0 2 B\",\"2 B R 0 2 B\",\"2 B R 0 2 B\",\"The Big Trip Up Yonder\",\"The Big Trip Up Yonder\",\"The Big Trip Up Yonder\",\"The Big Trip Up Yonder\",\"The Big Trip Up Yonder\",\"The Big Trip Up Yonder\",\"The Big Trip Up Yonder\",\"The Big Trip Up Yonder\",\"The Big Trip Up Yonder\"],\"legendgroup\":\"VONNEGUT\",\"marker\":{\"color\":\"#FF97FF\",\"symbol\":\"circle\"},\"name\":\"VONNEGUT\",\"notched\":true,\"offsetgroup\":\"VONNEGUT\",\"showlegend\":false,\"x\":[-0.06381177240997002,-0.061695212046339765,-0.06754516791200084,-0.06045023874566796,-0.057348400103943944,-0.05861340999301774,-0.06582185168798964,-0.06267653918779682,-0.0648614882425845,-0.06640145997821466,-0.07132220180519946,-0.06626053622521294,-0.06285532065417081,-0.06171940006752947,-0.05880290912231868],\"xaxis\":\"x2\",\"yaxis\":\"y2\",\"type\":\"box\"},{\"hovertemplate\":\"\\u003cb\\u003e%{hovertext}\\u003c\\u002fb\\u003e\\u003cbr\\u003e\\u003cbr\\u003elabel=WEINBAUM\\u003cbr\\u003ePC0=%{x}\\u003cbr\\u003ePC1=%{y}\\u003cextra\\u003e\\u003c\\u002fextra\\u003e\",\"hovertext\":[\"A Martian Odyssey\",\"A Martian Odyssey\"],\"legendgroup\":\"WEINBAUM\",\"marker\":{\"color\":\"#FECB52\",\"symbol\":\"circle\"},\"mode\":\"markers\",\"name\":\"WEINBAUM\",\"orientation\":\"v\",\"showlegend\":true,\"x\":[-0.04908951614763394,-0.059209556720475176],\"xaxis\":\"x\",\"y\":[-0.018392457980002667,-0.03846808762656481],\"yaxis\":\"y\",\"type\":\"scatter\"},{\"alignmentgroup\":\"True\",\"hovertemplate\":\"\\u003cb\\u003e%{hovertext}\\u003c\\u002fb\\u003e\\u003cbr\\u003e\\u003cbr\\u003elabel=WEINBAUM\\u003cbr\\u003ePC0=%{x}\\u003cextra\\u003e\\u003c\\u002fextra\\u003e\",\"hovertext\":[\"A Martian Odyssey\",\"A Martian Odyssey\"],\"legendgroup\":\"WEINBAUM\",\"marker\":{\"color\":\"#FECB52\",\"symbol\":\"circle\"},\"name\":\"WEINBAUM\",\"notched\":true,\"offsetgroup\":\"WEINBAUM\",\"showlegend\":false,\"x\":[-0.04908951614763394,-0.059209556720475176],\"xaxis\":\"x2\",\"yaxis\":\"y2\",\"type\":\"box\"},{\"hovertemplate\":\"\\u003cb\\u003e%{hovertext}\\u003c\\u002fb\\u003e\\u003cbr\\u003e\\u003cbr\\u003elabel=DICK\\u003cbr\\u003ePC0=%{x}\\u003cbr\\u003ePC1=%{y}\\u003cextra\\u003e\\u003c\\u002fextra\\u003e\",\"hovertext\":[\"Beyond Lies the Wub\",\"Beyond Lies the Wub\",\"Beyond Lies the Wub\",\"Beyond Lies the Wub\",\"Beyond Lies the Wub\",\"The Eyes Have It\",\"The Eyes Have It\",\"Second Variety\",\"Second Variety\",\"Second Variety\",\"Second Variety\",\"Second Variety\",\"Second Variety\",\"Second Variety\",\"Second Variety\",\"Second Variety\",\"Second Variety\",\"Second Variety\",\"Second Variety\",\"Second Variety\",\"Second Variety\",\"Second Variety\",\"Second Variety\",\"Second Variety\",\"Second Variety\",\"Second Variety\",\"Second Variety\",\"Second Variety\",\"Second Variety\",\"Second Variety\",\"Second Variety\",\"Second Variety\",\"Second Variety\",\"Second Variety\",\"Second Variety\",\"Second Variety\",\"Second Variety\",\"Second Variety\",\"Second Variety\",\"Second Variety\",\"Second Variety\",\"Second Variety\",\"Second Variety\",\"Second Variety\",\"Second Variety\",\"Second Variety\",\"Second Variety\",\"Second Variety\",\"Second Variety\",\"Second Variety\",\"Second Variety\",\"Second Variety\",\"The Hanging Stranger\",\"The Hanging Stranger\",\"The Hanging Stranger\",\"The Hanging Stranger\",\"The Hanging Stranger\",\"The Hanging Stranger\",\"The Hanging Stranger\",\"The Hanging Stranger\"],\"legendgroup\":\"DICK\",\"marker\":{\"color\":\"#636efa\",\"symbol\":\"circle\"},\"mode\":\"markers\",\"name\":\"DICK\",\"orientation\":\"v\",\"showlegend\":true,\"x\":[-0.057484763961336734,-0.05683377858225744,-0.048987740576159435,-0.06618829030216103,-0.04664325858338294,-0.057369702611416364,-0.06322085864452111,-0.07834252989214902,-0.07891491218241013,-0.13170557168656283,-0.09431441751073735,-0.058894214224977724,-0.07453748066298706,-0.13743564485298476,-0.1231206760263116,-0.13606746512538193,-0.11299172350948825,-0.1229716836838738,-0.13652641959300926,-0.11299480273920372,-0.12503367309778582,-0.11832383157069376,-0.14662199010470203,-0.12802974443473555,-0.12029053409647916,-0.15212024493570708,-0.14111579437843758,-0.16148013067070993,-0.15042667105229238,-0.1523889043797085,-0.14144916926907994,-0.16264400181430877,-0.14638608487685398,-0.15565744570412166,-0.1666818483707374,-0.14314390862319493,-0.11570082421775948,-0.1660489193279665,-0.15530630548291233,-0.1694631898491886,-0.1610362070695011,-0.1444500282789399,-0.13854432450197035,-0.11932207589823199,-0.15337887990866672,-0.12138314611323495,-0.13169553542788104,-0.1287407976660616,-0.15311755083970938,-0.10480648406775005,-0.1324419844450038,-0.11808686459246617,-0.07103508834719284,-0.07364869467553647,-0.07299501587139019,-0.07377438527288961,-0.07547175173187669,-0.07125908312361187,-0.06695750419880771,-0.061911785770957135],\"xaxis\":\"x\",\"y\":[-0.02537520684894588,-0.01908958656206381,-0.01905842536042235,-0.026650059489715765,-0.009512572798917967,-0.03211299368582315,-0.036977751174811516,-0.08417575365694671,-0.0737409867086377,-0.195940434133486,-0.12181287265747033,-0.0066445108673686875,-0.06542104013963815,-0.22033274585772472,-0.1972430094208545,-0.22332024104154613,-0.1815346536220329,-0.19746518842214997,-0.2286275357414081,-0.17470013793979236,-0.19104624597083372,-0.18983589766438855,-0.2382685310784868,-0.2184548918606252,-0.17392509936514391,-0.2219046608726739,-0.21518569423905992,-0.266429850980651,-0.25637920777372214,-0.2583611351779644,-0.22260739804582386,-0.2940851112308874,-0.24391803979684848,-0.272788504375958,-0.30356442663719935,-0.2346716263444551,-0.17604080977897005,-0.28306849974596304,-0.2727774882821294,-0.28297239700158705,-0.28465046831708907,-0.23480947192466364,-0.22081238608218082,-0.15024352661685375,-0.24884441559013035,-0.20030264540311785,-0.22590621437831943,-0.186088712305093,-0.23000789615598297,-0.12267421147795608,-0.2101053429558813,-0.16304280725312006,-0.04393132579088071,-0.04754263126955392,-0.045515892283027826,-0.04760612513355566,-0.049469781715712244,-0.04853970869525545,-0.036766316417099,-0.028668607864957563],\"yaxis\":\"y\",\"type\":\"scatter\"},{\"alignmentgroup\":\"True\",\"hovertemplate\":\"\\u003cb\\u003e%{hovertext}\\u003c\\u002fb\\u003e\\u003cbr\\u003e\\u003cbr\\u003elabel=DICK\\u003cbr\\u003ePC0=%{x}\\u003cextra\\u003e\\u003c\\u002fextra\\u003e\",\"hovertext\":[\"Beyond Lies the Wub\",\"Beyond Lies the Wub\",\"Beyond Lies the Wub\",\"Beyond Lies the Wub\",\"Beyond Lies the Wub\",\"The Eyes Have It\",\"The Eyes Have It\",\"Second Variety\",\"Second Variety\",\"Second Variety\",\"Second Variety\",\"Second Variety\",\"Second Variety\",\"Second Variety\",\"Second Variety\",\"Second Variety\",\"Second Variety\",\"Second Variety\",\"Second Variety\",\"Second Variety\",\"Second Variety\",\"Second Variety\",\"Second Variety\",\"Second Variety\",\"Second Variety\",\"Second Variety\",\"Second Variety\",\"Second Variety\",\"Second Variety\",\"Second Variety\",\"Second Variety\",\"Second Variety\",\"Second Variety\",\"Second Variety\",\"Second Variety\",\"Second Variety\",\"Second Variety\",\"Second Variety\",\"Second Variety\",\"Second Variety\",\"Second Variety\",\"Second Variety\",\"Second Variety\",\"Second Variety\",\"Second Variety\",\"Second Variety\",\"Second Variety\",\"Second Variety\",\"Second Variety\",\"Second Variety\",\"Second Variety\",\"Second Variety\",\"The Hanging Stranger\",\"The Hanging Stranger\",\"The Hanging Stranger\",\"The Hanging Stranger\",\"The Hanging Stranger\",\"The Hanging Stranger\",\"The Hanging Stranger\",\"The Hanging Stranger\"],\"legendgroup\":\"DICK\",\"marker\":{\"color\":\"#636efa\",\"symbol\":\"circle\"},\"name\":\"DICK\",\"notched\":true,\"offsetgroup\":\"DICK\",\"showlegend\":false,\"x\":[-0.057484763961336734,-0.05683377858225744,-0.048987740576159435,-0.06618829030216103,-0.04664325858338294,-0.057369702611416364,-0.06322085864452111,-0.07834252989214902,-0.07891491218241013,-0.13170557168656283,-0.09431441751073735,-0.058894214224977724,-0.07453748066298706,-0.13743564485298476,-0.1231206760263116,-0.13606746512538193,-0.11299172350948825,-0.1229716836838738,-0.13652641959300926,-0.11299480273920372,-0.12503367309778582,-0.11832383157069376,-0.14662199010470203,-0.12802974443473555,-0.12029053409647916,-0.15212024493570708,-0.14111579437843758,-0.16148013067070993,-0.15042667105229238,-0.1523889043797085,-0.14144916926907994,-0.16264400181430877,-0.14638608487685398,-0.15565744570412166,-0.1666818483707374,-0.14314390862319493,-0.11570082421775948,-0.1660489193279665,-0.15530630548291233,-0.1694631898491886,-0.1610362070695011,-0.1444500282789399,-0.13854432450197035,-0.11932207589823199,-0.15337887990866672,-0.12138314611323495,-0.13169553542788104,-0.1287407976660616,-0.15311755083970938,-0.10480648406775005,-0.1324419844450038,-0.11808686459246617,-0.07103508834719284,-0.07364869467553647,-0.07299501587139019,-0.07377438527288961,-0.07547175173187669,-0.07125908312361187,-0.06695750419880771,-0.061911785770957135],\"xaxis\":\"x2\",\"yaxis\":\"y2\",\"type\":\"box\"},{\"hovertemplate\":\"\\u003cb\\u003e%{hovertext}\\u003c\\u002fb\\u003e\\u003cbr\\u003e\\u003cbr\\u003elabel=LINEBARGER\\u003cbr\\u003ePC0=%{x}\\u003cbr\\u003ePC1=%{y}\\u003cextra\\u003e\\u003c\\u002fextra\\u003e\",\"hovertext\":[\"The Game of Rat and Dragon\",\"The Game of Rat and Dragon\",\"The Game of Rat and Dragon\"],\"legendgroup\":\"LINEBARGER\",\"marker\":{\"color\":\"#EF553B\",\"symbol\":\"circle\"},\"mode\":\"markers\",\"name\":\"LINEBARGER\",\"orientation\":\"v\",\"showlegend\":true,\"x\":[-0.05701012215028048,-0.07187590298353787,-0.07826033763186885],\"xaxis\":\"x\",\"y\":[-0.015953267746019652,-0.031255288084168546,-0.038552922175897036],\"yaxis\":\"y\",\"type\":\"scatter\"},{\"alignmentgroup\":\"True\",\"hovertemplate\":\"\\u003cb\\u003e%{hovertext}\\u003c\\u002fb\\u003e\\u003cbr\\u003e\\u003cbr\\u003elabel=LINEBARGER\\u003cbr\\u003ePC0=%{x}\\u003cextra\\u003e\\u003c\\u002fextra\\u003e\",\"hovertext\":[\"The Game of Rat and Dragon\",\"The Game of Rat and Dragon\",\"The Game of Rat and Dragon\"],\"legendgroup\":\"LINEBARGER\",\"marker\":{\"color\":\"#EF553B\",\"symbol\":\"circle\"},\"name\":\"LINEBARGER\",\"notched\":true,\"offsetgroup\":\"LINEBARGER\",\"showlegend\":false,\"x\":[-0.05701012215028048,-0.07187590298353787,-0.07826033763186885],\"xaxis\":\"x2\",\"yaxis\":\"y2\",\"type\":\"box\"},{\"hovertemplate\":\"\\u003cb\\u003e%{hovertext}\\u003c\\u002fb\\u003e\\u003cbr\\u003e\\u003cbr\\u003elabel=HOWARD\\u003cbr\\u003ePC0=%{x}\\u003cbr\\u003ePC1=%{y}\\u003cextra\\u003e\\u003c\\u002fextra\\u003e\",\"hovertext\":[\"The Hour of the Dragon\",\"The Hour of the Dragon\",\"The Hour of the Dragon\",\"The Hour of the Dragon\",\"The Hour of the Dragon\",\"The Hour of the Dragon\",\"The Hour of the Dragon\",\"The Hour of the Dragon\",\"The Hour of the Dragon\",\"The Hour of the Dragon\",\"The Hour of the Dragon\",\"The Hour of the Dragon\",\"The Hour of the Dragon\",\"The Hour of the Dragon\",\"The Hour of the Dragon\",\"The Hour of the Dragon\",\"The Hour of the Dragon\",\"The Hour of the Dragon\",\"The Hour of the Dragon\",\"The Hour of the Dragon\",\"The Hour of the Dragon\",\"The Hour of the Dragon\"],\"legendgroup\":\"HOWARD\",\"marker\":{\"color\":\"#00cc96\",\"symbol\":\"circle\"},\"mode\":\"markers\",\"name\":\"HOWARD\",\"orientation\":\"v\",\"showlegend\":true,\"x\":[-0.07570128175364199,-0.0784756237786488,-0.07843410892583201,-0.09641458828450389,-0.09872873071794067,-0.09648152979355513,-0.08806418921265807,-0.07862635791357601,-0.09278265698060043,-0.08897050504018562,-0.07220261586078901,-0.07897852417681374,-0.07170126592825786,-0.0740435221493238,-0.06078008897062136,-0.056303944166754945,-0.08086470017406548,-0.10370860934377511,-0.08829054926726279,-0.07597711384050163,-0.07141489019840952,-0.07425109348428613],\"xaxis\":\"x\",\"y\":[-0.04521523384449761,-0.05017741968788301,-0.054266907594692375,-0.06912491951214633,-0.07291201250705798,-0.08036613503419701,-0.07708838809100925,-0.052168488056378255,-0.06838723590109597,-0.06040050810863276,-0.046575468262446,-0.05762564649668311,-0.04933826959111052,-0.05463711371737605,-0.045706008368284916,-0.04445411084453272,-0.059621537109145514,-0.0803560598438969,-0.05821915758943114,-0.047462888735474607,-0.051548952460240466,-0.052984418510677436],\"yaxis\":\"y\",\"type\":\"scatter\"},{\"alignmentgroup\":\"True\",\"hovertemplate\":\"\\u003cb\\u003e%{hovertext}\\u003c\\u002fb\\u003e\\u003cbr\\u003e\\u003cbr\\u003elabel=HOWARD\\u003cbr\\u003ePC0=%{x}\\u003cextra\\u003e\\u003c\\u002fextra\\u003e\",\"hovertext\":[\"The Hour of the Dragon\",\"The Hour of the Dragon\",\"The Hour of the Dragon\",\"The Hour of the Dragon\",\"The Hour of the Dragon\",\"The Hour of the Dragon\",\"The Hour of the Dragon\",\"The Hour of the Dragon\",\"The Hour of the Dragon\",\"The Hour of the Dragon\",\"The Hour of the Dragon\",\"The Hour of the Dragon\",\"The Hour of the Dragon\",\"The Hour of the Dragon\",\"The Hour of the Dragon\",\"The Hour of the Dragon\",\"The Hour of the Dragon\",\"The Hour of the Dragon\",\"The Hour of the Dragon\",\"The Hour of the Dragon\",\"The Hour of the Dragon\",\"The Hour of the Dragon\"],\"legendgroup\":\"HOWARD\",\"marker\":{\"color\":\"#00cc96\",\"symbol\":\"circle\"},\"name\":\"HOWARD\",\"notched\":true,\"offsetgroup\":\"HOWARD\",\"showlegend\":false,\"x\":[-0.07570128175364199,-0.0784756237786488,-0.07843410892583201,-0.09641458828450389,-0.09872873071794067,-0.09648152979355513,-0.08806418921265807,-0.07862635791357601,-0.09278265698060043,-0.08897050504018562,-0.07220261586078901,-0.07897852417681374,-0.07170126592825786,-0.0740435221493238,-0.06078008897062136,-0.056303944166754945,-0.08086470017406548,-0.10370860934377511,-0.08829054926726279,-0.07597711384050163,-0.07141489019840952,-0.07425109348428613],\"xaxis\":\"x2\",\"yaxis\":\"y2\",\"type\":\"box\"},{\"hovertemplate\":\"\\u003cb\\u003e%{hovertext}\\u003c\\u002fb\\u003e\\u003cbr\\u003e\\u003cbr\\u003elabel=KORNBLUTH\\u003cbr\\u003ePC0=%{x}\\u003cbr\\u003ePC1=%{y}\\u003cextra\\u003e\\u003c\\u002fextra\\u003e\",\"hovertext\":[\"The Marching Morons\",\"The Marching Morons\",\"The Marching Morons\",\"The Marching Morons\",\"The Marching Morons\"],\"legendgroup\":\"KORNBLUTH\",\"marker\":{\"color\":\"#ab63fa\",\"symbol\":\"circle\"},\"mode\":\"markers\",\"name\":\"KORNBLUTH\",\"orientation\":\"v\",\"showlegend\":true,\"x\":[-0.05396101090219627,-0.06242127994949724,-0.06516908811196223,-0.06566072015207024,-0.04998207657558789],\"xaxis\":\"x\",\"y\":[-0.028752160929652416,-0.0279399679312219,-0.03488561406091091,-0.026779029406483426,-0.008512444482036243],\"yaxis\":\"y\",\"type\":\"scatter\"},{\"alignmentgroup\":\"True\",\"hovertemplate\":\"\\u003cb\\u003e%{hovertext}\\u003c\\u002fb\\u003e\\u003cbr\\u003e\\u003cbr\\u003elabel=KORNBLUTH\\u003cbr\\u003ePC0=%{x}\\u003cextra\\u003e\\u003c\\u002fextra\\u003e\",\"hovertext\":[\"The Marching Morons\",\"The Marching Morons\",\"The Marching Morons\",\"The Marching Morons\",\"The Marching Morons\"],\"legendgroup\":\"KORNBLUTH\",\"marker\":{\"color\":\"#ab63fa\",\"symbol\":\"circle\"},\"name\":\"KORNBLUTH\",\"notched\":true,\"offsetgroup\":\"KORNBLUTH\",\"showlegend\":false,\"x\":[-0.05396101090219627,-0.06242127994949724,-0.06516908811196223,-0.06566072015207024,-0.04998207657558789],\"xaxis\":\"x2\",\"yaxis\":\"y2\",\"type\":\"box\"}],                        {\"template\":{\"data\":{\"histogram2dcontour\":[{\"type\":\"histogram2dcontour\",\"colorbar\":{\"outlinewidth\":0,\"ticks\":\"\"},\"colorscale\":[[0.0,\"#0d0887\"],[0.1111111111111111,\"#46039f\"],[0.2222222222222222,\"#7201a8\"],[0.3333333333333333,\"#9c179e\"],[0.4444444444444444,\"#bd3786\"],[0.5555555555555556,\"#d8576b\"],[0.6666666666666666,\"#ed7953\"],[0.7777777777777778,\"#fb9f3a\"],[0.8888888888888888,\"#fdca26\"],[1.0,\"#f0f921\"]]}],\"choropleth\":[{\"type\":\"choropleth\",\"colorbar\":{\"outlinewidth\":0,\"ticks\":\"\"}}],\"histogram2d\":[{\"type\":\"histogram2d\",\"colorbar\":{\"outlinewidth\":0,\"ticks\":\"\"},\"colorscale\":[[0.0,\"#0d0887\"],[0.1111111111111111,\"#46039f\"],[0.2222222222222222,\"#7201a8\"],[0.3333333333333333,\"#9c179e\"],[0.4444444444444444,\"#bd3786\"],[0.5555555555555556,\"#d8576b\"],[0.6666666666666666,\"#ed7953\"],[0.7777777777777778,\"#fb9f3a\"],[0.8888888888888888,\"#fdca26\"],[1.0,\"#f0f921\"]]}],\"heatmap\":[{\"type\":\"heatmap\",\"colorbar\":{\"outlinewidth\":0,\"ticks\":\"\"},\"colorscale\":[[0.0,\"#0d0887\"],[0.1111111111111111,\"#46039f\"],[0.2222222222222222,\"#7201a8\"],[0.3333333333333333,\"#9c179e\"],[0.4444444444444444,\"#bd3786\"],[0.5555555555555556,\"#d8576b\"],[0.6666666666666666,\"#ed7953\"],[0.7777777777777778,\"#fb9f3a\"],[0.8888888888888888,\"#fdca26\"],[1.0,\"#f0f921\"]]}],\"heatmapgl\":[{\"type\":\"heatmapgl\",\"colorbar\":{\"outlinewidth\":0,\"ticks\":\"\"},\"colorscale\":[[0.0,\"#0d0887\"],[0.1111111111111111,\"#46039f\"],[0.2222222222222222,\"#7201a8\"],[0.3333333333333333,\"#9c179e\"],[0.4444444444444444,\"#bd3786\"],[0.5555555555555556,\"#d8576b\"],[0.6666666666666666,\"#ed7953\"],[0.7777777777777778,\"#fb9f3a\"],[0.8888888888888888,\"#fdca26\"],[1.0,\"#f0f921\"]]}],\"contourcarpet\":[{\"type\":\"contourcarpet\",\"colorbar\":{\"outlinewidth\":0,\"ticks\":\"\"}}],\"contour\":[{\"type\":\"contour\",\"colorbar\":{\"outlinewidth\":0,\"ticks\":\"\"},\"colorscale\":[[0.0,\"#0d0887\"],[0.1111111111111111,\"#46039f\"],[0.2222222222222222,\"#7201a8\"],[0.3333333333333333,\"#9c179e\"],[0.4444444444444444,\"#bd3786\"],[0.5555555555555556,\"#d8576b\"],[0.6666666666666666,\"#ed7953\"],[0.7777777777777778,\"#fb9f3a\"],[0.8888888888888888,\"#fdca26\"],[1.0,\"#f0f921\"]]}],\"surface\":[{\"type\":\"surface\",\"colorbar\":{\"outlinewidth\":0,\"ticks\":\"\"},\"colorscale\":[[0.0,\"#0d0887\"],[0.1111111111111111,\"#46039f\"],[0.2222222222222222,\"#7201a8\"],[0.3333333333333333,\"#9c179e\"],[0.4444444444444444,\"#bd3786\"],[0.5555555555555556,\"#d8576b\"],[0.6666666666666666,\"#ed7953\"],[0.7777777777777778,\"#fb9f3a\"],[0.8888888888888888,\"#fdca26\"],[1.0,\"#f0f921\"]]}],\"mesh3d\":[{\"type\":\"mesh3d\",\"colorbar\":{\"outlinewidth\":0,\"ticks\":\"\"}}],\"scatter\":[{\"fillpattern\":{\"fillmode\":\"overlay\",\"size\":10,\"solidity\":0.2},\"type\":\"scatter\"}],\"parcoords\":[{\"type\":\"parcoords\",\"line\":{\"colorbar\":{\"outlinewidth\":0,\"ticks\":\"\"}}}],\"scatterpolargl\":[{\"type\":\"scatterpolargl\",\"marker\":{\"colorbar\":{\"outlinewidth\":0,\"ticks\":\"\"}}}],\"bar\":[{\"error_x\":{\"color\":\"#2a3f5f\"},\"error_y\":{\"color\":\"#2a3f5f\"},\"marker\":{\"line\":{\"color\":\"#E5ECF6\",\"width\":0.5},\"pattern\":{\"fillmode\":\"overlay\",\"size\":10,\"solidity\":0.2}},\"type\":\"bar\"}],\"scattergeo\":[{\"type\":\"scattergeo\",\"marker\":{\"colorbar\":{\"outlinewidth\":0,\"ticks\":\"\"}}}],\"scatterpolar\":[{\"type\":\"scatterpolar\",\"marker\":{\"colorbar\":{\"outlinewidth\":0,\"ticks\":\"\"}}}],\"histogram\":[{\"marker\":{\"pattern\":{\"fillmode\":\"overlay\",\"size\":10,\"solidity\":0.2}},\"type\":\"histogram\"}],\"scattergl\":[{\"type\":\"scattergl\",\"marker\":{\"colorbar\":{\"outlinewidth\":0,\"ticks\":\"\"}}}],\"scatter3d\":[{\"type\":\"scatter3d\",\"line\":{\"colorbar\":{\"outlinewidth\":0,\"ticks\":\"\"}},\"marker\":{\"colorbar\":{\"outlinewidth\":0,\"ticks\":\"\"}}}],\"scattermapbox\":[{\"type\":\"scattermapbox\",\"marker\":{\"colorbar\":{\"outlinewidth\":0,\"ticks\":\"\"}}}],\"scatterternary\":[{\"type\":\"scatterternary\",\"marker\":{\"colorbar\":{\"outlinewidth\":0,\"ticks\":\"\"}}}],\"scattercarpet\":[{\"type\":\"scattercarpet\",\"marker\":{\"colorbar\":{\"outlinewidth\":0,\"ticks\":\"\"}}}],\"carpet\":[{\"aaxis\":{\"endlinecolor\":\"#2a3f5f\",\"gridcolor\":\"white\",\"linecolor\":\"white\",\"minorgridcolor\":\"white\",\"startlinecolor\":\"#2a3f5f\"},\"baxis\":{\"endlinecolor\":\"#2a3f5f\",\"gridcolor\":\"white\",\"linecolor\":\"white\",\"minorgridcolor\":\"white\",\"startlinecolor\":\"#2a3f5f\"},\"type\":\"carpet\"}],\"table\":[{\"cells\":{\"fill\":{\"color\":\"#EBF0F8\"},\"line\":{\"color\":\"white\"}},\"header\":{\"fill\":{\"color\":\"#C8D4E3\"},\"line\":{\"color\":\"white\"}},\"type\":\"table\"}],\"barpolar\":[{\"marker\":{\"line\":{\"color\":\"#E5ECF6\",\"width\":0.5},\"pattern\":{\"fillmode\":\"overlay\",\"size\":10,\"solidity\":0.2}},\"type\":\"barpolar\"}],\"pie\":[{\"automargin\":true,\"type\":\"pie\"}]},\"layout\":{\"autotypenumbers\":\"strict\",\"colorway\":[\"#636efa\",\"#EF553B\",\"#00cc96\",\"#ab63fa\",\"#FFA15A\",\"#19d3f3\",\"#FF6692\",\"#B6E880\",\"#FF97FF\",\"#FECB52\"],\"font\":{\"color\":\"#2a3f5f\"},\"hovermode\":\"closest\",\"hoverlabel\":{\"align\":\"left\"},\"paper_bgcolor\":\"white\",\"plot_bgcolor\":\"#E5ECF6\",\"polar\":{\"bgcolor\":\"#E5ECF6\",\"angularaxis\":{\"gridcolor\":\"white\",\"linecolor\":\"white\",\"ticks\":\"\"},\"radialaxis\":{\"gridcolor\":\"white\",\"linecolor\":\"white\",\"ticks\":\"\"}},\"ternary\":{\"bgcolor\":\"#E5ECF6\",\"aaxis\":{\"gridcolor\":\"white\",\"linecolor\":\"white\",\"ticks\":\"\"},\"baxis\":{\"gridcolor\":\"white\",\"linecolor\":\"white\",\"ticks\":\"\"},\"caxis\":{\"gridcolor\":\"white\",\"linecolor\":\"white\",\"ticks\":\"\"}},\"coloraxis\":{\"colorbar\":{\"outlinewidth\":0,\"ticks\":\"\"}},\"colorscale\":{\"sequential\":[[0.0,\"#0d0887\"],[0.1111111111111111,\"#46039f\"],[0.2222222222222222,\"#7201a8\"],[0.3333333333333333,\"#9c179e\"],[0.4444444444444444,\"#bd3786\"],[0.5555555555555556,\"#d8576b\"],[0.6666666666666666,\"#ed7953\"],[0.7777777777777778,\"#fb9f3a\"],[0.8888888888888888,\"#fdca26\"],[1.0,\"#f0f921\"]],\"sequentialminus\":[[0.0,\"#0d0887\"],[0.1111111111111111,\"#46039f\"],[0.2222222222222222,\"#7201a8\"],[0.3333333333333333,\"#9c179e\"],[0.4444444444444444,\"#bd3786\"],[0.5555555555555556,\"#d8576b\"],[0.6666666666666666,\"#ed7953\"],[0.7777777777777778,\"#fb9f3a\"],[0.8888888888888888,\"#fdca26\"],[1.0,\"#f0f921\"]],\"diverging\":[[0,\"#8e0152\"],[0.1,\"#c51b7d\"],[0.2,\"#de77ae\"],[0.3,\"#f1b6da\"],[0.4,\"#fde0ef\"],[0.5,\"#f7f7f7\"],[0.6,\"#e6f5d0\"],[0.7,\"#b8e186\"],[0.8,\"#7fbc41\"],[0.9,\"#4d9221\"],[1,\"#276419\"]]},\"xaxis\":{\"gridcolor\":\"white\",\"linecolor\":\"white\",\"ticks\":\"\",\"title\":{\"standoff\":15},\"zerolinecolor\":\"white\",\"automargin\":true,\"zerolinewidth\":2},\"yaxis\":{\"gridcolor\":\"white\",\"linecolor\":\"white\",\"ticks\":\"\",\"title\":{\"standoff\":15},\"zerolinecolor\":\"white\",\"automargin\":true,\"zerolinewidth\":2},\"scene\":{\"xaxis\":{\"backgroundcolor\":\"#E5ECF6\",\"gridcolor\":\"white\",\"linecolor\":\"white\",\"showbackground\":true,\"ticks\":\"\",\"zerolinecolor\":\"white\",\"gridwidth\":2},\"yaxis\":{\"backgroundcolor\":\"#E5ECF6\",\"gridcolor\":\"white\",\"linecolor\":\"white\",\"showbackground\":true,\"ticks\":\"\",\"zerolinecolor\":\"white\",\"gridwidth\":2},\"zaxis\":{\"backgroundcolor\":\"#E5ECF6\",\"gridcolor\":\"white\",\"linecolor\":\"white\",\"showbackground\":true,\"ticks\":\"\",\"zerolinecolor\":\"white\",\"gridwidth\":2}},\"shapedefaults\":{\"line\":{\"color\":\"#2a3f5f\"}},\"annotationdefaults\":{\"arrowcolor\":\"#2a3f5f\",\"arrowhead\":0,\"arrowwidth\":1},\"geo\":{\"bgcolor\":\"white\",\"landcolor\":\"#E5ECF6\",\"subunitcolor\":\"white\",\"showland\":true,\"showlakes\":true,\"lakecolor\":\"white\"},\"title\":{\"x\":0.05},\"mapbox\":{\"style\":\"light\"}}},\"xaxis\":{\"anchor\":\"y\",\"domain\":[0.0,1.0],\"title\":{\"text\":\"PC0\"}},\"yaxis\":{\"anchor\":\"x\",\"domain\":[0.0,0.7326],\"title\":{\"text\":\"PC1\"}},\"xaxis2\":{\"anchor\":\"y2\",\"domain\":[0.0,1.0],\"matches\":\"x\",\"showticklabels\":false,\"showgrid\":true},\"yaxis2\":{\"anchor\":\"x2\",\"domain\":[0.7426,1.0],\"matches\":\"y2\",\"showticklabels\":false,\"showline\":false,\"ticks\":\"\",\"showgrid\":false},\"legend\":{\"title\":{\"text\":\"label\"},\"tracegroupgap\":0},\"margin\":{\"t\":60}},                        {\"responsive\": true}                    ).then(function(){\n",
              "                            \n",
              "var gd = document.getElementById('64c2838b-ef1b-4227-ab38-a41d42855616');\n",
              "var x = new MutationObserver(function (mutations, observer) {{\n",
              "        var display = window.getComputedStyle(gd).display;\n",
              "        if (!display || display === 'none') {{\n",
              "            console.log([gd, 'removed!']);\n",
              "            Plotly.purge(gd);\n",
              "            observer.disconnect();\n",
              "        }}\n",
              "}});\n",
              "\n",
              "// Listen for the removal of the full notebook cells\n",
              "var notebookContainer = gd.closest('#notebook-container');\n",
              "if (notebookContainer) {{\n",
              "    x.observe(notebookContainer, {childList: true});\n",
              "}}\n",
              "\n",
              "// Listen for the clearing of the current output cell\n",
              "var outputEl = gd.closest('.output');\n",
              "if (outputEl) {{\n",
              "    x.observe(outputEl, {childList: true});\n",
              "}}\n",
              "\n",
              "                        })                };                            </script>        </div>\n",
              "</body>\n",
              "</html>"
            ]
          },
          "metadata": {}
        }
      ],
      "source": [
        "vis_pcs(DCM_sk_c, 0, 1)"
      ]
    },
    {
      "cell_type": "markdown",
      "metadata": {
        "id": "VBfuf24jn7KL"
      },
      "source": [
        "## Books, PC 0 and 1"
      ]
    },
    {
      "cell_type": "code",
      "execution_count": null,
      "metadata": {
        "id": "jzOMgEdDn7KL"
      },
      "outputs": [],
      "source": [
        "#vis_pcs(DCM_sk_b, 0, 1)"
      ]
    },
    {
      "cell_type": "code",
      "execution_count": null,
      "metadata": {
        "id": "JSfpIaAen7KL"
      },
      "outputs": [],
      "source": [
        "#px.scatter_3d(DCM_sk_b, 'PC0', 'PC1','PC2', color='label', hover_name='title', height=1000, width=1200)"
      ]
    },
    {
      "cell_type": "markdown",
      "metadata": {
        "id": "lbFEY8Ern7KM"
      },
      "source": [
        "## Show Loadings"
      ]
    },
    {
      "cell_type": "code",
      "execution_count": null,
      "metadata": {
        "id": "O7GiQJCBn7KM"
      },
      "outputs": [],
      "source": [
        "#LOADINGS_sk = pd.DataFrame(pca_engine.components_.T * np.sqrt(pca_engine.explained_variance_))\n",
        "#LOADINGS_sk.columns = [\"PC{}\".format(i) for i in LOADINGS_sk.columns]"
      ]
    },
    {
      "cell_type": "code",
      "execution_count": null,
      "metadata": {
        "id": "VL-ccHhLn7KM"
      },
      "outputs": [],
      "source": [
        "#LOADINGS_sk.index = TFIDF_b.columns\n",
        "#LOADINGS_sk.index.name = 'term_id'\n",
        "#LOADINGS_sk['term_str'] = LOADINGS_sk.apply(lambda x: VOCAB.loc[int(x.name)].term_str, 1)"
      ]
    },
    {
      "cell_type": "code",
      "execution_count": null,
      "metadata": {
        "id": "1_BsTo-vn7KM"
      },
      "outputs": [],
      "source": [
        "#pc0_pos = LOADINGS_sk.sort_values('PC0', ascending=False).head(10).term_str.str.cat(sep=' ')\n",
        "#pc0_neg = LOADINGS_sk.sort_values('PC0', ascending=True).head(10).term_str.str.cat(sep=' ')\n",
        "#pc1_pos = LOADINGS_sk.sort_values('PC1', ascending=False).head(10).term_str.str.cat(sep=' ')\n",
        "#pc1_neg = LOADINGS_sk.sort_values('PC1', ascending=True).head(10).term_str.str.cat(sep=' ')"
      ]
    },
    {
      "cell_type": "code",
      "execution_count": null,
      "metadata": {
        "id": "mxAls1bSn7KM"
      },
      "outputs": [],
      "source": [
        "#print('BOOKS PC0+', pc0_pos)\n",
        "#print('BOOKS PC0-', pc0_neg)\n",
        "#print('BOOKS PC1+', pc1_pos)\n",
        "#print('BOOKS PC1-', pc1_neg)"
      ]
    },
    {
      "cell_type": "markdown",
      "metadata": {
        "id": "IW-xi2vJn7KM"
      },
      "source": [
        "# SAVE"
      ]
    },
    {
      "cell_type": "code",
      "execution_count": null,
      "metadata": {
        "id": "i3f5kp1Hn7KM"
      },
      "outputs": [],
      "source": [
        "DCM_c.to_csv(input_dir+'PCA_DCM_chaps.csv')\n",
        "TOPS_c.to_csv(input_dir+'PCA_TCM_chaps.csv')\n",
        "#DCM_b.to_csv(input_dir+'PCA_DCM_books.csv')\n",
        "#TOPS_b.to_csv(input_dir+'PCA_TCM_books.csv')"
      ]
    },
    {
      "cell_type": "code",
      "execution_count": null,
      "metadata": {
        "id": "ANRynetmn7KM",
        "colab": {
          "base_uri": "https://localhost:8080/"
        },
        "outputId": "80b823db-e1e2-4113-b98b-1c095d0f5d08"
      },
      "outputs": [
        {
          "output_type": "stream",
          "name": "stdout",
          "text": [
            "Current Time is: 20:07:32\n"
          ]
        }
      ],
      "source": [
        "# storing the current time in the variable\n",
        "c = datetime.now()\n",
        "\n",
        "# Displays Time\n",
        "current_time = c.strftime('%H:%M:%S')\n",
        "print('Current Time is:', current_time)"
      ]
    },
    {
      "cell_type": "code",
      "execution_count": null,
      "metadata": {
        "id": "icl4bsTJn7KN"
      },
      "outputs": [],
      "source": []
    },
    {
      "cell_type": "code",
      "execution_count": null,
      "metadata": {
        "id": "zTb3H87fn7KN"
      },
      "outputs": [],
      "source": []
    },
    {
      "cell_type": "code",
      "execution_count": null,
      "metadata": {
        "id": "dpdGTEewn7KN"
      },
      "outputs": [],
      "source": []
    }
  ],
  "metadata": {
    "kernelspec": {
      "display_name": "Python 3",
      "name": "python3"
    },
    "language_info": {
      "codemirror_mode": {
        "name": "ipython",
        "version": 3
      },
      "file_extension": ".py",
      "mimetype": "text/x-python",
      "name": "python",
      "nbconvert_exporter": "python",
      "pygments_lexer": "ipython3",
      "version": "3.9.7"
    },
    "colab": {
      "provenance": [],
      "machine_shape": "hm",
      "gpuType": "A100",
      "include_colab_link": true
    },
    "accelerator": "GPU"
  },
  "nbformat": 4,
  "nbformat_minor": 0
}